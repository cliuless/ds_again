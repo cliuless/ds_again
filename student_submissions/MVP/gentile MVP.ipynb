{
 "cells": [
  {
   "cell_type": "markdown",
   "metadata": {},
   "source": [
    "# OBJECTIVE:    \n",
    "predict the domestic gross of a movie\n"
   ]
  },
  {
   "cell_type": "markdown",
   "metadata": {},
   "source": [
    "## SOURCES:    \n",
    "* boxmojo: general info   \n",
    "* The numbers: financials\n",
    "* Awards web page: for nominations and oscars prizes"
   ]
  },
  {
   "cell_type": "markdown",
   "metadata": {},
   "source": [
    "## FEATURES:\n",
    "* adjusted budget \n",
    "* geners\n",
    "* distributor\n",
    "* rating\n",
    "* run-time"
   ]
  },
  {
   "cell_type": "markdown",
   "metadata": {},
   "source": [
    "## ENGINEREED FEATURES   \n",
    "### Celebrity level of director:\n",
    "* number of movies directed\n",
    "* average gross of previous movies\n",
    "* number of nominations received\n",
    "* number of oscar prizes won\n",
    "    \n",
    "### Celebrity level of actors:\n",
    "* average number of previous movies of the cast\n",
    "* weighted average of domestic gross of the cast\n",
    "* weighted average of intenational gross of the cast\n",
    "* number of nominations received\n",
    "* number of oscar prizes won\n",
    "\n",
    "### Polynomial\n",
    "* Interaction with the adjusted budget"
   ]
  },
  {
   "cell_type": "markdown",
   "metadata": {
    "collapsed": true
   },
   "source": [
    "After having merges 3 different sources, I have cleaned and normalized the data.    \n",
    "A first base case (domestic gross (adj) vs budget (adj) gave  to me a score of 0.27.    \n",
    "Starting from there, I added new features to improve the perfromance of the model and its predicting power.   \n",
    "Particularly promising are the enginered features that allowed to me to improve the cscore up to 0.57, twice the base case.\n",
    "To further improve the model, I am adding up interaction terms. And I am also trying different transformations of the features to make them a bit more normal shaped. This may have a big impact as you can notice by looking at the differnece between the two below figures, one representing the domestic gross (adj) vs budget (adj)  and the other is the same representation in a log-log plane. As you can observe, in the second figure there seems to be clearer linear relationship"
   ]
  },
  {
   "cell_type": "code",
   "execution_count": null,
   "metadata": {
    "collapsed": true
   },
   "outputs": [],
   "source": []
  }
 ],
 "metadata": {
  "kernelspec": {
   "display_name": "Python 3",
   "language": "python",
   "name": "python3"
  },
  "language_info": {
   "codemirror_mode": {
    "name": "ipython",
    "version": 3
   },
   "file_extension": ".py",
   "mimetype": "text/x-python",
   "name": "python",
   "nbconvert_exporter": "python",
   "pygments_lexer": "ipython3",
   "version": "3.6.1"
  }
 },
 "nbformat": 4,
 "nbformat_minor": 2
}
