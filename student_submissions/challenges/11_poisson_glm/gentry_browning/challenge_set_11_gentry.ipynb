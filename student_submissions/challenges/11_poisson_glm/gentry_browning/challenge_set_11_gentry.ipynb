{
 "cells": [
  {
   "cell_type": "markdown",
   "metadata": {},
   "source": [
    "Topic:        Challenge Set 11\n",
    "\n",
    "Subject:      Poisson GLM\n",
    "\n",
    "Date:         02/19/2018\n",
    "\n",
    "Name:         Browning Gentry "
   ]
  },
  {
   "cell_type": "code",
   "execution_count": 14,
   "metadata": {
    "ExecuteTime": {
     "end_time": "2018-02-18T20:43:09.526674Z",
     "start_time": "2018-02-18T20:43:09.459605Z"
    },
    "collapsed": true
   },
   "outputs": [],
   "source": [
    "import pandas as pd\n",
    "import numpy as np\n",
    "import matplotlib.pyplot as plt\n",
    "import seaborn as sns\n",
    "\n",
    "%matplotlib inline"
   ]
  },
  {
   "cell_type": "markdown",
   "metadata": {},
   "source": [
    "# Challenge 1"
   ]
  },
  {
   "cell_type": "code",
   "execution_count": 42,
   "metadata": {
    "ExecuteTime": {
     "end_time": "2018-02-18T20:52:47.675261Z",
     "start_time": "2018-02-18T20:52:47.596409Z"
    }
   },
   "outputs": [
    {
     "name": "stderr",
     "output_type": "stream",
     "text": [
      "/Users/bgentry/anaconda/lib/python3.6/site-packages/pandas/io/stata.py:1435: UserWarning: 'data' is deprecated, use 'read' instead\n",
      "  warnings.warn(\"'data' is deprecated, use 'read' instead\")\n"
     ]
    }
   ],
   "source": [
    "from pandas.io.stata import StataReader\n",
    "reader = StataReader('ships.dta')\n",
    "df = reader.data()\n",
    "\n",
    "import statsmodels.api as smf\n",
    "from patsy import dmatrices"
   ]
  },
  {
   "cell_type": "code",
   "execution_count": 43,
   "metadata": {
    "ExecuteTime": {
     "end_time": "2018-02-18T20:52:47.941522Z",
     "start_time": "2018-02-18T20:52:47.917250Z"
    }
   },
   "outputs": [],
   "source": [
    "dummies = ['type','construction','operation']\n",
    "df = pd.get_dummies(df, columns = dummies, drop_first=True)\n",
    "\n",
    "mid = df['damage']\n",
    "df.drop(labels=['damage'], axis=1,inplace = True)\n",
    "df.insert(0, 'damage', mid)\n",
    "\n",
    "\n",
    "df = df.rename(columns={'construction_1965-70': 'constr_A', 'construction_1970-74': 'constr_B',\n",
    "                       'construction_1975-79': 'constr_C', 'operation_1975-79': 'oper_A'})"
   ]
  },
  {
   "cell_type": "code",
   "execution_count": 44,
   "metadata": {
    "ExecuteTime": {
     "end_time": "2018-02-18T20:52:48.303248Z",
     "start_time": "2018-02-18T20:52:48.275602Z"
    }
   },
   "outputs": [
    {
     "data": {
      "text/html": [
       "<div>\n",
       "<style scoped>\n",
       "    .dataframe tbody tr th:only-of-type {\n",
       "        vertical-align: middle;\n",
       "    }\n",
       "\n",
       "    .dataframe tbody tr th {\n",
       "        vertical-align: top;\n",
       "    }\n",
       "\n",
       "    .dataframe thead th {\n",
       "        text-align: right;\n",
       "    }\n",
       "</style>\n",
       "<table border=\"1\" class=\"dataframe\">\n",
       "  <thead>\n",
       "    <tr style=\"text-align: right;\">\n",
       "      <th></th>\n",
       "      <th>damage</th>\n",
       "      <th>months</th>\n",
       "      <th>type_B</th>\n",
       "      <th>type_C</th>\n",
       "      <th>type_D</th>\n",
       "      <th>type_E</th>\n",
       "      <th>constr_A</th>\n",
       "      <th>constr_B</th>\n",
       "      <th>constr_C</th>\n",
       "      <th>oper_A</th>\n",
       "    </tr>\n",
       "  </thead>\n",
       "  <tbody>\n",
       "    <tr>\n",
       "      <th>0</th>\n",
       "      <td>0.0</td>\n",
       "      <td>127.0</td>\n",
       "      <td>0</td>\n",
       "      <td>0</td>\n",
       "      <td>0</td>\n",
       "      <td>0</td>\n",
       "      <td>0</td>\n",
       "      <td>0</td>\n",
       "      <td>0</td>\n",
       "      <td>0</td>\n",
       "    </tr>\n",
       "    <tr>\n",
       "      <th>1</th>\n",
       "      <td>0.0</td>\n",
       "      <td>63.0</td>\n",
       "      <td>0</td>\n",
       "      <td>0</td>\n",
       "      <td>0</td>\n",
       "      <td>0</td>\n",
       "      <td>0</td>\n",
       "      <td>0</td>\n",
       "      <td>0</td>\n",
       "      <td>1</td>\n",
       "    </tr>\n",
       "    <tr>\n",
       "      <th>2</th>\n",
       "      <td>3.0</td>\n",
       "      <td>1095.0</td>\n",
       "      <td>0</td>\n",
       "      <td>0</td>\n",
       "      <td>0</td>\n",
       "      <td>0</td>\n",
       "      <td>1</td>\n",
       "      <td>0</td>\n",
       "      <td>0</td>\n",
       "      <td>0</td>\n",
       "    </tr>\n",
       "    <tr>\n",
       "      <th>3</th>\n",
       "      <td>4.0</td>\n",
       "      <td>1095.0</td>\n",
       "      <td>0</td>\n",
       "      <td>0</td>\n",
       "      <td>0</td>\n",
       "      <td>0</td>\n",
       "      <td>1</td>\n",
       "      <td>0</td>\n",
       "      <td>0</td>\n",
       "      <td>1</td>\n",
       "    </tr>\n",
       "    <tr>\n",
       "      <th>4</th>\n",
       "      <td>6.0</td>\n",
       "      <td>1512.0</td>\n",
       "      <td>0</td>\n",
       "      <td>0</td>\n",
       "      <td>0</td>\n",
       "      <td>0</td>\n",
       "      <td>0</td>\n",
       "      <td>1</td>\n",
       "      <td>0</td>\n",
       "      <td>0</td>\n",
       "    </tr>\n",
       "  </tbody>\n",
       "</table>\n",
       "</div>"
      ],
      "text/plain": [
       "   damage  months  type_B  type_C  type_D  type_E  constr_A  constr_B  \\\n",
       "0     0.0   127.0       0       0       0       0         0         0   \n",
       "1     0.0    63.0       0       0       0       0         0         0   \n",
       "2     3.0  1095.0       0       0       0       0         1         0   \n",
       "3     4.0  1095.0       0       0       0       0         1         0   \n",
       "4     6.0  1512.0       0       0       0       0         0         1   \n",
       "\n",
       "   constr_C  oper_A  \n",
       "0         0       0  \n",
       "1         0       1  \n",
       "2         0       0  \n",
       "3         0       1  \n",
       "4         0       0  "
      ]
     },
     "execution_count": 44,
     "metadata": {},
     "output_type": "execute_result"
    }
   ],
   "source": [
    "df.head()"
   ]
  },
  {
   "cell_type": "code",
   "execution_count": 46,
   "metadata": {
    "ExecuteTime": {
     "end_time": "2018-02-18T20:52:49.073518Z",
     "start_time": "2018-02-18T20:52:49.044789Z"
    }
   },
   "outputs": [],
   "source": [
    "Y,X = dmatrices('damage ~ months + type_B + type_C + type_D + type_E + '\n",
    "                   'constr_A + constr_B + constr_C + '\n",
    "                   'oper_A', data=df, return_type='dataframe')"
   ]
  },
  {
   "cell_type": "code",
   "execution_count": 47,
   "metadata": {
    "ExecuteTime": {
     "end_time": "2018-02-18T20:52:49.660652Z",
     "start_time": "2018-02-18T20:52:49.615812Z"
    },
    "run_control": {
     "marked": false
    }
   },
   "outputs": [
    {
     "name": "stdout",
     "output_type": "stream",
     "text": [
      "                 Generalized Linear Model Regression Results                  \n",
      "==============================================================================\n",
      "Dep. Variable:                 damage   No. Observations:                   34\n",
      "Model:                            GLM   Df Residuals:                       24\n",
      "Model Family:                 Poisson   Df Model:                            9\n",
      "Link Function:                    log   Scale:                             1.0\n",
      "Method:                          IRLS   Log-Likelihood:                -84.182\n",
      "Date:                Sun, 18 Feb 2018   Deviance:                       70.498\n",
      "Time:                        15:52:49   Pearson chi2:                     65.8\n",
      "No. Iterations:                     6                                         \n",
      "==============================================================================\n",
      "                 coef    std err          z      P>|z|      [0.025      0.975]\n",
      "------------------------------------------------------------------------------\n",
      "Intercept      0.1786      0.277      0.645      0.519      -0.364       0.722\n",
      "months      6.697e-05   8.52e-06      7.857      0.000    5.03e-05    8.37e-05\n",
      "type_B         0.6701      0.217      3.085      0.002       0.244       1.096\n",
      "type_C        -1.1916      0.328     -3.638      0.000      -1.833      -0.550\n",
      "type_D        -0.8294      0.288     -2.883      0.004      -1.393      -0.266\n",
      "type_E        -0.1493      0.235     -0.636      0.525      -0.610       0.311\n",
      "constr_A       1.0873      0.179      6.067      0.000       0.736       1.439\n",
      "constr_B       1.4998      0.225      6.673      0.000       1.059       1.940\n",
      "constr_C       0.8545      0.276      3.097      0.002       0.314       1.395\n",
      "oper_A         0.7284      0.136      5.369      0.000       0.462       0.994\n",
      "==============================================================================\n"
     ]
    }
   ],
   "source": [
    "# Data \n",
    "pois_m=smf.GLM(Y,X, family=smf.families.Poisson(smf.families.links.log))\n",
    "# Fitting our model using Maximum likelihood\n",
    "pois_results=pois_m.fit()\n",
    "\n",
    "print (pois_results.summary())"
   ]
  },
  {
   "cell_type": "markdown",
   "metadata": {},
   "source": [
    "# Challenge 2"
   ]
  },
  {
   "cell_type": "code",
   "execution_count": 49,
   "metadata": {
    "ExecuteTime": {
     "end_time": "2018-02-18T21:01:30.415844Z",
     "start_time": "2018-02-18T21:01:30.345290Z"
    }
   },
   "outputs": [],
   "source": [
    "Y,X = dmatrices('damage ~ type_B + type_C + type_D + type_E + '\n",
    "                   'constr_A + constr_B + constr_C + '\n",
    "                   'oper_A', data=df, return_type='dataframe')"
   ]
  },
  {
   "cell_type": "code",
   "execution_count": 53,
   "metadata": {
    "ExecuteTime": {
     "end_time": "2018-02-18T21:02:42.790375Z",
     "start_time": "2018-02-18T21:02:42.741757Z"
    }
   },
   "outputs": [
    {
     "name": "stdout",
     "output_type": "stream",
     "text": [
      "                 Generalized Linear Model Regression Results                  \n",
      "==============================================================================\n",
      "Dep. Variable:                 damage   No. Observations:                   34\n",
      "Model:                            GLM   Df Residuals:                       25\n",
      "Model Family:                 Poisson   Df Model:                            8\n",
      "Link Function:                    log   Scale:                             1.0\n",
      "Method:                          IRLS   Log-Likelihood:                -68.281\n",
      "Date:                Sun, 18 Feb 2018   Deviance:                       38.695\n",
      "Time:                        16:02:42   Pearson chi2:                     42.3\n",
      "No. Iterations:                     6                                         \n",
      "==============================================================================\n",
      "                 coef    std err          z      P>|z|      [0.025      0.975]\n",
      "------------------------------------------------------------------------------\n",
      "Intercept     -6.4059      0.217    -29.460      0.000      -6.832      -5.980\n",
      "type_B        -0.5433      0.178     -3.060      0.002      -0.891      -0.195\n",
      "type_C        -0.6874      0.329     -2.089      0.037      -1.332      -0.042\n",
      "type_D        -0.0760      0.291     -0.261      0.794      -0.645       0.494\n",
      "type_E         0.3256      0.236      1.380      0.168      -0.137       0.788\n",
      "constr_A       0.6971      0.150      4.659      0.000       0.404       0.990\n",
      "constr_B       0.8184      0.170      4.821      0.000       0.486       1.151\n",
      "constr_C       0.4534      0.233      1.945      0.052      -0.004       0.910\n",
      "oper_A         0.3845      0.118      3.251      0.001       0.153       0.616\n",
      "==============================================================================\n"
     ]
    }
   ],
   "source": [
    "# Data \n",
    "pois_m=smf.GLM(Y,X, data=df, offset = np.log(df['months']),family=smf.families.Poisson(smf.families.links.log))\n",
    "# Fitting our model using Maximum likelihood\n",
    "pois_results=pois_m.fit()\n",
    "\n",
    "print (pois_results.summary())"
   ]
  },
  {
   "cell_type": "markdown",
   "metadata": {},
   "source": [
    "# Challenge 3"
   ]
  },
  {
   "cell_type": "code",
   "execution_count": 94,
   "metadata": {
    "ExecuteTime": {
     "end_time": "2018-02-18T21:20:50.619117Z",
     "start_time": "2018-02-18T21:20:50.538796Z"
    }
   },
   "outputs": [
    {
     "name": "stdout",
     "output_type": "stream",
     "text": [
      "                 Generalized Linear Model Regression Results                  \n",
      "==============================================================================\n",
      "Dep. Variable:                 damage   No. Observations:                   25\n",
      "Model:                            GLM   Df Residuals:                       16\n",
      "Model Family:                 Poisson   Df Model:                            8\n",
      "Link Function:                    log   Scale:                             1.0\n",
      "Method:                          IRLS   Log-Likelihood:                -43.873\n",
      "Date:                Sun, 18 Feb 2018   Deviance:                       17.442\n",
      "Time:                        16:20:50   Pearson chi2:                     20.9\n",
      "No. Iterations:                    23                                         \n",
      "==============================================================================\n",
      "                 coef    std err          z      P>|z|      [0.025      0.975]\n",
      "------------------------------------------------------------------------------\n",
      "Intercept     -6.3486      0.324    -19.590      0.000      -6.984      -5.713\n",
      "months     -3.275e-06   9.29e-06     -0.353      0.724   -2.15e-05    1.49e-05\n",
      "type_B        -0.4640      0.209     -2.220      0.026      -0.874      -0.054\n",
      "type_C        -0.6682      0.333     -2.008      0.045      -1.320      -0.016\n",
      "type_D       -20.6502   1.17e+04     -0.002      0.999   -2.29e+04    2.29e+04\n",
      "type_E      2.437e-11   1.38e-08      0.002      0.999    -2.7e-08    2.71e-08\n",
      "constr_A       0.6132      0.175      3.507      0.000       0.271       0.956\n",
      "constr_B       0.7614      0.240      3.171      0.002       0.291       1.232\n",
      "constr_C       0.5875      0.295      1.994      0.046       0.010       1.165\n",
      "oper_A         0.3465      0.152      2.273      0.023       0.048       0.645\n",
      "==============================================================================\n"
     ]
    }
   ],
   "source": [
    "Y,X = dmatrices('damage ~ months + type_B + type_C + type_D + type_E + '\n",
    "                   'constr_A + constr_B + constr_C + '\n",
    "                   'oper_A', data=df, return_type='dataframe')\n",
    "\n",
    "# Data \n",
    "pois_m=smf.GLM(Y[:25],X[:25],offset = np.log(df['months'][:25]),family=smf.families.Poisson(smf.families.links.log))\n",
    "# Fitting our model using Maximum likelihood\n",
    "pois_results=pois_m.fit()\n",
    "preds = pois_results.predict(X[25:])\n",
    "print(pois_results.summary())"
   ]
  },
  {
   "cell_type": "code",
   "execution_count": 95,
   "metadata": {
    "ExecuteTime": {
     "end_time": "2018-02-18T21:20:53.590203Z",
     "start_time": "2018-02-18T21:20:53.580427Z"
    }
   },
   "outputs": [
    {
     "name": "stdout",
     "output_type": "stream",
     "text": [
      "RMSE: 2.59594512892\n"
     ]
    }
   ],
   "source": [
    "from sklearn.metrics import mean_squared_error\n",
    "print('RMSE: ' + str(mean_squared_error(Y[25:],preds)**.25))"
   ]
  },
  {
   "cell_type": "markdown",
   "metadata": {},
   "source": [
    "# Challenge 4"
   ]
  },
  {
   "cell_type": "code",
   "execution_count": 98,
   "metadata": {
    "ExecuteTime": {
     "end_time": "2018-02-18T21:21:28.972520Z",
     "start_time": "2018-02-18T21:21:28.950363Z"
    }
   },
   "outputs": [],
   "source": [
    "df['intercept'] = 1\n",
    "Y,X = dmatrices('damage ~ intercept', data=df, return_type='dataframe')"
   ]
  },
  {
   "cell_type": "code",
   "execution_count": 99,
   "metadata": {
    "ExecuteTime": {
     "end_time": "2018-02-18T21:21:29.347559Z",
     "start_time": "2018-02-18T21:21:29.325586Z"
    }
   },
   "outputs": [
    {
     "name": "stdout",
     "output_type": "stream",
     "text": [
      "                 Generalized Linear Model Regression Results                  \n",
      "==============================================================================\n",
      "Dep. Variable:                 damage   No. Observations:                   25\n",
      "Model:                            GLM   Df Residuals:                       24\n",
      "Model Family:                 Poisson   Df Model:                            0\n",
      "Link Function:                    log   Scale:                             1.0\n",
      "Method:                          IRLS   Log-Likelihood:                -310.15\n",
      "Date:                Sun, 18 Feb 2018   Deviance:                       549.99\n",
      "Time:                        16:21:29   Pearson chi2:                     629.\n",
      "No. Iterations:                     5                                         \n",
      "==============================================================================\n",
      "                 coef    std err          z      P>|z|      [0.025      0.975]\n",
      "------------------------------------------------------------------------------\n",
      "Intercept      1.2540      0.029     43.943      0.000       1.198       1.310\n",
      "intercept      1.2540      0.029     43.943      0.000       1.198       1.310\n",
      "==============================================================================\n"
     ]
    }
   ],
   "source": [
    "pois_m=smf.GLM(Y[:25], X[:25], family=smf.families.Poisson(smf.families.links.log))\n",
    "# Fitting our model using Maximum likelihood\n",
    "pois_results=pois_m.fit()\n",
    "\n",
    "print (pois_results.summary())"
   ]
  },
  {
   "cell_type": "code",
   "execution_count": 100,
   "metadata": {
    "ExecuteTime": {
     "end_time": "2018-02-18T21:21:39.255869Z",
     "start_time": "2018-02-18T21:21:39.250779Z"
    }
   },
   "outputs": [
    {
     "name": "stdout",
     "output_type": "stream",
     "text": [
      "Deviance - Null Deviance = -532.548\n"
     ]
    }
   ],
   "source": [
    "print('Deviance - Null Deviance = ' + str(17.442 - 549.99))"
   ]
  },
  {
   "cell_type": "code",
   "execution_count": 103,
   "metadata": {
    "ExecuteTime": {
     "end_time": "2018-02-18T21:22:44.512095Z",
     "start_time": "2018-02-18T21:22:44.463884Z"
    },
    "run_control": {
     "marked": false
    }
   },
   "outputs": [
    {
     "name": "stderr",
     "output_type": "stream",
     "text": [
      "/Users/bgentry/anaconda/lib/python3.6/site-packages/ipykernel_launcher.py:2: DeprecationWarning: `chisqprob` is deprecated!\n",
      "stats.chisqprob is deprecated in scipy 0.17.0; use stats.distributions.chi2.sf instead.\n",
      "  \n"
     ]
    },
    {
     "data": {
      "text/plain": [
       "array([  1.63123985e-004,   3.72553758e-120])"
      ]
     },
     "execution_count": 103,
     "metadata": {},
     "output_type": "execute_result"
    }
   ],
   "source": [
    "from scipy.stats import chisqprob\n",
    "chisqprob([17.442, 549.99], df=2)"
   ]
  },
  {
   "cell_type": "code",
   "execution_count": 104,
   "metadata": {
    "ExecuteTime": {
     "end_time": "2018-02-18T21:24:18.777837Z",
     "start_time": "2018-02-18T21:24:18.709418Z"
    }
   },
   "outputs": [
    {
     "data": {
      "text/html": [
       "<div>\n",
       "<style scoped>\n",
       "    .dataframe tbody tr th:only-of-type {\n",
       "        vertical-align: middle;\n",
       "    }\n",
       "\n",
       "    .dataframe tbody tr th {\n",
       "        vertical-align: top;\n",
       "    }\n",
       "\n",
       "    .dataframe thead th {\n",
       "        text-align: right;\n",
       "    }\n",
       "</style>\n",
       "<table border=\"1\" class=\"dataframe\">\n",
       "  <thead>\n",
       "    <tr style=\"text-align: right;\">\n",
       "      <th></th>\n",
       "      <th>damage</th>\n",
       "      <th>months</th>\n",
       "      <th>type_B</th>\n",
       "      <th>type_C</th>\n",
       "      <th>type_D</th>\n",
       "      <th>type_E</th>\n",
       "      <th>constr_A</th>\n",
       "      <th>constr_B</th>\n",
       "      <th>constr_C</th>\n",
       "      <th>oper_A</th>\n",
       "      <th>intercept</th>\n",
       "    </tr>\n",
       "  </thead>\n",
       "  <tbody>\n",
       "    <tr>\n",
       "      <th>0</th>\n",
       "      <td>0.0</td>\n",
       "      <td>127.0</td>\n",
       "      <td>0</td>\n",
       "      <td>0</td>\n",
       "      <td>0</td>\n",
       "      <td>0</td>\n",
       "      <td>0</td>\n",
       "      <td>0</td>\n",
       "      <td>0</td>\n",
       "      <td>0</td>\n",
       "      <td>1</td>\n",
       "    </tr>\n",
       "    <tr>\n",
       "      <th>1</th>\n",
       "      <td>0.0</td>\n",
       "      <td>63.0</td>\n",
       "      <td>0</td>\n",
       "      <td>0</td>\n",
       "      <td>0</td>\n",
       "      <td>0</td>\n",
       "      <td>0</td>\n",
       "      <td>0</td>\n",
       "      <td>0</td>\n",
       "      <td>1</td>\n",
       "      <td>1</td>\n",
       "    </tr>\n",
       "    <tr>\n",
       "      <th>2</th>\n",
       "      <td>3.0</td>\n",
       "      <td>1095.0</td>\n",
       "      <td>0</td>\n",
       "      <td>0</td>\n",
       "      <td>0</td>\n",
       "      <td>0</td>\n",
       "      <td>1</td>\n",
       "      <td>0</td>\n",
       "      <td>0</td>\n",
       "      <td>0</td>\n",
       "      <td>1</td>\n",
       "    </tr>\n",
       "    <tr>\n",
       "      <th>3</th>\n",
       "      <td>4.0</td>\n",
       "      <td>1095.0</td>\n",
       "      <td>0</td>\n",
       "      <td>0</td>\n",
       "      <td>0</td>\n",
       "      <td>0</td>\n",
       "      <td>1</td>\n",
       "      <td>0</td>\n",
       "      <td>0</td>\n",
       "      <td>1</td>\n",
       "      <td>1</td>\n",
       "    </tr>\n",
       "    <tr>\n",
       "      <th>4</th>\n",
       "      <td>6.0</td>\n",
       "      <td>1512.0</td>\n",
       "      <td>0</td>\n",
       "      <td>0</td>\n",
       "      <td>0</td>\n",
       "      <td>0</td>\n",
       "      <td>0</td>\n",
       "      <td>1</td>\n",
       "      <td>0</td>\n",
       "      <td>0</td>\n",
       "      <td>1</td>\n",
       "    </tr>\n",
       "  </tbody>\n",
       "</table>\n",
       "</div>"
      ],
      "text/plain": [
       "   damage  months  type_B  type_C  type_D  type_E  constr_A  constr_B  \\\n",
       "0     0.0   127.0       0       0       0       0         0         0   \n",
       "1     0.0    63.0       0       0       0       0         0         0   \n",
       "2     3.0  1095.0       0       0       0       0         1         0   \n",
       "3     4.0  1095.0       0       0       0       0         1         0   \n",
       "4     6.0  1512.0       0       0       0       0         0         1   \n",
       "\n",
       "   constr_C  oper_A  intercept  \n",
       "0         0       0          1  \n",
       "1         0       1          1  \n",
       "2         0       0          1  \n",
       "3         0       1          1  \n",
       "4         0       0          1  "
      ]
     },
     "execution_count": 104,
     "metadata": {},
     "output_type": "execute_result"
    }
   ],
   "source": [
    "df.head()"
   ]
  },
  {
   "cell_type": "markdown",
   "metadata": {},
   "source": [
    "# Challenge 5"
   ]
  },
  {
   "cell_type": "code",
   "execution_count": 114,
   "metadata": {
    "ExecuteTime": {
     "end_time": "2018-02-18T21:26:04.102447Z",
     "start_time": "2018-02-18T21:26:04.089346Z"
    }
   },
   "outputs": [],
   "source": [
    "from sklearn.linear_model import LinearRegression\n",
    "\n",
    "X = df.iloc[:,1:10]\n",
    "y = np.log(df.iloc[:,0]+.001)\n",
    "\n",
    "lr = LinearRegression()\n",
    "lr.fit(X[:25],y[:25])\n",
    "preds = lr.predict(X[25:])"
   ]
  },
  {
   "cell_type": "code",
   "execution_count": 116,
   "metadata": {
    "ExecuteTime": {
     "end_time": "2018-02-18T21:26:29.125285Z",
     "start_time": "2018-02-18T21:26:29.116900Z"
    }
   },
   "outputs": [
    {
     "name": "stdout",
     "output_type": "stream",
     "text": [
      "RMSE: 2.80671690834\n"
     ]
    }
   ],
   "source": [
    "print('RMSE: ' + str(mean_squared_error(Y[25:],preds)**.25))"
   ]
  },
  {
   "cell_type": "code",
   "execution_count": 118,
   "metadata": {
    "ExecuteTime": {
     "end_time": "2018-02-18T21:26:45.378530Z",
     "start_time": "2018-02-18T21:26:45.369964Z"
    }
   },
   "outputs": [
    {
     "data": {
      "text/plain": [
       "array([  1.55825532e-04,   1.19947195e+00,   4.92984429e-02,\n",
       "        -4.74547052e+00,  -2.38418579e-07,   1.51773322e+00,\n",
       "         4.05605412e+00,   3.23362184e+00,   1.13304114e+00])"
      ]
     },
     "execution_count": 118,
     "metadata": {},
     "output_type": "execute_result"
    }
   ],
   "source": [
    "lr.coef_"
   ]
  },
  {
   "cell_type": "markdown",
   "metadata": {},
   "source": [
    "# Challenge 6"
   ]
  },
  {
   "cell_type": "code",
   "execution_count": 135,
   "metadata": {
    "ExecuteTime": {
     "end_time": "2018-02-18T21:36:16.797952Z",
     "start_time": "2018-02-18T21:36:16.764831Z"
    }
   },
   "outputs": [
    {
     "name": "stderr",
     "output_type": "stream",
     "text": [
      "/Users/bgentry/anaconda/lib/python3.6/site-packages/pandas/io/stata.py:1435: UserWarning: 'data' is deprecated, use 'read' instead\n",
      "  warnings.warn(\"'data' is deprecated, use 'read' instead\")\n"
     ]
    }
   ],
   "source": [
    "from pandas.io.stata import StataReader\n",
    "reader = StataReader('smoking.dta')\n",
    "df = reader.data()\n",
    "\n",
    "import statsmodels.api as smf\n",
    "from patsy import dmatrices"
   ]
  },
  {
   "cell_type": "code",
   "execution_count": 136,
   "metadata": {
    "ExecuteTime": {
     "end_time": "2018-02-18T21:36:17.412339Z",
     "start_time": "2018-02-18T21:36:17.386441Z"
    }
   },
   "outputs": [],
   "source": [
    "dummies = ['age','smoke']\n",
    "df = pd.get_dummies(df, columns = dummies, drop_first=True)\n",
    "\n",
    "mid = df['dead']\n",
    "df.drop(labels=['dead'], axis=1,inplace = True)\n",
    "df.insert(0, 'dead', mid)\n",
    "\n",
    "\n",
    "df = df.rename(columns={'age_45-49':'age_a', 'age_50-54':'age_b', 'age_55-59':'age_c', \n",
    "                        'age_60-64':'age_d', 'age_65-69':'age_e', 'age_70-74':'age_f',\n",
    "                        'age_75-79': 'age_g','age_80+': 'age_h'})\n",
    "\n",
    "df.columns = df.columns.str.replace('\\s+', '_')"
   ]
  },
  {
   "cell_type": "code",
   "execution_count": 138,
   "metadata": {
    "ExecuteTime": {
     "end_time": "2018-02-18T21:36:34.861354Z",
     "start_time": "2018-02-18T21:36:34.747048Z"
    }
   },
   "outputs": [
    {
     "name": "stdout",
     "output_type": "stream",
     "text": [
      "                 Generalized Linear Model Regression Results                  \n",
      "==============================================================================\n",
      "Dep. Variable:                   dead   No. Observations:                   25\n",
      "Model:                            GLM   Df Residuals:                       14\n",
      "Model Family:                 Poisson   Df Model:                           10\n",
      "Link Function:                    log   Scale:                             1.0\n",
      "Method:                          IRLS   Log-Likelihood:                -85.902\n",
      "Date:                Sun, 18 Feb 2018   Deviance:                       13.074\n",
      "Time:                        16:36:34   Pearson chi2:                     12.4\n",
      "No. Iterations:                     6                                         \n",
      "=============================================================================================================\n",
      "                                                coef    std err          z      P>|z|      [0.025      0.975]\n",
      "-------------------------------------------------------------------------------------------------------------\n",
      "Intercept                                    -3.6620      0.085    -42.853      0.000      -3.829      -3.495\n",
      "age_a                                         0.5621      0.105      5.348      0.000       0.356       0.768\n",
      "age_b                                         0.9494      0.103      9.235      0.000       0.748       1.151\n",
      "age_c                                         1.3163      0.086     15.288      0.000       1.148       1.485\n",
      "age_d                                         1.6021      0.082     19.516      0.000       1.441       1.763\n",
      "age_e                                         1.9596      0.082     23.843      0.000       1.798       2.121\n",
      "age_f                                         2.2517      0.084     26.917      0.000       2.088       2.416\n",
      "age_g                                         2.5970      0.099     26.355      0.000       2.404       2.790\n",
      "age_h                                         2.8608      0.098     29.123      0.000       2.668       3.053\n",
      "smoke_Smokes_cigars_or_pipe_only              0.0368      0.047      0.776      0.438      -0.056       0.130\n",
      "smoke_Smokes_cigarettes_and_cigar_or_pipe     0.2425      0.042      5.810      0.000       0.161       0.324\n",
      "smoke_smokes_cigarettes_only                       0          0        nan        nan           0           0\n",
      "=============================================================================================================\n"
     ]
    },
    {
     "name": "stderr",
     "output_type": "stream",
     "text": [
      "/Users/bgentry/anaconda/lib/python3.6/site-packages/statsmodels/base/model.py:1036: RuntimeWarning: invalid value encountered in true_divide\n",
      "  return self.params / self.bse\n",
      "/Users/bgentry/anaconda/lib/python3.6/site-packages/scipy/stats/_distn_infrastructure.py:879: RuntimeWarning: invalid value encountered in greater\n",
      "  return (self.a < x) & (x < self.b)\n",
      "/Users/bgentry/anaconda/lib/python3.6/site-packages/scipy/stats/_distn_infrastructure.py:879: RuntimeWarning: invalid value encountered in less\n",
      "  return (self.a < x) & (x < self.b)\n",
      "/Users/bgentry/anaconda/lib/python3.6/site-packages/scipy/stats/_distn_infrastructure.py:1818: RuntimeWarning: invalid value encountered in less_equal\n",
      "  cond2 = cond0 & (x <= self.a)\n"
     ]
    }
   ],
   "source": [
    "Y,X = dmatrices('dead ~ age_a + age_b + age_c + age_d + age_e + age_f + '\n",
    "       'age_g + age_h + smoke_Smokes_cigars_or_pipe_only + '\n",
    "       'smoke_Smokes_cigarettes_and_cigar_or_pipe + '\n",
    "       'smoke_smokes_cigarettes_only', data=df, return_type='dataframe')\n",
    "\n",
    "# Data \n",
    "pois_m=smf.GLM(Y[:25],X[:25],offset = np.log(df['pop'][:25]),family=smf.families.Poisson(smf.families.links.log))\n",
    "# Fitting our model using Maximum likelihood\n",
    "pois_results=pois_m.fit()\n",
    "preds = pois_results.predict(X[25:])\n",
    "print(pois_results.summary())"
   ]
  },
  {
   "cell_type": "code",
   "execution_count": 139,
   "metadata": {
    "ExecuteTime": {
     "end_time": "2018-02-18T21:37:05.211585Z",
     "start_time": "2018-02-18T21:37:05.186581Z"
    }
   },
   "outputs": [
    {
     "name": "stdout",
     "output_type": "stream",
     "text": [
      "RMSE: 20.1079495734\n"
     ]
    }
   ],
   "source": [
    "print('RMSE: ' + str(mean_squared_error(Y[25:],preds)**.25))"
   ]
  },
  {
   "cell_type": "code",
   "execution_count": 141,
   "metadata": {
    "ExecuteTime": {
     "end_time": "2018-02-18T21:38:35.107338Z",
     "start_time": "2018-02-18T21:38:34.980938Z"
    },
    "collapsed": true
   },
   "outputs": [],
   "source": [
    "from sklearn.linear_model import LinearRegression\n",
    "\n",
    "X = df.iloc[:,1:]\n",
    "y = np.log(df.iloc[:,0]+.001)\n",
    "\n",
    "lr = LinearRegression()\n",
    "lr.fit(X[:25],y[:25])\n",
    "preds = lr.predict(X[25:])"
   ]
  },
  {
   "cell_type": "code",
   "execution_count": 142,
   "metadata": {
    "ExecuteTime": {
     "end_time": "2018-02-18T21:38:39.729182Z",
     "start_time": "2018-02-18T21:38:39.720765Z"
    }
   },
   "outputs": [
    {
     "name": "stdout",
     "output_type": "stream",
     "text": [
      "RMSE: 20.0032118179\n"
     ]
    }
   ],
   "source": [
    "print('RMSE: ' + str(mean_squared_error(Y[25:],preds)**.25))"
   ]
  }
 ],
 "metadata": {
  "kernelspec": {
   "display_name": "Python 3",
   "language": "python",
   "name": "python3"
  },
  "language_info": {
   "codemirror_mode": {
    "name": "ipython",
    "version": 3
   },
   "file_extension": ".py",
   "mimetype": "text/x-python",
   "name": "python",
   "nbconvert_exporter": "python",
   "pygments_lexer": "ipython3",
   "version": "3.6.4"
  }
 },
 "nbformat": 4,
 "nbformat_minor": 2
}
