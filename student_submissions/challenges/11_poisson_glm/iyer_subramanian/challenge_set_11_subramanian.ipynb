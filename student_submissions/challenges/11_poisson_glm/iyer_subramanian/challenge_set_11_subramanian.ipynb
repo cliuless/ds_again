{
 "cells": [
  {
   "cell_type": "markdown",
   "metadata": {},
   "source": [
    "## Topic: Challenge Set 11\n",
    "## Subject: Explore Damage Incidents to Ships with Poisson GLMs\n",
    "## Date: 03/10/2018\n",
    "## Name: Subramanian Iyer\n",
    "## Worked With: Worked Individually"
   ]
  },
  {
   "cell_type": "code",
   "execution_count": 1,
   "metadata": {},
   "outputs": [
    {
     "name": "stderr",
     "output_type": "stream",
     "text": [
      "/Users/subramanianiyer/anaconda2/envs/mypython3/lib/python3.6/site-packages/statsmodels/compat/pandas.py:56: FutureWarning: The pandas.core.datetools module is deprecated and will be removed in a future version. Please use the pandas.tseries module instead.\n",
      "  from pandas.core import datetools\n"
     ]
    }
   ],
   "source": [
    "import pandas as pd\n",
    "import numpy as np\n",
    "import statsmodels.api as sm\n",
    "import patsy\n",
    "from scipy.stats import chi2"
   ]
  },
  {
   "cell_type": "code",
   "execution_count": 2,
   "metadata": {},
   "outputs": [
    {
     "name": "stderr",
     "output_type": "stream",
     "text": [
      "/Users/subramanianiyer/anaconda2/envs/mypython3/lib/python3.6/site-packages/pandas/io/stata.py:1412: UserWarning: 'data' is deprecated, use 'read' instead\n",
      "  warnings.warn(\"'data' is deprecated, use 'read' instead\")\n"
     ]
    },
    {
     "data": {
      "text/html": [
       "<div>\n",
       "<style>\n",
       "    .dataframe thead tr:only-child th {\n",
       "        text-align: right;\n",
       "    }\n",
       "\n",
       "    .dataframe thead th {\n",
       "        text-align: left;\n",
       "    }\n",
       "\n",
       "    .dataframe tbody tr th {\n",
       "        vertical-align: top;\n",
       "    }\n",
       "</style>\n",
       "<table border=\"1\" class=\"dataframe\">\n",
       "  <thead>\n",
       "    <tr style=\"text-align: right;\">\n",
       "      <th></th>\n",
       "      <th>type</th>\n",
       "      <th>construction</th>\n",
       "      <th>operation</th>\n",
       "      <th>months</th>\n",
       "      <th>damage</th>\n",
       "    </tr>\n",
       "  </thead>\n",
       "  <tbody>\n",
       "    <tr>\n",
       "      <th>0</th>\n",
       "      <td>A</td>\n",
       "      <td>1960-64</td>\n",
       "      <td>1960-74</td>\n",
       "      <td>127.0</td>\n",
       "      <td>0.0</td>\n",
       "    </tr>\n",
       "    <tr>\n",
       "      <th>1</th>\n",
       "      <td>A</td>\n",
       "      <td>1960-64</td>\n",
       "      <td>1975-79</td>\n",
       "      <td>63.0</td>\n",
       "      <td>0.0</td>\n",
       "    </tr>\n",
       "    <tr>\n",
       "      <th>2</th>\n",
       "      <td>A</td>\n",
       "      <td>1965-70</td>\n",
       "      <td>1960-74</td>\n",
       "      <td>1095.0</td>\n",
       "      <td>3.0</td>\n",
       "    </tr>\n",
       "    <tr>\n",
       "      <th>3</th>\n",
       "      <td>A</td>\n",
       "      <td>1965-70</td>\n",
       "      <td>1975-79</td>\n",
       "      <td>1095.0</td>\n",
       "      <td>4.0</td>\n",
       "    </tr>\n",
       "    <tr>\n",
       "      <th>4</th>\n",
       "      <td>A</td>\n",
       "      <td>1970-74</td>\n",
       "      <td>1960-74</td>\n",
       "      <td>1512.0</td>\n",
       "      <td>6.0</td>\n",
       "    </tr>\n",
       "  </tbody>\n",
       "</table>\n",
       "</div>"
      ],
      "text/plain": [
       "  type construction operation  months  damage\n",
       "0    A      1960-64   1960-74   127.0     0.0\n",
       "1    A      1960-64   1975-79    63.0     0.0\n",
       "2    A      1965-70   1960-74  1095.0     3.0\n",
       "3    A      1965-70   1975-79  1095.0     4.0\n",
       "4    A      1970-74   1960-74  1512.0     6.0"
      ]
     },
     "execution_count": 2,
     "metadata": {},
     "output_type": "execute_result"
    }
   ],
   "source": [
    "reader = pd.io.stata.StataReader('ships.dta')\n",
    "data = reader.data()\n",
    "data.head()"
   ]
  },
  {
   "cell_type": "code",
   "execution_count": 3,
   "metadata": {},
   "outputs": [
    {
     "data": {
      "text/plain": [
       "type            category\n",
       "construction    category\n",
       "operation       category\n",
       "months           float32\n",
       "damage           float32\n",
       "dtype: object"
      ]
     },
     "execution_count": 3,
     "metadata": {},
     "output_type": "execute_result"
    }
   ],
   "source": [
    "data.dtypes"
   ]
  },
  {
   "cell_type": "markdown",
   "metadata": {},
   "source": [
    "**Challenge Number 1**"
   ]
  },
  {
   "cell_type": "code",
   "execution_count": 4,
   "metadata": {},
   "outputs": [
    {
     "name": "stdout",
     "output_type": "stream",
     "text": [
      "                 Generalized Linear Model Regression Results                  \n",
      "==============================================================================\n",
      "Dep. Variable:                 damage   No. Observations:                   34\n",
      "Model:                            GLM   Df Residuals:                       24\n",
      "Model Family:                 Poisson   Df Model:                            9\n",
      "Link Function:                    log   Scale:                             1.0\n",
      "Method:                          IRLS   Log-Likelihood:                -84.182\n",
      "Date:                Sun, 11 Mar 2018   Deviance:                       70.498\n",
      "Time:                        17:53:00   Pearson chi2:                     65.8\n",
      "No. Iterations:                     6                                         \n",
      "===========================================================================================\n",
      "                              coef    std err          z      P>|z|      [0.025      0.975]\n",
      "-------------------------------------------------------------------------------------------\n",
      "Intercept                   0.1786      0.277      0.645      0.519      -0.364       0.722\n",
      "type[T.B]                   0.6701      0.217      3.085      0.002       0.244       1.096\n",
      "type[T.C]                  -1.1916      0.328     -3.638      0.000      -1.833      -0.550\n",
      "type[T.D]                  -0.8294      0.288     -2.883      0.004      -1.393      -0.266\n",
      "type[T.E]                  -0.1493      0.235     -0.636      0.525      -0.610       0.311\n",
      "construction[T.1965-70]     1.0873      0.179      6.067      0.000       0.736       1.439\n",
      "construction[T.1970-74]     1.4998      0.225      6.673      0.000       1.059       1.940\n",
      "construction[T.1975-79]     0.8545      0.276      3.097      0.002       0.314       1.395\n",
      "operation[T.1975-79]        0.7284      0.136      5.369      0.000       0.462       0.994\n",
      "months                   6.697e-05   8.52e-06      7.857      0.000    5.03e-05    8.37e-05\n",
      "===========================================================================================\n"
     ]
    }
   ],
   "source": [
    "y,X = patsy.dmatrices('damage~type+construction+operation+months', data = data, return_type = 'dataframe')\n",
    "model0 = sm.GLM(y,X,family = sm.families.Poisson(sm.families.links.log))\n",
    "results0 = model0.fit()\n",
    "print(results0.summary())"
   ]
  },
  {
   "cell_type": "markdown",
   "metadata": {},
   "source": [
    "To my inexperienced eye, that deviance and pearson chi2 look reasonable"
   ]
  },
  {
   "cell_type": "markdown",
   "metadata": {},
   "source": [
    "**Challenge Number 2**"
   ]
  },
  {
   "cell_type": "code",
   "execution_count": 5,
   "metadata": {},
   "outputs": [
    {
     "name": "stdout",
     "output_type": "stream",
     "text": [
      "                 Generalized Linear Model Regression Results                  \n",
      "==============================================================================\n",
      "Dep. Variable:                 damage   No. Observations:                   34\n",
      "Model:                            GLM   Df Residuals:                       25\n",
      "Model Family:                 Poisson   Df Model:                            8\n",
      "Link Function:                    log   Scale:                             1.0\n",
      "Method:                          IRLS   Log-Likelihood:                -68.281\n",
      "Date:                Sun, 11 Mar 2018   Deviance:                       38.695\n",
      "Time:                        17:53:03   Pearson chi2:                     42.3\n",
      "No. Iterations:                     6                                         \n",
      "===========================================================================================\n",
      "                              coef    std err          z      P>|z|      [0.025      0.975]\n",
      "-------------------------------------------------------------------------------------------\n",
      "Intercept                  -6.4059      0.217    -29.460      0.000      -6.832      -5.980\n",
      "type[T.B]                  -0.5433      0.178     -3.060      0.002      -0.891      -0.195\n",
      "type[T.C]                  -0.6874      0.329     -2.089      0.037      -1.332      -0.042\n",
      "type[T.D]                  -0.0760      0.291     -0.261      0.794      -0.645       0.494\n",
      "type[T.E]                   0.3256      0.236      1.380      0.168      -0.137       0.788\n",
      "construction[T.1965-70]     0.6971      0.150      4.659      0.000       0.404       0.990\n",
      "construction[T.1970-74]     0.8184      0.170      4.821      0.000       0.486       1.151\n",
      "construction[T.1975-79]     0.4534      0.233      1.945      0.052      -0.004       0.910\n",
      "operation[T.1975-79]        0.3845      0.118      3.251      0.001       0.153       0.616\n",
      "===========================================================================================\n"
     ]
    }
   ],
   "source": [
    "y2,X2 = patsy.dmatrices('damage~type+construction+operation', data = data, return_type = 'dataframe')\n",
    "model1 = sm.GLM(y2,X2,family = sm.families.Poisson(sm.families.links.log), offset = np.log(data['months']))\n",
    "results1 = model1.fit()\n",
    "print(results1.summary())"
   ]
  },
  {
   "cell_type": "markdown",
   "metadata": {},
   "source": [
    "Deviance and chi2 went way down. yay! Yes, this model does perform better."
   ]
  },
  {
   "cell_type": "markdown",
   "metadata": {},
   "source": [
    "**Challenge Number 3**"
   ]
  },
  {
   "cell_type": "code",
   "execution_count": 6,
   "metadata": {},
   "outputs": [
    {
     "name": "stdout",
     "output_type": "stream",
     "text": [
      "mean squared error: 34.350875385\n",
      "mean absolute error: 3.79992577276\n"
     ]
    },
    {
     "name": "stderr",
     "output_type": "stream",
     "text": [
      "/Users/subramanianiyer/anaconda2/envs/mypython3/lib/python3.6/site-packages/sklearn/cross_validation.py:41: DeprecationWarning: This module was deprecated in version 0.18 in favor of the model_selection module into which all the refactored classes and functions are moved. Also note that the interface of the new CV iterators are different from that of this module. This module will be removed in 0.20.\n",
      "  \"This module will be removed in 0.20.\", DeprecationWarning)\n"
     ]
    }
   ],
   "source": [
    "from sklearn.cross_validation import train_test_split\n",
    "from sklearn import metrics\n",
    "X_train, X_test, y_train, y_test, M_train, M_test = train_test_split(X2, y2, data['months'], test_size = 0.30, \\\n",
    "                                                                     random_state = 4444)\n",
    "model2 = sm.GLM(y_train,X_train,family = sm.families.Poisson(sm.families.links.log), offset = np.log(M_train))\n",
    "results2 = model2.fit()\n",
    "cpreds = model2.predict(params = results2.params, exog = X_test, offset = np.log(M_test))\n",
    "print('mean squared error: ', end = '')\n",
    "print(metrics.mean_squared_error(y_test, cpreds))\n",
    "print('mean absolute error: ', end = '')\n",
    "print(metrics.mean_absolute_error(y_test, cpreds))"
   ]
  },
  {
   "cell_type": "markdown",
   "metadata": {},
   "source": [
    "**Challenge 4**"
   ]
  },
  {
   "cell_type": "code",
   "execution_count": 7,
   "metadata": {},
   "outputs": [
    {
     "name": "stdout",
     "output_type": "stream",
     "text": [
      "0.0\n"
     ]
    }
   ],
   "source": [
    "model3 = sm.GLM(y2, X2['Intercept'],family = sm.families.Poisson(sm.families.links.log), offset = np.log(data['months']))\n",
    "results3 = model3.fit()\n",
    "print(1-chi2.cdf(results3.deviance-results1.deviance, 8))"
   ]
  },
  {
   "cell_type": "markdown",
   "metadata": {},
   "source": [
    "With a p value so low the program just returns 0, it's reasonable to say that our model performs better than the null model, and that the extra parameters should be kept."
   ]
  },
  {
   "cell_type": "markdown",
   "metadata": {},
   "source": [
    "**Challenge Number 5**"
   ]
  },
  {
   "cell_type": "code",
   "execution_count": 8,
   "metadata": {},
   "outputs": [
    {
     "data": {
      "text/html": [
       "<div>\n",
       "<style>\n",
       "    .dataframe thead tr:only-child th {\n",
       "        text-align: right;\n",
       "    }\n",
       "\n",
       "    .dataframe thead th {\n",
       "        text-align: left;\n",
       "    }\n",
       "\n",
       "    .dataframe tbody tr th {\n",
       "        vertical-align: top;\n",
       "    }\n",
       "</style>\n",
       "<table border=\"1\" class=\"dataframe\">\n",
       "  <thead>\n",
       "    <tr style=\"text-align: right;\">\n",
       "      <th></th>\n",
       "      <th>damage</th>\n",
       "    </tr>\n",
       "  </thead>\n",
       "  <tbody>\n",
       "    <tr>\n",
       "      <th>0</th>\n",
       "      <td>0.0</td>\n",
       "    </tr>\n",
       "    <tr>\n",
       "      <th>1</th>\n",
       "      <td>0.0</td>\n",
       "    </tr>\n",
       "    <tr>\n",
       "      <th>2</th>\n",
       "      <td>3.0</td>\n",
       "    </tr>\n",
       "    <tr>\n",
       "      <th>3</th>\n",
       "      <td>4.0</td>\n",
       "    </tr>\n",
       "    <tr>\n",
       "      <th>4</th>\n",
       "      <td>6.0</td>\n",
       "    </tr>\n",
       "  </tbody>\n",
       "</table>\n",
       "</div>"
      ],
      "text/plain": [
       "   damage\n",
       "0     0.0\n",
       "1     0.0\n",
       "2     3.0\n",
       "3     4.0\n",
       "4     6.0"
      ]
     },
     "execution_count": 8,
     "metadata": {},
     "output_type": "execute_result"
    }
   ],
   "source": [
    "y.head()"
   ]
  },
  {
   "cell_type": "code",
   "execution_count": 9,
   "metadata": {},
   "outputs": [
    {
     "name": "stdout",
     "output_type": "stream",
     "text": [
      "ols: \n",
      "                            OLS Regression Results                            \n",
      "==============================================================================\n",
      "Dep. Variable:                 damage   R-squared:                       0.839\n",
      "Model:                            OLS   Adj. R-squared:                  0.778\n",
      "Method:                 Least Squares   F-statistic:                     13.87\n",
      "Date:                Sun, 11 Mar 2018   Prob (F-statistic):           1.64e-07\n",
      "Time:                        17:53:13   Log-Likelihood:                -26.076\n",
      "No. Observations:                  34   AIC:                             72.15\n",
      "Df Residuals:                      24   BIC:                             87.42\n",
      "Df Model:                           9                                         \n",
      "Covariance Type:            nonrobust                                         \n",
      "===========================================================================================\n",
      "                              coef    std err          t      P>|t|      [0.025      0.975]\n",
      "-------------------------------------------------------------------------------------------\n",
      "Intercept                   0.3775      0.320      1.179      0.250      -0.283       1.038\n",
      "type[T.B]                   0.7580      0.491      1.543      0.136      -0.256       1.772\n",
      "type[T.C]                  -0.6184      0.332     -1.865      0.074      -1.303       0.066\n",
      "type[T.D]                  -0.6905      0.332     -2.081      0.048      -1.375      -0.006\n",
      "type[T.E]                  -0.0065      0.347     -0.019      0.985      -0.723       0.709\n",
      "construction[T.1965-70]     0.7305      0.287      2.542      0.018       0.137       1.324\n",
      "construction[T.1970-74]     1.5119      0.294      5.141      0.000       0.905       2.119\n",
      "construction[T.1975-79]     0.8041      0.377      2.136      0.043       0.027       1.581\n",
      "operation[T.1975-79]        0.4479      0.234      1.918      0.067      -0.034       0.930\n",
      "months                   6.827e-05   1.97e-05      3.464      0.002    2.76e-05       0.000\n",
      "==============================================================================\n",
      "Omnibus:                        3.050   Durbin-Watson:                   1.819\n",
      "Prob(Omnibus):                  0.218   Jarque-Bera (JB):                1.436\n",
      "Skew:                          -0.028   Prob(JB):                        0.488\n",
      "Kurtosis:                       1.995   Cond. No.                     5.94e+04\n",
      "==============================================================================\n",
      "\n",
      "Warnings:\n",
      "[1] Standard Errors assume that the covariance matrix of the errors is correctly specified.\n",
      "[2] The condition number is large, 5.94e+04. This might indicate that there are\n",
      "strong multicollinearity or other numerical problems.\n",
      "OLS mean squared error: \n",
      "48.4811337534\n",
      " \n",
      "poisson: \n",
      "                 Generalized Linear Model Regression Results                  \n",
      "==============================================================================\n",
      "Dep. Variable:                 damage   No. Observations:                   34\n",
      "Model:                            GLM   Df Residuals:                       25\n",
      "Model Family:                 Poisson   Df Model:                            8\n",
      "Link Function:                    log   Scale:                             1.0\n",
      "Method:                          IRLS   Log-Likelihood:                -68.281\n",
      "Date:                Sun, 11 Mar 2018   Deviance:                       38.695\n",
      "Time:                        17:53:13   Pearson chi2:                     42.3\n",
      "No. Iterations:                     6                                         \n",
      "===========================================================================================\n",
      "                              coef    std err          z      P>|z|      [0.025      0.975]\n",
      "-------------------------------------------------------------------------------------------\n",
      "Intercept                  -6.4059      0.217    -29.460      0.000      -6.832      -5.980\n",
      "type[T.B]                  -0.5433      0.178     -3.060      0.002      -0.891      -0.195\n",
      "type[T.C]                  -0.6874      0.329     -2.089      0.037      -1.332      -0.042\n",
      "type[T.D]                  -0.0760      0.291     -0.261      0.794      -0.645       0.494\n",
      "type[T.E]                   0.3256      0.236      1.380      0.168      -0.137       0.788\n",
      "construction[T.1965-70]     0.6971      0.150      4.659      0.000       0.404       0.990\n",
      "construction[T.1970-74]     0.8184      0.170      4.821      0.000       0.486       1.151\n",
      "construction[T.1975-79]     0.4534      0.233      1.945      0.052      -0.004       0.910\n",
      "operation[T.1975-79]        0.3845      0.118      3.251      0.001       0.153       0.616\n",
      "===========================================================================================\n",
      "Poisson mean squared error: \n",
      "6.52069078245\n"
     ]
    }
   ],
   "source": [
    "Poispreds = model1.predict(params = results1.params, exog = X2, offset = np.log(data['months']))\n",
    "linmod = sm.OLS(np.log(y+1),X)\n",
    "fit = linmod.fit()\n",
    "Linpreds = np.exp(fit.predict(X))-1\n",
    "print('ols: ')\n",
    "print(fit.summary())\n",
    "print('OLS mean squared error: ')\n",
    "print(metrics.mean_squared_error(y2, Linpreds))\n",
    "print(' ')\n",
    "print('poisson: ')\n",
    "print(results1.summary())\n",
    "print('Poisson mean squared error: ')\n",
    "print(metrics.mean_squared_error(y2, Poispreds))"
   ]
  },
  {
   "cell_type": "markdown",
   "metadata": {},
   "source": [
    "The coefficients of the two models are nowhere near close, and it would be very surprising if they were.  The poisson model performs better."
   ]
  },
  {
   "cell_type": "markdown",
   "metadata": {},
   "source": [
    "**Challenge Number 6**"
   ]
  },
  {
   "cell_type": "code",
   "execution_count": 10,
   "metadata": {},
   "outputs": [
    {
     "name": "stderr",
     "output_type": "stream",
     "text": [
      "/Users/subramanianiyer/anaconda2/envs/mypython3/lib/python3.6/site-packages/pandas/io/stata.py:1412: UserWarning: 'data' is deprecated, use 'read' instead\n",
      "  warnings.warn(\"'data' is deprecated, use 'read' instead\")\n"
     ]
    },
    {
     "data": {
      "text/html": [
       "<div>\n",
       "<style>\n",
       "    .dataframe thead tr:only-child th {\n",
       "        text-align: right;\n",
       "    }\n",
       "\n",
       "    .dataframe thead th {\n",
       "        text-align: left;\n",
       "    }\n",
       "\n",
       "    .dataframe tbody tr th {\n",
       "        vertical-align: top;\n",
       "    }\n",
       "</style>\n",
       "<table border=\"1\" class=\"dataframe\">\n",
       "  <thead>\n",
       "    <tr style=\"text-align: right;\">\n",
       "      <th></th>\n",
       "      <th>age</th>\n",
       "      <th>smoke</th>\n",
       "      <th>pop</th>\n",
       "      <th>dead</th>\n",
       "    </tr>\n",
       "  </thead>\n",
       "  <tbody>\n",
       "    <tr>\n",
       "      <th>0</th>\n",
       "      <td>40-44</td>\n",
       "      <td>Doesn't smoke</td>\n",
       "      <td>656.0</td>\n",
       "      <td>18.0</td>\n",
       "    </tr>\n",
       "    <tr>\n",
       "      <th>1</th>\n",
       "      <td>45-49</td>\n",
       "      <td>Doesn't smoke</td>\n",
       "      <td>359.0</td>\n",
       "      <td>22.0</td>\n",
       "    </tr>\n",
       "    <tr>\n",
       "      <th>2</th>\n",
       "      <td>50-54</td>\n",
       "      <td>Doesn't smoke</td>\n",
       "      <td>249.0</td>\n",
       "      <td>19.0</td>\n",
       "    </tr>\n",
       "    <tr>\n",
       "      <th>3</th>\n",
       "      <td>55-59</td>\n",
       "      <td>Doesn't smoke</td>\n",
       "      <td>632.0</td>\n",
       "      <td>55.0</td>\n",
       "    </tr>\n",
       "    <tr>\n",
       "      <th>4</th>\n",
       "      <td>60-64</td>\n",
       "      <td>Doesn't smoke</td>\n",
       "      <td>1067.0</td>\n",
       "      <td>117.0</td>\n",
       "    </tr>\n",
       "  </tbody>\n",
       "</table>\n",
       "</div>"
      ],
      "text/plain": [
       "     age          smoke     pop   dead\n",
       "0  40-44  Doesn't smoke   656.0   18.0\n",
       "1  45-49  Doesn't smoke   359.0   22.0\n",
       "2  50-54  Doesn't smoke   249.0   19.0\n",
       "3  55-59  Doesn't smoke   632.0   55.0\n",
       "4  60-64  Doesn't smoke  1067.0  117.0"
      ]
     },
     "execution_count": 10,
     "metadata": {},
     "output_type": "execute_result"
    }
   ],
   "source": [
    "reader2 = pd.io.stata.StataReader('smoking.dta')\n",
    "data2 = reader2.data()\n",
    "data2.head()"
   ]
  },
  {
   "cell_type": "code",
   "execution_count": 11,
   "metadata": {},
   "outputs": [
    {
     "data": {
      "text/plain": [
       "age      category\n",
       "smoke    category\n",
       "pop       float32\n",
       "dead      float32\n",
       "dtype: object"
      ]
     },
     "execution_count": 11,
     "metadata": {},
     "output_type": "execute_result"
    }
   ],
   "source": [
    "data2.dtypes"
   ]
  },
  {
   "cell_type": "code",
   "execution_count": 12,
   "metadata": {},
   "outputs": [
    {
     "name": "stdout",
     "output_type": "stream",
     "text": [
      "poisson: \n",
      "                 Generalized Linear Model Regression Results                  \n",
      "==============================================================================\n",
      "Dep. Variable:                   dead   No. Observations:                   36\n",
      "Model:                            GLM   Df Residuals:                       24\n",
      "Model Family:                 Poisson   Df Model:                           11\n",
      "Link Function:                    log   Scale:                             1.0\n",
      "Method:                          IRLS   Log-Likelihood:                -130.75\n",
      "Date:                Sun, 11 Mar 2018   Deviance:                       21.487\n",
      "Time:                        17:53:17   Pearson chi2:                     20.6\n",
      "No. Iterations:                     6                                         \n",
      "================================================================================================================\n",
      "                                                   coef    std err          z      P>|z|      [0.025      0.975]\n",
      "----------------------------------------------------------------------------------------------------------------\n",
      "Intercept                                       -3.6800      0.068    -53.929      0.000      -3.814      -3.546\n",
      "age[T.45-49]                                     0.5539      0.080      6.924      0.000       0.397       0.711\n",
      "age[T.50-54]                                     0.9804      0.077     12.762      0.000       0.830       1.131\n",
      "age[T.55-59]                                     1.3795      0.065     21.138      0.000       1.252       1.507\n",
      "age[T.60-64]                                     1.6542      0.063     26.439      0.000       1.532       1.777\n",
      "age[T.65-69]                                     1.9982      0.063     31.824      0.000       1.875       2.121\n",
      "age[T.70-74]                                     2.2714      0.064     35.296      0.000       2.145       2.398\n",
      "age[T.75-79]                                     2.5586      0.068     37.746      0.000       2.426       2.691\n",
      "age[T.80+]                                       2.8469      0.072     39.310      0.000       2.705       2.989\n",
      "smoke[T.Smokes cigars or pipe only]              0.0478      0.047      1.017      0.309      -0.044       0.140\n",
      "smoke[T.Smokes cigarettes and cigar or pipe]     0.2180      0.039      5.633      0.000       0.142       0.294\n",
      "smoke[T.smokes cigarettes only]                  0.4170      0.040     10.447      0.000       0.339       0.495\n",
      "================================================================================================================\n",
      "Mean Squared Error: 83.1700114995\n",
      " \n",
      "ols: \n",
      "                            OLS Regression Results                            \n",
      "==============================================================================\n",
      "Dep. Variable:                   dead   R-squared:                       0.835\n",
      "Model:                            OLS   Adj. R-squared:                  0.749\n",
      "Method:                 Least Squares   F-statistic:                     9.695\n",
      "Date:                Sun, 11 Mar 2018   Prob (F-statistic):           2.31e-06\n",
      "Time:                        17:53:17   Log-Likelihood:                -218.69\n",
      "No. Observations:                  36   AIC:                             463.4\n",
      "Df Residuals:                      23   BIC:                             484.0\n",
      "Df Model:                          12                                         \n",
      "Covariance Type:            nonrobust                                         \n",
      "================================================================================================================\n",
      "                                                   coef    std err          t      P>|t|      [0.025      0.975]\n",
      "----------------------------------------------------------------------------------------------------------------\n",
      "Intercept                                     -224.6373     83.737     -2.683      0.013    -397.859     -51.415\n",
      "age[T.45-49]                                    95.3834     95.641      0.997      0.329    -102.464     293.231\n",
      "age[T.50-54]                                   147.8634     98.199      1.506      0.146     -55.277     351.004\n",
      "age[T.55-59]                                   216.4651     93.074      2.326      0.029      23.926     409.004\n",
      "age[T.60-64]                                   344.0038     95.647      3.597      0.002     146.142     541.865\n",
      "age[T.65-69]                                   426.7793     93.163      4.581      0.000     234.056     619.502\n",
      "age[T.70-74]                                   399.1722     97.619      4.089      0.000     197.232     601.112\n",
      "age[T.75-79]                                   335.9303    104.238      3.223      0.004     120.297     551.564\n",
      "age[T.80+]                                     293.7420    107.984      2.720      0.012      70.360     517.124\n",
      "smoke[T.Smokes cigars or pipe only]             32.3389     62.074      0.521      0.607     -96.070     160.748\n",
      "smoke[T.Smokes cigarettes and cigar or pipe]    85.2001     96.097      0.887      0.384    -113.592     283.992\n",
      "smoke[T.smokes cigarettes only]                 87.8965     76.165      1.154      0.260     -69.663     245.457\n",
      "pop                                              0.1128      0.029      3.847      0.001       0.052       0.173\n",
      "==============================================================================\n",
      "Omnibus:                        2.531   Durbin-Watson:                   0.776\n",
      "Prob(Omnibus):                  0.282   Jarque-Bera (JB):                1.334\n",
      "Skew:                          -0.044   Prob(JB):                        0.513\n",
      "Kurtosis:                       2.061   Cond. No.                     2.21e+04\n",
      "==============================================================================\n",
      "\n",
      "Warnings:\n",
      "[1] Standard Errors assume that the covariance matrix of the errors is correctly specified.\n",
      "[2] The condition number is large, 2.21e+04. This might indicate that there are\n",
      "strong multicollinearity or other numerical problems.\n",
      "Mean Squared Error: 11066.0399381\n"
     ]
    }
   ],
   "source": [
    "y3,X3 = patsy.dmatrices('dead~age+smoke', data = data2, return_type = 'dataframe')\n",
    "y4,X4 = patsy.dmatrices('dead~age+smoke+pop', data = data2, return_type = 'dataframe')\n",
    "modelS = sm.GLM(y3, X3,family = sm.families.Poisson(sm.families.links.log), offset = np.log(data2['pop']))\n",
    "resultsP = modelS.fit()\n",
    "modelSL = sm.OLS(y4,X4)\n",
    "resultsL = modelSL.fit()\n",
    "print('poisson: ')\n",
    "print(resultsP.summary())\n",
    "print('Mean Squared Error: ', end = '')\n",
    "Ppreds = modelS.predict(params = resultsP.params, exog = X3, offset = np.log(data2['pop']))\n",
    "print(metrics.mean_squared_error(y3, Ppreds))\n",
    "print(' ')\n",
    "print('ols: ')\n",
    "print(resultsL.summary())\n",
    "print('Mean Squared Error: ', end = '')\n",
    "Lpreds = resultsL.predict(X4)\n",
    "print(metrics.mean_squared_error(y4, Lpreds))"
   ]
  },
  {
   "cell_type": "markdown",
   "metadata": {
    "collapsed": true
   },
   "source": [
    "Sidenote: I tried the last cell with a log transform response variable for the OLS, and it did worse than without the log transform.\n",
    "\n",
    "Poisson Model performed better."
   ]
  }
 ],
 "metadata": {
  "kernelspec": {
   "display_name": "Python 3",
   "language": "python",
   "name": "python3"
  },
  "language_info": {
   "codemirror_mode": {
    "name": "ipython",
    "version": 3
   },
   "file_extension": ".py",
   "mimetype": "text/x-python",
   "name": "python",
   "nbconvert_exporter": "python",
   "pygments_lexer": "ipython3",
   "version": "3.6.3"
  }
 },
 "nbformat": 4,
 "nbformat_minor": 2
}
