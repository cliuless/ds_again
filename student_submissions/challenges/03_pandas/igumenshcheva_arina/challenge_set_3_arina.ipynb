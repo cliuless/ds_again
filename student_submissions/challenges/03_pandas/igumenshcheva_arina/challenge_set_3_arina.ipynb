{
 "cells": [
  {
   "cell_type": "markdown",
   "metadata": {},
   "source": [
    "**Topic:**        Challenge Set 3  \n",
    "**Subject:**      Pandas (Exploring and visualizing our scraped movie data in pandas)  \n",
    "**Date:**         01/21/2018  \n",
    "**Name:**         Arina Igumenshcheva  \n",
    "**Worked with:**  N/A  "
   ]
  },
  {
   "cell_type": "code",
   "execution_count": 248,
   "metadata": {
    "collapsed": true
   },
   "outputs": [],
   "source": [
    "# Import all the python library things!\n",
    "import pandas as pd\n",
    "import numpy as np\n",
    "\n",
    "import matplotlib.pyplot as plt\n",
    "%matplotlib inline\n",
    "\n",
    "import datetime\n",
    "\n"
   ]
  },
  {
   "cell_type": "code",
   "execution_count": 9,
   "metadata": {},
   "outputs": [
    {
     "data": {
      "text/html": [
       "<div>\n",
       "<style>\n",
       "    .dataframe thead tr:only-child th {\n",
       "        text-align: right;\n",
       "    }\n",
       "\n",
       "    .dataframe thead th {\n",
       "        text-align: left;\n",
       "    }\n",
       "\n",
       "    .dataframe tbody tr th {\n",
       "        vertical-align: top;\n",
       "    }\n",
       "</style>\n",
       "<table border=\"1\" class=\"dataframe\">\n",
       "  <thead>\n",
       "    <tr style=\"text-align: right;\">\n",
       "      <th></th>\n",
       "      <th>Title</th>\n",
       "      <th>Budget</th>\n",
       "      <th>DomesticTotalGross</th>\n",
       "      <th>Director</th>\n",
       "      <th>Rating</th>\n",
       "      <th>Runtime</th>\n",
       "      <th>ReleaseDate</th>\n",
       "    </tr>\n",
       "  </thead>\n",
       "  <tbody>\n",
       "    <tr>\n",
       "      <th>0</th>\n",
       "      <td>The Hunger Games: Catching Fire</td>\n",
       "      <td>130000000.0</td>\n",
       "      <td>424668047</td>\n",
       "      <td>Francis Lawrence</td>\n",
       "      <td>PG-13</td>\n",
       "      <td>146</td>\n",
       "      <td>2013-11-22</td>\n",
       "    </tr>\n",
       "    <tr>\n",
       "      <th>1</th>\n",
       "      <td>Iron Man 3</td>\n",
       "      <td>200000000.0</td>\n",
       "      <td>409013994</td>\n",
       "      <td>Shane Black</td>\n",
       "      <td>PG-13</td>\n",
       "      <td>129</td>\n",
       "      <td>2013-05-03</td>\n",
       "    </tr>\n",
       "    <tr>\n",
       "      <th>2</th>\n",
       "      <td>Frozen</td>\n",
       "      <td>150000000.0</td>\n",
       "      <td>400738009</td>\n",
       "      <td>Chris BuckJennifer Lee</td>\n",
       "      <td>PG</td>\n",
       "      <td>108</td>\n",
       "      <td>2013-11-22</td>\n",
       "    </tr>\n",
       "    <tr>\n",
       "      <th>3</th>\n",
       "      <td>Despicable Me 2</td>\n",
       "      <td>76000000.0</td>\n",
       "      <td>368061265</td>\n",
       "      <td>Pierre CoffinChris Renaud</td>\n",
       "      <td>PG</td>\n",
       "      <td>98</td>\n",
       "      <td>2013-07-03</td>\n",
       "    </tr>\n",
       "    <tr>\n",
       "      <th>4</th>\n",
       "      <td>Man of Steel</td>\n",
       "      <td>225000000.0</td>\n",
       "      <td>291045518</td>\n",
       "      <td>Zack Snyder</td>\n",
       "      <td>PG-13</td>\n",
       "      <td>143</td>\n",
       "      <td>2013-06-14</td>\n",
       "    </tr>\n",
       "  </tbody>\n",
       "</table>\n",
       "</div>"
      ],
      "text/plain": [
       "                             Title       Budget  DomesticTotalGross  \\\n",
       "0  The Hunger Games: Catching Fire  130000000.0           424668047   \n",
       "1                       Iron Man 3  200000000.0           409013994   \n",
       "2                           Frozen  150000000.0           400738009   \n",
       "3                  Despicable Me 2   76000000.0           368061265   \n",
       "4                     Man of Steel  225000000.0           291045518   \n",
       "\n",
       "                    Director Rating  Runtime ReleaseDate  \n",
       "0           Francis Lawrence  PG-13      146  2013-11-22  \n",
       "1                Shane Black  PG-13      129  2013-05-03  \n",
       "2     Chris BuckJennifer Lee     PG      108  2013-11-22  \n",
       "3  Pierre CoffinChris Renaud     PG       98  2013-07-03  \n",
       "4                Zack Snyder  PG-13      143  2013-06-14  "
      ]
     },
     "execution_count": 9,
     "metadata": {},
     "output_type": "execute_result"
    }
   ],
   "source": [
    "# Import the movies data\n",
    "filepath = 'https://raw.githubusercontent.com/thisismetis/nyc18_ds14/master/challenges/challenges_data/2013_movies.csv?token=ANE-v23X3Rft4hraAYczE5-ZgPgWdbtBks5abl3pwA%3D%3D'\n",
    "movies_df = pd.read_csv(filepath,\n",
    "        parse_dates =['ReleaseDate'])\n",
    "\n",
    "movies_df.head()"
   ]
  },
  {
   "cell_type": "code",
   "execution_count": 8,
   "metadata": {},
   "outputs": [
    {
     "data": {
      "text/plain": [
       "Title                  object\n",
       "Budget                float64\n",
       "DomesticTotalGross      int64\n",
       "Director               object\n",
       "Rating                 object\n",
       "Runtime                 int64\n",
       "ReleaseDate            object\n",
       "dtype: object"
      ]
     },
     "execution_count": 8,
     "metadata": {},
     "output_type": "execute_result"
    }
   ],
   "source": [
    "movies_df.dtypes"
   ]
  },
  {
   "cell_type": "markdown",
   "metadata": {},
   "source": [
    "### Challenge 1\n",
    "\n",
    "Plot domestic total gross over time."
   ]
  },
  {
   "cell_type": "code",
   "execution_count": 303,
   "metadata": {},
   "outputs": [
    {
     "data": {
      "text/plain": [
       "Text(0.5,1,'Domestic Total Gross Over Time')"
      ]
     },
     "execution_count": 303,
     "metadata": {},
     "output_type": "execute_result"
    },
    {
     "data": {
      "image/png": "[encoded data removed]",
      "text/plain": [
       "<matplotlib.figure.Figure at 0x1a3f9d00908>"
      ]
     },
     "metadata": {},
     "output_type": "display_data"
    }
   ],
   "source": [
    "dtg_ts = pd.Series(list(movies_df.loc[:,'DomesticTotalGross']/1000000), index=movies_df.loc[:, 'ReleaseDate'])\n",
    "plt.figure(figsize=(10,8))\n",
    "plt.ylabel('millions of \\$\\$', fontsize=20)\n",
    "dtg_ts.plot(style='bo', fontsize=12)\n",
    "plt.xlabel('release date', fontsize=20)\n",
    "plt.title('Domestic Total Gross Over Time', fontsize=24)"
   ]
  },
  {
   "cell_type": "markdown",
   "metadata": {},
   "source": [
    "### Challenge 2\n",
    "\n",
    "Plot runtime vs. domestic total gross."
   ]
  },
  {
   "cell_type": "code",
   "execution_count": 70,
   "metadata": {},
   "outputs": [
    {
     "data": {
      "text/plain": [
       "Text(0.5,1,'Domestic Total Gross vs. Runtime')"
      ]
     },
     "execution_count": 70,
     "metadata": {},
     "output_type": "execute_result"
    },
    {
     "data": {
      "image/png": "[encoded data removed]",
      "text/plain": [
       "<matplotlib.figure.Figure at 0x1a3f8326160>"
      ]
     },
     "metadata": {},
     "output_type": "display_data"
    }
   ],
   "source": [
    "dtg_rt_s = pd.Series(list(movies_df.loc[:,'DomesticTotalGross']/1000000), index=movies_df.loc[:, 'Runtime'])\n",
    "plt.figure(figsize=(10,8))\n",
    "plt.ylabel('millions of \\$\\$', fontsize=20)\n",
    "dtg_rt_s.plot(style='go', fontsize=12, xlim=(70, 170))\n",
    "plt.xlabel('runtime', fontsize=20)\n",
    "plt.title('Domestic Total Gross vs. Runtime', fontsize=24)"
   ]
  },
  {
   "cell_type": "markdown",
   "metadata": {},
   "source": [
    "### Challenge 3\n",
    "\n",
    "Group your data by Rating and find the average runtime and domestic total gross at each level of Rating."
   ]
  },
  {
   "cell_type": "code",
   "execution_count": 85,
   "metadata": {},
   "outputs": [
    {
     "data": {
      "text/html": [
       "<div>\n",
       "<style>\n",
       "    .dataframe thead tr:only-child th {\n",
       "        text-align: right;\n",
       "    }\n",
       "\n",
       "    .dataframe thead th {\n",
       "        text-align: left;\n",
       "    }\n",
       "\n",
       "    .dataframe tbody tr th {\n",
       "        vertical-align: top;\n",
       "    }\n",
       "</style>\n",
       "<table border=\"1\" class=\"dataframe\">\n",
       "  <thead>\n",
       "    <tr style=\"text-align: right;\">\n",
       "      <th></th>\n",
       "      <th>DomesticTotalGross</th>\n",
       "      <th>Runtime</th>\n",
       "    </tr>\n",
       "    <tr>\n",
       "      <th>Rating</th>\n",
       "      <th></th>\n",
       "      <th></th>\n",
       "    </tr>\n",
       "  </thead>\n",
       "  <tbody>\n",
       "    <tr>\n",
       "      <th>G</th>\n",
       "      <td>2.684928e+08</td>\n",
       "      <td>107.000000</td>\n",
       "    </tr>\n",
       "    <tr>\n",
       "      <th>PG</th>\n",
       "      <td>1.311357e+08</td>\n",
       "      <td>99.933333</td>\n",
       "    </tr>\n",
       "    <tr>\n",
       "      <th>PG-13</th>\n",
       "      <td>1.114498e+08</td>\n",
       "      <td>117.510638</td>\n",
       "    </tr>\n",
       "    <tr>\n",
       "      <th>R</th>\n",
       "      <td>6.989243e+07</td>\n",
       "      <td>110.729730</td>\n",
       "    </tr>\n",
       "  </tbody>\n",
       "</table>\n",
       "</div>"
      ],
      "text/plain": [
       "        DomesticTotalGross     Runtime\n",
       "Rating                                \n",
       "G             2.684928e+08  107.000000\n",
       "PG            1.311357e+08   99.933333\n",
       "PG-13         1.114498e+08  117.510638\n",
       "R             6.989243e+07  110.729730"
      ]
     },
     "execution_count": 85,
     "metadata": {},
     "output_type": "execute_result"
    }
   ],
   "source": [
    "ratings_df = movies_df.loc[:, ['DomesticTotalGross', 'Runtime', 'Rating']]\n",
    "ratings_df.groupby('Rating').mean()"
   ]
  },
  {
   "cell_type": "markdown",
   "metadata": {},
   "source": [
    "### Challenge 4\n",
    "\n",
    "Make one figure with (N=the number of MPAA ratings there are) subplots, and in each plot the release date vs the domestic total gross."
   ]
  },
  {
   "cell_type": "code",
   "execution_count": 101,
   "metadata": {},
   "outputs": [],
   "source": [
    "dtg_by_ratings_df = movies_df.loc[:, ['DomesticTotalGross', 'ReleaseDate', 'Rating']]"
   ]
  },
  {
   "cell_type": "code",
   "execution_count": 106,
   "metadata": {},
   "outputs": [
    {
     "data": {
      "text/html": [
       "<div>\n",
       "<style>\n",
       "    .dataframe thead tr:only-child th {\n",
       "        text-align: right;\n",
       "    }\n",
       "\n",
       "    .dataframe thead th {\n",
       "        text-align: left;\n",
       "    }\n",
       "\n",
       "    .dataframe tbody tr th {\n",
       "        vertical-align: top;\n",
       "    }\n",
       "</style>\n",
       "<table border=\"1\" class=\"dataframe\">\n",
       "  <thead>\n",
       "    <tr style=\"text-align: right;\">\n",
       "      <th></th>\n",
       "      <th>DomesticTotalGross</th>\n",
       "      <th>ReleaseDate</th>\n",
       "    </tr>\n",
       "    <tr>\n",
       "      <th>Rating</th>\n",
       "      <th></th>\n",
       "      <th></th>\n",
       "    </tr>\n",
       "  </thead>\n",
       "  <tbody>\n",
       "    <tr>\n",
       "      <th>PG-13</th>\n",
       "      <td>424668047</td>\n",
       "      <td>2013-11-22</td>\n",
       "    </tr>\n",
       "    <tr>\n",
       "      <th>PG-13</th>\n",
       "      <td>409013994</td>\n",
       "      <td>2013-05-03</td>\n",
       "    </tr>\n",
       "    <tr>\n",
       "      <th>PG</th>\n",
       "      <td>400738009</td>\n",
       "      <td>2013-11-22</td>\n",
       "    </tr>\n",
       "    <tr>\n",
       "      <th>PG</th>\n",
       "      <td>368061265</td>\n",
       "      <td>2013-07-03</td>\n",
       "    </tr>\n",
       "    <tr>\n",
       "      <th>PG-13</th>\n",
       "      <td>291045518</td>\n",
       "      <td>2013-06-14</td>\n",
       "    </tr>\n",
       "  </tbody>\n",
       "</table>\n",
       "</div>"
      ],
      "text/plain": [
       "        DomesticTotalGross ReleaseDate\n",
       "Rating                                \n",
       "PG-13            424668047  2013-11-22\n",
       "PG-13            409013994  2013-05-03\n",
       "PG               400738009  2013-11-22\n",
       "PG               368061265  2013-07-03\n",
       "PG-13            291045518  2013-06-14"
      ]
     },
     "execution_count": 106,
     "metadata": {},
     "output_type": "execute_result"
    }
   ],
   "source": [
    "dtg_by_ratings_df =dtg_by_ratings_df.set_index('Rating')\n",
    "dtg_by_ratings_df.head()"
   ]
  },
  {
   "cell_type": "code",
   "execution_count": 110,
   "metadata": {},
   "outputs": [
    {
     "data": {
      "text/plain": [
       "['PG-13', 'PG', 'G', 'R']"
      ]
     },
     "execution_count": 110,
     "metadata": {},
     "output_type": "execute_result"
    }
   ],
   "source": [
    "unique_ratings = list(dtg_by_ratings_df.index.unique())\n",
    "unique_ratings"
   ]
  },
  {
   "cell_type": "code",
   "execution_count": 132,
   "metadata": {},
   "outputs": [
    {
     "data": {
      "text/plain": [
       "268492764"
      ]
     },
     "execution_count": 132,
     "metadata": {},
     "output_type": "execute_result"
    }
   ],
   "source": [
    "dtg_by_ratings_df.loc['G', 'DomesticTotalGross']"
   ]
  },
  {
   "cell_type": "code",
   "execution_count": 146,
   "metadata": {},
   "outputs": [
    {
     "data": {
      "image/png": "[encoded data removed]",
      "text/plain": [
       "<matplotlib.figure.Figure at 0x1a3f8a65470>"
      ]
     },
     "metadata": {},
     "output_type": "display_data"
    }
   ],
   "source": [
    "f, axarr = plt.subplots(len(unique_ratings), sharex=True, figsize=(10, 20))\n",
    "for i in range(len(unique_ratings)):\n",
    "    axarr[i].plot(dtg_by_ratings_df.loc[unique_ratings[i], 'ReleaseDate'],\n",
    "                  dtg_by_ratings_df.loc[unique_ratings[i], 'DomesticTotalGross']/1000000, 'bo')\n",
    "    axarr[i].set_title('Domestic Total Gross in Millions $ Over Time for Rating ' + unique_ratings[i])"
   ]
  },
  {
   "cell_type": "markdown",
   "metadata": {},
   "source": [
    "### Challenge 5\n",
    "\n",
    "What director in your dataset has the highest gross per movie?"
   ]
  },
  {
   "cell_type": "code",
   "execution_count": 168,
   "metadata": {
    "collapsed": true
   },
   "outputs": [
    {
     "data": {
      "text/plain": [
       "['Adam McKay',\n",
       " 'Alan Taylor',\n",
       " 'Alfonso Cuaron',\n",
       " 'Andres Muschietti',\n",
       " 'Andrew Niccol',\n",
       " 'Antoine Fuqua',\n",
       " 'Baltasar Kormakur',\n",
       " 'Barry CookNeil Nightingale',\n",
       " 'Baz Luhrmann',\n",
       " 'Ben Stiller',\n",
       " 'Brad Anderson',\n",
       " 'Brian Helgeland',\n",
       " 'Bryan Singer',\n",
       " 'Cal Brunker',\n",
       " 'Carl Rinsch',\n",
       " 'Chris BuckJennifer Lee',\n",
       " 'Chris Wedge',\n",
       " 'Dan Scanlon',\n",
       " 'David O. Russell',\n",
       " 'David Soren',\n",
       " 'David Twohy',\n",
       " 'Dean Parisot',\n",
       " 'Denis Villeneuve',\n",
       " 'Dennis Dugan',\n",
       " 'Edgar Wright',\n",
       " 'Evan GoldbergSeth Rogen',\n",
       " 'Fede Alvarez',\n",
       " 'Francis Lawrence',\n",
       " 'Gavin Hood',\n",
       " 'Gore Verbinski',\n",
       " 'Guillermo del Toro',\n",
       " 'Harald Zwart',\n",
       " 'J.J. Abrams',\n",
       " 'James DeMonaco',\n",
       " 'James Mangold',\n",
       " 'James Wan',\n",
       " 'Jean-Marc Vallee',\n",
       " 'Jeff Tremaine',\n",
       " 'Jeff Wadlow',\n",
       " 'Jimmy Hayward',\n",
       " 'John Lee Hancock',\n",
       " 'John Luessenhop',\n",
       " 'John Moore',\n",
       " 'John Wells',\n",
       " 'Jon Chu',\n",
       " 'Jon LucasScott Moore',\n",
       " 'Jon Turteltaub',\n",
       " 'Jonathan Levine',\n",
       " 'Joseph Kosinski',\n",
       " 'Justin Lin',\n",
       " 'Ken Scott',\n",
       " 'Kimberly Peirce',\n",
       " 'Kirk De MiccoChris Sanders',\n",
       " 'Klay Hall',\n",
       " 'Lasse Hallstrom',\n",
       " 'Lee Daniels',\n",
       " 'Louis Leterrier',\n",
       " 'Luc Besson',\n",
       " 'M. Night Shyamalan',\n",
       " 'Malcolm D. Lee',\n",
       " 'Marc Forster',\n",
       " 'Martin Scorsese',\n",
       " 'Michael Bay',\n",
       " 'Michael Tiddes',\n",
       " 'Morgan Spurlock',\n",
       " 'Neill Blomkamp',\n",
       " 'Paul Feig',\n",
       " 'Paul Greengrass',\n",
       " 'Peter Berg',\n",
       " 'Peter Jackson',\n",
       " 'Peter Segal',\n",
       " 'Pierre CoffinChris Renaud',\n",
       " 'Raja Gosnell',\n",
       " 'Rawson Marshall Thurber',\n",
       " 'Ric Roman Waugh',\n",
       " 'Robert Schwentke',\n",
       " 'Roland Emmerich',\n",
       " 'Ron Howard',\n",
       " 'Ruben Fleischer',\n",
       " 'Sam Raimi',\n",
       " 'Seth Gordon',\n",
       " 'Shane Black',\n",
       " 'Shawn Levy',\n",
       " 'Spike Jonze',\n",
       " 'Stephen Frears',\n",
       " 'Steve McQueen (II)',\n",
       " 'Steven Soderbergh',\n",
       " 'Thor Freudenthal',\n",
       " 'Todd Phillips',\n",
       " 'Tommy Wirkola',\n",
       " 'Tyler Perry',\n",
       " 'Woody Allen',\n",
       " 'Zack Snyder']"
      ]
     },
     "execution_count": 168,
     "metadata": {},
     "output_type": "execute_result"
    }
   ],
   "source": [
    "unique_directors = list(movies_df.Director.dropna().unique())\n",
    "unique_directors.sort()\n",
    "unique_directors\n",
    "\n",
    "# It looks like some Director entries contain two director names, \n",
    "# which could be a problem if those directors also showed up on \n",
    "# th list individually. They do not on this list, so leaving those\n",
    "# names as they are for now."
   ]
  },
  {
   "cell_type": "code",
   "execution_count": 171,
   "metadata": {},
   "outputs": [],
   "source": [
    "dtg_by_dir_df = movies_df.loc[:, ['DomesticTotalGross', 'Director']]"
   ]
  },
  {
   "cell_type": "code",
   "execution_count": 178,
   "metadata": {},
   "outputs": [
    {
     "data": {
      "text/html": [
       "<div>\n",
       "<style>\n",
       "    .dataframe thead tr:only-child th {\n",
       "        text-align: right;\n",
       "    }\n",
       "\n",
       "    .dataframe thead th {\n",
       "        text-align: left;\n",
       "    }\n",
       "\n",
       "    .dataframe tbody tr th {\n",
       "        vertical-align: top;\n",
       "    }\n",
       "</style>\n",
       "<table border=\"1\" class=\"dataframe\">\n",
       "  <thead>\n",
       "    <tr style=\"text-align: right;\">\n",
       "      <th></th>\n",
       "      <th>DomesticTotalGross</th>\n",
       "    </tr>\n",
       "    <tr>\n",
       "      <th>Director</th>\n",
       "      <th></th>\n",
       "    </tr>\n",
       "  </thead>\n",
       "  <tbody>\n",
       "    <tr>\n",
       "      <th>Francis Lawrence</th>\n",
       "      <td>424668047</td>\n",
       "    </tr>\n",
       "  </tbody>\n",
       "</table>\n",
       "</div>"
      ],
      "text/plain": [
       "                  DomesticTotalGross\n",
       "Director                            \n",
       "Francis Lawrence           424668047"
      ]
     },
     "execution_count": 178,
     "metadata": {},
     "output_type": "execute_result"
    }
   ],
   "source": [
    "# Using the mean domestic total gross as a measure of a director's highest total gross per movie\n",
    "max_dtg_per_dir = dtg_by_dir_df.groupby('Director').mean()\n",
    "max_dtg = max_dtg_per_dir.max()\n",
    "dir_with_max_dtg = max_dtg_per_dir[max_dtg_per_dir.DomesticTotalGross == int(max_dtg)]\n",
    "dir_with_max_dtg"
   ]
  },
  {
   "cell_type": "markdown",
   "metadata": {},
   "source": [
    "### Challenge 6\n",
    "\n",
    "Bin your dataset into months and make a bar graph of the mean domestic total gross by month. Error bars will represent the standard error of the mean.\n",
    "\n",
    "Title of graph should include: Mean Domestic Total Gross by Month in 2013\n",
    "\n",
    "Topic for consideration: what is the correct formula for the standard error of the mean? Examine the error bars and see if they are \"reasonable.\""
   ]
  },
  {
   "cell_type": "code",
   "execution_count": 287,
   "metadata": {},
   "outputs": [],
   "source": [
    "dtg_ts_df = movies_df.loc[:, ['DomesticTotalGross', 'ReleaseDate']].copy()\n",
    "dtg_ts_df.DomesticTotalGross = dtg_ts_df.DomesticTotalGross/1000000"
   ]
  },
  {
   "cell_type": "code",
   "execution_count": 288,
   "metadata": {},
   "outputs": [],
   "source": [
    "df2 = dtg_ts_df.resample('M', on='ReleaseDate').mean().reset_index()"
   ]
  },
  {
   "cell_type": "code",
   "execution_count": 289,
   "metadata": {},
   "outputs": [
    {
     "data": {
      "text/html": [
       "<div>\n",
       "<style>\n",
       "    .dataframe thead tr:only-child th {\n",
       "        text-align: right;\n",
       "    }\n",
       "\n",
       "    .dataframe thead th {\n",
       "        text-align: left;\n",
       "    }\n",
       "\n",
       "    .dataframe tbody tr th {\n",
       "        vertical-align: top;\n",
       "    }\n",
       "</style>\n",
       "<table border=\"1\" class=\"dataframe\">\n",
       "  <thead>\n",
       "    <tr style=\"text-align: right;\">\n",
       "      <th></th>\n",
       "      <th>DomesticTotalGrossAVG</th>\n",
       "    </tr>\n",
       "    <tr>\n",
       "      <th>ReleaseMonth</th>\n",
       "      <th></th>\n",
       "    </tr>\n",
       "  </thead>\n",
       "  <tbody>\n",
       "    <tr>\n",
       "      <th>201301</th>\n",
       "      <td>49.543237</td>\n",
       "    </tr>\n",
       "    <tr>\n",
       "      <th>201302</th>\n",
       "      <td>67.386014</td>\n",
       "    </tr>\n",
       "    <tr>\n",
       "      <th>201303</th>\n",
       "      <td>96.097096</td>\n",
       "    </tr>\n",
       "    <tr>\n",
       "      <th>201304</th>\n",
       "      <td>60.940720</td>\n",
       "    </tr>\n",
       "    <tr>\n",
       "      <th>201305</th>\n",
       "      <td>177.409720</td>\n",
       "    </tr>\n",
       "  </tbody>\n",
       "</table>\n",
       "</div>"
      ],
      "text/plain": [
       "              DomesticTotalGrossAVG\n",
       "ReleaseMonth                       \n",
       "201301                    49.543237\n",
       "201302                    67.386014\n",
       "201303                    96.097096\n",
       "201304                    60.940720\n",
       "201305                   177.409720"
      ]
     },
     "execution_count": 289,
     "metadata": {},
     "output_type": "execute_result"
    }
   ],
   "source": [
    "get_release_month = lambda dt: dt.strftime('%Y%m')\n",
    "\n",
    "df2['ReleaseMonth'] = df2['ReleaseDate'].apply(get_release_month)\n",
    "df2 = df2.set_index('ReleaseMonth')\n",
    "df2 = df2.drop(['ReleaseDate'], axis=1)\n",
    "df2 = df2.rename(columns={'DomesticTotalGross': 'DomesticTotalGrossAVG'})\n",
    "df2.head()"
   ]
  },
  {
   "cell_type": "code",
   "execution_count": 291,
   "metadata": {},
   "outputs": [
    {
     "data": {
      "text/html": [
       "<div>\n",
       "<style>\n",
       "    .dataframe thead tr:only-child th {\n",
       "        text-align: right;\n",
       "    }\n",
       "\n",
       "    .dataframe thead th {\n",
       "        text-align: left;\n",
       "    }\n",
       "\n",
       "    .dataframe tbody tr th {\n",
       "        vertical-align: top;\n",
       "    }\n",
       "</style>\n",
       "<table border=\"1\" class=\"dataframe\">\n",
       "  <thead>\n",
       "    <tr style=\"text-align: right;\">\n",
       "      <th></th>\n",
       "      <th>DomesticTotalGrossSTD</th>\n",
       "    </tr>\n",
       "    <tr>\n",
       "      <th>ReleaseMonth</th>\n",
       "      <th></th>\n",
       "    </tr>\n",
       "  </thead>\n",
       "  <tbody>\n",
       "    <tr>\n",
       "      <th>201301</th>\n",
       "      <td>14.659469</td>\n",
       "    </tr>\n",
       "    <tr>\n",
       "      <th>201302</th>\n",
       "      <td>32.831849</td>\n",
       "    </tr>\n",
       "    <tr>\n",
       "      <th>201303</th>\n",
       "      <td>73.239417</td>\n",
       "    </tr>\n",
       "    <tr>\n",
       "      <th>201304</th>\n",
       "      <td>25.301039</td>\n",
       "    </tr>\n",
       "    <tr>\n",
       "      <th>201305</th>\n",
       "      <td>111.775447</td>\n",
       "    </tr>\n",
       "  </tbody>\n",
       "</table>\n",
       "</div>"
      ],
      "text/plain": [
       "              DomesticTotalGrossSTD\n",
       "ReleaseMonth                       \n",
       "201301                    14.659469\n",
       "201302                    32.831849\n",
       "201303                    73.239417\n",
       "201304                    25.301039\n",
       "201305                   111.775447"
      ]
     },
     "execution_count": 291,
     "metadata": {},
     "output_type": "execute_result"
    }
   ],
   "source": [
    "df3 = dtg_ts_df.resample('M', on='ReleaseDate').std().reset_index()\n",
    "df3 = df3.rename(columns={'DomesticTotalGross': 'DomesticTotalGrossSTD'})\n",
    "\n",
    "df3['ReleaseMonth'] = df3['ReleaseDate'].apply(get_release_month)\n",
    "df3 = df3.set_index('ReleaseMonth')\n",
    "df3 = df3.drop(['ReleaseDate'], axis=1)\n",
    "\n",
    "df3.head()"
   ]
  },
  {
   "cell_type": "code",
   "execution_count": 296,
   "metadata": {},
   "outputs": [
    {
     "data": {
      "text/html": [
       "<div>\n",
       "<style>\n",
       "    .dataframe thead tr:only-child th {\n",
       "        text-align: right;\n",
       "    }\n",
       "\n",
       "    .dataframe thead th {\n",
       "        text-align: left;\n",
       "    }\n",
       "\n",
       "    .dataframe tbody tr th {\n",
       "        vertical-align: top;\n",
       "    }\n",
       "</style>\n",
       "<table border=\"1\" class=\"dataframe\">\n",
       "  <thead>\n",
       "    <tr style=\"text-align: right;\">\n",
       "      <th></th>\n",
       "      <th>Count</th>\n",
       "    </tr>\n",
       "    <tr>\n",
       "      <th>ReleaseDate</th>\n",
       "      <th></th>\n",
       "    </tr>\n",
       "  </thead>\n",
       "  <tbody>\n",
       "    <tr>\n",
       "      <th>2013-01-31</th>\n",
       "      <td>5</td>\n",
       "    </tr>\n",
       "    <tr>\n",
       "      <th>2013-02-28</th>\n",
       "      <td>7</td>\n",
       "    </tr>\n",
       "    <tr>\n",
       "      <th>2013-03-31</th>\n",
       "      <td>9</td>\n",
       "    </tr>\n",
       "    <tr>\n",
       "      <th>2013-04-30</th>\n",
       "      <td>6</td>\n",
       "    </tr>\n",
       "    <tr>\n",
       "      <th>2013-05-31</th>\n",
       "      <td>8</td>\n",
       "    </tr>\n",
       "  </tbody>\n",
       "</table>\n",
       "</div>"
      ],
      "text/plain": [
       "             Count\n",
       "ReleaseDate       \n",
       "2013-01-31       5\n",
       "2013-02-28       7\n",
       "2013-03-31       9\n",
       "2013-04-30       6\n",
       "2013-05-31       8"
      ]
     },
     "execution_count": 296,
     "metadata": {},
     "output_type": "execute_result"
    }
   ],
   "source": [
    "df4 = dtg_ts_df.resample('M', on='ReleaseDate').count()\n",
    "df4 = df4.drop(['ReleaseDate'], axis=1)\n",
    "df4 = df4.rename(columns={'DomesticTotalGross': 'Count'})\n",
    "df4.head()"
   ]
  },
  {
   "cell_type": "code",
   "execution_count": 298,
   "metadata": {},
   "outputs": [
    {
     "data": {
      "text/html": [
       "<div>\n",
       "<style>\n",
       "    .dataframe thead tr:only-child th {\n",
       "        text-align: right;\n",
       "    }\n",
       "\n",
       "    .dataframe thead th {\n",
       "        text-align: left;\n",
       "    }\n",
       "\n",
       "    .dataframe tbody tr th {\n",
       "        vertical-align: top;\n",
       "    }\n",
       "</style>\n",
       "<table border=\"1\" class=\"dataframe\">\n",
       "  <thead>\n",
       "    <tr style=\"text-align: right;\">\n",
       "      <th></th>\n",
       "      <th>DomesticTotalGrossSTD</th>\n",
       "      <th>Count</th>\n",
       "    </tr>\n",
       "    <tr>\n",
       "      <th>ReleaseMonth</th>\n",
       "      <th></th>\n",
       "      <th></th>\n",
       "    </tr>\n",
       "  </thead>\n",
       "  <tbody>\n",
       "    <tr>\n",
       "      <th>201301</th>\n",
       "      <td>14.659469</td>\n",
       "      <td>5</td>\n",
       "    </tr>\n",
       "    <tr>\n",
       "      <th>201302</th>\n",
       "      <td>32.831849</td>\n",
       "      <td>7</td>\n",
       "    </tr>\n",
       "    <tr>\n",
       "      <th>201303</th>\n",
       "      <td>73.239417</td>\n",
       "      <td>9</td>\n",
       "    </tr>\n",
       "    <tr>\n",
       "      <th>201304</th>\n",
       "      <td>25.301039</td>\n",
       "      <td>6</td>\n",
       "    </tr>\n",
       "    <tr>\n",
       "      <th>201305</th>\n",
       "      <td>111.775447</td>\n",
       "      <td>8</td>\n",
       "    </tr>\n",
       "  </tbody>\n",
       "</table>\n",
       "</div>"
      ],
      "text/plain": [
       "              DomesticTotalGrossSTD  Count\n",
       "ReleaseMonth                              \n",
       "201301                    14.659469      5\n",
       "201302                    32.831849      7\n",
       "201303                    73.239417      9\n",
       "201304                    25.301039      6\n",
       "201305                   111.775447      8"
      ]
     },
     "execution_count": 298,
     "metadata": {},
     "output_type": "execute_result"
    }
   ],
   "source": [
    "df4 = df4.reset_index()\n",
    "df4['ReleaseMonth'] = df4['ReleaseDate'].apply(get_release_month)\n",
    "df4 = df4.set_index('ReleaseMonth')\n",
    "df4 = df4.drop(['ReleaseDate'], axis=1)\n",
    "\n",
    "df5 = pd.merge(df3, df4, left_index=True, right_index=True)\n",
    "df5.head()"
   ]
  },
  {
   "cell_type": "code",
   "execution_count": 299,
   "metadata": {},
   "outputs": [],
   "source": [
    "df5['DomesticTotalGrossSE'] = df5.apply (lambda row: row.DomesticTotalGrossSTD/np.sqrt(row.Count),axis=1)"
   ]
  },
  {
   "cell_type": "code",
   "execution_count": 300,
   "metadata": {},
   "outputs": [
    {
     "data": {
      "text/html": [
       "<div>\n",
       "<style>\n",
       "    .dataframe thead tr:only-child th {\n",
       "        text-align: right;\n",
       "    }\n",
       "\n",
       "    .dataframe thead th {\n",
       "        text-align: left;\n",
       "    }\n",
       "\n",
       "    .dataframe tbody tr th {\n",
       "        vertical-align: top;\n",
       "    }\n",
       "</style>\n",
       "<table border=\"1\" class=\"dataframe\">\n",
       "  <thead>\n",
       "    <tr style=\"text-align: right;\">\n",
       "      <th></th>\n",
       "      <th>DomesticTotalGrossSTD</th>\n",
       "      <th>Count</th>\n",
       "      <th>DomesticTotalGrossSE</th>\n",
       "    </tr>\n",
       "    <tr>\n",
       "      <th>ReleaseMonth</th>\n",
       "      <th></th>\n",
       "      <th></th>\n",
       "      <th></th>\n",
       "    </tr>\n",
       "  </thead>\n",
       "  <tbody>\n",
       "    <tr>\n",
       "      <th>201301</th>\n",
       "      <td>14.659469</td>\n",
       "      <td>5</td>\n",
       "      <td>6.555914</td>\n",
       "    </tr>\n",
       "    <tr>\n",
       "      <th>201302</th>\n",
       "      <td>32.831849</td>\n",
       "      <td>7</td>\n",
       "      <td>12.409272</td>\n",
       "    </tr>\n",
       "    <tr>\n",
       "      <th>201303</th>\n",
       "      <td>73.239417</td>\n",
       "      <td>9</td>\n",
       "      <td>24.413139</td>\n",
       "    </tr>\n",
       "    <tr>\n",
       "      <th>201304</th>\n",
       "      <td>25.301039</td>\n",
       "      <td>6</td>\n",
       "      <td>10.329106</td>\n",
       "    </tr>\n",
       "    <tr>\n",
       "      <th>201305</th>\n",
       "      <td>111.775447</td>\n",
       "      <td>8</td>\n",
       "      <td>39.518588</td>\n",
       "    </tr>\n",
       "  </tbody>\n",
       "</table>\n",
       "</div>"
      ],
      "text/plain": [
       "              DomesticTotalGrossSTD  Count  DomesticTotalGrossSE\n",
       "ReleaseMonth                                                    \n",
       "201301                    14.659469      5              6.555914\n",
       "201302                    32.831849      7             12.409272\n",
       "201303                    73.239417      9             24.413139\n",
       "201304                    25.301039      6             10.329106\n",
       "201305                   111.775447      8             39.518588"
      ]
     },
     "execution_count": 300,
     "metadata": {},
     "output_type": "execute_result"
    }
   ],
   "source": [
    "df5.head()"
   ]
  },
  {
   "cell_type": "code",
   "execution_count": 302,
   "metadata": {},
   "outputs": [
    {
     "data": {
      "text/plain": [
       "Text(0.5,1,'Mean Domestic Total Gross by Month in 2013')"
      ]
     },
     "execution_count": 302,
     "metadata": {},
     "output_type": "execute_result"
    },
    {
     "data": {
      "text/plain": [
       "<matplotlib.figure.Figure at 0x1a3f9d51400>"
      ]
     },
     "metadata": {},
     "output_type": "display_data"
    },
    {
     "data": {
      "image/png": "[encoded data removed]",
      "text/plain": [
       "<matplotlib.figure.Figure at 0x1a3fa7576d8>"
      ]
     },
     "metadata": {},
     "output_type": "display_data"
    }
   ],
   "source": [
    "plt.figure(figsize=(10,20))\n",
    "df2.plot(kind='bar', yerr=df5['DomesticTotalGrossSE'], fontsize=12, legend=False)\n",
    "plt.xlabel('release month', fontsize=16)\n",
    "plt.ylabel('millions of \\$\\$', fontsize=16)\n",
    "plt.title('Mean Domestic Total Gross by Month in 2013', fontsize=20)"
   ]
  },
  {
   "cell_type": "code",
   "execution_count": null,
   "metadata": {
    "collapsed": true
   },
   "outputs": [],
   "source": []
  },
  {
   "cell_type": "code",
   "execution_count": null,
   "metadata": {
    "collapsed": true
   },
   "outputs": [],
   "source": []
  }
 ],
 "metadata": {
  "kernelspec": {
   "display_name": "Python 3",
   "language": "python",
   "name": "python3"
  },
  "language_info": {
   "codemirror_mode": {
    "name": "ipython",
    "version": 3
   },
   "file_extension": ".py",
   "mimetype": "text/x-python",
   "name": "python",
   "nbconvert_exporter": "python",
   "pygments_lexer": "ipython3",
   "version": "3.6.3"
  }
 },
 "nbformat": 4,
 "nbformat_minor": 2
}
