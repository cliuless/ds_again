{
 "cells": [
  {
   "cell_type": "code",
   "execution_count": 63,
   "metadata": {
    "collapsed": true
   },
   "outputs": [],
   "source": [
    "## import data\n",
    "import pandas as pd\n",
    "import matplotlib.pyplot as plt\n",
    "import matplotlib.dates as mdates\n",
    "import datetime as datetime\n",
    "\n",
    "%matplotlib inline\n",
    "\n",
    "df = pd.read_csv('2013_movies.csv')"
   ]
  },
  {
   "cell_type": "markdown",
   "metadata": {},
   "source": [
    "**Challenge 1**"
   ]
  },
  {
   "cell_type": "code",
   "execution_count": 53,
   "metadata": {
    "collapsed": true
   },
   "outputs": [],
   "source": [
    "# sort by date\n",
    "df2 = (df\n",
    " .sort_values(by='ReleaseDate')\n",
    ")"
   ]
  },
  {
   "cell_type": "code",
   "execution_count": 54,
   "metadata": {
    "collapsed": true
   },
   "outputs": [],
   "source": [
    "df2[['ReleaseDate']] = pd.to_datetime(df2['ReleaseDate'])"
   ]
  },
  {
   "cell_type": "code",
   "execution_count": 55,
   "metadata": {
    "collapsed": true
   },
   "outputs": [],
   "source": [
    "df2['DomesticTotalGross ($M)'] = df2['DomesticTotalGross'] / 10**6"
   ]
  },
  {
   "cell_type": "code",
   "execution_count": 9,
   "metadata": {
    "collapsed": false
   },
   "outputs": [
    {
     "data": {
      "text/html": [
       "<div>\n",
       "<table border=\"1\" class=\"dataframe\">\n",
       "  <thead>\n",
       "    <tr style=\"text-align: right;\">\n",
       "      <th></th>\n",
       "      <th>Title</th>\n",
       "      <th>Budget</th>\n",
       "      <th>DomesticTotalGross</th>\n",
       "      <th>Director</th>\n",
       "      <th>Rating</th>\n",
       "      <th>Runtime</th>\n",
       "      <th>ReleaseDate</th>\n",
       "      <th>DomesticTotalGross ($M)</th>\n",
       "    </tr>\n",
       "  </thead>\n",
       "  <tbody>\n",
       "    <tr>\n",
       "      <th>83</th>\n",
       "      <td>Texas Chainsaw 3D</td>\n",
       "      <td>NaN</td>\n",
       "      <td>34341945</td>\n",
       "      <td>John Luessenhop</td>\n",
       "      <td>R</td>\n",
       "      <td>92</td>\n",
       "      <td>2013-01-04</td>\n",
       "      <td>34.341945</td>\n",
       "    </tr>\n",
       "    <tr>\n",
       "      <th>76</th>\n",
       "      <td>A Haunted House</td>\n",
       "      <td>2500000.0</td>\n",
       "      <td>40041683</td>\n",
       "      <td>Michael Tiddes</td>\n",
       "      <td>R</td>\n",
       "      <td>80</td>\n",
       "      <td>2013-01-11</td>\n",
       "      <td>40.041683</td>\n",
       "    </tr>\n",
       "    <tr>\n",
       "      <th>70</th>\n",
       "      <td>Gangster Squad</td>\n",
       "      <td>60000000.0</td>\n",
       "      <td>46000903</td>\n",
       "      <td>Ruben Fleischer</td>\n",
       "      <td>R</td>\n",
       "      <td>113</td>\n",
       "      <td>2013-01-11</td>\n",
       "      <td>46.000903</td>\n",
       "    </tr>\n",
       "    <tr>\n",
       "      <th>46</th>\n",
       "      <td>Mama</td>\n",
       "      <td>15000000.0</td>\n",
       "      <td>71628180</td>\n",
       "      <td>Andres Muschietti</td>\n",
       "      <td>PG-13</td>\n",
       "      <td>100</td>\n",
       "      <td>2013-01-18</td>\n",
       "      <td>71.628180</td>\n",
       "    </tr>\n",
       "    <tr>\n",
       "      <th>63</th>\n",
       "      <td>Hansel and Gretel: Witch Hunters</td>\n",
       "      <td>50000000.0</td>\n",
       "      <td>55703475</td>\n",
       "      <td>Tommy Wirkola</td>\n",
       "      <td>R</td>\n",
       "      <td>88</td>\n",
       "      <td>2013-01-25</td>\n",
       "      <td>55.703475</td>\n",
       "    </tr>\n",
       "  </tbody>\n",
       "</table>\n",
       "</div>"
      ],
      "text/plain": [
       "                               Title      Budget  DomesticTotalGross  \\\n",
       "83                 Texas Chainsaw 3D         NaN            34341945   \n",
       "76                   A Haunted House   2500000.0            40041683   \n",
       "70                    Gangster Squad  60000000.0            46000903   \n",
       "46                              Mama  15000000.0            71628180   \n",
       "63  Hansel and Gretel: Witch Hunters  50000000.0            55703475   \n",
       "\n",
       "             Director Rating  Runtime ReleaseDate  DomesticTotalGross ($M)  \n",
       "83    John Luessenhop      R       92  2013-01-04                34.341945  \n",
       "76     Michael Tiddes      R       80  2013-01-11                40.041683  \n",
       "70    Ruben Fleischer      R      113  2013-01-11                46.000903  \n",
       "46  Andres Muschietti  PG-13      100  2013-01-18                71.628180  \n",
       "63      Tommy Wirkola      R       88  2013-01-25                55.703475  "
      ]
     },
     "execution_count": 9,
     "metadata": {},
     "output_type": "execute_result"
    }
   ],
   "source": [
    "df2.head()"
   ]
  },
  {
   "cell_type": "markdown",
   "metadata": {},
   "source": [
    "**Challenge 2**"
   ]
  },
  {
   "cell_type": "code",
   "execution_count": 70,
   "metadata": {
    "collapsed": false
   },
   "outputs": [
    {
     "data": {
      "image/png": "[encoded data removed]",
      "text/plain": [
       "<matplotlib.figure.Figure at 0x11a232b70>"
      ]
     },
     "metadata": {},
     "output_type": "display_data"
    }
   ],
   "source": [
    "# plot the graphs\n",
    "fig, ax = plt.subplots()\n",
    "ax.plot(df2['ReleaseDate'], df2['DomesticTotalGross ($M)']);\n",
    "plt.title('Domestic Total Gross ($ Millions)', fontsize = 15);"
   ]
  },
  {
   "cell_type": "code",
   "execution_count": 71,
   "metadata": {
    "collapsed": false
   },
   "outputs": [
    {
     "data": {
      "image/png": "[encoded data removed]",
      "text/plain": [
       "<matplotlib.figure.Figure at 0x11a273f60>"
      ]
     },
     "metadata": {},
     "output_type": "display_data"
    }
   ],
   "source": [
    "fig, ax = plt.subplots()\n",
    "ax.scatter(df2['Runtime'], df2['DomesticTotalGross ($M)']);\n",
    "plt.xlabel('Run Time (mins)', fontsize=12);\n",
    "plt.ylabel('Domestic Total Gross ($ Millions)', fontsize=12);"
   ]
  },
  {
   "cell_type": "markdown",
   "metadata": {},
   "source": [
    "**Challenge 3**"
   ]
  },
  {
   "cell_type": "code",
   "execution_count": 12,
   "metadata": {
    "collapsed": true
   },
   "outputs": [],
   "source": [
    "# group by ratings\n",
    "df3 = (df2\n",
    ".groupby(by=['Rating'])\n",
    ".mean()\n",
    ".reset_index()\n",
    ")"
   ]
  },
  {
   "cell_type": "code",
   "execution_count": 13,
   "metadata": {
    "collapsed": false
   },
   "outputs": [
    {
     "data": {
      "text/html": [
       "<div>\n",
       "<table border=\"1\" class=\"dataframe\">\n",
       "  <thead>\n",
       "    <tr style=\"text-align: right;\">\n",
       "      <th></th>\n",
       "      <th>Title</th>\n",
       "      <th>Budget</th>\n",
       "      <th>DomesticTotalGross</th>\n",
       "      <th>Director</th>\n",
       "      <th>Rating</th>\n",
       "      <th>Runtime</th>\n",
       "      <th>ReleaseDate</th>\n",
       "      <th>DomesticTotalGross ($M)</th>\n",
       "    </tr>\n",
       "  </thead>\n",
       "  <tbody>\n",
       "    <tr>\n",
       "      <th>83</th>\n",
       "      <td>Texas Chainsaw 3D</td>\n",
       "      <td>NaN</td>\n",
       "      <td>34341945</td>\n",
       "      <td>John Luessenhop</td>\n",
       "      <td>R</td>\n",
       "      <td>92</td>\n",
       "      <td>2013-01-04</td>\n",
       "      <td>34.341945</td>\n",
       "    </tr>\n",
       "    <tr>\n",
       "      <th>76</th>\n",
       "      <td>A Haunted House</td>\n",
       "      <td>2500000.0</td>\n",
       "      <td>40041683</td>\n",
       "      <td>Michael Tiddes</td>\n",
       "      <td>R</td>\n",
       "      <td>80</td>\n",
       "      <td>2013-01-11</td>\n",
       "      <td>40.041683</td>\n",
       "    </tr>\n",
       "    <tr>\n",
       "      <th>70</th>\n",
       "      <td>Gangster Squad</td>\n",
       "      <td>60000000.0</td>\n",
       "      <td>46000903</td>\n",
       "      <td>Ruben Fleischer</td>\n",
       "      <td>R</td>\n",
       "      <td>113</td>\n",
       "      <td>2013-01-11</td>\n",
       "      <td>46.000903</td>\n",
       "    </tr>\n",
       "    <tr>\n",
       "      <th>46</th>\n",
       "      <td>Mama</td>\n",
       "      <td>15000000.0</td>\n",
       "      <td>71628180</td>\n",
       "      <td>Andres Muschietti</td>\n",
       "      <td>PG-13</td>\n",
       "      <td>100</td>\n",
       "      <td>2013-01-18</td>\n",
       "      <td>71.628180</td>\n",
       "    </tr>\n",
       "    <tr>\n",
       "      <th>63</th>\n",
       "      <td>Hansel and Gretel: Witch Hunters</td>\n",
       "      <td>50000000.0</td>\n",
       "      <td>55703475</td>\n",
       "      <td>Tommy Wirkola</td>\n",
       "      <td>R</td>\n",
       "      <td>88</td>\n",
       "      <td>2013-01-25</td>\n",
       "      <td>55.703475</td>\n",
       "    </tr>\n",
       "  </tbody>\n",
       "</table>\n",
       "</div>"
      ],
      "text/plain": [
       "                               Title      Budget  DomesticTotalGross  \\\n",
       "83                 Texas Chainsaw 3D         NaN            34341945   \n",
       "76                   A Haunted House   2500000.0            40041683   \n",
       "70                    Gangster Squad  60000000.0            46000903   \n",
       "46                              Mama  15000000.0            71628180   \n",
       "63  Hansel and Gretel: Witch Hunters  50000000.0            55703475   \n",
       "\n",
       "             Director Rating  Runtime ReleaseDate  DomesticTotalGross ($M)  \n",
       "83    John Luessenhop      R       92  2013-01-04                34.341945  \n",
       "76     Michael Tiddes      R       80  2013-01-11                40.041683  \n",
       "70    Ruben Fleischer      R      113  2013-01-11                46.000903  \n",
       "46  Andres Muschietti  PG-13      100  2013-01-18                71.628180  \n",
       "63      Tommy Wirkola      R       88  2013-01-25                55.703475  "
      ]
     },
     "execution_count": 13,
     "metadata": {},
     "output_type": "execute_result"
    }
   ],
   "source": [
    "df2.head()"
   ]
  },
  {
   "cell_type": "markdown",
   "metadata": {},
   "source": [
    "**Challenge 4**"
   ]
  },
  {
   "cell_type": "code",
   "execution_count": 15,
   "metadata": {
    "collapsed": true
   },
   "outputs": [],
   "source": [
    "## define the subplot format\n",
    "fig, axes = plt.subplots(2, 2, sharex=True, sharey=True)\n",
    "\n",
    "# 4 different kinds of ratings\n",
    "Ratings = ['G', 'PG', 'PG-13', 'R']\n",
    "\n",
    "# axes[0, 0].scatter(df_temp['ReleaseDate'], df_temp['DomesticTotalGross'])\n",
    "for i in range(2):\n",
    "    for j in range(2):\n",
    "        df_temp = df2[df2['Rating'] == Ratings[2*i+j]]\n",
    "        axes[i, j].plot(df_temp['ReleaseDate'], df_temp['DomesticTotalGross ($M)']);\n",
    "\n",
    "axes[0, 0].set(ylabel = 'DomesticTotalGross');\n",
    "axes[1, 0].set(ylabel = 'DomesticTotalGross');\n",
    "for tick in axes[1, 0].get_xticklabels():\n",
    "    tick.set_rotation(45)\n",
    "    \n",
    "for tick in axes[1, 1].get_xticklabels():\n",
    "    tick.set_rotation(45)\n",
    "    \n",
    "    "
   ]
  },
  {
   "cell_type": "markdown",
   "metadata": {},
   "source": [
    "**Challenge 5**"
   ]
  },
  {
   "cell_type": "code",
   "execution_count": 16,
   "metadata": {
    "collapsed": false
   },
   "outputs": [
    {
     "data": {
      "text/plain": [
       "Title                      The Hunger Games: Catching Fire\n",
       "Budget                                             1.3e+08\n",
       "DomesticTotalGross                               424668047\n",
       "Director                                  Francis Lawrence\n",
       "Rating                                               PG-13\n",
       "Runtime                                                146\n",
       "ReleaseDate                            2013-11-22 00:00:00\n",
       "DomesticTotalGross ($M)                            424.668\n",
       "Name: 0, dtype: object"
      ]
     },
     "execution_count": 16,
     "metadata": {},
     "output_type": "execute_result"
    }
   ],
   "source": [
    "## info with the largest total gross\n",
    "df2.loc[df2['DomesticTotalGross'].idxmax()]\n",
    "# The director is Francis Lawrence"
   ]
  },
  {
   "cell_type": "markdown",
   "metadata": {},
   "source": [
    "**Challenge 6**"
   ]
  },
  {
   "cell_type": "code",
   "execution_count": 56,
   "metadata": {
    "collapsed": true
   },
   "outputs": [
    {
     "ename": "AttributeError",
     "evalue": "module 'matplotlib' has no attribute 'plot'",
     "output_type": "error",
     "traceback": [
      "\u001b[0;31m---------------------------------------------------------------------------\u001b[0m",
      "\u001b[0;31mAttributeError\u001b[0m                            Traceback (most recent call last)",
      "\u001b[0;32m<ipython-input-56-75437271f1e9>\u001b[0m in \u001b[0;36m<module>\u001b[0;34m()\u001b[0m\n\u001b[1;32m     10\u001b[0m )\n\u001b[1;32m     11\u001b[0m \u001b[0;34m\u001b[0m\u001b[0m\n\u001b[0;32m---> 12\u001b[0;31m \u001b[0mplt\u001b[0m\u001b[0;34m.\u001b[0m\u001b[0mplot\u001b[0m\u001b[0;34m(\u001b[0m\u001b[0mdf_month\u001b[0m\u001b[0;34m[\u001b[0m\u001b[0;34m'Month'\u001b[0m\u001b[0;34m]\u001b[0m\u001b[0;34m,\u001b[0m \u001b[0mdf_month\u001b[0m\u001b[0;34m[\u001b[0m\u001b[0;34m'DomesticTotalGross ($M)'\u001b[0m\u001b[0;34m]\u001b[0m\u001b[0;34m)\u001b[0m\u001b[0;34m\u001b[0m\u001b[0m\n\u001b[0m",
      "\u001b[0;31mAttributeError\u001b[0m: module 'matplotlib' has no attribute 'plot'"
     ]
    }
   ],
   "source": [
    "# extract months from the ReleaseDate column\n",
    "df2['Month'] = df2['ReleaseDate'].apply(lambda x: x.date().month)\n",
    "\n",
    "# group the data by months\n",
    "df_month = (df2\n",
    " .groupby('Month')\n",
    " .mean()\n",
    " .reset_index()\n",
    " [['Month', 'DomesticTotalGross ($M)']]\n",
    ")\n",
    "\n"
   ]
  },
  {
   "cell_type": "code",
   "execution_count": 69,
   "metadata": {
    "collapsed": false
   },
   "outputs": [
    {
     "data": {
      "image/png": "[encoded data removed]",
      "text/plain": [
       "<matplotlib.figure.Figure at 0x11a0c4940>"
      ]
     },
     "metadata": {},
     "output_type": "display_data"
    }
   ],
   "source": [
    "plt.bar(df_month['Month'], df_month['DomesticTotalGross ($M)']);\n",
    "plt.title('Mean Domestic Total Gross by Month in 2013');\n",
    "plt.ylabel('Domestic Total Gross ($M)');\n",
    "plt.xlabel('Month');"
   ]
  }
 ],
 "metadata": {
  "kernelspec": {
   "display_name": "Python 3",
   "language": "python",
   "name": "python3"
  },
  "language_info": {
   "codemirror_mode": {
    "name": "ipython",
    "version": 3
   },
   "file_extension": ".py",
   "mimetype": "text/x-python",
   "name": "python",
   "nbconvert_exporter": "python",
   "pygments_lexer": "ipython3",
   "version": "3.6.0"
  }
 },
 "nbformat": 4,
 "nbformat_minor": 2
}
