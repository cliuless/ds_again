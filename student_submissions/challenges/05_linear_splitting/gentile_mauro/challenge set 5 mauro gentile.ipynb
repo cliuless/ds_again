{
 "cells": [
  {
   "cell_type": "markdown",
   "metadata": {},
   "source": [
    "# Topic:        Challenge Set 5\n",
    "## Subject:      Linear Reg. and Train/Test Split challenges\n",
    "## Date:         01/28/2018\n",
    "### Name:         Mauro Mario Gentile"
   ]
  },
  {
   "cell_type": "code",
   "execution_count": 1,
   "metadata": {
    "collapsed": true
   },
   "outputs": [],
   "source": [
    "# standard settings\n",
    "test_size=0.30 \n",
    "random_state=4444"
   ]
  },
  {
   "cell_type": "code",
   "execution_count": null,
   "metadata": {
    "collapsed": true
   },
   "outputs": [],
   "source": []
  },
  {
   "cell_type": "code",
   "execution_count": 52,
   "metadata": {
    "collapsed": true
   },
   "outputs": [],
   "source": [
    "import re\n",
    "import pandas as pd\n",
    "%matplotlib inline\n",
    "import matplotlib.pyplot as plt\n",
    "import statsmodels.api as sm\n",
    "import string\n",
    "import patsy\n",
    "import pickle\n",
    "from sklearn.cross_validation import train_test_split\n",
    "from sklearn.linear_model import LinearRegression"
   ]
  },
  {
   "cell_type": "code",
   "execution_count": null,
   "metadata": {
    "collapsed": true
   },
   "outputs": [],
   "source": []
  },
  {
   "cell_type": "code",
   "execution_count": 3,
   "metadata": {
    "collapsed": true
   },
   "outputs": [],
   "source": [
    "df=pd.read_json(\"mojo.json\")\n",
    "financials=pd.read_csv(\"budget.csv\", encoding=\"UTF-8\", sep=\"|\",header=None)\n"
   ]
  },
  {
   "cell_type": "code",
   "execution_count": 4,
   "metadata": {
    "collapsed": true
   },
   "outputs": [],
   "source": [
    "# clean the dep variable"
   ]
  },
  {
   "cell_type": "code",
   "execution_count": 5,
   "metadata": {
    "collapsed": true
   },
   "outputs": [],
   "source": [
    "\n",
    "df[\"domestic_gross\"]=df[\"domestic_gross\"].str.replace(\"n/a\",\"0\")\n",
    "df[\"domestic_gross_clnd\"]=df[\"domestic_gross\"].apply(lambda x: int(re.sub('['+string.punctuation+']', '', x).strip()))\n"
   ]
  },
  {
   "cell_type": "code",
   "execution_count": 6,
   "metadata": {
    "collapsed": true
   },
   "outputs": [],
   "source": [
    "def clean_budget(x):\n",
    "    budg_reg=re.compile(\"\\$(.*) million\", re.IGNORECASE)\n",
    "    budg=None\n",
    "    matches = re.search(budg_reg, x)\n",
    "    if matches!=None:\n",
    "            budg=float(matches.group(1))*1000000\n",
    "    return(budg)\n",
    "df[\"budget_cleaned\"]=df[\"budget\"].apply( clean_budget)"
   ]
  },
  {
   "cell_type": "code",
   "execution_count": 7,
   "metadata": {
    "collapsed": true
   },
   "outputs": [],
   "source": [
    "financials.columns=[\"name\",\"URL_Numb\",\"Budget_Numb\",\"Domestic_Numb\",\"WWide_Numb\",\"o\"]"
   ]
  },
  {
   "cell_type": "code",
   "execution_count": 8,
   "metadata": {
    "collapsed": true
   },
   "outputs": [],
   "source": [
    "df[\"name\"]=df[\"name\"].apply(lambda x: re.sub('[^A-Za-z0-9 ]+', '', x).replace('  ', ' ').strip().lower())\n",
    "financials[\"name\"]=financials[\"name\"].apply(lambda x: re.sub('[^A-Za-z0-9 ]+', '', x).replace('  ', ' ').strip().lower())"
   ]
  },
  {
   "cell_type": "code",
   "execution_count": 9,
   "metadata": {
    "collapsed": true
   },
   "outputs": [],
   "source": [
    "del financials[\"o\"]"
   ]
  },
  {
   "cell_type": "code",
   "execution_count": 10,
   "metadata": {
    "collapsed": true
   },
   "outputs": [],
   "source": [
    "# merge The Numbers and Mojo db\n",
    "df=df.merge(financials, on='name',how=\"left\", indicator=True)"
   ]
  },
  {
   "cell_type": "code",
   "execution_count": 11,
   "metadata": {
    "collapsed": true
   },
   "outputs": [],
   "source": [
    "# Normalize budget, domand int gross from the Numbers\n",
    "\n",
    "mask=df[\"Budget_Numb\"].notnull()\n",
    "df.loc[mask,\"Budget_Numb_clnd\"]=df.loc[mask,\"Budget_Numb\"].apply(lambda x: int(re.sub('['+string.punctuation+']', '', x).strip()))\n",
    "\n",
    "mask=df[\"Domestic_Numb\"].notnull()\n",
    "df.loc[mask,\"Domestic_Numb_clnd\"]=df.loc[mask,\"Domestic_Numb\"].apply(lambda x: 0 if x==0 else int(re.sub('['+string.punctuation+']', '', x).strip()))\n",
    "\n",
    "mask=df[\"WWide_Numb\"].notnull()\n",
    "df.loc[mask,\"WWide_Numb_clnd\"]=df.loc[mask,\"WWide_Numb\"].apply(lambda x: 0 if x==0 else int(re.sub('['+string.punctuation+']', '', x).strip()))\n"
   ]
  },
  {
   "cell_type": "code",
   "execution_count": 12,
   "metadata": {
    "collapsed": true
   },
   "outputs": [],
   "source": [
    "mask=((df[\"budget_cleaned\"].isnull())&(df[\"Budget_Numb_clnd\"].notnull()))"
   ]
  },
  {
   "cell_type": "code",
   "execution_count": 13,
   "metadata": {
    "collapsed": true
   },
   "outputs": [],
   "source": [
    "df.loc[mask, \"budget_cleaned\"]=df.loc[mask, \"Budget_Numb_clnd\"]"
   ]
  },
  {
   "cell_type": "code",
   "execution_count": 14,
   "metadata": {
    "collapsed": true
   },
   "outputs": [],
   "source": [
    "A=df.groupby([\"main_genre\"]).median()[\"budget_cleaned\"]\n",
    "median_budget_by_genre=A.dropna().to_dict()"
   ]
  },
  {
   "cell_type": "code",
   "execution_count": 15,
   "metadata": {
    "collapsed": true
   },
   "outputs": [],
   "source": [
    "# Fill N/A in budget as median value of bujet by genre )"
   ]
  },
  {
   "cell_type": "code",
   "execution_count": 16,
   "metadata": {
    "collapsed": true
   },
   "outputs": [],
   "source": [
    "df.loc[mask, \"budget_cleaned\"]=df.loc[mask].apply(lambda row: median_budget_by_genre[row[\"main_genre\"]] if row[\"main_genre\"] in median_budget_by_genre else np.nan,axis=1 )"
   ]
  },
  {
   "cell_type": "code",
   "execution_count": null,
   "metadata": {
    "collapsed": true
   },
   "outputs": [],
   "source": []
  },
  {
   "cell_type": "code",
   "execution_count": null,
   "metadata": {
    "collapsed": true
   },
   "outputs": [],
   "source": []
  },
  {
   "cell_type": "code",
   "execution_count": 17,
   "metadata": {
    "collapsed": true
   },
   "outputs": [],
   "source": [
    "# I need the release year to adjust financials to tehir 2018 value\n",
    "df[\"release_year\"]=df[\"release_date\"].apply(lambda x: x.split(\" \")[-1].lower())"
   ]
  },
  {
   "cell_type": "code",
   "execution_count": 18,
   "metadata": {
    "collapsed": true
   },
   "outputs": [],
   "source": [
    "adjusting_factor_domestic_gross=pickle.load(open( \"adjusting_factor_domestic_gross.pkl\", \"rb\" ) )"
   ]
  },
  {
   "cell_type": "code",
   "execution_count": 19,
   "metadata": {
    "collapsed": true
   },
   "outputs": [],
   "source": [
    "inflaction_rate=pickle.load(open( \"inflaction_rates.pkl\", \"rb\" ) )"
   ]
  },
  {
   "cell_type": "code",
   "execution_count": 20,
   "metadata": {
    "collapsed": true
   },
   "outputs": [],
   "source": [
    "mask=df[\"domestic_gross_clnd\"]!=0\n",
    "df.loc[mask, \"domestic_gross_clnd_adj\"]=\\\n",
    " df.loc[mask].apply(lambda row: row[\"domestic_gross_clnd\"]\\\n",
    "                    *adjusting_factor_domestic_gross[row[\"release_year\"]],axis=1)"
   ]
  },
  {
   "cell_type": "code",
   "execution_count": 21,
   "metadata": {
    "collapsed": true
   },
   "outputs": [],
   "source": [
    "mask=df[\"budget_cleaned\"]!=0\n",
    "df.loc[mask, \"budget_adj\"]=\\\n",
    " df.loc[mask].apply(lambda row: row[\"budget_cleaned\"]\\\n",
    "                    *inflaction_rate[row[\"release_year\"]],axis=1)"
   ]
  },
  {
   "cell_type": "markdown",
   "metadata": {},
   "source": [
    "## Challenge 1:\n",
    "Build a linear model that uses only a constant term (a column of ones) to predict a continuous outcome (like domestic total gross). How can you interpret the results of this model? What does it predict? Make a plot of predictions against actual outcome. Make a histogram of residuals. How are the residuals distributed?"
   ]
  },
  {
   "cell_type": "code",
   "execution_count": 22,
   "metadata": {},
   "outputs": [
    {
     "name": "stderr",
     "output_type": "stream",
     "text": [
      "/usr/local/lib/python3.6/site-packages/statsmodels/regression/linear_model.py:1396: RuntimeWarning: divide by zero encountered in double_scalars\n",
      "  return self.ess/self.df_model\n"
     ]
    },
    {
     "data": {
      "text/html": [
       "<table class=\"simpletable\">\n",
       "<caption>OLS Regression Results</caption>\n",
       "<tr>\n",
       "  <th>Dep. Variable:</th>    <td>domestic_gross_clnd_adj</td> <th>  R-squared:         </th>  <td>  -0.000</td>  \n",
       "</tr>\n",
       "<tr>\n",
       "  <th>Model:</th>                      <td>OLS</td>           <th>  Adj. R-squared:    </th>  <td>  -0.000</td>  \n",
       "</tr>\n",
       "<tr>\n",
       "  <th>Method:</th>                <td>Least Squares</td>      <th>  F-statistic:       </th>  <td>    -inf</td>  \n",
       "</tr>\n",
       "<tr>\n",
       "  <th>Date:</th>                <td>Sun, 28 Jan 2018</td>     <th>  Prob (F-statistic):</th>   <td>   nan</td>   \n",
       "</tr>\n",
       "<tr>\n",
       "  <th>Time:</th>                    <td>16:14:52</td>         <th>  Log-Likelihood:    </th> <td>-1.9665e+05</td>\n",
       "</tr>\n",
       "<tr>\n",
       "  <th>No. Observations:</th>         <td>  9993</td>          <th>  AIC:               </th>  <td>3.933e+05</td> \n",
       "</tr>\n",
       "<tr>\n",
       "  <th>Df Residuals:</th>             <td>  9992</td>          <th>  BIC:               </th>  <td>3.933e+05</td> \n",
       "</tr>\n",
       "<tr>\n",
       "  <th>Df Model:</th>                 <td>     0</td>          <th>                     </th>      <td> </td>     \n",
       "</tr>\n",
       "<tr>\n",
       "  <th>Covariance Type:</th>         <td>nonrobust</td>        <th>                     </th>      <td> </td>     \n",
       "</tr>\n",
       "</table>\n",
       "<table class=\"simpletable\">\n",
       "<tr>\n",
       "      <td></td>         <th>coef</th>     <th>std err</th>      <th>t</th>      <th>P>|t|</th>  <th>[0.025</th>    <th>0.975]</th>  \n",
       "</tr>\n",
       "<tr>\n",
       "  <th>Intercept</th> <td> 3.884e+07</td> <td> 8.51e+05</td> <td>   45.622</td> <td> 0.000</td> <td> 3.72e+07</td> <td> 4.05e+07</td>\n",
       "</tr>\n",
       "</table>\n",
       "<table class=\"simpletable\">\n",
       "<tr>\n",
       "  <th>Omnibus:</th>       <td>10965.257</td> <th>  Durbin-Watson:     </th>  <td>   0.517</td>  \n",
       "</tr>\n",
       "<tr>\n",
       "  <th>Prob(Omnibus):</th>  <td> 0.000</td>   <th>  Jarque-Bera (JB):  </th> <td>1376204.798</td>\n",
       "</tr>\n",
       "<tr>\n",
       "  <th>Skew:</th>           <td> 5.469</td>   <th>  Prob(JB):          </th>  <td>    0.00</td>  \n",
       "</tr>\n",
       "<tr>\n",
       "  <th>Kurtosis:</th>       <td>59.441</td>   <th>  Cond. No.          </th>  <td>    1.00</td>  \n",
       "</tr>\n",
       "</table>"
      ],
      "text/plain": [
       "<class 'statsmodels.iolib.summary.Summary'>\n",
       "\"\"\"\n",
       "                               OLS Regression Results                              \n",
       "===================================================================================\n",
       "Dep. Variable:     domestic_gross_clnd_adj   R-squared:                      -0.000\n",
       "Model:                                 OLS   Adj. R-squared:                 -0.000\n",
       "Method:                      Least Squares   F-statistic:                      -inf\n",
       "Date:                     Sun, 28 Jan 2018   Prob (F-statistic):                nan\n",
       "Time:                             16:14:52   Log-Likelihood:            -1.9665e+05\n",
       "No. Observations:                     9993   AIC:                         3.933e+05\n",
       "Df Residuals:                         9992   BIC:                         3.933e+05\n",
       "Df Model:                                0                                         \n",
       "Covariance Type:                 nonrobust                                         \n",
       "==============================================================================\n",
       "                 coef    std err          t      P>|t|      [0.025      0.975]\n",
       "------------------------------------------------------------------------------\n",
       "Intercept   3.884e+07   8.51e+05     45.622      0.000    3.72e+07    4.05e+07\n",
       "==============================================================================\n",
       "Omnibus:                    10965.257   Durbin-Watson:                   0.517\n",
       "Prob(Omnibus):                  0.000   Jarque-Bera (JB):          1376204.798\n",
       "Skew:                           5.469   Prob(JB):                         0.00\n",
       "Kurtosis:                      59.441   Cond. No.                         1.00\n",
       "==============================================================================\n",
       "\n",
       "Warnings:\n",
       "[1] Standard Errors assume that the covariance matrix of the errors is correctly specified.\n",
       "\"\"\""
      ]
     },
     "execution_count": 22,
     "metadata": {},
     "output_type": "execute_result"
    }
   ],
   "source": [
    "\n",
    "# Create your feature matrix (X) and target vector (y)\n",
    "y, X = patsy.dmatrices('domestic_gross_clnd_adj ~ 1', data=df, return_type=\"dataframe\")\n",
    "# Create your model\n",
    "model = sm.OLS(y, X)\n",
    "# Fit your model to your training set\n",
    "fit = model.fit()\n",
    "predicted=fit.predict(X)\n",
    "# Print summary statistics of the model's performance\n",
    "fit.summary()"
   ]
  },
  {
   "cell_type": "code",
   "execution_count": 23,
   "metadata": {
    "collapsed": true
   },
   "outputs": [],
   "source": [
    "# the model simply predict the population mean, for any input x.\n",
    "# As such, the SSR is 0 and consequantly R2 is 0.\n"
   ]
  },
  {
   "cell_type": "code",
   "execution_count": 24,
   "metadata": {},
   "outputs": [
    {
     "data": {
      "text/plain": [
       "<matplotlib.collections.PathCollection at 0x10c494160>"
      ]
     },
     "execution_count": 24,
     "metadata": {},
     "output_type": "execute_result"
    },
    {
     "data": {
      "image/png": "[encoded data removed]",
      "text/plain": [
       "<matplotlib.figure.Figure at 0x10c4487f0>"
      ]
     },
     "metadata": {},
     "output_type": "display_data"
    }
   ],
   "source": [
    "plt.scatter(y,predicted)\n"
   ]
  },
  {
   "cell_type": "code",
   "execution_count": 25,
   "metadata": {},
   "outputs": [
    {
     "data": {
      "text/plain": [
       "<matplotlib.axes._subplots.AxesSubplot at 0x113350470>"
      ]
     },
     "execution_count": 25,
     "metadata": {},
     "output_type": "execute_result"
    },
    {
     "data": {
      "image/png": "[encoded data removed]",
      "text/plain": [
       "<matplotlib.figure.Figure at 0x110b55c88>"
      ]
     },
     "metadata": {},
     "output_type": "display_data"
    }
   ],
   "source": [
    "fit.resid.plot(style='o', figsize=(12,8))"
   ]
  },
  {
   "cell_type": "code",
   "execution_count": 26,
   "metadata": {
    "collapsed": true
   },
   "outputs": [],
   "source": [
    "# the residual plot is not meeting the assumptions:\n",
    "# it is not normally distribuited \n",
    "# it is not centered around the 0\n",
    "# It is not homostedatics\n"
   ]
  },
  {
   "cell_type": "code",
   "execution_count": null,
   "metadata": {
    "collapsed": true
   },
   "outputs": [],
   "source": []
  },
  {
   "cell_type": "code",
   "execution_count": null,
   "metadata": {
    "collapsed": true
   },
   "outputs": [],
   "source": []
  },
  {
   "cell_type": "markdown",
   "metadata": {},
   "source": [
    "## Challenge 2\n",
    "Repeat the process of challenge one, but also add one continuous (numeric) predictor variable. Also add plots of model prediction against your feature variable and residuals against feature variable. How can you interpret what's happening in the model?\n"
   ]
  },
  {
   "cell_type": "code",
   "execution_count": 27,
   "metadata": {},
   "outputs": [
    {
     "data": {
      "text/html": [
       "<table class=\"simpletable\">\n",
       "<caption>OLS Regression Results</caption>\n",
       "<tr>\n",
       "  <th>Dep. Variable:</th>    <td>domestic_gross_clnd_adj</td> <th>  R-squared:         </th> <td>   0.251</td> \n",
       "</tr>\n",
       "<tr>\n",
       "  <th>Model:</th>                      <td>OLS</td>           <th>  Adj. R-squared:    </th> <td>   0.251</td> \n",
       "</tr>\n",
       "<tr>\n",
       "  <th>Method:</th>                <td>Least Squares</td>      <th>  F-statistic:       </th> <td>   1230.</td> \n",
       "</tr>\n",
       "<tr>\n",
       "  <th>Date:</th>                <td>Sun, 28 Jan 2018</td>     <th>  Prob (F-statistic):</th> <td>1.55e-232</td>\n",
       "</tr>\n",
       "<tr>\n",
       "  <th>Time:</th>                    <td>16:17:37</td>         <th>  Log-Likelihood:    </th> <td> -72784.</td> \n",
       "</tr>\n",
       "<tr>\n",
       "  <th>No. Observations:</th>         <td>  3663</td>          <th>  AIC:               </th> <td>1.456e+05</td>\n",
       "</tr>\n",
       "<tr>\n",
       "  <th>Df Residuals:</th>             <td>  3661</td>          <th>  BIC:               </th> <td>1.456e+05</td>\n",
       "</tr>\n",
       "<tr>\n",
       "  <th>Df Model:</th>                 <td>     1</td>          <th>                     </th>     <td> </td>    \n",
       "</tr>\n",
       "<tr>\n",
       "  <th>Covariance Type:</th>         <td>nonrobust</td>        <th>                     </th>     <td> </td>    \n",
       "</tr>\n",
       "</table>\n",
       "<table class=\"simpletable\">\n",
       "<tr>\n",
       "       <td></td>         <th>coef</th>     <th>std err</th>      <th>t</th>      <th>P>|t|</th>  <th>[0.025</th>    <th>0.975]</th>  \n",
       "</tr>\n",
       "<tr>\n",
       "  <th>Intercept</th>  <td>  2.27e+07</td> <td> 2.46e+06</td> <td>    9.227</td> <td> 0.000</td> <td> 1.79e+07</td> <td> 2.75e+07</td>\n",
       "</tr>\n",
       "<tr>\n",
       "  <th>budget_adj</th> <td>    1.0941</td> <td>    0.031</td> <td>   35.068</td> <td> 0.000</td> <td>    1.033</td> <td>    1.155</td>\n",
       "</tr>\n",
       "</table>\n",
       "<table class=\"simpletable\">\n",
       "<tr>\n",
       "  <th>Omnibus:</th>       <td>3724.759</td> <th>  Durbin-Watson:     </th>  <td>   0.993</td> \n",
       "</tr>\n",
       "<tr>\n",
       "  <th>Prob(Omnibus):</th>  <td> 0.000</td>  <th>  Jarque-Bera (JB):  </th> <td>388209.354</td>\n",
       "</tr>\n",
       "<tr>\n",
       "  <th>Skew:</th>           <td> 4.769</td>  <th>  Prob(JB):          </th>  <td>    0.00</td> \n",
       "</tr>\n",
       "<tr>\n",
       "  <th>Kurtosis:</th>       <td>52.523</td>  <th>  Cond. No.          </th>  <td>1.14e+08</td> \n",
       "</tr>\n",
       "</table>"
      ],
      "text/plain": [
       "<class 'statsmodels.iolib.summary.Summary'>\n",
       "\"\"\"\n",
       "                               OLS Regression Results                              \n",
       "===================================================================================\n",
       "Dep. Variable:     domestic_gross_clnd_adj   R-squared:                       0.251\n",
       "Model:                                 OLS   Adj. R-squared:                  0.251\n",
       "Method:                      Least Squares   F-statistic:                     1230.\n",
       "Date:                     Sun, 28 Jan 2018   Prob (F-statistic):          1.55e-232\n",
       "Time:                             16:17:37   Log-Likelihood:                -72784.\n",
       "No. Observations:                     3663   AIC:                         1.456e+05\n",
       "Df Residuals:                         3661   BIC:                         1.456e+05\n",
       "Df Model:                                1                                         \n",
       "Covariance Type:                 nonrobust                                         \n",
       "==============================================================================\n",
       "                 coef    std err          t      P>|t|      [0.025      0.975]\n",
       "------------------------------------------------------------------------------\n",
       "Intercept    2.27e+07   2.46e+06      9.227      0.000    1.79e+07    2.75e+07\n",
       "budget_adj     1.0941      0.031     35.068      0.000       1.033       1.155\n",
       "==============================================================================\n",
       "Omnibus:                     3724.759   Durbin-Watson:                   0.993\n",
       "Prob(Omnibus):                  0.000   Jarque-Bera (JB):           388209.354\n",
       "Skew:                           4.769   Prob(JB):                         0.00\n",
       "Kurtosis:                      52.523   Cond. No.                     1.14e+08\n",
       "==============================================================================\n",
       "\n",
       "Warnings:\n",
       "[1] Standard Errors assume that the covariance matrix of the errors is correctly specified.\n",
       "[2] The condition number is large, 1.14e+08. This might indicate that there are\n",
       "strong multicollinearity or other numerical problems.\n",
       "\"\"\""
      ]
     },
     "execution_count": 27,
     "metadata": {},
     "output_type": "execute_result"
    }
   ],
   "source": [
    "\n",
    "# Create your feature matrix (X) and target vector (y)\n",
    "y, X = patsy.dmatrices('domestic_gross_clnd_adj ~ budget_adj', data=df, return_type=\"dataframe\")\n",
    "# Create your model\n",
    "model = sm.OLS(y, X)\n",
    "# Fit your model to your training set\n",
    "fit2 = model.fit()\n",
    "predicted2=fit2.predict(X)\n",
    "# Print summary statistics of the model's performance\n",
    "fit2.summary()"
   ]
  },
  {
   "cell_type": "code",
   "execution_count": 28,
   "metadata": {},
   "outputs": [
    {
     "data": {
      "text/plain": [
       "<matplotlib.collections.PathCollection at 0x110b4c7b8>"
      ]
     },
     "execution_count": 28,
     "metadata": {},
     "output_type": "execute_result"
    },
    {
     "data": {
      "image/png": "[encoded data removed]",
      "text/plain": [
       "<matplotlib.figure.Figure at 0x1133506a0>"
      ]
     },
     "metadata": {},
     "output_type": "display_data"
    }
   ],
   "source": [
    "plt.scatter(y,predicted2)"
   ]
  },
  {
   "cell_type": "markdown",
   "metadata": {},
   "source": [
    "R and adj R2 have imroved. Additionally the p value associated with the budget\n",
    "variable is less than 5%. This means that the Hypotesis test \n",
    "says that it is not insignificant as a predictor (i.e. it rejects the null \n",
    "hypotesis of having beta equal to 0)"
   ]
  },
  {
   "cell_type": "markdown",
   "metadata": {},
   "source": [
    "## Challenge 3\n",
    "Repeat the process of challenge 1, but add a categorical feature (like genre). You'll have to convert a column of text into a number of numerical columns (\"dummy variables\"). How can you interpret what's happening in the model?"
   ]
  },
  {
   "cell_type": "code",
   "execution_count": 29,
   "metadata": {
    "collapsed": true
   },
   "outputs": [],
   "source": [
    "df['main_genre']=df['main_genre'].str.replace(\"/\",\"_\")\n",
    "df['main_genre']=df['main_genre'].str.replace(\" \",\"_\")\n",
    "df['main_genre']=df['main_genre'].str.replace(\"-\",\"_\")\n",
    "dummies = pd.get_dummies(df['main_genre'])\n",
    "df = pd.concat([df, dummies], axis=1)\n"
   ]
  },
  {
   "cell_type": "code",
   "execution_count": 30,
   "metadata": {
    "collapsed": true
   },
   "outputs": [],
   "source": [
    "genres=df['main_genre'].unique()"
   ]
  },
  {
   "cell_type": "code",
   "execution_count": 31,
   "metadata": {
    "collapsed": true
   },
   "outputs": [],
   "source": [
    "str_as_R=\"domestic_gross_clnd_adj ~ budget_adj+\"+\"+\".join(genres)"
   ]
  },
  {
   "cell_type": "code",
   "execution_count": 32,
   "metadata": {},
   "outputs": [
    {
     "data": {
      "text/html": [
       "<table class=\"simpletable\">\n",
       "<caption>OLS Regression Results</caption>\n",
       "<tr>\n",
       "  <th>Dep. Variable:</th>    <td>domestic_gross_clnd_adj</td> <th>  R-squared:         </th> <td>   0.343</td> \n",
       "</tr>\n",
       "<tr>\n",
       "  <th>Model:</th>                      <td>OLS</td>           <th>  Adj. R-squared:    </th> <td>   0.331</td> \n",
       "</tr>\n",
       "<tr>\n",
       "  <th>Method:</th>                <td>Least Squares</td>      <th>  F-statistic:       </th> <td>   28.83</td> \n",
       "</tr>\n",
       "<tr>\n",
       "  <th>Date:</th>                <td>Sun, 28 Jan 2018</td>     <th>  Prob (F-statistic):</th> <td>6.63e-275</td>\n",
       "</tr>\n",
       "<tr>\n",
       "  <th>Time:</th>                    <td>16:18:20</td>         <th>  Log-Likelihood:    </th> <td> -72546.</td> \n",
       "</tr>\n",
       "<tr>\n",
       "  <th>No. Observations:</th>         <td>  3663</td>          <th>  AIC:               </th> <td>1.452e+05</td>\n",
       "</tr>\n",
       "<tr>\n",
       "  <th>Df Residuals:</th>             <td>  3597</td>          <th>  BIC:               </th> <td>1.456e+05</td>\n",
       "</tr>\n",
       "<tr>\n",
       "  <th>Df Model:</th>                 <td>    65</td>          <th>                     </th>     <td> </td>    \n",
       "</tr>\n",
       "<tr>\n",
       "  <th>Covariance Type:</th>         <td>nonrobust</td>        <th>                     </th>     <td> </td>    \n",
       "</tr>\n",
       "</table>\n",
       "<table class=\"simpletable\">\n",
       "<tr>\n",
       "           <td></td>             <th>coef</th>     <th>std err</th>      <th>t</th>      <th>P>|t|</th>  <th>[0.025</th>    <th>0.975]</th>  \n",
       "</tr>\n",
       "<tr>\n",
       "  <th>Intercept</th>          <td> 2.542e+07</td> <td> 4.04e+06</td> <td>    6.295</td> <td> 0.000</td> <td> 1.75e+07</td> <td> 3.33e+07</td>\n",
       "</tr>\n",
       "<tr>\n",
       "  <th>budget_adj</th>         <td>    1.0086</td> <td>    0.040</td> <td>   25.113</td> <td> 0.000</td> <td>    0.930</td> <td>    1.087</td>\n",
       "</tr>\n",
       "<tr>\n",
       "  <th>Fantasy_Comedy</th>     <td> 2.082e+07</td> <td> 1.75e+07</td> <td>    1.189</td> <td> 0.234</td> <td>-1.35e+07</td> <td> 5.51e+07</td>\n",
       "</tr>\n",
       "<tr>\n",
       "  <th>Horror</th>             <td> 1.216e+07</td> <td> 6.87e+06</td> <td>    1.769</td> <td> 0.077</td> <td>-1.32e+06</td> <td> 2.56e+07</td>\n",
       "</tr>\n",
       "<tr>\n",
       "  <th>Horror_Thriller</th>    <td> 1.339e+07</td> <td> 1.47e+07</td> <td>    0.911</td> <td> 0.362</td> <td>-1.54e+07</td> <td> 4.22e+07</td>\n",
       "</tr>\n",
       "<tr>\n",
       "  <th>Action_Comedy</th>      <td>-5.217e+06</td> <td> 1.07e+07</td> <td>   -0.486</td> <td> 0.627</td> <td>-2.62e+07</td> <td> 1.58e+07</td>\n",
       "</tr>\n",
       "<tr>\n",
       "  <th>Crime_Drama</th>        <td>-8.826e+06</td> <td>  1.3e+07</td> <td>   -0.679</td> <td> 0.497</td> <td>-3.43e+07</td> <td> 1.67e+07</td>\n",
       "</tr>\n",
       "<tr>\n",
       "  <th>Action_Thriller</th>    <td>  1.74e+07</td> <td> 1.33e+07</td> <td>    1.307</td> <td> 0.191</td> <td> -8.7e+06</td> <td> 4.35e+07</td>\n",
       "</tr>\n",
       "<tr>\n",
       "  <th>Thriller</th>           <td>-5.619e+06</td> <td> 8.85e+06</td> <td>   -0.635</td> <td> 0.525</td> <td> -2.3e+07</td> <td> 1.17e+07</td>\n",
       "</tr>\n",
       "<tr>\n",
       "  <th>Family_Comedy</th>      <td> 3.277e+07</td> <td> 1.15e+07</td> <td>    2.853</td> <td> 0.004</td> <td> 1.02e+07</td> <td> 5.53e+07</td>\n",
       "</tr>\n",
       "<tr>\n",
       "  <th>Crime_Thriller</th>     <td>-2.868e+07</td> <td> 2.03e+07</td> <td>   -1.413</td> <td> 0.158</td> <td>-6.85e+07</td> <td> 1.11e+07</td>\n",
       "</tr>\n",
       "<tr>\n",
       "  <th>Romantic_Thriller</th>  <td>-3.957e+07</td> <td> 2.22e+07</td> <td>   -1.780</td> <td> 0.075</td> <td>-8.32e+07</td> <td> 4.02e+06</td>\n",
       "</tr>\n",
       "<tr>\n",
       "  <th>Action</th>             <td>-1.688e+07</td> <td> 8.66e+06</td> <td>   -1.948</td> <td> 0.052</td> <td>-3.39e+07</td> <td> 1.13e+05</td>\n",
       "</tr>\n",
       "<tr>\n",
       "  <th>Crime</th>              <td>-1.864e+07</td> <td> 2.03e+07</td> <td>   -0.920</td> <td> 0.358</td> <td>-5.84e+07</td> <td> 2.11e+07</td>\n",
       "</tr>\n",
       "<tr>\n",
       "  <th>Action_Drama</th>       <td>-5.973e+06</td> <td> 1.63e+07</td> <td>   -0.366</td> <td> 0.714</td> <td> -3.8e+07</td> <td>  2.6e+07</td>\n",
       "</tr>\n",
       "<tr>\n",
       "  <th>Action___Crime</th>     <td>-2.268e+07</td> <td> 1.98e+07</td> <td>   -1.143</td> <td> 0.253</td> <td>-6.16e+07</td> <td> 1.62e+07</td>\n",
       "</tr>\n",
       "<tr>\n",
       "  <th>Crime_Comedy</th>       <td>-2.013e+07</td> <td> 1.48e+07</td> <td>   -1.360</td> <td> 0.174</td> <td>-4.92e+07</td> <td> 8.89e+06</td>\n",
       "</tr>\n",
       "<tr>\n",
       "  <th>Adventure</th>          <td>-2.162e+07</td> <td> 2.08e+07</td> <td>   -1.039</td> <td> 0.299</td> <td>-6.24e+07</td> <td> 1.92e+07</td>\n",
       "</tr>\n",
       "<tr>\n",
       "  <th>Action___Adventure</th> <td> 4.566e+07</td> <td> 1.07e+07</td> <td>    4.248</td> <td> 0.000</td> <td> 2.46e+07</td> <td> 6.67e+07</td>\n",
       "</tr>\n",
       "<tr>\n",
       "  <th>Drama___Thriller</th>   <td>-1.984e+07</td> <td> 1.27e+07</td> <td>   -1.565</td> <td> 0.118</td> <td>-4.47e+07</td> <td> 5.02e+06</td>\n",
       "</tr>\n",
       "<tr>\n",
       "  <th>Unknown</th>            <td>-3.196e+07</td> <td> 1.08e+07</td> <td>   -2.950</td> <td> 0.003</td> <td>-5.32e+07</td> <td>-1.07e+07</td>\n",
       "</tr>\n",
       "<tr>\n",
       "  <th>Comedy_Thriller</th>    <td>-3.843e+07</td> <td>  2.5e+07</td> <td>   -1.536</td> <td> 0.125</td> <td>-8.75e+07</td> <td> 1.06e+07</td>\n",
       "</tr>\n",
       "<tr>\n",
       "  <th>Drama</th>              <td>-8.081e+06</td> <td> 7.34e+06</td> <td>   -1.101</td> <td> 0.271</td> <td>-2.25e+07</td> <td> 6.31e+06</td>\n",
       "</tr>\n",
       "<tr>\n",
       "  <th>Comedy</th>             <td> 8.362e+06</td> <td>  5.7e+06</td> <td>    1.466</td> <td> 0.143</td> <td>-2.82e+06</td> <td> 1.95e+07</td>\n",
       "</tr>\n",
       "<tr>\n",
       "  <th>Period_Drama</th>       <td>-2.553e+07</td> <td> 1.59e+07</td> <td>   -1.607</td> <td> 0.108</td> <td>-5.67e+07</td> <td> 5.62e+06</td>\n",
       "</tr>\n",
       "<tr>\n",
       "  <th>Horror_Comedy</th>      <td> 1.699e+07</td> <td> 1.31e+07</td> <td>    1.293</td> <td> 0.196</td> <td>-8.77e+06</td> <td> 4.27e+07</td>\n",
       "</tr>\n",
       "<tr>\n",
       "  <th>Period_Comedy</th>      <td> 6.635e+07</td> <td> 3.64e+07</td> <td>    1.821</td> <td> 0.069</td> <td>-5.09e+06</td> <td> 1.38e+08</td>\n",
       "</tr>\n",
       "<tr>\n",
       "  <th>Sci_Fi_Comedy</th>      <td> -3.95e+07</td> <td> 1.91e+07</td> <td>   -2.069</td> <td> 0.039</td> <td>-7.69e+07</td> <td>-2.08e+06</td>\n",
       "</tr>\n",
       "<tr>\n",
       "  <th>Comedy___Drama</th>     <td>  7.33e+06</td> <td>  1.2e+07</td> <td>    0.610</td> <td> 0.542</td> <td>-1.62e+07</td> <td> 3.09e+07</td>\n",
       "</tr>\n",
       "<tr>\n",
       "  <th>Romantic_Comedy</th>    <td> 1.312e+06</td> <td> 7.72e+06</td> <td>    0.170</td> <td> 0.865</td> <td>-1.38e+07</td> <td> 1.65e+07</td>\n",
       "</tr>\n",
       "<tr>\n",
       "  <th>Action_Horror</th>      <td>-2.246e+07</td> <td>  1.7e+07</td> <td>   -1.322</td> <td> 0.186</td> <td>-5.58e+07</td> <td> 1.08e+07</td>\n",
       "</tr>\n",
       "<tr>\n",
       "  <th>Period_Action</th>      <td>-5.384e+06</td> <td> 2.79e+07</td> <td>   -0.193</td> <td> 0.847</td> <td>-6.01e+07</td> <td> 4.93e+07</td>\n",
       "</tr>\n",
       "<tr>\n",
       "  <th>Family_Adventure</th>   <td> 1.172e+07</td> <td> 1.17e+07</td> <td>    0.999</td> <td> 0.318</td> <td>-1.13e+07</td> <td> 3.47e+07</td>\n",
       "</tr>\n",
       "<tr>\n",
       "  <th>Foreign</th>            <td>-3.086e+07</td> <td> 1.06e+07</td> <td>   -2.925</td> <td> 0.003</td> <td>-5.16e+07</td> <td>-1.02e+07</td>\n",
       "</tr>\n",
       "<tr>\n",
       "  <th>Documentary</th>        <td>-2.048e+07</td> <td> 1.14e+07</td> <td>   -1.801</td> <td> 0.072</td> <td>-4.28e+07</td> <td> 1.82e+06</td>\n",
       "</tr>\n",
       "<tr>\n",
       "  <th>Foreign___Action</th>   <td>-1.979e+07</td> <td> 3.05e+07</td> <td>   -0.648</td> <td> 0.517</td> <td>-7.97e+07</td> <td> 4.01e+07</td>\n",
       "</tr>\n",
       "<tr>\n",
       "  <th>Romance</th>            <td> 2.658e+07</td> <td> 1.11e+07</td> <td>    2.389</td> <td> 0.017</td> <td> 4.77e+06</td> <td> 4.84e+07</td>\n",
       "</tr>\n",
       "<tr>\n",
       "  <th>Musical</th>            <td> 2.446e+07</td> <td>  1.5e+07</td> <td>    1.635</td> <td> 0.102</td> <td>-4.87e+06</td> <td> 5.38e+07</td>\n",
       "</tr>\n",
       "<tr>\n",
       "  <th>War_Drama</th>          <td>-2.299e+07</td> <td> 2.35e+07</td> <td>   -0.979</td> <td> 0.328</td> <td> -6.9e+07</td> <td>  2.3e+07</td>\n",
       "</tr>\n",
       "<tr>\n",
       "  <th>Sports_Drama</th>       <td>-2.246e+06</td> <td> 1.21e+07</td> <td>   -0.186</td> <td> 0.852</td> <td>-2.59e+07</td> <td> 2.14e+07</td>\n",
       "</tr>\n",
       "<tr>\n",
       "  <th>Western</th>            <td>-1.583e+07</td> <td> 1.55e+07</td> <td>   -1.022</td> <td> 0.307</td> <td>-4.62e+07</td> <td> 1.45e+07</td>\n",
       "</tr>\n",
       "<tr>\n",
       "  <th>War_Romance</th>        <td>-2.661e+07</td> <td>  6.8e+07</td> <td>   -0.392</td> <td> 0.695</td> <td> -1.6e+08</td> <td> 1.07e+08</td>\n",
       "</tr>\n",
       "<tr>\n",
       "  <th>Fantasy</th>            <td>-7.932e+06</td> <td> 1.38e+07</td> <td>   -0.573</td> <td> 0.567</td> <td>-3.51e+07</td> <td> 1.92e+07</td>\n",
       "</tr>\n",
       "<tr>\n",
       "  <th>Family</th>             <td>-1.217e+07</td> <td> 1.91e+07</td> <td>   -0.638</td> <td> 0.524</td> <td>-4.96e+07</td> <td> 2.53e+07</td>\n",
       "</tr>\n",
       "<tr>\n",
       "  <th>Action_Fantasy</th>     <td>-3.006e+07</td> <td> 3.05e+07</td> <td>   -0.985</td> <td> 0.325</td> <td>-8.99e+07</td> <td> 2.98e+07</td>\n",
       "</tr>\n",
       "<tr>\n",
       "  <th>Sci_Fi_Horror</th>      <td> 1.995e+07</td> <td> 1.57e+07</td> <td>    1.273</td> <td> 0.203</td> <td>-1.08e+07</td> <td> 5.07e+07</td>\n",
       "</tr>\n",
       "<tr>\n",
       "  <th>Sci_Fi</th>             <td>-3.226e+07</td> <td> 2.03e+07</td> <td>   -1.586</td> <td> 0.113</td> <td>-7.21e+07</td> <td> 7.62e+06</td>\n",
       "</tr>\n",
       "<tr>\n",
       "  <th>Sci_Fi_Action</th>      <td>-4.525e+06</td> <td> 1.23e+07</td> <td>   -0.369</td> <td> 0.712</td> <td>-2.86e+07</td> <td> 1.95e+07</td>\n",
       "</tr>\n",
       "<tr>\n",
       "  <th>Fantasy_Drama</th>      <td>-3.199e+07</td> <td> 2.58e+07</td> <td>   -1.238</td> <td> 0.216</td> <td>-8.27e+07</td> <td> 1.87e+07</td>\n",
       "</tr>\n",
       "<tr>\n",
       "  <th>Foreign___Horror</th>   <td>-2.746e+07</td> <td> 4.81e+07</td> <td>   -0.570</td> <td> 0.568</td> <td>-1.22e+08</td> <td> 6.69e+07</td>\n",
       "</tr>\n",
       "<tr>\n",
       "  <th>Animation</th>          <td> 2.661e+07</td> <td> 7.44e+06</td> <td>    3.574</td> <td> 0.000</td> <td>  1.2e+07</td> <td> 4.12e+07</td>\n",
       "</tr>\n",
       "<tr>\n",
       "  <th>War</th>                <td>-1.041e+07</td> <td> 1.84e+07</td> <td>   -0.564</td> <td> 0.572</td> <td>-4.66e+07</td> <td> 2.57e+07</td>\n",
       "</tr>\n",
       "<tr>\n",
       "  <th>Adventure_Comedy</th>   <td> -7.25e+07</td> <td> 3.22e+07</td> <td>   -2.254</td> <td> 0.024</td> <td>-1.36e+08</td> <td>-9.43e+06</td>\n",
       "</tr>\n",
       "<tr>\n",
       "  <th>Music_Drama</th>        <td> 1.582e+07</td> <td> 1.41e+07</td> <td>    1.120</td> <td> 0.263</td> <td>-1.19e+07</td> <td> 4.35e+07</td>\n",
       "</tr>\n",
       "<tr>\n",
       "  <th>Western_Comedy</th>     <td> -2.79e+07</td> <td> 4.81e+07</td> <td>   -0.580</td> <td> 0.562</td> <td>-1.22e+08</td> <td> 6.65e+07</td>\n",
       "</tr>\n",
       "<tr>\n",
       "  <th>Sports_Action</th>      <td>-4.647e+06</td> <td> 3.64e+07</td> <td>   -0.128</td> <td> 0.898</td> <td> -7.6e+07</td> <td> 6.67e+07</td>\n",
       "</tr>\n",
       "<tr>\n",
       "  <th>Sci_Fi_Adventure</th>   <td> 1.387e+07</td> <td> 1.49e+07</td> <td>    0.932</td> <td> 0.351</td> <td>-1.53e+07</td> <td>  4.3e+07</td>\n",
       "</tr>\n",
       "<tr>\n",
       "  <th>Period_Adventure</th>   <td> 2.736e+07</td> <td> 1.66e+07</td> <td>    1.648</td> <td> 0.100</td> <td> -5.2e+06</td> <td> 5.99e+07</td>\n",
       "</tr>\n",
       "<tr>\n",
       "  <th>Sci_Fi_Thriller</th>    <td>-1.848e+07</td> <td> 1.75e+07</td> <td>   -1.056</td> <td> 0.291</td> <td>-5.28e+07</td> <td> 1.58e+07</td>\n",
       "</tr>\n",
       "<tr>\n",
       "  <th>Concert</th>            <td> 9.605e+04</td> <td> 2.92e+07</td> <td>    0.003</td> <td> 0.997</td> <td>-5.71e+07</td> <td> 5.73e+07</td>\n",
       "</tr>\n",
       "<tr>\n",
       "  <th>Sports_Comedy</th>      <td> 7.602e+06</td> <td> 1.68e+07</td> <td>    0.453</td> <td> 0.650</td> <td>-2.53e+07</td> <td> 4.05e+07</td>\n",
       "</tr>\n",
       "<tr>\n",
       "  <th>IMAX</th>               <td>-4.508e+07</td> <td> 4.81e+07</td> <td>   -0.937</td> <td> 0.349</td> <td>-1.39e+08</td> <td> 4.92e+07</td>\n",
       "</tr>\n",
       "<tr>\n",
       "  <th>Historical_Epic</th>    <td>-1.103e+08</td> <td> 3.71e+07</td> <td>   -2.975</td> <td> 0.003</td> <td>-1.83e+08</td> <td>-3.76e+07</td>\n",
       "</tr>\n",
       "<tr>\n",
       "  <th>Sports</th>             <td>    0.0001</td> <td>    0.000</td> <td>    0.310</td> <td> 0.757</td> <td>   -0.001</td> <td>    0.001</td>\n",
       "</tr>\n",
       "<tr>\n",
       "  <th>Sci_Fi_Fantasy</th>     <td> 6.085e+08</td> <td> 3.22e+07</td> <td>   18.894</td> <td> 0.000</td> <td> 5.45e+08</td> <td> 6.72e+08</td>\n",
       "</tr>\n",
       "<tr>\n",
       "  <th>Historical_Drama</th>   <td> 8.937e+06</td> <td> 2.91e+07</td> <td>    0.307</td> <td> 0.759</td> <td>-4.81e+07</td> <td>  6.6e+07</td>\n",
       "</tr>\n",
       "<tr>\n",
       "  <th>Romantic_Adventure</th> <td>-5.109e+07</td> <td>  6.8e+07</td> <td>   -0.752</td> <td> 0.452</td> <td>-1.84e+08</td> <td> 8.22e+07</td>\n",
       "</tr>\n",
       "<tr>\n",
       "  <th>Period_Horror</th>      <td> 1.973e+06</td> <td> 2.91e+07</td> <td>    0.068</td> <td> 0.946</td> <td>-5.51e+07</td> <td> 5.91e+07</td>\n",
       "</tr>\n",
       "</table>\n",
       "<table class=\"simpletable\">\n",
       "<tr>\n",
       "  <th>Omnibus:</th>       <td>3048.951</td> <th>  Durbin-Watson:     </th>  <td>   1.162</td> \n",
       "</tr>\n",
       "<tr>\n",
       "  <th>Prob(Omnibus):</th>  <td> 0.000</td>  <th>  Jarque-Bera (JB):  </th> <td>164864.877</td>\n",
       "</tr>\n",
       "<tr>\n",
       "  <th>Skew:</th>           <td> 3.607</td>  <th>  Prob(JB):          </th>  <td>    0.00</td> \n",
       "</tr>\n",
       "<tr>\n",
       "  <th>Kurtosis:</th>       <td>35.065</td>  <th>  Cond. No.          </th>  <td>3.04e+19</td> \n",
       "</tr>\n",
       "</table>"
      ],
      "text/plain": [
       "<class 'statsmodels.iolib.summary.Summary'>\n",
       "\"\"\"\n",
       "                               OLS Regression Results                              \n",
       "===================================================================================\n",
       "Dep. Variable:     domestic_gross_clnd_adj   R-squared:                       0.343\n",
       "Model:                                 OLS   Adj. R-squared:                  0.331\n",
       "Method:                      Least Squares   F-statistic:                     28.83\n",
       "Date:                     Sun, 28 Jan 2018   Prob (F-statistic):          6.63e-275\n",
       "Time:                             16:18:20   Log-Likelihood:                -72546.\n",
       "No. Observations:                     3663   AIC:                         1.452e+05\n",
       "Df Residuals:                         3597   BIC:                         1.456e+05\n",
       "Df Model:                               65                                         \n",
       "Covariance Type:                 nonrobust                                         \n",
       "======================================================================================\n",
       "                         coef    std err          t      P>|t|      [0.025      0.975]\n",
       "--------------------------------------------------------------------------------------\n",
       "Intercept           2.542e+07   4.04e+06      6.295      0.000    1.75e+07    3.33e+07\n",
       "budget_adj             1.0086      0.040     25.113      0.000       0.930       1.087\n",
       "Fantasy_Comedy      2.082e+07   1.75e+07      1.189      0.234   -1.35e+07    5.51e+07\n",
       "Horror              1.216e+07   6.87e+06      1.769      0.077   -1.32e+06    2.56e+07\n",
       "Horror_Thriller     1.339e+07   1.47e+07      0.911      0.362   -1.54e+07    4.22e+07\n",
       "Action_Comedy      -5.217e+06   1.07e+07     -0.486      0.627   -2.62e+07    1.58e+07\n",
       "Crime_Drama        -8.826e+06    1.3e+07     -0.679      0.497   -3.43e+07    1.67e+07\n",
       "Action_Thriller      1.74e+07   1.33e+07      1.307      0.191    -8.7e+06    4.35e+07\n",
       "Thriller           -5.619e+06   8.85e+06     -0.635      0.525    -2.3e+07    1.17e+07\n",
       "Family_Comedy       3.277e+07   1.15e+07      2.853      0.004    1.02e+07    5.53e+07\n",
       "Crime_Thriller     -2.868e+07   2.03e+07     -1.413      0.158   -6.85e+07    1.11e+07\n",
       "Romantic_Thriller  -3.957e+07   2.22e+07     -1.780      0.075   -8.32e+07    4.02e+06\n",
       "Action             -1.688e+07   8.66e+06     -1.948      0.052   -3.39e+07    1.13e+05\n",
       "Crime              -1.864e+07   2.03e+07     -0.920      0.358   -5.84e+07    2.11e+07\n",
       "Action_Drama       -5.973e+06   1.63e+07     -0.366      0.714    -3.8e+07     2.6e+07\n",
       "Action___Crime     -2.268e+07   1.98e+07     -1.143      0.253   -6.16e+07    1.62e+07\n",
       "Crime_Comedy       -2.013e+07   1.48e+07     -1.360      0.174   -4.92e+07    8.89e+06\n",
       "Adventure          -2.162e+07   2.08e+07     -1.039      0.299   -6.24e+07    1.92e+07\n",
       "Action___Adventure  4.566e+07   1.07e+07      4.248      0.000    2.46e+07    6.67e+07\n",
       "Drama___Thriller   -1.984e+07   1.27e+07     -1.565      0.118   -4.47e+07    5.02e+06\n",
       "Unknown            -3.196e+07   1.08e+07     -2.950      0.003   -5.32e+07   -1.07e+07\n",
       "Comedy_Thriller    -3.843e+07    2.5e+07     -1.536      0.125   -8.75e+07    1.06e+07\n",
       "Drama              -8.081e+06   7.34e+06     -1.101      0.271   -2.25e+07    6.31e+06\n",
       "Comedy              8.362e+06    5.7e+06      1.466      0.143   -2.82e+06    1.95e+07\n",
       "Period_Drama       -2.553e+07   1.59e+07     -1.607      0.108   -5.67e+07    5.62e+06\n",
       "Horror_Comedy       1.699e+07   1.31e+07      1.293      0.196   -8.77e+06    4.27e+07\n",
       "Period_Comedy       6.635e+07   3.64e+07      1.821      0.069   -5.09e+06    1.38e+08\n",
       "Sci_Fi_Comedy       -3.95e+07   1.91e+07     -2.069      0.039   -7.69e+07   -2.08e+06\n",
       "Comedy___Drama       7.33e+06    1.2e+07      0.610      0.542   -1.62e+07    3.09e+07\n",
       "Romantic_Comedy     1.312e+06   7.72e+06      0.170      0.865   -1.38e+07    1.65e+07\n",
       "Action_Horror      -2.246e+07    1.7e+07     -1.322      0.186   -5.58e+07    1.08e+07\n",
       "Period_Action      -5.384e+06   2.79e+07     -0.193      0.847   -6.01e+07    4.93e+07\n",
       "Family_Adventure    1.172e+07   1.17e+07      0.999      0.318   -1.13e+07    3.47e+07\n",
       "Foreign            -3.086e+07   1.06e+07     -2.925      0.003   -5.16e+07   -1.02e+07\n",
       "Documentary        -2.048e+07   1.14e+07     -1.801      0.072   -4.28e+07    1.82e+06\n",
       "Foreign___Action   -1.979e+07   3.05e+07     -0.648      0.517   -7.97e+07    4.01e+07\n",
       "Romance             2.658e+07   1.11e+07      2.389      0.017    4.77e+06    4.84e+07\n",
       "Musical             2.446e+07    1.5e+07      1.635      0.102   -4.87e+06    5.38e+07\n",
       "War_Drama          -2.299e+07   2.35e+07     -0.979      0.328    -6.9e+07     2.3e+07\n",
       "Sports_Drama       -2.246e+06   1.21e+07     -0.186      0.852   -2.59e+07    2.14e+07\n",
       "Western            -1.583e+07   1.55e+07     -1.022      0.307   -4.62e+07    1.45e+07\n",
       "War_Romance        -2.661e+07    6.8e+07     -0.392      0.695    -1.6e+08    1.07e+08\n",
       "Fantasy            -7.932e+06   1.38e+07     -0.573      0.567   -3.51e+07    1.92e+07\n",
       "Family             -1.217e+07   1.91e+07     -0.638      0.524   -4.96e+07    2.53e+07\n",
       "Action_Fantasy     -3.006e+07   3.05e+07     -0.985      0.325   -8.99e+07    2.98e+07\n",
       "Sci_Fi_Horror       1.995e+07   1.57e+07      1.273      0.203   -1.08e+07    5.07e+07\n",
       "Sci_Fi             -3.226e+07   2.03e+07     -1.586      0.113   -7.21e+07    7.62e+06\n",
       "Sci_Fi_Action      -4.525e+06   1.23e+07     -0.369      0.712   -2.86e+07    1.95e+07\n",
       "Fantasy_Drama      -3.199e+07   2.58e+07     -1.238      0.216   -8.27e+07    1.87e+07\n",
       "Foreign___Horror   -2.746e+07   4.81e+07     -0.570      0.568   -1.22e+08    6.69e+07\n",
       "Animation           2.661e+07   7.44e+06      3.574      0.000     1.2e+07    4.12e+07\n",
       "War                -1.041e+07   1.84e+07     -0.564      0.572   -4.66e+07    2.57e+07\n",
       "Adventure_Comedy    -7.25e+07   3.22e+07     -2.254      0.024   -1.36e+08   -9.43e+06\n",
       "Music_Drama         1.582e+07   1.41e+07      1.120      0.263   -1.19e+07    4.35e+07\n",
       "Western_Comedy      -2.79e+07   4.81e+07     -0.580      0.562   -1.22e+08    6.65e+07\n",
       "Sports_Action      -4.647e+06   3.64e+07     -0.128      0.898    -7.6e+07    6.67e+07\n",
       "Sci_Fi_Adventure    1.387e+07   1.49e+07      0.932      0.351   -1.53e+07     4.3e+07\n",
       "Period_Adventure    2.736e+07   1.66e+07      1.648      0.100    -5.2e+06    5.99e+07\n",
       "Sci_Fi_Thriller    -1.848e+07   1.75e+07     -1.056      0.291   -5.28e+07    1.58e+07\n",
       "Concert             9.605e+04   2.92e+07      0.003      0.997   -5.71e+07    5.73e+07\n",
       "Sports_Comedy       7.602e+06   1.68e+07      0.453      0.650   -2.53e+07    4.05e+07\n",
       "IMAX               -4.508e+07   4.81e+07     -0.937      0.349   -1.39e+08    4.92e+07\n",
       "Historical_Epic    -1.103e+08   3.71e+07     -2.975      0.003   -1.83e+08   -3.76e+07\n",
       "Sports                 0.0001      0.000      0.310      0.757      -0.001       0.001\n",
       "Sci_Fi_Fantasy      6.085e+08   3.22e+07     18.894      0.000    5.45e+08    6.72e+08\n",
       "Historical_Drama    8.937e+06   2.91e+07      0.307      0.759   -4.81e+07     6.6e+07\n",
       "Romantic_Adventure -5.109e+07    6.8e+07     -0.752      0.452   -1.84e+08    8.22e+07\n",
       "Period_Horror       1.973e+06   2.91e+07      0.068      0.946   -5.51e+07    5.91e+07\n",
       "==============================================================================\n",
       "Omnibus:                     3048.951   Durbin-Watson:                   1.162\n",
       "Prob(Omnibus):                  0.000   Jarque-Bera (JB):           164864.877\n",
       "Skew:                           3.607   Prob(JB):                         0.00\n",
       "Kurtosis:                      35.065   Cond. No.                     3.04e+19\n",
       "==============================================================================\n",
       "\n",
       "Warnings:\n",
       "[1] Standard Errors assume that the covariance matrix of the errors is correctly specified.\n",
       "[2] The smallest eigenvalue is 2.46e-20. This might indicate that there are\n",
       "strong multicollinearity problems or that the design matrix is singular.\n",
       "\"\"\""
      ]
     },
     "execution_count": 32,
     "metadata": {},
     "output_type": "execute_result"
    }
   ],
   "source": [
    "y, X = patsy.dmatrices(str_as_R, data=df, return_type=\"dataframe\")\n",
    "\n",
    "model = sm.OLS(y, X)\n",
    "# Fit your model to your training set\n",
    "fit3 = model.fit()\n",
    "predicted3=fit3.predict(X)\n",
    "# Print summary statistics of the model's performance\n",
    "fit3.summary()\n"
   ]
  },
  {
   "cell_type": "code",
   "execution_count": 33,
   "metadata": {},
   "outputs": [
    {
     "data": {
      "text/plain": [
       "<matplotlib.collections.PathCollection at 0x11559eef0>"
      ]
     },
     "execution_count": 33,
     "metadata": {},
     "output_type": "execute_result"
    },
    {
     "data": {
      "image/png": "[encoded data removed]",
      "text/plain": [
       "<matplotlib.figure.Figure at 0x10f7a09b0>"
      ]
     },
     "metadata": {},
     "output_type": "display_data"
    }
   ],
   "source": [
    "plt.scatter(y,predicted3)"
   ]
  },
  {
   "cell_type": "markdown",
   "metadata": {},
   "source": [
    "R2 is increasing and also Adjusted R2.\n",
    "This means that the model is improving. \n"
   ]
  },
  {
   "cell_type": "code",
   "execution_count": 34,
   "metadata": {
    "collapsed": true
   },
   "outputs": [],
   "source": [
    "A=df.copy()"
   ]
  },
  {
   "cell_type": "code",
   "execution_count": 45,
   "metadata": {
    "collapsed": true
   },
   "outputs": [],
   "source": [
    "df=A.copy()"
   ]
  },
  {
   "cell_type": "markdown",
   "metadata": {},
   "source": [
    "## Challenge 4\n",
    "Enhance your model further by adding more features and/or transforming existing features. Think about how you build the model matrix and how to interpret what the model is doing.\n"
   ]
  },
  {
   "cell_type": "code",
   "execution_count": 46,
   "metadata": {
    "collapsed": true
   },
   "outputs": [],
   "source": [
    "import numpy as np\n",
    "#let's apply the box-cox transformation\n",
    "columns_to_keep=[\"domestic_gross_clnd_adj\", \"budget_adj\"]\n",
    "columns_to_keep.extend(genres)\n",
    "\n",
    "df = df.dropna(subset=columns_to_keep)\n",
    "\n",
    "from sklearn import preprocessing\n",
    "from scipy import stats\n",
    "lambdas_dict=dict()\n",
    "def optimal_lambda(x):\n",
    "    return(np.max(stats.boxcox_normmax(x, method='all')))\n",
    "\n",
    "def box_cox_mine(x,lamb):\n",
    "    if lmbda==0:\n",
    "        return(log(x))\n",
    "    else:\n",
    "        return((x**lmbda - 1) / lmbda)\n",
    "    \n",
    "df[columns_to_keep]=preprocessing.normalize(df[columns_to_keep], axis=0)    \n",
    "\n",
    "for column in columns_to_keep:\n",
    "    try:\n",
    "        \n",
    "        lmbda=optimal_lambda(df[column])\n",
    "        df[column]=df[column].apply(lambda x: box_cox_mine(x,lmbda))\n",
    "        lambdas_dict[column]=lmbda\n",
    "    except:\n",
    "        continue\n",
    "   \n",
    "   "
   ]
  },
  {
   "cell_type": "code",
   "execution_count": 47,
   "metadata": {},
   "outputs": [
    {
     "data": {
      "text/html": [
       "<table class=\"simpletable\">\n",
       "<caption>OLS Regression Results</caption>\n",
       "<tr>\n",
       "  <th>Dep. Variable:</th>    <td>domestic_gross_clnd_adj</td> <th>  R-squared:         </th> <td>   0.431</td>\n",
       "</tr>\n",
       "<tr>\n",
       "  <th>Model:</th>                      <td>OLS</td>           <th>  Adj. R-squared:    </th> <td>   0.420</td>\n",
       "</tr>\n",
       "<tr>\n",
       "  <th>Method:</th>                <td>Least Squares</td>      <th>  F-statistic:       </th> <td>   41.84</td>\n",
       "</tr>\n",
       "<tr>\n",
       "  <th>Date:</th>                <td>Sun, 28 Jan 2018</td>     <th>  Prob (F-statistic):</th>  <td>  0.00</td> \n",
       "</tr>\n",
       "<tr>\n",
       "  <th>Time:</th>                    <td>16:28:24</td>         <th>  Log-Likelihood:    </th> <td> -588.27</td>\n",
       "</tr>\n",
       "<tr>\n",
       "  <th>No. Observations:</th>         <td>  3663</td>          <th>  AIC:               </th> <td>   1309.</td>\n",
       "</tr>\n",
       "<tr>\n",
       "  <th>Df Residuals:</th>             <td>  3597</td>          <th>  BIC:               </th> <td>   1718.</td>\n",
       "</tr>\n",
       "<tr>\n",
       "  <th>Df Model:</th>                 <td>    65</td>          <th>                     </th>     <td> </td>   \n",
       "</tr>\n",
       "<tr>\n",
       "  <th>Covariance Type:</th>         <td>nonrobust</td>        <th>                     </th>     <td> </td>   \n",
       "</tr>\n",
       "</table>\n",
       "<table class=\"simpletable\">\n",
       "<tr>\n",
       "           <td></td>             <th>coef</th>     <th>std err</th>      <th>t</th>      <th>P>|t|</th>  <th>[0.025</th>    <th>0.975]</th>  \n",
       "</tr>\n",
       "<tr>\n",
       "  <th>Intercept</th>          <td>   -1.0475</td> <td>    0.058</td> <td>  -18.098</td> <td> 0.000</td> <td>   -1.161</td> <td>   -0.934</td>\n",
       "</tr>\n",
       "<tr>\n",
       "  <th>budget_adj</th>         <td>    0.5939</td> <td>    0.019</td> <td>   31.031</td> <td> 0.000</td> <td>    0.556</td> <td>    0.631</td>\n",
       "</tr>\n",
       "<tr>\n",
       "  <th>Fantasy_Comedy</th>     <td>    0.3574</td> <td>    0.286</td> <td>    1.250</td> <td> 0.211</td> <td>   -0.203</td> <td>    0.918</td>\n",
       "</tr>\n",
       "<tr>\n",
       "  <th>Horror</th>             <td>    1.8258</td> <td>    0.284</td> <td>    6.421</td> <td> 0.000</td> <td>    1.268</td> <td>    2.383</td>\n",
       "</tr>\n",
       "<tr>\n",
       "  <th>Horror_Thriller</th>    <td>   -0.2142</td> <td>    0.286</td> <td>   -0.750</td> <td> 0.454</td> <td>   -0.775</td> <td>    0.346</td>\n",
       "</tr>\n",
       "<tr>\n",
       "  <th>Action_Comedy</th>      <td>    0.0712</td> <td>    0.285</td> <td>    0.250</td> <td> 0.802</td> <td>   -0.487</td> <td>    0.629</td>\n",
       "</tr>\n",
       "<tr>\n",
       "  <th>Crime_Drama</th>        <td>   -0.2198</td> <td>    0.285</td> <td>   -0.772</td> <td> 0.440</td> <td>   -0.778</td> <td>    0.338</td>\n",
       "</tr>\n",
       "<tr>\n",
       "  <th>Action_Thriller</th>    <td>    0.2795</td> <td>    0.287</td> <td>    0.974</td> <td> 0.330</td> <td>   -0.283</td> <td>    0.842</td>\n",
       "</tr>\n",
       "<tr>\n",
       "  <th>Thriller</th>           <td>    0.0236</td> <td>    0.281</td> <td>    0.084</td> <td> 0.933</td> <td>   -0.528</td> <td>    0.575</td>\n",
       "</tr>\n",
       "<tr>\n",
       "  <th>Family_Comedy</th>      <td>    1.0303</td> <td>    0.285</td> <td>    3.616</td> <td> 0.000</td> <td>    0.472</td> <td>    1.589</td>\n",
       "</tr>\n",
       "<tr>\n",
       "  <th>Crime_Thriller</th>     <td>   -0.6564</td> <td>    0.286</td> <td>   -2.294</td> <td> 0.022</td> <td>   -1.217</td> <td>   -0.095</td>\n",
       "</tr>\n",
       "<tr>\n",
       "  <th>Romantic_Thriller</th>  <td>   -0.7243</td> <td>    0.286</td> <td>   -2.530</td> <td> 0.011</td> <td>   -1.286</td> <td>   -0.163</td>\n",
       "</tr>\n",
       "<tr>\n",
       "  <th>Action</th>             <td>   -0.3742</td> <td>    0.286</td> <td>   -1.307</td> <td> 0.191</td> <td>   -0.935</td> <td>    0.187</td>\n",
       "</tr>\n",
       "<tr>\n",
       "  <th>Crime</th>              <td>   -0.4050</td> <td>    0.286</td> <td>   -1.417</td> <td> 0.157</td> <td>   -0.965</td> <td>    0.155</td>\n",
       "</tr>\n",
       "<tr>\n",
       "  <th>Action_Drama</th>       <td>    0.0080</td> <td>    0.287</td> <td>    0.028</td> <td> 0.978</td> <td>   -0.555</td> <td>    0.571</td>\n",
       "</tr>\n",
       "<tr>\n",
       "  <th>Action___Crime</th>     <td>   -0.2380</td> <td>    0.286</td> <td>   -0.833</td> <td> 0.405</td> <td>   -0.798</td> <td>    0.322</td>\n",
       "</tr>\n",
       "<tr>\n",
       "  <th>Crime_Comedy</th>       <td>   -0.7147</td> <td>    0.285</td> <td>   -2.508</td> <td> 0.012</td> <td>   -1.273</td> <td>   -0.156</td>\n",
       "</tr>\n",
       "<tr>\n",
       "  <th>Adventure</th>          <td>   -0.0552</td> <td>    0.288</td> <td>   -0.192</td> <td> 0.848</td> <td>   -0.620</td> <td>    0.509</td>\n",
       "</tr>\n",
       "<tr>\n",
       "  <th>Action___Adventure</th> <td>    0.8347</td> <td>    0.298</td> <td>    2.800</td> <td> 0.005</td> <td>    0.250</td> <td>    1.419</td>\n",
       "</tr>\n",
       "<tr>\n",
       "  <th>Drama___Thriller</th>   <td>   -0.5729</td> <td>    0.284</td> <td>   -2.015</td> <td> 0.044</td> <td>   -1.130</td> <td>   -0.015</td>\n",
       "</tr>\n",
       "<tr>\n",
       "  <th>Unknown</th>            <td>   -2.2576</td> <td>    0.294</td> <td>   -7.684</td> <td> 0.000</td> <td>   -2.834</td> <td>   -1.682</td>\n",
       "</tr>\n",
       "<tr>\n",
       "  <th>Comedy_Thriller</th>    <td>   -0.8669</td> <td>    0.287</td> <td>   -3.025</td> <td> 0.003</td> <td>   -1.429</td> <td>   -0.305</td>\n",
       "</tr>\n",
       "<tr>\n",
       "  <th>Drama</th>              <td>   -0.1782</td> <td>    0.289</td> <td>   -0.618</td> <td> 0.537</td> <td>   -0.744</td> <td>    0.388</td>\n",
       "</tr>\n",
       "<tr>\n",
       "  <th>Comedy</th>             <td>    1.0385</td> <td>    0.274</td> <td>    3.792</td> <td> 0.000</td> <td>    0.501</td> <td>    1.575</td>\n",
       "</tr>\n",
       "<tr>\n",
       "  <th>Period_Drama</th>       <td>   -0.4875</td> <td>    0.285</td> <td>   -1.709</td> <td> 0.088</td> <td>   -1.047</td> <td>    0.072</td>\n",
       "</tr>\n",
       "<tr>\n",
       "  <th>Horror_Comedy</th>      <td>   -0.2872</td> <td>    0.285</td> <td>   -1.007</td> <td> 0.314</td> <td>   -0.846</td> <td>    0.272</td>\n",
       "</tr>\n",
       "<tr>\n",
       "  <th>Period_Comedy</th>      <td>    0.5492</td> <td>    0.286</td> <td>    1.917</td> <td> 0.055</td> <td>   -0.013</td> <td>    1.111</td>\n",
       "</tr>\n",
       "<tr>\n",
       "  <th>Sci_Fi_Comedy</th>      <td>   -0.8646</td> <td>    0.287</td> <td>   -3.014</td> <td> 0.003</td> <td>   -1.427</td> <td>   -0.302</td>\n",
       "</tr>\n",
       "<tr>\n",
       "  <th>Comedy___Drama</th>     <td>    0.3509</td> <td>    0.285</td> <td>    1.231</td> <td> 0.218</td> <td>   -0.208</td> <td>    0.910</td>\n",
       "</tr>\n",
       "<tr>\n",
       "  <th>Romantic_Comedy</th>    <td>   -0.0140</td> <td>    0.279</td> <td>   -0.050</td> <td> 0.960</td> <td>   -0.562</td> <td>    0.534</td>\n",
       "</tr>\n",
       "<tr>\n",
       "  <th>Action_Horror</th>      <td>   -0.2818</td> <td>    0.286</td> <td>   -0.985</td> <td> 0.325</td> <td>   -0.843</td> <td>    0.279</td>\n",
       "</tr>\n",
       "<tr>\n",
       "  <th>Period_Action</th>      <td>    0.0121</td> <td>    0.287</td> <td>    0.042</td> <td> 0.966</td> <td>   -0.550</td> <td>    0.574</td>\n",
       "</tr>\n",
       "<tr>\n",
       "  <th>Family_Adventure</th>   <td>    0.2321</td> <td>    0.286</td> <td>    0.811</td> <td> 0.417</td> <td>   -0.329</td> <td>    0.793</td>\n",
       "</tr>\n",
       "<tr>\n",
       "  <th>Foreign</th>            <td>   -2.0460</td> <td>    0.297</td> <td>   -6.879</td> <td> 0.000</td> <td>   -2.629</td> <td>   -1.463</td>\n",
       "</tr>\n",
       "<tr>\n",
       "  <th>Documentary</th>        <td>   -0.3492</td> <td>    0.316</td> <td>   -1.105</td> <td> 0.269</td> <td>   -0.969</td> <td>    0.270</td>\n",
       "</tr>\n",
       "<tr>\n",
       "  <th>Foreign___Action</th>   <td>   -0.7553</td> <td>    0.286</td> <td>   -2.637</td> <td> 0.008</td> <td>   -1.317</td> <td>   -0.194</td>\n",
       "</tr>\n",
       "<tr>\n",
       "  <th>Romance</th>            <td>    0.4311</td> <td>    0.284</td> <td>    1.520</td> <td> 0.129</td> <td>   -0.125</td> <td>    0.987</td>\n",
       "</tr>\n",
       "<tr>\n",
       "  <th>Musical</th>            <td>    0.3023</td> <td>    0.285</td> <td>    1.060</td> <td> 0.289</td> <td>   -0.257</td> <td>    0.861</td>\n",
       "</tr>\n",
       "<tr>\n",
       "  <th>War_Drama</th>          <td>   -0.4514</td> <td>    0.286</td> <td>   -1.577</td> <td> 0.115</td> <td>   -1.013</td> <td>    0.110</td>\n",
       "</tr>\n",
       "<tr>\n",
       "  <th>Sports_Drama</th>       <td>   -0.2528</td> <td>    0.284</td> <td>   -0.890</td> <td> 0.374</td> <td>   -0.810</td> <td>    0.304</td>\n",
       "</tr>\n",
       "<tr>\n",
       "  <th>Western</th>            <td>   -0.6429</td> <td>    0.285</td> <td>   -2.254</td> <td> 0.024</td> <td>   -1.202</td> <td>   -0.084</td>\n",
       "</tr>\n",
       "<tr>\n",
       "  <th>War_Romance</th>        <td>   -0.0506</td> <td>    0.287</td> <td>   -0.176</td> <td> 0.860</td> <td>   -0.613</td> <td>    0.512</td>\n",
       "</tr>\n",
       "<tr>\n",
       "  <th>Fantasy</th>            <td>   -0.5091</td> <td>    0.292</td> <td>   -1.744</td> <td> 0.081</td> <td>   -1.082</td> <td>    0.063</td>\n",
       "</tr>\n",
       "<tr>\n",
       "  <th>Family</th>             <td>    0.1282</td> <td>    0.286</td> <td>    0.449</td> <td> 0.654</td> <td>   -0.432</td> <td>    0.688</td>\n",
       "</tr>\n",
       "<tr>\n",
       "  <th>Action_Fantasy</th>     <td>   -0.2821</td> <td>    0.286</td> <td>   -0.985</td> <td> 0.325</td> <td>   -0.844</td> <td>    0.280</td>\n",
       "</tr>\n",
       "<tr>\n",
       "  <th>Sci_Fi_Horror</th>      <td>    0.0035</td> <td>    0.286</td> <td>    0.012</td> <td> 0.990</td> <td>   -0.557</td> <td>    0.564</td>\n",
       "</tr>\n",
       "<tr>\n",
       "  <th>Sci_Fi</th>             <td>   -0.3676</td> <td>    0.288</td> <td>   -1.276</td> <td> 0.202</td> <td>   -0.932</td> <td>    0.197</td>\n",
       "</tr>\n",
       "<tr>\n",
       "  <th>Sci_Fi_Action</th>      <td>    0.0135</td> <td>    0.291</td> <td>    0.047</td> <td> 0.963</td> <td>   -0.557</td> <td>    0.584</td>\n",
       "</tr>\n",
       "<tr>\n",
       "  <th>Fantasy_Drama</th>      <td>   -0.2758</td> <td>    0.287</td> <td>   -0.963</td> <td> 0.336</td> <td>   -0.838</td> <td>    0.286</td>\n",
       "</tr>\n",
       "<tr>\n",
       "  <th>Foreign___Horror</th>   <td>   -0.4513</td> <td>    0.287</td> <td>   -1.574</td> <td> 0.116</td> <td>   -1.014</td> <td>    0.111</td>\n",
       "</tr>\n",
       "<tr>\n",
       "  <th>Animation</th>          <td>    0.7224</td> <td>    0.289</td> <td>    2.496</td> <td> 0.013</td> <td>    0.155</td> <td>    1.290</td>\n",
       "</tr>\n",
       "<tr>\n",
       "  <th>War</th>                <td>   -0.2974</td> <td>    0.287</td> <td>   -1.035</td> <td> 0.301</td> <td>   -0.861</td> <td>    0.266</td>\n",
       "</tr>\n",
       "<tr>\n",
       "  <th>Adventure_Comedy</th>   <td>   -0.6850</td> <td>    0.287</td> <td>   -2.386</td> <td> 0.017</td> <td>   -1.248</td> <td>   -0.122</td>\n",
       "</tr>\n",
       "<tr>\n",
       "  <th>Music_Drama</th>        <td>    0.7315</td> <td>    0.286</td> <td>    2.561</td> <td> 0.010</td> <td>    0.171</td> <td>    1.291</td>\n",
       "</tr>\n",
       "<tr>\n",
       "  <th>Western_Comedy</th>     <td>    0.0519</td> <td>    0.287</td> <td>    0.181</td> <td> 0.856</td> <td>   -0.510</td> <td>    0.614</td>\n",
       "</tr>\n",
       "<tr>\n",
       "  <th>Sports_Action</th>      <td>   -0.2475</td> <td>    0.287</td> <td>   -0.864</td> <td> 0.388</td> <td>   -0.809</td> <td>    0.314</td>\n",
       "</tr>\n",
       "<tr>\n",
       "  <th>Sci_Fi_Adventure</th>   <td>    0.2745</td> <td>    0.290</td> <td>    0.945</td> <td> 0.345</td> <td>   -0.295</td> <td>    0.844</td>\n",
       "</tr>\n",
       "<tr>\n",
       "  <th>Period_Adventure</th>   <td>    0.2747</td> <td>    0.290</td> <td>    0.947</td> <td> 0.344</td> <td>   -0.294</td> <td>    0.843</td>\n",
       "</tr>\n",
       "<tr>\n",
       "  <th>Sci_Fi_Thriller</th>    <td>   -0.1433</td> <td>    0.286</td> <td>   -0.502</td> <td> 0.616</td> <td>   -0.703</td> <td>    0.417</td>\n",
       "</tr>\n",
       "<tr>\n",
       "  <th>Concert</th>            <td>    0.5212</td> <td>    0.288</td> <td>    1.812</td> <td> 0.070</td> <td>   -0.043</td> <td>    1.085</td>\n",
       "</tr>\n",
       "<tr>\n",
       "  <th>Sports_Comedy</th>      <td>    0.1652</td> <td>    0.285</td> <td>    0.579</td> <td> 0.563</td> <td>   -0.394</td> <td>    0.725</td>\n",
       "</tr>\n",
       "<tr>\n",
       "  <th>IMAX</th>               <td>   -0.3199</td> <td>    0.287</td> <td>   -1.116</td> <td> 0.265</td> <td>   -0.882</td> <td>    0.242</td>\n",
       "</tr>\n",
       "<tr>\n",
       "  <th>Historical_Epic</th>    <td>   -0.4853</td> <td>    0.288</td> <td>   -1.682</td> <td> 0.093</td> <td>   -1.051</td> <td>    0.080</td>\n",
       "</tr>\n",
       "<tr>\n",
       "  <th>Sports</th>             <td> 4.221e-15</td> <td> 4.67e-15</td> <td>    0.904</td> <td> 0.366</td> <td>-4.94e-15</td> <td> 1.34e-14</td>\n",
       "</tr>\n",
       "<tr>\n",
       "  <th>Sci_Fi_Fantasy</th>     <td>    1.9996</td> <td>    0.287</td> <td>    6.963</td> <td> 0.000</td> <td>    1.437</td> <td>    2.563</td>\n",
       "</tr>\n",
       "<tr>\n",
       "  <th>Historical_Drama</th>   <td>   -0.3114</td> <td>    0.286</td> <td>   -1.088</td> <td> 0.277</td> <td>   -0.873</td> <td>    0.250</td>\n",
       "</tr>\n",
       "<tr>\n",
       "  <th>Romantic_Adventure</th> <td>   -0.1332</td> <td>    0.287</td> <td>   -0.465</td> <td> 0.642</td> <td>   -0.695</td> <td>    0.429</td>\n",
       "</tr>\n",
       "<tr>\n",
       "  <th>Period_Horror</th>      <td>    0.1094</td> <td>    0.287</td> <td>    0.382</td> <td> 0.703</td> <td>   -0.453</td> <td>    0.671</td>\n",
       "</tr>\n",
       "</table>\n",
       "<table class=\"simpletable\">\n",
       "<tr>\n",
       "  <th>Omnibus:</th>       <td>51.394</td> <th>  Durbin-Watson:     </th> <td>   0.996</td>\n",
       "</tr>\n",
       "<tr>\n",
       "  <th>Prob(Omnibus):</th> <td> 0.000</td> <th>  Jarque-Bera (JB):  </th> <td>  91.903</td>\n",
       "</tr>\n",
       "<tr>\n",
       "  <th>Skew:</th>          <td>-0.052</td> <th>  Prob(JB):          </th> <td>1.11e-20</td>\n",
       "</tr>\n",
       "<tr>\n",
       "  <th>Kurtosis:</th>      <td> 3.769</td> <th>  Cond. No.          </th> <td>9.23e+17</td>\n",
       "</tr>\n",
       "</table>"
      ],
      "text/plain": [
       "<class 'statsmodels.iolib.summary.Summary'>\n",
       "\"\"\"\n",
       "                               OLS Regression Results                              \n",
       "===================================================================================\n",
       "Dep. Variable:     domestic_gross_clnd_adj   R-squared:                       0.431\n",
       "Model:                                 OLS   Adj. R-squared:                  0.420\n",
       "Method:                      Least Squares   F-statistic:                     41.84\n",
       "Date:                     Sun, 28 Jan 2018   Prob (F-statistic):               0.00\n",
       "Time:                             16:28:24   Log-Likelihood:                -588.27\n",
       "No. Observations:                     3663   AIC:                             1309.\n",
       "Df Residuals:                         3597   BIC:                             1718.\n",
       "Df Model:                               65                                         \n",
       "Covariance Type:                 nonrobust                                         \n",
       "======================================================================================\n",
       "                         coef    std err          t      P>|t|      [0.025      0.975]\n",
       "--------------------------------------------------------------------------------------\n",
       "Intercept             -1.0475      0.058    -18.098      0.000      -1.161      -0.934\n",
       "budget_adj             0.5939      0.019     31.031      0.000       0.556       0.631\n",
       "Fantasy_Comedy         0.3574      0.286      1.250      0.211      -0.203       0.918\n",
       "Horror                 1.8258      0.284      6.421      0.000       1.268       2.383\n",
       "Horror_Thriller       -0.2142      0.286     -0.750      0.454      -0.775       0.346\n",
       "Action_Comedy          0.0712      0.285      0.250      0.802      -0.487       0.629\n",
       "Crime_Drama           -0.2198      0.285     -0.772      0.440      -0.778       0.338\n",
       "Action_Thriller        0.2795      0.287      0.974      0.330      -0.283       0.842\n",
       "Thriller               0.0236      0.281      0.084      0.933      -0.528       0.575\n",
       "Family_Comedy          1.0303      0.285      3.616      0.000       0.472       1.589\n",
       "Crime_Thriller        -0.6564      0.286     -2.294      0.022      -1.217      -0.095\n",
       "Romantic_Thriller     -0.7243      0.286     -2.530      0.011      -1.286      -0.163\n",
       "Action                -0.3742      0.286     -1.307      0.191      -0.935       0.187\n",
       "Crime                 -0.4050      0.286     -1.417      0.157      -0.965       0.155\n",
       "Action_Drama           0.0080      0.287      0.028      0.978      -0.555       0.571\n",
       "Action___Crime        -0.2380      0.286     -0.833      0.405      -0.798       0.322\n",
       "Crime_Comedy          -0.7147      0.285     -2.508      0.012      -1.273      -0.156\n",
       "Adventure             -0.0552      0.288     -0.192      0.848      -0.620       0.509\n",
       "Action___Adventure     0.8347      0.298      2.800      0.005       0.250       1.419\n",
       "Drama___Thriller      -0.5729      0.284     -2.015      0.044      -1.130      -0.015\n",
       "Unknown               -2.2576      0.294     -7.684      0.000      -2.834      -1.682\n",
       "Comedy_Thriller       -0.8669      0.287     -3.025      0.003      -1.429      -0.305\n",
       "Drama                 -0.1782      0.289     -0.618      0.537      -0.744       0.388\n",
       "Comedy                 1.0385      0.274      3.792      0.000       0.501       1.575\n",
       "Period_Drama          -0.4875      0.285     -1.709      0.088      -1.047       0.072\n",
       "Horror_Comedy         -0.2872      0.285     -1.007      0.314      -0.846       0.272\n",
       "Period_Comedy          0.5492      0.286      1.917      0.055      -0.013       1.111\n",
       "Sci_Fi_Comedy         -0.8646      0.287     -3.014      0.003      -1.427      -0.302\n",
       "Comedy___Drama         0.3509      0.285      1.231      0.218      -0.208       0.910\n",
       "Romantic_Comedy       -0.0140      0.279     -0.050      0.960      -0.562       0.534\n",
       "Action_Horror         -0.2818      0.286     -0.985      0.325      -0.843       0.279\n",
       "Period_Action          0.0121      0.287      0.042      0.966      -0.550       0.574\n",
       "Family_Adventure       0.2321      0.286      0.811      0.417      -0.329       0.793\n",
       "Foreign               -2.0460      0.297     -6.879      0.000      -2.629      -1.463\n",
       "Documentary           -0.3492      0.316     -1.105      0.269      -0.969       0.270\n",
       "Foreign___Action      -0.7553      0.286     -2.637      0.008      -1.317      -0.194\n",
       "Romance                0.4311      0.284      1.520      0.129      -0.125       0.987\n",
       "Musical                0.3023      0.285      1.060      0.289      -0.257       0.861\n",
       "War_Drama             -0.4514      0.286     -1.577      0.115      -1.013       0.110\n",
       "Sports_Drama          -0.2528      0.284     -0.890      0.374      -0.810       0.304\n",
       "Western               -0.6429      0.285     -2.254      0.024      -1.202      -0.084\n",
       "War_Romance           -0.0506      0.287     -0.176      0.860      -0.613       0.512\n",
       "Fantasy               -0.5091      0.292     -1.744      0.081      -1.082       0.063\n",
       "Family                 0.1282      0.286      0.449      0.654      -0.432       0.688\n",
       "Action_Fantasy        -0.2821      0.286     -0.985      0.325      -0.844       0.280\n",
       "Sci_Fi_Horror          0.0035      0.286      0.012      0.990      -0.557       0.564\n",
       "Sci_Fi                -0.3676      0.288     -1.276      0.202      -0.932       0.197\n",
       "Sci_Fi_Action          0.0135      0.291      0.047      0.963      -0.557       0.584\n",
       "Fantasy_Drama         -0.2758      0.287     -0.963      0.336      -0.838       0.286\n",
       "Foreign___Horror      -0.4513      0.287     -1.574      0.116      -1.014       0.111\n",
       "Animation              0.7224      0.289      2.496      0.013       0.155       1.290\n",
       "War                   -0.2974      0.287     -1.035      0.301      -0.861       0.266\n",
       "Adventure_Comedy      -0.6850      0.287     -2.386      0.017      -1.248      -0.122\n",
       "Music_Drama            0.7315      0.286      2.561      0.010       0.171       1.291\n",
       "Western_Comedy         0.0519      0.287      0.181      0.856      -0.510       0.614\n",
       "Sports_Action         -0.2475      0.287     -0.864      0.388      -0.809       0.314\n",
       "Sci_Fi_Adventure       0.2745      0.290      0.945      0.345      -0.295       0.844\n",
       "Period_Adventure       0.2747      0.290      0.947      0.344      -0.294       0.843\n",
       "Sci_Fi_Thriller       -0.1433      0.286     -0.502      0.616      -0.703       0.417\n",
       "Concert                0.5212      0.288      1.812      0.070      -0.043       1.085\n",
       "Sports_Comedy          0.1652      0.285      0.579      0.563      -0.394       0.725\n",
       "IMAX                  -0.3199      0.287     -1.116      0.265      -0.882       0.242\n",
       "Historical_Epic       -0.4853      0.288     -1.682      0.093      -1.051       0.080\n",
       "Sports              4.221e-15   4.67e-15      0.904      0.366   -4.94e-15    1.34e-14\n",
       "Sci_Fi_Fantasy         1.9996      0.287      6.963      0.000       1.437       2.563\n",
       "Historical_Drama      -0.3114      0.286     -1.088      0.277      -0.873       0.250\n",
       "Romantic_Adventure    -0.1332      0.287     -0.465      0.642      -0.695       0.429\n",
       "Period_Horror          0.1094      0.287      0.382      0.703      -0.453       0.671\n",
       "==============================================================================\n",
       "Omnibus:                       51.394   Durbin-Watson:                   0.996\n",
       "Prob(Omnibus):                  0.000   Jarque-Bera (JB):               91.903\n",
       "Skew:                          -0.052   Prob(JB):                     1.11e-20\n",
       "Kurtosis:                       3.769   Cond. No.                     9.23e+17\n",
       "==============================================================================\n",
       "\n",
       "Warnings:\n",
       "[1] Standard Errors assume that the covariance matrix of the errors is correctly specified.\n",
       "[2] The smallest eigenvalue is 4.39e-32. This might indicate that there are\n",
       "strong multicollinearity problems or that the design matrix is singular.\n",
       "\"\"\""
      ]
     },
     "execution_count": 47,
     "metadata": {},
     "output_type": "execute_result"
    }
   ],
   "source": [
    "y, X = patsy.dmatrices(str_as_R, data=df, return_type=\"dataframe\")\n",
    "\n",
    "model = sm.OLS(y, X)\n",
    "# Fit your model to your training set\n",
    "fit4 = model.fit()\n",
    "predicted4=fit4.predict(X)\n",
    "# Print summary statistics of the model's performance\n",
    "fit4.summary()"
   ]
  },
  {
   "cell_type": "markdown",
   "metadata": {},
   "source": [
    "Thanks to Box Cox, \n",
    "Omnibus has decreased a lot\n",
    "\n",
    "Additionally, the model has a better R2 and Adj R2"
   ]
  },
  {
   "cell_type": "markdown",
   "metadata": {},
   "source": [
    "## Challenge 5\n",
    "\n",
    "Fitting and checking predictions on the exact same data set can be\n",
    "misleading. Divide your data into two sets: a training and a test set\n",
    "(roughly 75% training, 25% test is a fine split). Fit a model on the\n",
    "training set, check the predictions (by plotting versus actual values)\n",
    "in the test set."
   ]
  },
  {
   "cell_type": "code",
   "execution_count": 50,
   "metadata": {
    "collapsed": true
   },
   "outputs": [],
   "source": [
    "X_train, X_test, y_train, y_test = train_test_split(X, y, test_size=0.3)"
   ]
  },
  {
   "cell_type": "code",
   "execution_count": 54,
   "metadata": {},
   "outputs": [
    {
     "data": {
      "text/plain": [
       "0.44111871594168456"
      ]
     },
     "execution_count": 54,
     "metadata": {},
     "output_type": "execute_result"
    }
   ],
   "source": [
    "model= LinearRegression()\n",
    "model.fit(X_train,y_train)\n",
    "predicted=model.predict(X_test)\n",
    "model.score(X_test,y_test)\n"
   ]
  },
  {
   "cell_type": "code",
   "execution_count": 55,
   "metadata": {},
   "outputs": [
    {
     "data": {
      "text/plain": [
       "<matplotlib.collections.PathCollection at 0x117680748>"
      ]
     },
     "execution_count": 55,
     "metadata": {},
     "output_type": "execute_result"
    },
    {
     "data": {
      "image/png": "[encoded data removed]",
      "text/plain": [
       "<matplotlib.figure.Figure at 0x1176638d0>"
      ]
     },
     "metadata": {},
     "output_type": "display_data"
    }
   ],
   "source": [
    "plt.scatter(y_test,predicted)"
   ]
  },
  {
   "cell_type": "code",
   "execution_count": null,
   "metadata": {
    "collapsed": true
   },
   "outputs": [],
   "source": []
  }
 ],
 "metadata": {
  "kernelspec": {
   "display_name": "Python 3",
   "language": "python",
   "name": "python3"
  },
  "language_info": {
   "codemirror_mode": {
    "name": "ipython",
    "version": 3
   },
   "file_extension": ".py",
   "mimetype": "text/x-python",
   "name": "python",
   "nbconvert_exporter": "python",
   "pygments_lexer": "ipython3",
   "version": "3.6.1"
  }
 },
 "nbformat": 4,
 "nbformat_minor": 2
}
