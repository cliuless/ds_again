{
 "cells": [
  {
   "cell_type": "markdown",
   "metadata": {},
   "source": [
    "**Topic:**        Challenge Set 5  \n",
    "**Subject:**      Linear Regression and Train/Test Split challenges  \n",
    "**Date:**         01/29/2018  \n",
    "**Name:**         Arina Igumenshcheva  \n",
    "**Worked with:**  N/A  "
   ]
  },
  {
   "cell_type": "code",
   "execution_count": 65,
   "metadata": {
    "collapsed": true
   },
   "outputs": [],
   "source": [
    "# Import all the python library things!\n",
    "import pandas as pd\n",
    "import numpy as np\n",
    "\n",
    "import matplotlib.pyplot as plt\n",
    "%matplotlib inline\n",
    "\n",
    "import datetime\n",
    "\n",
    "import statsmodels.api as sm\n",
    "import statsmodels.formula.api as smf\n",
    "import patsy\n",
    "import seaborn as sns\n",
    "from sklearn.linear_model import LinearRegression\n",
    "from sklearn.linear_model import RidgeCV\n",
    "\n",
    "import re"
   ]
  },
  {
   "cell_type": "code",
   "execution_count": 2,
   "metadata": {
    "scrolled": true
   },
   "outputs": [
    {
     "data": {
      "text/html": [
       "<div>\n",
       "<style>\n",
       "    .dataframe thead tr:only-child th {\n",
       "        text-align: right;\n",
       "    }\n",
       "\n",
       "    .dataframe thead th {\n",
       "        text-align: left;\n",
       "    }\n",
       "\n",
       "    .dataframe tbody tr th {\n",
       "        vertical-align: top;\n",
       "    }\n",
       "</style>\n",
       "<table border=\"1\" class=\"dataframe\">\n",
       "  <thead>\n",
       "    <tr style=\"text-align: right;\">\n",
       "      <th></th>\n",
       "      <th>Title</th>\n",
       "      <th>Budget</th>\n",
       "      <th>DomesticTotalGross</th>\n",
       "      <th>Director</th>\n",
       "      <th>Rating</th>\n",
       "      <th>Runtime</th>\n",
       "      <th>ReleaseDate</th>\n",
       "    </tr>\n",
       "  </thead>\n",
       "  <tbody>\n",
       "    <tr>\n",
       "      <th>0</th>\n",
       "      <td>The Hunger Games: Catching Fire</td>\n",
       "      <td>130000000.0</td>\n",
       "      <td>424668047</td>\n",
       "      <td>Francis Lawrence</td>\n",
       "      <td>PG-13</td>\n",
       "      <td>146</td>\n",
       "      <td>2013-11-22</td>\n",
       "    </tr>\n",
       "    <tr>\n",
       "      <th>1</th>\n",
       "      <td>Iron Man 3</td>\n",
       "      <td>200000000.0</td>\n",
       "      <td>409013994</td>\n",
       "      <td>Shane Black</td>\n",
       "      <td>PG-13</td>\n",
       "      <td>129</td>\n",
       "      <td>2013-05-03</td>\n",
       "    </tr>\n",
       "    <tr>\n",
       "      <th>2</th>\n",
       "      <td>Frozen</td>\n",
       "      <td>150000000.0</td>\n",
       "      <td>400738009</td>\n",
       "      <td>Chris BuckJennifer Lee</td>\n",
       "      <td>PG</td>\n",
       "      <td>108</td>\n",
       "      <td>2013-11-22</td>\n",
       "    </tr>\n",
       "    <tr>\n",
       "      <th>3</th>\n",
       "      <td>Despicable Me 2</td>\n",
       "      <td>76000000.0</td>\n",
       "      <td>368061265</td>\n",
       "      <td>Pierre CoffinChris Renaud</td>\n",
       "      <td>PG</td>\n",
       "      <td>98</td>\n",
       "      <td>2013-07-03</td>\n",
       "    </tr>\n",
       "    <tr>\n",
       "      <th>4</th>\n",
       "      <td>Man of Steel</td>\n",
       "      <td>225000000.0</td>\n",
       "      <td>291045518</td>\n",
       "      <td>Zack Snyder</td>\n",
       "      <td>PG-13</td>\n",
       "      <td>143</td>\n",
       "      <td>2013-06-14</td>\n",
       "    </tr>\n",
       "  </tbody>\n",
       "</table>\n",
       "</div>"
      ],
      "text/plain": [
       "                             Title       Budget  DomesticTotalGross  \\\n",
       "0  The Hunger Games: Catching Fire  130000000.0           424668047   \n",
       "1                       Iron Man 3  200000000.0           409013994   \n",
       "2                           Frozen  150000000.0           400738009   \n",
       "3                  Despicable Me 2   76000000.0           368061265   \n",
       "4                     Man of Steel  225000000.0           291045518   \n",
       "\n",
       "                    Director Rating  Runtime ReleaseDate  \n",
       "0           Francis Lawrence  PG-13      146  2013-11-22  \n",
       "1                Shane Black  PG-13      129  2013-05-03  \n",
       "2     Chris BuckJennifer Lee     PG      108  2013-11-22  \n",
       "3  Pierre CoffinChris Renaud     PG       98  2013-07-03  \n",
       "4                Zack Snyder  PG-13      143  2013-06-14  "
      ]
     },
     "execution_count": 2,
     "metadata": {},
     "output_type": "execute_result"
    }
   ],
   "source": [
    "# Import the movies data\n",
    "filepath = 'https://raw.githubusercontent.com/33eyes/nyc18_ds14/master/challenges/challenges_data/2013_movies.csv?token=ANE-v-MauItGvS7Y5l5d8R09FhJo3z-Bks5aeZN3wA%3D%3D'\n",
    "movies_df = pd.read_csv(filepath,\n",
    "        parse_dates =['ReleaseDate'])\n",
    "\n",
    "movies_df.head()"
   ]
  },
  {
   "cell_type": "code",
   "execution_count": 85,
   "metadata": {},
   "outputs": [
    {
     "name": "stdout",
     "output_type": "stream",
     "text": [
      "<class 'pandas.core.frame.DataFrame'>\n",
      "RangeIndex: 100 entries, 0 to 99\n",
      "Data columns (total 13 columns):\n",
      "Title                 100 non-null object\n",
      "Budget                89 non-null float64\n",
      "DomesticTotalGross    100 non-null int64\n",
      "Director              96 non-null object\n",
      "Rating                100 non-null object\n",
      "Runtime               100 non-null int64\n",
      "ReleaseDate           100 non-null datetime64[ns]\n",
      "rating_G              100 non-null uint8\n",
      "rating_PG             100 non-null uint8\n",
      "rating_PG13           100 non-null uint8\n",
      "rating_R              100 non-null uint8\n",
      "log_budget            89 non-null float64\n",
      "title_length          100 non-null int64\n",
      "dtypes: datetime64[ns](1), float64(2), int64(3), object(3), uint8(4)\n",
      "memory usage: 7.5+ KB\n"
     ]
    }
   ],
   "source": [
    "movies_df.info()"
   ]
  },
  {
   "cell_type": "markdown",
   "metadata": {},
   "source": [
    "### Challenge 1\n",
    "\n",
    "Build a linear model that uses only a constant term (a column of ones) to predict a continuous outcome (like domestic total gross). How can you interpret the results of this model? What does it predict? Make a plot of predictions against actual outcome. Make a histogram of residuals. How are the residuals distributed?"
   ]
  },
  {
   "cell_type": "code",
   "execution_count": 3,
   "metadata": {
    "collapsed": true
   },
   "outputs": [],
   "source": [
    "# Create feature matrix X and target vector y\n",
    "y, X = patsy.dmatrices('DomesticTotalGross ~ 1', data=movies_df, return_type=\"dataframe\")"
   ]
  },
  {
   "cell_type": "code",
   "execution_count": 4,
   "metadata": {},
   "outputs": [
    {
     "name": "stderr",
     "output_type": "stream",
     "text": [
      "C:\\Users\\Arina\\Anaconda3\\lib\\site-packages\\statsmodels\\regression\\linear_model.py:1396: RuntimeWarning: divide by zero encountered in double_scalars\n",
      "  return self.ess/self.df_model\n"
     ]
    },
    {
     "data": {
      "text/html": [
       "<table class=\"simpletable\">\n",
       "<caption>OLS Regression Results</caption>\n",
       "<tr>\n",
       "  <th>Dep. Variable:</th>    <td>DomesticTotalGross</td> <th>  R-squared:         </th> <td>   0.000</td>\n",
       "</tr>\n",
       "<tr>\n",
       "  <th>Model:</th>                    <td>OLS</td>        <th>  Adj. R-squared:    </th> <td>   0.000</td>\n",
       "</tr>\n",
       "<tr>\n",
       "  <th>Method:</th>              <td>Least Squares</td>   <th>  F-statistic:       </th> <td>     inf</td>\n",
       "</tr>\n",
       "<tr>\n",
       "  <th>Date:</th>              <td>Tue, 30 Jan 2018</td>  <th>  Prob (F-statistic):</th>  <td>   nan</td> \n",
       "</tr>\n",
       "<tr>\n",
       "  <th>Time:</th>                  <td>21:55:17</td>      <th>  Log-Likelihood:    </th> <td> -1970.0</td>\n",
       "</tr>\n",
       "<tr>\n",
       "  <th>No. Observations:</th>       <td>   100</td>       <th>  AIC:               </th> <td>   3942.</td>\n",
       "</tr>\n",
       "<tr>\n",
       "  <th>Df Residuals:</th>           <td>    99</td>       <th>  BIC:               </th> <td>   3945.</td>\n",
       "</tr>\n",
       "<tr>\n",
       "  <th>Df Model:</th>               <td>     0</td>       <th>                     </th>     <td> </td>   \n",
       "</tr>\n",
       "<tr>\n",
       "  <th>Covariance Type:</th>       <td>nonrobust</td>     <th>                     </th>     <td> </td>   \n",
       "</tr>\n",
       "</table>\n",
       "<table class=\"simpletable\">\n",
       "<tr>\n",
       "      <td></td>         <th>coef</th>     <th>std err</th>      <th>t</th>      <th>P>|t|</th>  <th>[0.025</th>    <th>0.975]</th>  \n",
       "</tr>\n",
       "<tr>\n",
       "  <th>Intercept</th> <td> 1.006e+08</td> <td> 8.74e+06</td> <td>   11.510</td> <td> 0.000</td> <td> 8.33e+07</td> <td> 1.18e+08</td>\n",
       "</tr>\n",
       "</table>\n",
       "<table class=\"simpletable\">\n",
       "<tr>\n",
       "  <th>Omnibus:</th>       <td>51.114</td> <th>  Durbin-Watson:     </th> <td>   0.013</td>\n",
       "</tr>\n",
       "<tr>\n",
       "  <th>Prob(Omnibus):</th> <td> 0.000</td> <th>  Jarque-Bera (JB):  </th> <td> 125.961</td>\n",
       "</tr>\n",
       "<tr>\n",
       "  <th>Skew:</th>          <td> 1.985</td> <th>  Prob(JB):          </th> <td>4.45e-28</td>\n",
       "</tr>\n",
       "<tr>\n",
       "  <th>Kurtosis:</th>      <td> 6.804</td> <th>  Cond. No.          </th> <td>    1.00</td>\n",
       "</tr>\n",
       "</table>"
      ],
      "text/plain": [
       "<class 'statsmodels.iolib.summary.Summary'>\n",
       "\"\"\"\n",
       "                            OLS Regression Results                            \n",
       "==============================================================================\n",
       "Dep. Variable:     DomesticTotalGross   R-squared:                       0.000\n",
       "Model:                            OLS   Adj. R-squared:                  0.000\n",
       "Method:                 Least Squares   F-statistic:                       inf\n",
       "Date:                Tue, 30 Jan 2018   Prob (F-statistic):                nan\n",
       "Time:                        21:55:17   Log-Likelihood:                -1970.0\n",
       "No. Observations:                 100   AIC:                             3942.\n",
       "Df Residuals:                      99   BIC:                             3945.\n",
       "Df Model:                           0                                         \n",
       "Covariance Type:            nonrobust                                         \n",
       "==============================================================================\n",
       "                 coef    std err          t      P>|t|      [0.025      0.975]\n",
       "------------------------------------------------------------------------------\n",
       "Intercept   1.006e+08   8.74e+06     11.510      0.000    8.33e+07    1.18e+08\n",
       "==============================================================================\n",
       "Omnibus:                       51.114   Durbin-Watson:                   0.013\n",
       "Prob(Omnibus):                  0.000   Jarque-Bera (JB):              125.961\n",
       "Skew:                           1.985   Prob(JB):                     4.45e-28\n",
       "Kurtosis:                       6.804   Cond. No.                         1.00\n",
       "==============================================================================\n",
       "\n",
       "Warnings:\n",
       "[1] Standard Errors assume that the covariance matrix of the errors is correctly specified.\n",
       "\"\"\""
      ]
     },
     "execution_count": 4,
     "metadata": {},
     "output_type": "execute_result"
    }
   ],
   "source": [
    "# Create OLS model\n",
    "model = sm.OLS(y, X)\n",
    "# Fit the model to the training set\n",
    "fit = model.fit()\n",
    "# Print summary statistics of the model's performance\n",
    "fit.summary()"
   ]
  },
  {
   "cell_type": "code",
   "execution_count": 5,
   "metadata": {},
   "outputs": [
    {
     "data": {
      "text/plain": [
       "0    1.005969e+08\n",
       "1    1.005969e+08\n",
       "2    1.005969e+08\n",
       "3    1.005969e+08\n",
       "4    1.005969e+08\n",
       "dtype: float64"
      ]
     },
     "execution_count": 5,
     "metadata": {},
     "output_type": "execute_result"
    }
   ],
   "source": [
    "fit.fittedvalues.head()"
   ]
  },
  {
   "cell_type": "markdown",
   "metadata": {},
   "source": [
    "The results of this model can be interpreted as the exprected value of Domestic Total Gross when all other factors are 0. This is also the average value of Domestic Total Gross. This model predicts that Domestic Total Gross is $100,596,900, which is just the average value."
   ]
  },
  {
   "cell_type": "code",
   "execution_count": 6,
   "metadata": {},
   "outputs": [
    {
     "data": {
      "image/png": "[encoded data removed]",
      "text/plain": [
       "<matplotlib.figure.Figure at 0x1cab3fda358>"
      ]
     },
     "metadata": {},
     "output_type": "display_data"
    }
   ],
   "source": [
    "plt.figure(figsize=(10,8))\n",
    "plt.ylabel('Predicted (\\$\\$)', fontsize=14)\n",
    "plt.xlabel('Actual (\\$\\$)', fontsize=14)\n",
    "plt.title(\"Domestic Total Gross: Predicted vs Actual Values\")\n",
    "\n",
    "plt.plot(y,fit.fittedvalues);"
   ]
  },
  {
   "cell_type": "code",
   "execution_count": 7,
   "metadata": {},
   "outputs": [
    {
     "data": {
      "image/png": "[encoded data removed]",
      "text/plain": [
       "<matplotlib.figure.Figure at 0x1cab3fc2f60>"
      ]
     },
     "metadata": {},
     "output_type": "display_data"
    }
   ],
   "source": [
    "# Histogram of residuals\n",
    "fit.resid.hist(figsize=(10,8), bins=50);"
   ]
  },
  {
   "cell_type": "markdown",
   "metadata": {},
   "source": [
    "The residuals are highly skewed, showing that the predicted value underestimates a lot of actual values."
   ]
  },
  {
   "cell_type": "markdown",
   "metadata": {},
   "source": [
    "### Challenge 2\n",
    "\n",
    "Repeat the process of challenge one, but also add one continuous (numeric) predictor variable. Also add plots of model prediction against your feature variable and residuals against feature variable. How can you interpret what's happening in the model?"
   ]
  },
  {
   "cell_type": "code",
   "execution_count": 8,
   "metadata": {},
   "outputs": [
    {
     "data": {
      "text/html": [
       "<table class=\"simpletable\">\n",
       "<caption>OLS Regression Results</caption>\n",
       "<tr>\n",
       "  <th>Dep. Variable:</th>    <td>DomesticTotalGross</td> <th>  R-squared:         </th> <td>   0.286</td>\n",
       "</tr>\n",
       "<tr>\n",
       "  <th>Model:</th>                    <td>OLS</td>        <th>  Adj. R-squared:    </th> <td>   0.278</td>\n",
       "</tr>\n",
       "<tr>\n",
       "  <th>Method:</th>              <td>Least Squares</td>   <th>  F-statistic:       </th> <td>   34.82</td>\n",
       "</tr>\n",
       "<tr>\n",
       "  <th>Date:</th>              <td>Tue, 30 Jan 2018</td>  <th>  Prob (F-statistic):</th> <td>6.80e-08</td>\n",
       "</tr>\n",
       "<tr>\n",
       "  <th>Time:</th>                  <td>21:57:41</td>      <th>  Log-Likelihood:    </th> <td> -1738.1</td>\n",
       "</tr>\n",
       "<tr>\n",
       "  <th>No. Observations:</th>       <td>    89</td>       <th>  AIC:               </th> <td>   3480.</td>\n",
       "</tr>\n",
       "<tr>\n",
       "  <th>Df Residuals:</th>           <td>    87</td>       <th>  BIC:               </th> <td>   3485.</td>\n",
       "</tr>\n",
       "<tr>\n",
       "  <th>Df Model:</th>               <td>     1</td>       <th>                     </th>     <td> </td>   \n",
       "</tr>\n",
       "<tr>\n",
       "  <th>Covariance Type:</th>       <td>nonrobust</td>     <th>                     </th>     <td> </td>   \n",
       "</tr>\n",
       "</table>\n",
       "<table class=\"simpletable\">\n",
       "<tr>\n",
       "      <td></td>         <th>coef</th>     <th>std err</th>      <th>t</th>      <th>P>|t|</th>  <th>[0.025</th>    <th>0.975]</th>  \n",
       "</tr>\n",
       "<tr>\n",
       "  <th>Intercept</th> <td>  4.44e+07</td> <td> 1.27e+07</td> <td>    3.504</td> <td> 0.001</td> <td> 1.92e+07</td> <td> 6.96e+07</td>\n",
       "</tr>\n",
       "<tr>\n",
       "  <th>Budget</th>    <td>    0.7846</td> <td>    0.133</td> <td>    5.901</td> <td> 0.000</td> <td>    0.520</td> <td>    1.049</td>\n",
       "</tr>\n",
       "</table>\n",
       "<table class=\"simpletable\">\n",
       "<tr>\n",
       "  <th>Omnibus:</th>       <td>39.749</td> <th>  Durbin-Watson:     </th> <td>   0.674</td>\n",
       "</tr>\n",
       "<tr>\n",
       "  <th>Prob(Omnibus):</th> <td> 0.000</td> <th>  Jarque-Bera (JB):  </th> <td>  99.441</td>\n",
       "</tr>\n",
       "<tr>\n",
       "  <th>Skew:</th>          <td> 1.587</td> <th>  Prob(JB):          </th> <td>2.55e-22</td>\n",
       "</tr>\n",
       "<tr>\n",
       "  <th>Kurtosis:</th>      <td> 7.091</td> <th>  Cond. No.          </th> <td>1.54e+08</td>\n",
       "</tr>\n",
       "</table>"
      ],
      "text/plain": [
       "<class 'statsmodels.iolib.summary.Summary'>\n",
       "\"\"\"\n",
       "                            OLS Regression Results                            \n",
       "==============================================================================\n",
       "Dep. Variable:     DomesticTotalGross   R-squared:                       0.286\n",
       "Model:                            OLS   Adj. R-squared:                  0.278\n",
       "Method:                 Least Squares   F-statistic:                     34.82\n",
       "Date:                Tue, 30 Jan 2018   Prob (F-statistic):           6.80e-08\n",
       "Time:                        21:57:41   Log-Likelihood:                -1738.1\n",
       "No. Observations:                  89   AIC:                             3480.\n",
       "Df Residuals:                      87   BIC:                             3485.\n",
       "Df Model:                           1                                         \n",
       "Covariance Type:            nonrobust                                         \n",
       "==============================================================================\n",
       "                 coef    std err          t      P>|t|      [0.025      0.975]\n",
       "------------------------------------------------------------------------------\n",
       "Intercept    4.44e+07   1.27e+07      3.504      0.001    1.92e+07    6.96e+07\n",
       "Budget         0.7846      0.133      5.901      0.000       0.520       1.049\n",
       "==============================================================================\n",
       "Omnibus:                       39.749   Durbin-Watson:                   0.674\n",
       "Prob(Omnibus):                  0.000   Jarque-Bera (JB):               99.441\n",
       "Skew:                           1.587   Prob(JB):                     2.55e-22\n",
       "Kurtosis:                       7.091   Cond. No.                     1.54e+08\n",
       "==============================================================================\n",
       "\n",
       "Warnings:\n",
       "[1] Standard Errors assume that the covariance matrix of the errors is correctly specified.\n",
       "[2] The condition number is large, 1.54e+08. This might indicate that there are\n",
       "strong multicollinearity or other numerical problems.\n",
       "\"\"\""
      ]
     },
     "execution_count": 8,
     "metadata": {},
     "output_type": "execute_result"
    }
   ],
   "source": [
    "# Create feature matrix X and target vector y\n",
    "y2, X2 = patsy.dmatrices('DomesticTotalGross ~ Budget', data=movies_df, return_type=\"dataframe\")\n",
    "\n",
    "# Create OLS model\n",
    "model2 = sm.OLS(y2, X2)\n",
    "# Fit the model to the training set\n",
    "fit2 = model2.fit()\n",
    "# Print summary statistics of the model's performance\n",
    "fit2.summary()"
   ]
  },
  {
   "cell_type": "code",
   "execution_count": 9,
   "metadata": {},
   "outputs": [
    {
     "data": {
      "image/png": "[encoded data removed]",
      "text/plain": [
       "<matplotlib.figure.Figure at 0x1cab405dc50>"
      ]
     },
     "metadata": {},
     "output_type": "display_data"
    }
   ],
   "source": [
    "plt.figure(figsize=(10,8))\n",
    "plt.ylabel('Predicted (\\$\\$)', fontsize=14)\n",
    "plt.xlabel('Actual (\\$\\$)', fontsize=14)\n",
    "plt.title(\"Domestic Total Gross: Predicted vs Actual Values\")\n",
    "\n",
    "plt.plot(y2,fit2.fittedvalues);"
   ]
  },
  {
   "cell_type": "code",
   "execution_count": 10,
   "metadata": {},
   "outputs": [
    {
     "data": {
      "image/png": "[encoded data removed]",
      "text/plain": [
       "<matplotlib.figure.Figure at 0x1cab465bcc0>"
      ]
     },
     "metadata": {},
     "output_type": "display_data"
    }
   ],
   "source": [
    "# Histogram of residuals\n",
    "fit2.resid.hist(figsize=(10,8), bins=50);"
   ]
  },
  {
   "cell_type": "code",
   "execution_count": 11,
   "metadata": {},
   "outputs": [
    {
     "data": {
      "image/png": "[encoded data removed]",
      "text/plain": [
       "<matplotlib.figure.Figure at 0x1caaf9c4128>"
      ]
     },
     "metadata": {},
     "output_type": "display_data"
    }
   ],
   "source": [
    "# Plots of model predictions against feature variable, and of residuals against feature variable\n",
    "# (along with a couple more plots)\n",
    "\n",
    "fig = plt.figure(figsize=(12,8))\n",
    "fig = sm.graphics.plot_regress_exog(fit2, \"Budget\", fig=fig)"
   ]
  },
  {
   "cell_type": "markdown",
   "metadata": {},
   "source": [
    "The residuals are now a lot less skewed and a starting to resemple the normal distribution. Both the model overall and the coefficient of Budget have p-values less than 5%, so the model and the effect of Budget on total gross income are statisticaally significant. This means that adding Budget to our model improved its predictive power, and was a good idea. But the model only explains about 28.6% of the variation we see in the data, which suggests that we should try adding more features to the model."
   ]
  },
  {
   "cell_type": "markdown",
   "metadata": {},
   "source": [
    "### Challenge 3\n",
    "\n",
    "Repeat the process of challenge 1, but add a categorical feature (like genre). You'll have to convert a column of text into a number of numerical columns (\"dummy variables\"). How can you interpret what's happening in the model?"
   ]
  },
  {
   "cell_type": "code",
   "execution_count": 14,
   "metadata": {},
   "outputs": [
    {
     "data": {
      "text/plain": [
       "array(['PG-13', 'PG', 'G', 'R'], dtype=object)"
      ]
     },
     "execution_count": 14,
     "metadata": {},
     "output_type": "execute_result"
    }
   ],
   "source": [
    "# Let's make dummy variables out of Ratings\n",
    "movies_df['Rating'].unique()"
   ]
  },
  {
   "cell_type": "code",
   "execution_count": 21,
   "metadata": {
    "collapsed": true
   },
   "outputs": [],
   "source": [
    "rating_dummies_df = pd.get_dummies(movies_df['Rating'], prefix='rating')"
   ]
  },
  {
   "cell_type": "code",
   "execution_count": 24,
   "metadata": {
    "collapsed": true
   },
   "outputs": [],
   "source": [
    "movies_df = pd.concat([movies_df, rating_dummies_df], axis=1)"
   ]
  },
  {
   "cell_type": "code",
   "execution_count": 30,
   "metadata": {
    "collapsed": true
   },
   "outputs": [],
   "source": [
    "movies_df.rename(columns={'rating_PG-13':'rating_PG13'}, inplace=True)"
   ]
  },
  {
   "cell_type": "code",
   "execution_count": 31,
   "metadata": {},
   "outputs": [
    {
     "data": {
      "text/html": [
       "<div>\n",
       "<style>\n",
       "    .dataframe thead tr:only-child th {\n",
       "        text-align: right;\n",
       "    }\n",
       "\n",
       "    .dataframe thead th {\n",
       "        text-align: left;\n",
       "    }\n",
       "\n",
       "    .dataframe tbody tr th {\n",
       "        vertical-align: top;\n",
       "    }\n",
       "</style>\n",
       "<table border=\"1\" class=\"dataframe\">\n",
       "  <thead>\n",
       "    <tr style=\"text-align: right;\">\n",
       "      <th></th>\n",
       "      <th>Title</th>\n",
       "      <th>Budget</th>\n",
       "      <th>DomesticTotalGross</th>\n",
       "      <th>Director</th>\n",
       "      <th>Rating</th>\n",
       "      <th>Runtime</th>\n",
       "      <th>ReleaseDate</th>\n",
       "      <th>rating_G</th>\n",
       "      <th>rating_PG</th>\n",
       "      <th>rating_PG13</th>\n",
       "      <th>rating_R</th>\n",
       "    </tr>\n",
       "  </thead>\n",
       "  <tbody>\n",
       "    <tr>\n",
       "      <th>0</th>\n",
       "      <td>The Hunger Games: Catching Fire</td>\n",
       "      <td>130000000.0</td>\n",
       "      <td>424668047</td>\n",
       "      <td>Francis Lawrence</td>\n",
       "      <td>PG-13</td>\n",
       "      <td>146</td>\n",
       "      <td>2013-11-22</td>\n",
       "      <td>0</td>\n",
       "      <td>0</td>\n",
       "      <td>1</td>\n",
       "      <td>0</td>\n",
       "    </tr>\n",
       "    <tr>\n",
       "      <th>1</th>\n",
       "      <td>Iron Man 3</td>\n",
       "      <td>200000000.0</td>\n",
       "      <td>409013994</td>\n",
       "      <td>Shane Black</td>\n",
       "      <td>PG-13</td>\n",
       "      <td>129</td>\n",
       "      <td>2013-05-03</td>\n",
       "      <td>0</td>\n",
       "      <td>0</td>\n",
       "      <td>1</td>\n",
       "      <td>0</td>\n",
       "    </tr>\n",
       "    <tr>\n",
       "      <th>2</th>\n",
       "      <td>Frozen</td>\n",
       "      <td>150000000.0</td>\n",
       "      <td>400738009</td>\n",
       "      <td>Chris BuckJennifer Lee</td>\n",
       "      <td>PG</td>\n",
       "      <td>108</td>\n",
       "      <td>2013-11-22</td>\n",
       "      <td>0</td>\n",
       "      <td>1</td>\n",
       "      <td>0</td>\n",
       "      <td>0</td>\n",
       "    </tr>\n",
       "    <tr>\n",
       "      <th>3</th>\n",
       "      <td>Despicable Me 2</td>\n",
       "      <td>76000000.0</td>\n",
       "      <td>368061265</td>\n",
       "      <td>Pierre CoffinChris Renaud</td>\n",
       "      <td>PG</td>\n",
       "      <td>98</td>\n",
       "      <td>2013-07-03</td>\n",
       "      <td>0</td>\n",
       "      <td>1</td>\n",
       "      <td>0</td>\n",
       "      <td>0</td>\n",
       "    </tr>\n",
       "    <tr>\n",
       "      <th>4</th>\n",
       "      <td>Man of Steel</td>\n",
       "      <td>225000000.0</td>\n",
       "      <td>291045518</td>\n",
       "      <td>Zack Snyder</td>\n",
       "      <td>PG-13</td>\n",
       "      <td>143</td>\n",
       "      <td>2013-06-14</td>\n",
       "      <td>0</td>\n",
       "      <td>0</td>\n",
       "      <td>1</td>\n",
       "      <td>0</td>\n",
       "    </tr>\n",
       "  </tbody>\n",
       "</table>\n",
       "</div>"
      ],
      "text/plain": [
       "                             Title       Budget  DomesticTotalGross  \\\n",
       "0  The Hunger Games: Catching Fire  130000000.0           424668047   \n",
       "1                       Iron Man 3  200000000.0           409013994   \n",
       "2                           Frozen  150000000.0           400738009   \n",
       "3                  Despicable Me 2   76000000.0           368061265   \n",
       "4                     Man of Steel  225000000.0           291045518   \n",
       "\n",
       "                    Director Rating  Runtime ReleaseDate  rating_G  rating_PG  \\\n",
       "0           Francis Lawrence  PG-13      146  2013-11-22         0          0   \n",
       "1                Shane Black  PG-13      129  2013-05-03         0          0   \n",
       "2     Chris BuckJennifer Lee     PG      108  2013-11-22         0          1   \n",
       "3  Pierre CoffinChris Renaud     PG       98  2013-07-03         0          1   \n",
       "4                Zack Snyder  PG-13      143  2013-06-14         0          0   \n",
       "\n",
       "   rating_PG13  rating_R  \n",
       "0            1         0  \n",
       "1            1         0  \n",
       "2            0         0  \n",
       "3            0         0  \n",
       "4            1         0  "
      ]
     },
     "execution_count": 31,
     "metadata": {},
     "output_type": "execute_result"
    }
   ],
   "source": [
    "movies_df.head()"
   ]
  },
  {
   "cell_type": "code",
   "execution_count": 46,
   "metadata": {},
   "outputs": [
    {
     "data": {
      "text/html": [
       "<table class=\"simpletable\">\n",
       "<caption>OLS Regression Results</caption>\n",
       "<tr>\n",
       "  <th>Dep. Variable:</th>    <td>DomesticTotalGross</td> <th>  R-squared:         </th> <td>   0.291</td>\n",
       "</tr>\n",
       "<tr>\n",
       "  <th>Model:</th>                    <td>OLS</td>        <th>  Adj. R-squared:    </th> <td>   0.266</td>\n",
       "</tr>\n",
       "<tr>\n",
       "  <th>Method:</th>              <td>Least Squares</td>   <th>  F-statistic:       </th> <td>   11.61</td>\n",
       "</tr>\n",
       "<tr>\n",
       "  <th>Date:</th>              <td>Tue, 30 Jan 2018</td>  <th>  Prob (F-statistic):</th> <td>1.87e-06</td>\n",
       "</tr>\n",
       "<tr>\n",
       "  <th>Time:</th>                  <td>23:10:24</td>      <th>  Log-Likelihood:    </th> <td> -1737.7</td>\n",
       "</tr>\n",
       "<tr>\n",
       "  <th>No. Observations:</th>       <td>    89</td>       <th>  AIC:               </th> <td>   3483.</td>\n",
       "</tr>\n",
       "<tr>\n",
       "  <th>Df Residuals:</th>           <td>    85</td>       <th>  BIC:               </th> <td>   3493.</td>\n",
       "</tr>\n",
       "<tr>\n",
       "  <th>Df Model:</th>               <td>     3</td>       <th>                     </th>     <td> </td>   \n",
       "</tr>\n",
       "<tr>\n",
       "  <th>Covariance Type:</th>       <td>nonrobust</td>     <th>                     </th>     <td> </td>   \n",
       "</tr>\n",
       "</table>\n",
       "<table class=\"simpletable\">\n",
       "<tr>\n",
       "       <td></td>          <th>coef</th>     <th>std err</th>      <th>t</th>      <th>P>|t|</th>  <th>[0.025</th>    <th>0.975]</th>  \n",
       "</tr>\n",
       "<tr>\n",
       "  <th>Intercept</th>   <td> 3.551e+07</td> <td> 1.09e+07</td> <td>    3.270</td> <td> 0.002</td> <td> 1.39e+07</td> <td> 5.71e+07</td>\n",
       "</tr>\n",
       "<tr>\n",
       "  <th>Budget</th>      <td>    0.7816</td> <td>    0.152</td> <td>    5.157</td> <td> 0.000</td> <td>    0.480</td> <td>    1.083</td>\n",
       "</tr>\n",
       "<tr>\n",
       "  <th>rating_PG</th>   <td> 2.221e+07</td> <td> 1.61e+07</td> <td>    1.380</td> <td> 0.171</td> <td> -9.8e+06</td> <td> 5.42e+07</td>\n",
       "</tr>\n",
       "<tr>\n",
       "  <th>rating_PG13</th> <td> 4.946e+06</td> <td> 1.21e+07</td> <td>    0.410</td> <td> 0.683</td> <td>-1.91e+07</td> <td>  2.9e+07</td>\n",
       "</tr>\n",
       "<tr>\n",
       "  <th>rating_R</th>    <td> 8.347e+06</td> <td> 1.16e+07</td> <td>    0.719</td> <td> 0.474</td> <td>-1.47e+07</td> <td> 3.14e+07</td>\n",
       "</tr>\n",
       "</table>\n",
       "<table class=\"simpletable\">\n",
       "<tr>\n",
       "  <th>Omnibus:</th>       <td>37.951</td> <th>  Durbin-Watson:     </th> <td>   0.674</td>\n",
       "</tr>\n",
       "<tr>\n",
       "  <th>Prob(Omnibus):</th> <td> 0.000</td> <th>  Jarque-Bera (JB):  </th> <td>  88.664</td>\n",
       "</tr>\n",
       "<tr>\n",
       "  <th>Skew:</th>          <td> 1.546</td> <th>  Prob(JB):          </th> <td>5.58e-20</td>\n",
       "</tr>\n",
       "<tr>\n",
       "  <th>Kurtosis:</th>      <td> 6.788</td> <th>  Cond. No.          </th> <td>8.96e+23</td>\n",
       "</tr>\n",
       "</table>"
      ],
      "text/plain": [
       "<class 'statsmodels.iolib.summary.Summary'>\n",
       "\"\"\"\n",
       "                            OLS Regression Results                            \n",
       "==============================================================================\n",
       "Dep. Variable:     DomesticTotalGross   R-squared:                       0.291\n",
       "Model:                            OLS   Adj. R-squared:                  0.266\n",
       "Method:                 Least Squares   F-statistic:                     11.61\n",
       "Date:                Tue, 30 Jan 2018   Prob (F-statistic):           1.87e-06\n",
       "Time:                        23:10:24   Log-Likelihood:                -1737.7\n",
       "No. Observations:                  89   AIC:                             3483.\n",
       "Df Residuals:                      85   BIC:                             3493.\n",
       "Df Model:                           3                                         \n",
       "Covariance Type:            nonrobust                                         \n",
       "===============================================================================\n",
       "                  coef    std err          t      P>|t|      [0.025      0.975]\n",
       "-------------------------------------------------------------------------------\n",
       "Intercept    3.551e+07   1.09e+07      3.270      0.002    1.39e+07    5.71e+07\n",
       "Budget          0.7816      0.152      5.157      0.000       0.480       1.083\n",
       "rating_PG    2.221e+07   1.61e+07      1.380      0.171    -9.8e+06    5.42e+07\n",
       "rating_PG13  4.946e+06   1.21e+07      0.410      0.683   -1.91e+07     2.9e+07\n",
       "rating_R     8.347e+06   1.16e+07      0.719      0.474   -1.47e+07    3.14e+07\n",
       "==============================================================================\n",
       "Omnibus:                       37.951   Durbin-Watson:                   0.674\n",
       "Prob(Omnibus):                  0.000   Jarque-Bera (JB):               88.664\n",
       "Skew:                           1.546   Prob(JB):                     5.58e-20\n",
       "Kurtosis:                       6.788   Cond. No.                     8.96e+23\n",
       "==============================================================================\n",
       "\n",
       "Warnings:\n",
       "[1] Standard Errors assume that the covariance matrix of the errors is correctly specified.\n",
       "[2] The smallest eigenvalue is 1.01e-30. This might indicate that there are\n",
       "strong multicollinearity problems or that the design matrix is singular.\n",
       "\"\"\""
      ]
     },
     "execution_count": 46,
     "metadata": {},
     "output_type": "execute_result"
    }
   ],
   "source": [
    "# Create feature matrix X and target vector y\n",
    "y3, X3 = patsy.dmatrices('DomesticTotalGross ~ Budget + rating_PG + rating_PG13 + rating_R', data=movies_df, return_type=\"dataframe\")\n",
    "\n",
    "# Create OLS model\n",
    "model3 = sm.OLS(y3, X3)\n",
    "# Fit the model to the training set\n",
    "fit3 = model3.fit()\n",
    "# Print summary statistics of the model's performance\n",
    "fit3.summary()"
   ]
  },
  {
   "cell_type": "code",
   "execution_count": 47,
   "metadata": {},
   "outputs": [
    {
     "data": {
      "image/png": "[encoded data removed]",
      "text/plain": [
       "<matplotlib.figure.Figure at 0x1cab4c61828>"
      ]
     },
     "metadata": {},
     "output_type": "display_data"
    }
   ],
   "source": [
    "plt.figure(figsize=(10,8))\n",
    "plt.ylabel('Predicted (\\$\\$)', fontsize=14)\n",
    "plt.xlabel('Actual (\\$\\$)', fontsize=14)\n",
    "plt.title(\"Domestic Total Gross: Predicted vs Actual Values\")\n",
    "\n",
    "plt.plot(y3,fit3.fittedvalues);"
   ]
  },
  {
   "cell_type": "code",
   "execution_count": 48,
   "metadata": {},
   "outputs": [
    {
     "data": {
      "image/png": "[encoded data removed]",
      "text/plain": [
       "<matplotlib.figure.Figure at 0x1cab4f056a0>"
      ]
     },
     "metadata": {},
     "output_type": "display_data"
    }
   ],
   "source": [
    "# Histogram of residuals\n",
    "fit3.resid.hist(figsize=(10,8), bins=50);"
   ]
  },
  {
   "cell_type": "code",
   "execution_count": 40,
   "metadata": {},
   "outputs": [
    {
     "data": {
      "text/plain": [
       "0    99\n",
       "1     1\n",
       "Name: rating_G, dtype: int64"
      ]
     },
     "execution_count": 40,
     "metadata": {},
     "output_type": "execute_result"
    }
   ],
   "source": [
    "movies_df['rating_G'].value_counts()"
   ]
  },
  {
   "cell_type": "code",
   "execution_count": null,
   "metadata": {
    "collapsed": true
   },
   "outputs": [],
   "source": []
  },
  {
   "cell_type": "code",
   "execution_count": null,
   "metadata": {
    "collapsed": true
   },
   "outputs": [],
   "source": []
  },
  {
   "cell_type": "markdown",
   "metadata": {},
   "source": [
    "### Challenge 4\n",
    "\n",
    "Enhance your model further by adding more features and/or transforming existing features. Think about how you build the model matrix and how to interpret what the model is doing."
   ]
  },
  {
   "cell_type": "code",
   "execution_count": 55,
   "metadata": {},
   "outputs": [
    {
     "data": {
      "image/png": "[encoded data removed]",
      "text/plain": [
       "<matplotlib.figure.Figure at 0x1cab5b80048>"
      ]
     },
     "metadata": {},
     "output_type": "display_data"
    }
   ],
   "source": [
    "# Plot histograms of Budget and Runtime to see if they should be transformed\n",
    "movies_df['Budget'].hist(figsize=(10,8), bins=50);"
   ]
  },
  {
   "cell_type": "code",
   "execution_count": 56,
   "metadata": {},
   "outputs": [
    {
     "data": {
      "image/png": "[encoded data removed]",
      "text/plain": [
       "<matplotlib.figure.Figure at 0x1cab5b7ba20>"
      ]
     },
     "metadata": {},
     "output_type": "display_data"
    }
   ],
   "source": [
    "np.log(movies_df['Budget']).hist(figsize=(10,8), bins=50);"
   ]
  },
  {
   "cell_type": "code",
   "execution_count": 52,
   "metadata": {},
   "outputs": [
    {
     "data": {
      "image/png": "[encoded data removed]",
      "text/plain": [
       "<matplotlib.figure.Figure at 0x1cab3ffec88>"
      ]
     },
     "metadata": {},
     "output_type": "display_data"
    }
   ],
   "source": [
    "movies_df['Runtime'].hist(figsize=(10,8), bins=50);"
   ]
  },
  {
   "cell_type": "code",
   "execution_count": 90,
   "metadata": {},
   "outputs": [
    {
     "data": {
      "text/plain": [
       "array(['Francis Lawrence', 'Shane Black', 'Chris BuckJennifer Lee',\n",
       "       'Pierre CoffinChris Renaud', 'Zack Snyder', 'Alfonso Cuaron',\n",
       "       'Dan Scanlon', 'Peter Jackson', 'Justin Lin', 'Sam Raimi',\n",
       "       'J.J. Abrams', 'Alan Taylor', 'Marc Forster',\n",
       "       'Kirk De MiccoChris Sanders', 'Paul Feig',\n",
       "       'Rawson Marshall Thurber', 'David O. Russell', 'Baz Luhrmann',\n",
       "       'James Wan', 'Seth Gordon', 'Dennis Dugan', 'James Mangold',\n",
       "       'Adam McKay', 'Peter Berg', 'Jon Chu', nan, 'Louis Leterrier',\n",
       "       'Martin Scorsese', 'Lee Daniels', 'Todd Phillips', 'Chris Wedge',\n",
       "       'Paul Greengrass', 'Jeff Tremaine', 'Guillermo del Toro',\n",
       "       'Evan GoldbergSeth Rogen', 'Antoine Fuqua', 'Brian Helgeland',\n",
       "       'Neill Blomkamp', 'Klay Hall', 'Gore Verbinski', 'Joseph Kosinski',\n",
       "       'John Lee Hancock', 'David Soren', 'Baltasar Kormakur',\n",
       "       'Roland Emmerich', 'Andres Muschietti', 'Lasse Hallstrom',\n",
       "       'Raja Gosnell', 'Malcolm D. Lee', 'Thor Freudenthal', 'John Moore',\n",
       "       'Jonathan Levine', 'Bryan Singer', 'James DeMonaco',\n",
       "       'Jon Turteltaub', 'Gavin Hood', 'Denis Villeneuve',\n",
       "       'M. Night Shyamalan', 'Ben Stiller', 'Cal Brunker',\n",
       "       'Steve McQueen (II)', 'Jimmy Hayward', 'Tommy Wirkola',\n",
       "       'Fede Alvarez', 'Dean Parisot', 'Tyler Perry', 'Brad Anderson',\n",
       "       'Michael Bay', 'Ruben Fleischer', 'Shawn Levy', 'Ric Roman Waugh',\n",
       "       'David Twohy', 'Michael Tiddes', 'Carl Rinsch', 'John Wells',\n",
       "       'Stephen Frears', 'Luc Besson', 'Barry CookNeil Nightingale',\n",
       "       'Kimberly Peirce', 'John Luessenhop', 'Robert Schwentke',\n",
       "       'Woody Allen', 'Steven Soderbergh', 'Harald Zwart', 'Ken Scott',\n",
       "       'Peter Segal', 'Morgan Spurlock', 'Jeff Wadlow', 'Jean-Marc Vallee',\n",
       "       'Ron Howard', 'Andrew Niccol', 'Edgar Wright',\n",
       "       'Jon LucasScott Moore', 'Spike Jonze'], dtype=object)"
      ]
     },
     "execution_count": 90,
     "metadata": {},
     "output_type": "execute_result"
    }
   ],
   "source": [
    "# Let's try the total number of director credits on the movie\n",
    "#movies_df['directors_count'] = \n",
    "#movies_df['Director'].str.match('[A-Z][a-z]')\n",
    "movies_df['Director'].unique()"
   ]
  },
  {
   "cell_type": "code",
   "execution_count": 97,
   "metadata": {},
   "outputs": [],
   "source": [
    "# Remove obs with missing Director values\n",
    "movies_df = movies_df[pd.notnull(movies_df.Director)]"
   ]
  },
  {
   "cell_type": "code",
   "execution_count": 78,
   "metadata": {
    "collapsed": true
   },
   "outputs": [],
   "source": [
    "# If multiple directors on a movie, then the director credits were added.\n",
    "# Director credits source: IMDB\n",
    "# Director credits counts prior to 2013\n",
    "def director_credits(director):\n",
    "    director_credits_dict = {'Francis Lawrence':46, 'Shane Black':1, 'Chris BuckJennifer Lee':3,\n",
    "       'Pierre CoffinChris Renaud':9, 'Zack Snyder':8, 'Alfonso Cuaron':13,\n",
    "       'Dan Scanlon':2, 'Peter Jackson':17, 'Justin Lin':12, 'Sam Raimi':30,\n",
    "       'J.J. Abrams':11, 'Alan Taylor':29, 'Marc Forster':10,\n",
    "       'Kirk De MiccoChris Sanders':3, 'Paul Feig':16,\n",
    "       'Rawson Marshall Thurber':6, 'David O. Russell':9, 'Baz Luhrmann':13,\n",
    "       'James Wan':7, 'Seth Gordon':12, 'Dennis Dugan':36, 'James Mangold':12,\n",
    "       'Adam McKay':14, 'Peter Berg':15, 'Jon Chu':9, 'Louis Leterrier':5,\n",
    "       'Martin Scorsese':52, 'Lee Daniels':3, 'Todd Phillips':12, 'Chris Wedge':5,\n",
    "       'Paul Greengrass':16, 'Jeff Tremaine':11, 'Guillermo del Toro':10,\n",
    "       'Evan GoldbergSeth Rogen':0, 'Antoine Fuqua':15, 'Brian Helgeland':5,\n",
    "       'Neill Blomkamp':10, 'Klay Hall':7, 'Gore Verbinski':9, 'Joseph Kosinski':1,\n",
    "       'John Lee Hancock':6, 'David Soren':1, 'Baltasar Kormakur':8,\n",
    "       'Roland Emmerich':16, 'Andres Muschietti':3, 'Lasse Hallstrom':66,\n",
    "       'Raja Gosnell':8, 'Malcolm D. Lee':7, 'Thor Freudenthal':9, 'John Moore':6,\n",
    "       'Jonathan Levine':6, 'Bryan Singer':11, 'James DeMonaco':1,\n",
    "       'Jon Turteltaub':16, 'Gavin Hood':9, 'Denis Villeneuve':11,\n",
    "       'M. Night Shyamalan':9, 'Ben Stiller':13, 'Cal Brunker':1,\n",
    "       'Steve McQueen (II)':25, 'Jimmy Hayward':2, 'Tommy Wirkola':4,\n",
    "       'Fede Alvarez':4, 'Dean Parisot':29, 'Tyler Perry':27, 'Brad Anderson':23,\n",
    "       'Michael Bay':50, 'Ruben Fleischer':14, 'Shawn Levy':31, 'Ric Roman Waugh':3,\n",
    "       'David Twohy':7, 'Michael Tiddes':3, 'Carl Rinsch':3, 'John Wells':4,\n",
    "       'Stephen Frears':55, 'Luc Besson':24, 'Barry CookNeil Nightingale':6,\n",
    "       'Kimberly Peirce':5, 'John Luessenhop':3, 'Robert Schwentke':7,\n",
    "       'Woody Allen':47, 'Steven Soderbergh':34, 'Harald Zwart':14, 'Ken Scott':2,\n",
    "       'Peter Segal':17, 'Morgan Spurlock':10, 'Jeff Wadlow':5, 'Jean-Marc Vallee':10,\n",
    "       'Ron Howard':31, 'Andrew Niccol':5, 'Edgar Wright':18,\n",
    "       'Jon LucasScott Moore':0, 'Spike Jonze':91}\n",
    "    return director_credits_dict[director]"
   ]
  },
  {
   "cell_type": "code",
   "execution_count": 99,
   "metadata": {},
   "outputs": [],
   "source": [
    "movies_df['director_credits'] = movies_df['Director'].apply(lambda d: director_credits(d))"
   ]
  },
  {
   "cell_type": "code",
   "execution_count": 100,
   "metadata": {},
   "outputs": [
    {
     "data": {
      "text/html": [
       "<div>\n",
       "<style>\n",
       "    .dataframe thead tr:only-child th {\n",
       "        text-align: right;\n",
       "    }\n",
       "\n",
       "    .dataframe thead th {\n",
       "        text-align: left;\n",
       "    }\n",
       "\n",
       "    .dataframe tbody tr th {\n",
       "        vertical-align: top;\n",
       "    }\n",
       "</style>\n",
       "<table border=\"1\" class=\"dataframe\">\n",
       "  <thead>\n",
       "    <tr style=\"text-align: right;\">\n",
       "      <th></th>\n",
       "      <th>Title</th>\n",
       "      <th>Budget</th>\n",
       "      <th>DomesticTotalGross</th>\n",
       "      <th>Director</th>\n",
       "      <th>Rating</th>\n",
       "      <th>Runtime</th>\n",
       "      <th>ReleaseDate</th>\n",
       "      <th>rating_G</th>\n",
       "      <th>rating_PG</th>\n",
       "      <th>rating_PG13</th>\n",
       "      <th>rating_R</th>\n",
       "      <th>log_budget</th>\n",
       "      <th>title_length</th>\n",
       "      <th>director_credits</th>\n",
       "    </tr>\n",
       "  </thead>\n",
       "  <tbody>\n",
       "    <tr>\n",
       "      <th>0</th>\n",
       "      <td>The Hunger Games: Catching Fire</td>\n",
       "      <td>130000000.0</td>\n",
       "      <td>424668047</td>\n",
       "      <td>Francis Lawrence</td>\n",
       "      <td>PG-13</td>\n",
       "      <td>146</td>\n",
       "      <td>2013-11-22</td>\n",
       "      <td>0</td>\n",
       "      <td>0</td>\n",
       "      <td>1</td>\n",
       "      <td>0</td>\n",
       "      <td>18.683045</td>\n",
       "      <td>31</td>\n",
       "      <td>46</td>\n",
       "    </tr>\n",
       "    <tr>\n",
       "      <th>1</th>\n",
       "      <td>Iron Man 3</td>\n",
       "      <td>200000000.0</td>\n",
       "      <td>409013994</td>\n",
       "      <td>Shane Black</td>\n",
       "      <td>PG-13</td>\n",
       "      <td>129</td>\n",
       "      <td>2013-05-03</td>\n",
       "      <td>0</td>\n",
       "      <td>0</td>\n",
       "      <td>1</td>\n",
       "      <td>0</td>\n",
       "      <td>19.113828</td>\n",
       "      <td>10</td>\n",
       "      <td>1</td>\n",
       "    </tr>\n",
       "    <tr>\n",
       "      <th>2</th>\n",
       "      <td>Frozen</td>\n",
       "      <td>150000000.0</td>\n",
       "      <td>400738009</td>\n",
       "      <td>Chris BuckJennifer Lee</td>\n",
       "      <td>PG</td>\n",
       "      <td>108</td>\n",
       "      <td>2013-11-22</td>\n",
       "      <td>0</td>\n",
       "      <td>1</td>\n",
       "      <td>0</td>\n",
       "      <td>0</td>\n",
       "      <td>18.826146</td>\n",
       "      <td>6</td>\n",
       "      <td>3</td>\n",
       "    </tr>\n",
       "    <tr>\n",
       "      <th>3</th>\n",
       "      <td>Despicable Me 2</td>\n",
       "      <td>76000000.0</td>\n",
       "      <td>368061265</td>\n",
       "      <td>Pierre CoffinChris Renaud</td>\n",
       "      <td>PG</td>\n",
       "      <td>98</td>\n",
       "      <td>2013-07-03</td>\n",
       "      <td>0</td>\n",
       "      <td>1</td>\n",
       "      <td>0</td>\n",
       "      <td>0</td>\n",
       "      <td>18.146244</td>\n",
       "      <td>15</td>\n",
       "      <td>9</td>\n",
       "    </tr>\n",
       "    <tr>\n",
       "      <th>4</th>\n",
       "      <td>Man of Steel</td>\n",
       "      <td>225000000.0</td>\n",
       "      <td>291045518</td>\n",
       "      <td>Zack Snyder</td>\n",
       "      <td>PG-13</td>\n",
       "      <td>143</td>\n",
       "      <td>2013-06-14</td>\n",
       "      <td>0</td>\n",
       "      <td>0</td>\n",
       "      <td>1</td>\n",
       "      <td>0</td>\n",
       "      <td>19.231611</td>\n",
       "      <td>12</td>\n",
       "      <td>8</td>\n",
       "    </tr>\n",
       "  </tbody>\n",
       "</table>\n",
       "</div>"
      ],
      "text/plain": [
       "                             Title       Budget  DomesticTotalGross  \\\n",
       "0  The Hunger Games: Catching Fire  130000000.0           424668047   \n",
       "1                       Iron Man 3  200000000.0           409013994   \n",
       "2                           Frozen  150000000.0           400738009   \n",
       "3                  Despicable Me 2   76000000.0           368061265   \n",
       "4                     Man of Steel  225000000.0           291045518   \n",
       "\n",
       "                    Director Rating  Runtime ReleaseDate  rating_G  rating_PG  \\\n",
       "0           Francis Lawrence  PG-13      146  2013-11-22         0          0   \n",
       "1                Shane Black  PG-13      129  2013-05-03         0          0   \n",
       "2     Chris BuckJennifer Lee     PG      108  2013-11-22         0          1   \n",
       "3  Pierre CoffinChris Renaud     PG       98  2013-07-03         0          1   \n",
       "4                Zack Snyder  PG-13      143  2013-06-14         0          0   \n",
       "\n",
       "   rating_PG13  rating_R  log_budget  title_length  director_credits  \n",
       "0            1         0   18.683045            31                46  \n",
       "1            1         0   19.113828            10                 1  \n",
       "2            0         0   18.826146             6                 3  \n",
       "3            0         0   18.146244            15                 9  \n",
       "4            1         0   19.231611            12                 8  "
      ]
     },
     "execution_count": 100,
     "metadata": {},
     "output_type": "execute_result"
    }
   ],
   "source": [
    "movies_df.head()"
   ]
  },
  {
   "cell_type": "code",
   "execution_count": 105,
   "metadata": {},
   "outputs": [
    {
     "data": {
      "image/png": "[encoded data removed]",
      "text/plain": [
       "<matplotlib.figure.Figure at 0x1cab60444a8>"
      ]
     },
     "metadata": {},
     "output_type": "display_data"
    }
   ],
   "source": [
    "movies_df['log_director_credits'] = movies_df['director_credits'].apply(np.log)\n",
    "movies_df2 = movies_df[movies_df.director_credits != 0]\n",
    "movies_df2['log_director_credits'].hist(figsize=(10,8), bins=50);"
   ]
  },
  {
   "cell_type": "code",
   "execution_count": 49,
   "metadata": {},
   "outputs": [
    {
     "data": {
      "text/html": [
       "<table class=\"simpletable\">\n",
       "<caption>OLS Regression Results</caption>\n",
       "<tr>\n",
       "  <th>Dep. Variable:</th>    <td>DomesticTotalGross</td> <th>  R-squared:         </th> <td>   0.302</td>\n",
       "</tr>\n",
       "<tr>\n",
       "  <th>Model:</th>                    <td>OLS</td>        <th>  Adj. R-squared:    </th> <td>   0.269</td>\n",
       "</tr>\n",
       "<tr>\n",
       "  <th>Method:</th>              <td>Least Squares</td>   <th>  F-statistic:       </th> <td>   9.089</td>\n",
       "</tr>\n",
       "<tr>\n",
       "  <th>Date:</th>              <td>Tue, 30 Jan 2018</td>  <th>  Prob (F-statistic):</th> <td>3.77e-06</td>\n",
       "</tr>\n",
       "<tr>\n",
       "  <th>Time:</th>                  <td>23:14:29</td>      <th>  Log-Likelihood:    </th> <td> -1737.0</td>\n",
       "</tr>\n",
       "<tr>\n",
       "  <th>No. Observations:</th>       <td>    89</td>       <th>  AIC:               </th> <td>   3484.</td>\n",
       "</tr>\n",
       "<tr>\n",
       "  <th>Df Residuals:</th>           <td>    84</td>       <th>  BIC:               </th> <td>   3497.</td>\n",
       "</tr>\n",
       "<tr>\n",
       "  <th>Df Model:</th>               <td>     4</td>       <th>                     </th>     <td> </td>   \n",
       "</tr>\n",
       "<tr>\n",
       "  <th>Covariance Type:</th>       <td>nonrobust</td>     <th>                     </th>     <td> </td>   \n",
       "</tr>\n",
       "</table>\n",
       "<table class=\"simpletable\">\n",
       "<tr>\n",
       "       <td></td>          <th>coef</th>     <th>std err</th>      <th>t</th>      <th>P>|t|</th>  <th>[0.025</th>    <th>0.975]</th>  \n",
       "</tr>\n",
       "<tr>\n",
       "  <th>Intercept</th>   <td>-1.012e+07</td> <td> 4.05e+07</td> <td>   -0.250</td> <td> 0.803</td> <td>-9.08e+07</td> <td> 7.05e+07</td>\n",
       "</tr>\n",
       "<tr>\n",
       "  <th>Budget</th>      <td>    0.7036</td> <td>    0.165</td> <td>    4.255</td> <td> 0.000</td> <td>    0.375</td> <td>    1.032</td>\n",
       "</tr>\n",
       "<tr>\n",
       "  <th>rating_PG</th>   <td> 1.438e+07</td> <td> 1.74e+07</td> <td>    0.826</td> <td> 0.411</td> <td>-2.02e+07</td> <td>  4.9e+07</td>\n",
       "</tr>\n",
       "<tr>\n",
       "  <th>rating_PG13</th> <td>-1.342e+07</td> <td> 1.98e+07</td> <td>   -0.677</td> <td> 0.500</td> <td>-5.28e+07</td> <td>  2.6e+07</td>\n",
       "</tr>\n",
       "<tr>\n",
       "  <th>rating_R</th>    <td>-1.109e+07</td> <td> 2.03e+07</td> <td>   -0.547</td> <td> 0.586</td> <td>-5.14e+07</td> <td> 2.92e+07</td>\n",
       "</tr>\n",
       "<tr>\n",
       "  <th>Runtime</th>     <td> 6.083e+05</td> <td> 5.21e+05</td> <td>    1.168</td> <td> 0.246</td> <td>-4.27e+05</td> <td> 1.64e+06</td>\n",
       "</tr>\n",
       "</table>\n",
       "<table class=\"simpletable\">\n",
       "<tr>\n",
       "  <th>Omnibus:</th>       <td>36.883</td> <th>  Durbin-Watson:     </th> <td>   0.740</td>\n",
       "</tr>\n",
       "<tr>\n",
       "  <th>Prob(Omnibus):</th> <td> 0.000</td> <th>  Jarque-Bera (JB):  </th> <td>  82.319</td>\n",
       "</tr>\n",
       "<tr>\n",
       "  <th>Skew:</th>          <td> 1.525</td> <th>  Prob(JB):          </th> <td>1.33e-18</td>\n",
       "</tr>\n",
       "<tr>\n",
       "  <th>Kurtosis:</th>      <td> 6.591</td> <th>  Cond. No.          </th> <td>7.84e+23</td>\n",
       "</tr>\n",
       "</table>"
      ],
      "text/plain": [
       "<class 'statsmodels.iolib.summary.Summary'>\n",
       "\"\"\"\n",
       "                            OLS Regression Results                            \n",
       "==============================================================================\n",
       "Dep. Variable:     DomesticTotalGross   R-squared:                       0.302\n",
       "Model:                            OLS   Adj. R-squared:                  0.269\n",
       "Method:                 Least Squares   F-statistic:                     9.089\n",
       "Date:                Tue, 30 Jan 2018   Prob (F-statistic):           3.77e-06\n",
       "Time:                        23:14:29   Log-Likelihood:                -1737.0\n",
       "No. Observations:                  89   AIC:                             3484.\n",
       "Df Residuals:                      84   BIC:                             3497.\n",
       "Df Model:                           4                                         \n",
       "Covariance Type:            nonrobust                                         \n",
       "===============================================================================\n",
       "                  coef    std err          t      P>|t|      [0.025      0.975]\n",
       "-------------------------------------------------------------------------------\n",
       "Intercept   -1.012e+07   4.05e+07     -0.250      0.803   -9.08e+07    7.05e+07\n",
       "Budget          0.7036      0.165      4.255      0.000       0.375       1.032\n",
       "rating_PG    1.438e+07   1.74e+07      0.826      0.411   -2.02e+07     4.9e+07\n",
       "rating_PG13 -1.342e+07   1.98e+07     -0.677      0.500   -5.28e+07     2.6e+07\n",
       "rating_R    -1.109e+07   2.03e+07     -0.547      0.586   -5.14e+07    2.92e+07\n",
       "Runtime      6.083e+05   5.21e+05      1.168      0.246   -4.27e+05    1.64e+06\n",
       "==============================================================================\n",
       "Omnibus:                       36.883   Durbin-Watson:                   0.740\n",
       "Prob(Omnibus):                  0.000   Jarque-Bera (JB):               82.319\n",
       "Skew:                           1.525   Prob(JB):                     1.33e-18\n",
       "Kurtosis:                       6.591   Cond. No.                     7.84e+23\n",
       "==============================================================================\n",
       "\n",
       "Warnings:\n",
       "[1] Standard Errors assume that the covariance matrix of the errors is correctly specified.\n",
       "[2] The smallest eigenvalue is 1.31e-30. This might indicate that there are\n",
       "strong multicollinearity problems or that the design matrix is singular.\n",
       "\"\"\""
      ]
     },
     "execution_count": 49,
     "metadata": {},
     "output_type": "execute_result"
    }
   ],
   "source": [
    "# Create feature matrix X and target vector y\n",
    "y4, X4 = patsy.dmatrices('DomesticTotalGross ~ Budget + rating_PG + rating_PG13 + rating_R + Runtime', data=movies_df, return_type=\"dataframe\")\n",
    "\n",
    "# Create OLS model\n",
    "model4 = sm.OLS(y4, X4)\n",
    "# Fit the model to the training set\n",
    "fit4 = model4.fit()\n",
    "# Print summary statistics of the model's performance\n",
    "fit4.summary()"
   ]
  },
  {
   "cell_type": "code",
   "execution_count": 106,
   "metadata": {},
   "outputs": [
    {
     "data": {
      "text/html": [
       "<table class=\"simpletable\">\n",
       "<caption>OLS Regression Results</caption>\n",
       "<tr>\n",
       "  <th>Dep. Variable:</th>    <td>DomesticTotalGross</td> <th>  R-squared:         </th> <td>   0.295</td>\n",
       "</tr>\n",
       "<tr>\n",
       "  <th>Model:</th>                    <td>OLS</td>        <th>  Adj. R-squared:    </th> <td>   0.250</td>\n",
       "</tr>\n",
       "<tr>\n",
       "  <th>Method:</th>              <td>Least Squares</td>   <th>  F-statistic:       </th> <td>   6.611</td>\n",
       "</tr>\n",
       "<tr>\n",
       "  <th>Date:</th>              <td>Wed, 31 Jan 2018</td>  <th>  Prob (F-statistic):</th> <td>3.45e-05</td>\n",
       "</tr>\n",
       "<tr>\n",
       "  <th>Time:</th>                  <td>17:05:39</td>      <th>  Log-Likelihood:    </th> <td> -1660.7</td>\n",
       "</tr>\n",
       "<tr>\n",
       "  <th>No. Observations:</th>       <td>    85</td>       <th>  AIC:               </th> <td>   3333.</td>\n",
       "</tr>\n",
       "<tr>\n",
       "  <th>Df Residuals:</th>           <td>    79</td>       <th>  BIC:               </th> <td>   3348.</td>\n",
       "</tr>\n",
       "<tr>\n",
       "  <th>Df Model:</th>               <td>     5</td>       <th>                     </th>     <td> </td>   \n",
       "</tr>\n",
       "<tr>\n",
       "  <th>Covariance Type:</th>       <td>nonrobust</td>     <th>                     </th>     <td> </td>   \n",
       "</tr>\n",
       "</table>\n",
       "<table class=\"simpletable\">\n",
       "<tr>\n",
       "            <td></td>              <th>coef</th>     <th>std err</th>      <th>t</th>      <th>P>|t|</th>  <th>[0.025</th>    <th>0.975]</th>  \n",
       "</tr>\n",
       "<tr>\n",
       "  <th>Intercept</th>            <td>-1.042e+07</td> <td> 4.24e+07</td> <td>   -0.246</td> <td> 0.807</td> <td>-9.48e+07</td> <td>  7.4e+07</td>\n",
       "</tr>\n",
       "<tr>\n",
       "  <th>Budget</th>               <td>    0.6907</td> <td>    0.176</td> <td>    3.927</td> <td> 0.000</td> <td>    0.341</td> <td>    1.041</td>\n",
       "</tr>\n",
       "<tr>\n",
       "  <th>rating_PG</th>            <td> 1.395e+07</td> <td> 1.85e+07</td> <td>    0.752</td> <td> 0.454</td> <td>-2.29e+07</td> <td> 5.08e+07</td>\n",
       "</tr>\n",
       "<tr>\n",
       "  <th>rating_PG13</th>          <td>-1.277e+07</td> <td> 2.05e+07</td> <td>   -0.623</td> <td> 0.535</td> <td>-5.35e+07</td> <td>  2.8e+07</td>\n",
       "</tr>\n",
       "<tr>\n",
       "  <th>rating_R</th>             <td> -1.16e+07</td> <td> 2.17e+07</td> <td>   -0.535</td> <td> 0.594</td> <td>-5.48e+07</td> <td> 3.16e+07</td>\n",
       "</tr>\n",
       "<tr>\n",
       "  <th>Runtime</th>              <td> 6.603e+05</td> <td> 5.77e+05</td> <td>    1.144</td> <td> 0.256</td> <td>-4.89e+05</td> <td> 1.81e+06</td>\n",
       "</tr>\n",
       "<tr>\n",
       "  <th>log_director_credits</th> <td>-2.117e+06</td> <td> 9.54e+06</td> <td>   -0.222</td> <td> 0.825</td> <td>-2.11e+07</td> <td> 1.69e+07</td>\n",
       "</tr>\n",
       "</table>\n",
       "<table class=\"simpletable\">\n",
       "<tr>\n",
       "  <th>Omnibus:</th>       <td>34.510</td> <th>  Durbin-Watson:     </th> <td>   0.716</td>\n",
       "</tr>\n",
       "<tr>\n",
       "  <th>Prob(Omnibus):</th> <td> 0.000</td> <th>  Jarque-Bera (JB):  </th> <td>  72.387</td>\n",
       "</tr>\n",
       "<tr>\n",
       "  <th>Skew:</th>          <td> 1.500</td> <th>  Prob(JB):          </th> <td>1.91e-16</td>\n",
       "</tr>\n",
       "<tr>\n",
       "  <th>Kurtosis:</th>      <td> 6.382</td> <th>  Cond. No.          </th> <td>1.71e+23</td>\n",
       "</tr>\n",
       "</table>"
      ],
      "text/plain": [
       "<class 'statsmodels.iolib.summary.Summary'>\n",
       "\"\"\"\n",
       "                            OLS Regression Results                            \n",
       "==============================================================================\n",
       "Dep. Variable:     DomesticTotalGross   R-squared:                       0.295\n",
       "Model:                            OLS   Adj. R-squared:                  0.250\n",
       "Method:                 Least Squares   F-statistic:                     6.611\n",
       "Date:                Wed, 31 Jan 2018   Prob (F-statistic):           3.45e-05\n",
       "Time:                        17:05:39   Log-Likelihood:                -1660.7\n",
       "No. Observations:                  85   AIC:                             3333.\n",
       "Df Residuals:                      79   BIC:                             3348.\n",
       "Df Model:                           5                                         \n",
       "Covariance Type:            nonrobust                                         \n",
       "========================================================================================\n",
       "                           coef    std err          t      P>|t|      [0.025      0.975]\n",
       "----------------------------------------------------------------------------------------\n",
       "Intercept            -1.042e+07   4.24e+07     -0.246      0.807   -9.48e+07     7.4e+07\n",
       "Budget                   0.6907      0.176      3.927      0.000       0.341       1.041\n",
       "rating_PG             1.395e+07   1.85e+07      0.752      0.454   -2.29e+07    5.08e+07\n",
       "rating_PG13          -1.277e+07   2.05e+07     -0.623      0.535   -5.35e+07     2.8e+07\n",
       "rating_R              -1.16e+07   2.17e+07     -0.535      0.594   -5.48e+07    3.16e+07\n",
       "Runtime               6.603e+05   5.77e+05      1.144      0.256   -4.89e+05    1.81e+06\n",
       "log_director_credits -2.117e+06   9.54e+06     -0.222      0.825   -2.11e+07    1.69e+07\n",
       "==============================================================================\n",
       "Omnibus:                       34.510   Durbin-Watson:                   0.716\n",
       "Prob(Omnibus):                  0.000   Jarque-Bera (JB):               72.387\n",
       "Skew:                           1.500   Prob(JB):                     1.91e-16\n",
       "Kurtosis:                       6.382   Cond. No.                     1.71e+23\n",
       "==============================================================================\n",
       "\n",
       "Warnings:\n",
       "[1] Standard Errors assume that the covariance matrix of the errors is correctly specified.\n",
       "[2] The smallest eigenvalue is 2.73e-29. This might indicate that there are\n",
       "strong multicollinearity problems or that the design matrix is singular.\n",
       "\"\"\""
      ]
     },
     "execution_count": 106,
     "metadata": {},
     "output_type": "execute_result"
    }
   ],
   "source": [
    "# Create feature matrix X and target vector y\n",
    "y4, X4 = patsy.dmatrices('DomesticTotalGross ~ Budget + rating_PG + rating_PG13 + rating_R + Runtime + log_director_credits', data=movies_df2, return_type=\"dataframe\")\n",
    "\n",
    "# Create OLS model\n",
    "model4 = sm.OLS(y4, X4)\n",
    "# Fit the model to the training set\n",
    "fit4 = model4.fit()\n",
    "# Print summary statistics of the model's performance\n",
    "fit4.summary()"
   ]
  },
  {
   "cell_type": "code",
   "execution_count": null,
   "metadata": {
    "collapsed": true
   },
   "outputs": [],
   "source": []
  },
  {
   "cell_type": "markdown",
   "metadata": {},
   "source": [
    "### Challenge 5\n",
    "\n",
    "Fitting and checking predictions on the exact same data set can be misleading. Divide your data into two sets: a training and a test set (roughly 75% training, 25% test is a fine split). Fit a model on the training set, check the predictions (by plotting versus actual values) in the test set."
   ]
  },
  {
   "cell_type": "code",
   "execution_count": null,
   "metadata": {
    "collapsed": true
   },
   "outputs": [],
   "source": []
  },
  {
   "cell_type": "code",
   "execution_count": null,
   "metadata": {
    "collapsed": true
   },
   "outputs": [],
   "source": []
  },
  {
   "cell_type": "code",
   "execution_count": null,
   "metadata": {
    "collapsed": true
   },
   "outputs": [],
   "source": []
  }
 ],
 "metadata": {
  "kernelspec": {
   "display_name": "Python 3",
   "language": "python",
   "name": "python3"
  },
  "language_info": {
   "codemirror_mode": {
    "name": "ipython",
    "version": 3
   },
   "file_extension": ".py",
   "mimetype": "text/x-python",
   "name": "python",
   "nbconvert_exporter": "python",
   "pygments_lexer": "ipython3",
   "version": "3.6.3"
  }
 },
 "nbformat": 4,
 "nbformat_minor": 2
}
