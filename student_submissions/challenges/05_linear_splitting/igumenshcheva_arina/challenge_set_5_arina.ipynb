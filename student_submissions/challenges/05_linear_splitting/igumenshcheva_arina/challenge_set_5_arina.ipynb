{
 "cells": [
  {
   "cell_type": "markdown",
   "metadata": {},
   "source": [
    "**Topic:**        Challenge Set 5  \n",
    "**Subject:**      Linear Regression and Train/Test Split challenges  \n",
    "**Date:**         01/29/2018  \n",
    "**Name:**         Arina Igumenshcheva  \n",
    "**Worked with:**  N/A  "
   ]
  },
  {
   "cell_type": "code",
   "execution_count": 359,
   "metadata": {},
   "outputs": [
    {
     "name": "stderr",
     "output_type": "stream",
     "text": [
      "C:\\Users\\Arina\\Anaconda3\\lib\\site-packages\\sklearn\\cross_validation.py:41: DeprecationWarning: This module was deprecated in version 0.18 in favor of the model_selection module into which all the refactored classes and functions are moved. Also note that the interface of the new CV iterators are different from that of this module. This module will be removed in 0.20.\n",
      "  \"This module will be removed in 0.20.\", DeprecationWarning)\n"
     ]
    }
   ],
   "source": [
    "# Import python libraries\n",
    "import pandas as pd\n",
    "import numpy as np\n",
    "\n",
    "import matplotlib.pyplot as plt\n",
    "%matplotlib inline\n",
    "\n",
    "import datetime\n",
    "\n",
    "import statsmodels.api as sm\n",
    "import statsmodels.formula.api as smf\n",
    "import patsy\n",
    "import seaborn as sns\n",
    "from sklearn.linear_model import LinearRegression\n",
    "from sklearn.linear_model import RidgeCV\n",
    "\n",
    "from sklearn import metrics\n",
    "from sklearn.preprocessing import PolynomialFeatures\n",
    "from sklearn.pipeline import make_pipeline\n",
    "from sklearn.cross_validation import train_test_split\n",
    "from sklearn.cross_validation import KFold\n",
    "\n",
    "import re"
   ]
  },
  {
   "cell_type": "code",
   "execution_count": 224,
   "metadata": {},
   "outputs": [
    {
     "data": {
      "text/html": [
       "<div>\n",
       "<style>\n",
       "    .dataframe thead tr:only-child th {\n",
       "        text-align: right;\n",
       "    }\n",
       "\n",
       "    .dataframe thead th {\n",
       "        text-align: left;\n",
       "    }\n",
       "\n",
       "    .dataframe tbody tr th {\n",
       "        vertical-align: top;\n",
       "    }\n",
       "</style>\n",
       "<table border=\"1\" class=\"dataframe\">\n",
       "  <thead>\n",
       "    <tr style=\"text-align: right;\">\n",
       "      <th></th>\n",
       "      <th>Title</th>\n",
       "      <th>Budget</th>\n",
       "      <th>DomesticTotalGross</th>\n",
       "      <th>Director</th>\n",
       "      <th>Rating</th>\n",
       "      <th>Runtime</th>\n",
       "      <th>ReleaseDate</th>\n",
       "    </tr>\n",
       "  </thead>\n",
       "  <tbody>\n",
       "    <tr>\n",
       "      <th>0</th>\n",
       "      <td>The Hunger Games: Catching Fire</td>\n",
       "      <td>130000000.0</td>\n",
       "      <td>424668047</td>\n",
       "      <td>Francis Lawrence</td>\n",
       "      <td>PG-13</td>\n",
       "      <td>146</td>\n",
       "      <td>2013-11-22</td>\n",
       "    </tr>\n",
       "    <tr>\n",
       "      <th>1</th>\n",
       "      <td>Iron Man 3</td>\n",
       "      <td>200000000.0</td>\n",
       "      <td>409013994</td>\n",
       "      <td>Shane Black</td>\n",
       "      <td>PG-13</td>\n",
       "      <td>129</td>\n",
       "      <td>2013-05-03</td>\n",
       "    </tr>\n",
       "    <tr>\n",
       "      <th>2</th>\n",
       "      <td>Frozen</td>\n",
       "      <td>150000000.0</td>\n",
       "      <td>400738009</td>\n",
       "      <td>Chris BuckJennifer Lee</td>\n",
       "      <td>PG</td>\n",
       "      <td>108</td>\n",
       "      <td>2013-11-22</td>\n",
       "    </tr>\n",
       "    <tr>\n",
       "      <th>3</th>\n",
       "      <td>Despicable Me 2</td>\n",
       "      <td>76000000.0</td>\n",
       "      <td>368061265</td>\n",
       "      <td>Pierre CoffinChris Renaud</td>\n",
       "      <td>PG</td>\n",
       "      <td>98</td>\n",
       "      <td>2013-07-03</td>\n",
       "    </tr>\n",
       "    <tr>\n",
       "      <th>4</th>\n",
       "      <td>Man of Steel</td>\n",
       "      <td>225000000.0</td>\n",
       "      <td>291045518</td>\n",
       "      <td>Zack Snyder</td>\n",
       "      <td>PG-13</td>\n",
       "      <td>143</td>\n",
       "      <td>2013-06-14</td>\n",
       "    </tr>\n",
       "    <tr>\n",
       "      <th>5</th>\n",
       "      <td>Gravity</td>\n",
       "      <td>100000000.0</td>\n",
       "      <td>274092705</td>\n",
       "      <td>Alfonso Cuaron</td>\n",
       "      <td>PG-13</td>\n",
       "      <td>91</td>\n",
       "      <td>2013-10-04</td>\n",
       "    </tr>\n",
       "    <tr>\n",
       "      <th>6</th>\n",
       "      <td>Monsters University</td>\n",
       "      <td>NaN</td>\n",
       "      <td>268492764</td>\n",
       "      <td>Dan Scanlon</td>\n",
       "      <td>G</td>\n",
       "      <td>107</td>\n",
       "      <td>2013-06-21</td>\n",
       "    </tr>\n",
       "    <tr>\n",
       "      <th>7</th>\n",
       "      <td>The Hobbit: The Desolation of Smaug</td>\n",
       "      <td>NaN</td>\n",
       "      <td>258366855</td>\n",
       "      <td>Peter Jackson</td>\n",
       "      <td>PG-13</td>\n",
       "      <td>161</td>\n",
       "      <td>2013-12-13</td>\n",
       "    </tr>\n",
       "    <tr>\n",
       "      <th>8</th>\n",
       "      <td>Fast &amp; Furious 6</td>\n",
       "      <td>160000000.0</td>\n",
       "      <td>238679850</td>\n",
       "      <td>Justin Lin</td>\n",
       "      <td>PG-13</td>\n",
       "      <td>130</td>\n",
       "      <td>2013-05-24</td>\n",
       "    </tr>\n",
       "    <tr>\n",
       "      <th>9</th>\n",
       "      <td>Oz The Great and Powerful</td>\n",
       "      <td>215000000.0</td>\n",
       "      <td>234911825</td>\n",
       "      <td>Sam Raimi</td>\n",
       "      <td>PG</td>\n",
       "      <td>127</td>\n",
       "      <td>2013-03-08</td>\n",
       "    </tr>\n",
       "    <tr>\n",
       "      <th>10</th>\n",
       "      <td>Star Trek Into Darkness</td>\n",
       "      <td>190000000.0</td>\n",
       "      <td>228778661</td>\n",
       "      <td>J.J. Abrams</td>\n",
       "      <td>PG-13</td>\n",
       "      <td>123</td>\n",
       "      <td>2013-05-16</td>\n",
       "    </tr>\n",
       "    <tr>\n",
       "      <th>11</th>\n",
       "      <td>Thor: The Dark World</td>\n",
       "      <td>170000000.0</td>\n",
       "      <td>206362140</td>\n",
       "      <td>Alan Taylor</td>\n",
       "      <td>PG-13</td>\n",
       "      <td>120</td>\n",
       "      <td>2013-11-08</td>\n",
       "    </tr>\n",
       "    <tr>\n",
       "      <th>12</th>\n",
       "      <td>World War Z</td>\n",
       "      <td>190000000.0</td>\n",
       "      <td>202359711</td>\n",
       "      <td>Marc Forster</td>\n",
       "      <td>PG-13</td>\n",
       "      <td>116</td>\n",
       "      <td>2013-06-21</td>\n",
       "    </tr>\n",
       "    <tr>\n",
       "      <th>13</th>\n",
       "      <td>The Croods</td>\n",
       "      <td>135000000.0</td>\n",
       "      <td>187168425</td>\n",
       "      <td>Kirk De MiccoChris Sanders</td>\n",
       "      <td>PG</td>\n",
       "      <td>98</td>\n",
       "      <td>2013-03-22</td>\n",
       "    </tr>\n",
       "    <tr>\n",
       "      <th>14</th>\n",
       "      <td>The Heat</td>\n",
       "      <td>43000000.0</td>\n",
       "      <td>159582188</td>\n",
       "      <td>Paul Feig</td>\n",
       "      <td>R</td>\n",
       "      <td>117</td>\n",
       "      <td>2013-06-28</td>\n",
       "    </tr>\n",
       "    <tr>\n",
       "      <th>15</th>\n",
       "      <td>We're the Millers</td>\n",
       "      <td>37000000.0</td>\n",
       "      <td>150394119</td>\n",
       "      <td>Rawson Marshall Thurber</td>\n",
       "      <td>R</td>\n",
       "      <td>110</td>\n",
       "      <td>2013-08-07</td>\n",
       "    </tr>\n",
       "    <tr>\n",
       "      <th>16</th>\n",
       "      <td>American Hustle</td>\n",
       "      <td>40000000.0</td>\n",
       "      <td>150117807</td>\n",
       "      <td>David O. Russell</td>\n",
       "      <td>R</td>\n",
       "      <td>138</td>\n",
       "      <td>2013-12-13</td>\n",
       "    </tr>\n",
       "    <tr>\n",
       "      <th>17</th>\n",
       "      <td>The Great Gatsby</td>\n",
       "      <td>105000000.0</td>\n",
       "      <td>144840419</td>\n",
       "      <td>Baz Luhrmann</td>\n",
       "      <td>PG-13</td>\n",
       "      <td>143</td>\n",
       "      <td>2013-05-10</td>\n",
       "    </tr>\n",
       "    <tr>\n",
       "      <th>18</th>\n",
       "      <td>The Conjuring</td>\n",
       "      <td>20000000.0</td>\n",
       "      <td>137400141</td>\n",
       "      <td>James Wan</td>\n",
       "      <td>R</td>\n",
       "      <td>112</td>\n",
       "      <td>2013-07-19</td>\n",
       "    </tr>\n",
       "    <tr>\n",
       "      <th>19</th>\n",
       "      <td>Identity Thief</td>\n",
       "      <td>35000000.0</td>\n",
       "      <td>134506920</td>\n",
       "      <td>Seth Gordon</td>\n",
       "      <td>R</td>\n",
       "      <td>111</td>\n",
       "      <td>2013-02-08</td>\n",
       "    </tr>\n",
       "  </tbody>\n",
       "</table>\n",
       "</div>"
      ],
      "text/plain": [
       "                                  Title       Budget  DomesticTotalGross  \\\n",
       "0       The Hunger Games: Catching Fire  130000000.0           424668047   \n",
       "1                            Iron Man 3  200000000.0           409013994   \n",
       "2                                Frozen  150000000.0           400738009   \n",
       "3                       Despicable Me 2   76000000.0           368061265   \n",
       "4                          Man of Steel  225000000.0           291045518   \n",
       "5                               Gravity  100000000.0           274092705   \n",
       "6                   Monsters University          NaN           268492764   \n",
       "7   The Hobbit: The Desolation of Smaug          NaN           258366855   \n",
       "8                      Fast & Furious 6  160000000.0           238679850   \n",
       "9             Oz The Great and Powerful  215000000.0           234911825   \n",
       "10              Star Trek Into Darkness  190000000.0           228778661   \n",
       "11                 Thor: The Dark World  170000000.0           206362140   \n",
       "12                          World War Z  190000000.0           202359711   \n",
       "13                           The Croods  135000000.0           187168425   \n",
       "14                             The Heat   43000000.0           159582188   \n",
       "15                    We're the Millers   37000000.0           150394119   \n",
       "16                      American Hustle   40000000.0           150117807   \n",
       "17                     The Great Gatsby  105000000.0           144840419   \n",
       "18                        The Conjuring   20000000.0           137400141   \n",
       "19                       Identity Thief   35000000.0           134506920   \n",
       "\n",
       "                      Director Rating  Runtime ReleaseDate  \n",
       "0             Francis Lawrence  PG-13      146  2013-11-22  \n",
       "1                  Shane Black  PG-13      129  2013-05-03  \n",
       "2       Chris BuckJennifer Lee     PG      108  2013-11-22  \n",
       "3    Pierre CoffinChris Renaud     PG       98  2013-07-03  \n",
       "4                  Zack Snyder  PG-13      143  2013-06-14  \n",
       "5               Alfonso Cuaron  PG-13       91  2013-10-04  \n",
       "6                  Dan Scanlon      G      107  2013-06-21  \n",
       "7                Peter Jackson  PG-13      161  2013-12-13  \n",
       "8                   Justin Lin  PG-13      130  2013-05-24  \n",
       "9                    Sam Raimi     PG      127  2013-03-08  \n",
       "10                 J.J. Abrams  PG-13      123  2013-05-16  \n",
       "11                 Alan Taylor  PG-13      120  2013-11-08  \n",
       "12                Marc Forster  PG-13      116  2013-06-21  \n",
       "13  Kirk De MiccoChris Sanders     PG       98  2013-03-22  \n",
       "14                   Paul Feig      R      117  2013-06-28  \n",
       "15     Rawson Marshall Thurber      R      110  2013-08-07  \n",
       "16            David O. Russell      R      138  2013-12-13  \n",
       "17                Baz Luhrmann  PG-13      143  2013-05-10  \n",
       "18                   James Wan      R      112  2013-07-19  \n",
       "19                 Seth Gordon      R      111  2013-02-08  "
      ]
     },
     "execution_count": 224,
     "metadata": {},
     "output_type": "execute_result"
    }
   ],
   "source": [
    "# Import the movies data\n",
    "filepath = 'https://raw.githubusercontent.com/33eyes/nyc18_ds14/master/challenges/challenges_data/2013_movies.csv?token=ANE-v-MauItGvS7Y5l5d8R09FhJo3z-Bks5aeZN3wA%3D%3D'\n",
    "movies_df = pd.read_csv(filepath,\n",
    "        parse_dates =['ReleaseDate'])\n",
    "\n",
    "movies_df.head(20)"
   ]
  },
  {
   "cell_type": "code",
   "execution_count": 225,
   "metadata": {},
   "outputs": [
    {
     "name": "stdout",
     "output_type": "stream",
     "text": [
      "<class 'pandas.core.frame.DataFrame'>\n",
      "RangeIndex: 100 entries, 0 to 99\n",
      "Data columns (total 7 columns):\n",
      "Title                 100 non-null object\n",
      "Budget                89 non-null float64\n",
      "DomesticTotalGross    100 non-null int64\n",
      "Director              96 non-null object\n",
      "Rating                100 non-null object\n",
      "Runtime               100 non-null int64\n",
      "ReleaseDate           100 non-null datetime64[ns]\n",
      "dtypes: datetime64[ns](1), float64(1), int64(2), object(3)\n",
      "memory usage: 5.5+ KB\n"
     ]
    }
   ],
   "source": [
    "movies_df.info()"
   ]
  },
  {
   "cell_type": "markdown",
   "metadata": {},
   "source": [
    "### Challenge 1\n",
    "\n",
    "Build a linear model that uses only a constant term (a column of ones) to predict a continuous outcome (like domestic total gross). How can you interpret the results of this model? What does it predict? Make a plot of predictions against actual outcome. Make a histogram of residuals. How are the residuals distributed?"
   ]
  },
  {
   "cell_type": "code",
   "execution_count": 226,
   "metadata": {
    "collapsed": true
   },
   "outputs": [],
   "source": [
    "# Create feature matrix X and target vector y\n",
    "y, X = patsy.dmatrices('DomesticTotalGross ~ 1', data=movies_df, return_type=\"dataframe\")"
   ]
  },
  {
   "cell_type": "code",
   "execution_count": 227,
   "metadata": {},
   "outputs": [
    {
     "name": "stderr",
     "output_type": "stream",
     "text": [
      "C:\\Users\\Arina\\Anaconda3\\lib\\site-packages\\statsmodels\\regression\\linear_model.py:1396: RuntimeWarning: divide by zero encountered in double_scalars\n",
      "  return self.ess/self.df_model\n"
     ]
    },
    {
     "data": {
      "text/html": [
       "<table class=\"simpletable\">\n",
       "<caption>OLS Regression Results</caption>\n",
       "<tr>\n",
       "  <th>Dep. Variable:</th>    <td>DomesticTotalGross</td> <th>  R-squared:         </th> <td>   0.000</td>\n",
       "</tr>\n",
       "<tr>\n",
       "  <th>Model:</th>                    <td>OLS</td>        <th>  Adj. R-squared:    </th> <td>   0.000</td>\n",
       "</tr>\n",
       "<tr>\n",
       "  <th>Method:</th>              <td>Least Squares</td>   <th>  F-statistic:       </th> <td>     inf</td>\n",
       "</tr>\n",
       "<tr>\n",
       "  <th>Date:</th>              <td>Sat, 03 Feb 2018</td>  <th>  Prob (F-statistic):</th>  <td>   nan</td> \n",
       "</tr>\n",
       "<tr>\n",
       "  <th>Time:</th>                  <td>23:19:29</td>      <th>  Log-Likelihood:    </th> <td> -1970.0</td>\n",
       "</tr>\n",
       "<tr>\n",
       "  <th>No. Observations:</th>       <td>   100</td>       <th>  AIC:               </th> <td>   3942.</td>\n",
       "</tr>\n",
       "<tr>\n",
       "  <th>Df Residuals:</th>           <td>    99</td>       <th>  BIC:               </th> <td>   3945.</td>\n",
       "</tr>\n",
       "<tr>\n",
       "  <th>Df Model:</th>               <td>     0</td>       <th>                     </th>     <td> </td>   \n",
       "</tr>\n",
       "<tr>\n",
       "  <th>Covariance Type:</th>       <td>nonrobust</td>     <th>                     </th>     <td> </td>   \n",
       "</tr>\n",
       "</table>\n",
       "<table class=\"simpletable\">\n",
       "<tr>\n",
       "      <td></td>         <th>coef</th>     <th>std err</th>      <th>t</th>      <th>P>|t|</th>  <th>[0.025</th>    <th>0.975]</th>  \n",
       "</tr>\n",
       "<tr>\n",
       "  <th>Intercept</th> <td> 1.006e+08</td> <td> 8.74e+06</td> <td>   11.510</td> <td> 0.000</td> <td> 8.33e+07</td> <td> 1.18e+08</td>\n",
       "</tr>\n",
       "</table>\n",
       "<table class=\"simpletable\">\n",
       "<tr>\n",
       "  <th>Omnibus:</th>       <td>51.114</td> <th>  Durbin-Watson:     </th> <td>   0.013</td>\n",
       "</tr>\n",
       "<tr>\n",
       "  <th>Prob(Omnibus):</th> <td> 0.000</td> <th>  Jarque-Bera (JB):  </th> <td> 125.961</td>\n",
       "</tr>\n",
       "<tr>\n",
       "  <th>Skew:</th>          <td> 1.985</td> <th>  Prob(JB):          </th> <td>4.45e-28</td>\n",
       "</tr>\n",
       "<tr>\n",
       "  <th>Kurtosis:</th>      <td> 6.804</td> <th>  Cond. No.          </th> <td>    1.00</td>\n",
       "</tr>\n",
       "</table>"
      ],
      "text/plain": [
       "<class 'statsmodels.iolib.summary.Summary'>\n",
       "\"\"\"\n",
       "                            OLS Regression Results                            \n",
       "==============================================================================\n",
       "Dep. Variable:     DomesticTotalGross   R-squared:                       0.000\n",
       "Model:                            OLS   Adj. R-squared:                  0.000\n",
       "Method:                 Least Squares   F-statistic:                       inf\n",
       "Date:                Sat, 03 Feb 2018   Prob (F-statistic):                nan\n",
       "Time:                        23:19:29   Log-Likelihood:                -1970.0\n",
       "No. Observations:                 100   AIC:                             3942.\n",
       "Df Residuals:                      99   BIC:                             3945.\n",
       "Df Model:                           0                                         \n",
       "Covariance Type:            nonrobust                                         \n",
       "==============================================================================\n",
       "                 coef    std err          t      P>|t|      [0.025      0.975]\n",
       "------------------------------------------------------------------------------\n",
       "Intercept   1.006e+08   8.74e+06     11.510      0.000    8.33e+07    1.18e+08\n",
       "==============================================================================\n",
       "Omnibus:                       51.114   Durbin-Watson:                   0.013\n",
       "Prob(Omnibus):                  0.000   Jarque-Bera (JB):              125.961\n",
       "Skew:                           1.985   Prob(JB):                     4.45e-28\n",
       "Kurtosis:                       6.804   Cond. No.                         1.00\n",
       "==============================================================================\n",
       "\n",
       "Warnings:\n",
       "[1] Standard Errors assume that the covariance matrix of the errors is correctly specified.\n",
       "\"\"\""
      ]
     },
     "execution_count": 227,
     "metadata": {},
     "output_type": "execute_result"
    }
   ],
   "source": [
    "# Create OLS model\n",
    "model = sm.OLS(y, X)\n",
    "# Fit the model to the training set\n",
    "fit = model.fit()\n",
    "# Print summary statistics of the model's performance\n",
    "fit.summary()"
   ]
  },
  {
   "cell_type": "code",
   "execution_count": 228,
   "metadata": {},
   "outputs": [
    {
     "data": {
      "text/plain": [
       "0    1.005969e+08\n",
       "1    1.005969e+08\n",
       "2    1.005969e+08\n",
       "3    1.005969e+08\n",
       "4    1.005969e+08\n",
       "dtype: float64"
      ]
     },
     "execution_count": 228,
     "metadata": {},
     "output_type": "execute_result"
    }
   ],
   "source": [
    "fit.fittedvalues.head()"
   ]
  },
  {
   "cell_type": "code",
   "execution_count": 229,
   "metadata": {},
   "outputs": [
    {
     "data": {
      "text/plain": [
       "count    1.000000e+02\n",
       "mean     1.005969e+08\n",
       "std      8.739641e+07\n",
       "min      2.556825e+07\n",
       "25%      4.270413e+07\n",
       "50%      6.954237e+07\n",
       "75%      1.204759e+08\n",
       "max      4.246680e+08\n",
       "Name: DomesticTotalGross, dtype: float64"
      ]
     },
     "execution_count": 229,
     "metadata": {},
     "output_type": "execute_result"
    }
   ],
   "source": [
    "movies_df['DomesticTotalGross'].describe()"
   ]
  },
  {
   "cell_type": "markdown",
   "metadata": {},
   "source": [
    "The results of this model can be interpreted as the exprected value of Domestic Total Gross when all other factors are 0.  This is also the average value of Domestic Total Gross, which is $100,596,900. Since the model doesn't have any additional information that it could use to predict Domestic Total Gross, it simply predicts the Domestic Total Gross of a movies to be the average value of Domestic Total Gross across all movies in the data set."
   ]
  },
  {
   "cell_type": "code",
   "execution_count": 230,
   "metadata": {},
   "outputs": [
    {
     "data": {
      "image/png": "[encoded data removed]",
      "text/plain": [
       "<matplotlib.figure.Figure at 0x2ddfa192630>"
      ]
     },
     "metadata": {},
     "output_type": "display_data"
    }
   ],
   "source": [
    "plt.figure(figsize=(10,8))\n",
    "plt.ylabel('Predicted (\\$\\$)', fontsize=14)\n",
    "plt.xlabel('Actual (\\$\\$)', fontsize=14)\n",
    "plt.title(\"Domestic Total Gross: Predicted vs Actual Values\")\n",
    "\n",
    "plt.plot(y,fit.fittedvalues);"
   ]
  },
  {
   "cell_type": "code",
   "execution_count": 231,
   "metadata": {},
   "outputs": [
    {
     "data": {
      "image/png": "[encoded data removed]",
      "text/plain": [
       "<matplotlib.figure.Figure at 0x2ddfa192160>"
      ]
     },
     "metadata": {},
     "output_type": "display_data"
    }
   ],
   "source": [
    "# Histogram of residuals\n",
    "fit.resid.hist(figsize=(10,8), bins=50);"
   ]
  },
  {
   "cell_type": "code",
   "execution_count": 232,
   "metadata": {},
   "outputs": [
    {
     "data": {
      "image/png": "[encoded data removed]",
      "text/plain": [
       "<matplotlib.figure.Figure at 0x2ddfa8317f0>"
      ]
     },
     "metadata": {},
     "output_type": "display_data"
    }
   ],
   "source": [
    "plt.figure(figsize=(10,8))\n",
    "plt.ylabel('Residual (\\$\\$)', fontsize=14)\n",
    "plt.xlabel('Actual (\\$\\$)', fontsize=14)\n",
    "plt.title(\"Domestic Total Gross: Residuals vs Actual Values\")\n",
    "\n",
    "plt.plot(y,fit.resid);"
   ]
  },
  {
   "cell_type": "code",
   "execution_count": 233,
   "metadata": {},
   "outputs": [
    {
     "data": {
      "text/plain": [
       "0    3.240712e+08\n",
       "1    3.084171e+08\n",
       "2    3.001411e+08\n",
       "3    2.674644e+08\n",
       "4    1.904486e+08\n",
       "dtype: float64"
      ]
     },
     "execution_count": 233,
     "metadata": {},
     "output_type": "execute_result"
    }
   ],
   "source": [
    "fit.resid[:5]"
   ]
  },
  {
   "cell_type": "markdown",
   "metadata": {},
   "source": [
    "The residuals are highly skewed, showing that the predicted value overestimates a lot of actual values."
   ]
  },
  {
   "cell_type": "markdown",
   "metadata": {},
   "source": [
    "### Challenge 2\n",
    "\n",
    "Repeat the process of challenge one, but also add one continuous (numeric) predictor variable. Also add plots of model prediction against your feature variable and residuals against feature variable. How can you interpret what's happening in the model?"
   ]
  },
  {
   "cell_type": "code",
   "execution_count": 234,
   "metadata": {
    "collapsed": true
   },
   "outputs": [],
   "source": [
    "# Drop rows with missing values for Budget\n",
    "movies_df = movies_df[pd.notnull(movies_df.Budget)]"
   ]
  },
  {
   "cell_type": "code",
   "execution_count": 235,
   "metadata": {},
   "outputs": [
    {
     "data": {
      "text/html": [
       "<div>\n",
       "<style>\n",
       "    .dataframe thead tr:only-child th {\n",
       "        text-align: right;\n",
       "    }\n",
       "\n",
       "    .dataframe thead th {\n",
       "        text-align: left;\n",
       "    }\n",
       "\n",
       "    .dataframe tbody tr th {\n",
       "        vertical-align: top;\n",
       "    }\n",
       "</style>\n",
       "<table border=\"1\" class=\"dataframe\">\n",
       "  <thead>\n",
       "    <tr style=\"text-align: right;\">\n",
       "      <th></th>\n",
       "      <th>Title</th>\n",
       "      <th>Budget</th>\n",
       "      <th>DomesticTotalGross</th>\n",
       "      <th>Director</th>\n",
       "      <th>Rating</th>\n",
       "      <th>Runtime</th>\n",
       "      <th>ReleaseDate</th>\n",
       "    </tr>\n",
       "  </thead>\n",
       "  <tbody>\n",
       "    <tr>\n",
       "      <th>0</th>\n",
       "      <td>The Hunger Games: Catching Fire</td>\n",
       "      <td>130000000.0</td>\n",
       "      <td>424668047</td>\n",
       "      <td>Francis Lawrence</td>\n",
       "      <td>PG-13</td>\n",
       "      <td>146</td>\n",
       "      <td>2013-11-22</td>\n",
       "    </tr>\n",
       "    <tr>\n",
       "      <th>1</th>\n",
       "      <td>Iron Man 3</td>\n",
       "      <td>200000000.0</td>\n",
       "      <td>409013994</td>\n",
       "      <td>Shane Black</td>\n",
       "      <td>PG-13</td>\n",
       "      <td>129</td>\n",
       "      <td>2013-05-03</td>\n",
       "    </tr>\n",
       "    <tr>\n",
       "      <th>2</th>\n",
       "      <td>Frozen</td>\n",
       "      <td>150000000.0</td>\n",
       "      <td>400738009</td>\n",
       "      <td>Chris BuckJennifer Lee</td>\n",
       "      <td>PG</td>\n",
       "      <td>108</td>\n",
       "      <td>2013-11-22</td>\n",
       "    </tr>\n",
       "    <tr>\n",
       "      <th>3</th>\n",
       "      <td>Despicable Me 2</td>\n",
       "      <td>76000000.0</td>\n",
       "      <td>368061265</td>\n",
       "      <td>Pierre CoffinChris Renaud</td>\n",
       "      <td>PG</td>\n",
       "      <td>98</td>\n",
       "      <td>2013-07-03</td>\n",
       "    </tr>\n",
       "    <tr>\n",
       "      <th>4</th>\n",
       "      <td>Man of Steel</td>\n",
       "      <td>225000000.0</td>\n",
       "      <td>291045518</td>\n",
       "      <td>Zack Snyder</td>\n",
       "      <td>PG-13</td>\n",
       "      <td>143</td>\n",
       "      <td>2013-06-14</td>\n",
       "    </tr>\n",
       "    <tr>\n",
       "      <th>5</th>\n",
       "      <td>Gravity</td>\n",
       "      <td>100000000.0</td>\n",
       "      <td>274092705</td>\n",
       "      <td>Alfonso Cuaron</td>\n",
       "      <td>PG-13</td>\n",
       "      <td>91</td>\n",
       "      <td>2013-10-04</td>\n",
       "    </tr>\n",
       "    <tr>\n",
       "      <th>8</th>\n",
       "      <td>Fast &amp; Furious 6</td>\n",
       "      <td>160000000.0</td>\n",
       "      <td>238679850</td>\n",
       "      <td>Justin Lin</td>\n",
       "      <td>PG-13</td>\n",
       "      <td>130</td>\n",
       "      <td>2013-05-24</td>\n",
       "    </tr>\n",
       "    <tr>\n",
       "      <th>9</th>\n",
       "      <td>Oz The Great and Powerful</td>\n",
       "      <td>215000000.0</td>\n",
       "      <td>234911825</td>\n",
       "      <td>Sam Raimi</td>\n",
       "      <td>PG</td>\n",
       "      <td>127</td>\n",
       "      <td>2013-03-08</td>\n",
       "    </tr>\n",
       "    <tr>\n",
       "      <th>10</th>\n",
       "      <td>Star Trek Into Darkness</td>\n",
       "      <td>190000000.0</td>\n",
       "      <td>228778661</td>\n",
       "      <td>J.J. Abrams</td>\n",
       "      <td>PG-13</td>\n",
       "      <td>123</td>\n",
       "      <td>2013-05-16</td>\n",
       "    </tr>\n",
       "    <tr>\n",
       "      <th>11</th>\n",
       "      <td>Thor: The Dark World</td>\n",
       "      <td>170000000.0</td>\n",
       "      <td>206362140</td>\n",
       "      <td>Alan Taylor</td>\n",
       "      <td>PG-13</td>\n",
       "      <td>120</td>\n",
       "      <td>2013-11-08</td>\n",
       "    </tr>\n",
       "  </tbody>\n",
       "</table>\n",
       "</div>"
      ],
      "text/plain": [
       "                              Title       Budget  DomesticTotalGross  \\\n",
       "0   The Hunger Games: Catching Fire  130000000.0           424668047   \n",
       "1                        Iron Man 3  200000000.0           409013994   \n",
       "2                            Frozen  150000000.0           400738009   \n",
       "3                   Despicable Me 2   76000000.0           368061265   \n",
       "4                      Man of Steel  225000000.0           291045518   \n",
       "5                           Gravity  100000000.0           274092705   \n",
       "8                  Fast & Furious 6  160000000.0           238679850   \n",
       "9         Oz The Great and Powerful  215000000.0           234911825   \n",
       "10          Star Trek Into Darkness  190000000.0           228778661   \n",
       "11             Thor: The Dark World  170000000.0           206362140   \n",
       "\n",
       "                     Director Rating  Runtime ReleaseDate  \n",
       "0            Francis Lawrence  PG-13      146  2013-11-22  \n",
       "1                 Shane Black  PG-13      129  2013-05-03  \n",
       "2      Chris BuckJennifer Lee     PG      108  2013-11-22  \n",
       "3   Pierre CoffinChris Renaud     PG       98  2013-07-03  \n",
       "4                 Zack Snyder  PG-13      143  2013-06-14  \n",
       "5              Alfonso Cuaron  PG-13       91  2013-10-04  \n",
       "8                  Justin Lin  PG-13      130  2013-05-24  \n",
       "9                   Sam Raimi     PG      127  2013-03-08  \n",
       "10                J.J. Abrams  PG-13      123  2013-05-16  \n",
       "11                Alan Taylor  PG-13      120  2013-11-08  "
      ]
     },
     "execution_count": 235,
     "metadata": {},
     "output_type": "execute_result"
    }
   ],
   "source": [
    "movies_df.head(10)"
   ]
  },
  {
   "cell_type": "code",
   "execution_count": 236,
   "metadata": {},
   "outputs": [
    {
     "data": {
      "image/png": "[encoded data removed]",
      "text/plain": [
       "<matplotlib.figure.Figure at 0x2ddfa7a5cf8>"
      ]
     },
     "metadata": {},
     "output_type": "display_data"
    }
   ],
   "source": [
    "movies_df['Budget'].hist(figsize=(10,8), bins=50);"
   ]
  },
  {
   "cell_type": "code",
   "execution_count": 237,
   "metadata": {},
   "outputs": [
    {
     "data": {
      "image/png": "[encoded data removed]",
      "text/plain": [
       "<matplotlib.figure.Figure at 0x2ddfa7aef28>"
      ]
     },
     "metadata": {},
     "output_type": "display_data"
    }
   ],
   "source": [
    "plt.figure(figsize=(10,8))\n",
    "plt.ylabel('Budget', fontsize=14)\n",
    "plt.xlabel('Domestic Total Gross (\\$\\$)', fontsize=14)\n",
    "plt.title(\"Domestic Total Gross vs Budget\")\n",
    "plt.plot(movies_df2['DomesticTotalGross'],movies_df2['Budget'], 'bo');"
   ]
  },
  {
   "cell_type": "code",
   "execution_count": 238,
   "metadata": {},
   "outputs": [
    {
     "data": {
      "image/png": "[encoded data removed]",
      "text/plain": [
       "<matplotlib.figure.Figure at 0x2ddfa748400>"
      ]
     },
     "metadata": {},
     "output_type": "display_data"
    }
   ],
   "source": [
    "movies_df.boxplot(column='Budget', figsize=(10,8));"
   ]
  },
  {
   "cell_type": "code",
   "execution_count": 239,
   "metadata": {},
   "outputs": [
    {
     "data": {
      "text/html": [
       "<table class=\"simpletable\">\n",
       "<caption>OLS Regression Results</caption>\n",
       "<tr>\n",
       "  <th>Dep. Variable:</th>    <td>DomesticTotalGross</td> <th>  R-squared:         </th> <td>   0.286</td>\n",
       "</tr>\n",
       "<tr>\n",
       "  <th>Model:</th>                    <td>OLS</td>        <th>  Adj. R-squared:    </th> <td>   0.278</td>\n",
       "</tr>\n",
       "<tr>\n",
       "  <th>Method:</th>              <td>Least Squares</td>   <th>  F-statistic:       </th> <td>   34.82</td>\n",
       "</tr>\n",
       "<tr>\n",
       "  <th>Date:</th>              <td>Sat, 03 Feb 2018</td>  <th>  Prob (F-statistic):</th> <td>6.80e-08</td>\n",
       "</tr>\n",
       "<tr>\n",
       "  <th>Time:</th>                  <td>23:19:31</td>      <th>  Log-Likelihood:    </th> <td> -1738.1</td>\n",
       "</tr>\n",
       "<tr>\n",
       "  <th>No. Observations:</th>       <td>    89</td>       <th>  AIC:               </th> <td>   3480.</td>\n",
       "</tr>\n",
       "<tr>\n",
       "  <th>Df Residuals:</th>           <td>    87</td>       <th>  BIC:               </th> <td>   3485.</td>\n",
       "</tr>\n",
       "<tr>\n",
       "  <th>Df Model:</th>               <td>     1</td>       <th>                     </th>     <td> </td>   \n",
       "</tr>\n",
       "<tr>\n",
       "  <th>Covariance Type:</th>       <td>nonrobust</td>     <th>                     </th>     <td> </td>   \n",
       "</tr>\n",
       "</table>\n",
       "<table class=\"simpletable\">\n",
       "<tr>\n",
       "      <td></td>         <th>coef</th>     <th>std err</th>      <th>t</th>      <th>P>|t|</th>  <th>[0.025</th>    <th>0.975]</th>  \n",
       "</tr>\n",
       "<tr>\n",
       "  <th>Intercept</th> <td>  4.44e+07</td> <td> 1.27e+07</td> <td>    3.504</td> <td> 0.001</td> <td> 1.92e+07</td> <td> 6.96e+07</td>\n",
       "</tr>\n",
       "<tr>\n",
       "  <th>Budget</th>    <td>    0.7846</td> <td>    0.133</td> <td>    5.901</td> <td> 0.000</td> <td>    0.520</td> <td>    1.049</td>\n",
       "</tr>\n",
       "</table>\n",
       "<table class=\"simpletable\">\n",
       "<tr>\n",
       "  <th>Omnibus:</th>       <td>39.749</td> <th>  Durbin-Watson:     </th> <td>   0.674</td>\n",
       "</tr>\n",
       "<tr>\n",
       "  <th>Prob(Omnibus):</th> <td> 0.000</td> <th>  Jarque-Bera (JB):  </th> <td>  99.441</td>\n",
       "</tr>\n",
       "<tr>\n",
       "  <th>Skew:</th>          <td> 1.587</td> <th>  Prob(JB):          </th> <td>2.55e-22</td>\n",
       "</tr>\n",
       "<tr>\n",
       "  <th>Kurtosis:</th>      <td> 7.091</td> <th>  Cond. No.          </th> <td>1.54e+08</td>\n",
       "</tr>\n",
       "</table>"
      ],
      "text/plain": [
       "<class 'statsmodels.iolib.summary.Summary'>\n",
       "\"\"\"\n",
       "                            OLS Regression Results                            \n",
       "==============================================================================\n",
       "Dep. Variable:     DomesticTotalGross   R-squared:                       0.286\n",
       "Model:                            OLS   Adj. R-squared:                  0.278\n",
       "Method:                 Least Squares   F-statistic:                     34.82\n",
       "Date:                Sat, 03 Feb 2018   Prob (F-statistic):           6.80e-08\n",
       "Time:                        23:19:31   Log-Likelihood:                -1738.1\n",
       "No. Observations:                  89   AIC:                             3480.\n",
       "Df Residuals:                      87   BIC:                             3485.\n",
       "Df Model:                           1                                         \n",
       "Covariance Type:            nonrobust                                         \n",
       "==============================================================================\n",
       "                 coef    std err          t      P>|t|      [0.025      0.975]\n",
       "------------------------------------------------------------------------------\n",
       "Intercept    4.44e+07   1.27e+07      3.504      0.001    1.92e+07    6.96e+07\n",
       "Budget         0.7846      0.133      5.901      0.000       0.520       1.049\n",
       "==============================================================================\n",
       "Omnibus:                       39.749   Durbin-Watson:                   0.674\n",
       "Prob(Omnibus):                  0.000   Jarque-Bera (JB):               99.441\n",
       "Skew:                           1.587   Prob(JB):                     2.55e-22\n",
       "Kurtosis:                       7.091   Cond. No.                     1.54e+08\n",
       "==============================================================================\n",
       "\n",
       "Warnings:\n",
       "[1] Standard Errors assume that the covariance matrix of the errors is correctly specified.\n",
       "[2] The condition number is large, 1.54e+08. This might indicate that there are\n",
       "strong multicollinearity or other numerical problems.\n",
       "\"\"\""
      ]
     },
     "execution_count": 239,
     "metadata": {},
     "output_type": "execute_result"
    }
   ],
   "source": [
    "# Create feature matrix X and target vector y\n",
    "y2, X2 = patsy.dmatrices('DomesticTotalGross ~ Budget', data=movies_df, return_type=\"dataframe\")\n",
    "\n",
    "# Create OLS model\n",
    "model2 = sm.OLS(y2, X2)\n",
    "# Fit the model to the training set\n",
    "fit2 = model2.fit()\n",
    "# Print summary statistics of the model's performance\n",
    "fit2.summary()"
   ]
  },
  {
   "cell_type": "code",
   "execution_count": 240,
   "metadata": {},
   "outputs": [
    {
     "data": {
      "image/png": "[encoded data removed]",
      "text/plain": [
       "<matplotlib.figure.Figure at 0x2ddfb041cc0>"
      ]
     },
     "metadata": {},
     "output_type": "display_data"
    }
   ],
   "source": [
    "plt.figure(figsize=(10,8))\n",
    "plt.ylabel('Predicted (\\$\\$)', fontsize=14)\n",
    "plt.xlabel('Actual (\\$\\$)', fontsize=14)\n",
    "plt.title(\"Domestic Total Gross: Predicted vs Actual Values\")\n",
    "\n",
    "plt.plot(y2,fit2.fittedvalues, 'ro');"
   ]
  },
  {
   "cell_type": "code",
   "execution_count": 241,
   "metadata": {},
   "outputs": [
    {
     "data": {
      "image/png": "[encoded data removed]",
      "text/plain": [
       "<matplotlib.figure.Figure at 0x2ddfa1526a0>"
      ]
     },
     "metadata": {},
     "output_type": "display_data"
    }
   ],
   "source": [
    "# Histogram of residuals\n",
    "fit2.resid.hist(figsize=(10,8), bins=50);"
   ]
  },
  {
   "cell_type": "code",
   "execution_count": 242,
   "metadata": {},
   "outputs": [
    {
     "data": {
      "image/png": "[encoded data removed]",
      "text/plain": [
       "<matplotlib.figure.Figure at 0x2ddfb057d68>"
      ]
     },
     "metadata": {},
     "output_type": "display_data"
    }
   ],
   "source": [
    "# Plots of model predictions against feature variable, and of residuals against feature variable\n",
    "# (along with a couple more plots)\n",
    "\n",
    "fig = plt.figure(figsize=(12,8))\n",
    "fig = sm.graphics.plot_regress_exog(fit2, \"Budget\", fig=fig)"
   ]
  },
  {
   "cell_type": "markdown",
   "metadata": {},
   "source": [
    "The residuals are now a lot less skewed and are starting to resemble the normal distribution. Both the model overall and the coefficient of Budget have p-values of less than 5%, so the model and the effect of Budget on total gross income are statistically significant. Budget has a positive coefficient in our model, which we can interpret as a positive relationship between Budget and DomesticTotalGross. But the model only explains about 28.6% of the variation we see in the data."
   ]
  },
  {
   "cell_type": "markdown",
   "metadata": {},
   "source": [
    "### Challenge 3\n",
    "\n",
    "Repeat the process of challenge 1, but add a categorical feature (like genre). You'll have to convert a column of text into a number of numerical columns (\"dummy variables\"). How can you interpret what's happening in the model?"
   ]
  },
  {
   "cell_type": "code",
   "execution_count": 243,
   "metadata": {},
   "outputs": [
    {
     "data": {
      "text/plain": [
       "PG-13    41\n",
       "R        33\n",
       "PG       15\n",
       "Name: Rating, dtype: int64"
      ]
     },
     "execution_count": 243,
     "metadata": {},
     "output_type": "execute_result"
    }
   ],
   "source": [
    "# Let's make dummy variables out of Ratings\n",
    "movies_df['Rating'].value_counts()"
   ]
  },
  {
   "cell_type": "code",
   "execution_count": 244,
   "metadata": {
    "collapsed": true
   },
   "outputs": [],
   "source": [
    "rating_dummies_df = pd.get_dummies(movies_df['Rating'], prefix='rating')"
   ]
  },
  {
   "cell_type": "code",
   "execution_count": 245,
   "metadata": {
    "collapsed": true
   },
   "outputs": [],
   "source": [
    "movies_df = pd.concat([movies_df, rating_dummies_df], axis=1)"
   ]
  },
  {
   "cell_type": "code",
   "execution_count": 246,
   "metadata": {
    "collapsed": true
   },
   "outputs": [],
   "source": [
    "movies_df.rename(columns={'rating_PG-13':'rating_PG13'}, inplace=True)"
   ]
  },
  {
   "cell_type": "code",
   "execution_count": 247,
   "metadata": {},
   "outputs": [
    {
     "data": {
      "text/html": [
       "<div>\n",
       "<style>\n",
       "    .dataframe thead tr:only-child th {\n",
       "        text-align: right;\n",
       "    }\n",
       "\n",
       "    .dataframe thead th {\n",
       "        text-align: left;\n",
       "    }\n",
       "\n",
       "    .dataframe tbody tr th {\n",
       "        vertical-align: top;\n",
       "    }\n",
       "</style>\n",
       "<table border=\"1\" class=\"dataframe\">\n",
       "  <thead>\n",
       "    <tr style=\"text-align: right;\">\n",
       "      <th></th>\n",
       "      <th>Title</th>\n",
       "      <th>Budget</th>\n",
       "      <th>DomesticTotalGross</th>\n",
       "      <th>Director</th>\n",
       "      <th>Rating</th>\n",
       "      <th>Runtime</th>\n",
       "      <th>ReleaseDate</th>\n",
       "      <th>rating_PG</th>\n",
       "      <th>rating_PG13</th>\n",
       "      <th>rating_R</th>\n",
       "    </tr>\n",
       "  </thead>\n",
       "  <tbody>\n",
       "    <tr>\n",
       "      <th>0</th>\n",
       "      <td>The Hunger Games: Catching Fire</td>\n",
       "      <td>130000000.0</td>\n",
       "      <td>424668047</td>\n",
       "      <td>Francis Lawrence</td>\n",
       "      <td>PG-13</td>\n",
       "      <td>146</td>\n",
       "      <td>2013-11-22</td>\n",
       "      <td>0</td>\n",
       "      <td>1</td>\n",
       "      <td>0</td>\n",
       "    </tr>\n",
       "    <tr>\n",
       "      <th>1</th>\n",
       "      <td>Iron Man 3</td>\n",
       "      <td>200000000.0</td>\n",
       "      <td>409013994</td>\n",
       "      <td>Shane Black</td>\n",
       "      <td>PG-13</td>\n",
       "      <td>129</td>\n",
       "      <td>2013-05-03</td>\n",
       "      <td>0</td>\n",
       "      <td>1</td>\n",
       "      <td>0</td>\n",
       "    </tr>\n",
       "    <tr>\n",
       "      <th>2</th>\n",
       "      <td>Frozen</td>\n",
       "      <td>150000000.0</td>\n",
       "      <td>400738009</td>\n",
       "      <td>Chris BuckJennifer Lee</td>\n",
       "      <td>PG</td>\n",
       "      <td>108</td>\n",
       "      <td>2013-11-22</td>\n",
       "      <td>1</td>\n",
       "      <td>0</td>\n",
       "      <td>0</td>\n",
       "    </tr>\n",
       "    <tr>\n",
       "      <th>3</th>\n",
       "      <td>Despicable Me 2</td>\n",
       "      <td>76000000.0</td>\n",
       "      <td>368061265</td>\n",
       "      <td>Pierre CoffinChris Renaud</td>\n",
       "      <td>PG</td>\n",
       "      <td>98</td>\n",
       "      <td>2013-07-03</td>\n",
       "      <td>1</td>\n",
       "      <td>0</td>\n",
       "      <td>0</td>\n",
       "    </tr>\n",
       "    <tr>\n",
       "      <th>4</th>\n",
       "      <td>Man of Steel</td>\n",
       "      <td>225000000.0</td>\n",
       "      <td>291045518</td>\n",
       "      <td>Zack Snyder</td>\n",
       "      <td>PG-13</td>\n",
       "      <td>143</td>\n",
       "      <td>2013-06-14</td>\n",
       "      <td>0</td>\n",
       "      <td>1</td>\n",
       "      <td>0</td>\n",
       "    </tr>\n",
       "  </tbody>\n",
       "</table>\n",
       "</div>"
      ],
      "text/plain": [
       "                             Title       Budget  DomesticTotalGross  \\\n",
       "0  The Hunger Games: Catching Fire  130000000.0           424668047   \n",
       "1                       Iron Man 3  200000000.0           409013994   \n",
       "2                           Frozen  150000000.0           400738009   \n",
       "3                  Despicable Me 2   76000000.0           368061265   \n",
       "4                     Man of Steel  225000000.0           291045518   \n",
       "\n",
       "                    Director Rating  Runtime ReleaseDate  rating_PG  \\\n",
       "0           Francis Lawrence  PG-13      146  2013-11-22          0   \n",
       "1                Shane Black  PG-13      129  2013-05-03          0   \n",
       "2     Chris BuckJennifer Lee     PG      108  2013-11-22          1   \n",
       "3  Pierre CoffinChris Renaud     PG       98  2013-07-03          1   \n",
       "4                Zack Snyder  PG-13      143  2013-06-14          0   \n",
       "\n",
       "   rating_PG13  rating_R  \n",
       "0            1         0  \n",
       "1            1         0  \n",
       "2            0         0  \n",
       "3            0         0  \n",
       "4            1         0  "
      ]
     },
     "execution_count": 247,
     "metadata": {},
     "output_type": "execute_result"
    }
   ],
   "source": [
    "movies_df.head()"
   ]
  },
  {
   "cell_type": "code",
   "execution_count": 248,
   "metadata": {},
   "outputs": [
    {
     "name": "stdout",
     "output_type": "stream",
     "text": [
      "<class 'pandas.core.frame.DataFrame'>\n",
      "Int64Index: 89 entries, 0 to 99\n",
      "Data columns (total 10 columns):\n",
      "Title                 89 non-null object\n",
      "Budget                89 non-null float64\n",
      "DomesticTotalGross    89 non-null int64\n",
      "Director              87 non-null object\n",
      "Rating                89 non-null object\n",
      "Runtime               89 non-null int64\n",
      "ReleaseDate           89 non-null datetime64[ns]\n",
      "rating_PG             89 non-null uint8\n",
      "rating_PG13           89 non-null uint8\n",
      "rating_R              89 non-null uint8\n",
      "dtypes: datetime64[ns](1), float64(1), int64(2), object(3), uint8(3)\n",
      "memory usage: 5.8+ KB\n"
     ]
    }
   ],
   "source": [
    "movies_df.info()"
   ]
  },
  {
   "cell_type": "code",
   "execution_count": 249,
   "metadata": {},
   "outputs": [
    {
     "name": "stderr",
     "output_type": "stream",
     "text": [
      "C:\\Users\\Arina\\Anaconda3\\lib\\site-packages\\numpy\\core\\fromnumeric.py:57: FutureWarning: reshape is deprecated and will raise in a subsequent release. Please use .values.reshape(...) instead\n",
      "  return getattr(obj, method)(*args, **kwds)\n"
     ]
    },
    {
     "data": {
      "image/png": "[encoded data removed]",
      "text/plain": [
       "<matplotlib.figure.Figure at 0x2ddf91e1a20>"
      ]
     },
     "metadata": {},
     "output_type": "display_data"
    }
   ],
   "source": [
    "movies_df.boxplot(column='Budget', by='Rating', figsize=(10,8));"
   ]
  },
  {
   "cell_type": "code",
   "execution_count": 250,
   "metadata": {},
   "outputs": [
    {
     "data": {
      "text/html": [
       "<table class=\"simpletable\">\n",
       "<caption>OLS Regression Results</caption>\n",
       "<tr>\n",
       "  <th>Dep. Variable:</th>    <td>DomesticTotalGross</td> <th>  R-squared:         </th> <td>   0.286</td>\n",
       "</tr>\n",
       "<tr>\n",
       "  <th>Model:</th>                    <td>OLS</td>        <th>  Adj. R-squared:    </th> <td>   0.269</td>\n",
       "</tr>\n",
       "<tr>\n",
       "  <th>Method:</th>              <td>Least Squares</td>   <th>  F-statistic:       </th> <td>   17.21</td>\n",
       "</tr>\n",
       "<tr>\n",
       "  <th>Date:</th>              <td>Sat, 03 Feb 2018</td>  <th>  Prob (F-statistic):</th> <td>5.16e-07</td>\n",
       "</tr>\n",
       "<tr>\n",
       "  <th>Time:</th>                  <td>23:19:33</td>      <th>  Log-Likelihood:    </th> <td> -1738.1</td>\n",
       "</tr>\n",
       "<tr>\n",
       "  <th>No. Observations:</th>       <td>    89</td>       <th>  AIC:               </th> <td>   3482.</td>\n",
       "</tr>\n",
       "<tr>\n",
       "  <th>Df Residuals:</th>           <td>    86</td>       <th>  BIC:               </th> <td>   3490.</td>\n",
       "</tr>\n",
       "<tr>\n",
       "  <th>Df Model:</th>               <td>     2</td>       <th>                     </th>     <td> </td>   \n",
       "</tr>\n",
       "<tr>\n",
       "  <th>Covariance Type:</th>       <td>nonrobust</td>     <th>                     </th>     <td> </td>   \n",
       "</tr>\n",
       "</table>\n",
       "<table class=\"simpletable\">\n",
       "<tr>\n",
       "      <td></td>         <th>coef</th>     <th>std err</th>      <th>t</th>      <th>P>|t|</th>  <th>[0.025</th>    <th>0.975]</th>  \n",
       "</tr>\n",
       "<tr>\n",
       "  <th>Intercept</th> <td> 4.528e+07</td> <td> 1.76e+07</td> <td>    2.574</td> <td> 0.012</td> <td> 1.03e+07</td> <td> 8.02e+07</td>\n",
       "</tr>\n",
       "<tr>\n",
       "  <th>Budget</th>    <td>    0.7795</td> <td>    0.151</td> <td>    5.156</td> <td> 0.000</td> <td>    0.479</td> <td>    1.080</td>\n",
       "</tr>\n",
       "<tr>\n",
       "  <th>rating_R</th>  <td>-1.343e+06</td> <td> 1.85e+07</td> <td>   -0.073</td> <td> 0.942</td> <td>-3.81e+07</td> <td> 3.54e+07</td>\n",
       "</tr>\n",
       "</table>\n",
       "<table class=\"simpletable\">\n",
       "<tr>\n",
       "  <th>Omnibus:</th>       <td>39.606</td> <th>  Durbin-Watson:     </th> <td>   0.672</td>\n",
       "</tr>\n",
       "<tr>\n",
       "  <th>Prob(Omnibus):</th> <td> 0.000</td> <th>  Jarque-Bera (JB):  </th> <td>  98.647</td>\n",
       "</tr>\n",
       "<tr>\n",
       "  <th>Skew:</th>          <td> 1.583</td> <th>  Prob(JB):          </th> <td>3.79e-22</td>\n",
       "</tr>\n",
       "<tr>\n",
       "  <th>Kurtosis:</th>      <td> 7.071</td> <th>  Cond. No.          </th> <td>2.83e+08</td>\n",
       "</tr>\n",
       "</table>"
      ],
      "text/plain": [
       "<class 'statsmodels.iolib.summary.Summary'>\n",
       "\"\"\"\n",
       "                            OLS Regression Results                            \n",
       "==============================================================================\n",
       "Dep. Variable:     DomesticTotalGross   R-squared:                       0.286\n",
       "Model:                            OLS   Adj. R-squared:                  0.269\n",
       "Method:                 Least Squares   F-statistic:                     17.21\n",
       "Date:                Sat, 03 Feb 2018   Prob (F-statistic):           5.16e-07\n",
       "Time:                        23:19:33   Log-Likelihood:                -1738.1\n",
       "No. Observations:                  89   AIC:                             3482.\n",
       "Df Residuals:                      86   BIC:                             3490.\n",
       "Df Model:                           2                                         \n",
       "Covariance Type:            nonrobust                                         \n",
       "==============================================================================\n",
       "                 coef    std err          t      P>|t|      [0.025      0.975]\n",
       "------------------------------------------------------------------------------\n",
       "Intercept   4.528e+07   1.76e+07      2.574      0.012    1.03e+07    8.02e+07\n",
       "Budget         0.7795      0.151      5.156      0.000       0.479       1.080\n",
       "rating_R   -1.343e+06   1.85e+07     -0.073      0.942   -3.81e+07    3.54e+07\n",
       "==============================================================================\n",
       "Omnibus:                       39.606   Durbin-Watson:                   0.672\n",
       "Prob(Omnibus):                  0.000   Jarque-Bera (JB):               98.647\n",
       "Skew:                           1.583   Prob(JB):                     3.79e-22\n",
       "Kurtosis:                       7.071   Cond. No.                     2.83e+08\n",
       "==============================================================================\n",
       "\n",
       "Warnings:\n",
       "[1] Standard Errors assume that the covariance matrix of the errors is correctly specified.\n",
       "[2] The condition number is large, 2.83e+08. This might indicate that there are\n",
       "strong multicollinearity or other numerical problems.\n",
       "\"\"\""
      ]
     },
     "execution_count": 250,
     "metadata": {},
     "output_type": "execute_result"
    }
   ],
   "source": [
    "# Create feature matrix X and target vector y\n",
    "y3, X3 = patsy.dmatrices('DomesticTotalGross ~ Budget + rating_R', data=movies_df, return_type=\"dataframe\")\n",
    "\n",
    "# Create OLS model\n",
    "model3 = sm.OLS(y3, X3)\n",
    "# Fit the model to the training set\n",
    "fit3 = model3.fit()\n",
    "# Print summary statistics of the model's performance\n",
    "fit3.summary()"
   ]
  },
  {
   "cell_type": "code",
   "execution_count": 251,
   "metadata": {},
   "outputs": [
    {
     "data": {
      "image/png": "[encoded data removed]",
      "text/plain": [
       "<matplotlib.figure.Figure at 0x2ddfafb72e8>"
      ]
     },
     "metadata": {},
     "output_type": "display_data"
    }
   ],
   "source": [
    "plt.figure(figsize=(10,8))\n",
    "plt.ylabel('Predicted (\\$\\$)', fontsize=14)\n",
    "plt.xlabel('Actual (\\$\\$)', fontsize=14)\n",
    "plt.title(\"Domestic Total Gross: Predicted vs Actual Values\")\n",
    "\n",
    "plt.plot(y3,fit3.fittedvalues, 'ro');"
   ]
  },
  {
   "cell_type": "code",
   "execution_count": 252,
   "metadata": {},
   "outputs": [
    {
     "data": {
      "image/png": "[encoded data removed]",
      "text/plain": [
       "<matplotlib.figure.Figure at 0x2ddfaf7d828>"
      ]
     },
     "metadata": {},
     "output_type": "display_data"
    }
   ],
   "source": [
    "# Histogram of residuals\n",
    "fit3.resid.hist(figsize=(10,8), bins=50);"
   ]
  },
  {
   "cell_type": "code",
   "execution_count": 253,
   "metadata": {},
   "outputs": [
    {
     "data": {
      "text/plain": [
       "0    56\n",
       "1    33\n",
       "Name: rating_R, dtype: int64"
      ]
     },
     "execution_count": 253,
     "metadata": {},
     "output_type": "execute_result"
    }
   ],
   "source": [
    "movies_df['rating_R'].value_counts()"
   ]
  },
  {
   "cell_type": "markdown",
   "metadata": {
    "collapsed": true
   },
   "source": [
    "Adding the dummy variables for Rating did not improve our model. The Adjusted R-squared slightly went down, and the t-statistic p-values for the coefficients of the Rating dummy variables are high above 0.05. The Ratings feature doesn't seem to help us predict Domestic Total Gross."
   ]
  },
  {
   "cell_type": "markdown",
   "metadata": {},
   "source": [
    "### Challenge 4\n",
    "\n",
    "Enhance your model further by adding more features and/or transforming existing features. Think about how you build the model matrix and how to interpret what the model is doing."
   ]
  },
  {
   "cell_type": "markdown",
   "metadata": {},
   "source": [
    "-----------\n",
    "Let's try adding Runtime feature to our model."
   ]
  },
  {
   "cell_type": "code",
   "execution_count": 254,
   "metadata": {},
   "outputs": [
    {
     "data": {
      "image/png": "[encoded data removed]",
      "text/plain": [
       "<matplotlib.figure.Figure at 0x2ddfb1e9940>"
      ]
     },
     "metadata": {},
     "output_type": "display_data"
    }
   ],
   "source": [
    "movies_df['Runtime'].hist(figsize=(10,8), bins=50);"
   ]
  },
  {
   "cell_type": "code",
   "execution_count": 255,
   "metadata": {},
   "outputs": [
    {
     "data": {
      "image/png": "[encoded data removed]",
      "text/plain": [
       "<matplotlib.figure.Figure at 0x2ddfa7544a8>"
      ]
     },
     "metadata": {},
     "output_type": "display_data"
    }
   ],
   "source": [
    "movies_df.boxplot(column='Runtime', figsize=(10,8));"
   ]
  },
  {
   "cell_type": "markdown",
   "metadata": {},
   "source": [
    "It looks like there is one movie that is very long and is an outlier by Runtime. Let's drop it from the analysis data set."
   ]
  },
  {
   "cell_type": "code",
   "execution_count": 256,
   "metadata": {},
   "outputs": [],
   "source": [
    "movies_df = movies_df[movies_df['Runtime'] < movies_df['Runtime'].max()].copy()"
   ]
  },
  {
   "cell_type": "code",
   "execution_count": 257,
   "metadata": {},
   "outputs": [
    {
     "data": {
      "image/png": "[encoded data removed]",
      "text/plain": [
       "<matplotlib.figure.Figure at 0x2ddfa6b4940>"
      ]
     },
     "metadata": {},
     "output_type": "display_data"
    }
   ],
   "source": [
    "movies_df['Runtime'].hist(figsize=(10,8), bins=50);"
   ]
  },
  {
   "cell_type": "markdown",
   "metadata": {},
   "source": [
    "Let's also look at the predicted variable distribution, DomesticTotalGross."
   ]
  },
  {
   "cell_type": "code",
   "execution_count": 258,
   "metadata": {},
   "outputs": [
    {
     "data": {
      "image/png": "[encoded data removed]",
      "text/plain": [
       "<matplotlib.figure.Figure at 0x2ddf90f7748>"
      ]
     },
     "metadata": {},
     "output_type": "display_data"
    }
   ],
   "source": [
    "movies_df['DomesticTotalGross'].hist(figsize=(10,8), bins=50);"
   ]
  },
  {
   "cell_type": "code",
   "execution_count": 259,
   "metadata": {},
   "outputs": [
    {
     "data": {
      "image/png": "[encoded data removed]",
      "text/plain": [
       "<matplotlib.figure.Figure at 0x2ddfaf90fd0>"
      ]
     },
     "metadata": {},
     "output_type": "display_data"
    }
   ],
   "source": [
    "np.log(movies_df['DomesticTotalGross']).hist(figsize=(10,8), bins=50);"
   ]
  },
  {
   "cell_type": "markdown",
   "metadata": {},
   "source": [
    "DomesticTotalGross distribution looks highly skewed, so let's try using a log transform of it in our model."
   ]
  },
  {
   "cell_type": "code",
   "execution_count": 260,
   "metadata": {
    "collapsed": true
   },
   "outputs": [],
   "source": [
    "movies_df['log_DomesticTotalGross'] = movies_df['DomesticTotalGross'].apply(np.log)"
   ]
  },
  {
   "cell_type": "code",
   "execution_count": 261,
   "metadata": {},
   "outputs": [
    {
     "data": {
      "image/png": "[encoded data removed]",
      "text/plain": [
       "<matplotlib.figure.Figure at 0x2ddfa7b7a90>"
      ]
     },
     "metadata": {},
     "output_type": "display_data"
    }
   ],
   "source": [
    "plt.figure(figsize=(10,8))\n",
    "plt.ylabel('Runtime', fontsize=14)\n",
    "plt.xlabel('Domestic Total Gross (\\$\\$)', fontsize=14)\n",
    "plt.title(\"Domestic Total Gross vs Runtime\")\n",
    "plt.plot(movies_df['DomesticTotalGross'],movies_df['Runtime'], 'bo');"
   ]
  },
  {
   "cell_type": "code",
   "execution_count": 262,
   "metadata": {},
   "outputs": [
    {
     "data": {
      "image/png": "[encoded data removed]",
      "text/plain": [
       "<matplotlib.figure.Figure at 0x2ddfa4d2d30>"
      ]
     },
     "metadata": {},
     "output_type": "display_data"
    }
   ],
   "source": [
    "plt.figure(figsize=(10,8))\n",
    "plt.ylabel('Runtime', fontsize=14)\n",
    "plt.xlabel('Log(Domestic Total Gross)', fontsize=14)\n",
    "plt.title(\"Log(Domestic Total Gross) vs Runtime\")\n",
    "plt.plot(movies_df['log_DomesticTotalGross'],movies_df['Runtime'], 'bo');"
   ]
  },
  {
   "cell_type": "markdown",
   "metadata": {},
   "source": [
    "Another potential factor that could help us predict domestic total gross is the prior directing experience of the movie's director(s). The directing experience could be very roughly estimated by the number of director's directing credits before 2013 (this information is available on IMDB).  \n",
    "\n",
    "Directing credits are not a very accurate way to capture directing experience, because they span different types of projects, for example, commercials vs movies. This could be improved by weighting the credits by the type of project, but that requires the data for the project types, which is not as easily available. I'm proceeding with just the simple counts of directing credits here, because that could still provide some information for the model."
   ]
  },
  {
   "cell_type": "code",
   "execution_count": 263,
   "metadata": {},
   "outputs": [
    {
     "data": {
      "text/plain": [
       "array(['Francis Lawrence', 'Shane Black', 'Chris BuckJennifer Lee',\n",
       "       'Pierre CoffinChris Renaud', 'Zack Snyder', 'Alfonso Cuaron',\n",
       "       'Justin Lin', 'Sam Raimi', 'J.J. Abrams', 'Alan Taylor',\n",
       "       'Marc Forster', 'Kirk De MiccoChris Sanders', 'Paul Feig',\n",
       "       'Rawson Marshall Thurber', 'David O. Russell', 'Baz Luhrmann',\n",
       "       'James Wan', 'Seth Gordon', 'Dennis Dugan', 'James Mangold',\n",
       "       'Adam McKay', 'Peter Berg', 'Jon Chu', nan, 'Louis Leterrier',\n",
       "       'Lee Daniels', 'Todd Phillips', 'Chris Wedge', 'Paul Greengrass',\n",
       "       'Jeff Tremaine', 'Guillermo del Toro', 'Evan GoldbergSeth Rogen',\n",
       "       'Antoine Fuqua', 'Brian Helgeland', 'Neill Blomkamp', 'Klay Hall',\n",
       "       'Gore Verbinski', 'Joseph Kosinski', 'John Lee Hancock',\n",
       "       'David Soren', 'Baltasar Kormakur', 'Roland Emmerich',\n",
       "       'Andres Muschietti', 'Lasse Hallstrom', 'Raja Gosnell',\n",
       "       'Malcolm D. Lee', 'Thor Freudenthal', 'John Moore',\n",
       "       'Jonathan Levine', 'Bryan Singer', 'James DeMonaco',\n",
       "       'Jon Turteltaub', 'Gavin Hood', 'Denis Villeneuve',\n",
       "       'M. Night Shyamalan', 'Ben Stiller', 'Cal Brunker',\n",
       "       'Steve McQueen (II)', 'Jimmy Hayward', 'Tommy Wirkola',\n",
       "       'Fede Alvarez', 'Dean Parisot', 'Brad Anderson', 'Michael Bay',\n",
       "       'Ruben Fleischer', 'Shawn Levy', 'David Twohy', 'Michael Tiddes',\n",
       "       'Carl Rinsch', 'Stephen Frears', 'Luc Besson',\n",
       "       'Barry CookNeil Nightingale', 'Kimberly Peirce', 'Robert Schwentke',\n",
       "       'Harald Zwart', 'Ken Scott', 'Peter Segal', 'Morgan Spurlock',\n",
       "       'Jeff Wadlow', 'Jean-Marc Vallee', 'Ron Howard', 'Andrew Niccol',\n",
       "       'Edgar Wright', 'Jon LucasScott Moore', 'Spike Jonze'], dtype=object)"
      ]
     },
     "execution_count": 263,
     "metadata": {},
     "output_type": "execute_result"
    }
   ],
   "source": [
    "movies_df['Director'].unique()"
   ]
  },
  {
   "cell_type": "code",
   "execution_count": 264,
   "metadata": {
    "collapsed": true
   },
   "outputs": [],
   "source": [
    "# Remove obs with missing Director values\n",
    "movies_df = movies_df[pd.notnull(movies_df.Director)]"
   ]
  },
  {
   "cell_type": "code",
   "execution_count": 265,
   "metadata": {
    "collapsed": true
   },
   "outputs": [],
   "source": [
    "movies_df = movies_df.copy()"
   ]
  },
  {
   "cell_type": "code",
   "execution_count": 266,
   "metadata": {
    "collapsed": true
   },
   "outputs": [],
   "source": [
    "# If multiple directors on a movie, then the director credits were added.\n",
    "# Director credits source: IMDB\n",
    "# Only including director credits counts prior to 2013 here\n",
    "def director_credits(director):\n",
    "    director_credits_dict = {'Francis Lawrence':46, 'Shane Black':1, 'Chris BuckJennifer Lee':3,\n",
    "       'Pierre CoffinChris Renaud':9, 'Zack Snyder':8, 'Alfonso Cuaron':13,\n",
    "       'Dan Scanlon':2, 'Peter Jackson':17, 'Justin Lin':12, 'Sam Raimi':30,\n",
    "       'J.J. Abrams':11, 'Alan Taylor':29, 'Marc Forster':10,\n",
    "       'Kirk De MiccoChris Sanders':3, 'Paul Feig':16,\n",
    "       'Rawson Marshall Thurber':6, 'David O. Russell':9, 'Baz Luhrmann':13,\n",
    "       'James Wan':7, 'Seth Gordon':12, 'Dennis Dugan':36, 'James Mangold':12,\n",
    "       'Adam McKay':14, 'Peter Berg':15, 'Jon Chu':9, 'Louis Leterrier':5,\n",
    "       'Martin Scorsese':52, 'Lee Daniels':3, 'Todd Phillips':12, 'Chris Wedge':5,\n",
    "       'Paul Greengrass':16, 'Jeff Tremaine':11, 'Guillermo del Toro':10,\n",
    "       'Evan GoldbergSeth Rogen':0, 'Antoine Fuqua':15, 'Brian Helgeland':5,\n",
    "       'Neill Blomkamp':10, 'Klay Hall':7, 'Gore Verbinski':9, 'Joseph Kosinski':1,\n",
    "       'John Lee Hancock':6, 'David Soren':1, 'Baltasar Kormakur':8,\n",
    "       'Roland Emmerich':16, 'Andres Muschietti':3, 'Lasse Hallstrom':66,\n",
    "       'Raja Gosnell':8, 'Malcolm D. Lee':7, 'Thor Freudenthal':9, 'John Moore':6,\n",
    "       'Jonathan Levine':6, 'Bryan Singer':11, 'James DeMonaco':1,\n",
    "       'Jon Turteltaub':16, 'Gavin Hood':9, 'Denis Villeneuve':11,\n",
    "       'M. Night Shyamalan':9, 'Ben Stiller':13, 'Cal Brunker':1,\n",
    "       'Steve McQueen (II)':25, 'Jimmy Hayward':2, 'Tommy Wirkola':4,\n",
    "       'Fede Alvarez':4, 'Dean Parisot':29, 'Tyler Perry':27, 'Brad Anderson':23,\n",
    "       'Michael Bay':50, 'Ruben Fleischer':14, 'Shawn Levy':31, 'Ric Roman Waugh':3,\n",
    "       'David Twohy':7, 'Michael Tiddes':3, 'Carl Rinsch':3, 'John Wells':4,\n",
    "       'Stephen Frears':55, 'Luc Besson':24, 'Barry CookNeil Nightingale':6,\n",
    "       'Kimberly Peirce':5, 'John Luessenhop':3, 'Robert Schwentke':7,\n",
    "       'Woody Allen':47, 'Steven Soderbergh':34, 'Harald Zwart':14, 'Ken Scott':2,\n",
    "       'Peter Segal':17, 'Morgan Spurlock':10, 'Jeff Wadlow':5, 'Jean-Marc Vallee':10,\n",
    "       'Ron Howard':31, 'Andrew Niccol':5, 'Edgar Wright':18,\n",
    "       'Jon LucasScott Moore':0, 'Spike Jonze':91}\n",
    "    return director_credits_dict[director]"
   ]
  },
  {
   "cell_type": "code",
   "execution_count": 267,
   "metadata": {},
   "outputs": [],
   "source": [
    "movies_df['director_credits'] = movies_df['Director'].apply(lambda d: director_credits(d))"
   ]
  },
  {
   "cell_type": "code",
   "execution_count": 268,
   "metadata": {},
   "outputs": [
    {
     "data": {
      "text/html": [
       "<div>\n",
       "<style>\n",
       "    .dataframe thead tr:only-child th {\n",
       "        text-align: right;\n",
       "    }\n",
       "\n",
       "    .dataframe thead th {\n",
       "        text-align: left;\n",
       "    }\n",
       "\n",
       "    .dataframe tbody tr th {\n",
       "        vertical-align: top;\n",
       "    }\n",
       "</style>\n",
       "<table border=\"1\" class=\"dataframe\">\n",
       "  <thead>\n",
       "    <tr style=\"text-align: right;\">\n",
       "      <th></th>\n",
       "      <th>Title</th>\n",
       "      <th>Budget</th>\n",
       "      <th>DomesticTotalGross</th>\n",
       "      <th>Director</th>\n",
       "      <th>Rating</th>\n",
       "      <th>Runtime</th>\n",
       "      <th>ReleaseDate</th>\n",
       "      <th>rating_PG</th>\n",
       "      <th>rating_PG13</th>\n",
       "      <th>rating_R</th>\n",
       "      <th>log_DomesticTotalGross</th>\n",
       "      <th>director_credits</th>\n",
       "    </tr>\n",
       "  </thead>\n",
       "  <tbody>\n",
       "    <tr>\n",
       "      <th>0</th>\n",
       "      <td>The Hunger Games: Catching Fire</td>\n",
       "      <td>130000000.0</td>\n",
       "      <td>424668047</td>\n",
       "      <td>Francis Lawrence</td>\n",
       "      <td>PG-13</td>\n",
       "      <td>146</td>\n",
       "      <td>2013-11-22</td>\n",
       "      <td>0</td>\n",
       "      <td>1</td>\n",
       "      <td>0</td>\n",
       "      <td>19.866818</td>\n",
       "      <td>46</td>\n",
       "    </tr>\n",
       "    <tr>\n",
       "      <th>1</th>\n",
       "      <td>Iron Man 3</td>\n",
       "      <td>200000000.0</td>\n",
       "      <td>409013994</td>\n",
       "      <td>Shane Black</td>\n",
       "      <td>PG-13</td>\n",
       "      <td>129</td>\n",
       "      <td>2013-05-03</td>\n",
       "      <td>0</td>\n",
       "      <td>1</td>\n",
       "      <td>0</td>\n",
       "      <td>19.829260</td>\n",
       "      <td>1</td>\n",
       "    </tr>\n",
       "    <tr>\n",
       "      <th>2</th>\n",
       "      <td>Frozen</td>\n",
       "      <td>150000000.0</td>\n",
       "      <td>400738009</td>\n",
       "      <td>Chris BuckJennifer Lee</td>\n",
       "      <td>PG</td>\n",
       "      <td>108</td>\n",
       "      <td>2013-11-22</td>\n",
       "      <td>1</td>\n",
       "      <td>0</td>\n",
       "      <td>0</td>\n",
       "      <td>19.808818</td>\n",
       "      <td>3</td>\n",
       "    </tr>\n",
       "    <tr>\n",
       "      <th>3</th>\n",
       "      <td>Despicable Me 2</td>\n",
       "      <td>76000000.0</td>\n",
       "      <td>368061265</td>\n",
       "      <td>Pierre CoffinChris Renaud</td>\n",
       "      <td>PG</td>\n",
       "      <td>98</td>\n",
       "      <td>2013-07-03</td>\n",
       "      <td>1</td>\n",
       "      <td>0</td>\n",
       "      <td>0</td>\n",
       "      <td>19.723760</td>\n",
       "      <td>9</td>\n",
       "    </tr>\n",
       "    <tr>\n",
       "      <th>4</th>\n",
       "      <td>Man of Steel</td>\n",
       "      <td>225000000.0</td>\n",
       "      <td>291045518</td>\n",
       "      <td>Zack Snyder</td>\n",
       "      <td>PG-13</td>\n",
       "      <td>143</td>\n",
       "      <td>2013-06-14</td>\n",
       "      <td>0</td>\n",
       "      <td>1</td>\n",
       "      <td>0</td>\n",
       "      <td>19.488990</td>\n",
       "      <td>8</td>\n",
       "    </tr>\n",
       "  </tbody>\n",
       "</table>\n",
       "</div>"
      ],
      "text/plain": [
       "                             Title       Budget  DomesticTotalGross  \\\n",
       "0  The Hunger Games: Catching Fire  130000000.0           424668047   \n",
       "1                       Iron Man 3  200000000.0           409013994   \n",
       "2                           Frozen  150000000.0           400738009   \n",
       "3                  Despicable Me 2   76000000.0           368061265   \n",
       "4                     Man of Steel  225000000.0           291045518   \n",
       "\n",
       "                    Director Rating  Runtime ReleaseDate  rating_PG  \\\n",
       "0           Francis Lawrence  PG-13      146  2013-11-22          0   \n",
       "1                Shane Black  PG-13      129  2013-05-03          0   \n",
       "2     Chris BuckJennifer Lee     PG      108  2013-11-22          1   \n",
       "3  Pierre CoffinChris Renaud     PG       98  2013-07-03          1   \n",
       "4                Zack Snyder  PG-13      143  2013-06-14          0   \n",
       "\n",
       "   rating_PG13  rating_R  log_DomesticTotalGross  director_credits  \n",
       "0            1         0               19.866818                46  \n",
       "1            1         0               19.829260                 1  \n",
       "2            0         0               19.808818                 3  \n",
       "3            0         0               19.723760                 9  \n",
       "4            1         0               19.488990                 8  "
      ]
     },
     "execution_count": 268,
     "metadata": {},
     "output_type": "execute_result"
    }
   ],
   "source": [
    "movies_df.head()"
   ]
  },
  {
   "cell_type": "code",
   "execution_count": 269,
   "metadata": {},
   "outputs": [
    {
     "data": {
      "image/png": "[encoded data removed]",
      "text/plain": [
       "<matplotlib.figure.Figure at 0x2ddfa0ef3c8>"
      ]
     },
     "metadata": {},
     "output_type": "display_data"
    }
   ],
   "source": [
    "movies_df['director_credits'].hist(figsize=(10,8), bins=50);"
   ]
  },
  {
   "cell_type": "code",
   "execution_count": 270,
   "metadata": {},
   "outputs": [
    {
     "data": {
      "image/png": "[encoded data removed]",
      "text/plain": [
       "<matplotlib.figure.Figure at 0x2ddf95530f0>"
      ]
     },
     "metadata": {},
     "output_type": "display_data"
    }
   ],
   "source": [
    "movies_df.boxplot(column='director_credits', figsize=(10,8));"
   ]
  },
  {
   "cell_type": "code",
   "execution_count": 271,
   "metadata": {
    "collapsed": true
   },
   "outputs": [],
   "source": [
    "movies_df = movies_df[movies_df['director_credits'] < movies_df['director_credits'].max()].copy()"
   ]
  },
  {
   "cell_type": "code",
   "execution_count": 272,
   "metadata": {},
   "outputs": [
    {
     "data": {
      "image/png": "[encoded data removed]",
      "text/plain": [
       "<matplotlib.figure.Figure at 0x2ddf9ba2fd0>"
      ]
     },
     "metadata": {},
     "output_type": "display_data"
    }
   ],
   "source": [
    "movies_df['log_director_credits'] = movies_df['director_credits'].apply(np.log)\n",
    "movies_df2 = movies_df[movies_df.director_credits != 0]\n",
    "movies_df2['log_director_credits'].hist(figsize=(10,8), bins=50);"
   ]
  },
  {
   "cell_type": "code",
   "execution_count": 273,
   "metadata": {
    "scrolled": false
   },
   "outputs": [
    {
     "data": {
      "image/png": "[encoded data removed]",
      "text/plain": [
       "<matplotlib.figure.Figure at 0x2ddfa0bdf60>"
      ]
     },
     "metadata": {},
     "output_type": "display_data"
    }
   ],
   "source": [
    "movies_df.boxplot(column='log_director_credits', figsize=(10,8));"
   ]
  },
  {
   "cell_type": "code",
   "execution_count": 274,
   "metadata": {},
   "outputs": [
    {
     "data": {
      "image/png": "[encoded data removed]",
      "text/plain": [
       "<matplotlib.figure.Figure at 0x2ddfa762e48>"
      ]
     },
     "metadata": {},
     "output_type": "display_data"
    }
   ],
   "source": [
    "plt.figure(figsize=(10,8))\n",
    "plt.ylabel('Director credits', fontsize=14)\n",
    "plt.xlabel('Domestic Total Gross (\\$\\$)', fontsize=14)\n",
    "plt.title(\"Domestic Total Gross vs Director Credits Counts\")\n",
    "plt.plot(movies_df2['DomesticTotalGross'],movies_df2['director_credits'], 'bo');"
   ]
  },
  {
   "cell_type": "code",
   "execution_count": 275,
   "metadata": {},
   "outputs": [
    {
     "data": {
      "image/png": "[encoded data removed]",
      "text/plain": [
       "<matplotlib.figure.Figure at 0x2ddfb22f8d0>"
      ]
     },
     "metadata": {},
     "output_type": "display_data"
    }
   ],
   "source": [
    "plt.figure(figsize=(10,8))\n",
    "plt.ylabel('Log(Director credits)', fontsize=14)\n",
    "plt.xlabel('Log(Domestic Total Gross)', fontsize=14)\n",
    "plt.title(\"Log(Domestic Total Gross) vs Log(Director Credits Counts)\")\n",
    "plt.plot(movies_df2['log_DomesticTotalGross'],movies_df2['log_director_credits'], 'bo');"
   ]
  },
  {
   "cell_type": "code",
   "execution_count": 291,
   "metadata": {},
   "outputs": [
    {
     "data": {
      "image/png": "[encoded data removed]",
      "text/plain": [
       "<matplotlib.figure.Figure at 0x2ddf9532748>"
      ]
     },
     "metadata": {},
     "output_type": "display_data"
    }
   ],
   "source": [
    "plt.figure(figsize=(10,8))\n",
    "plt.ylabel('ReleaseDate', fontsize=14)\n",
    "plt.xlabel('Log(Domestic Total Gross)', fontsize=14)\n",
    "plt.title(\"Log(Domestic Total Gross) vs ReleaseDate\")\n",
    "plt.plot(movies_df2['DomesticTotalGross'],movies_df2['ReleaseDate'], 'bo');"
   ]
  },
  {
   "cell_type": "code",
   "execution_count": 294,
   "metadata": {
    "collapsed": true
   },
   "outputs": [],
   "source": [
    "movies_df2 = movies_df2.copy()"
   ]
  },
  {
   "cell_type": "code",
   "execution_count": 295,
   "metadata": {},
   "outputs": [],
   "source": [
    "movies_df2['ReleaseDayOfWeek'] = movies_df2['ReleaseDate'].dt.dayofweek"
   ]
  },
  {
   "cell_type": "code",
   "execution_count": 297,
   "metadata": {},
   "outputs": [
    {
     "data": {
      "text/plain": [
       "4    66\n",
       "2    12\n",
       "3     5\n",
       "Name: ReleaseDayOfWeek, dtype: int64"
      ]
     },
     "execution_count": 297,
     "metadata": {},
     "output_type": "execute_result"
    }
   ],
   "source": [
    "movies_df2['ReleaseDayOfWeek'].value_counts()"
   ]
  },
  {
   "cell_type": "code",
   "execution_count": 300,
   "metadata": {},
   "outputs": [],
   "source": [
    "movies_df2['FridayReleaseDay'] = (movies_df2['ReleaseDayOfWeek'] == movies_df2['ReleaseDayOfWeek'].max()).astype(int)"
   ]
  },
  {
   "cell_type": "code",
   "execution_count": 306,
   "metadata": {},
   "outputs": [
    {
     "name": "stderr",
     "output_type": "stream",
     "text": [
      "C:\\Users\\Arina\\Anaconda3\\lib\\site-packages\\numpy\\core\\fromnumeric.py:57: FutureWarning: reshape is deprecated and will raise in a subsequent release. Please use .values.reshape(...) instead\n",
      "  return getattr(obj, method)(*args, **kwds)\n"
     ]
    },
    {
     "data": {
      "image/png": "[encoded data removed]",
      "text/plain": [
       "<matplotlib.figure.Figure at 0x2ddfaeb8dd8>"
      ]
     },
     "metadata": {},
     "output_type": "display_data"
    }
   ],
   "source": [
    "movies_df2.boxplot(column='DomesticTotalGross', by = 'FridayReleaseDay', figsize=(10,8));"
   ]
  },
  {
   "cell_type": "markdown",
   "metadata": {},
   "source": [
    "Model using budget, R rating, runtime, Friday release day dummy variable, and log(director credits)."
   ]
  },
  {
   "cell_type": "code",
   "execution_count": 348,
   "metadata": {},
   "outputs": [
    {
     "data": {
      "text/html": [
       "<table class=\"simpletable\">\n",
       "<caption>OLS Regression Results</caption>\n",
       "<tr>\n",
       "  <th>Dep. Variable:</th>    <td>DomesticTotalGross</td> <th>  R-squared:         </th> <td>   0.287</td>\n",
       "</tr>\n",
       "<tr>\n",
       "  <th>Model:</th>                    <td>OLS</td>        <th>  Adj. R-squared:    </th> <td>   0.240</td>\n",
       "</tr>\n",
       "<tr>\n",
       "  <th>Method:</th>              <td>Least Squares</td>   <th>  F-statistic:       </th> <td>   6.191</td>\n",
       "</tr>\n",
       "<tr>\n",
       "  <th>Date:</th>              <td>Sun, 04 Feb 2018</td>  <th>  Prob (F-statistic):</th> <td>7.11e-05</td>\n",
       "</tr>\n",
       "<tr>\n",
       "  <th>Time:</th>                  <td>00:29:54</td>      <th>  Log-Likelihood:    </th> <td> -1622.7</td>\n",
       "</tr>\n",
       "<tr>\n",
       "  <th>No. Observations:</th>       <td>    83</td>       <th>  AIC:               </th> <td>   3257.</td>\n",
       "</tr>\n",
       "<tr>\n",
       "  <th>Df Residuals:</th>           <td>    77</td>       <th>  BIC:               </th> <td>   3272.</td>\n",
       "</tr>\n",
       "<tr>\n",
       "  <th>Df Model:</th>               <td>     5</td>       <th>                     </th>     <td> </td>   \n",
       "</tr>\n",
       "<tr>\n",
       "  <th>Covariance Type:</th>       <td>nonrobust</td>     <th>                     </th>     <td> </td>   \n",
       "</tr>\n",
       "</table>\n",
       "<table class=\"simpletable\">\n",
       "<tr>\n",
       "            <td></td>              <th>coef</th>     <th>std err</th>      <th>t</th>      <th>P>|t|</th>  <th>[0.025</th>    <th>0.975]</th>  \n",
       "</tr>\n",
       "<tr>\n",
       "  <th>Intercept</th>            <td>-1.915e+07</td> <td> 6.24e+07</td> <td>   -0.307</td> <td> 0.760</td> <td>-1.43e+08</td> <td> 1.05e+08</td>\n",
       "</tr>\n",
       "<tr>\n",
       "  <th>Budget</th>               <td>    0.7245</td> <td>    0.179</td> <td>    4.038</td> <td> 0.000</td> <td>    0.367</td> <td>    1.082</td>\n",
       "</tr>\n",
       "<tr>\n",
       "  <th>rating_R</th>             <td>-3.072e+06</td> <td> 2.05e+07</td> <td>   -0.150</td> <td> 0.881</td> <td>-4.39e+07</td> <td> 3.78e+07</td>\n",
       "</tr>\n",
       "<tr>\n",
       "  <th>Runtime</th>              <td>   5.4e+05</td> <td> 6.03e+05</td> <td>    0.896</td> <td> 0.373</td> <td> -6.6e+05</td> <td> 1.74e+06</td>\n",
       "</tr>\n",
       "<tr>\n",
       "  <th>FridayReleaseDay</th>     <td> 1.542e+07</td> <td> 2.16e+07</td> <td>    0.715</td> <td> 0.477</td> <td>-2.75e+07</td> <td> 5.84e+07</td>\n",
       "</tr>\n",
       "<tr>\n",
       "  <th>log_director_credits</th> <td>-1.422e+06</td> <td> 9.94e+06</td> <td>   -0.143</td> <td> 0.887</td> <td>-2.12e+07</td> <td> 1.84e+07</td>\n",
       "</tr>\n",
       "</table>\n",
       "<table class=\"simpletable\">\n",
       "<tr>\n",
       "  <th>Omnibus:</th>       <td>37.349</td> <th>  Durbin-Watson:     </th> <td>   0.691</td>\n",
       "</tr>\n",
       "<tr>\n",
       "  <th>Prob(Omnibus):</th> <td> 0.000</td> <th>  Jarque-Bera (JB):  </th> <td>  87.800</td>\n",
       "</tr>\n",
       "<tr>\n",
       "  <th>Skew:</th>          <td> 1.591</td> <th>  Prob(JB):          </th> <td>8.60e-20</td>\n",
       "</tr>\n",
       "<tr>\n",
       "  <th>Kurtosis:</th>      <td> 6.907</td> <th>  Cond. No.          </th> <td>7.16e+08</td>\n",
       "</tr>\n",
       "</table>"
      ],
      "text/plain": [
       "<class 'statsmodels.iolib.summary.Summary'>\n",
       "\"\"\"\n",
       "                            OLS Regression Results                            \n",
       "==============================================================================\n",
       "Dep. Variable:     DomesticTotalGross   R-squared:                       0.287\n",
       "Model:                            OLS   Adj. R-squared:                  0.240\n",
       "Method:                 Least Squares   F-statistic:                     6.191\n",
       "Date:                Sun, 04 Feb 2018   Prob (F-statistic):           7.11e-05\n",
       "Time:                        00:29:54   Log-Likelihood:                -1622.7\n",
       "No. Observations:                  83   AIC:                             3257.\n",
       "Df Residuals:                      77   BIC:                             3272.\n",
       "Df Model:                           5                                         \n",
       "Covariance Type:            nonrobust                                         \n",
       "========================================================================================\n",
       "                           coef    std err          t      P>|t|      [0.025      0.975]\n",
       "----------------------------------------------------------------------------------------\n",
       "Intercept            -1.915e+07   6.24e+07     -0.307      0.760   -1.43e+08    1.05e+08\n",
       "Budget                   0.7245      0.179      4.038      0.000       0.367       1.082\n",
       "rating_R             -3.072e+06   2.05e+07     -0.150      0.881   -4.39e+07    3.78e+07\n",
       "Runtime                 5.4e+05   6.03e+05      0.896      0.373    -6.6e+05    1.74e+06\n",
       "FridayReleaseDay      1.542e+07   2.16e+07      0.715      0.477   -2.75e+07    5.84e+07\n",
       "log_director_credits -1.422e+06   9.94e+06     -0.143      0.887   -2.12e+07    1.84e+07\n",
       "==============================================================================\n",
       "Omnibus:                       37.349   Durbin-Watson:                   0.691\n",
       "Prob(Omnibus):                  0.000   Jarque-Bera (JB):               87.800\n",
       "Skew:                           1.591   Prob(JB):                     8.60e-20\n",
       "Kurtosis:                       6.907   Cond. No.                     7.16e+08\n",
       "==============================================================================\n",
       "\n",
       "Warnings:\n",
       "[1] Standard Errors assume that the covariance matrix of the errors is correctly specified.\n",
       "[2] The condition number is large, 7.16e+08. This might indicate that there are\n",
       "strong multicollinearity or other numerical problems.\n",
       "\"\"\""
      ]
     },
     "execution_count": 348,
     "metadata": {},
     "output_type": "execute_result"
    }
   ],
   "source": [
    "# Create feature matrix X and target vector y\n",
    "y4, X4 = patsy.dmatrices('DomesticTotalGross ~ Budget + rating_R + Runtime + FridayReleaseDay + log_director_credits', data=movies_df2, return_type=\"dataframe\")\n",
    "\n",
    "# Create OLS model\n",
    "model4 = sm.OLS(y4, X4)\n",
    "# Fit the model to the training set\n",
    "fit4 = model4.fit()\n",
    "# Print summary statistics of the model's performance\n",
    "fit4.summary()"
   ]
  },
  {
   "cell_type": "markdown",
   "metadata": {},
   "source": [
    "Budget and Runtime features have the highest p-values in the model."
   ]
  },
  {
   "cell_type": "code",
   "execution_count": 425,
   "metadata": {},
   "outputs": [
    {
     "data": {
      "text/html": [
       "<table class=\"simpletable\">\n",
       "<caption>OLS Regression Results</caption>\n",
       "<tr>\n",
       "  <th>Dep. Variable:</th>    <td>log_DomesticTotalGross</td> <th>  R-squared:         </th> <td>   0.296</td>\n",
       "</tr>\n",
       "<tr>\n",
       "  <th>Model:</th>                      <td>OLS</td>          <th>  Adj. R-squared:    </th> <td>   0.278</td>\n",
       "</tr>\n",
       "<tr>\n",
       "  <th>Method:</th>                <td>Least Squares</td>     <th>  F-statistic:       </th> <td>   16.81</td>\n",
       "</tr>\n",
       "<tr>\n",
       "  <th>Date:</th>                <td>Sun, 04 Feb 2018</td>    <th>  Prob (F-statistic):</th> <td>8.02e-07</td>\n",
       "</tr>\n",
       "<tr>\n",
       "  <th>Time:</th>                    <td>01:17:52</td>        <th>  Log-Likelihood:    </th> <td> -74.215</td>\n",
       "</tr>\n",
       "<tr>\n",
       "  <th>No. Observations:</th>         <td>    83</td>         <th>  AIC:               </th> <td>   154.4</td>\n",
       "</tr>\n",
       "<tr>\n",
       "  <th>Df Residuals:</th>             <td>    80</td>         <th>  BIC:               </th> <td>   161.7</td>\n",
       "</tr>\n",
       "<tr>\n",
       "  <th>Df Model:</th>                 <td>     2</td>         <th>                     </th>     <td> </td>   \n",
       "</tr>\n",
       "<tr>\n",
       "  <th>Covariance Type:</th>         <td>nonrobust</td>       <th>                     </th>     <td> </td>   \n",
       "</tr>\n",
       "</table>\n",
       "<table class=\"simpletable\">\n",
       "<tr>\n",
       "      <td></td>         <th>coef</th>     <th>std err</th>      <th>t</th>      <th>P>|t|</th>  <th>[0.025</th>    <th>0.975]</th>  \n",
       "</tr>\n",
       "<tr>\n",
       "  <th>Intercept</th> <td>   17.1938</td> <td>    0.466</td> <td>   36.929</td> <td> 0.000</td> <td>   16.267</td> <td>   18.120</td>\n",
       "</tr>\n",
       "<tr>\n",
       "  <th>Budget</th>    <td> 5.751e-09</td> <td>  1.2e-09</td> <td>    4.807</td> <td> 0.000</td> <td> 3.37e-09</td> <td> 8.13e-09</td>\n",
       "</tr>\n",
       "<tr>\n",
       "  <th>Runtime</th>   <td>    0.0051</td> <td>    0.004</td> <td>    1.162</td> <td> 0.249</td> <td>   -0.004</td> <td>    0.014</td>\n",
       "</tr>\n",
       "</table>\n",
       "<table class=\"simpletable\">\n",
       "<tr>\n",
       "  <th>Omnibus:</th>       <td> 0.509</td> <th>  Durbin-Watson:     </th> <td>   0.707</td>\n",
       "</tr>\n",
       "<tr>\n",
       "  <th>Prob(Omnibus):</th> <td> 0.775</td> <th>  Jarque-Bera (JB):  </th> <td>   0.650</td>\n",
       "</tr>\n",
       "<tr>\n",
       "  <th>Skew:</th>          <td> 0.155</td> <th>  Prob(JB):          </th> <td>   0.722</td>\n",
       "</tr>\n",
       "<tr>\n",
       "  <th>Kurtosis:</th>      <td> 2.696</td> <th>  Cond. No.          </th> <td>6.87e+08</td>\n",
       "</tr>\n",
       "</table>"
      ],
      "text/plain": [
       "<class 'statsmodels.iolib.summary.Summary'>\n",
       "\"\"\"\n",
       "                              OLS Regression Results                              \n",
       "==================================================================================\n",
       "Dep. Variable:     log_DomesticTotalGross   R-squared:                       0.296\n",
       "Model:                                OLS   Adj. R-squared:                  0.278\n",
       "Method:                     Least Squares   F-statistic:                     16.81\n",
       "Date:                    Sun, 04 Feb 2018   Prob (F-statistic):           8.02e-07\n",
       "Time:                            01:17:52   Log-Likelihood:                -74.215\n",
       "No. Observations:                      83   AIC:                             154.4\n",
       "Df Residuals:                          80   BIC:                             161.7\n",
       "Df Model:                               2                                         \n",
       "Covariance Type:                nonrobust                                         \n",
       "==============================================================================\n",
       "                 coef    std err          t      P>|t|      [0.025      0.975]\n",
       "------------------------------------------------------------------------------\n",
       "Intercept     17.1938      0.466     36.929      0.000      16.267      18.120\n",
       "Budget      5.751e-09    1.2e-09      4.807      0.000    3.37e-09    8.13e-09\n",
       "Runtime        0.0051      0.004      1.162      0.249      -0.004       0.014\n",
       "==============================================================================\n",
       "Omnibus:                        0.509   Durbin-Watson:                   0.707\n",
       "Prob(Omnibus):                  0.775   Jarque-Bera (JB):                0.650\n",
       "Skew:                           0.155   Prob(JB):                        0.722\n",
       "Kurtosis:                       2.696   Cond. No.                     6.87e+08\n",
       "==============================================================================\n",
       "\n",
       "Warnings:\n",
       "[1] Standard Errors assume that the covariance matrix of the errors is correctly specified.\n",
       "[2] The condition number is large, 6.87e+08. This might indicate that there are\n",
       "strong multicollinearity or other numerical problems.\n",
       "\"\"\""
      ]
     },
     "execution_count": 425,
     "metadata": {},
     "output_type": "execute_result"
    }
   ],
   "source": [
    "# Create feature matrix X and target vector y\n",
    "y4, X4 = patsy.dmatrices('log_DomesticTotalGross ~ Budget + Runtime', data=movies_df2, return_type=\"dataframe\")\n",
    "\n",
    "# Create OLS model\n",
    "model4 = sm.OLS(y4, X4)\n",
    "# Fit the model to the training set\n",
    "fit4 = model4.fit()\n",
    "# Print summary statistics of the model's performance\n",
    "fit4.summary()"
   ]
  },
  {
   "cell_type": "markdown",
   "metadata": {},
   "source": [
    "Adding interaction terms."
   ]
  },
  {
   "cell_type": "code",
   "execution_count": 446,
   "metadata": {
    "scrolled": false
   },
   "outputs": [
    {
     "data": {
      "text/html": [
       "<table class=\"simpletable\">\n",
       "<caption>OLS Regression Results</caption>\n",
       "<tr>\n",
       "  <th>Dep. Variable:</th>    <td>log_DomesticTotalGross</td> <th>  R-squared:         </th> <td>   0.387</td>\n",
       "</tr>\n",
       "<tr>\n",
       "  <th>Model:</th>                      <td>OLS</td>          <th>  Adj. R-squared:    </th> <td>   0.321</td>\n",
       "</tr>\n",
       "<tr>\n",
       "  <th>Method:</th>                <td>Least Squares</td>     <th>  F-statistic:       </th> <td>   5.849</td>\n",
       "</tr>\n",
       "<tr>\n",
       "  <th>Date:</th>                <td>Sun, 04 Feb 2018</td>    <th>  Prob (F-statistic):</th> <td>8.73e-06</td>\n",
       "</tr>\n",
       "<tr>\n",
       "  <th>Time:</th>                    <td>01:19:19</td>        <th>  Log-Likelihood:    </th> <td> -68.443</td>\n",
       "</tr>\n",
       "<tr>\n",
       "  <th>No. Observations:</th>         <td>    83</td>         <th>  AIC:               </th> <td>   154.9</td>\n",
       "</tr>\n",
       "<tr>\n",
       "  <th>Df Residuals:</th>             <td>    74</td>         <th>  BIC:               </th> <td>   176.7</td>\n",
       "</tr>\n",
       "<tr>\n",
       "  <th>Df Model:</th>                 <td>     8</td>         <th>                     </th>     <td> </td>   \n",
       "</tr>\n",
       "<tr>\n",
       "  <th>Covariance Type:</th>         <td>nonrobust</td>       <th>                     </th>     <td> </td>   \n",
       "</tr>\n",
       "</table>\n",
       "<table class=\"simpletable\">\n",
       "<tr>\n",
       "                  <td></td>                     <th>coef</th>     <th>std err</th>      <th>t</th>      <th>P>|t|</th>  <th>[0.025</th>    <th>0.975]</th>  \n",
       "</tr>\n",
       "<tr>\n",
       "  <th>Intercept</th>                         <td>   20.1205</td> <td>    1.356</td> <td>   14.840</td> <td> 0.000</td> <td>   17.419</td> <td>   22.822</td>\n",
       "</tr>\n",
       "<tr>\n",
       "  <th>Budget</th>                            <td> 5.843e-09</td> <td>  1.4e-09</td> <td>    4.172</td> <td> 0.000</td> <td> 3.05e-09</td> <td> 8.63e-09</td>\n",
       "</tr>\n",
       "<tr>\n",
       "  <th>Runtime</th>                           <td>   -0.0221</td> <td>    0.012</td> <td>   -1.844</td> <td> 0.069</td> <td>   -0.046</td> <td>    0.002</td>\n",
       "</tr>\n",
       "<tr>\n",
       "  <th>FridayReleaseDay</th>                  <td>   -3.5597</td> <td>    1.474</td> <td>   -2.416</td> <td> 0.018</td> <td>   -6.496</td> <td>   -0.624</td>\n",
       "</tr>\n",
       "<tr>\n",
       "  <th>Runtime:FridayReleaseDay</th>          <td>    0.0332</td> <td>    0.013</td> <td>    2.584</td> <td> 0.012</td> <td>    0.008</td> <td>    0.059</td>\n",
       "</tr>\n",
       "<tr>\n",
       "  <th>rating_R</th>                          <td>   -5.9910</td> <td>    3.658</td> <td>   -1.638</td> <td> 0.106</td> <td>  -13.280</td> <td>    1.298</td>\n",
       "</tr>\n",
       "<tr>\n",
       "  <th>Runtime:rating_R</th>                  <td>    0.0594</td> <td>    0.034</td> <td>    1.755</td> <td> 0.083</td> <td>   -0.008</td> <td>    0.127</td>\n",
       "</tr>\n",
       "<tr>\n",
       "  <th>FridayReleaseDay:rating_R</th>         <td>    6.7502</td> <td>    3.769</td> <td>    1.791</td> <td> 0.077</td> <td>   -0.760</td> <td>   14.260</td>\n",
       "</tr>\n",
       "<tr>\n",
       "  <th>Runtime:FridayReleaseDay:rating_R</th> <td>   -0.0669</td> <td>    0.035</td> <td>   -1.932</td> <td> 0.057</td> <td>   -0.136</td> <td>    0.002</td>\n",
       "</tr>\n",
       "</table>\n",
       "<table class=\"simpletable\">\n",
       "<tr>\n",
       "  <th>Omnibus:</th>       <td> 1.582</td> <th>  Durbin-Watson:     </th> <td>   1.031</td>\n",
       "</tr>\n",
       "<tr>\n",
       "  <th>Prob(Omnibus):</th> <td> 0.453</td> <th>  Jarque-Bera (JB):  </th> <td>   1.568</td>\n",
       "</tr>\n",
       "<tr>\n",
       "  <th>Skew:</th>          <td> 0.252</td> <th>  Prob(JB):          </th> <td>   0.457</td>\n",
       "</tr>\n",
       "<tr>\n",
       "  <th>Kurtosis:</th>      <td> 2.554</td> <th>  Cond. No.          </th> <td>8.01e+09</td>\n",
       "</tr>\n",
       "</table>"
      ],
      "text/plain": [
       "<class 'statsmodels.iolib.summary.Summary'>\n",
       "\"\"\"\n",
       "                              OLS Regression Results                              \n",
       "==================================================================================\n",
       "Dep. Variable:     log_DomesticTotalGross   R-squared:                       0.387\n",
       "Model:                                OLS   Adj. R-squared:                  0.321\n",
       "Method:                     Least Squares   F-statistic:                     5.849\n",
       "Date:                    Sun, 04 Feb 2018   Prob (F-statistic):           8.73e-06\n",
       "Time:                            01:19:19   Log-Likelihood:                -68.443\n",
       "No. Observations:                      83   AIC:                             154.9\n",
       "Df Residuals:                          74   BIC:                             176.7\n",
       "Df Model:                               8                                         \n",
       "Covariance Type:                nonrobust                                         \n",
       "=====================================================================================================\n",
       "                                        coef    std err          t      P>|t|      [0.025      0.975]\n",
       "-----------------------------------------------------------------------------------------------------\n",
       "Intercept                            20.1205      1.356     14.840      0.000      17.419      22.822\n",
       "Budget                             5.843e-09    1.4e-09      4.172      0.000    3.05e-09    8.63e-09\n",
       "Runtime                              -0.0221      0.012     -1.844      0.069      -0.046       0.002\n",
       "FridayReleaseDay                     -3.5597      1.474     -2.416      0.018      -6.496      -0.624\n",
       "Runtime:FridayReleaseDay              0.0332      0.013      2.584      0.012       0.008       0.059\n",
       "rating_R                             -5.9910      3.658     -1.638      0.106     -13.280       1.298\n",
       "Runtime:rating_R                      0.0594      0.034      1.755      0.083      -0.008       0.127\n",
       "FridayReleaseDay:rating_R             6.7502      3.769      1.791      0.077      -0.760      14.260\n",
       "Runtime:FridayReleaseDay:rating_R    -0.0669      0.035     -1.932      0.057      -0.136       0.002\n",
       "==============================================================================\n",
       "Omnibus:                        1.582   Durbin-Watson:                   1.031\n",
       "Prob(Omnibus):                  0.453   Jarque-Bera (JB):                1.568\n",
       "Skew:                           0.252   Prob(JB):                        0.457\n",
       "Kurtosis:                       2.554   Cond. No.                     8.01e+09\n",
       "==============================================================================\n",
       "\n",
       "Warnings:\n",
       "[1] Standard Errors assume that the covariance matrix of the errors is correctly specified.\n",
       "[2] The condition number is large, 8.01e+09. This might indicate that there are\n",
       "strong multicollinearity or other numerical problems.\n",
       "\"\"\""
      ]
     },
     "execution_count": 446,
     "metadata": {},
     "output_type": "execute_result"
    }
   ],
   "source": [
    "# Create feature matrix X and target vector y\n",
    "y4, X4 = patsy.dmatrices('log_DomesticTotalGross ~ Budget + Runtime*FridayReleaseDay*rating_R ', data=movies_df2, return_type=\"dataframe\")\n",
    "\n",
    "# Create OLS model\n",
    "model4 = sm.OLS(y4, X4)\n",
    "# Fit the model to the training set\n",
    "fit4 = model4.fit()\n",
    "# Print summary statistics of the model's performance\n",
    "fit4.summary()"
   ]
  },
  {
   "cell_type": "code",
   "execution_count": 447,
   "metadata": {},
   "outputs": [
    {
     "data": {
      "image/png": "[encoded data removed]",
      "text/plain": [
       "<matplotlib.figure.Figure at 0x2ddfb12f470>"
      ]
     },
     "metadata": {},
     "output_type": "display_data"
    }
   ],
   "source": [
    "plt.figure(figsize=(10,8))\n",
    "plt.ylabel('Predicted (\\$\\$)', fontsize=14)\n",
    "plt.xlabel('Actual (\\$\\$)', fontsize=14)\n",
    "plt.title(\"Domestic Total Gross: Predicted vs Actual Values\")\n",
    "\n",
    "plt.plot(y4,fit4.fittedvalues, 'ro');"
   ]
  },
  {
   "cell_type": "code",
   "execution_count": 448,
   "metadata": {},
   "outputs": [
    {
     "data": {
      "image/png": "[encoded data removed]",
      "text/plain": [
       "<matplotlib.figure.Figure at 0x2ddf94b7240>"
      ]
     },
     "metadata": {},
     "output_type": "display_data"
    }
   ],
   "source": [
    "# Histogram of residuals\n",
    "fit4.resid.hist(figsize=(10,8), bins=50);"
   ]
  },
  {
   "cell_type": "markdown",
   "metadata": {},
   "source": [
    "Adding interaction terms has improved the model. The adjusted R-squared is a bit higher, though it's not very high overall. The p-values of individual features are significant at about 10% level, and the overall model is statistically significant. "
   ]
  },
  {
   "cell_type": "markdown",
   "metadata": {},
   "source": [
    "### Challenge 5\n",
    "\n",
    "Fitting and checking predictions on the exact same data set can be misleading. Divide your data into two sets: a training and a test set (roughly 75% training, 25% test is a fine split). Fit a model on the training set, check the predictions (by plotting versus actual values) in the test set."
   ]
  },
  {
   "cell_type": "code",
   "execution_count": 449,
   "metadata": {},
   "outputs": [
    {
     "data": {
      "text/html": [
       "<div>\n",
       "<style>\n",
       "    .dataframe thead tr:only-child th {\n",
       "        text-align: right;\n",
       "    }\n",
       "\n",
       "    .dataframe thead th {\n",
       "        text-align: left;\n",
       "    }\n",
       "\n",
       "    .dataframe tbody tr th {\n",
       "        vertical-align: top;\n",
       "    }\n",
       "</style>\n",
       "<table border=\"1\" class=\"dataframe\">\n",
       "  <thead>\n",
       "    <tr style=\"text-align: right;\">\n",
       "      <th></th>\n",
       "      <th>log_DomesticTotalGross</th>\n",
       "    </tr>\n",
       "  </thead>\n",
       "  <tbody>\n",
       "    <tr>\n",
       "      <th>0</th>\n",
       "      <td>19.866818</td>\n",
       "    </tr>\n",
       "    <tr>\n",
       "      <th>1</th>\n",
       "      <td>19.829260</td>\n",
       "    </tr>\n",
       "    <tr>\n",
       "      <th>2</th>\n",
       "      <td>19.808818</td>\n",
       "    </tr>\n",
       "    <tr>\n",
       "      <th>3</th>\n",
       "      <td>19.723760</td>\n",
       "    </tr>\n",
       "    <tr>\n",
       "      <th>4</th>\n",
       "      <td>19.488990</td>\n",
       "    </tr>\n",
       "  </tbody>\n",
       "</table>\n",
       "</div>"
      ],
      "text/plain": [
       "   log_DomesticTotalGross\n",
       "0               19.866818\n",
       "1               19.829260\n",
       "2               19.808818\n",
       "3               19.723760\n",
       "4               19.488990"
      ]
     },
     "execution_count": 449,
     "metadata": {},
     "output_type": "execute_result"
    }
   ],
   "source": [
    "y4.head()"
   ]
  },
  {
   "cell_type": "code",
   "execution_count": 450,
   "metadata": {},
   "outputs": [
    {
     "data": {
      "text/html": [
       "<div>\n",
       "<style>\n",
       "    .dataframe thead tr:only-child th {\n",
       "        text-align: right;\n",
       "    }\n",
       "\n",
       "    .dataframe thead th {\n",
       "        text-align: left;\n",
       "    }\n",
       "\n",
       "    .dataframe tbody tr th {\n",
       "        vertical-align: top;\n",
       "    }\n",
       "</style>\n",
       "<table border=\"1\" class=\"dataframe\">\n",
       "  <thead>\n",
       "    <tr style=\"text-align: right;\">\n",
       "      <th></th>\n",
       "      <th>Intercept</th>\n",
       "      <th>Budget</th>\n",
       "      <th>Runtime</th>\n",
       "      <th>FridayReleaseDay</th>\n",
       "      <th>Runtime:FridayReleaseDay</th>\n",
       "      <th>rating_R</th>\n",
       "      <th>Runtime:rating_R</th>\n",
       "      <th>FridayReleaseDay:rating_R</th>\n",
       "      <th>Runtime:FridayReleaseDay:rating_R</th>\n",
       "    </tr>\n",
       "  </thead>\n",
       "  <tbody>\n",
       "    <tr>\n",
       "      <th>0</th>\n",
       "      <td>1.0</td>\n",
       "      <td>130000000.0</td>\n",
       "      <td>146.0</td>\n",
       "      <td>1.0</td>\n",
       "      <td>146.0</td>\n",
       "      <td>0.0</td>\n",
       "      <td>0.0</td>\n",
       "      <td>0.0</td>\n",
       "      <td>0.0</td>\n",
       "    </tr>\n",
       "    <tr>\n",
       "      <th>1</th>\n",
       "      <td>1.0</td>\n",
       "      <td>200000000.0</td>\n",
       "      <td>129.0</td>\n",
       "      <td>1.0</td>\n",
       "      <td>129.0</td>\n",
       "      <td>0.0</td>\n",
       "      <td>0.0</td>\n",
       "      <td>0.0</td>\n",
       "      <td>0.0</td>\n",
       "    </tr>\n",
       "    <tr>\n",
       "      <th>2</th>\n",
       "      <td>1.0</td>\n",
       "      <td>150000000.0</td>\n",
       "      <td>108.0</td>\n",
       "      <td>1.0</td>\n",
       "      <td>108.0</td>\n",
       "      <td>0.0</td>\n",
       "      <td>0.0</td>\n",
       "      <td>0.0</td>\n",
       "      <td>0.0</td>\n",
       "    </tr>\n",
       "    <tr>\n",
       "      <th>3</th>\n",
       "      <td>1.0</td>\n",
       "      <td>76000000.0</td>\n",
       "      <td>98.0</td>\n",
       "      <td>0.0</td>\n",
       "      <td>0.0</td>\n",
       "      <td>0.0</td>\n",
       "      <td>0.0</td>\n",
       "      <td>0.0</td>\n",
       "      <td>0.0</td>\n",
       "    </tr>\n",
       "    <tr>\n",
       "      <th>4</th>\n",
       "      <td>1.0</td>\n",
       "      <td>225000000.0</td>\n",
       "      <td>143.0</td>\n",
       "      <td>1.0</td>\n",
       "      <td>143.0</td>\n",
       "      <td>0.0</td>\n",
       "      <td>0.0</td>\n",
       "      <td>0.0</td>\n",
       "      <td>0.0</td>\n",
       "    </tr>\n",
       "  </tbody>\n",
       "</table>\n",
       "</div>"
      ],
      "text/plain": [
       "   Intercept       Budget  Runtime  FridayReleaseDay  \\\n",
       "0        1.0  130000000.0    146.0               1.0   \n",
       "1        1.0  200000000.0    129.0               1.0   \n",
       "2        1.0  150000000.0    108.0               1.0   \n",
       "3        1.0   76000000.0     98.0               0.0   \n",
       "4        1.0  225000000.0    143.0               1.0   \n",
       "\n",
       "   Runtime:FridayReleaseDay  rating_R  Runtime:rating_R  \\\n",
       "0                     146.0       0.0               0.0   \n",
       "1                     129.0       0.0               0.0   \n",
       "2                     108.0       0.0               0.0   \n",
       "3                       0.0       0.0               0.0   \n",
       "4                     143.0       0.0               0.0   \n",
       "\n",
       "   FridayReleaseDay:rating_R  Runtime:FridayReleaseDay:rating_R  \n",
       "0                        0.0                                0.0  \n",
       "1                        0.0                                0.0  \n",
       "2                        0.0                                0.0  \n",
       "3                        0.0                                0.0  \n",
       "4                        0.0                                0.0  "
      ]
     },
     "execution_count": 450,
     "metadata": {},
     "output_type": "execute_result"
    }
   ],
   "source": [
    "X4.head()"
   ]
  },
  {
   "cell_type": "code",
   "execution_count": 451,
   "metadata": {},
   "outputs": [
    {
     "data": {
      "text/plain": [
       "0.19734620264755343"
      ]
     },
     "execution_count": 451,
     "metadata": {},
     "output_type": "execute_result"
    }
   ],
   "source": [
    "# Create an empty model\n",
    "lr = LinearRegression()\n",
    "# Split the data into training and test sets\n",
    "X_train, X_test, y_train, y_test = train_test_split(X4.iloc[:, 1:], y4, test_size=0.25)\n",
    "# Fit the model against the training data\n",
    "lr.fit(X_train, y_train)\n",
    "# Evaluate the model against the testing data\n",
    "lr.score(X_test, y_test)"
   ]
  },
  {
   "cell_type": "code",
   "execution_count": 452,
   "metadata": {},
   "outputs": [],
   "source": [
    "predictions = lr.predict(X_test)"
   ]
  },
  {
   "cell_type": "code",
   "execution_count": 453,
   "metadata": {},
   "outputs": [
    {
     "data": {
      "image/png": "[encoded data removed]",
      "text/plain": [
       "<matplotlib.figure.Figure at 0x2ddf98d7668>"
      ]
     },
     "metadata": {},
     "output_type": "display_data"
    }
   ],
   "source": [
    "plt.figure(figsize=(10,8))\n",
    "plt.ylabel('Predicted (\\$\\$)', fontsize=14)\n",
    "plt.xlabel('Actual (\\$\\$)', fontsize=14)\n",
    "plt.title(\"Domestic Total Gross: Predicted vs Actual Values\")\n",
    "\n",
    "plt.plot(y_test, predictions, 'go');"
   ]
  },
  {
   "cell_type": "code",
   "execution_count": null,
   "metadata": {
    "collapsed": true
   },
   "outputs": [],
   "source": []
  },
  {
   "cell_type": "code",
   "execution_count": null,
   "metadata": {
    "collapsed": true
   },
   "outputs": [],
   "source": []
  }
 ],
 "metadata": {
  "kernelspec": {
   "display_name": "Python 3",
   "language": "python",
   "name": "python3"
  },
  "language_info": {
   "codemirror_mode": {
    "name": "ipython",
    "version": 3
   },
   "file_extension": ".py",
   "mimetype": "text/x-python",
   "name": "python",
   "nbconvert_exporter": "python",
   "pygments_lexer": "ipython3",
   "version": "3.6.3"
  }
 },
 "nbformat": 4,
 "nbformat_minor": 2
}
