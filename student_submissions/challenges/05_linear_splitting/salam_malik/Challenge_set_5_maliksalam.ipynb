{
 "cells": [
  {
   "cell_type": "markdown",
   "metadata": {},
   "source": [
    "## Challenge Set 5  \n",
    "Linear Splitting  \n",
    "Malik Salam  \n",
    "01/22 "
   ]
  },
  {
   "cell_type": "code",
   "execution_count": 68,
   "metadata": {},
   "outputs": [
    {
     "name": "stderr",
     "output_type": "stream",
     "text": [
      "/Users/maliksalam/anaconda3/lib/python3.6/site-packages/sklearn/cross_validation.py:41: DeprecationWarning: This module was deprecated in version 0.18 in favor of the model_selection module into which all the refactored classes and functions are moved. Also note that the interface of the new CV iterators are different from that of this module. This module will be removed in 0.20.\n",
      "  \"This module will be removed in 0.20.\", DeprecationWarning)\n"
     ]
    }
   ],
   "source": [
    "import pandas as pd\n",
    "import numpy as np\n",
    "import matplotlib.pyplot as plt\n",
    "from sklearn.linear_model import LinearRegression\n",
    "from sklearn.cross_validation import train_test_split\n",
    "import seaborn as sns\n",
    "import pickle\n",
    "import patsy\n",
    "sns.set()\n",
    "%matplotlib inline"
   ]
  },
  {
   "cell_type": "markdown",
   "metadata": {},
   "source": [
    "## Challenge 1"
   ]
  },
  {
   "cell_type": "code",
   "execution_count": 3,
   "metadata": {},
   "outputs": [
    {
     "data": {
      "text/html": [
       "<div>\n",
       "<style>\n",
       "    .dataframe thead tr:only-child th {\n",
       "        text-align: right;\n",
       "    }\n",
       "\n",
       "    .dataframe thead th {\n",
       "        text-align: left;\n",
       "    }\n",
       "\n",
       "    .dataframe tbody tr th {\n",
       "        vertical-align: top;\n",
       "    }\n",
       "</style>\n",
       "<table border=\"1\" class=\"dataframe\">\n",
       "  <thead>\n",
       "    <tr style=\"text-align: right;\">\n",
       "      <th></th>\n",
       "      <th>actors</th>\n",
       "      <th>directors</th>\n",
       "      <th>dom_gross</th>\n",
       "      <th>genre</th>\n",
       "      <th>mpaa_rating</th>\n",
       "      <th>opening_release</th>\n",
       "      <th>opening_we_gross</th>\n",
       "      <th>producers</th>\n",
       "      <th>release_date</th>\n",
       "      <th>runtime</th>\n",
       "      <th>...</th>\n",
       "      <th>actor_cum_dom_roi</th>\n",
       "      <th>director_cum_oscar_noms</th>\n",
       "      <th>director_cum_oscars</th>\n",
       "      <th>director_cum_dom_roi</th>\n",
       "      <th>producer_cum_oscar_noms</th>\n",
       "      <th>producer_cum_oscars</th>\n",
       "      <th>producer_cum_dom_roi</th>\n",
       "      <th>writer_cum_oscar_noms</th>\n",
       "      <th>writer_cum_oscars</th>\n",
       "      <th>writer_cum_dom_roi</th>\n",
       "    </tr>\n",
       "  </thead>\n",
       "  <tbody>\n",
       "    <tr>\n",
       "      <th>0</th>\n",
       "      <td>[Liam Neeson, Bradley Cooper, Sharlto Copley, ...</td>\n",
       "      <td>[Joe Carnahan]</td>\n",
       "      <td>77222099.0</td>\n",
       "      <td>Action</td>\n",
       "      <td>PG-13</td>\n",
       "      <td>3535.0</td>\n",
       "      <td>25669455.0</td>\n",
       "      <td>[Ridley Scott, Tony Scott, Alex Young]</td>\n",
       "      <td>2010-06-11</td>\n",
       "      <td>117.0</td>\n",
       "      <td>...</td>\n",
       "      <td>2.00038</td>\n",
       "      <td>0.0</td>\n",
       "      <td>0.0</td>\n",
       "      <td>0.887892</td>\n",
       "      <td>5.333333</td>\n",
       "      <td>1.666667</td>\n",
       "      <td>-0.052432</td>\n",
       "      <td>0.0</td>\n",
       "      <td>0.0</td>\n",
       "      <td>0.169079</td>\n",
       "    </tr>\n",
       "    <tr>\n",
       "      <th>1</th>\n",
       "      <td>NaN</td>\n",
       "      <td>NaN</td>\n",
       "      <td>4264983.0</td>\n",
       "      <td>Drama</td>\n",
       "      <td>Unrated</td>\n",
       "      <td>302.0</td>\n",
       "      <td>2190042.0</td>\n",
       "      <td>NaN</td>\n",
       "      <td>2016-10-28</td>\n",
       "      <td>158.0</td>\n",
       "      <td>...</td>\n",
       "      <td>NaN</td>\n",
       "      <td>0.0</td>\n",
       "      <td>0.0</td>\n",
       "      <td>NaN</td>\n",
       "      <td>0.000000</td>\n",
       "      <td>0.000000</td>\n",
       "      <td>NaN</td>\n",
       "      <td>0.0</td>\n",
       "      <td>0.0</td>\n",
       "      <td>NaN</td>\n",
       "    </tr>\n",
       "    <tr>\n",
       "      <th>2</th>\n",
       "      <td>NaN</td>\n",
       "      <td>NaN</td>\n",
       "      <td>930211.0</td>\n",
       "      <td>Musical</td>\n",
       "      <td>PG-13</td>\n",
       "      <td>4.0</td>\n",
       "      <td>83743.0</td>\n",
       "      <td>NaN</td>\n",
       "      <td>1986-04-18</td>\n",
       "      <td>108.0</td>\n",
       "      <td>...</td>\n",
       "      <td>NaN</td>\n",
       "      <td>0.0</td>\n",
       "      <td>0.0</td>\n",
       "      <td>NaN</td>\n",
       "      <td>0.000000</td>\n",
       "      <td>0.000000</td>\n",
       "      <td>NaN</td>\n",
       "      <td>0.0</td>\n",
       "      <td>0.0</td>\n",
       "      <td>NaN</td>\n",
       "    </tr>\n",
       "    <tr>\n",
       "      <th>3</th>\n",
       "      <td>[Paul Newman, Sally Field]</td>\n",
       "      <td>[Sydney Pollack]</td>\n",
       "      <td>40716963.0</td>\n",
       "      <td>Drama / Thriller</td>\n",
       "      <td>PG</td>\n",
       "      <td>2.0</td>\n",
       "      <td>97667.0</td>\n",
       "      <td>[Sydney Pollack]</td>\n",
       "      <td>1981-11-20</td>\n",
       "      <td>116.0</td>\n",
       "      <td>...</td>\n",
       "      <td>NaN</td>\n",
       "      <td>0.0</td>\n",
       "      <td>0.0</td>\n",
       "      <td>NaN</td>\n",
       "      <td>1.000000</td>\n",
       "      <td>0.000000</td>\n",
       "      <td>NaN</td>\n",
       "      <td>0.0</td>\n",
       "      <td>0.0</td>\n",
       "      <td>NaN</td>\n",
       "    </tr>\n",
       "    <tr>\n",
       "      <th>4</th>\n",
       "      <td>NaN</td>\n",
       "      <td>NaN</td>\n",
       "      <td>1031.0</td>\n",
       "      <td>Thriller</td>\n",
       "      <td>Unrated</td>\n",
       "      <td>NaN</td>\n",
       "      <td>NaN</td>\n",
       "      <td>NaN</td>\n",
       "      <td>2013-07-05</td>\n",
       "      <td>82.0</td>\n",
       "      <td>...</td>\n",
       "      <td>NaN</td>\n",
       "      <td>0.0</td>\n",
       "      <td>0.0</td>\n",
       "      <td>NaN</td>\n",
       "      <td>0.000000</td>\n",
       "      <td>0.000000</td>\n",
       "      <td>NaN</td>\n",
       "      <td>0.0</td>\n",
       "      <td>0.0</td>\n",
       "      <td>NaN</td>\n",
       "    </tr>\n",
       "  </tbody>\n",
       "</table>\n",
       "<p>5 rows × 35 columns</p>\n",
       "</div>"
      ],
      "text/plain": [
       "                                              actors         directors  \\\n",
       "0  [Liam Neeson, Bradley Cooper, Sharlto Copley, ...    [Joe Carnahan]   \n",
       "1                                                NaN               NaN   \n",
       "2                                                NaN               NaN   \n",
       "3                         [Paul Newman, Sally Field]  [Sydney Pollack]   \n",
       "4                                                NaN               NaN   \n",
       "\n",
       "    dom_gross             genre mpaa_rating  opening_release  \\\n",
       "0  77222099.0            Action       PG-13           3535.0   \n",
       "1   4264983.0             Drama     Unrated            302.0   \n",
       "2    930211.0           Musical       PG-13              4.0   \n",
       "3  40716963.0  Drama / Thriller          PG              2.0   \n",
       "4      1031.0          Thriller     Unrated              NaN   \n",
       "\n",
       "   opening_we_gross                               producers release_date  \\\n",
       "0        25669455.0  [Ridley Scott, Tony Scott, Alex Young]   2010-06-11   \n",
       "1         2190042.0                                     NaN   2016-10-28   \n",
       "2           83743.0                                     NaN   1986-04-18   \n",
       "3           97667.0                        [Sydney Pollack]   1981-11-20   \n",
       "4               NaN                                     NaN   2013-07-05   \n",
       "\n",
       "   runtime         ...         actor_cum_dom_roi  director_cum_oscar_noms  \\\n",
       "0    117.0         ...                   2.00038                      0.0   \n",
       "1    158.0         ...                       NaN                      0.0   \n",
       "2    108.0         ...                       NaN                      0.0   \n",
       "3    116.0         ...                       NaN                      0.0   \n",
       "4     82.0         ...                       NaN                      0.0   \n",
       "\n",
       "  director_cum_oscars  director_cum_dom_roi producer_cum_oscar_noms  \\\n",
       "0                 0.0              0.887892                5.333333   \n",
       "1                 0.0                   NaN                0.000000   \n",
       "2                 0.0                   NaN                0.000000   \n",
       "3                 0.0                   NaN                1.000000   \n",
       "4                 0.0                   NaN                0.000000   \n",
       "\n",
       "   producer_cum_oscars  producer_cum_dom_roi  writer_cum_oscar_noms  \\\n",
       "0             1.666667             -0.052432                    0.0   \n",
       "1             0.000000                   NaN                    0.0   \n",
       "2             0.000000                   NaN                    0.0   \n",
       "3             0.000000                   NaN                    0.0   \n",
       "4             0.000000                   NaN                    0.0   \n",
       "\n",
       "  writer_cum_oscars  writer_cum_dom_roi  \n",
       "0               0.0            0.169079  \n",
       "1               0.0                 NaN  \n",
       "2               0.0                 NaN  \n",
       "3               0.0                 NaN  \n",
       "4               0.0                 NaN  \n",
       "\n",
       "[5 rows x 35 columns]"
      ]
     },
     "execution_count": 3,
     "metadata": {},
     "output_type": "execute_result"
    }
   ],
   "source": [
    "with open(\"df_master_copy.pkl\", 'rb') as picklefile: \n",
    "    df_master = pickle.load(picklefile)\n",
    "df_master.head()"
   ]
  },
  {
   "cell_type": "code",
   "execution_count": 4,
   "metadata": {},
   "outputs": [
    {
     "data": {
      "text/html": [
       "<div>\n",
       "<style>\n",
       "    .dataframe thead tr:only-child th {\n",
       "        text-align: right;\n",
       "    }\n",
       "\n",
       "    .dataframe thead th {\n",
       "        text-align: left;\n",
       "    }\n",
       "\n",
       "    .dataframe tbody tr th {\n",
       "        vertical-align: top;\n",
       "    }\n",
       "</style>\n",
       "<table border=\"1\" class=\"dataframe\">\n",
       "  <thead>\n",
       "    <tr style=\"text-align: right;\">\n",
       "      <th></th>\n",
       "      <th>dom_gross</th>\n",
       "      <th>constant</th>\n",
       "    </tr>\n",
       "  </thead>\n",
       "  <tbody>\n",
       "    <tr>\n",
       "      <th>0</th>\n",
       "      <td>77222099.0</td>\n",
       "      <td>1</td>\n",
       "    </tr>\n",
       "    <tr>\n",
       "      <th>1</th>\n",
       "      <td>4264983.0</td>\n",
       "      <td>1</td>\n",
       "    </tr>\n",
       "    <tr>\n",
       "      <th>2</th>\n",
       "      <td>930211.0</td>\n",
       "      <td>1</td>\n",
       "    </tr>\n",
       "    <tr>\n",
       "      <th>3</th>\n",
       "      <td>40716963.0</td>\n",
       "      <td>1</td>\n",
       "    </tr>\n",
       "    <tr>\n",
       "      <th>4</th>\n",
       "      <td>1031.0</td>\n",
       "      <td>1</td>\n",
       "    </tr>\n",
       "  </tbody>\n",
       "</table>\n",
       "</div>"
      ],
      "text/plain": [
       "    dom_gross  constant\n",
       "0  77222099.0         1\n",
       "1   4264983.0         1\n",
       "2    930211.0         1\n",
       "3  40716963.0         1\n",
       "4      1031.0         1"
      ]
     },
     "execution_count": 4,
     "metadata": {},
     "output_type": "execute_result"
    }
   ],
   "source": [
    "df_c1 = df_master[['dom_gross']].dropna()\n",
    "df_c1['constant'] = 1\n",
    "df_c1.head()"
   ]
  },
  {
   "cell_type": "code",
   "execution_count": 5,
   "metadata": {},
   "outputs": [
    {
     "data": {
      "text/plain": [
       "0.0"
      ]
     },
     "execution_count": 5,
     "metadata": {},
     "output_type": "execute_result"
    }
   ],
   "source": [
    "X_c1 = df_c1[['constant']]\n",
    "y_c1 = df_c1[['dom_gross']]\n",
    "\n",
    "# fit model\n",
    "lr_c1 = LinearRegression()\n",
    "lr_c1.fit(X_c1, y_c1)\n",
    "lr_c1.score(X_c1, y_c1)"
   ]
  },
  {
   "cell_type": "code",
   "execution_count": 6,
   "metadata": {},
   "outputs": [
    {
     "name": "stdout",
     "output_type": "stream",
     "text": [
      "Intercept: 17877106.7541\n",
      "Coefficient: 0.0\n",
      "Mean of y: 17877106.754128553\n"
     ]
    }
   ],
   "source": [
    "print(\"Intercept:\", lr_c1.intercept_[0])\n",
    "print(\"Coefficient:\", lr_c1.coef_[0][0])\n",
    "print(\"Mean of y:\", float(y_c1.mean()))"
   ]
  },
  {
   "cell_type": "markdown",
   "metadata": {},
   "source": [
    "Essentially, this is a flat line at the target variable's mean. This gives us an R2 of 0 which makes sense since, in this case RSS = TSS therefore R2 is 0."
   ]
  },
  {
   "cell_type": "code",
   "execution_count": 7,
   "metadata": {},
   "outputs": [
    {
     "data": {
      "image/png": "[encoded data removed]",
      "text/plain": [
       "<matplotlib.figure.Figure at 0x10dbe4d68>"
      ]
     },
     "metadata": {},
     "output_type": "display_data"
    }
   ],
   "source": [
    "# plot predictions vs actuals\n",
    "df_c1['predictions'] = lr_c1.predict(X_c1)\n",
    "\n",
    "plt.scatter(df_c1['dom_gross'], df_c1['predictions'])\n",
    "plt.ylim(0, 1e8)\n",
    "plt.xlabel('actual gross')\n",
    "plt.ylabel('predicted gross');"
   ]
  },
  {
   "cell_type": "code",
   "execution_count": 8,
   "metadata": {},
   "outputs": [
    {
     "data": {
      "image/png": "[encoded data removed]",
      "text/plain": [
       "<matplotlib.figure.Figure at 0x10b145f60>"
      ]
     },
     "metadata": {},
     "output_type": "display_data"
    }
   ],
   "source": [
    "# make a histogram of residuals\n",
    "df_c1['resids'] = df_c1['dom_gross'] - df_c1['predictions']\n",
    "plt.hist(df_c1['resids'], bins=50)\n",
    "plt.xlim(-1e8, 1e8)\n",
    "plt.xlabel('residuals')\n",
    "plt.ylabel('frequency');"
   ]
  },
  {
   "cell_type": "code",
   "execution_count": 9,
   "metadata": {
    "collapsed": true
   },
   "outputs": [],
   "source": [
    "# residuals look to be mostly close to zero and skewed towards positive values"
   ]
  },
  {
   "cell_type": "markdown",
   "metadata": {},
   "source": [
    "## Challenge 2"
   ]
  },
  {
   "cell_type": "code",
   "execution_count": 10,
   "metadata": {},
   "outputs": [
    {
     "data": {
      "text/html": [
       "<div>\n",
       "<style>\n",
       "    .dataframe thead tr:only-child th {\n",
       "        text-align: right;\n",
       "    }\n",
       "\n",
       "    .dataframe thead th {\n",
       "        text-align: left;\n",
       "    }\n",
       "\n",
       "    .dataframe tbody tr th {\n",
       "        vertical-align: top;\n",
       "    }\n",
       "</style>\n",
       "<table border=\"1\" class=\"dataframe\">\n",
       "  <thead>\n",
       "    <tr style=\"text-align: right;\">\n",
       "      <th></th>\n",
       "      <th>dom_gross</th>\n",
       "      <th>final_budget</th>\n",
       "    </tr>\n",
       "  </thead>\n",
       "  <tbody>\n",
       "    <tr>\n",
       "      <th>0</th>\n",
       "      <td>77222099.0</td>\n",
       "      <td>110000000.0</td>\n",
       "    </tr>\n",
       "    <tr>\n",
       "      <th>6</th>\n",
       "      <td>37519139.0</td>\n",
       "      <td>67500000.0</td>\n",
       "    </tr>\n",
       "    <tr>\n",
       "      <th>11</th>\n",
       "      <td>288751.0</td>\n",
       "      <td>1300000.0</td>\n",
       "    </tr>\n",
       "    <tr>\n",
       "      <th>13</th>\n",
       "      <td>15322921.0</td>\n",
       "      <td>12000000.0</td>\n",
       "    </tr>\n",
       "    <tr>\n",
       "      <th>14</th>\n",
       "      <td>65016287.0</td>\n",
       "      <td>30000000.0</td>\n",
       "    </tr>\n",
       "  </tbody>\n",
       "</table>\n",
       "</div>"
      ],
      "text/plain": [
       "     dom_gross  final_budget\n",
       "0   77222099.0   110000000.0\n",
       "6   37519139.0    67500000.0\n",
       "11    288751.0     1300000.0\n",
       "13  15322921.0    12000000.0\n",
       "14  65016287.0    30000000.0"
      ]
     },
     "execution_count": 10,
     "metadata": {},
     "output_type": "execute_result"
    }
   ],
   "source": [
    "df_c2 = df_master[['dom_gross', 'final_budget']].dropna()\n",
    "df_c2.head()"
   ]
  },
  {
   "cell_type": "code",
   "execution_count": 11,
   "metadata": {},
   "outputs": [
    {
     "data": {
      "text/plain": [
       "0.43846194504499469"
      ]
     },
     "execution_count": 11,
     "metadata": {},
     "output_type": "execute_result"
    }
   ],
   "source": [
    "X_c2 = df_c2[['final_budget']]\n",
    "y_c2 = df_c2[['dom_gross']]\n",
    "\n",
    "# fit model\n",
    "lr_c2 = LinearRegression()\n",
    "lr_c2.fit(X_c2, y_c2)\n",
    "lr_c2.score(X_c2, y_c2)"
   ]
  },
  {
   "cell_type": "code",
   "execution_count": 12,
   "metadata": {},
   "outputs": [
    {
     "name": "stdout",
     "output_type": "stream",
     "text": [
      "Intercept: 10898143.6482\n",
      "Coefficient: 1.03345592705\n"
     ]
    }
   ],
   "source": [
    "print(\"Intercept:\", lr_c2.intercept_[0])\n",
    "print(\"Coefficient:\", lr_c2.coef_[0][0])"
   ]
  },
  {
   "cell_type": "code",
   "execution_count": 13,
   "metadata": {
    "collapsed": true
   },
   "outputs": [],
   "source": [
    "# looks like, in general $1 extra in budget yields $1.03 in domestic gross"
   ]
  },
  {
   "cell_type": "code",
   "execution_count": 14,
   "metadata": {},
   "outputs": [
    {
     "data": {
      "image/png": "[encoded data removed]",
      "text/plain": [
       "<matplotlib.figure.Figure at 0x10cc9a400>"
      ]
     },
     "metadata": {},
     "output_type": "display_data"
    }
   ],
   "source": [
    "# plot predictions vs target actuals\n",
    "df_c2['predictions'] = lr_c2.predict(X_c2)\n",
    "\n",
    "plt.scatter(df_c2['dom_gross'], df_c2['predictions'])\n",
    "plt.xlabel('actual gross')\n",
    "plt.ylabel('predicted gross');"
   ]
  },
  {
   "cell_type": "code",
   "execution_count": 15,
   "metadata": {},
   "outputs": [
    {
     "data": {
      "image/png": "[encoded data removed]",
      "text/plain": [
       "<matplotlib.figure.Figure at 0x1a1d72d9e8>"
      ]
     },
     "metadata": {},
     "output_type": "display_data"
    }
   ],
   "source": [
    "# plot model prediction against your feature variable\n",
    "plt.scatter(df_c2['final_budget'], df_c2['dom_gross'], label='actual')\n",
    "plt.scatter(df_c2['final_budget'], df_c2['predictions'], c='g', label='predicted')\n",
    "plt.xlabel('budget')\n",
    "plt.ylabel('domestic gross')\n",
    "plt.legend();"
   ]
  },
  {
   "cell_type": "code",
   "execution_count": 16,
   "metadata": {},
   "outputs": [
    {
     "data": {
      "image/png": "[encoded data removed]",
      "text/plain": [
       "<matplotlib.figure.Figure at 0x1a1d74d940>"
      ]
     },
     "metadata": {},
     "output_type": "display_data"
    }
   ],
   "source": [
    "# make a histogram of residuals\n",
    "df_c2['resids'] = df_c2['dom_gross'] - df_c2['predictions']\n",
    "plt.hist(df_c2['resids'], bins=50)\n",
    "plt.xlim(-1e8, 1e8)\n",
    "plt.xlabel('residuals')\n",
    "plt.ylabel('frequency');"
   ]
  },
  {
   "cell_type": "code",
   "execution_count": 17,
   "metadata": {},
   "outputs": [
    {
     "data": {
      "image/png": "[encoded data removed]",
      "text/plain": [
       "<matplotlib.figure.Figure at 0x1a1d743470>"
      ]
     },
     "metadata": {},
     "output_type": "display_data"
    }
   ],
   "source": [
    "# plot residuals on feature variable\n",
    "plt.scatter(df_c2['final_budget'], df_c2['resids'])\n",
    "plt.xlabel('budget')\n",
    "plt.ylabel('residuals');"
   ]
  },
  {
   "cell_type": "code",
   "execution_count": 18,
   "metadata": {},
   "outputs": [
    {
     "data": {
      "text/plain": [
       "Text(0,0.5,'residuals')"
      ]
     },
     "execution_count": 18,
     "metadata": {},
     "output_type": "execute_result"
    },
    {
     "data": {
      "image/png": "[encoded data removed]",
      "text/plain": [
       "<matplotlib.figure.Figure at 0x1a151cf780>"
      ]
     },
     "metadata": {},
     "output_type": "display_data"
    }
   ],
   "source": [
    "# plot residuals on predictions\n",
    "plt.scatter(df_c2['predictions'], df_c2['resids'])\n",
    "plt.xlabel('predicted gross')\n",
    "plt.ylabel('residuals')"
   ]
  },
  {
   "cell_type": "code",
   "execution_count": 19,
   "metadata": {
    "collapsed": true
   },
   "outputs": [],
   "source": [
    "# plots look very similar given the almost one to one relationship between budget and gross"
   ]
  },
  {
   "cell_type": "markdown",
   "metadata": {},
   "source": [
    "## Challenge 3"
   ]
  },
  {
   "cell_type": "code",
   "execution_count": 49,
   "metadata": {},
   "outputs": [
    {
     "data": {
      "text/html": [
       "<div>\n",
       "<style>\n",
       "    .dataframe thead tr:only-child th {\n",
       "        text-align: right;\n",
       "    }\n",
       "\n",
       "    .dataframe thead th {\n",
       "        text-align: left;\n",
       "    }\n",
       "\n",
       "    .dataframe tbody tr th {\n",
       "        vertical-align: top;\n",
       "    }\n",
       "</style>\n",
       "<table border=\"1\" class=\"dataframe\">\n",
       "  <thead>\n",
       "    <tr style=\"text-align: right;\">\n",
       "      <th></th>\n",
       "      <th>dom_gross</th>\n",
       "      <th>final_budget</th>\n",
       "      <th>mpaa_rating</th>\n",
       "    </tr>\n",
       "  </thead>\n",
       "  <tbody>\n",
       "    <tr>\n",
       "      <th>0</th>\n",
       "      <td>77222099.0</td>\n",
       "      <td>110000000.0</td>\n",
       "      <td>PG-13</td>\n",
       "    </tr>\n",
       "    <tr>\n",
       "      <th>6</th>\n",
       "      <td>37519139.0</td>\n",
       "      <td>67500000.0</td>\n",
       "      <td>R</td>\n",
       "    </tr>\n",
       "    <tr>\n",
       "      <th>11</th>\n",
       "      <td>288751.0</td>\n",
       "      <td>1300000.0</td>\n",
       "      <td>Unrated</td>\n",
       "    </tr>\n",
       "    <tr>\n",
       "      <th>13</th>\n",
       "      <td>15322921.0</td>\n",
       "      <td>12000000.0</td>\n",
       "      <td>R</td>\n",
       "    </tr>\n",
       "    <tr>\n",
       "      <th>14</th>\n",
       "      <td>65016287.0</td>\n",
       "      <td>30000000.0</td>\n",
       "      <td>R</td>\n",
       "    </tr>\n",
       "  </tbody>\n",
       "</table>\n",
       "</div>"
      ],
      "text/plain": [
       "     dom_gross  final_budget mpaa_rating\n",
       "0   77222099.0   110000000.0       PG-13\n",
       "6   37519139.0    67500000.0           R\n",
       "11    288751.0     1300000.0     Unrated\n",
       "13  15322921.0    12000000.0           R\n",
       "14  65016287.0    30000000.0           R"
      ]
     },
     "execution_count": 49,
     "metadata": {},
     "output_type": "execute_result"
    }
   ],
   "source": [
    "df_c3 = df_master[['dom_gross', 'final_budget', 'mpaa_rating']].dropna()\n",
    "df_c3.head()"
   ]
  },
  {
   "cell_type": "code",
   "execution_count": 50,
   "metadata": {},
   "outputs": [
    {
     "data": {
      "text/html": [
       "<div>\n",
       "<style>\n",
       "    .dataframe thead tr:only-child th {\n",
       "        text-align: right;\n",
       "    }\n",
       "\n",
       "    .dataframe thead th {\n",
       "        text-align: left;\n",
       "    }\n",
       "\n",
       "    .dataframe tbody tr th {\n",
       "        vertical-align: top;\n",
       "    }\n",
       "</style>\n",
       "<table border=\"1\" class=\"dataframe\">\n",
       "  <thead>\n",
       "    <tr style=\"text-align: right;\">\n",
       "      <th></th>\n",
       "      <th>dom_gross</th>\n",
       "      <th>final_budget</th>\n",
       "      <th>mpaa_rating[T.GP]</th>\n",
       "      <th>mpaa_rating[T.M]</th>\n",
       "      <th>mpaa_rating[T.M/PG]</th>\n",
       "      <th>mpaa_rating[T.NC-17]</th>\n",
       "      <th>mpaa_rating[T.PG]</th>\n",
       "      <th>mpaa_rating[T.PG-13]</th>\n",
       "      <th>mpaa_rating[T.R]</th>\n",
       "      <th>mpaa_rating[T.Unrated]</th>\n",
       "    </tr>\n",
       "  </thead>\n",
       "  <tbody>\n",
       "    <tr>\n",
       "      <th>0</th>\n",
       "      <td>77222099.0</td>\n",
       "      <td>110000000.0</td>\n",
       "      <td>0.0</td>\n",
       "      <td>0.0</td>\n",
       "      <td>0.0</td>\n",
       "      <td>0.0</td>\n",
       "      <td>0.0</td>\n",
       "      <td>1.0</td>\n",
       "      <td>0.0</td>\n",
       "      <td>0.0</td>\n",
       "    </tr>\n",
       "    <tr>\n",
       "      <th>6</th>\n",
       "      <td>37519139.0</td>\n",
       "      <td>67500000.0</td>\n",
       "      <td>0.0</td>\n",
       "      <td>0.0</td>\n",
       "      <td>0.0</td>\n",
       "      <td>0.0</td>\n",
       "      <td>0.0</td>\n",
       "      <td>0.0</td>\n",
       "      <td>1.0</td>\n",
       "      <td>0.0</td>\n",
       "    </tr>\n",
       "    <tr>\n",
       "      <th>11</th>\n",
       "      <td>288751.0</td>\n",
       "      <td>1300000.0</td>\n",
       "      <td>0.0</td>\n",
       "      <td>0.0</td>\n",
       "      <td>0.0</td>\n",
       "      <td>0.0</td>\n",
       "      <td>0.0</td>\n",
       "      <td>0.0</td>\n",
       "      <td>0.0</td>\n",
       "      <td>1.0</td>\n",
       "    </tr>\n",
       "    <tr>\n",
       "      <th>13</th>\n",
       "      <td>15322921.0</td>\n",
       "      <td>12000000.0</td>\n",
       "      <td>0.0</td>\n",
       "      <td>0.0</td>\n",
       "      <td>0.0</td>\n",
       "      <td>0.0</td>\n",
       "      <td>0.0</td>\n",
       "      <td>0.0</td>\n",
       "      <td>1.0</td>\n",
       "      <td>0.0</td>\n",
       "    </tr>\n",
       "    <tr>\n",
       "      <th>14</th>\n",
       "      <td>65016287.0</td>\n",
       "      <td>30000000.0</td>\n",
       "      <td>0.0</td>\n",
       "      <td>0.0</td>\n",
       "      <td>0.0</td>\n",
       "      <td>0.0</td>\n",
       "      <td>0.0</td>\n",
       "      <td>0.0</td>\n",
       "      <td>1.0</td>\n",
       "      <td>0.0</td>\n",
       "    </tr>\n",
       "  </tbody>\n",
       "</table>\n",
       "</div>"
      ],
      "text/plain": [
       "     dom_gross  final_budget  mpaa_rating[T.GP]  mpaa_rating[T.M]  \\\n",
       "0   77222099.0   110000000.0                0.0               0.0   \n",
       "6   37519139.0    67500000.0                0.0               0.0   \n",
       "11    288751.0     1300000.0                0.0               0.0   \n",
       "13  15322921.0    12000000.0                0.0               0.0   \n",
       "14  65016287.0    30000000.0                0.0               0.0   \n",
       "\n",
       "    mpaa_rating[T.M/PG]  mpaa_rating[T.NC-17]  mpaa_rating[T.PG]  \\\n",
       "0                   0.0                   0.0                0.0   \n",
       "6                   0.0                   0.0                0.0   \n",
       "11                  0.0                   0.0                0.0   \n",
       "13                  0.0                   0.0                0.0   \n",
       "14                  0.0                   0.0                0.0   \n",
       "\n",
       "    mpaa_rating[T.PG-13]  mpaa_rating[T.R]  mpaa_rating[T.Unrated]  \n",
       "0                    1.0               0.0                     0.0  \n",
       "6                    0.0               1.0                     0.0  \n",
       "11                   0.0               0.0                     1.0  \n",
       "13                   0.0               1.0                     0.0  \n",
       "14                   0.0               1.0                     0.0  "
      ]
     },
     "execution_count": 50,
     "metadata": {},
     "output_type": "execute_result"
    }
   ],
   "source": [
    "# append dummy matrix\n",
    "df_dummies = patsy.dmatrix('mpaa_rating', data=df_c3, return_type='dataframe')\n",
    "df_c3 = df_c3.join(df_dummies.iloc[:,1:]).drop('mpaa_rating', axis=1)\n",
    "df_c3.head()"
   ]
  },
  {
   "cell_type": "code",
   "execution_count": 51,
   "metadata": {},
   "outputs": [
    {
     "data": {
      "text/plain": [
       "0.45042391537567761"
      ]
     },
     "execution_count": 51,
     "metadata": {},
     "output_type": "execute_result"
    }
   ],
   "source": [
    "X_c3 = df_c3.iloc[:, 1:]\n",
    "y_c3 = df_c3[['dom_gross']]\n",
    "\n",
    "# fit model\n",
    "lr_c3 = LinearRegression()\n",
    "lr_c3.fit(X_c3, y_c3)\n",
    "lr_c3.score(X_c3, y_c3)"
   ]
  },
  {
   "cell_type": "code",
   "execution_count": 52,
   "metadata": {},
   "outputs": [
    {
     "data": {
      "text/html": [
       "<div>\n",
       "<style>\n",
       "    .dataframe thead tr:only-child th {\n",
       "        text-align: right;\n",
       "    }\n",
       "\n",
       "    .dataframe thead th {\n",
       "        text-align: left;\n",
       "    }\n",
       "\n",
       "    .dataframe tbody tr th {\n",
       "        vertical-align: top;\n",
       "    }\n",
       "</style>\n",
       "<table border=\"1\" class=\"dataframe\">\n",
       "  <thead>\n",
       "    <tr style=\"text-align: right;\">\n",
       "      <th></th>\n",
       "      <th>Coefficients</th>\n",
       "    </tr>\n",
       "  </thead>\n",
       "  <tbody>\n",
       "    <tr>\n",
       "      <th>final_budget</th>\n",
       "      <td>9.895593e-01</td>\n",
       "    </tr>\n",
       "    <tr>\n",
       "      <th>mpaa_rating[T.GP]</th>\n",
       "      <td>1.475349e+07</td>\n",
       "    </tr>\n",
       "    <tr>\n",
       "      <th>mpaa_rating[T.M]</th>\n",
       "      <td>-3.999143e+06</td>\n",
       "    </tr>\n",
       "    <tr>\n",
       "      <th>mpaa_rating[T.M/PG]</th>\n",
       "      <td>-2.257417e+07</td>\n",
       "    </tr>\n",
       "    <tr>\n",
       "      <th>mpaa_rating[T.NC-17]</th>\n",
       "      <td>-4.307556e+07</td>\n",
       "    </tr>\n",
       "    <tr>\n",
       "      <th>mpaa_rating[T.PG]</th>\n",
       "      <td>-1.426955e+07</td>\n",
       "    </tr>\n",
       "    <tr>\n",
       "      <th>mpaa_rating[T.PG-13]</th>\n",
       "      <td>-2.321442e+07</td>\n",
       "    </tr>\n",
       "    <tr>\n",
       "      <th>mpaa_rating[T.R]</th>\n",
       "      <td>-3.003270e+07</td>\n",
       "    </tr>\n",
       "    <tr>\n",
       "      <th>mpaa_rating[T.Unrated]</th>\n",
       "      <td>-3.911742e+07</td>\n",
       "    </tr>\n",
       "  </tbody>\n",
       "</table>\n",
       "</div>"
      ],
      "text/plain": [
       "                        Coefficients\n",
       "final_budget            9.895593e-01\n",
       "mpaa_rating[T.GP]       1.475349e+07\n",
       "mpaa_rating[T.M]       -3.999143e+06\n",
       "mpaa_rating[T.M/PG]    -2.257417e+07\n",
       "mpaa_rating[T.NC-17]   -4.307556e+07\n",
       "mpaa_rating[T.PG]      -1.426955e+07\n",
       "mpaa_rating[T.PG-13]   -2.321442e+07\n",
       "mpaa_rating[T.R]       -3.003270e+07\n",
       "mpaa_rating[T.Unrated] -3.911742e+07"
      ]
     },
     "execution_count": 52,
     "metadata": {},
     "output_type": "execute_result"
    }
   ],
   "source": [
    "pd.DataFrame(lr_c3.coef_[0], index=X_c3.columns, columns=['Coefficients'])"
   ]
  },
  {
   "cell_type": "code",
   "execution_count": 53,
   "metadata": {
    "collapsed": true
   },
   "outputs": [],
   "source": [
    "# it looks like the only rating that is associated with a positive outcome is 'GP'\n",
    "# an NC-17 rating looks like a death blow to a movie"
   ]
  },
  {
   "cell_type": "code",
   "execution_count": 54,
   "metadata": {},
   "outputs": [
    {
     "data": {
      "image/png": "[encoded data removed]",
      "text/plain": [
       "<matplotlib.figure.Figure at 0x1a1ddb0be0>"
      ]
     },
     "metadata": {},
     "output_type": "display_data"
    }
   ],
   "source": [
    "# plot predicted values and budget\n",
    "df_c3['predictions'] = lr_c3.predict(X_c3)\n",
    "plt.scatter(df_c3['final_budget'], df_c3['dom_gross'], label='actual')\n",
    "plt.scatter(df_c3['final_budget'], df_c3['predictions'], c='g', label='predicted')\n",
    "plt.xlabel('budget')\n",
    "plt.ylabel('domestic gross')\n",
    "plt.legend();"
   ]
  },
  {
   "cell_type": "code",
   "execution_count": 55,
   "metadata": {},
   "outputs": [
    {
     "data": {
      "image/png": "[encoded data removed]",
      "text/plain": [
       "<matplotlib.figure.Figure at 0x1a1e432f98>"
      ]
     },
     "metadata": {},
     "output_type": "display_data"
    }
   ],
   "source": [
    "# plot resudials on predicted values\n",
    "df_c3['resids'] = df_c3['dom_gross'] - df_c3['predictions']\n",
    "plt.scatter(df_c3['predictions'], df_c3['resids'])\n",
    "plt.xlabel('predicted gross')\n",
    "plt.ylabel('residuals');"
   ]
  },
  {
   "cell_type": "code",
   "execution_count": 56,
   "metadata": {
    "collapsed": true
   },
   "outputs": [],
   "source": [
    "# still looks similar and fairly bad."
   ]
  },
  {
   "cell_type": "markdown",
   "metadata": {},
   "source": [
    "## Challenge 4"
   ]
  },
  {
   "cell_type": "code",
   "execution_count": 57,
   "metadata": {
    "collapsed": true
   },
   "outputs": [],
   "source": [
    "df_c4 = df_master[['dom_gross', 'title', 'genre',\\\n",
    "                   'opening_release', 'opening_we_gross',\\\n",
    "                   'runtime', 'imdb_rating', 'final_budget',\\\n",
    "                   'actor_cum_oscar_noms', 'actor_cum_oscars', \\\n",
    "                   'actor_cum_dom_roi', 'director_cum_oscar_noms',\\\n",
    "                   'director_cum_oscars', 'director_cum_dom_roi',\\\n",
    "                   'producer_cum_oscar_noms', 'producer_cum_oscars',\\\n",
    "                   'producer_cum_dom_roi', 'writer_cum_oscar_noms',\\\n",
    "                   'writer_cum_oscars', 'writer_cum_dom_roi']].dropna()"
   ]
  },
  {
   "cell_type": "code",
   "execution_count": 58,
   "metadata": {},
   "outputs": [
    {
     "data": {
      "text/html": [
       "<div>\n",
       "<style>\n",
       "    .dataframe thead tr:only-child th {\n",
       "        text-align: right;\n",
       "    }\n",
       "\n",
       "    .dataframe thead th {\n",
       "        text-align: left;\n",
       "    }\n",
       "\n",
       "    .dataframe tbody tr th {\n",
       "        vertical-align: top;\n",
       "    }\n",
       "</style>\n",
       "<table border=\"1\" class=\"dataframe\">\n",
       "  <thead>\n",
       "    <tr style=\"text-align: right;\">\n",
       "      <th></th>\n",
       "      <th>dom_gross</th>\n",
       "      <th>title</th>\n",
       "      <th>opening_release</th>\n",
       "      <th>opening_we_gross</th>\n",
       "      <th>runtime</th>\n",
       "      <th>imdb_rating</th>\n",
       "      <th>final_budget</th>\n",
       "      <th>actor_cum_oscar_noms</th>\n",
       "      <th>actor_cum_oscars</th>\n",
       "      <th>actor_cum_dom_roi</th>\n",
       "      <th>...</th>\n",
       "      <th>genre[T.Western]</th>\n",
       "      <th>genre[T.Western Comedy]</th>\n",
       "      <th>mpaa_rating[T.GP]</th>\n",
       "      <th>mpaa_rating[T.M]</th>\n",
       "      <th>mpaa_rating[T.M/PG]</th>\n",
       "      <th>mpaa_rating[T.NC-17]</th>\n",
       "      <th>mpaa_rating[T.PG]</th>\n",
       "      <th>mpaa_rating[T.PG-13]</th>\n",
       "      <th>mpaa_rating[T.R]</th>\n",
       "      <th>mpaa_rating[T.Unrated]</th>\n",
       "    </tr>\n",
       "  </thead>\n",
       "  <tbody>\n",
       "    <tr>\n",
       "      <th>0</th>\n",
       "      <td>77222099.0</td>\n",
       "      <td>The A-Team</td>\n",
       "      <td>3535.0</td>\n",
       "      <td>25669455.0</td>\n",
       "      <td>117.0</td>\n",
       "      <td>6.8</td>\n",
       "      <td>110000000.0</td>\n",
       "      <td>18.333333</td>\n",
       "      <td>3.333333</td>\n",
       "      <td>2.000380</td>\n",
       "      <td>...</td>\n",
       "      <td>0.0</td>\n",
       "      <td>0.0</td>\n",
       "      <td>0.0</td>\n",
       "      <td>0.0</td>\n",
       "      <td>0.0</td>\n",
       "      <td>0.0</td>\n",
       "      <td>0.0</td>\n",
       "      <td>1.0</td>\n",
       "      <td>0.0</td>\n",
       "      <td>0.0</td>\n",
       "    </tr>\n",
       "    <tr>\n",
       "      <th>6</th>\n",
       "      <td>37519139.0</td>\n",
       "      <td>Abraham Lincoln: Vampire Hunter</td>\n",
       "      <td>3108.0</td>\n",
       "      <td>16306974.0</td>\n",
       "      <td>105.0</td>\n",
       "      <td>5.9</td>\n",
       "      <td>67500000.0</td>\n",
       "      <td>8.666667</td>\n",
       "      <td>4.000000</td>\n",
       "      <td>0.135612</td>\n",
       "      <td>...</td>\n",
       "      <td>0.0</td>\n",
       "      <td>0.0</td>\n",
       "      <td>0.0</td>\n",
       "      <td>0.0</td>\n",
       "      <td>0.0</td>\n",
       "      <td>0.0</td>\n",
       "      <td>0.0</td>\n",
       "      <td>0.0</td>\n",
       "      <td>1.0</td>\n",
       "      <td>0.0</td>\n",
       "    </tr>\n",
       "    <tr>\n",
       "      <th>14</th>\n",
       "      <td>65016287.0</td>\n",
       "      <td>About Schmidt</td>\n",
       "      <td>6.0</td>\n",
       "      <td>282367.0</td>\n",
       "      <td>124.0</td>\n",
       "      <td>7.2</td>\n",
       "      <td>30000000.0</td>\n",
       "      <td>39.000000</td>\n",
       "      <td>12.500000</td>\n",
       "      <td>1.589226</td>\n",
       "      <td>...</td>\n",
       "      <td>0.0</td>\n",
       "      <td>0.0</td>\n",
       "      <td>0.0</td>\n",
       "      <td>0.0</td>\n",
       "      <td>0.0</td>\n",
       "      <td>0.0</td>\n",
       "      <td>0.0</td>\n",
       "      <td>0.0</td>\n",
       "      <td>1.0</td>\n",
       "      <td>0.0</td>\n",
       "    </tr>\n",
       "    <tr>\n",
       "      <th>22</th>\n",
       "      <td>41385278.0</td>\n",
       "      <td>About a Boy</td>\n",
       "      <td>1207.0</td>\n",
       "      <td>8557630.0</td>\n",
       "      <td>100.0</td>\n",
       "      <td>7.1</td>\n",
       "      <td>27000000.0</td>\n",
       "      <td>10.333333</td>\n",
       "      <td>1.333333</td>\n",
       "      <td>1.166435</td>\n",
       "      <td>...</td>\n",
       "      <td>0.0</td>\n",
       "      <td>0.0</td>\n",
       "      <td>0.0</td>\n",
       "      <td>0.0</td>\n",
       "      <td>0.0</td>\n",
       "      <td>0.0</td>\n",
       "      <td>0.0</td>\n",
       "      <td>1.0</td>\n",
       "      <td>0.0</td>\n",
       "      <td>0.0</td>\n",
       "    </tr>\n",
       "    <tr>\n",
       "      <th>100</th>\n",
       "      <td>28331233.0</td>\n",
       "      <td>After the Sunset</td>\n",
       "      <td>2819.0</td>\n",
       "      <td>11100392.0</td>\n",
       "      <td>98.0</td>\n",
       "      <td>6.3</td>\n",
       "      <td>57000000.0</td>\n",
       "      <td>7.000000</td>\n",
       "      <td>2.333333</td>\n",
       "      <td>0.187141</td>\n",
       "      <td>...</td>\n",
       "      <td>0.0</td>\n",
       "      <td>0.0</td>\n",
       "      <td>0.0</td>\n",
       "      <td>0.0</td>\n",
       "      <td>0.0</td>\n",
       "      <td>0.0</td>\n",
       "      <td>0.0</td>\n",
       "      <td>1.0</td>\n",
       "      <td>0.0</td>\n",
       "      <td>0.0</td>\n",
       "    </tr>\n",
       "  </tbody>\n",
       "</table>\n",
       "<p>5 rows × 80 columns</p>\n",
       "</div>"
      ],
      "text/plain": [
       "      dom_gross                            title  opening_release  \\\n",
       "0    77222099.0                       The A-Team           3535.0   \n",
       "6    37519139.0  Abraham Lincoln: Vampire Hunter           3108.0   \n",
       "14   65016287.0                    About Schmidt              6.0   \n",
       "22   41385278.0                      About a Boy           1207.0   \n",
       "100  28331233.0                 After the Sunset           2819.0   \n",
       "\n",
       "     opening_we_gross  runtime  imdb_rating  final_budget  \\\n",
       "0          25669455.0    117.0          6.8   110000000.0   \n",
       "6          16306974.0    105.0          5.9    67500000.0   \n",
       "14           282367.0    124.0          7.2    30000000.0   \n",
       "22          8557630.0    100.0          7.1    27000000.0   \n",
       "100        11100392.0     98.0          6.3    57000000.0   \n",
       "\n",
       "     actor_cum_oscar_noms  actor_cum_oscars  actor_cum_dom_roi  \\\n",
       "0               18.333333          3.333333           2.000380   \n",
       "6                8.666667          4.000000           0.135612   \n",
       "14              39.000000         12.500000           1.589226   \n",
       "22              10.333333          1.333333           1.166435   \n",
       "100              7.000000          2.333333           0.187141   \n",
       "\n",
       "              ...            genre[T.Western]  genre[T.Western Comedy]  \\\n",
       "0             ...                         0.0                      0.0   \n",
       "6             ...                         0.0                      0.0   \n",
       "14            ...                         0.0                      0.0   \n",
       "22            ...                         0.0                      0.0   \n",
       "100           ...                         0.0                      0.0   \n",
       "\n",
       "     mpaa_rating[T.GP]  mpaa_rating[T.M]  mpaa_rating[T.M/PG]  \\\n",
       "0                  0.0               0.0                  0.0   \n",
       "6                  0.0               0.0                  0.0   \n",
       "14                 0.0               0.0                  0.0   \n",
       "22                 0.0               0.0                  0.0   \n",
       "100                0.0               0.0                  0.0   \n",
       "\n",
       "     mpaa_rating[T.NC-17]  mpaa_rating[T.PG]  mpaa_rating[T.PG-13]  \\\n",
       "0                     0.0                0.0                   1.0   \n",
       "6                     0.0                0.0                   0.0   \n",
       "14                    0.0                0.0                   0.0   \n",
       "22                    0.0                0.0                   1.0   \n",
       "100                   0.0                0.0                   1.0   \n",
       "\n",
       "     mpaa_rating[T.R]  mpaa_rating[T.Unrated]  \n",
       "0                 0.0                     0.0  \n",
       "6                 1.0                     0.0  \n",
       "14                1.0                     0.0  \n",
       "22                0.0                     0.0  \n",
       "100               0.0                     0.0  \n",
       "\n",
       "[5 rows x 80 columns]"
      ]
     },
     "execution_count": 58,
     "metadata": {},
     "output_type": "execute_result"
    }
   ],
   "source": [
    "# append dummy matrix\n",
    "df_genres = patsy.dmatrix('genre', data=df_c4, return_type='dataframe')\n",
    "df_c4 = df_c4.join(df_genres.iloc[:,1:]).drop('genre', axis=1)\n",
    "df_c4 = df_c4.join(df_dummies.iloc[:,1:])\n",
    "df_c4.head()"
   ]
  },
  {
   "cell_type": "code",
   "execution_count": 59,
   "metadata": {},
   "outputs": [
    {
     "data": {
      "text/plain": [
       "0.87533285122889315"
      ]
     },
     "execution_count": 59,
     "metadata": {},
     "output_type": "execute_result"
    }
   ],
   "source": [
    "X_c4 = df_c4.iloc[:, 2:]\n",
    "y_c4 = df_c4[['dom_gross']]\n",
    "\n",
    "# fit model\n",
    "lr_c4 = LinearRegression()\n",
    "lr_c4.fit(X_c4, y_c4)\n",
    "lr_c4.score(X_c4, y_c4)"
   ]
  },
  {
   "cell_type": "code",
   "execution_count": 60,
   "metadata": {},
   "outputs": [
    {
     "data": {
      "text/html": [
       "<div>\n",
       "<style>\n",
       "    .dataframe thead tr:only-child th {\n",
       "        text-align: right;\n",
       "    }\n",
       "\n",
       "    .dataframe thead th {\n",
       "        text-align: left;\n",
       "    }\n",
       "\n",
       "    .dataframe tbody tr th {\n",
       "        vertical-align: top;\n",
       "    }\n",
       "</style>\n",
       "<table border=\"1\" class=\"dataframe\">\n",
       "  <thead>\n",
       "    <tr style=\"text-align: right;\">\n",
       "      <th></th>\n",
       "      <th>Coefficients</th>\n",
       "    </tr>\n",
       "  </thead>\n",
       "  <tbody>\n",
       "    <tr>\n",
       "      <th>opening_release</th>\n",
       "      <td>-7.177850e+03</td>\n",
       "    </tr>\n",
       "    <tr>\n",
       "      <th>opening_we_gross</th>\n",
       "      <td>2.907911e+00</td>\n",
       "    </tr>\n",
       "    <tr>\n",
       "      <th>runtime</th>\n",
       "      <td>3.674758e+05</td>\n",
       "    </tr>\n",
       "    <tr>\n",
       "      <th>imdb_rating</th>\n",
       "      <td>8.670552e+06</td>\n",
       "    </tr>\n",
       "    <tr>\n",
       "      <th>final_budget</th>\n",
       "      <td>-1.202438e-02</td>\n",
       "    </tr>\n",
       "    <tr>\n",
       "      <th>actor_cum_oscar_noms</th>\n",
       "      <td>8.701973e+03</td>\n",
       "    </tr>\n",
       "    <tr>\n",
       "      <th>actor_cum_oscars</th>\n",
       "      <td>-1.402870e+06</td>\n",
       "    </tr>\n",
       "    <tr>\n",
       "      <th>actor_cum_dom_roi</th>\n",
       "      <td>8.617249e+05</td>\n",
       "    </tr>\n",
       "    <tr>\n",
       "      <th>director_cum_oscar_noms</th>\n",
       "      <td>2.426008e+05</td>\n",
       "    </tr>\n",
       "    <tr>\n",
       "      <th>director_cum_oscars</th>\n",
       "      <td>5.747688e+05</td>\n",
       "    </tr>\n",
       "    <tr>\n",
       "      <th>director_cum_dom_roi</th>\n",
       "      <td>1.799791e+05</td>\n",
       "    </tr>\n",
       "    <tr>\n",
       "      <th>producer_cum_oscar_noms</th>\n",
       "      <td>-1.789227e+05</td>\n",
       "    </tr>\n",
       "    <tr>\n",
       "      <th>producer_cum_oscars</th>\n",
       "      <td>1.051697e+06</td>\n",
       "    </tr>\n",
       "    <tr>\n",
       "      <th>producer_cum_dom_roi</th>\n",
       "      <td>-1.000440e+05</td>\n",
       "    </tr>\n",
       "    <tr>\n",
       "      <th>writer_cum_oscar_noms</th>\n",
       "      <td>-2.126109e+05</td>\n",
       "    </tr>\n",
       "    <tr>\n",
       "      <th>writer_cum_oscars</th>\n",
       "      <td>1.835362e+05</td>\n",
       "    </tr>\n",
       "    <tr>\n",
       "      <th>writer_cum_dom_roi</th>\n",
       "      <td>-4.634890e+05</td>\n",
       "    </tr>\n",
       "    <tr>\n",
       "      <th>genre[T.Action / Adventure]</th>\n",
       "      <td>-1.307366e+07</td>\n",
       "    </tr>\n",
       "    <tr>\n",
       "      <th>genre[T.Action / Crime]</th>\n",
       "      <td>-1.557692e+06</td>\n",
       "    </tr>\n",
       "    <tr>\n",
       "      <th>genre[T.Action Comedy]</th>\n",
       "      <td>3.992726e+06</td>\n",
       "    </tr>\n",
       "    <tr>\n",
       "      <th>genre[T.Action Drama]</th>\n",
       "      <td>1.723033e+07</td>\n",
       "    </tr>\n",
       "    <tr>\n",
       "      <th>genre[T.Action Horror]</th>\n",
       "      <td>-7.959394e+06</td>\n",
       "    </tr>\n",
       "    <tr>\n",
       "      <th>genre[T.Action Thriller]</th>\n",
       "      <td>-3.108072e+06</td>\n",
       "    </tr>\n",
       "    <tr>\n",
       "      <th>genre[T.Adventure]</th>\n",
       "      <td>-7.828815e+06</td>\n",
       "    </tr>\n",
       "    <tr>\n",
       "      <th>genre[T.Adventure Comedy]</th>\n",
       "      <td>1.178728e+06</td>\n",
       "    </tr>\n",
       "    <tr>\n",
       "      <th>genre[T.Animation]</th>\n",
       "      <td>2.976725e+07</td>\n",
       "    </tr>\n",
       "    <tr>\n",
       "      <th>genre[T.Comedy]</th>\n",
       "      <td>2.781746e+06</td>\n",
       "    </tr>\n",
       "    <tr>\n",
       "      <th>genre[T.Comedy / Drama]</th>\n",
       "      <td>-4.708011e+06</td>\n",
       "    </tr>\n",
       "    <tr>\n",
       "      <th>genre[T.Crime]</th>\n",
       "      <td>-1.668318e+07</td>\n",
       "    </tr>\n",
       "    <tr>\n",
       "      <th>genre[T.Crime Comedy]</th>\n",
       "      <td>5.939681e+05</td>\n",
       "    </tr>\n",
       "    <tr>\n",
       "      <th>...</th>\n",
       "      <td>...</td>\n",
       "    </tr>\n",
       "    <tr>\n",
       "      <th>genre[T.Period Adventure]</th>\n",
       "      <td>9.578720e+06</td>\n",
       "    </tr>\n",
       "    <tr>\n",
       "      <th>genre[T.Period Drama]</th>\n",
       "      <td>-8.542825e+06</td>\n",
       "    </tr>\n",
       "    <tr>\n",
       "      <th>genre[T.Period Horror]</th>\n",
       "      <td>-2.330485e+07</td>\n",
       "    </tr>\n",
       "    <tr>\n",
       "      <th>genre[T.Romance]</th>\n",
       "      <td>-1.295831e+07</td>\n",
       "    </tr>\n",
       "    <tr>\n",
       "      <th>genre[T.Romantic Comedy]</th>\n",
       "      <td>1.736118e+07</td>\n",
       "    </tr>\n",
       "    <tr>\n",
       "      <th>genre[T.Romantic Thriller]</th>\n",
       "      <td>4.838511e+06</td>\n",
       "    </tr>\n",
       "    <tr>\n",
       "      <th>genre[T.Sci-Fi]</th>\n",
       "      <td>-5.051643e+06</td>\n",
       "    </tr>\n",
       "    <tr>\n",
       "      <th>genre[T.Sci-Fi Action]</th>\n",
       "      <td>2.082720e+07</td>\n",
       "    </tr>\n",
       "    <tr>\n",
       "      <th>genre[T.Sci-Fi Adventure]</th>\n",
       "      <td>-1.329098e+07</td>\n",
       "    </tr>\n",
       "    <tr>\n",
       "      <th>genre[T.Sci-Fi Comedy]</th>\n",
       "      <td>9.990680e+06</td>\n",
       "    </tr>\n",
       "    <tr>\n",
       "      <th>genre[T.Sci-Fi Horror]</th>\n",
       "      <td>3.612966e+06</td>\n",
       "    </tr>\n",
       "    <tr>\n",
       "      <th>genre[T.Sci-Fi Thriller]</th>\n",
       "      <td>4.613357e+06</td>\n",
       "    </tr>\n",
       "    <tr>\n",
       "      <th>genre[T.Sports Action]</th>\n",
       "      <td>1.363911e+07</td>\n",
       "    </tr>\n",
       "    <tr>\n",
       "      <th>genre[T.Sports Comedy]</th>\n",
       "      <td>-8.190535e+05</td>\n",
       "    </tr>\n",
       "    <tr>\n",
       "      <th>genre[T.Sports Drama]</th>\n",
       "      <td>-1.400186e+07</td>\n",
       "    </tr>\n",
       "    <tr>\n",
       "      <th>genre[T.Thriller]</th>\n",
       "      <td>-5.809452e+06</td>\n",
       "    </tr>\n",
       "    <tr>\n",
       "      <th>genre[T.Unknown]</th>\n",
       "      <td>-4.372646e+07</td>\n",
       "    </tr>\n",
       "    <tr>\n",
       "      <th>genre[T.War]</th>\n",
       "      <td>-1.576869e+07</td>\n",
       "    </tr>\n",
       "    <tr>\n",
       "      <th>genre[T.War Drama]</th>\n",
       "      <td>-8.314055e+06</td>\n",
       "    </tr>\n",
       "    <tr>\n",
       "      <th>genre[T.War Romance]</th>\n",
       "      <td>7.569568e+06</td>\n",
       "    </tr>\n",
       "    <tr>\n",
       "      <th>genre[T.Western]</th>\n",
       "      <td>1.499420e+07</td>\n",
       "    </tr>\n",
       "    <tr>\n",
       "      <th>genre[T.Western Comedy]</th>\n",
       "      <td>-2.966933e+06</td>\n",
       "    </tr>\n",
       "    <tr>\n",
       "      <th>mpaa_rating[T.GP]</th>\n",
       "      <td>-2.980232e-08</td>\n",
       "    </tr>\n",
       "    <tr>\n",
       "      <th>mpaa_rating[T.M]</th>\n",
       "      <td>2.067536e-07</td>\n",
       "    </tr>\n",
       "    <tr>\n",
       "      <th>mpaa_rating[T.M/PG]</th>\n",
       "      <td>7.450581e-09</td>\n",
       "    </tr>\n",
       "    <tr>\n",
       "      <th>mpaa_rating[T.NC-17]</th>\n",
       "      <td>-3.576382e+07</td>\n",
       "    </tr>\n",
       "    <tr>\n",
       "      <th>mpaa_rating[T.PG]</th>\n",
       "      <td>-1.069391e+07</td>\n",
       "    </tr>\n",
       "    <tr>\n",
       "      <th>mpaa_rating[T.PG-13]</th>\n",
       "      <td>-1.853924e+07</td>\n",
       "    </tr>\n",
       "    <tr>\n",
       "      <th>mpaa_rating[T.R]</th>\n",
       "      <td>-2.150755e+07</td>\n",
       "    </tr>\n",
       "    <tr>\n",
       "      <th>mpaa_rating[T.Unrated]</th>\n",
       "      <td>-4.061605e+07</td>\n",
       "    </tr>\n",
       "  </tbody>\n",
       "</table>\n",
       "<p>78 rows × 1 columns</p>\n",
       "</div>"
      ],
      "text/plain": [
       "                             Coefficients\n",
       "opening_release             -7.177850e+03\n",
       "opening_we_gross             2.907911e+00\n",
       "runtime                      3.674758e+05\n",
       "imdb_rating                  8.670552e+06\n",
       "final_budget                -1.202438e-02\n",
       "actor_cum_oscar_noms         8.701973e+03\n",
       "actor_cum_oscars            -1.402870e+06\n",
       "actor_cum_dom_roi            8.617249e+05\n",
       "director_cum_oscar_noms      2.426008e+05\n",
       "director_cum_oscars          5.747688e+05\n",
       "director_cum_dom_roi         1.799791e+05\n",
       "producer_cum_oscar_noms     -1.789227e+05\n",
       "producer_cum_oscars          1.051697e+06\n",
       "producer_cum_dom_roi        -1.000440e+05\n",
       "writer_cum_oscar_noms       -2.126109e+05\n",
       "writer_cum_oscars            1.835362e+05\n",
       "writer_cum_dom_roi          -4.634890e+05\n",
       "genre[T.Action / Adventure] -1.307366e+07\n",
       "genre[T.Action / Crime]     -1.557692e+06\n",
       "genre[T.Action Comedy]       3.992726e+06\n",
       "genre[T.Action Drama]        1.723033e+07\n",
       "genre[T.Action Horror]      -7.959394e+06\n",
       "genre[T.Action Thriller]    -3.108072e+06\n",
       "genre[T.Adventure]          -7.828815e+06\n",
       "genre[T.Adventure Comedy]    1.178728e+06\n",
       "genre[T.Animation]           2.976725e+07\n",
       "genre[T.Comedy]              2.781746e+06\n",
       "genre[T.Comedy / Drama]     -4.708011e+06\n",
       "genre[T.Crime]              -1.668318e+07\n",
       "genre[T.Crime Comedy]        5.939681e+05\n",
       "...                                   ...\n",
       "genre[T.Period Adventure]    9.578720e+06\n",
       "genre[T.Period Drama]       -8.542825e+06\n",
       "genre[T.Period Horror]      -2.330485e+07\n",
       "genre[T.Romance]            -1.295831e+07\n",
       "genre[T.Romantic Comedy]     1.736118e+07\n",
       "genre[T.Romantic Thriller]   4.838511e+06\n",
       "genre[T.Sci-Fi]             -5.051643e+06\n",
       "genre[T.Sci-Fi Action]       2.082720e+07\n",
       "genre[T.Sci-Fi Adventure]   -1.329098e+07\n",
       "genre[T.Sci-Fi Comedy]       9.990680e+06\n",
       "genre[T.Sci-Fi Horror]       3.612966e+06\n",
       "genre[T.Sci-Fi Thriller]     4.613357e+06\n",
       "genre[T.Sports Action]       1.363911e+07\n",
       "genre[T.Sports Comedy]      -8.190535e+05\n",
       "genre[T.Sports Drama]       -1.400186e+07\n",
       "genre[T.Thriller]           -5.809452e+06\n",
       "genre[T.Unknown]            -4.372646e+07\n",
       "genre[T.War]                -1.576869e+07\n",
       "genre[T.War Drama]          -8.314055e+06\n",
       "genre[T.War Romance]         7.569568e+06\n",
       "genre[T.Western]             1.499420e+07\n",
       "genre[T.Western Comedy]     -2.966933e+06\n",
       "mpaa_rating[T.GP]           -2.980232e-08\n",
       "mpaa_rating[T.M]             2.067536e-07\n",
       "mpaa_rating[T.M/PG]          7.450581e-09\n",
       "mpaa_rating[T.NC-17]        -3.576382e+07\n",
       "mpaa_rating[T.PG]           -1.069391e+07\n",
       "mpaa_rating[T.PG-13]        -1.853924e+07\n",
       "mpaa_rating[T.R]            -2.150755e+07\n",
       "mpaa_rating[T.Unrated]      -4.061605e+07\n",
       "\n",
       "[78 rows x 1 columns]"
      ]
     },
     "execution_count": 60,
     "metadata": {},
     "output_type": "execute_result"
    }
   ],
   "source": [
    "pd.DataFrame(lr_c4.coef_[0], index=X_c4.columns, columns=['Coefficients'])"
   ]
  },
  {
   "cell_type": "code",
   "execution_count": 62,
   "metadata": {},
   "outputs": [
    {
     "data": {
      "image/png": "[encoded data removed]",
      "text/plain": [
       "<matplotlib.figure.Figure at 0x1a1e0d42b0>"
      ]
     },
     "metadata": {},
     "output_type": "display_data"
    }
   ],
   "source": [
    "df_c4['predictions'] = lr_c4.predict(X_c4)\n",
    "plt.scatter(df_c4['final_budget'], df_c4['dom_gross'], label='actual')\n",
    "plt.scatter(df_c4['final_budget'], df_c4['predictions'], c='g', label='predicted')\n",
    "plt.xlabel('budget')\n",
    "plt.ylabel('domestic gross')\n",
    "plt.legend();"
   ]
  },
  {
   "cell_type": "code",
   "execution_count": 63,
   "metadata": {},
   "outputs": [
    {
     "data": {
      "image/png": "[encoded data removed]",
      "text/plain": [
       "<matplotlib.figure.Figure at 0x1a1e0d40b8>"
      ]
     },
     "metadata": {},
     "output_type": "display_data"
    }
   ],
   "source": [
    "# plot resudials on predicted values\n",
    "df_c4['resids'] = df_c4['dom_gross'] - df_c4['predictions']\n",
    "plt.scatter(df_c4['predictions'], df_c4['resids'])\n",
    "plt.xlabel('predicted gross')\n",
    "plt.ylabel('residuals');"
   ]
  },
  {
   "cell_type": "code",
   "execution_count": 64,
   "metadata": {
    "collapsed": true
   },
   "outputs": [],
   "source": [
    "# this looks better although not perfectly normal."
   ]
  },
  {
   "cell_type": "markdown",
   "metadata": {},
   "source": [
    "## Challenge 5"
   ]
  },
  {
   "cell_type": "code",
   "execution_count": 69,
   "metadata": {},
   "outputs": [
    {
     "name": "stdout",
     "output_type": "stream",
     "text": [
      "Train R2: 0.879388804454\n",
      "Test R2: 0.84036246809\n"
     ]
    }
   ],
   "source": [
    "# split the data\n",
    "X_train, X_test, y_train, y_test = train_test_split(X_c4, y_c4, test_size= 0.25)\n",
    "# fit the model on training data\n",
    "lr_c5 = LinearRegression()\n",
    "lr_c5.fit(X_train, y_train)\n",
    "print(\"Train R2:\", lr_c5.score(X_train, y_train))\n",
    "print(\"Test R2:\", lr_c5.score(X_test, y_test))"
   ]
  },
  {
   "cell_type": "markdown",
   "metadata": {},
   "source": [
    "Looks pretty good"
   ]
  },
  {
   "cell_type": "code",
   "execution_count": 83,
   "metadata": {},
   "outputs": [
    {
     "data": {
      "image/png": "[encoded data removed]",
      "text/plain": [
       "<matplotlib.figure.Figure at 0x1a1fda7780>"
      ]
     },
     "metadata": {},
     "output_type": "display_data"
    }
   ],
   "source": [
    "#plot predictes on test actual\n",
    "test_predict = lr_c5.predict(X_test)\n",
    "plt.scatter(y_test['dom_gross'], test_predict)\n",
    "plt.xlabel('test actual gross')\n",
    "plt.ylabel('test predicted gross');"
   ]
  },
  {
   "cell_type": "markdown",
   "metadata": {},
   "source": [
    "Also, not too bad!"
   ]
  }
 ],
 "metadata": {
  "kernelspec": {
   "display_name": "Python 3",
   "language": "python",
   "name": "python3"
  },
  "language_info": {
   "codemirror_mode": {
    "name": "ipython",
    "version": 3
   },
   "file_extension": ".py",
   "mimetype": "text/x-python",
   "name": "python",
   "nbconvert_exporter": "python",
   "pygments_lexer": "ipython3",
   "version": "3.6.3"
  }
 },
 "nbformat": 4,
 "nbformat_minor": 2
}
