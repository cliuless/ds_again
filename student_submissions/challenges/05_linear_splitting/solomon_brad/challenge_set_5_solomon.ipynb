{
 "cells": [
  {
   "cell_type": "markdown",
   "metadata": {},
   "source": [
    "# Challenge 1"
   ]
  },
  {
   "cell_type": "markdown",
   "metadata": {},
   "source": [
    "Read in the `2013_movies.csv` data set, parsing dates to `datetime64` and explicitly passing a date parsing callable:"
   ]
  },
  {
   "cell_type": "code",
   "execution_count": 1,
   "metadata": {
    "collapsed": true
   },
   "outputs": [],
   "source": [
    "import matplotlib.pyplot as plt\n",
    "import pandas as pd\n",
    "%matplotlib inline\n",
    "\n",
    "dtypes = {'Rating': 'category'}\n",
    "\n",
    "# NOTE: this token may change\n",
    "path = ('https://raw.githubusercontent.com/thisismetis/nyc18_ds14/master/'\n",
    "        'challenges/challenges_data/2013_movies.csv?'\n",
    "        'token=AX_7hAm1CevQTTc4G0GsaCUTsjh9T7qQks5ac2VGwA%3D%3D')\n",
    "\n",
    "df = pd.read_csv(path, dtype=dtypes, parse_dates=['ReleaseDate'], \n",
    "                 date_parser=lambda dt: pd.datetime.strptime(dt, '%Y-%m-%d %H:%M:%S'))\n",
    "df.columns = df.columns.str.lower()"
   ]
  },
  {
   "cell_type": "code",
   "execution_count": 2,
   "metadata": {
    "scrolled": true
   },
   "outputs": [
    {
     "data": {
      "text/html": [
       "<div>\n",
       "<style>\n",
       "    .dataframe thead tr:only-child th {\n",
       "        text-align: right;\n",
       "    }\n",
       "\n",
       "    .dataframe thead th {\n",
       "        text-align: left;\n",
       "    }\n",
       "\n",
       "    .dataframe tbody tr th {\n",
       "        vertical-align: top;\n",
       "    }\n",
       "</style>\n",
       "<table border=\"1\" class=\"dataframe\">\n",
       "  <thead>\n",
       "    <tr style=\"text-align: right;\">\n",
       "      <th></th>\n",
       "      <th>title</th>\n",
       "      <th>budget</th>\n",
       "      <th>domestictotalgross</th>\n",
       "      <th>director</th>\n",
       "      <th>rating</th>\n",
       "      <th>runtime</th>\n",
       "      <th>releasedate</th>\n",
       "    </tr>\n",
       "  </thead>\n",
       "  <tbody>\n",
       "    <tr>\n",
       "      <th>0</th>\n",
       "      <td>The Hunger Games...</td>\n",
       "      <td>1.3000e+08</td>\n",
       "      <td>424668047</td>\n",
       "      <td>Francis Lawrence</td>\n",
       "      <td>PG-13</td>\n",
       "      <td>146</td>\n",
       "      <td>2013-11-22</td>\n",
       "    </tr>\n",
       "    <tr>\n",
       "      <th>1</th>\n",
       "      <td>Iron Man 3</td>\n",
       "      <td>2.0000e+08</td>\n",
       "      <td>409013994</td>\n",
       "      <td>Shane Black</td>\n",
       "      <td>PG-13</td>\n",
       "      <td>129</td>\n",
       "      <td>2013-05-03</td>\n",
       "    </tr>\n",
       "    <tr>\n",
       "      <th>2</th>\n",
       "      <td>Frozen</td>\n",
       "      <td>1.5000e+08</td>\n",
       "      <td>400738009</td>\n",
       "      <td>Chris BuckJennif...</td>\n",
       "      <td>PG</td>\n",
       "      <td>108</td>\n",
       "      <td>2013-11-22</td>\n",
       "    </tr>\n",
       "  </tbody>\n",
       "</table>\n",
       "</div>"
      ],
      "text/plain": [
       "                 title      budget  domestictotalgross             director rating  runtime releasedate\n",
       "0  The Hunger Games...  1.3000e+08           424668047     Francis Lawrence  PG-13      146  2013-11-22\n",
       "1           Iron Man 3  2.0000e+08           409013994          Shane Black  PG-13      129  2013-05-03\n",
       "2               Frozen  1.5000e+08           400738009  Chris BuckJennif...     PG      108  2013-11-22"
      ]
     },
     "execution_count": 2,
     "metadata": {},
     "output_type": "execute_result"
    }
   ],
   "source": [
    "df.head(3)"
   ]
  },
  {
   "cell_type": "markdown",
   "metadata": {},
   "source": [
    "Before doing any statistiacl modelling, let's first clean up `director`, which sometimes consists of multiple directors with their names \"smushed\" together.  For example, we currently have entires like:"
   ]
  },
  {
   "cell_type": "code",
   "execution_count": 3,
   "metadata": {},
   "outputs": [
    {
     "data": {
      "text/plain": [
       "'Chris BuckJennifer Lee'"
      ]
     },
     "execution_count": 3,
     "metadata": {},
     "output_type": "execute_result"
    }
   ],
   "source": [
    "df['director'].iloc[2]"
   ]
  },
  {
   "cell_type": "markdown",
   "metadata": {},
   "source": [
    "_However_, we want to be careful _not_ to catch cases like: \"Chris DeLong\" (and accidentally split this to \"Chris De\" / \"Long.\"\n",
    "\n",
    "The following regex is [not absolutely foolproof](http://answers.google.com/answers/threadview/id/711284.html) but should get us 99% of the way there.  It looks for \"lU\" patterns where \"l\" is a lowercase letter, \"U\" is an uppercase letter and the two together are not preceded by \"De,\" \"Le,\", \"Da,\", \"Mac,\", \"Mc,\", or \"Van.\""
   ]
  },
  {
   "cell_type": "code",
   "execution_count": 4,
   "metadata": {
    "collapsed": true
   },
   "outputs": [],
   "source": [
    "import re\n",
    "\n",
    "splitter = re.compile('[^(De|Le|Da|Mac|Mc|Van)](?P<lower>[a-z])(?P<upper>[A-Z])')\n",
    "df['director'] = df['director'].str.replace(splitter, r'\\g<lower>; \\g<upper>')"
   ]
  },
  {
   "cell_type": "markdown",
   "metadata": {},
   "source": [
    "And from this let's get the number of directors (assuming that names don't naturally contain semicolons):"
   ]
  },
  {
   "cell_type": "code",
   "execution_count": 5,
   "metadata": {
    "collapsed": true
   },
   "outputs": [],
   "source": [
    "df['num_directors'] = df['director'].str.count(';').add(1)"
   ]
  },
  {
   "cell_type": "markdown",
   "metadata": {},
   "source": [
    "At first glance we do have some missing data at various spots:"
   ]
  },
  {
   "cell_type": "code",
   "execution_count": 6,
   "metadata": {},
   "outputs": [
    {
     "data": {
      "text/html": [
       "<div>\n",
       "<style>\n",
       "    .dataframe thead tr:only-child th {\n",
       "        text-align: right;\n",
       "    }\n",
       "\n",
       "    .dataframe thead th {\n",
       "        text-align: left;\n",
       "    }\n",
       "\n",
       "    .dataframe tbody tr th {\n",
       "        vertical-align: top;\n",
       "    }\n",
       "</style>\n",
       "<table border=\"1\" class=\"dataframe\">\n",
       "  <thead>\n",
       "    <tr style=\"text-align: right;\">\n",
       "      <th></th>\n",
       "      <th>title</th>\n",
       "      <th>budget</th>\n",
       "      <th>domestictotalgross</th>\n",
       "      <th>director</th>\n",
       "      <th>rating</th>\n",
       "      <th>runtime</th>\n",
       "      <th>releasedate</th>\n",
       "      <th>num_directors</th>\n",
       "    </tr>\n",
       "  </thead>\n",
       "  <tbody>\n",
       "    <tr>\n",
       "      <th>25</th>\n",
       "      <td>Cloudy with a Ch...</td>\n",
       "      <td>7.8000e+07</td>\n",
       "      <td>119793567</td>\n",
       "      <td>NaN</td>\n",
       "      <td>PG</td>\n",
       "      <td>95</td>\n",
       "      <td>2013-09-27</td>\n",
       "      <td>NaN</td>\n",
       "    </tr>\n",
       "    <tr>\n",
       "      <th>71</th>\n",
       "      <td>Jurassic Park 3D</td>\n",
       "      <td>1.0000e+07</td>\n",
       "      <td>45385935</td>\n",
       "      <td>NaN</td>\n",
       "      <td>PG-13</td>\n",
       "      <td>127</td>\n",
       "      <td>2013-04-05</td>\n",
       "      <td>NaN</td>\n",
       "    </tr>\n",
       "    <tr>\n",
       "      <th>73</th>\n",
       "      <td>Instructions Not...</td>\n",
       "      <td>NaN</td>\n",
       "      <td>44467206</td>\n",
       "      <td>NaN</td>\n",
       "      <td>PG-13</td>\n",
       "      <td>115</td>\n",
       "      <td>2013-08-30</td>\n",
       "      <td>NaN</td>\n",
       "    </tr>\n",
       "  </tbody>\n",
       "</table>\n",
       "</div>"
      ],
      "text/plain": [
       "                  title      budget  domestictotalgross director rating  runtime releasedate  num_directors\n",
       "25  Cloudy with a Ch...  7.8000e+07           119793567      NaN     PG       95  2013-09-27            NaN\n",
       "71     Jurassic Park 3D  1.0000e+07            45385935      NaN  PG-13      127  2013-04-05            NaN\n",
       "73  Instructions Not...         NaN            44467206      NaN  PG-13      115  2013-08-30            NaN"
      ]
     },
     "execution_count": 6,
     "metadata": {},
     "output_type": "execute_result"
    }
   ],
   "source": [
    "df[df['num_directors'].isnull()].head(3)"
   ]
  },
  {
   "cell_type": "markdown",
   "metadata": {},
   "source": [
    "Upfront, let's also \"dummify\" `rating` and bin (discretize) `runtime` into quintiles, then encode the quintiles:"
   ]
  },
  {
   "cell_type": "code",
   "execution_count": 7,
   "metadata": {
    "collapsed": true
   },
   "outputs": [],
   "source": [
    "df = pd.get_dummies(df, columns=['rating'], prefix='rtg', drop_first=True)"
   ]
  },
  {
   "cell_type": "code",
   "execution_count": 8,
   "metadata": {
    "collapsed": true
   },
   "outputs": [],
   "source": [
    "df['runtime_bin'] = pd.qcut(df['runtime'], q=5, labels=range(1,6))\n",
    "df = pd.get_dummies(df, columns=['runtime_bin'], drop_first=True)"
   ]
  },
  {
   "cell_type": "markdown",
   "metadata": {},
   "source": [
    "Lastly let's upsample `releasedate` to create new fields that may help detect seasonality trends:"
   ]
  },
  {
   "cell_type": "code",
   "execution_count": 9,
   "metadata": {
    "collapsed": true
   },
   "outputs": [],
   "source": [
    "df['quarter'] = df['releasedate'].dt.quarter\n",
    "df = pd.get_dummies(df, columns=['quarter'], drop_first=True)"
   ]
  },
  {
   "cell_type": "code",
   "execution_count": 10,
   "metadata": {},
   "outputs": [
    {
     "data": {
      "text/html": [
       "<div>\n",
       "<style>\n",
       "    .dataframe thead tr:only-child th {\n",
       "        text-align: right;\n",
       "    }\n",
       "\n",
       "    .dataframe thead th {\n",
       "        text-align: left;\n",
       "    }\n",
       "\n",
       "    .dataframe tbody tr th {\n",
       "        vertical-align: top;\n",
       "    }\n",
       "</style>\n",
       "<table border=\"1\" class=\"dataframe\">\n",
       "  <thead>\n",
       "    <tr style=\"text-align: right;\">\n",
       "      <th></th>\n",
       "      <th>title</th>\n",
       "      <th>budget</th>\n",
       "      <th>domestictotalgross</th>\n",
       "      <th>director</th>\n",
       "      <th>runtime</th>\n",
       "      <th>releasedate</th>\n",
       "      <th>num_directors</th>\n",
       "      <th>rtg_PG</th>\n",
       "      <th>rtg_PG-13</th>\n",
       "      <th>rtg_R</th>\n",
       "      <th>runtime_bin_2</th>\n",
       "      <th>runtime_bin_3</th>\n",
       "    </tr>\n",
       "  </thead>\n",
       "  <tbody>\n",
       "    <tr>\n",
       "      <th>0</th>\n",
       "      <td>The Hunger Games...</td>\n",
       "      <td>1.3000e+08</td>\n",
       "      <td>424668047</td>\n",
       "      <td>Francis Lawrence</td>\n",
       "      <td>146</td>\n",
       "      <td>2013-11-22</td>\n",
       "      <td>1.0</td>\n",
       "      <td>0</td>\n",
       "      <td>1</td>\n",
       "      <td>0</td>\n",
       "      <td>0</td>\n",
       "      <td>0</td>\n",
       "    </tr>\n",
       "    <tr>\n",
       "      <th>1</th>\n",
       "      <td>Iron Man 3</td>\n",
       "      <td>2.0000e+08</td>\n",
       "      <td>409013994</td>\n",
       "      <td>Shane Black</td>\n",
       "      <td>129</td>\n",
       "      <td>2013-05-03</td>\n",
       "      <td>1.0</td>\n",
       "      <td>0</td>\n",
       "      <td>1</td>\n",
       "      <td>0</td>\n",
       "      <td>0</td>\n",
       "      <td>0</td>\n",
       "    </tr>\n",
       "    <tr>\n",
       "      <th>2</th>\n",
       "      <td>Frozen</td>\n",
       "      <td>1.5000e+08</td>\n",
       "      <td>400738009</td>\n",
       "      <td>Chris BuckJennif...</td>\n",
       "      <td>108</td>\n",
       "      <td>2013-11-22</td>\n",
       "      <td>1.0</td>\n",
       "      <td>1</td>\n",
       "      <td>0</td>\n",
       "      <td>0</td>\n",
       "      <td>0</td>\n",
       "      <td>1</td>\n",
       "    </tr>\n",
       "  </tbody>\n",
       "</table>\n",
       "</div>"
      ],
      "text/plain": [
       "                 title      budget  domestictotalgross             director  runtime releasedate  num_directors  rtg_PG  rtg_PG-13  rtg_R  runtime_bin_2  runtime_bin_3\n",
       "0  The Hunger Games...  1.3000e+08           424668047     Francis Lawrence      146  2013-11-22            1.0       0          1      0              0              0\n",
       "1           Iron Man 3  2.0000e+08           409013994          Shane Black      129  2013-05-03            1.0       0          1      0              0              0\n",
       "2               Frozen  1.5000e+08           400738009  Chris BuckJennif...      108  2013-11-22            1.0       1          0      0              0              1"
      ]
     },
     "execution_count": 10,
     "metadata": {},
     "output_type": "execute_result"
    }
   ],
   "source": [
    "df.iloc[:3, :12]"
   ]
  },
  {
   "cell_type": "markdown",
   "metadata": {},
   "source": [
    "Finally let's drop invalid data:"
   ]
  },
  {
   "cell_type": "code",
   "execution_count": 11,
   "metadata": {},
   "outputs": [
    {
     "name": "stdout",
     "output_type": "stream",
     "text": [
      "Dropped 13 of 100 total samples.\n"
     ]
    }
   ],
   "source": [
    "n = len(df)\n",
    "df.dropna(inplace=True)\n",
    "print('Dropped {} of {} total samples.'.format(n - len(df), n))"
   ]
  },
  {
   "cell_type": "markdown",
   "metadata": {},
   "source": [
    "<font color=\"blue\"> Build a linear model that uses only a constant term (a column of ones) to predict a continuous outcome (like `domestic total gross`). </font>"
   ]
  },
  {
   "cell_type": "code",
   "execution_count": 12,
   "metadata": {
    "collapsed": true
   },
   "outputs": [],
   "source": [
    "from statsmodels.tools import add_constant\n",
    "from statsmodels.regression.linear_model import OLS\n",
    "\n",
    "df = add_constant(df)\n",
    "model = OLS(endog=df['domestictotalgross'], exog=df['const']).fit()"
   ]
  },
  {
   "cell_type": "markdown",
   "metadata": {},
   "source": [
    "<font color=\"blue\"> How can you interpret the results of this model? What does it predict? Make a plot of predictions against actual outcome. Make a histogram of residuals. How are the residuals distributed? </font>\n",
    "\n",
    "Our only coefficient, $\\beta_0$, is equal to the mean of $y$ (the endogenous variable) in this case.\n",
    "\n",
    "In the matrix formulation of multiple regression we have:\n",
    "\n",
    "$$y = \\beta_0 + \\beta_1X_1 + ... + \\beta_nX_n$$\n",
    "\n",
    "But implicitly, $\\beta_0$ is multiplied by a **column vector of ones:**\n",
    "\n",
    "$$y = \\beta_0 1 + \\beta_1X_1 + ... + \\beta_nX_n$$"
   ]
  },
  {
   "cell_type": "code",
   "execution_count": 13,
   "metadata": {},
   "outputs": [
    {
     "data": {
      "text/plain": [
       "True"
      ]
     },
     "execution_count": 13,
     "metadata": {},
     "output_type": "execute_result"
    }
   ],
   "source": [
    "np.allclose(model.params.iat[0], df['domestictotalgross'].mean())"
   ]
  },
  {
   "cell_type": "markdown",
   "metadata": {},
   "source": [
    "In other words, the intercept $\\beta_0$ is the mathematical expectation of $Y$ if all other terms in the design matrix $X$ are zero.  Similarly, the unconditioned expectation of $Y$ is its mean."
   ]
  },
  {
   "cell_type": "markdown",
   "metadata": {},
   "source": [
    "<font color=\"blue\"> Make a plot of predictions against actual outcome. Make a histogram of residuals. How are the residuals distributed? </font>"
   ]
  },
  {
   "cell_type": "markdown",
   "metadata": {},
   "source": [
    "The residuals are skewed right, exactly like the endogenous vector."
   ]
  },
  {
   "cell_type": "code",
   "execution_count": 14,
   "metadata": {},
   "outputs": [
    {
     "data": {
      "image/png": "[encoded data removed]",
      "text/plain": [
       "<matplotlib.figure.Figure at 0x1a0ecea278>"
      ]
     },
     "metadata": {},
     "output_type": "display_data"
    }
   ],
   "source": [
    "pred = model.predict(df['const'])\n",
    "fig, (ax1, ax2, ax3) = plt.subplots(3, 1, figsize=(15,12))\n",
    "ax1.plot(pred, linestyle='')\n",
    "ax1.plot(df['domestictotalgross'], linestyle='')\n",
    "ax1.legend(['Predicted', 'Actual'])\n",
    "ax1.set_ylabel('Total Gross ($)')\n",
    "ax2.hist(model.resid, bins=30)\n",
    "ax2.set_title('Histogram: model residuals')\n",
    "ax2.set_ylabel('Number of occurences')\n",
    "ax3.hist(df['domestictotalgross'], bins=30, color='darkred')\n",
    "ax3.set_title('Histogram: response variable (total gross)')\n",
    "ax3.set_ylabel('Number of occurences')\n",
    "fig.tight_layout(pad=0.4, w_pad=0.5, h_pad=1.0);"
   ]
  },
  {
   "cell_type": "markdown",
   "metadata": {},
   "source": [
    "# Challenge 2"
   ]
  },
  {
   "cell_type": "markdown",
   "metadata": {},
   "source": [
    "<font color=\"blue\"> Repeat the process of challenge one, but also add one continuous (numeric) predictor variable. Also add plots of model prediction against your feature variable and residuals against feature variable. How can you interpret what's happening in the model? </font>"
   ]
  },
  {
   "cell_type": "code",
   "execution_count": 15,
   "metadata": {
    "collapsed": true
   },
   "outputs": [],
   "source": [
    "x = df[['const', 'budget']]\n",
    "model = OLS(endog=df['domestictotalgross'], exog=x).fit()"
   ]
  },
  {
   "cell_type": "code",
   "execution_count": 16,
   "metadata": {},
   "outputs": [
    {
     "name": "stdout",
     "output_type": "stream",
     "text": [
      "                            OLS Regression Results                            \n",
      "==============================================================================\n",
      "Dep. Variable:     domestictotalgross   R-squared:                       0.282\n",
      "Model:                            OLS   Adj. R-squared:                  0.274\n",
      "Method:                 Least Squares   F-statistic:                     33.43\n",
      "Date:                Thu, 25 Jan 2018   Prob (F-statistic):           1.19e-07\n",
      "Time:                        16:22:59   Log-Likelihood:                -1700.0\n",
      "No. Observations:                  87   AIC:                             3404.\n",
      "Df Residuals:                      85   BIC:                             3409.\n",
      "Df Model:                           1                                         \n",
      "Covariance Type:            nonrobust                                         \n",
      "==============================================================================\n",
      "                 coef    std err          t      P>|t|      [0.025      0.975]\n",
      "------------------------------------------------------------------------------\n",
      "const       4.443e+07    1.3e+07      3.418      0.001    1.86e+07    7.03e+07\n",
      "budget         0.7831      0.135      5.782      0.000       0.514       1.052\n",
      "==============================================================================\n",
      "Omnibus:                       38.475   Durbin-Watson:                   0.666\n",
      "Prob(Omnibus):                  0.000   Jarque-Bera (JB):               92.671\n",
      "Skew:                           1.577   Prob(JB):                     7.53e-21\n",
      "Kurtosis:                       6.952   Cond. No.                     1.55e+08\n",
      "==============================================================================\n",
      "\n",
      "Warnings:\n",
      "[1] Standard Errors assume that the covariance matrix of the errors is correctly specified.\n",
      "[2] The condition number is large, 1.55e+08. This might indicate that there are\n",
      "strong multicollinearity or other numerical problems.\n"
     ]
    }
   ],
   "source": [
    "print(model.summary())"
   ]
  },
  {
   "cell_type": "markdown",
   "metadata": {},
   "source": [
    "We can draw a number of immediate conclusions:\n",
    "\n",
    "- Both the intercept & first coefficient are significant at the 1% level.\n",
    "- The `budget` coefficient of 0.7846 implies that there is a \\$0.78 return for each incremental dollar spent.\n",
    "- The model's expalanatory power is okay but certainly not great at $R^2 = 0.286$."
   ]
  },
  {
   "cell_type": "code",
   "execution_count": 17,
   "metadata": {},
   "outputs": [
    {
     "data": {
      "image/png": "[encoded data removed]",
      "text/plain": [
       "<matplotlib.figure.Figure at 0x1a177af1d0>"
      ]
     },
     "metadata": {},
     "output_type": "display_data"
    }
   ],
   "source": [
    "import seaborn as sns\n",
    "\n",
    "fig, (ax1, ax2) = plt.subplots(1, 2, figsize=(16, 6), sharex=True)\n",
    "sns.regplot(x=df['budget'], y=df['domestictotalgross'], ax=ax1)\n",
    "ax2.scatter(x=df['budget'], y=model.resid)\n",
    "ax2.set_xlabel('budget')\n",
    "ax2.set_ylabel('residual')\n",
    "fig.suptitle('Predictions & Model Residuals versus Budget (Linear Fit)', fontsize=14);"
   ]
  },
  {
   "cell_type": "markdown",
   "metadata": {},
   "source": [
    "Another observation follows: the variance of residuals increases as budget increases.  One reason is that a linear fit seems to be suboptimal; taking the logarithm of `budget` might work better here, as `domestictotalgross` itself is heteroskedastic."
   ]
  },
  {
   "cell_type": "code",
   "execution_count": 18,
   "metadata": {},
   "outputs": [
    {
     "name": "stderr",
     "output_type": "stream",
     "text": [
      "/Applications/anaconda3/lib/python3.6/site-packages/seaborn/regression.py:277: RuntimeWarning: invalid value encountered in log\n",
      "  grid = np.c_[np.ones(len(grid)), np.log(grid)]\n"
     ]
    },
    {
     "data": {
      "image/png": "[encoded data removed]",
      "text/plain": [
       "<matplotlib.figure.Figure at 0x1a17a394e0>"
      ]
     },
     "metadata": {},
     "output_type": "display_data"
    }
   ],
   "source": [
    "fig, (ax1, ax2) = plt.subplots(1, 2, figsize=(16, 6), sharex=True)\n",
    "sns.regplot(x=df['budget'], y=df['domestictotalgross'], ax=ax1, logx=True)\n",
    "ax2.scatter(x=df['budget'], y=model.resid)\n",
    "ax2.set_xlabel('budget')\n",
    "ax2.set_ylabel('residual')\n",
    "fig.suptitle('Predictions & Model Residuals versus Budget (Log Model)', fontsize=14);"
   ]
  },
  {
   "cell_type": "markdown",
   "metadata": {},
   "source": [
    "**Bonus**: here's a nonparametric [lowess model](https://en.wikipedia.org/wiki/Local_regression) (locally weighted linear regression):"
   ]
  },
  {
   "cell_type": "code",
   "execution_count": 19,
   "metadata": {},
   "outputs": [
    {
     "data": {
      "image/png": "[encoded data removed]",
      "text/plain": [
       "<matplotlib.figure.Figure at 0x1a17dfc4a8>"
      ]
     },
     "metadata": {},
     "output_type": "display_data"
    }
   ],
   "source": [
    "fig, (ax1, ax2) = plt.subplots(1, 2, figsize=(16, 6), sharex=True)\n",
    "sns.regplot(x=df['budget'], y=df['domestictotalgross'], ax=ax1, lowess=True)\n",
    "ax2.scatter(x=df['budget'], y=model.resid)\n",
    "ax2.set_xlabel('budget')\n",
    "ax2.set_ylabel('residual')\n",
    "fig.suptitle('Predictions & Model Residuals versus Budget (Lowess Model)', fontsize=14);"
   ]
  },
  {
   "cell_type": "code",
   "execution_count": 20,
   "metadata": {},
   "outputs": [
    {
     "data": {
      "image/png": "[encoded data removed]",
      "text/plain": [
       "<matplotlib.figure.Figure at 0x1a17eef278>"
      ]
     },
     "metadata": {},
     "output_type": "display_data"
    }
   ],
   "source": [
    "pred = model.predict(x)\n",
    "fig, (ax1, ax2, ax3) = plt.subplots(3, 1, figsize=(15,12))\n",
    "ax1.plot(pred, linestyle='')\n",
    "ax1.plot(df['domestictotalgross'], linestyle='')\n",
    "ax1.legend(['Predicted', 'Actual'])\n",
    "ax1.set_ylabel('Total Gross ($)')\n",
    "ax2.hist(model.resid, bins=25)\n",
    "ax2.set_title('Histogram: model residuals')\n",
    "ax2.set_ylabel('Number of occurences')\n",
    "ax3.hist(df['domestictotalgross'], bins=25, color='darkred')\n",
    "ax3.set_title('Histogram: response variable (total gross)')\n",
    "ax3.set_ylabel('Number of occurences')\n",
    "fig.tight_layout(pad=0.4, w_pad=0.5, h_pad=1.0);"
   ]
  },
  {
   "cell_type": "code",
   "execution_count": 21,
   "metadata": {
    "collapsed": true
   },
   "outputs": [],
   "source": [
    "df['budget_sqd'] = df['budget'].pow(2)\n",
    "x = df[['const', 'budget_sqd']]\n",
    "model = OLS(endog=df['domestictotalgross'], exog=x).fit()"
   ]
  },
  {
   "cell_type": "code",
   "execution_count": 22,
   "metadata": {},
   "outputs": [
    {
     "name": "stdout",
     "output_type": "stream",
     "text": [
      "                            OLS Regression Results                            \n",
      "==============================================================================\n",
      "Dep. Variable:     domestictotalgross   R-squared:                      -0.154\n",
      "Model:                            OLS   Adj. R-squared:                 -0.154\n",
      "Method:                 Least Squares   F-statistic:                      -inf\n",
      "Date:                Thu, 25 Jan 2018   Prob (F-statistic):                nan\n",
      "Time:                        16:23:10   Log-Likelihood:                -1720.6\n",
      "No. Observations:                  87   AIC:                             3443.\n",
      "Df Residuals:                      86   BIC:                             3446.\n",
      "Df Model:                           0                                         \n",
      "Covariance Type:            nonrobust                                         \n",
      "==============================================================================\n",
      "                 coef    std err          t      P>|t|      [0.025      0.975]\n",
      "------------------------------------------------------------------------------\n",
      "const       2.402e-25   2.49e-26      9.636      0.000    1.91e-25     2.9e-25\n",
      "budget_sqd  6.287e-09   6.52e-10      9.636      0.000    4.99e-09    7.58e-09\n",
      "==============================================================================\n",
      "Omnibus:                       14.653   Durbin-Watson:                   1.120\n",
      "Prob(Omnibus):                  0.001   Jarque-Bera (JB):               41.017\n",
      "Skew:                           0.403   Prob(JB):                     1.24e-09\n",
      "Kurtosis:                       6.266   Cond. No.                     1.93e+16\n",
      "==============================================================================\n",
      "\n",
      "Warnings:\n",
      "[1] Standard Errors assume that the covariance matrix of the errors is correctly specified.\n",
      "[2] The condition number is large, 1.93e+16. This might indicate that there are\n",
      "strong multicollinearity or other numerical problems.\n"
     ]
    },
    {
     "name": "stderr",
     "output_type": "stream",
     "text": [
      "/Applications/anaconda3/lib/python3.6/site-packages/statsmodels/regression/linear_model.py:1396: RuntimeWarning: divide by zero encountered in double_scalars\n",
      "  return self.ess/self.df_model\n"
     ]
    }
   ],
   "source": [
    "print(model.summary())"
   ]
  },
  {
   "cell_type": "code",
   "execution_count": 23,
   "metadata": {},
   "outputs": [
    {
     "data": {
      "text/plain": [
       "0.28247354426595661"
      ]
     },
     "execution_count": 23,
     "metadata": {},
     "output_type": "execute_result"
    }
   ],
   "source": [
    "from sklearn.linear_model import LinearRegression\n",
    "from sklearn.preprocessing import PolynomialFeatures\n",
    "from sklearn.pipeline import make_pipeline\n",
    "\n",
    "x = df[['const', 'budget']]\n",
    "y=df['domestictotalgross']\n",
    "\n",
    "pipeline = make_pipeline(PolynomialFeatures(2), LinearRegression())\n",
    "pipeline.fit(X=x, y=y)\n",
    "pipeline.score(x, y)"
   ]
  },
  {
   "cell_type": "markdown",
   "metadata": {},
   "source": [
    "# Challenge 3"
   ]
  },
  {
   "cell_type": "markdown",
   "metadata": {},
   "source": [
    "<font color=\"blue\"> Repeat the process of challenge 1, but add a categorical feature (like genre). You'll have to convert a column of text into a number of numerical columns (\"dummy variables\"). How can you interpret what's happening in the model? </font>"
   ]
  },
  {
   "cell_type": "code",
   "execution_count": 24,
   "metadata": {
    "collapsed": true
   },
   "outputs": [],
   "source": [
    "df2 = df.filter(regex='(domestictotalgross|budget|rating)').dropna()"
   ]
  },
  {
   "cell_type": "code",
   "execution_count": 25,
   "metadata": {},
   "outputs": [
    {
     "name": "stdout",
     "output_type": "stream",
     "text": [
      "                            OLS Regression Results                            \n",
      "==============================================================================\n",
      "Dep. Variable:     domestictotalgross   R-squared:                       0.233\n",
      "Model:                            OLS   Adj. R-squared:                  0.224\n",
      "Method:                 Least Squares   F-statistic:                     25.86\n",
      "Date:                Thu, 25 Jan 2018   Prob (F-statistic):           2.16e-06\n",
      "Time:                        15:12:35   Log-Likelihood:                -1702.8\n",
      "No. Observations:                  87   AIC:                             3410.\n",
      "Df Residuals:                      85   BIC:                             3415.\n",
      "Df Model:                           1                                         \n",
      "Covariance Type:            nonrobust                                         \n",
      "==============================================================================\n",
      "                 coef    std err          t      P>|t|      [0.025      0.975]\n",
      "------------------------------------------------------------------------------\n",
      "const       3.791e-08   5.78e-09      6.555      0.000    2.64e-08    4.94e-08\n",
      "budget         1.7321      0.264      6.555      0.000       1.207       2.257\n",
      "budget_sqd -3.829e-09   1.63e-09     -2.344      0.021   -7.08e-09   -5.81e-10\n",
      "==============================================================================\n",
      "Omnibus:                       21.660   Durbin-Watson:                   1.007\n",
      "Prob(Omnibus):                  0.000   Jarque-Bera (JB):               33.631\n",
      "Skew:                           1.041   Prob(JB):                     4.98e-08\n",
      "Kurtosis:                       5.223   Cond. No.                     3.72e+16\n",
      "==============================================================================\n",
      "\n",
      "Warnings:\n",
      "[1] Standard Errors assume that the covariance matrix of the errors is correctly specified.\n",
      "[2] The condition number is large, 3.72e+16. This might indicate that there are\n",
      "strong multicollinearity or other numerical problems.\n"
     ]
    }
   ],
   "source": [
    "x = add_constant(df2.filter(regex='budget|rating'))\n",
    "model = OLS(endog=df2['domestictotalgross'], exog=x).fit()\n",
    "print(model.summary())"
   ]
  },
  {
   "cell_type": "markdown",
   "metadata": {},
   "source": [
    "# Challenge 4"
   ]
  },
  {
   "cell_type": "markdown",
   "metadata": {},
   "source": [
    "**Enhance your model further by adding more features and/or transforming existing features. Think about how you build the model matrix and how to interpret what the model is doing.**\n",
    "\n",
    "We added a number of derived features in Challenge 1:"
   ]
  },
  {
   "cell_type": "code",
   "execution_count": 24,
   "metadata": {},
   "outputs": [
    {
     "data": {
      "text/plain": [
       "Index(['const', 'title', 'budget', 'domestictotalgross', 'director', 'runtime',\n",
       "       'releasedate', 'num_directors', 'rtg_PG', 'rtg_PG-13', 'rtg_R',\n",
       "       'runtime_bin_2', 'runtime_bin_3', 'runtime_bin_4', 'runtime_bin_5',\n",
       "       'quarter_2', 'quarter_3', 'quarter_4', 'budget_sqd'],\n",
       "      dtype='object')"
      ]
     },
     "execution_count": 24,
     "metadata": {},
     "output_type": "execute_result"
    }
   ],
   "source": [
    "df.columns"
   ]
  },
  {
   "cell_type": "code",
   "execution_count": 30,
   "metadata": {},
   "outputs": [
    {
     "name": "stdout",
     "output_type": "stream",
     "text": [
      "                            OLS Regression Results                            \n",
      "==============================================================================\n",
      "Dep. Variable:     domestictotalgross   R-squared:                       0.288\n",
      "Model:                            OLS   Adj. R-squared:                  0.279\n",
      "Method:                 Least Squares   F-statistic:                     34.35\n",
      "Date:                Thu, 25 Jan 2018   Prob (F-statistic):           8.51e-08\n",
      "Time:                        16:26:09   Log-Likelihood:                -1699.6\n",
      "No. Observations:                  87   AIC:                             3403.\n",
      "Df Residuals:                      85   BIC:                             3408.\n",
      "Df Model:                           1                                         \n",
      "Covariance Type:            nonrobust                                         \n",
      "=================================================================================\n",
      "                    coef    std err          t      P>|t|      [0.025      0.975]\n",
      "---------------------------------------------------------------------------------\n",
      "const          3618.9513   1415.728      2.556      0.012     804.104    6433.799\n",
      "budget            0.6974      0.478      1.458      0.148      -0.253       1.648\n",
      "runtime        4.351e+05    1.7e+05      2.556      0.012    9.67e+04    7.74e+05\n",
      "num_directors  3544.6409   1386.658      2.556      0.012     787.593    6301.689\n",
      "rtg_PG         -596.9101    233.510     -2.556      0.012   -1061.191    -132.629\n",
      "rtg_PG-13      1149.9144    449.845      2.556      0.012     255.502    2044.326\n",
      "rtg_R          3065.9471   1199.394      2.556      0.012     681.231    5450.663\n",
      "runtime_bin_2  -598.3036    234.055     -2.556      0.012   -1063.669    -132.939\n",
      "runtime_bin_3   486.5804    190.350      2.556      0.012     108.115     865.046\n",
      "runtime_bin_4  1200.4950    469.632      2.556      0.012     266.741    2134.249\n",
      "runtime_bin_5  1358.7700    531.549      2.556      0.012     301.909    2415.631\n",
      "quarter_2       613.0701    239.832      2.556      0.012     136.220    1089.921\n",
      "quarter_3       871.5251    340.939      2.556      0.012     193.646    1549.404\n",
      "quarter_4      1384.0483    541.438      2.556      0.012     307.525    2460.571\n",
      "budget_sqd     1.198e-10   2.21e-09      0.054      0.957   -4.27e-09     4.5e-09\n",
      "==============================================================================\n",
      "Omnibus:                       39.883   Durbin-Watson:                   0.692\n",
      "Prob(Omnibus):                  0.000   Jarque-Bera (JB):               99.232\n",
      "Skew:                           1.624   Prob(JB):                     2.83e-22\n",
      "Kurtosis:                       7.102   Cond. No.                     9.47e+31\n",
      "==============================================================================\n",
      "\n",
      "Warnings:\n",
      "[1] Standard Errors assume that the covariance matrix of the errors is correctly specified.\n",
      "[2] The smallest eigenvalue is 2.34e-30. This might indicate that there are\n",
      "strong multicollinearity problems or that the design matrix is singular.\n"
     ]
    }
   ],
   "source": [
    "x = df.drop(['title', 'domestictotalgross', 'director',\n",
    "             'releasedate'], axis=1)\n",
    "x.to_clipboard()\n",
    "model = OLS(endog=df['domestictotalgross'], exog=x, hasconst=True).fit()\n",
    "print(model.summary())"
   ]
  },
  {
   "cell_type": "code",
   "execution_count": 31,
   "metadata": {},
   "outputs": [
    {
     "data": {
      "text/html": [
       "<div>\n",
       "<style>\n",
       "    .dataframe thead tr:only-child th {\n",
       "        text-align: right;\n",
       "    }\n",
       "\n",
       "    .dataframe thead th {\n",
       "        text-align: left;\n",
       "    }\n",
       "\n",
       "    .dataframe tbody tr th {\n",
       "        vertical-align: top;\n",
       "    }\n",
       "</style>\n",
       "<table border=\"1\" class=\"dataframe\">\n",
       "  <thead>\n",
       "    <tr style=\"text-align: right;\">\n",
       "      <th></th>\n",
       "      <th>budget</th>\n",
       "      <th>runtime</th>\n",
       "      <th>num_directors</th>\n",
       "      <th>rtg_PG</th>\n",
       "      <th>rtg_PG-13</th>\n",
       "      <th>rtg_R</th>\n",
       "      <th>runtime_bin_2</th>\n",
       "      <th>runtime_bin_3</th>\n",
       "      <th>runtime_bin_4</th>\n",
       "      <th>runtime_bin_5</th>\n",
       "      <th>quarter_2</th>\n",
       "      <th>quarter_3</th>\n",
       "      <th>quarter_4</th>\n",
       "      <th>budget_sqd</th>\n",
       "    </tr>\n",
       "  </thead>\n",
       "  <tbody>\n",
       "    <tr>\n",
       "      <th>0</th>\n",
       "      <td>1.3000e+08</td>\n",
       "      <td>146</td>\n",
       "      <td>1.0</td>\n",
       "      <td>0</td>\n",
       "      <td>1</td>\n",
       "      <td>0</td>\n",
       "      <td>0</td>\n",
       "      <td>0</td>\n",
       "      <td>0</td>\n",
       "      <td>1</td>\n",
       "      <td>0</td>\n",
       "      <td>0</td>\n",
       "      <td>1</td>\n",
       "      <td>1.6900e+16</td>\n",
       "    </tr>\n",
       "    <tr>\n",
       "      <th>1</th>\n",
       "      <td>2.0000e+08</td>\n",
       "      <td>129</td>\n",
       "      <td>1.0</td>\n",
       "      <td>0</td>\n",
       "      <td>1</td>\n",
       "      <td>0</td>\n",
       "      <td>0</td>\n",
       "      <td>0</td>\n",
       "      <td>0</td>\n",
       "      <td>1</td>\n",
       "      <td>1</td>\n",
       "      <td>0</td>\n",
       "      <td>0</td>\n",
       "      <td>4.0000e+16</td>\n",
       "    </tr>\n",
       "    <tr>\n",
       "      <th>2</th>\n",
       "      <td>1.5000e+08</td>\n",
       "      <td>108</td>\n",
       "      <td>1.0</td>\n",
       "      <td>1</td>\n",
       "      <td>0</td>\n",
       "      <td>0</td>\n",
       "      <td>0</td>\n",
       "      <td>1</td>\n",
       "      <td>0</td>\n",
       "      <td>0</td>\n",
       "      <td>0</td>\n",
       "      <td>0</td>\n",
       "      <td>1</td>\n",
       "      <td>2.2500e+16</td>\n",
       "    </tr>\n",
       "    <tr>\n",
       "      <th>3</th>\n",
       "      <td>7.6000e+07</td>\n",
       "      <td>98</td>\n",
       "      <td>2.0</td>\n",
       "      <td>1</td>\n",
       "      <td>0</td>\n",
       "      <td>0</td>\n",
       "      <td>1</td>\n",
       "      <td>0</td>\n",
       "      <td>0</td>\n",
       "      <td>0</td>\n",
       "      <td>0</td>\n",
       "      <td>1</td>\n",
       "      <td>0</td>\n",
       "      <td>5.7760e+15</td>\n",
       "    </tr>\n",
       "    <tr>\n",
       "      <th>4</th>\n",
       "      <td>2.2500e+08</td>\n",
       "      <td>143</td>\n",
       "      <td>1.0</td>\n",
       "      <td>0</td>\n",
       "      <td>1</td>\n",
       "      <td>0</td>\n",
       "      <td>0</td>\n",
       "      <td>0</td>\n",
       "      <td>0</td>\n",
       "      <td>1</td>\n",
       "      <td>1</td>\n",
       "      <td>0</td>\n",
       "      <td>0</td>\n",
       "      <td>5.0625e+16</td>\n",
       "    </tr>\n",
       "    <tr>\n",
       "      <th>5</th>\n",
       "      <td>1.0000e+08</td>\n",
       "      <td>91</td>\n",
       "      <td>1.0</td>\n",
       "      <td>0</td>\n",
       "      <td>1</td>\n",
       "      <td>0</td>\n",
       "      <td>0</td>\n",
       "      <td>0</td>\n",
       "      <td>0</td>\n",
       "      <td>0</td>\n",
       "      <td>0</td>\n",
       "      <td>0</td>\n",
       "      <td>1</td>\n",
       "      <td>1.0000e+16</td>\n",
       "    </tr>\n",
       "    <tr>\n",
       "      <th>8</th>\n",
       "      <td>1.6000e+08</td>\n",
       "      <td>130</td>\n",
       "      <td>1.0</td>\n",
       "      <td>0</td>\n",
       "      <td>1</td>\n",
       "      <td>0</td>\n",
       "      <td>0</td>\n",
       "      <td>0</td>\n",
       "      <td>0</td>\n",
       "      <td>1</td>\n",
       "      <td>1</td>\n",
       "      <td>0</td>\n",
       "      <td>0</td>\n",
       "      <td>2.5600e+16</td>\n",
       "    </tr>\n",
       "    <tr>\n",
       "      <th>9</th>\n",
       "      <td>2.1500e+08</td>\n",
       "      <td>127</td>\n",
       "      <td>1.0</td>\n",
       "      <td>1</td>\n",
       "      <td>0</td>\n",
       "      <td>0</td>\n",
       "      <td>0</td>\n",
       "      <td>0</td>\n",
       "      <td>1</td>\n",
       "      <td>0</td>\n",
       "      <td>0</td>\n",
       "      <td>0</td>\n",
       "      <td>0</td>\n",
       "      <td>4.6225e+16</td>\n",
       "    </tr>\n",
       "    <tr>\n",
       "      <th>10</th>\n",
       "      <td>1.9000e+08</td>\n",
       "      <td>123</td>\n",
       "      <td>1.0</td>\n",
       "      <td>0</td>\n",
       "      <td>1</td>\n",
       "      <td>0</td>\n",
       "      <td>0</td>\n",
       "      <td>0</td>\n",
       "      <td>1</td>\n",
       "      <td>0</td>\n",
       "      <td>1</td>\n",
       "      <td>0</td>\n",
       "      <td>0</td>\n",
       "      <td>3.6100e+16</td>\n",
       "    </tr>\n",
       "    <tr>\n",
       "      <th>11</th>\n",
       "      <td>1.7000e+08</td>\n",
       "      <td>120</td>\n",
       "      <td>1.0</td>\n",
       "      <td>0</td>\n",
       "      <td>1</td>\n",
       "      <td>0</td>\n",
       "      <td>0</td>\n",
       "      <td>0</td>\n",
       "      <td>1</td>\n",
       "      <td>0</td>\n",
       "      <td>0</td>\n",
       "      <td>0</td>\n",
       "      <td>1</td>\n",
       "      <td>2.8900e+16</td>\n",
       "    </tr>\n",
       "    <tr>\n",
       "      <th>12</th>\n",
       "      <td>1.9000e+08</td>\n",
       "      <td>116</td>\n",
       "      <td>1.0</td>\n",
       "      <td>0</td>\n",
       "      <td>1</td>\n",
       "      <td>0</td>\n",
       "      <td>0</td>\n",
       "      <td>1</td>\n",
       "      <td>0</td>\n",
       "      <td>0</td>\n",
       "      <td>1</td>\n",
       "      <td>0</td>\n",
       "      <td>0</td>\n",
       "      <td>3.6100e+16</td>\n",
       "    </tr>\n",
       "    <tr>\n",
       "      <th>13</th>\n",
       "      <td>1.3500e+08</td>\n",
       "      <td>98</td>\n",
       "      <td>1.0</td>\n",
       "      <td>1</td>\n",
       "      <td>0</td>\n",
       "      <td>0</td>\n",
       "      <td>1</td>\n",
       "      <td>0</td>\n",
       "      <td>0</td>\n",
       "      <td>0</td>\n",
       "      <td>0</td>\n",
       "      <td>0</td>\n",
       "      <td>0</td>\n",
       "      <td>1.8225e+16</td>\n",
       "    </tr>\n",
       "    <tr>\n",
       "      <th>...</th>\n",
       "      <td>...</td>\n",
       "      <td>...</td>\n",
       "      <td>...</td>\n",
       "      <td>...</td>\n",
       "      <td>...</td>\n",
       "      <td>...</td>\n",
       "      <td>...</td>\n",
       "      <td>...</td>\n",
       "      <td>...</td>\n",
       "      <td>...</td>\n",
       "      <td>...</td>\n",
       "      <td>...</td>\n",
       "      <td>...</td>\n",
       "      <td>...</td>\n",
       "    </tr>\n",
       "    <tr>\n",
       "      <th>88</th>\n",
       "      <td>2.0000e+07</td>\n",
       "      <td>85</td>\n",
       "      <td>1.0</td>\n",
       "      <td>0</td>\n",
       "      <td>1</td>\n",
       "      <td>0</td>\n",
       "      <td>0</td>\n",
       "      <td>0</td>\n",
       "      <td>0</td>\n",
       "      <td>0</td>\n",
       "      <td>1</td>\n",
       "      <td>0</td>\n",
       "      <td>0</td>\n",
       "      <td>4.0000e+14</td>\n",
       "    </tr>\n",
       "    <tr>\n",
       "      <th>89</th>\n",
       "      <td>6.0000e+07</td>\n",
       "      <td>120</td>\n",
       "      <td>1.0</td>\n",
       "      <td>0</td>\n",
       "      <td>1</td>\n",
       "      <td>0</td>\n",
       "      <td>0</td>\n",
       "      <td>0</td>\n",
       "      <td>1</td>\n",
       "      <td>0</td>\n",
       "      <td>0</td>\n",
       "      <td>1</td>\n",
       "      <td>0</td>\n",
       "      <td>3.6000e+15</td>\n",
       "    </tr>\n",
       "    <tr>\n",
       "      <th>90</th>\n",
       "      <td>2.6000e+07</td>\n",
       "      <td>105</td>\n",
       "      <td>1.0</td>\n",
       "      <td>0</td>\n",
       "      <td>1</td>\n",
       "      <td>0</td>\n",
       "      <td>1</td>\n",
       "      <td>0</td>\n",
       "      <td>0</td>\n",
       "      <td>0</td>\n",
       "      <td>0</td>\n",
       "      <td>0</td>\n",
       "      <td>1</td>\n",
       "      <td>6.7600e+14</td>\n",
       "    </tr>\n",
       "    <tr>\n",
       "      <th>91</th>\n",
       "      <td>4.0000e+07</td>\n",
       "      <td>113</td>\n",
       "      <td>1.0</td>\n",
       "      <td>0</td>\n",
       "      <td>1</td>\n",
       "      <td>0</td>\n",
       "      <td>0</td>\n",
       "      <td>1</td>\n",
       "      <td>0</td>\n",
       "      <td>0</td>\n",
       "      <td>0</td>\n",
       "      <td>0</td>\n",
       "      <td>1</td>\n",
       "      <td>1.6000e+15</td>\n",
       "    </tr>\n",
       "    <tr>\n",
       "      <th>92</th>\n",
       "      <td>1.0000e+07</td>\n",
       "      <td>92</td>\n",
       "      <td>1.0</td>\n",
       "      <td>1</td>\n",
       "      <td>0</td>\n",
       "      <td>0</td>\n",
       "      <td>0</td>\n",
       "      <td>0</td>\n",
       "      <td>0</td>\n",
       "      <td>0</td>\n",
       "      <td>0</td>\n",
       "      <td>1</td>\n",
       "      <td>0</td>\n",
       "      <td>1.0000e+14</td>\n",
       "    </tr>\n",
       "    <tr>\n",
       "      <th>93</th>\n",
       "      <td>2.8000e+07</td>\n",
       "      <td>103</td>\n",
       "      <td>1.0</td>\n",
       "      <td>0</td>\n",
       "      <td>0</td>\n",
       "      <td>1</td>\n",
       "      <td>1</td>\n",
       "      <td>0</td>\n",
       "      <td>0</td>\n",
       "      <td>0</td>\n",
       "      <td>0</td>\n",
       "      <td>1</td>\n",
       "      <td>0</td>\n",
       "      <td>7.8400e+14</td>\n",
       "    </tr>\n",
       "    <tr>\n",
       "      <th>94</th>\n",
       "      <td>5.0000e+06</td>\n",
       "      <td>117</td>\n",
       "      <td>1.0</td>\n",
       "      <td>0</td>\n",
       "      <td>0</td>\n",
       "      <td>1</td>\n",
       "      <td>0</td>\n",
       "      <td>0</td>\n",
       "      <td>1</td>\n",
       "      <td>0</td>\n",
       "      <td>0</td>\n",
       "      <td>0</td>\n",
       "      <td>1</td>\n",
       "      <td>2.5000e+13</td>\n",
       "    </tr>\n",
       "    <tr>\n",
       "      <th>95</th>\n",
       "      <td>3.8000e+07</td>\n",
       "      <td>123</td>\n",
       "      <td>1.0</td>\n",
       "      <td>0</td>\n",
       "      <td>0</td>\n",
       "      <td>1</td>\n",
       "      <td>0</td>\n",
       "      <td>0</td>\n",
       "      <td>1</td>\n",
       "      <td>0</td>\n",
       "      <td>0</td>\n",
       "      <td>1</td>\n",
       "      <td>0</td>\n",
       "      <td>1.4440e+15</td>\n",
       "    </tr>\n",
       "    <tr>\n",
       "      <th>96</th>\n",
       "      <td>4.0000e+07</td>\n",
       "      <td>125</td>\n",
       "      <td>1.0</td>\n",
       "      <td>0</td>\n",
       "      <td>1</td>\n",
       "      <td>0</td>\n",
       "      <td>0</td>\n",
       "      <td>0</td>\n",
       "      <td>1</td>\n",
       "      <td>0</td>\n",
       "      <td>0</td>\n",
       "      <td>0</td>\n",
       "      <td>0</td>\n",
       "      <td>1.6000e+15</td>\n",
       "    </tr>\n",
       "    <tr>\n",
       "      <th>97</th>\n",
       "      <td>2.0000e+07</td>\n",
       "      <td>109</td>\n",
       "      <td>1.0</td>\n",
       "      <td>0</td>\n",
       "      <td>0</td>\n",
       "      <td>1</td>\n",
       "      <td>0</td>\n",
       "      <td>1</td>\n",
       "      <td>0</td>\n",
       "      <td>0</td>\n",
       "      <td>0</td>\n",
       "      <td>1</td>\n",
       "      <td>0</td>\n",
       "      <td>4.0000e+14</td>\n",
       "    </tr>\n",
       "    <tr>\n",
       "      <th>98</th>\n",
       "      <td>1.3000e+07</td>\n",
       "      <td>93</td>\n",
       "      <td>1.0</td>\n",
       "      <td>0</td>\n",
       "      <td>0</td>\n",
       "      <td>1</td>\n",
       "      <td>0</td>\n",
       "      <td>0</td>\n",
       "      <td>0</td>\n",
       "      <td>0</td>\n",
       "      <td>0</td>\n",
       "      <td>0</td>\n",
       "      <td>0</td>\n",
       "      <td>1.6900e+14</td>\n",
       "    </tr>\n",
       "    <tr>\n",
       "      <th>99</th>\n",
       "      <td>2.3000e+07</td>\n",
       "      <td>120</td>\n",
       "      <td>1.0</td>\n",
       "      <td>0</td>\n",
       "      <td>0</td>\n",
       "      <td>1</td>\n",
       "      <td>0</td>\n",
       "      <td>0</td>\n",
       "      <td>1</td>\n",
       "      <td>0</td>\n",
       "      <td>0</td>\n",
       "      <td>0</td>\n",
       "      <td>1</td>\n",
       "      <td>5.2900e+14</td>\n",
       "    </tr>\n",
       "  </tbody>\n",
       "</table>\n",
       "</div>"
      ],
      "text/plain": [
       "        budget  runtime  num_directors  rtg_PG  rtg_PG-13  rtg_R  runtime_bin_2  runtime_bin_3  runtime_bin_4  runtime_bin_5  quarter_2  quarter_3  quarter_4  budget_sqd\n",
       "0   1.3000e+08      146            1.0       0          1      0              0              0              0              1          0          0          1  1.6900e+16\n",
       "1   2.0000e+08      129            1.0       0          1      0              0              0              0              1          1          0          0  4.0000e+16\n",
       "2   1.5000e+08      108            1.0       1          0      0              0              1              0              0          0          0          1  2.2500e+16\n",
       "3   7.6000e+07       98            2.0       1          0      0              1              0              0              0          0          1          0  5.7760e+15\n",
       "4   2.2500e+08      143            1.0       0          1      0              0              0              0              1          1          0          0  5.0625e+16\n",
       "5   1.0000e+08       91            1.0       0          1      0              0              0              0              0          0          0          1  1.0000e+16\n",
       "8   1.6000e+08      130            1.0       0          1      0              0              0              0              1          1          0          0  2.5600e+16\n",
       "9   2.1500e+08      127            1.0       1          0      0              0              0              1              0          0          0          0  4.6225e+16\n",
       "10  1.9000e+08      123            1.0       0          1      0              0              0              1              0          1          0          0  3.6100e+16\n",
       "11  1.7000e+08      120            1.0       0          1      0              0              0              1              0          0          0          1  2.8900e+16\n",
       "12  1.9000e+08      116            1.0       0          1      0              0              1              0              0          1          0          0  3.6100e+16\n",
       "13  1.3500e+08       98            1.0       1          0      0              1              0              0              0          0          0          0  1.8225e+16\n",
       "..         ...      ...            ...     ...        ...    ...            ...            ...            ...            ...        ...        ...        ...         ...\n",
       "88  2.0000e+07       85            1.0       0          1      0              0              0              0              0          1          0          0  4.0000e+14\n",
       "89  6.0000e+07      120            1.0       0          1      0              0              0              1              0          0          1          0  3.6000e+15\n",
       "90  2.6000e+07      105            1.0       0          1      0              1              0              0              0          0          0          1  6.7600e+14\n",
       "91  4.0000e+07      113            1.0       0          1      0              0              1              0              0          0          0          1  1.6000e+15\n",
       "92  1.0000e+07       92            1.0       1          0      0              0              0              0              0          0          1          0  1.0000e+14\n",
       "93  2.8000e+07      103            1.0       0          0      1              1              0              0              0          0          1          0  7.8400e+14\n",
       "94  5.0000e+06      117            1.0       0          0      1              0              0              1              0          0          0          1  2.5000e+13\n",
       "95  3.8000e+07      123            1.0       0          0      1              0              0              1              0          0          1          0  1.4440e+15\n",
       "96  4.0000e+07      125            1.0       0          1      0              0              0              1              0          0          0          0  1.6000e+15\n",
       "97  2.0000e+07      109            1.0       0          0      1              0              1              0              0          0          1          0  4.0000e+14\n",
       "98  1.3000e+07       93            1.0       0          0      1              0              0              0              0          0          0          0  1.6900e+14\n",
       "99  2.3000e+07      120            1.0       0          0      1              0              0              1              0          0          0          1  5.2900e+14"
      ]
     },
     "execution_count": 31,
     "metadata": {},
     "output_type": "execute_result"
    }
   ],
   "source": [
    "x.drop('const', axis=1)"
   ]
  },
  {
   "cell_type": "code",
   "execution_count": 33,
   "metadata": {
    "collapsed": true,
    "scrolled": true
   },
   "outputs": [],
   "source": [
    "model2 = LinearRegression().fit(X=x.drop('const', axis=1), y=df['domestictotalgross'])"
   ]
  },
  {
   "cell_type": "code",
   "execution_count": 35,
   "metadata": {},
   "outputs": [
    {
     "data": {
      "text/plain": [
       "6105903.6824644655"
      ]
     },
     "execution_count": 35,
     "metadata": {},
     "output_type": "execute_result"
    }
   ],
   "source": [
    "model2.intercept_"
   ]
  },
  {
   "cell_type": "code",
   "execution_count": 36,
   "metadata": {},
   "outputs": [
    {
     "data": {
      "text/plain": [
       "0.28781386111078311"
      ]
     },
     "execution_count": 36,
     "metadata": {},
     "output_type": "execute_result"
    }
   ],
   "source": [
    "model.rsquared"
   ]
  },
  {
   "cell_type": "code",
   "execution_count": 37,
   "metadata": {},
   "outputs": [
    {
     "data": {
      "text/plain": [
       "0.28780649166856731"
      ]
     },
     "execution_count": 37,
     "metadata": {},
     "output_type": "execute_result"
    }
   ],
   "source": [
    "model2.score(x.drop('const', axis=1), df['domestictotalgross'])"
   ]
  },
  {
   "cell_type": "code",
   "execution_count": 34,
   "metadata": {},
   "outputs": [
    {
     "data": {
      "text/html": [
       "<div>\n",
       "<style>\n",
       "    .dataframe thead tr:only-child th {\n",
       "        text-align: right;\n",
       "    }\n",
       "\n",
       "    .dataframe thead th {\n",
       "        text-align: left;\n",
       "    }\n",
       "\n",
       "    .dataframe tbody tr th {\n",
       "        vertical-align: top;\n",
       "    }\n",
       "</style>\n",
       "<table border=\"1\" class=\"dataframe\">\n",
       "  <thead>\n",
       "    <tr style=\"text-align: right;\">\n",
       "      <th></th>\n",
       "      <th>sklearn</th>\n",
       "      <th>statsmodels</th>\n",
       "    </tr>\n",
       "  </thead>\n",
       "  <tbody>\n",
       "    <tr>\n",
       "      <th>const</th>\n",
       "      <td>6.1059e+06</td>\n",
       "      <td>3.6190e+03</td>\n",
       "    </tr>\n",
       "    <tr>\n",
       "      <th>budget</th>\n",
       "      <td>6.7561e-01</td>\n",
       "      <td>6.9742e-01</td>\n",
       "    </tr>\n",
       "    <tr>\n",
       "      <th>runtime</th>\n",
       "      <td>3.9614e+05</td>\n",
       "      <td>4.3509e+05</td>\n",
       "    </tr>\n",
       "    <tr>\n",
       "      <th>num_directors</th>\n",
       "      <td>-6.7486e+02</td>\n",
       "      <td>3.5446e+03</td>\n",
       "    </tr>\n",
       "    <tr>\n",
       "      <th>rtg_PG</th>\n",
       "      <td>-3.3200e+03</td>\n",
       "      <td>-5.9691e+02</td>\n",
       "    </tr>\n",
       "    <tr>\n",
       "      <th>rtg_PG-13</th>\n",
       "      <td>1.4643e+03</td>\n",
       "      <td>1.1499e+03</td>\n",
       "    </tr>\n",
       "    <tr>\n",
       "      <th>rtg_R</th>\n",
       "      <td>1.8557e+03</td>\n",
       "      <td>3.0659e+03</td>\n",
       "    </tr>\n",
       "    <tr>\n",
       "      <th>runtime_bin_2</th>\n",
       "      <td>-3.5722e+03</td>\n",
       "      <td>-5.9830e+02</td>\n",
       "    </tr>\n",
       "    <tr>\n",
       "      <th>runtime_bin_3</th>\n",
       "      <td>-1.2026e+02</td>\n",
       "      <td>4.8658e+02</td>\n",
       "    </tr>\n",
       "    <tr>\n",
       "      <th>runtime_bin_4</th>\n",
       "      <td>2.7138e+03</td>\n",
       "      <td>1.2005e+03</td>\n",
       "    </tr>\n",
       "    <tr>\n",
       "      <th>runtime_bin_5</th>\n",
       "      <td>6.1399e+03</td>\n",
       "      <td>1.3588e+03</td>\n",
       "    </tr>\n",
       "    <tr>\n",
       "      <th>quarter_2</th>\n",
       "      <td>3.3419e+02</td>\n",
       "      <td>6.1307e+02</td>\n",
       "    </tr>\n",
       "    <tr>\n",
       "      <th>quarter_3</th>\n",
       "      <td>2.3523e+02</td>\n",
       "      <td>8.7153e+02</td>\n",
       "    </tr>\n",
       "    <tr>\n",
       "      <th>quarter_4</th>\n",
       "      <td>1.8166e+03</td>\n",
       "      <td>1.3840e+03</td>\n",
       "    </tr>\n",
       "    <tr>\n",
       "      <th>budget_sqd</th>\n",
       "      <td>2.0009e-10</td>\n",
       "      <td>1.1981e-10</td>\n",
       "    </tr>\n",
       "  </tbody>\n",
       "</table>\n",
       "</div>"
      ],
      "text/plain": [
       "                  sklearn  statsmodels\n",
       "const          6.1059e+06   3.6190e+03\n",
       "budget         6.7561e-01   6.9742e-01\n",
       "runtime        3.9614e+05   4.3509e+05\n",
       "num_directors -6.7486e+02   3.5446e+03\n",
       "rtg_PG        -3.3200e+03  -5.9691e+02\n",
       "rtg_PG-13      1.4643e+03   1.1499e+03\n",
       "rtg_R          1.8557e+03   3.0659e+03\n",
       "runtime_bin_2 -3.5722e+03  -5.9830e+02\n",
       "runtime_bin_3 -1.2026e+02   4.8658e+02\n",
       "runtime_bin_4  2.7138e+03   1.2005e+03\n",
       "runtime_bin_5  6.1399e+03   1.3588e+03\n",
       "quarter_2      3.3419e+02   6.1307e+02\n",
       "quarter_3      2.3523e+02   8.7153e+02\n",
       "quarter_4      1.8166e+03   1.3840e+03\n",
       "budget_sqd     2.0009e-10   1.1981e-10"
      ]
     },
     "execution_count": 34,
     "metadata": {},
     "output_type": "execute_result"
    }
   ],
   "source": [
    "pd.DataFrame({'statsmodels': model.params,\n",
    "              'sklearn': np.insert(model2.coef_, 0, model2.intercept_)})"
   ]
  },
  {
   "cell_type": "code",
   "execution_count": 39,
   "metadata": {
    "collapsed": true
   },
   "outputs": [],
   "source": [
    "model = OLS(endog=df['domestictotalgross'], exog=df[['const', 'budget']], hasconst=True).fit()\n",
    "model2 = LinearRegression().fit(X=df['budget'].values[:, None], y=df['domestictotalgross'])"
   ]
  },
  {
   "cell_type": "code",
   "execution_count": 40,
   "metadata": {},
   "outputs": [
    {
     "data": {
      "text/plain": [
       "0.28230037692954868"
      ]
     },
     "execution_count": 40,
     "metadata": {},
     "output_type": "execute_result"
    }
   ],
   "source": [
    "model.rsquared"
   ]
  },
  {
   "cell_type": "code",
   "execution_count": 42,
   "metadata": {},
   "outputs": [
    {
     "data": {
      "text/plain": [
       "0.28230037692954857"
      ]
     },
     "execution_count": 42,
     "metadata": {},
     "output_type": "execute_result"
    }
   ],
   "source": [
    "model2.score(df['budget'].values[:, None], df['domestictotalgross'])"
   ]
  },
  {
   "cell_type": "code",
   "execution_count": 43,
   "metadata": {},
   "outputs": [
    {
     "data": {
      "text/plain": [
       "const     4.4431e+07\n",
       "budget    7.8306e-01\n",
       "dtype: float64"
      ]
     },
     "execution_count": 43,
     "metadata": {},
     "output_type": "execute_result"
    }
   ],
   "source": [
    "model.params"
   ]
  },
  {
   "cell_type": "code",
   "execution_count": 44,
   "metadata": {},
   "outputs": [
    {
     "data": {
      "text/plain": [
       "(44430625.617948361, array([ 0.7831]))"
      ]
     },
     "execution_count": 44,
     "metadata": {},
     "output_type": "execute_result"
    }
   ],
   "source": [
    "model2.intercept_, model2.coef_"
   ]
  },
  {
   "cell_type": "markdown",
   "metadata": {},
   "source": [
    "# Challenge 5"
   ]
  },
  {
   "cell_type": "markdown",
   "metadata": {},
   "source": [
    "Fitting and checking predictions on the exact same data set can be misleading. Divide your data into two sets: a training and a test set (roughly 75% training, 25% test is a fine split). Fit a model on the training set, check the predictions (by plotting versus actual values) in the test set."
   ]
  },
  {
   "cell_type": "code",
   "execution_count": 43,
   "metadata": {
    "collapsed": true,
    "scrolled": true
   },
   "outputs": [],
   "source": [
    "from sklearn.model_selection import train_test_split\n",
    "\n",
    "X_train, X_test, y_train, y_test = train_test_split(\n",
    "    x, df['domestictotalgross'], random_state=444)"
   ]
  },
  {
   "cell_type": "code",
   "execution_count": 44,
   "metadata": {},
   "outputs": [
    {
     "name": "stdout",
     "output_type": "stream",
     "text": [
      "In-sample R-squared: 0.41308428848\n",
      "Out-of-sample R-squared: -1.56181484646\n"
     ]
    }
   ],
   "source": [
    "model = LinearRegression(n_jobs=-1).fit(X_train, y_train)\n",
    "print('In-sample R-squared:', model.score(X_train, y_train))\n",
    "print('Out-of-sample R-squared:', model.score(X_test, y_test))"
   ]
  },
  {
   "cell_type": "markdown",
   "metadata": {},
   "source": [
    "Ouch.  Let's try some model-based feature selection:"
   ]
  },
  {
   "cell_type": "code",
   "execution_count": 45,
   "metadata": {},
   "outputs": [
    {
     "name": "stdout",
     "output_type": "stream",
     "text": [
      "X_train.shape: (65, 15)\n",
      "X_train_l1.shape: (65, 8)\n",
      "Test score: -1.507\n"
     ]
    }
   ],
   "source": [
    "from sklearn.feature_selection import SelectFromModel\n",
    "from sklearn.ensemble import RandomForestRegressor\n",
    "\n",
    "# Select all features that have a feature_importance above median\n",
    "select = SelectFromModel(\n",
    "    RandomForestRegressor(n_estimators=1000, random_state=444, max_depth=10),\n",
    "    threshold=\"median\")\n",
    "\n",
    "select.fit(X_train, y_train)\n",
    "X_train_l1 = select.transform(X_train)\n",
    "print('X_train.shape: {}'.format(X_train.shape))\n",
    "print('X_train_l1.shape: {}'.format(X_train_l1.shape))\n",
    "\n",
    "X_test_l1 = select.transform(X_test)\n",
    "score = LinearRegression(n_jobs=-1)\\\n",
    "    .fit(X_train_l1, y_train)\\\n",
    "    .score(X_test_l1, y_test)\n",
    "print('Test score: {:.3f}'.format(score))"
   ]
  },
  {
   "cell_type": "markdown",
   "metadata": {},
   "source": [
    "And also some recursive feature elimination:"
   ]
  },
  {
   "cell_type": "code",
   "execution_count": 52,
   "metadata": {},
   "outputs": [
    {
     "name": "stdout",
     "output_type": "stream",
     "text": [
      "X_train.shape: (65, 15)\n",
      "X_train_l1.shape: (65, 4)\n",
      "Test score: -0.927\n"
     ]
    }
   ],
   "source": [
    "from sklearn.feature_selection import RFE\n",
    "\n",
    "select = RFE(LinearRegression(n_jobs=-1), n_features_to_select=4)\n",
    "select.fit(X_train, y_train)\n",
    "X_train_rfe= select.transform(X_train)\n",
    "print('X_train.shape: {}'.format(X_train.shape))\n",
    "print('X_train_l1.shape: {}'.format(X_train_rfe.shape))\n",
    "\n",
    "X_test_rfe= select.transform(X_test)\n",
    "model = LinearRegression(n_jobs=-1).fit(X_train_rfe, y_train)\n",
    "print('Test score: {:.3f}'.format(model.score(X_test_rfe, y_test)))"
   ]
  },
  {
   "cell_type": "markdown",
   "metadata": {},
   "source": [
    "No dice.  "
   ]
  }
 ],
 "metadata": {
  "kernelspec": {
   "display_name": "Python 3",
   "language": "python",
   "name": "python3"
  },
  "language_info": {
   "codemirror_mode": {
    "name": "ipython",
    "version": 3
   },
   "file_extension": ".py",
   "mimetype": "text/x-python",
   "name": "python",
   "nbconvert_exporter": "python",
   "pygments_lexer": "ipython3",
   "version": "3.6.3"
  }
 },
 "nbformat": 4,
 "nbformat_minor": 2
}
