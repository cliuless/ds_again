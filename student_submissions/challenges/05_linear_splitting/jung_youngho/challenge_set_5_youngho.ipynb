{
 "cells": [
  {
   "cell_type": "code",
   "execution_count": 1,
   "metadata": {
    "collapsed": false
   },
   "outputs": [],
   "source": [
    "# Python 2 & 3 Compatibility\n",
    "from __future__ import print_function, division\n",
    "\n",
    "# Necessary imports\n",
    "import pandas as pd\n",
    "import numpy as np\n",
    "import statsmodels.api as sm\n",
    "import statsmodels.formula.api as smf\n",
    "import patsy\n",
    "import seaborn as sns\n",
    "from seaborn import plt\n",
    "from sklearn.linear_model import LinearRegression\n",
    "from sklearn.linear_model import RidgeCV\n",
    "import warnings\n",
    "warnings.filterwarnings('ignore')\n",
    "\n",
    "%matplotlib inline"
   ]
  },
  {
   "cell_type": "code",
   "execution_count": 2,
   "metadata": {
    "collapsed": false
   },
   "outputs": [],
   "source": [
    "## import the csv file\n",
    "df = pd.read_csv('2013_movies.csv')"
   ]
  },
  {
   "cell_type": "markdown",
   "metadata": {},
   "source": [
    "**Challenge 1**"
   ]
  },
  {
   "cell_type": "code",
   "execution_count": 3,
   "metadata": {
    "collapsed": false
   },
   "outputs": [],
   "source": [
    "## Use budget to predict Domestic Total Gross\n",
    "df_lr = df[['DomesticTotalGross', 'Budget']]\n",
    "df_lr.dropna(inplace=True)"
   ]
  },
  {
   "cell_type": "code",
   "execution_count": 4,
   "metadata": {
    "collapsed": false
   },
   "outputs": [
    {
     "data": {
      "text/html": [
       "<table class=\"simpletable\">\n",
       "<caption>OLS Regression Results</caption>\n",
       "<tr>\n",
       "  <th>Dep. Variable:</th>    <td>DomesticTotalGross</td> <th>  R-squared:         </th> <td>   0.286</td>\n",
       "</tr>\n",
       "<tr>\n",
       "  <th>Model:</th>                    <td>OLS</td>        <th>  Adj. R-squared:    </th> <td>   0.278</td>\n",
       "</tr>\n",
       "<tr>\n",
       "  <th>Method:</th>              <td>Least Squares</td>   <th>  F-statistic:       </th> <td>   34.82</td>\n",
       "</tr>\n",
       "<tr>\n",
       "  <th>Date:</th>              <td>Sun, 28 Jan 2018</td>  <th>  Prob (F-statistic):</th> <td>6.80e-08</td>\n",
       "</tr>\n",
       "<tr>\n",
       "  <th>Time:</th>                  <td>22:04:44</td>      <th>  Log-Likelihood:    </th> <td> -1738.1</td>\n",
       "</tr>\n",
       "<tr>\n",
       "  <th>No. Observations:</th>       <td>    89</td>       <th>  AIC:               </th> <td>   3480.</td>\n",
       "</tr>\n",
       "<tr>\n",
       "  <th>Df Residuals:</th>           <td>    87</td>       <th>  BIC:               </th> <td>   3485.</td>\n",
       "</tr>\n",
       "<tr>\n",
       "  <th>Df Model:</th>               <td>     1</td>       <th>                     </th>     <td> </td>   \n",
       "</tr>\n",
       "<tr>\n",
       "  <th>Covariance Type:</th>       <td>nonrobust</td>     <th>                     </th>     <td> </td>   \n",
       "</tr>\n",
       "</table>\n",
       "<table class=\"simpletable\">\n",
       "<tr>\n",
       "      <td></td>         <th>coef</th>     <th>std err</th>      <th>t</th>      <th>P>|t|</th> <th>[95.0% Conf. Int.]</th> \n",
       "</tr>\n",
       "<tr>\n",
       "  <th>Intercept</th> <td>  4.44e+07</td> <td> 1.27e+07</td> <td>    3.504</td> <td> 0.001</td> <td> 1.92e+07  6.96e+07</td>\n",
       "</tr>\n",
       "<tr>\n",
       "  <th>Budget</th>    <td>    0.7846</td> <td>    0.133</td> <td>    5.901</td> <td> 0.000</td> <td>    0.520     1.049</td>\n",
       "</tr>\n",
       "</table>\n",
       "<table class=\"simpletable\">\n",
       "<tr>\n",
       "  <th>Omnibus:</th>       <td>39.749</td> <th>  Durbin-Watson:     </th> <td>   0.674</td>\n",
       "</tr>\n",
       "<tr>\n",
       "  <th>Prob(Omnibus):</th> <td> 0.000</td> <th>  Jarque-Bera (JB):  </th> <td>  99.441</td>\n",
       "</tr>\n",
       "<tr>\n",
       "  <th>Skew:</th>          <td> 1.587</td> <th>  Prob(JB):          </th> <td>2.55e-22</td>\n",
       "</tr>\n",
       "<tr>\n",
       "  <th>Kurtosis:</th>      <td> 7.091</td> <th>  Cond. No.          </th> <td>1.54e+08</td>\n",
       "</tr>\n",
       "</table>"
      ],
      "text/plain": [
       "<class 'statsmodels.iolib.summary.Summary'>\n",
       "\"\"\"\n",
       "                            OLS Regression Results                            \n",
       "==============================================================================\n",
       "Dep. Variable:     DomesticTotalGross   R-squared:                       0.286\n",
       "Model:                            OLS   Adj. R-squared:                  0.278\n",
       "Method:                 Least Squares   F-statistic:                     34.82\n",
       "Date:                Sun, 28 Jan 2018   Prob (F-statistic):           6.80e-08\n",
       "Time:                        22:04:44   Log-Likelihood:                -1738.1\n",
       "No. Observations:                  89   AIC:                             3480.\n",
       "Df Residuals:                      87   BIC:                             3485.\n",
       "Df Model:                           1                                         \n",
       "Covariance Type:            nonrobust                                         \n",
       "==============================================================================\n",
       "                 coef    std err          t      P>|t|      [95.0% Conf. Int.]\n",
       "------------------------------------------------------------------------------\n",
       "Intercept    4.44e+07   1.27e+07      3.504      0.001      1.92e+07  6.96e+07\n",
       "Budget         0.7846      0.133      5.901      0.000         0.520     1.049\n",
       "==============================================================================\n",
       "Omnibus:                       39.749   Durbin-Watson:                   0.674\n",
       "Prob(Omnibus):                  0.000   Jarque-Bera (JB):               99.441\n",
       "Skew:                           1.587   Prob(JB):                     2.55e-22\n",
       "Kurtosis:                       7.091   Cond. No.                     1.54e+08\n",
       "==============================================================================\n",
       "\n",
       "Warnings:\n",
       "[1] Standard Errors assume that the covariance matrix of the errors is correctly specified.\n",
       "[2] The condition number is large, 1.54e+08. This might indicate that there are\n",
       "strong multicollinearity or other numerical problems.\n",
       "\"\"\""
      ]
     },
     "execution_count": 4,
     "metadata": {},
     "output_type": "execute_result"
    }
   ],
   "source": [
    "# Create your feature matrix (X) and target vector (y)\n",
    "y, X = patsy.dmatrices('DomesticTotalGross ~ Budget', data=df_lr, return_type=\"dataframe\")\n",
    "# Create your model\n",
    "model = sm.OLS(y, X)\n",
    "# Fit your model to your training set\n",
    "fit = model.fit()\n",
    "# Print summary statistics of the model's performance\n",
    "fit.summary()"
   ]
  },
  {
   "cell_type": "code",
   "execution_count": 5,
   "metadata": {
    "collapsed": false
   },
   "outputs": [],
   "source": [
    "## predicted value\n",
    "df_lr['PredictedDTG'] = fit.predict(X)\n",
    "# This predicts Domestic Total Gross"
   ]
  },
  {
   "cell_type": "code",
   "execution_count": 6,
   "metadata": {
    "collapsed": false
   },
   "outputs": [
    {
     "data": {
      "image/png": "[encoded data removed]",
      "text/plain": [
       "<matplotlib.figure.Figure at 0x11046f9b0>"
      ]
     },
     "metadata": {},
     "output_type": "display_data"
    }
   ],
   "source": [
    "## plot the graph\n",
    "plt.scatter(df_lr['Budget'], df_lr['DomesticTotalGross'], color='Black', s=5);\n",
    "plt.xlabel('Budget', verticalalignment='top', horizontalalignment='center');\n",
    "plt.ylabel('Domestic Total Gross', verticalalignment='bottom', horizontalalignment='center');\n",
    "plt.scatter(df_lr['Budget'], df_lr['PredictedDTG'], color='green', s=5);\n",
    "plt.legend(['Real Total Gross', 'Predicted Total Gross'], loc='best');"
   ]
  },
  {
   "cell_type": "code",
   "execution_count": 7,
   "metadata": {
    "collapsed": false
   },
   "outputs": [
    {
     "data": {
      "image/png": "[encoded data removed]",
      "text/plain": [
       "<matplotlib.figure.Figure at 0x1104d6f60>"
      ]
     },
     "metadata": {},
     "output_type": "display_data"
    }
   ],
   "source": [
    "## residuals\n",
    "df_lr['residuals'] = df_lr['DomesticTotalGross'] - df_lr['PredictedDTG']\n",
    "plt.hist(df_lr['residuals']);\n",
    "plt.xlabel('residuals');\n",
    "# residuals are right-skewed"
   ]
  },
  {
   "cell_type": "markdown",
   "metadata": {},
   "source": [
    "**Challenge 2**"
   ]
  },
  {
   "cell_type": "code",
   "execution_count": 8,
   "metadata": {
    "collapsed": true
   },
   "outputs": [],
   "source": [
    "## Use budget and runtime to predict Domestic Total Gross\n",
    "df_lr = df[['DomesticTotalGross', 'Budget', 'Runtime']]\n",
    "df_lr.dropna(inplace=True)"
   ]
  },
  {
   "cell_type": "code",
   "execution_count": 9,
   "metadata": {
    "collapsed": false
   },
   "outputs": [
    {
     "data": {
      "text/html": [
       "<table class=\"simpletable\">\n",
       "<caption>OLS Regression Results</caption>\n",
       "<tr>\n",
       "  <th>Dep. Variable:</th>    <td>DomesticTotalGross</td> <th>  R-squared:         </th> <td>   0.291</td>\n",
       "</tr>\n",
       "<tr>\n",
       "  <th>Model:</th>                    <td>OLS</td>        <th>  Adj. R-squared:    </th> <td>   0.274</td>\n",
       "</tr>\n",
       "<tr>\n",
       "  <th>Method:</th>              <td>Least Squares</td>   <th>  F-statistic:       </th> <td>   17.63</td>\n",
       "</tr>\n",
       "<tr>\n",
       "  <th>Date:</th>              <td>Sun, 28 Jan 2018</td>  <th>  Prob (F-statistic):</th> <td>3.83e-07</td>\n",
       "</tr>\n",
       "<tr>\n",
       "  <th>Time:</th>                  <td>22:04:47</td>      <th>  Log-Likelihood:    </th> <td> -1737.7</td>\n",
       "</tr>\n",
       "<tr>\n",
       "  <th>No. Observations:</th>       <td>    89</td>       <th>  AIC:               </th> <td>   3481.</td>\n",
       "</tr>\n",
       "<tr>\n",
       "  <th>Df Residuals:</th>           <td>    86</td>       <th>  BIC:               </th> <td>   3489.</td>\n",
       "</tr>\n",
       "<tr>\n",
       "  <th>Df Model:</th>               <td>     2</td>       <th>                     </th>     <td> </td>   \n",
       "</tr>\n",
       "<tr>\n",
       "  <th>Covariance Type:</th>       <td>nonrobust</td>     <th>                     </th>     <td> </td>   \n",
       "</tr>\n",
       "</table>\n",
       "<table class=\"simpletable\">\n",
       "<tr>\n",
       "      <td></td>         <th>coef</th>     <th>std err</th>      <th>t</th>      <th>P>|t|</th> <th>[95.0% Conf. Int.]</th> \n",
       "</tr>\n",
       "<tr>\n",
       "  <th>Intercept</th> <td> 5.731e+06</td> <td> 5.13e+07</td> <td>    0.112</td> <td> 0.911</td> <td>-9.62e+07  1.08e+08</td>\n",
       "</tr>\n",
       "<tr>\n",
       "  <th>Budget</th>    <td>    0.7456</td> <td>    0.142</td> <td>    5.237</td> <td> 0.000</td> <td>    0.463     1.029</td>\n",
       "</tr>\n",
       "<tr>\n",
       "  <th>Runtime</th>   <td> 3.695e+05</td> <td> 4.75e+05</td> <td>    0.778</td> <td> 0.439</td> <td>-5.74e+05  1.31e+06</td>\n",
       "</tr>\n",
       "</table>\n",
       "<table class=\"simpletable\">\n",
       "<tr>\n",
       "  <th>Omnibus:</th>       <td>40.192</td> <th>  Durbin-Watson:     </th> <td>   0.716</td>\n",
       "</tr>\n",
       "<tr>\n",
       "  <th>Prob(Omnibus):</th> <td> 0.000</td> <th>  Jarque-Bera (JB):  </th> <td> 101.831</td>\n",
       "</tr>\n",
       "<tr>\n",
       "  <th>Skew:</th>          <td> 1.600</td> <th>  Prob(JB):          </th> <td>7.72e-23</td>\n",
       "</tr>\n",
       "<tr>\n",
       "  <th>Kurtosis:</th>      <td> 7.149</td> <th>  Cond. No.          </th> <td>6.21e+08</td>\n",
       "</tr>\n",
       "</table>"
      ],
      "text/plain": [
       "<class 'statsmodels.iolib.summary.Summary'>\n",
       "\"\"\"\n",
       "                            OLS Regression Results                            \n",
       "==============================================================================\n",
       "Dep. Variable:     DomesticTotalGross   R-squared:                       0.291\n",
       "Model:                            OLS   Adj. R-squared:                  0.274\n",
       "Method:                 Least Squares   F-statistic:                     17.63\n",
       "Date:                Sun, 28 Jan 2018   Prob (F-statistic):           3.83e-07\n",
       "Time:                        22:04:47   Log-Likelihood:                -1737.7\n",
       "No. Observations:                  89   AIC:                             3481.\n",
       "Df Residuals:                      86   BIC:                             3489.\n",
       "Df Model:                           2                                         \n",
       "Covariance Type:            nonrobust                                         \n",
       "==============================================================================\n",
       "                 coef    std err          t      P>|t|      [95.0% Conf. Int.]\n",
       "------------------------------------------------------------------------------\n",
       "Intercept   5.731e+06   5.13e+07      0.112      0.911     -9.62e+07  1.08e+08\n",
       "Budget         0.7456      0.142      5.237      0.000         0.463     1.029\n",
       "Runtime     3.695e+05   4.75e+05      0.778      0.439     -5.74e+05  1.31e+06\n",
       "==============================================================================\n",
       "Omnibus:                       40.192   Durbin-Watson:                   0.716\n",
       "Prob(Omnibus):                  0.000   Jarque-Bera (JB):              101.831\n",
       "Skew:                           1.600   Prob(JB):                     7.72e-23\n",
       "Kurtosis:                       7.149   Cond. No.                     6.21e+08\n",
       "==============================================================================\n",
       "\n",
       "Warnings:\n",
       "[1] Standard Errors assume that the covariance matrix of the errors is correctly specified.\n",
       "[2] The condition number is large, 6.21e+08. This might indicate that there are\n",
       "strong multicollinearity or other numerical problems.\n",
       "\"\"\""
      ]
     },
     "execution_count": 9,
     "metadata": {},
     "output_type": "execute_result"
    }
   ],
   "source": [
    "# Create your feature matrix (X) and target vector (y)\n",
    "y, X = patsy.dmatrices('DomesticTotalGross ~ Budget + Runtime', data=df_lr, return_type=\"dataframe\")\n",
    "# Create your model\n",
    "model = sm.OLS(y, X)\n",
    "# Fit your model to your training set\n",
    "fit = model.fit()\n",
    "# Print summary statistics of the model's performance\n",
    "fit.summary()"
   ]
  },
  {
   "cell_type": "code",
   "execution_count": 10,
   "metadata": {
    "collapsed": true
   },
   "outputs": [],
   "source": [
    "## predicted value\n",
    "df_lr['PredictedDTG'] = fit.predict(X)\n",
    "# This predicts Domestic Total Gross"
   ]
  },
  {
   "cell_type": "code",
   "execution_count": 26,
   "metadata": {
    "collapsed": true
   },
   "outputs": [
    {
     "data": {
      "image/png": "[encoded data removed]",
      "text/plain": [
       "<matplotlib.figure.Figure at 0x114e90e48>"
      ]
     },
     "metadata": {},
     "output_type": "display_data"
    }
   ],
   "source": [
    "fig, axes = plt.subplots(1, 2, sharey=True);\n",
    "axes[0].scatter(df_lr['Budget'], df_lr['DomesticTotalGross'], s=5);\n",
    "axes[0].set_title('Domestic Total Gross', fontsize=10);\n",
    "axes[0].set_xlabel('Budget');\n",
    "\n",
    "axes[1].scatter(df_lr['Budget'], df_lr['PredictedDTG'], s=5);\n",
    "axes[1].set_title('Predicted Total Gross');\n",
    "axes[1].set_xlabel('Budget', fontsize=10);"
   ]
  },
  {
   "cell_type": "code",
   "execution_count": 27,
   "metadata": {
    "collapsed": false
   },
   "outputs": [
    {
     "data": {
      "image/png": "[encoded data removed]",
      "text/plain": [
       "<matplotlib.figure.Figure at 0x113d87518>"
      ]
     },
     "metadata": {},
     "output_type": "display_data"
    }
   ],
   "source": [
    "## residuals\n",
    "df_lr['residuals'] = df_lr['DomesticTotalGross'] - df_lr['PredictedDTG']\n",
    "plt.hist(df_lr['residuals']);\n",
    "plt.xlabel('residuals');\n",
    "# residuals are right-skewed"
   ]
  },
  {
   "cell_type": "markdown",
   "metadata": {},
   "source": [
    "**Challenge 3**"
   ]
  },
  {
   "cell_type": "code",
   "execution_count": 86,
   "metadata": {
    "collapsed": false
   },
   "outputs": [],
   "source": [
    "## Let's add ratings as a categorical feature\n",
    "df['PG13'] = (df['Rating'] == 'PG-13').apply(lambda s: 1 if s else 0)\n",
    "df['PG'] = (df['Rating'] == 'PG').apply(lambda s: 1 if s else 0)\n",
    "df['G'] = (df['Rating'] == 'G').apply(lambda s: 1 if s else 0)\n",
    "df['R'] = (df['Rating'] == 'R').apply(lambda s: 1 if s else 0)\n"
   ]
  },
  {
   "cell_type": "code",
   "execution_count": 87,
   "metadata": {
    "collapsed": false
   },
   "outputs": [],
   "source": [
    "## Add dummy features\n",
    "df_lr = df[['DomesticTotalGross', 'Budget', 'PG13', 'PG', 'G', 'R']]\n",
    "df_lr.dropna(inplace=True)"
   ]
  },
  {
   "cell_type": "code",
   "execution_count": 90,
   "metadata": {
    "collapsed": false
   },
   "outputs": [
    {
     "data": {
      "text/html": [
       "<table class=\"simpletable\">\n",
       "<caption>OLS Regression Results</caption>\n",
       "<tr>\n",
       "  <th>Dep. Variable:</th>    <td>DomesticTotalGross</td> <th>  R-squared:         </th> <td>   0.287</td>\n",
       "</tr>\n",
       "<tr>\n",
       "  <th>Model:</th>                    <td>OLS</td>        <th>  Adj. R-squared:    </th> <td>   0.261</td>\n",
       "</tr>\n",
       "<tr>\n",
       "  <th>Method:</th>              <td>Least Squares</td>   <th>  F-statistic:       </th> <td>   11.13</td>\n",
       "</tr>\n",
       "<tr>\n",
       "  <th>Date:</th>              <td>Sun, 28 Jan 2018</td>  <th>  Prob (F-statistic):</th> <td>3.25e-06</td>\n",
       "</tr>\n",
       "<tr>\n",
       "  <th>Time:</th>                  <td>22:58:13</td>      <th>  Log-Likelihood:    </th> <td> -1699.7</td>\n",
       "</tr>\n",
       "<tr>\n",
       "  <th>No. Observations:</th>       <td>    87</td>       <th>  AIC:               </th> <td>   3407.</td>\n",
       "</tr>\n",
       "<tr>\n",
       "  <th>Df Residuals:</th>           <td>    83</td>       <th>  BIC:               </th> <td>   3417.</td>\n",
       "</tr>\n",
       "<tr>\n",
       "  <th>Df Model:</th>               <td>     3</td>       <th>                     </th>     <td> </td>   \n",
       "</tr>\n",
       "<tr>\n",
       "  <th>Covariance Type:</th>       <td>nonrobust</td>     <th>                     </th>     <td> </td>   \n",
       "</tr>\n",
       "</table>\n",
       "<table class=\"simpletable\">\n",
       "<tr>\n",
       "      <td></td>         <th>coef</th>     <th>std err</th>      <th>t</th>      <th>P>|t|</th> <th>[95.0% Conf. Int.]</th> \n",
       "</tr>\n",
       "<tr>\n",
       "  <th>Intercept</th> <td> 3.556e+07</td> <td> 1.13e+07</td> <td>    3.148</td> <td> 0.002</td> <td> 1.31e+07   5.8e+07</td>\n",
       "</tr>\n",
       "<tr>\n",
       "  <th>Budget</th>    <td>    0.7806</td> <td>    0.156</td> <td>    5.005</td> <td> 0.000</td> <td>    0.470     1.091</td>\n",
       "</tr>\n",
       "<tr>\n",
       "  <th>PG13</th>      <td> 5.061e+06</td> <td> 1.25e+07</td> <td>    0.404</td> <td> 0.687</td> <td>-1.98e+07     3e+07</td>\n",
       "</tr>\n",
       "<tr>\n",
       "  <th>PG</th>        <td> 2.217e+07</td> <td> 1.68e+07</td> <td>    1.319</td> <td> 0.191</td> <td>-1.13e+07  5.56e+07</td>\n",
       "</tr>\n",
       "<tr>\n",
       "  <th>G</th>         <td>         0</td> <td>        0</td> <td>      nan</td> <td>   nan</td> <td>        0         0</td>\n",
       "</tr>\n",
       "<tr>\n",
       "  <th>R</th>         <td> 8.329e+06</td> <td> 1.19e+07</td> <td>    0.701</td> <td> 0.485</td> <td>-1.53e+07  3.19e+07</td>\n",
       "</tr>\n",
       "</table>\n",
       "<table class=\"simpletable\">\n",
       "<tr>\n",
       "  <th>Omnibus:</th>       <td>36.518</td> <th>  Durbin-Watson:     </th> <td>   0.668</td>\n",
       "</tr>\n",
       "<tr>\n",
       "  <th>Prob(Omnibus):</th> <td> 0.000</td> <th>  Jarque-Bera (JB):  </th> <td>  81.882</td>\n",
       "</tr>\n",
       "<tr>\n",
       "  <th>Skew:</th>          <td> 1.529</td> <th>  Prob(JB):          </th> <td>1.66e-18</td>\n",
       "</tr>\n",
       "<tr>\n",
       "  <th>Kurtosis:</th>      <td> 6.638</td> <th>  Cond. No.          </th> <td>     inf</td>\n",
       "</tr>\n",
       "</table>"
      ],
      "text/plain": [
       "<class 'statsmodels.iolib.summary.Summary'>\n",
       "\"\"\"\n",
       "                            OLS Regression Results                            \n",
       "==============================================================================\n",
       "Dep. Variable:     DomesticTotalGross   R-squared:                       0.287\n",
       "Model:                            OLS   Adj. R-squared:                  0.261\n",
       "Method:                 Least Squares   F-statistic:                     11.13\n",
       "Date:                Sun, 28 Jan 2018   Prob (F-statistic):           3.25e-06\n",
       "Time:                        22:58:13   Log-Likelihood:                -1699.7\n",
       "No. Observations:                  87   AIC:                             3407.\n",
       "Df Residuals:                      83   BIC:                             3417.\n",
       "Df Model:                           3                                         \n",
       "Covariance Type:            nonrobust                                         \n",
       "==============================================================================\n",
       "                 coef    std err          t      P>|t|      [95.0% Conf. Int.]\n",
       "------------------------------------------------------------------------------\n",
       "Intercept   3.556e+07   1.13e+07      3.148      0.002      1.31e+07   5.8e+07\n",
       "Budget         0.7806      0.156      5.005      0.000         0.470     1.091\n",
       "PG13        5.061e+06   1.25e+07      0.404      0.687     -1.98e+07     3e+07\n",
       "PG          2.217e+07   1.68e+07      1.319      0.191     -1.13e+07  5.56e+07\n",
       "G                   0          0        nan        nan             0         0\n",
       "R           8.329e+06   1.19e+07      0.701      0.485     -1.53e+07  3.19e+07\n",
       "==============================================================================\n",
       "Omnibus:                       36.518   Durbin-Watson:                   0.668\n",
       "Prob(Omnibus):                  0.000   Jarque-Bera (JB):               81.882\n",
       "Skew:                           1.529   Prob(JB):                     1.66e-18\n",
       "Kurtosis:                       6.638   Cond. No.                          inf\n",
       "==============================================================================\n",
       "\n",
       "Warnings:\n",
       "[1] Standard Errors assume that the covariance matrix of the errors is correctly specified.\n",
       "[2] The smallest eigenvalue is      0. This might indicate that there are\n",
       "strong multicollinearity problems or that the design matrix is singular.\n",
       "\"\"\""
      ]
     },
     "execution_count": 90,
     "metadata": {},
     "output_type": "execute_result"
    }
   ],
   "source": [
    "# Create your feature matrix (X) and target vector (y)\n",
    "y, X = patsy.dmatrices('DomesticTotalGross ~ Budget + PG13 + PG + G + R', data=df_lr, return_type=\"dataframe\")\n",
    "# Create your model\n",
    "model = sm.OLS(y, X)\n",
    "# Fit your model to your training set\n",
    "fit = model.fit()\n",
    "# Print summary statistics of the model's performance\n",
    "fit.summary()"
   ]
  },
  {
   "cell_type": "code",
   "execution_count": 92,
   "metadata": {
    "collapsed": true
   },
   "outputs": [
    {
     "data": {
      "image/png": "[encoded data removed]",
      "text/plain": [
       "<matplotlib.figure.Figure at 0x113e821d0>"
      ]
     },
     "metadata": {},
     "output_type": "display_data"
    }
   ],
   "source": [
    "## predicted value\n",
    "df_lr['PredictedDTG'] = fit.predict(X)\n",
    "# This predicts Domestic Total Gross\n",
    "\n",
    "## plot the graph\n",
    "plt.scatter(df_lr['Budget'], df_lr['DomesticTotalGross'], color='Black', s=5);\n",
    "plt.xlabel('Budget', verticalalignment='top', horizontalalignment='center');\n",
    "plt.ylabel('Domestic Total Gross', verticalalignment='bottom', horizontalalignment='center');\n",
    "plt.scatter(df_lr['Budget'], df_lr['PredictedDTG'], color='green', s=5);\n",
    "plt.legend(['Real Total Gross', 'Predicted Total Gross'], loc='best');"
   ]
  },
  {
   "cell_type": "code",
   "execution_count": 93,
   "metadata": {
    "collapsed": true
   },
   "outputs": [
    {
     "data": {
      "image/png": "[encoded data removed]",
      "text/plain": [
       "<matplotlib.figure.Figure at 0x11471d748>"
      ]
     },
     "metadata": {},
     "output_type": "display_data"
    }
   ],
   "source": [
    "## residuals\n",
    "df_lr['residuals'] = df_lr['DomesticTotalGross'] - df_lr['PredictedDTG']\n",
    "plt.hist(df_lr['residuals']);\n",
    "plt.xlabel('residuals');\n",
    "# residuals are right-skewed"
   ]
  },
  {
   "cell_type": "markdown",
   "metadata": {},
   "source": [
    "**Challenge 4**"
   ]
  },
  {
   "cell_type": "code",
   "execution_count": 98,
   "metadata": {
    "collapsed": false,
    "scrolled": true
   },
   "outputs": [
    {
     "data": {
      "image/png": "[encoded data removed]",
      "text/plain": [
       "<matplotlib.figure.Figure at 0x1142ea9e8>"
      ]
     },
     "metadata": {},
     "output_type": "display_data"
    }
   ],
   "source": [
    "## Domestic Total Gross is right skewed as follow\n",
    "plt.hist(df['DomesticTotalGross']);"
   ]
  },
  {
   "cell_type": "code",
   "execution_count": 99,
   "metadata": {
    "collapsed": true
   },
   "outputs": [],
   "source": [
    "import numpy as np"
   ]
  },
  {
   "cell_type": "code",
   "execution_count": 118,
   "metadata": {
    "collapsed": false
   },
   "outputs": [
    {
     "data": {
      "image/png": "[encoded data removed]",
      "text/plain": [
       "<matplotlib.figure.Figure at 0x114eb8b38>"
      ]
     },
     "metadata": {},
     "output_type": "display_data"
    }
   ],
   "source": [
    "## take a box-cox transformation\n",
    "from scipy import stats\n",
    "\n",
    "lamb=stats.boxcox_normmax(df.DomesticTotalGross, brack=(-3, 3), method='mle')\n",
    "df['DomesticTotalGross_adj']=(np.power(df.DomesticTotalGross,-.238971968344)-1)/-.238971968344\n",
    "plt.hist(df['DomesticTotalGross_adj']);"
   ]
  },
  {
   "cell_type": "code",
   "execution_count": 120,
   "metadata": {
    "collapsed": true
   },
   "outputs": [],
   "source": [
    "## Now, y variable is closer to the normal distribution\n",
    "df_lr = df[['DomesticTotalGross_adj', 'Budget', 'PG13', 'PG', 'G', 'R']]\n",
    "df_lr.dropna(inplace=True)"
   ]
  },
  {
   "cell_type": "code",
   "execution_count": 122,
   "metadata": {
    "collapsed": true
   },
   "outputs": [
    {
     "data": {
      "text/html": [
       "<table class=\"simpletable\">\n",
       "<caption>OLS Regression Results</caption>\n",
       "<tr>\n",
       "  <th>Dep. Variable:</th>    <td>DomesticTotalGross_adj</td> <th>  R-squared:         </th> <td>   0.285</td>\n",
       "</tr>\n",
       "<tr>\n",
       "  <th>Model:</th>                      <td>OLS</td>          <th>  Adj. R-squared:    </th> <td>   0.259</td>\n",
       "</tr>\n",
       "<tr>\n",
       "  <th>Method:</th>                <td>Least Squares</td>     <th>  F-statistic:       </th> <td>   11.01</td>\n",
       "</tr>\n",
       "<tr>\n",
       "  <th>Date:</th>                <td>Sun, 28 Jan 2018</td>    <th>  Prob (F-statistic):</th> <td>3.68e-06</td>\n",
       "</tr>\n",
       "<tr>\n",
       "  <th>Time:</th>                    <td>23:18:01</td>        <th>  Log-Likelihood:    </th> <td>  300.22</td>\n",
       "</tr>\n",
       "<tr>\n",
       "  <th>No. Observations:</th>         <td>    87</td>         <th>  AIC:               </th> <td>  -592.4</td>\n",
       "</tr>\n",
       "<tr>\n",
       "  <th>Df Residuals:</th>             <td>    83</td>         <th>  BIC:               </th> <td>  -582.6</td>\n",
       "</tr>\n",
       "<tr>\n",
       "  <th>Df Model:</th>                 <td>     3</td>         <th>                     </th>     <td> </td>   \n",
       "</tr>\n",
       "<tr>\n",
       "  <th>Covariance Type:</th>         <td>nonrobust</td>       <th>                     </th>     <td> </td>   \n",
       "</tr>\n",
       "</table>\n",
       "<table class=\"simpletable\">\n",
       "<tr>\n",
       "      <td></td>         <th>coef</th>     <th>std err</th>      <th>t</th>      <th>P>|t|</th> <th>[95.0% Conf. Int.]</th> \n",
       "</tr>\n",
       "<tr>\n",
       "  <th>Intercept</th> <td>    3.0926</td> <td>    0.001</td> <td> 2634.476</td> <td> 0.000</td> <td>    3.090     3.095</td>\n",
       "</tr>\n",
       "<tr>\n",
       "  <th>Budget</th>    <td> 8.291e-11</td> <td> 1.62e-11</td> <td>    5.116</td> <td> 0.000</td> <td> 5.07e-11  1.15e-10</td>\n",
       "</tr>\n",
       "<tr>\n",
       "  <th>PG13</th>      <td>    1.0303</td> <td>    0.001</td> <td>  791.664</td> <td> 0.000</td> <td>    1.028     1.033</td>\n",
       "</tr>\n",
       "<tr>\n",
       "  <th>PG</th>        <td>    1.0313</td> <td>    0.002</td> <td>  590.358</td> <td> 0.000</td> <td>    1.028     1.035</td>\n",
       "</tr>\n",
       "<tr>\n",
       "  <th>G</th>         <td>         0</td> <td>        0</td> <td>      nan</td> <td>   nan</td> <td>        0         0</td>\n",
       "</tr>\n",
       "<tr>\n",
       "  <th>R</th>         <td>    1.0309</td> <td>    0.001</td> <td>  835.488</td> <td> 0.000</td> <td>    1.028     1.033</td>\n",
       "</tr>\n",
       "</table>\n",
       "<table class=\"simpletable\">\n",
       "<tr>\n",
       "  <th>Omnibus:</th>       <td> 4.796</td> <th>  Durbin-Watson:     </th> <td>   0.636</td>\n",
       "</tr>\n",
       "<tr>\n",
       "  <th>Prob(Omnibus):</th> <td> 0.091</td> <th>  Jarque-Bera (JB):  </th> <td>   2.365</td>\n",
       "</tr>\n",
       "<tr>\n",
       "  <th>Skew:</th>          <td>-0.077</td> <th>  Prob(JB):          </th> <td>   0.307</td>\n",
       "</tr>\n",
       "<tr>\n",
       "  <th>Kurtosis:</th>      <td> 2.207</td> <th>  Cond. No.          </th> <td>     inf</td>\n",
       "</tr>\n",
       "</table>"
      ],
      "text/plain": [
       "<class 'statsmodels.iolib.summary.Summary'>\n",
       "\"\"\"\n",
       "                              OLS Regression Results                              \n",
       "==================================================================================\n",
       "Dep. Variable:     DomesticTotalGross_adj   R-squared:                       0.285\n",
       "Model:                                OLS   Adj. R-squared:                  0.259\n",
       "Method:                     Least Squares   F-statistic:                     11.01\n",
       "Date:                    Sun, 28 Jan 2018   Prob (F-statistic):           3.68e-06\n",
       "Time:                            23:18:01   Log-Likelihood:                 300.22\n",
       "No. Observations:                      87   AIC:                            -592.4\n",
       "Df Residuals:                          83   BIC:                            -582.6\n",
       "Df Model:                               3                                         \n",
       "Covariance Type:                nonrobust                                         \n",
       "==============================================================================\n",
       "                 coef    std err          t      P>|t|      [95.0% Conf. Int.]\n",
       "------------------------------------------------------------------------------\n",
       "Intercept      3.0926      0.001   2634.476      0.000         3.090     3.095\n",
       "Budget      8.291e-11   1.62e-11      5.116      0.000      5.07e-11  1.15e-10\n",
       "PG13           1.0303      0.001    791.664      0.000         1.028     1.033\n",
       "PG             1.0313      0.002    590.358      0.000         1.028     1.035\n",
       "G                   0          0        nan        nan             0         0\n",
       "R              1.0309      0.001    835.488      0.000         1.028     1.033\n",
       "==============================================================================\n",
       "Omnibus:                        4.796   Durbin-Watson:                   0.636\n",
       "Prob(Omnibus):                  0.091   Jarque-Bera (JB):                2.365\n",
       "Skew:                          -0.077   Prob(JB):                        0.307\n",
       "Kurtosis:                       2.207   Cond. No.                          inf\n",
       "==============================================================================\n",
       "\n",
       "Warnings:\n",
       "[1] Standard Errors assume that the covariance matrix of the errors is correctly specified.\n",
       "[2] The smallest eigenvalue is      0. This might indicate that there are\n",
       "strong multicollinearity problems or that the design matrix is singular.\n",
       "\"\"\""
      ]
     },
     "execution_count": 122,
     "metadata": {},
     "output_type": "execute_result"
    }
   ],
   "source": [
    "# Create your feature matrix (X) and target vector (y)\n",
    "y, X = patsy.dmatrices('DomesticTotalGross_adj ~ Budget + PG13 + PG + G + R', data=df_lr, return_type=\"dataframe\")\n",
    "# Create your model\n",
    "model = sm.OLS(y, X)\n",
    "# Fit your model to your training set\n",
    "fit = model.fit()\n",
    "# Print summary statistics of the model's performance\n",
    "fit.summary()"
   ]
  },
  {
   "cell_type": "markdown",
   "metadata": {},
   "source": [
    "**Challenge 5**"
   ]
  },
  {
   "cell_type": "code",
   "execution_count": 123,
   "metadata": {
    "collapsed": true
   },
   "outputs": [],
   "source": [
    "from sklearn.model_selection import train_test_split"
   ]
  },
  {
   "cell_type": "code",
   "execution_count": 126,
   "metadata": {
    "collapsed": false
   },
   "outputs": [],
   "source": [
    "X_train, X_test, y_train, y_test = train_test_split(X, y, test_size=0.75)"
   ]
  },
  {
   "cell_type": "code",
   "execution_count": 132,
   "metadata": {
    "collapsed": false
   },
   "outputs": [],
   "source": [
    "model = sm.OLS(y_train, X_train)\n",
    "# Fit your model to your training set\n",
    "fit = model.fit()\n",
    "# Print summary statistics of the model's performance\n",
    "y_predict = fit.predict(X_test) "
   ]
  },
  {
   "cell_type": "code",
   "execution_count": 135,
   "metadata": {
    "collapsed": false
   },
   "outputs": [
    {
     "data": {
      "image/png": "[encoded data removed]",
      "text/plain": [
       "<matplotlib.figure.Figure at 0x1157346a0>"
      ]
     },
     "metadata": {},
     "output_type": "display_data"
    }
   ],
   "source": [
    "## plot predicted and actual values\n",
    "plt.scatter(y_predict, y_test, color='Black', s=5);\n",
    "plt.ylabel('predicted value');\n",
    "plt.xlabel('actual value');"
   ]
  },
  {
   "cell_type": "code",
   "execution_count": null,
   "metadata": {
    "collapsed": true
   },
   "outputs": [],
   "source": []
  }
 ],
 "metadata": {
  "kernelspec": {
   "display_name": "Python 3",
   "language": "python",
   "name": "python3"
  },
  "language_info": {
   "codemirror_mode": {
    "name": "ipython",
    "version": 3
   },
   "file_extension": ".py",
   "mimetype": "text/x-python",
   "name": "python",
   "nbconvert_exporter": "python",
   "pygments_lexer": "ipython3",
   "version": "3.6.0"
  }
 },
 "nbformat": 4,
 "nbformat_minor": 2
}
