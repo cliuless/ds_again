{
 "cells": [
  {
   "cell_type": "markdown",
   "metadata": {},
   "source": [
    "### Linear Regression and Train/Test Split challenges\n",
    "\n",
    "\n",
    "Ideally, try these with your own data! (Alternatively, there is the\n",
    "`2013_movies.csv` data set.)"
   ]
  },
  {
   "cell_type": "code",
   "execution_count": 4,
   "metadata": {
    "collapsed": true
   },
   "outputs": [],
   "source": [
    "import numpy as np\n",
    "import pandas as pd\n",
    "\n",
    "import matplotlib.pyplot as plt\n",
    "import seaborn as sns\n",
    "%matplotlib inline"
   ]
  },
  {
   "cell_type": "code",
   "execution_count": 5,
   "metadata": {},
   "outputs": [
    {
     "data": {
      "text/html": [
       "<div>\n",
       "<style>\n",
       "    .dataframe thead tr:only-child th {\n",
       "        text-align: right;\n",
       "    }\n",
       "\n",
       "    .dataframe thead th {\n",
       "        text-align: left;\n",
       "    }\n",
       "\n",
       "    .dataframe tbody tr th {\n",
       "        vertical-align: top;\n",
       "    }\n",
       "</style>\n",
       "<table border=\"1\" class=\"dataframe\">\n",
       "  <thead>\n",
       "    <tr style=\"text-align: right;\">\n",
       "      <th></th>\n",
       "      <th>Title</th>\n",
       "      <th>Budget</th>\n",
       "      <th>DomesticTotalGross</th>\n",
       "      <th>Director</th>\n",
       "      <th>Rating</th>\n",
       "      <th>Runtime</th>\n",
       "      <th>ReleaseDate</th>\n",
       "    </tr>\n",
       "  </thead>\n",
       "  <tbody>\n",
       "    <tr>\n",
       "      <th>0</th>\n",
       "      <td>The Hunger Games: Catching Fire</td>\n",
       "      <td>130000000.0</td>\n",
       "      <td>424668047</td>\n",
       "      <td>Francis Lawrence</td>\n",
       "      <td>PG-13</td>\n",
       "      <td>146</td>\n",
       "      <td>2013-11-22 00:00:00</td>\n",
       "    </tr>\n",
       "    <tr>\n",
       "      <th>1</th>\n",
       "      <td>Iron Man 3</td>\n",
       "      <td>200000000.0</td>\n",
       "      <td>409013994</td>\n",
       "      <td>Shane Black</td>\n",
       "      <td>PG-13</td>\n",
       "      <td>129</td>\n",
       "      <td>2013-05-03 00:00:00</td>\n",
       "    </tr>\n",
       "    <tr>\n",
       "      <th>2</th>\n",
       "      <td>Frozen</td>\n",
       "      <td>150000000.0</td>\n",
       "      <td>400738009</td>\n",
       "      <td>Chris BuckJennifer Lee</td>\n",
       "      <td>PG</td>\n",
       "      <td>108</td>\n",
       "      <td>2013-11-22 00:00:00</td>\n",
       "    </tr>\n",
       "    <tr>\n",
       "      <th>3</th>\n",
       "      <td>Despicable Me 2</td>\n",
       "      <td>76000000.0</td>\n",
       "      <td>368061265</td>\n",
       "      <td>Pierre CoffinChris Renaud</td>\n",
       "      <td>PG</td>\n",
       "      <td>98</td>\n",
       "      <td>2013-07-03 00:00:00</td>\n",
       "    </tr>\n",
       "    <tr>\n",
       "      <th>4</th>\n",
       "      <td>Man of Steel</td>\n",
       "      <td>225000000.0</td>\n",
       "      <td>291045518</td>\n",
       "      <td>Zack Snyder</td>\n",
       "      <td>PG-13</td>\n",
       "      <td>143</td>\n",
       "      <td>2013-06-14 00:00:00</td>\n",
       "    </tr>\n",
       "  </tbody>\n",
       "</table>\n",
       "</div>"
      ],
      "text/plain": [
       "                             Title       Budget  DomesticTotalGross  \\\n",
       "0  The Hunger Games: Catching Fire  130000000.0           424668047   \n",
       "1                       Iron Man 3  200000000.0           409013994   \n",
       "2                           Frozen  150000000.0           400738009   \n",
       "3                  Despicable Me 2   76000000.0           368061265   \n",
       "4                     Man of Steel  225000000.0           291045518   \n",
       "\n",
       "                    Director Rating  Runtime          ReleaseDate  \n",
       "0           Francis Lawrence  PG-13      146  2013-11-22 00:00:00  \n",
       "1                Shane Black  PG-13      129  2013-05-03 00:00:00  \n",
       "2     Chris BuckJennifer Lee     PG      108  2013-11-22 00:00:00  \n",
       "3  Pierre CoffinChris Renaud     PG       98  2013-07-03 00:00:00  \n",
       "4                Zack Snyder  PG-13      143  2013-06-14 00:00:00  "
      ]
     },
     "execution_count": 5,
     "metadata": {},
     "output_type": "execute_result"
    }
   ],
   "source": [
    "## Import data\n",
    "df = pd.read_csv('../../../../challenges/challenges_data/2013_movies.csv')\n",
    "df.head()"
   ]
  },
  {
   "cell_type": "code",
   "execution_count": null,
   "metadata": {
    "collapsed": true
   },
   "outputs": [],
   "source": []
  },
  {
   "cell_type": "markdown",
   "metadata": {},
   "source": [
    "#### Challenge 1\n",
    "\n",
    "Build a linear model that uses only a constant term (a column of ones) to predict a continuous outcome (like domestic total gross). How can you interpret the results of this model? What does it predict? Make a plot of predictions against actual outcome. Make a histogram of residuals. How are the residuals distributed?"
   ]
  },
  {
   "cell_type": "markdown",
   "metadata": {},
   "source": [
    "The results give the mean of all data points for domestic total gross. The residuals are skewed right."
   ]
  },
  {
   "cell_type": "code",
   "execution_count": 6,
   "metadata": {},
   "outputs": [
    {
     "name": "stderr",
     "output_type": "stream",
     "text": [
      "/Library/Frameworks/Python.framework/Versions/3.6/lib/python3.6/site-packages/statsmodels/compat/pandas.py:56: FutureWarning: The pandas.core.datetools module is deprecated and will be removed in a future version. Please use the pandas.tseries module instead.\n",
      "  from pandas.core import datetools\n"
     ]
    }
   ],
   "source": [
    "import statsmodels.api as sm\n",
    "import patsy\n",
    "df['ones'] = np.ones_like(df['DomesticTotalGross'])\n",
    "y, X = patsy.dmatrices('DomesticTotalGross ~ ones', data=df, return_type='dataframe')\n",
    "model = sm.OLS(y, X)\n",
    "res = model.fit()"
   ]
  },
  {
   "cell_type": "code",
   "execution_count": null,
   "metadata": {
    "collapsed": true
   },
   "outputs": [],
   "source": []
  },
  {
   "cell_type": "code",
   "execution_count": 7,
   "metadata": {},
   "outputs": [
    {
     "name": "stderr",
     "output_type": "stream",
     "text": [
      "/Library/Frameworks/Python.framework/Versions/3.6/lib/python3.6/site-packages/statsmodels/regression/linear_model.py:1396: RuntimeWarning: invalid value encountered in double_scalars\n",
      "  return self.ess/self.df_model\n"
     ]
    },
    {
     "data": {
      "text/html": [
       "<table class=\"simpletable\">\n",
       "<caption>OLS Regression Results</caption>\n",
       "<tr>\n",
       "  <th>Dep. Variable:</th>    <td>DomesticTotalGross</td> <th>  R-squared:         </th> <td>   0.000</td>\n",
       "</tr>\n",
       "<tr>\n",
       "  <th>Model:</th>                    <td>OLS</td>        <th>  Adj. R-squared:    </th> <td>   0.000</td>\n",
       "</tr>\n",
       "<tr>\n",
       "  <th>Method:</th>              <td>Least Squares</td>   <th>  F-statistic:       </th> <td>     nan</td>\n",
       "</tr>\n",
       "<tr>\n",
       "  <th>Date:</th>              <td>Sun, 28 Jan 2018</td>  <th>  Prob (F-statistic):</th>  <td>   nan</td> \n",
       "</tr>\n",
       "<tr>\n",
       "  <th>Time:</th>                  <td>21:30:22</td>      <th>  Log-Likelihood:    </th> <td> -1970.0</td>\n",
       "</tr>\n",
       "<tr>\n",
       "  <th>No. Observations:</th>       <td>   100</td>       <th>  AIC:               </th> <td>   3942.</td>\n",
       "</tr>\n",
       "<tr>\n",
       "  <th>Df Residuals:</th>           <td>    99</td>       <th>  BIC:               </th> <td>   3945.</td>\n",
       "</tr>\n",
       "<tr>\n",
       "  <th>Df Model:</th>               <td>     0</td>       <th>                     </th>     <td> </td>   \n",
       "</tr>\n",
       "<tr>\n",
       "  <th>Covariance Type:</th>       <td>nonrobust</td>     <th>                     </th>     <td> </td>   \n",
       "</tr>\n",
       "</table>\n",
       "<table class=\"simpletable\">\n",
       "<tr>\n",
       "      <td></td>         <th>coef</th>     <th>std err</th>      <th>t</th>      <th>P>|t|</th>  <th>[0.025</th>    <th>0.975]</th>  \n",
       "</tr>\n",
       "<tr>\n",
       "  <th>Intercept</th> <td>  5.03e+07</td> <td> 4.37e+06</td> <td>   11.510</td> <td> 0.000</td> <td> 4.16e+07</td> <td>  5.9e+07</td>\n",
       "</tr>\n",
       "<tr>\n",
       "  <th>ones</th>      <td>  5.03e+07</td> <td> 4.37e+06</td> <td>   11.510</td> <td> 0.000</td> <td> 4.16e+07</td> <td>  5.9e+07</td>\n",
       "</tr>\n",
       "</table>\n",
       "<table class=\"simpletable\">\n",
       "<tr>\n",
       "  <th>Omnibus:</th>       <td>51.114</td> <th>  Durbin-Watson:     </th> <td>   0.013</td>\n",
       "</tr>\n",
       "<tr>\n",
       "  <th>Prob(Omnibus):</th> <td> 0.000</td> <th>  Jarque-Bera (JB):  </th> <td> 125.961</td>\n",
       "</tr>\n",
       "<tr>\n",
       "  <th>Skew:</th>          <td> 1.985</td> <th>  Prob(JB):          </th> <td>4.45e-28</td>\n",
       "</tr>\n",
       "<tr>\n",
       "  <th>Kurtosis:</th>      <td> 6.804</td> <th>  Cond. No.          </th> <td>3.02e+15</td>\n",
       "</tr>\n",
       "</table>"
      ],
      "text/plain": [
       "<class 'statsmodels.iolib.summary.Summary'>\n",
       "\"\"\"\n",
       "                            OLS Regression Results                            \n",
       "==============================================================================\n",
       "Dep. Variable:     DomesticTotalGross   R-squared:                       0.000\n",
       "Model:                            OLS   Adj. R-squared:                  0.000\n",
       "Method:                 Least Squares   F-statistic:                       nan\n",
       "Date:                Sun, 28 Jan 2018   Prob (F-statistic):                nan\n",
       "Time:                        21:30:22   Log-Likelihood:                -1970.0\n",
       "No. Observations:                 100   AIC:                             3942.\n",
       "Df Residuals:                      99   BIC:                             3945.\n",
       "Df Model:                           0                                         \n",
       "Covariance Type:            nonrobust                                         \n",
       "==============================================================================\n",
       "                 coef    std err          t      P>|t|      [0.025      0.975]\n",
       "------------------------------------------------------------------------------\n",
       "Intercept    5.03e+07   4.37e+06     11.510      0.000    4.16e+07     5.9e+07\n",
       "ones         5.03e+07   4.37e+06     11.510      0.000    4.16e+07     5.9e+07\n",
       "==============================================================================\n",
       "Omnibus:                       51.114   Durbin-Watson:                   0.013\n",
       "Prob(Omnibus):                  0.000   Jarque-Bera (JB):              125.961\n",
       "Skew:                           1.985   Prob(JB):                     4.45e-28\n",
       "Kurtosis:                       6.804   Cond. No.                     3.02e+15\n",
       "==============================================================================\n",
       "\n",
       "Warnings:\n",
       "[1] Standard Errors assume that the covariance matrix of the errors is correctly specified.\n",
       "[2] The smallest eigenvalue is 2.2e-29. This might indicate that there are\n",
       "strong multicollinearity problems or that the design matrix is singular.\n",
       "\"\"\""
      ]
     },
     "execution_count": 7,
     "metadata": {},
     "output_type": "execute_result"
    }
   ],
   "source": [
    "res.summary()"
   ]
  },
  {
   "cell_type": "code",
   "execution_count": 8,
   "metadata": {
    "collapsed": true
   },
   "outputs": [],
   "source": [
    "y_pred = res.predict(X)"
   ]
  },
  {
   "cell_type": "code",
   "execution_count": 9,
   "metadata": {
    "scrolled": false
   },
   "outputs": [
    {
     "data": {
      "image/png": "[encoded data removed]",
      "text/plain": [
       "<matplotlib.figure.Figure at 0x113d1c780>"
      ]
     },
     "metadata": {},
     "output_type": "display_data"
    }
   ],
   "source": [
    "plt.figure(figsize=(12,8))\n",
    "plt.scatter(X['ones'], y, label='Actual', c='b')\n",
    "plt.scatter(X['ones'], y_pred, label='Predicted', c='r', s=120)\n",
    "plt.legend();"
   ]
  },
  {
   "cell_type": "code",
   "execution_count": 10,
   "metadata": {},
   "outputs": [
    {
     "data": {
      "text/plain": [
       "<matplotlib.text.Text at 0x114033c50>"
      ]
     },
     "execution_count": 10,
     "metadata": {},
     "output_type": "execute_result"
    },
    {
     "data": {
      "image/png": "[encoded data removed]",
      "text/plain": [
       "<matplotlib.figure.Figure at 0x113d1c198>"
      ]
     },
     "metadata": {},
     "output_type": "display_data"
    }
   ],
   "source": [
    "plt.figure(figsize=(12,8))\n",
    "plt.scatter(y_pred, y)\n",
    "plt.xlabel('Predicted Y')\n",
    "plt.ylabel('Actual Y')"
   ]
  },
  {
   "cell_type": "code",
   "execution_count": 11,
   "metadata": {},
   "outputs": [
    {
     "data": {
      "text/plain": [
       "<matplotlib.text.Text at 0x113d46240>"
      ]
     },
     "execution_count": 11,
     "metadata": {},
     "output_type": "execute_result"
    },
    {
     "data": {
      "image/png": "[encoded data removed]",
      "text/plain": [
       "<matplotlib.figure.Figure at 0x1141a8198>"
      ]
     },
     "metadata": {},
     "output_type": "display_data"
    }
   ],
   "source": [
    "plt.figure(figsize=(12,4));\n",
    "res.resid.plot();\n",
    "plt.title('Residual Plot')"
   ]
  },
  {
   "cell_type": "code",
   "execution_count": 12,
   "metadata": {},
   "outputs": [
    {
     "data": {
      "text/plain": [
       "<matplotlib.text.Text at 0x1130f1080>"
      ]
     },
     "execution_count": 12,
     "metadata": {},
     "output_type": "execute_result"
    },
    {
     "data": {
      "image/png": "[encoded data removed]",
      "text/plain": [
       "<matplotlib.figure.Figure at 0x1131dedd8>"
      ]
     },
     "metadata": {},
     "output_type": "display_data"
    }
   ],
   "source": [
    "plt.figure(figsize=(12,8))\n",
    "plt.hist(res.resid, bins=20);\n",
    "plt.title('Residual Histogram')"
   ]
  },
  {
   "cell_type": "markdown",
   "metadata": {},
   "source": [
    "#### Challenge 2\n",
    "\n",
    "Repeat the process of challenge one, but also add one continuous (numeric) predictor variable. Also add plots of model prediction against your feature variable and residuals against feature variable. How can you interpret what's happening in the model?"
   ]
  },
  {
   "cell_type": "code",
   "execution_count": 13,
   "metadata": {
    "collapsed": true
   },
   "outputs": [],
   "source": [
    "# Include ones and budget\n",
    "y, X = patsy.dmatrices('DomesticTotalGross ~ ones + Budget', data=df, return_type='dataframe')\n",
    "model = sm.OLS(y, X)\n",
    "res = model.fit()"
   ]
  },
  {
   "cell_type": "code",
   "execution_count": 14,
   "metadata": {
    "collapsed": true
   },
   "outputs": [],
   "source": [
    "y_pred = res.predict(X)"
   ]
  },
  {
   "cell_type": "code",
   "execution_count": 15,
   "metadata": {},
   "outputs": [
    {
     "data": {
      "text/html": [
       "<table class=\"simpletable\">\n",
       "<caption>OLS Regression Results</caption>\n",
       "<tr>\n",
       "  <th>Dep. Variable:</th>    <td>DomesticTotalGross</td> <th>  R-squared:         </th> <td>   0.286</td>\n",
       "</tr>\n",
       "<tr>\n",
       "  <th>Model:</th>                    <td>OLS</td>        <th>  Adj. R-squared:    </th> <td>   0.278</td>\n",
       "</tr>\n",
       "<tr>\n",
       "  <th>Method:</th>              <td>Least Squares</td>   <th>  F-statistic:       </th> <td>   34.82</td>\n",
       "</tr>\n",
       "<tr>\n",
       "  <th>Date:</th>              <td>Sun, 28 Jan 2018</td>  <th>  Prob (F-statistic):</th> <td>6.80e-08</td>\n",
       "</tr>\n",
       "<tr>\n",
       "  <th>Time:</th>                  <td>21:30:24</td>      <th>  Log-Likelihood:    </th> <td> -1738.1</td>\n",
       "</tr>\n",
       "<tr>\n",
       "  <th>No. Observations:</th>       <td>    89</td>       <th>  AIC:               </th> <td>   3480.</td>\n",
       "</tr>\n",
       "<tr>\n",
       "  <th>Df Residuals:</th>           <td>    87</td>       <th>  BIC:               </th> <td>   3485.</td>\n",
       "</tr>\n",
       "<tr>\n",
       "  <th>Df Model:</th>               <td>     1</td>       <th>                     </th>     <td> </td>   \n",
       "</tr>\n",
       "<tr>\n",
       "  <th>Covariance Type:</th>       <td>nonrobust</td>     <th>                     </th>     <td> </td>   \n",
       "</tr>\n",
       "</table>\n",
       "<table class=\"simpletable\">\n",
       "<tr>\n",
       "      <td></td>         <th>coef</th>     <th>std err</th>      <th>t</th>      <th>P>|t|</th>  <th>[0.025</th>    <th>0.975]</th>  \n",
       "</tr>\n",
       "<tr>\n",
       "  <th>Intercept</th> <td>  2.22e+07</td> <td> 6.33e+06</td> <td>    3.504</td> <td> 0.001</td> <td> 9.61e+06</td> <td> 3.48e+07</td>\n",
       "</tr>\n",
       "<tr>\n",
       "  <th>ones</th>      <td>  2.22e+07</td> <td> 6.33e+06</td> <td>    3.504</td> <td> 0.001</td> <td> 9.61e+06</td> <td> 3.48e+07</td>\n",
       "</tr>\n",
       "<tr>\n",
       "  <th>Budget</th>    <td>    0.7846</td> <td>    0.133</td> <td>    5.901</td> <td> 0.000</td> <td>    0.520</td> <td>    1.049</td>\n",
       "</tr>\n",
       "</table>\n",
       "<table class=\"simpletable\">\n",
       "<tr>\n",
       "  <th>Omnibus:</th>       <td>39.749</td> <th>  Durbin-Watson:     </th> <td>   0.674</td>\n",
       "</tr>\n",
       "<tr>\n",
       "  <th>Prob(Omnibus):</th> <td> 0.000</td> <th>  Jarque-Bera (JB):  </th> <td>  99.441</td>\n",
       "</tr>\n",
       "<tr>\n",
       "  <th>Skew:</th>          <td> 1.587</td> <th>  Prob(JB):          </th> <td>2.55e-22</td>\n",
       "</tr>\n",
       "<tr>\n",
       "  <th>Kurtosis:</th>      <td> 7.091</td> <th>  Cond. No.          </th> <td>7.04e+17</td>\n",
       "</tr>\n",
       "</table>"
      ],
      "text/plain": [
       "<class 'statsmodels.iolib.summary.Summary'>\n",
       "\"\"\"\n",
       "                            OLS Regression Results                            \n",
       "==============================================================================\n",
       "Dep. Variable:     DomesticTotalGross   R-squared:                       0.286\n",
       "Model:                            OLS   Adj. R-squared:                  0.278\n",
       "Method:                 Least Squares   F-statistic:                     34.82\n",
       "Date:                Sun, 28 Jan 2018   Prob (F-statistic):           6.80e-08\n",
       "Time:                        21:30:24   Log-Likelihood:                -1738.1\n",
       "No. Observations:                  89   AIC:                             3480.\n",
       "Df Residuals:                      87   BIC:                             3485.\n",
       "Df Model:                           1                                         \n",
       "Covariance Type:            nonrobust                                         \n",
       "==============================================================================\n",
       "                 coef    std err          t      P>|t|      [0.025      0.975]\n",
       "------------------------------------------------------------------------------\n",
       "Intercept    2.22e+07   6.33e+06      3.504      0.001    9.61e+06    3.48e+07\n",
       "ones         2.22e+07   6.33e+06      3.504      0.001    9.61e+06    3.48e+07\n",
       "Budget         0.7846      0.133      5.901      0.000       0.520       1.049\n",
       "==============================================================================\n",
       "Omnibus:                       39.749   Durbin-Watson:                   0.674\n",
       "Prob(Omnibus):                  0.000   Jarque-Bera (JB):               99.441\n",
       "Skew:                           1.587   Prob(JB):                     2.55e-22\n",
       "Kurtosis:                       7.091   Cond. No.                     7.04e+17\n",
       "==============================================================================\n",
       "\n",
       "Warnings:\n",
       "[1] Standard Errors assume that the covariance matrix of the errors is correctly specified.\n",
       "[2] The smallest eigenvalue is 1.63e-18. This might indicate that there are\n",
       "strong multicollinearity problems or that the design matrix is singular.\n",
       "\"\"\""
      ]
     },
     "execution_count": 15,
     "metadata": {},
     "output_type": "execute_result"
    }
   ],
   "source": [
    "res.summary()"
   ]
  },
  {
   "cell_type": "code",
   "execution_count": 16,
   "metadata": {},
   "outputs": [
    {
     "data": {
      "text/plain": [
       "<matplotlib.text.Text at 0x11499bbe0>"
      ]
     },
     "execution_count": 16,
     "metadata": {},
     "output_type": "execute_result"
    },
    {
     "data": {
      "image/png": "[encoded data removed]",
      "text/plain": [
       "<matplotlib.figure.Figure at 0x11481afd0>"
      ]
     },
     "metadata": {},
     "output_type": "display_data"
    }
   ],
   "source": [
    "plt.figure(figsize=(12,8))\n",
    "plt.scatter(X['ones'], y, label='Actual', c='b')\n",
    "plt.scatter(X['ones'], y_pred, label='Predicted', c='r')\n",
    "plt.legend();\n",
    "plt.xlabel('Ones')\n",
    "plt.ylabel('Domestic Total Gross')"
   ]
  },
  {
   "cell_type": "code",
   "execution_count": 17,
   "metadata": {},
   "outputs": [
    {
     "data": {
      "text/plain": [
       "<matplotlib.text.Text at 0x114a50208>"
      ]
     },
     "execution_count": 17,
     "metadata": {},
     "output_type": "execute_result"
    },
    {
     "data": {
      "image/png": "[encoded data removed]",
      "text/plain": [
       "<matplotlib.figure.Figure at 0x114803b00>"
      ]
     },
     "metadata": {},
     "output_type": "display_data"
    }
   ],
   "source": [
    "plt.figure(figsize=(12,8))\n",
    "plt.scatter(X['Budget'], y, label='Actual', c='b')\n",
    "plt.scatter(X['Budget'], y_pred, label='Predicted', c='r')\n",
    "plt.legend();\n",
    "plt.xlabel('Budget')\n",
    "plt.ylabel('Domestic Total Gross')"
   ]
  },
  {
   "cell_type": "code",
   "execution_count": null,
   "metadata": {
    "collapsed": true
   },
   "outputs": [],
   "source": []
  },
  {
   "cell_type": "markdown",
   "metadata": {},
   "source": [
    "#### Challenge 3\n",
    "\n",
    "Repeat the process of challenge 1, but add a categorical feature (like genre). You'll have to convert a column of text into a number of numerical columns (\"dummy variables\"). How can you interpret what's happening in the model?"
   ]
  },
  {
   "cell_type": "code",
   "execution_count": 18,
   "metadata": {},
   "outputs": [
    {
     "data": {
      "text/html": [
       "<div>\n",
       "<style>\n",
       "    .dataframe thead tr:only-child th {\n",
       "        text-align: right;\n",
       "    }\n",
       "\n",
       "    .dataframe thead th {\n",
       "        text-align: left;\n",
       "    }\n",
       "\n",
       "    .dataframe tbody tr th {\n",
       "        vertical-align: top;\n",
       "    }\n",
       "</style>\n",
       "<table border=\"1\" class=\"dataframe\">\n",
       "  <thead>\n",
       "    <tr style=\"text-align: right;\">\n",
       "      <th></th>\n",
       "      <th>Title</th>\n",
       "      <th>Budget</th>\n",
       "      <th>DomesticTotalGross</th>\n",
       "      <th>Director</th>\n",
       "      <th>Rating</th>\n",
       "      <th>Runtime</th>\n",
       "      <th>ReleaseDate</th>\n",
       "      <th>ones</th>\n",
       "      <th>Rated_PG</th>\n",
       "      <th>Rated_PG-13</th>\n",
       "      <th>Rated_R</th>\n",
       "    </tr>\n",
       "  </thead>\n",
       "  <tbody>\n",
       "    <tr>\n",
       "      <th>0</th>\n",
       "      <td>The Hunger Games: Catching Fire</td>\n",
       "      <td>130000000.0</td>\n",
       "      <td>424668047</td>\n",
       "      <td>Francis Lawrence</td>\n",
       "      <td>PG-13</td>\n",
       "      <td>146</td>\n",
       "      <td>2013-11-22 00:00:00</td>\n",
       "      <td>1</td>\n",
       "      <td>0</td>\n",
       "      <td>1</td>\n",
       "      <td>0</td>\n",
       "    </tr>\n",
       "    <tr>\n",
       "      <th>1</th>\n",
       "      <td>Iron Man 3</td>\n",
       "      <td>200000000.0</td>\n",
       "      <td>409013994</td>\n",
       "      <td>Shane Black</td>\n",
       "      <td>PG-13</td>\n",
       "      <td>129</td>\n",
       "      <td>2013-05-03 00:00:00</td>\n",
       "      <td>1</td>\n",
       "      <td>0</td>\n",
       "      <td>1</td>\n",
       "      <td>0</td>\n",
       "    </tr>\n",
       "    <tr>\n",
       "      <th>2</th>\n",
       "      <td>Frozen</td>\n",
       "      <td>150000000.0</td>\n",
       "      <td>400738009</td>\n",
       "      <td>Chris BuckJennifer Lee</td>\n",
       "      <td>PG</td>\n",
       "      <td>108</td>\n",
       "      <td>2013-11-22 00:00:00</td>\n",
       "      <td>1</td>\n",
       "      <td>1</td>\n",
       "      <td>0</td>\n",
       "      <td>0</td>\n",
       "    </tr>\n",
       "    <tr>\n",
       "      <th>3</th>\n",
       "      <td>Despicable Me 2</td>\n",
       "      <td>76000000.0</td>\n",
       "      <td>368061265</td>\n",
       "      <td>Pierre CoffinChris Renaud</td>\n",
       "      <td>PG</td>\n",
       "      <td>98</td>\n",
       "      <td>2013-07-03 00:00:00</td>\n",
       "      <td>1</td>\n",
       "      <td>1</td>\n",
       "      <td>0</td>\n",
       "      <td>0</td>\n",
       "    </tr>\n",
       "    <tr>\n",
       "      <th>4</th>\n",
       "      <td>Man of Steel</td>\n",
       "      <td>225000000.0</td>\n",
       "      <td>291045518</td>\n",
       "      <td>Zack Snyder</td>\n",
       "      <td>PG-13</td>\n",
       "      <td>143</td>\n",
       "      <td>2013-06-14 00:00:00</td>\n",
       "      <td>1</td>\n",
       "      <td>0</td>\n",
       "      <td>1</td>\n",
       "      <td>0</td>\n",
       "    </tr>\n",
       "  </tbody>\n",
       "</table>\n",
       "</div>"
      ],
      "text/plain": [
       "                             Title       Budget  DomesticTotalGross  \\\n",
       "0  The Hunger Games: Catching Fire  130000000.0           424668047   \n",
       "1                       Iron Man 3  200000000.0           409013994   \n",
       "2                           Frozen  150000000.0           400738009   \n",
       "3                  Despicable Me 2   76000000.0           368061265   \n",
       "4                     Man of Steel  225000000.0           291045518   \n",
       "\n",
       "                    Director Rating  Runtime          ReleaseDate  ones  \\\n",
       "0           Francis Lawrence  PG-13      146  2013-11-22 00:00:00     1   \n",
       "1                Shane Black  PG-13      129  2013-05-03 00:00:00     1   \n",
       "2     Chris BuckJennifer Lee     PG      108  2013-11-22 00:00:00     1   \n",
       "3  Pierre CoffinChris Renaud     PG       98  2013-07-03 00:00:00     1   \n",
       "4                Zack Snyder  PG-13      143  2013-06-14 00:00:00     1   \n",
       "\n",
       "   Rated_PG  Rated_PG-13  Rated_R  \n",
       "0         0            1        0  \n",
       "1         0            1        0  \n",
       "2         1            0        0  \n",
       "3         1            0        0  \n",
       "4         0            1        0  "
      ]
     },
     "execution_count": 18,
     "metadata": {},
     "output_type": "execute_result"
    }
   ],
   "source": [
    "df_with_dummies = df.join(pd.get_dummies(df['Rating'], prefix='Rated', drop_first=True))\n",
    "df_with_dummies.head()"
   ]
  },
  {
   "cell_type": "code",
   "execution_count": 19,
   "metadata": {
    "collapsed": true
   },
   "outputs": [],
   "source": [
    "# Include ones and budget\n",
    "y, X = patsy.dmatrices('DomesticTotalGross ~ ones + Budget + Rated_PG + Q(\"Rated_PG-13\") + Rated_R', data=df_with_dummies, return_type='dataframe')\n",
    "model = sm.OLS(y, X)\n",
    "res = model.fit()"
   ]
  },
  {
   "cell_type": "code",
   "execution_count": 20,
   "metadata": {},
   "outputs": [
    {
     "data": {
      "text/html": [
       "<table class=\"simpletable\">\n",
       "<caption>OLS Regression Results</caption>\n",
       "<tr>\n",
       "  <th>Dep. Variable:</th>    <td>DomesticTotalGross</td> <th>  R-squared:         </th> <td>   0.291</td>\n",
       "</tr>\n",
       "<tr>\n",
       "  <th>Model:</th>                    <td>OLS</td>        <th>  Adj. R-squared:    </th> <td>   0.266</td>\n",
       "</tr>\n",
       "<tr>\n",
       "  <th>Method:</th>              <td>Least Squares</td>   <th>  F-statistic:       </th> <td>   11.61</td>\n",
       "</tr>\n",
       "<tr>\n",
       "  <th>Date:</th>              <td>Sun, 28 Jan 2018</td>  <th>  Prob (F-statistic):</th> <td>1.87e-06</td>\n",
       "</tr>\n",
       "<tr>\n",
       "  <th>Time:</th>                  <td>21:30:25</td>      <th>  Log-Likelihood:    </th> <td> -1737.7</td>\n",
       "</tr>\n",
       "<tr>\n",
       "  <th>No. Observations:</th>       <td>    89</td>       <th>  AIC:               </th> <td>   3483.</td>\n",
       "</tr>\n",
       "<tr>\n",
       "  <th>Df Residuals:</th>           <td>    85</td>       <th>  BIC:               </th> <td>   3493.</td>\n",
       "</tr>\n",
       "<tr>\n",
       "  <th>Df Model:</th>               <td>     3</td>       <th>                     </th>     <td> </td>   \n",
       "</tr>\n",
       "<tr>\n",
       "  <th>Covariance Type:</th>       <td>nonrobust</td>     <th>                     </th>     <td> </td>   \n",
       "</tr>\n",
       "</table>\n",
       "<table class=\"simpletable\">\n",
       "<tr>\n",
       "          <td></td>            <th>coef</th>     <th>std err</th>      <th>t</th>      <th>P>|t|</th>  <th>[0.025</th>    <th>0.975]</th>  \n",
       "</tr>\n",
       "<tr>\n",
       "  <th>Intercept</th>        <td> 2.029e+07</td> <td> 6.21e+06</td> <td>    3.270</td> <td> 0.002</td> <td> 7.95e+06</td> <td> 3.26e+07</td>\n",
       "</tr>\n",
       "<tr>\n",
       "  <th>ones</th>             <td> 2.029e+07</td> <td> 6.21e+06</td> <td>    3.270</td> <td> 0.002</td> <td> 7.95e+06</td> <td> 3.26e+07</td>\n",
       "</tr>\n",
       "<tr>\n",
       "  <th>Budget</th>           <td>    0.7816</td> <td>    0.152</td> <td>    5.157</td> <td> 0.000</td> <td>    0.480</td> <td>    1.083</td>\n",
       "</tr>\n",
       "<tr>\n",
       "  <th>Rated_PG</th>         <td> 1.714e+07</td> <td> 1.53e+07</td> <td>    1.122</td> <td> 0.265</td> <td>-1.32e+07</td> <td> 4.75e+07</td>\n",
       "</tr>\n",
       "<tr>\n",
       "  <th>Q(\"Rated_PG-13\")</th> <td>-1.257e+05</td> <td> 1.17e+07</td> <td>   -0.011</td> <td> 0.991</td> <td>-2.33e+07</td> <td>  2.3e+07</td>\n",
       "</tr>\n",
       "<tr>\n",
       "  <th>Rated_R</th>          <td> 3.275e+06</td> <td>  1.2e+07</td> <td>    0.273</td> <td> 0.786</td> <td>-2.06e+07</td> <td> 2.71e+07</td>\n",
       "</tr>\n",
       "</table>\n",
       "<table class=\"simpletable\">\n",
       "<tr>\n",
       "  <th>Omnibus:</th>       <td>37.951</td> <th>  Durbin-Watson:     </th> <td>   0.674</td>\n",
       "</tr>\n",
       "<tr>\n",
       "  <th>Prob(Omnibus):</th> <td> 0.000</td> <th>  Jarque-Bera (JB):  </th> <td>  88.664</td>\n",
       "</tr>\n",
       "<tr>\n",
       "  <th>Skew:</th>          <td> 1.546</td> <th>  Prob(JB):          </th> <td>5.58e-20</td>\n",
       "</tr>\n",
       "<tr>\n",
       "  <th>Kurtosis:</th>      <td> 6.788</td> <th>  Cond. No.          </th> <td>1.26e+24</td>\n",
       "</tr>\n",
       "</table>"
      ],
      "text/plain": [
       "<class 'statsmodels.iolib.summary.Summary'>\n",
       "\"\"\"\n",
       "                            OLS Regression Results                            \n",
       "==============================================================================\n",
       "Dep. Variable:     DomesticTotalGross   R-squared:                       0.291\n",
       "Model:                            OLS   Adj. R-squared:                  0.266\n",
       "Method:                 Least Squares   F-statistic:                     11.61\n",
       "Date:                Sun, 28 Jan 2018   Prob (F-statistic):           1.87e-06\n",
       "Time:                        21:30:25   Log-Likelihood:                -1737.7\n",
       "No. Observations:                  89   AIC:                             3483.\n",
       "Df Residuals:                      85   BIC:                             3493.\n",
       "Df Model:                           3                                         \n",
       "Covariance Type:            nonrobust                                         \n",
       "====================================================================================\n",
       "                       coef    std err          t      P>|t|      [0.025      0.975]\n",
       "------------------------------------------------------------------------------------\n",
       "Intercept         2.029e+07   6.21e+06      3.270      0.002    7.95e+06    3.26e+07\n",
       "ones              2.029e+07   6.21e+06      3.270      0.002    7.95e+06    3.26e+07\n",
       "Budget               0.7816      0.152      5.157      0.000       0.480       1.083\n",
       "Rated_PG          1.714e+07   1.53e+07      1.122      0.265   -1.32e+07    4.75e+07\n",
       "Q(\"Rated_PG-13\") -1.257e+05   1.17e+07     -0.011      0.991   -2.33e+07     2.3e+07\n",
       "Rated_R           3.275e+06    1.2e+07      0.273      0.786   -2.06e+07    2.71e+07\n",
       "==============================================================================\n",
       "Omnibus:                       37.951   Durbin-Watson:                   0.674\n",
       "Prob(Omnibus):                  0.000   Jarque-Bera (JB):               88.664\n",
       "Skew:                           1.546   Prob(JB):                     5.58e-20\n",
       "Kurtosis:                       6.788   Cond. No.                     1.26e+24\n",
       "==============================================================================\n",
       "\n",
       "Warnings:\n",
       "[1] Standard Errors assume that the covariance matrix of the errors is correctly specified.\n",
       "[2] The smallest eigenvalue is 5.11e-31. This might indicate that there are\n",
       "strong multicollinearity problems or that the design matrix is singular.\n",
       "\"\"\""
      ]
     },
     "execution_count": 20,
     "metadata": {},
     "output_type": "execute_result"
    }
   ],
   "source": [
    "res.summary()"
   ]
  },
  {
   "cell_type": "code",
   "execution_count": 21,
   "metadata": {
    "collapsed": true
   },
   "outputs": [],
   "source": [
    "y_pred = res.predict(X)"
   ]
  },
  {
   "cell_type": "code",
   "execution_count": 22,
   "metadata": {},
   "outputs": [
    {
     "data": {
      "text/plain": [
       "<matplotlib.text.Text at 0x114c66c50>"
      ]
     },
     "execution_count": 22,
     "metadata": {},
     "output_type": "execute_result"
    },
    {
     "data": {
      "image/png": "[encoded data removed]",
      "text/plain": [
       "<matplotlib.figure.Figure at 0x114bd00b8>"
      ]
     },
     "metadata": {},
     "output_type": "display_data"
    }
   ],
   "source": [
    "plt.figure(figsize=(12,8))\n",
    "plt.scatter(X['ones'], y, label='Actual', c='b')\n",
    "plt.scatter(X['ones'], y_pred, label='Predicted', c='r')\n",
    "plt.legend();\n",
    "plt.xlabel('Ones')\n",
    "plt.ylabel('Domestic Total Gross')"
   ]
  },
  {
   "cell_type": "code",
   "execution_count": 23,
   "metadata": {},
   "outputs": [
    {
     "data": {
      "text/plain": [
       "<matplotlib.text.Text at 0x114e83978>"
      ]
     },
     "execution_count": 23,
     "metadata": {},
     "output_type": "execute_result"
    },
    {
     "data": {
      "image/png": "[encoded data removed]",
      "text/plain": [
       "<matplotlib.figure.Figure at 0x114ddfa58>"
      ]
     },
     "metadata": {},
     "output_type": "display_data"
    }
   ],
   "source": [
    "plt.figure(figsize=(12,8))\n",
    "plt.scatter(X['Budget'], y, label='Actual', c='b')\n",
    "plt.scatter(X['Budget'], y_pred, label='Predicted', c='r')\n",
    "plt.legend();\n",
    "plt.xlabel('Budget')\n",
    "plt.ylabel('Domestic Total Gross')"
   ]
  },
  {
   "cell_type": "code",
   "execution_count": null,
   "metadata": {
    "collapsed": true
   },
   "outputs": [],
   "source": []
  },
  {
   "cell_type": "code",
   "execution_count": null,
   "metadata": {
    "collapsed": true
   },
   "outputs": [],
   "source": []
  },
  {
   "cell_type": "markdown",
   "metadata": {},
   "source": [
    "#### Challenge 4\n",
    "\n",
    "Enhance your model further by adding more features and/or transforming existing features. Think about how you build the model matrix and how to interpret what the model is doing."
   ]
  },
  {
   "cell_type": "code",
   "execution_count": 24,
   "metadata": {
    "collapsed": true
   },
   "outputs": [],
   "source": [
    "# log_transform 'Budget' and 'DomesticTotalGross', and add 'runtime'\n",
    "df_with_dummies['log_Budget'] = df_with_dummies['Budget'].apply(np.log)\n",
    "df_with_dummies['log_DomesticTotalGross'] = df_with_dummies['DomesticTotalGross'].apply(np.log)"
   ]
  },
  {
   "cell_type": "code",
   "execution_count": 25,
   "metadata": {
    "collapsed": true
   },
   "outputs": [],
   "source": [
    "# Include ones and budget\n",
    "y, X = patsy.dmatrices('log_DomesticTotalGross ~ ones + log_Budget + Rated_PG + Q(\"Rated_PG-13\") + Rated_R + Runtime', \n",
    "                       data=df_with_dummies, \n",
    "                       return_type='dataframe')\n",
    "model = sm.OLS(y, X)\n",
    "res = model.fit()"
   ]
  },
  {
   "cell_type": "code",
   "execution_count": 26,
   "metadata": {},
   "outputs": [
    {
     "data": {
      "text/html": [
       "<table class=\"simpletable\">\n",
       "<caption>OLS Regression Results</caption>\n",
       "<tr>\n",
       "  <th>Dep. Variable:</th>    <td>log_DomesticTotalGross</td> <th>  R-squared:         </th> <td>   0.283</td>\n",
       "</tr>\n",
       "<tr>\n",
       "  <th>Model:</th>                      <td>OLS</td>          <th>  Adj. R-squared:    </th> <td>   0.249</td>\n",
       "</tr>\n",
       "<tr>\n",
       "  <th>Method:</th>                <td>Least Squares</td>     <th>  F-statistic:       </th> <td>   8.300</td>\n",
       "</tr>\n",
       "<tr>\n",
       "  <th>Date:</th>                <td>Sun, 28 Jan 2018</td>    <th>  Prob (F-statistic):</th> <td>1.08e-05</td>\n",
       "</tr>\n",
       "<tr>\n",
       "  <th>Time:</th>                    <td>21:30:26</td>        <th>  Log-Likelihood:    </th> <td> -80.654</td>\n",
       "</tr>\n",
       "<tr>\n",
       "  <th>No. Observations:</th>         <td>    89</td>         <th>  AIC:               </th> <td>   171.3</td>\n",
       "</tr>\n",
       "<tr>\n",
       "  <th>Df Residuals:</th>             <td>    84</td>         <th>  BIC:               </th> <td>   183.8</td>\n",
       "</tr>\n",
       "<tr>\n",
       "  <th>Df Model:</th>                 <td>     4</td>         <th>                     </th>     <td> </td>   \n",
       "</tr>\n",
       "<tr>\n",
       "  <th>Covariance Type:</th>         <td>nonrobust</td>       <th>                     </th>     <td> </td>   \n",
       "</tr>\n",
       "</table>\n",
       "<table class=\"simpletable\">\n",
       "<tr>\n",
       "          <td></td>            <th>coef</th>     <th>std err</th>      <th>t</th>      <th>P>|t|</th>  <th>[0.025</th>    <th>0.975]</th>  \n",
       "</tr>\n",
       "<tr>\n",
       "  <th>Intercept</th>        <td>    5.1454</td> <td>    0.566</td> <td>    9.098</td> <td> 0.000</td> <td>    4.021</td> <td>    6.270</td>\n",
       "</tr>\n",
       "<tr>\n",
       "  <th>ones</th>             <td>    5.1454</td> <td>    0.566</td> <td>    9.098</td> <td> 0.000</td> <td>    4.021</td> <td>    6.270</td>\n",
       "</tr>\n",
       "<tr>\n",
       "  <th>log_Budget</th>       <td>    0.3111</td> <td>    0.082</td> <td>    3.811</td> <td> 0.000</td> <td>    0.149</td> <td>    0.473</td>\n",
       "</tr>\n",
       "<tr>\n",
       "  <th>Rated_PG</th>         <td>    1.8297</td> <td>    0.259</td> <td>    7.065</td> <td> 0.000</td> <td>    1.315</td> <td>    2.345</td>\n",
       "</tr>\n",
       "<tr>\n",
       "  <th>Q(\"Rated_PG-13\")</th> <td>    1.6695</td> <td>    0.223</td> <td>    7.474</td> <td> 0.000</td> <td>    1.225</td> <td>    2.114</td>\n",
       "</tr>\n",
       "<tr>\n",
       "  <th>Rated_R</th>          <td>    1.6461</td> <td>    0.169</td> <td>    9.745</td> <td> 0.000</td> <td>    1.310</td> <td>    1.982</td>\n",
       "</tr>\n",
       "<tr>\n",
       "  <th>Runtime</th>          <td>    0.0061</td> <td>    0.004</td> <td>    1.395</td> <td> 0.167</td> <td>   -0.003</td> <td>    0.015</td>\n",
       "</tr>\n",
       "</table>\n",
       "<table class=\"simpletable\">\n",
       "<tr>\n",
       "  <th>Omnibus:</th>       <td> 3.888</td> <th>  Durbin-Watson:     </th> <td>   0.726</td>\n",
       "</tr>\n",
       "<tr>\n",
       "  <th>Prob(Omnibus):</th> <td> 0.143</td> <th>  Jarque-Bera (JB):  </th> <td>   2.316</td>\n",
       "</tr>\n",
       "<tr>\n",
       "  <th>Skew:</th>          <td> 0.162</td> <th>  Prob(JB):          </th> <td>   0.314</td>\n",
       "</tr>\n",
       "<tr>\n",
       "  <th>Kurtosis:</th>      <td> 2.279</td> <th>  Cond. No.          </th> <td>1.39e+18</td>\n",
       "</tr>\n",
       "</table>"
      ],
      "text/plain": [
       "<class 'statsmodels.iolib.summary.Summary'>\n",
       "\"\"\"\n",
       "                              OLS Regression Results                              \n",
       "==================================================================================\n",
       "Dep. Variable:     log_DomesticTotalGross   R-squared:                       0.283\n",
       "Model:                                OLS   Adj. R-squared:                  0.249\n",
       "Method:                     Least Squares   F-statistic:                     8.300\n",
       "Date:                    Sun, 28 Jan 2018   Prob (F-statistic):           1.08e-05\n",
       "Time:                            21:30:26   Log-Likelihood:                -80.654\n",
       "No. Observations:                      89   AIC:                             171.3\n",
       "Df Residuals:                          84   BIC:                             183.8\n",
       "Df Model:                               4                                         \n",
       "Covariance Type:                nonrobust                                         \n",
       "====================================================================================\n",
       "                       coef    std err          t      P>|t|      [0.025      0.975]\n",
       "------------------------------------------------------------------------------------\n",
       "Intercept            5.1454      0.566      9.098      0.000       4.021       6.270\n",
       "ones                 5.1454      0.566      9.098      0.000       4.021       6.270\n",
       "log_Budget           0.3111      0.082      3.811      0.000       0.149       0.473\n",
       "Rated_PG             1.8297      0.259      7.065      0.000       1.315       2.345\n",
       "Q(\"Rated_PG-13\")     1.6695      0.223      7.474      0.000       1.225       2.114\n",
       "Rated_R              1.6461      0.169      9.745      0.000       1.310       1.982\n",
       "Runtime              0.0061      0.004      1.395      0.167      -0.003       0.015\n",
       "==============================================================================\n",
       "Omnibus:                        3.888   Durbin-Watson:                   0.726\n",
       "Prob(Omnibus):                  0.143   Jarque-Bera (JB):                2.316\n",
       "Skew:                           0.162   Prob(JB):                        0.314\n",
       "Kurtosis:                       2.279   Cond. No.                     1.39e+18\n",
       "==============================================================================\n",
       "\n",
       "Warnings:\n",
       "[1] Standard Errors assume that the covariance matrix of the errors is correctly specified.\n",
       "[2] The smallest eigenvalue is 6.09e-31. This might indicate that there are\n",
       "strong multicollinearity problems or that the design matrix is singular.\n",
       "\"\"\""
      ]
     },
     "execution_count": 26,
     "metadata": {},
     "output_type": "execute_result"
    }
   ],
   "source": [
    "res.summary()"
   ]
  },
  {
   "cell_type": "code",
   "execution_count": 27,
   "metadata": {
    "collapsed": true
   },
   "outputs": [],
   "source": [
    "y_pred = res.predict(X)"
   ]
  },
  {
   "cell_type": "code",
   "execution_count": 28,
   "metadata": {},
   "outputs": [
    {
     "data": {
      "text/plain": [
       "<matplotlib.text.Text at 0x11507ee48>"
      ]
     },
     "execution_count": 28,
     "metadata": {},
     "output_type": "execute_result"
    },
    {
     "data": {
      "image/png": "[encoded data removed]",
      "text/plain": [
       "<matplotlib.figure.Figure at 0x114e69588>"
      ]
     },
     "metadata": {},
     "output_type": "display_data"
    }
   ],
   "source": [
    "plt.figure(figsize=(12,8))\n",
    "plt.scatter(X['log_Budget'].apply(np.exp), y.apply(np.exp), label='Actual', c='b')\n",
    "plt.scatter(X['log_Budget'].apply(np.exp), y_pred.apply(np.exp), label='Predicted', c='r')\n",
    "plt.legend();\n",
    "plt.xlabel('Budget')\n",
    "plt.ylabel('Domestic Total Gross')"
   ]
  },
  {
   "cell_type": "markdown",
   "metadata": {},
   "source": [
    "#### Challenge 5\n",
    "\n",
    "Fitting and checking predictions on the exact same data set can be\n",
    "misleading. Divide your data into two sets: a training and a test set\n",
    "(roughly 75% training, 25% test is a fine split). Fit a model on the\n",
    "training set, check the predictions (by plotting versus actual values)\n",
    "in the test set."
   ]
  },
  {
   "cell_type": "code",
   "execution_count": 29,
   "metadata": {},
   "outputs": [
    {
     "name": "stderr",
     "output_type": "stream",
     "text": [
      "/Library/Frameworks/Python.framework/Versions/3.6/lib/python3.6/site-packages/sklearn/cross_validation.py:41: DeprecationWarning: This module was deprecated in version 0.18 in favor of the model_selection module into which all the refactored classes and functions are moved. Also note that the interface of the new CV iterators are different from that of this module. This module will be removed in 0.20.\n",
      "  \"This module will be removed in 0.20.\", DeprecationWarning)\n"
     ]
    }
   ],
   "source": [
    "from sklearn.cross_validation import train_test_split"
   ]
  },
  {
   "cell_type": "code",
   "execution_count": 30,
   "metadata": {
    "collapsed": true
   },
   "outputs": [],
   "source": [
    "# Include ones and budget\n",
    "y, X = patsy.dmatrices('log_DomesticTotalGross ~ ones + log_Budget + Rated_PG + Q(\"Rated_PG-13\") + Rated_R + Runtime', \n",
    "                       data=df_with_dummies, \n",
    "                       return_type='dataframe')"
   ]
  },
  {
   "cell_type": "code",
   "execution_count": 31,
   "metadata": {
    "collapsed": true
   },
   "outputs": [],
   "source": [
    "X_train, X_test, y_train, y_test = train_test_split(X, y, test_size=0.25, random_state=42)"
   ]
  },
  {
   "cell_type": "code",
   "execution_count": 32,
   "metadata": {
    "collapsed": true
   },
   "outputs": [],
   "source": [
    "model = sm.OLS(y_train, X_train)\n",
    "res = model.fit()"
   ]
  },
  {
   "cell_type": "code",
   "execution_count": 33,
   "metadata": {},
   "outputs": [
    {
     "data": {
      "text/html": [
       "<table class=\"simpletable\">\n",
       "<caption>OLS Regression Results</caption>\n",
       "<tr>\n",
       "  <th>Dep. Variable:</th>    <td>log_DomesticTotalGross</td> <th>  R-squared:         </th> <td>   0.275</td>\n",
       "</tr>\n",
       "<tr>\n",
       "  <th>Model:</th>                      <td>OLS</td>          <th>  Adj. R-squared:    </th> <td>   0.227</td>\n",
       "</tr>\n",
       "<tr>\n",
       "  <th>Method:</th>                <td>Least Squares</td>     <th>  F-statistic:       </th> <td>   5.784</td>\n",
       "</tr>\n",
       "<tr>\n",
       "  <th>Date:</th>                <td>Sun, 28 Jan 2018</td>    <th>  Prob (F-statistic):</th> <td>0.000516</td>\n",
       "</tr>\n",
       "<tr>\n",
       "  <th>Time:</th>                    <td>21:30:27</td>        <th>  Log-Likelihood:    </th> <td> -60.558</td>\n",
       "</tr>\n",
       "<tr>\n",
       "  <th>No. Observations:</th>         <td>    66</td>         <th>  AIC:               </th> <td>   131.1</td>\n",
       "</tr>\n",
       "<tr>\n",
       "  <th>Df Residuals:</th>             <td>    61</td>         <th>  BIC:               </th> <td>   142.1</td>\n",
       "</tr>\n",
       "<tr>\n",
       "  <th>Df Model:</th>                 <td>     4</td>         <th>                     </th>     <td> </td>   \n",
       "</tr>\n",
       "<tr>\n",
       "  <th>Covariance Type:</th>         <td>nonrobust</td>       <th>                     </th>     <td> </td>   \n",
       "</tr>\n",
       "</table>\n",
       "<table class=\"simpletable\">\n",
       "<tr>\n",
       "          <td></td>            <th>coef</th>     <th>std err</th>      <th>t</th>      <th>P>|t|</th>  <th>[0.025</th>    <th>0.975]</th>  \n",
       "</tr>\n",
       "<tr>\n",
       "  <th>Intercept</th>        <td>    5.2412</td> <td>    0.766</td> <td>    6.845</td> <td> 0.000</td> <td>    3.710</td> <td>    6.772</td>\n",
       "</tr>\n",
       "<tr>\n",
       "  <th>ones</th>             <td>    5.2412</td> <td>    0.766</td> <td>    6.845</td> <td> 0.000</td> <td>    3.710</td> <td>    6.772</td>\n",
       "</tr>\n",
       "<tr>\n",
       "  <th>log_Budget</th>       <td>    0.3038</td> <td>    0.111</td> <td>    2.726</td> <td> 0.008</td> <td>    0.081</td> <td>    0.527</td>\n",
       "</tr>\n",
       "<tr>\n",
       "  <th>Rated_PG</th>         <td>    1.9270</td> <td>    0.351</td> <td>    5.486</td> <td> 0.000</td> <td>    1.225</td> <td>    2.629</td>\n",
       "</tr>\n",
       "<tr>\n",
       "  <th>Q(\"Rated_PG-13\")</th> <td>    1.6687</td> <td>    0.302</td> <td>    5.523</td> <td> 0.000</td> <td>    1.065</td> <td>    2.273</td>\n",
       "</tr>\n",
       "<tr>\n",
       "  <th>Rated_R</th>          <td>    1.6455</td> <td>    0.202</td> <td>    8.130</td> <td> 0.000</td> <td>    1.241</td> <td>    2.050</td>\n",
       "</tr>\n",
       "<tr>\n",
       "  <th>Runtime</th>          <td>    0.0049</td> <td>    0.005</td> <td>    0.917</td> <td> 0.363</td> <td>   -0.006</td> <td>    0.016</td>\n",
       "</tr>\n",
       "</table>\n",
       "<table class=\"simpletable\">\n",
       "<tr>\n",
       "  <th>Omnibus:</th>       <td> 4.172</td> <th>  Durbin-Watson:     </th> <td>   1.632</td>\n",
       "</tr>\n",
       "<tr>\n",
       "  <th>Prob(Omnibus):</th> <td> 0.124</td> <th>  Jarque-Bera (JB):  </th> <td>   2.757</td>\n",
       "</tr>\n",
       "<tr>\n",
       "  <th>Skew:</th>          <td> 0.320</td> <th>  Prob(JB):          </th> <td>   0.252</td>\n",
       "</tr>\n",
       "<tr>\n",
       "  <th>Kurtosis:</th>      <td> 2.231</td> <th>  Cond. No.          </th> <td>1.46e+18</td>\n",
       "</tr>\n",
       "</table>"
      ],
      "text/plain": [
       "<class 'statsmodels.iolib.summary.Summary'>\n",
       "\"\"\"\n",
       "                              OLS Regression Results                              \n",
       "==================================================================================\n",
       "Dep. Variable:     log_DomesticTotalGross   R-squared:                       0.275\n",
       "Model:                                OLS   Adj. R-squared:                  0.227\n",
       "Method:                     Least Squares   F-statistic:                     5.784\n",
       "Date:                    Sun, 28 Jan 2018   Prob (F-statistic):           0.000516\n",
       "Time:                            21:30:27   Log-Likelihood:                -60.558\n",
       "No. Observations:                      66   AIC:                             131.1\n",
       "Df Residuals:                          61   BIC:                             142.1\n",
       "Df Model:                               4                                         \n",
       "Covariance Type:                nonrobust                                         \n",
       "====================================================================================\n",
       "                       coef    std err          t      P>|t|      [0.025      0.975]\n",
       "------------------------------------------------------------------------------------\n",
       "Intercept            5.2412      0.766      6.845      0.000       3.710       6.772\n",
       "ones                 5.2412      0.766      6.845      0.000       3.710       6.772\n",
       "log_Budget           0.3038      0.111      2.726      0.008       0.081       0.527\n",
       "Rated_PG             1.9270      0.351      5.486      0.000       1.225       2.629\n",
       "Q(\"Rated_PG-13\")     1.6687      0.302      5.523      0.000       1.065       2.273\n",
       "Rated_R              1.6455      0.202      8.130      0.000       1.241       2.050\n",
       "Runtime              0.0049      0.005      0.917      0.363      -0.006       0.016\n",
       "==============================================================================\n",
       "Omnibus:                        4.172   Durbin-Watson:                   1.632\n",
       "Prob(Omnibus):                  0.124   Jarque-Bera (JB):                2.757\n",
       "Skew:                           0.320   Prob(JB):                        0.252\n",
       "Kurtosis:                       2.231   Cond. No.                     1.46e+18\n",
       "==============================================================================\n",
       "\n",
       "Warnings:\n",
       "[1] Standard Errors assume that the covariance matrix of the errors is correctly specified.\n",
       "[2] The smallest eigenvalue is 4.2e-31. This might indicate that there are\n",
       "strong multicollinearity problems or that the design matrix is singular.\n",
       "\"\"\""
      ]
     },
     "execution_count": 33,
     "metadata": {},
     "output_type": "execute_result"
    }
   ],
   "source": [
    "res.summary()"
   ]
  },
  {
   "cell_type": "code",
   "execution_count": 34,
   "metadata": {
    "collapsed": true
   },
   "outputs": [],
   "source": [
    "y_pred = res.predict(X_test)"
   ]
  },
  {
   "cell_type": "code",
   "execution_count": 35,
   "metadata": {},
   "outputs": [
    {
     "data": {
      "text/plain": [
       "<matplotlib.text.Text at 0x11605da20>"
      ]
     },
     "execution_count": 35,
     "metadata": {},
     "output_type": "execute_result"
    },
    {
     "data": {
      "image/png": "[encoded data removed]",
      "text/plain": [
       "<matplotlib.figure.Figure at 0x116022438>"
      ]
     },
     "metadata": {},
     "output_type": "display_data"
    }
   ],
   "source": [
    "plt.figure(figsize=(12,8))\n",
    "plt.scatter(X_test['log_Budget'].apply(np.exp), y_test.apply(np.exp), label='Actual', c='b')\n",
    "plt.scatter(X_test['log_Budget'].apply(np.exp), y_pred.apply(np.exp), label='Predicted', c='r')\n",
    "plt.legend();\n",
    "plt.xlabel('Budget')\n",
    "plt.ylabel('Domestic Total Gross')\n",
    "plt.title('Testing Dataset Only')"
   ]
  }
 ],
 "metadata": {
  "kernelspec": {
   "display_name": "Python 3",
   "language": "python",
   "name": "python3"
  },
  "language_info": {
   "codemirror_mode": {
    "name": "ipython",
    "version": 3
   },
   "file_extension": ".py",
   "mimetype": "text/x-python",
   "name": "python",
   "nbconvert_exporter": "python",
   "pygments_lexer": "ipython3",
   "version": "3.6.1"
  }
 },
 "nbformat": 4,
 "nbformat_minor": 2
}
