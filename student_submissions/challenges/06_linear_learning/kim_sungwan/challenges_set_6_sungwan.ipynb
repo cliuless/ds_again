{
 "cells": [
  {
   "cell_type": "markdown",
   "metadata": {},
   "source": [
    "## Linear Regression and Learning Curve challenges"
   ]
  },
  {
   "cell_type": "markdown",
   "metadata": {},
   "source": [
    "`Topic:      Challenge Set 6\n",
    "Subject:    Linear Regression and Learning Curve challenges\n",
    "Date:       01/28/17\n",
    "Name:       Sungwan Kim`"
   ]
  },
  {
   "cell_type": "code",
   "execution_count": 1,
   "metadata": {
    "ExecuteTime": {
     "end_time": "2018-01-31T22:48:35.466296Z",
     "start_time": "2018-01-31T22:48:34.126191Z"
    }
   },
   "outputs": [
    {
     "name": "stderr",
     "output_type": "stream",
     "text": [
      "/Users/sungwankim/anaconda2/envs/python3/lib/python3.6/site-packages/statsmodels/compat/pandas.py:56: FutureWarning: The pandas.core.datetools module is deprecated and will be removed in a future version. Please use the pandas.tseries module instead.\n",
      "  from pandas.core import datetools\n",
      "/Users/sungwankim/anaconda2/envs/python3/lib/python3.6/site-packages/sklearn/cross_validation.py:41: DeprecationWarning: This module was deprecated in version 0.18 in favor of the model_selection module into which all the refactored classes and functions are moved. Also note that the interface of the new CV iterators are different from that of this module. This module will be removed in 0.20.\n",
      "  \"This module will be removed in 0.20.\", DeprecationWarning)\n"
     ]
    }
   ],
   "source": [
    "import numpy as np\n",
    "import pandas as pd\n",
    "import matplotlib.pyplot as plt\n",
    "%matplotlib inline\n",
    "\n",
    "import patsy\n",
    "import statsmodels.api as sm\n",
    "import statsmodels.formula.api as smf\n",
    "from sklearn.linear_model import LinearRegression\n",
    "from sklearn.preprocessing import PolynomialFeatures\n",
    "from sklearn.pipeline import make_pipeline\n",
    "from sklearn.cross_validation import train_test_split\n",
    "from sklearn.metrics import mean_squared_error"
   ]
  },
  {
   "cell_type": "markdown",
   "metadata": {},
   "source": [
    "### Challenge 1\n",
    "Generate (fake) data that is linearly related to $log(x)$.\n",
    "\n",
    "You are making this model up. It is of the form $\\beta_{0} + \\beta_{1}log(x) + \\epsilon$. (You are making up the parameters.)\n",
    "\n",
    "Simulate some data from this model.\n",
    "\n",
    "Then fit two models to it:\n",
    "\n",
    "* quadratic (second degree polynomial)\n",
    "* logarithmic ($log(x)$)\n",
    "\n",
    "(The second one should fit really well, since it has the same form as the underlying model!)"
   ]
  },
  {
   "cell_type": "code",
   "execution_count": 2,
   "metadata": {
    "ExecuteTime": {
     "end_time": "2018-01-31T22:48:35.488666Z",
     "start_time": "2018-01-31T22:48:35.477372Z"
    },
    "collapsed": true
   },
   "outputs": [],
   "source": [
    "np.random.seed(11)\n",
    "def f(x):\n",
    "    return np.log(x) + 5\n",
    "X = np.random.uniform(0, 1, size = 100)[:, np.newaxis]  # force matrix\n",
    "y = f(X) + np.random.normal(scale = 0.3, size = 100)[:, np.newaxis]"
   ]
  },
  {
   "cell_type": "code",
   "execution_count": 3,
   "metadata": {
    "ExecuteTime": {
     "end_time": "2018-01-31T22:48:35.798511Z",
     "start_time": "2018-01-31T22:48:35.492404Z"
    }
   },
   "outputs": [
    {
     "data": {
      "text/plain": [
       "0.8749158343991223"
      ]
     },
     "execution_count": 3,
     "metadata": {},
     "output_type": "execute_result"
    }
   ],
   "source": [
    "degree = 2\n",
    "est = make_pipeline(PolynomialFeatures(degree), LinearRegression(fit_intercept = False))\n",
    "est.fit(X, y)\n",
    "est.score(X, y)"
   ]
  },
  {
   "cell_type": "code",
   "execution_count": 4,
   "metadata": {
    "ExecuteTime": {
     "end_time": "2018-01-31T22:48:35.824828Z",
     "start_time": "2018-01-31T22:48:35.804619Z"
    }
   },
   "outputs": [
    {
     "data": {
      "text/plain": [
       "0.9342794210170648"
      ]
     },
     "execution_count": 4,
     "metadata": {},
     "output_type": "execute_result"
    }
   ],
   "source": [
    "log_X = np.log(X)\n",
    "lr = LinearRegression()\n",
    "lr.fit(log_X, y)\n",
    "lr.score(log_X, y)"
   ]
  },
  {
   "cell_type": "markdown",
   "metadata": {},
   "source": [
    "### Challenge 2\n",
    "Generate (fake) data from a model of the form $\\beta_{0} + \\beta_{1}x + \\beta_{2} x^2 + \\epsilon$. (You are making up the parameters.)\n",
    "\n",
    "Split the data into a training and test set.\n",
    "\n",
    "Fit a model to your training set. Calculate mean squared error on your training set. Then calculate it on your test set.\n",
    "\n",
    "(You could use `sklearn.metrics.mean_squared_error`.)"
   ]
  },
  {
   "cell_type": "code",
   "execution_count": 5,
   "metadata": {
    "ExecuteTime": {
     "end_time": "2018-01-31T22:48:35.843902Z",
     "start_time": "2018-01-31T22:48:35.835539Z"
    },
    "collapsed": true
   },
   "outputs": [],
   "source": [
    "np.random.seed(11)\n",
    "def f(x):\n",
    "    return x ** 2 + 3 * x + 5\n",
    "X = np.random.uniform(0, 1, size = 100)[:, np.newaxis]  # force matrix\n",
    "y = f(X) + np.random.normal(scale = 0.3, size = 100)[:, np.newaxis]"
   ]
  },
  {
   "cell_type": "code",
   "execution_count": 6,
   "metadata": {
    "ExecuteTime": {
     "end_time": "2018-01-31T22:48:35.871438Z",
     "start_time": "2018-01-31T22:48:35.847662Z"
    }
   },
   "outputs": [
    {
     "data": {
      "text/plain": [
       "0.06333832121141522"
      ]
     },
     "execution_count": 6,
     "metadata": {},
     "output_type": "execute_result"
    }
   ],
   "source": [
    "X_train, X_test, y_train, y_test = train_test_split(X, y, test_size = 0.25)\n",
    "degree = 2\n",
    "est = make_pipeline(PolynomialFeatures(degree), LinearRegression(fit_intercept = False))\n",
    "est.fit(X_train, y_train)\n",
    "train_error = mean_squared_error(y_train, est.predict(X_train))\n",
    "test_error = mean_squared_error(y_test, est.predict(X_test))\n",
    "train_error"
   ]
  },
  {
   "cell_type": "code",
   "execution_count": 7,
   "metadata": {
    "ExecuteTime": {
     "end_time": "2018-01-31T22:48:35.880570Z",
     "start_time": "2018-01-31T22:48:35.874961Z"
    }
   },
   "outputs": [
    {
     "data": {
      "text/plain": [
       "0.11073858315314192"
      ]
     },
     "execution_count": 7,
     "metadata": {},
     "output_type": "execute_result"
    }
   ],
   "source": [
    "test_error"
   ]
  },
  {
   "cell_type": "markdown",
   "metadata": {},
   "source": [
    "### Challenge 3\n",
    "For the data from two (above), try polynomial fits from 0th (just constant) to 7th order (highest term $x^7$). Over the x axis of model degree (8 points), plot:\n",
    "\n",
    "* training error\n",
    "* test error\n",
    "* $R^2$\n",
    "* AIC"
   ]
  },
  {
   "cell_type": "code",
   "execution_count": 8,
   "metadata": {
    "ExecuteTime": {
     "end_time": "2018-01-31T22:48:35.901207Z",
     "start_time": "2018-01-31T22:48:35.883247Z"
    },
    "collapsed": true
   },
   "outputs": [],
   "source": [
    "def plot_approximation(est, ax, label = None):\n",
    "    \"\"\"Plot the approximation of ``est`` on axis ``ax``. \"\"\"\n",
    "    ax.plot(x_plot, f(x_plot), label = 'ground truth', color = 'green')\n",
    "    ax.scatter(X, y, s = 100)   # our data \n",
    "    ax.plot(x_plot, est.predict(x_plot[:, np.newaxis]), color = 'red', label = label)\n",
    "    ax.set_ylim((-2, 2))\n",
    "    ax.set_xlim((0, 1))\n",
    "    ax.set_ylabel('y')\n",
    "    ax.set_xlabel('x')\n",
    "    ax.legend(loc = 'upper right', frameon = True)"
   ]
  },
  {
   "cell_type": "code",
   "execution_count": 9,
   "metadata": {
    "ExecuteTime": {
     "end_time": "2018-01-31T22:48:36.389289Z",
     "start_time": "2018-01-31T22:48:35.904544Z"
    }
   },
   "outputs": [
    {
     "data": {
      "image/png": "[encoded data removed]",
      "text/plain": [
       "<matplotlib.figure.Figure at 0x1c1263fc18>"
      ]
     },
     "metadata": {},
     "output_type": "display_data"
    }
   ],
   "source": [
    "X_train, X_test, y_train, y_test = train_test_split(X, y, test_size = 0.25)\n",
    "train_error = np.empty(8)\n",
    "test_error = np.empty(8)\n",
    "r2 = np.empty(8)\n",
    "aic = np.empty(8)\n",
    "for degree in range(8):\n",
    "    est = make_pipeline(PolynomialFeatures(degree), LinearRegression())\n",
    "    est.fit(X_train, y_train)\n",
    "    train_error[degree] = mean_squared_error(y_train, est.predict(X_train))\n",
    "    test_error[degree] = mean_squared_error(y_test, est.predict(X_test))\n",
    "    r2[degree] = est.score(X_test, y_test)\n",
    "    aic[degree] = sum((y_test - est.predict(X_test)) ** 2)\n",
    "    \n",
    "\n",
    "# Plot the training and test errors against degree\n",
    "plt.figure(figsize = (8,6))\n",
    "plt.plot(np.arange(8), train_error, color = 'green', label = 'train')\n",
    "plt.plot(np.arange(8), test_error, color = 'red', label = 'test')\n",
    "plt.plot(np.arange(8), r2, color = 'blue', label = 'r2')\n",
    "plt.plot(np.arange(8), aic, color = 'black', label = 'aic')\n",
    "plt.ylim((0.0, 5))\n",
    "plt.xlabel('degree')\n",
    "plt.legend(loc = 'upper left');"
   ]
  },
  {
   "cell_type": "markdown",
   "metadata": {},
   "source": [
    "### Challenge 4\n",
    "For the data from two (above), fit a model to only the first 5 of your data points (m=5). Then to first 10 (m=10). Then to first 15 (m=15). In this manner, keep fitting until you fit your entire training set. For each step, calculate the training error and the test error. Plot both (in the same plot) over m. This is called a learning curve."
   ]
  },
  {
   "cell_type": "code",
   "execution_count": 10,
   "metadata": {
    "ExecuteTime": {
     "end_time": "2018-01-31T22:48:36.809401Z",
     "start_time": "2018-01-31T22:48:36.391765Z"
    }
   },
   "outputs": [
    {
     "data": {
      "image/png": "[encoded data removed]",
      "text/plain": [
       "<matplotlib.figure.Figure at 0x1c1b592320>"
      ]
     },
     "metadata": {},
     "output_type": "display_data"
    }
   ],
   "source": [
    "train_error = np.empty(20)\n",
    "test_error = np.empty(20)\n",
    "X_train, X_test, y_train, y_test = train_test_split(X, y, test_size = 0.25)\n",
    "for i in np.linspace(0.05, 1, 20):\n",
    "    X_ttrain, X_ttest, y_ttrain, y_ttest = train_test_split(X_train, y_train, test_size = 1 - i)\n",
    "    est = make_pipeline(PolynomialFeatures(2), LinearRegression())\n",
    "    est.fit(X_ttrain, y_ttrain)\n",
    "    train_error[degree] = mean_squared_error(y_ttrain, est.predict(X_ttrain))\n",
    "    test_error[degree] = mean_squared_error(y_test, est.predict(X_test))\n",
    "    \n",
    "# Plot the training and test errors against degree\n",
    "plt.figure(figsize = (8,6))\n",
    "plt.plot(np.arange(20), train_error, color = 'green', label = 'train')\n",
    "plt.plot(np.arange(20), test_error, color = 'red', label = 'test')\n",
    "plt.ylim((0.0, 10))\n",
    "plt.ylabel('mean squared error')\n",
    "plt.xlabel('training size')\n",
    "plt.legend(loc = 'upper left');"
   ]
  }
 ],
 "metadata": {
  "kernelspec": {
   "display_name": "Python 3",
   "language": "python",
   "name": "python3"
  },
  "language_info": {
   "codemirror_mode": {
    "name": "ipython",
    "version": 3
   },
   "file_extension": ".py",
   "mimetype": "text/x-python",
   "name": "python",
   "nbconvert_exporter": "python",
   "pygments_lexer": "ipython3",
   "version": "3.6.4"
  },
  "latex_envs": {
   "LaTeX_envs_menu_present": true,
   "autoclose": false,
   "autocomplete": true,
   "bibliofile": "biblio.bib",
   "cite_by": "apalike",
   "current_citInitial": 1,
   "eqLabelWithNumbers": true,
   "eqNumInitial": 1,
   "hotkeys": {
    "equation": "Ctrl-E",
    "itemize": "Ctrl-I"
   },
   "labels_anchors": false,
   "latex_user_defs": false,
   "report_style_numbering": false,
   "user_envs_cfg": false
  },
  "toc": {
   "nav_menu": {},
   "number_sections": false,
   "sideBar": true,
   "skip_h1_title": false,
   "title_cell": "Table of Contents",
   "title_sidebar": "Contents",
   "toc_cell": false,
   "toc_position": {
    "height": "calc(100% - 180px)",
    "left": "10px",
    "top": "150px",
    "width": "256px"
   },
   "toc_section_display": true,
   "toc_window_display": false
  }
 },
 "nbformat": 4,
 "nbformat_minor": 2
}
