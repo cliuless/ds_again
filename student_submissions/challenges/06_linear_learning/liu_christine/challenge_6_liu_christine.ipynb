{
 "cells": [
  {
   "cell_type": "markdown",
   "metadata": {},
   "source": [
    "**Topic**: Challenge Set 6  \n",
    "**Subject**: Learning Curve  \n",
    "**Date**: 02/03/2018  \n",
    "**Name**: Christine Liu"
   ]
  },
  {
   "cell_type": "code",
   "execution_count": 1,
   "metadata": {},
   "outputs": [
    {
     "name": "stderr",
     "output_type": "stream",
     "text": [
      "/Users/cliuless/anaconda3/lib/python3.6/site-packages/statsmodels/compat/pandas.py:56: FutureWarning: The pandas.core.datetools module is deprecated and will be removed in a future version. Please use the pandas.tseries module instead.\n",
      "  from pandas.core import datetools\n"
     ]
    }
   ],
   "source": [
    "import pandas as pd\n",
    "import numpy as np\n",
    "import statsmodels.api as sm\n",
    "import statsmodels.formula.api as smf\n",
    "import patsy\n",
    "import seaborn as sns\n",
    "import matplotlib.pyplot as plt\n",
    "from sklearn.linear_model import LinearRegression\n",
    "from sklearn.linear_model import RidgeCV\n",
    "from sklearn.pipeline import make_pipeline\n",
    "from sklearn.preprocessing import PolynomialFeatures\n",
    "from sklearn.model_selection import train_test_split\n",
    "from sklearn.metrics import mean_squared_error"
   ]
  },
  {
   "cell_type": "markdown",
   "metadata": {},
   "source": [
    "#### Challenge 1\n",
    "Generate (fake) data that is linearly related to log(x).\n",
    "You are making this model up. It is of the form B0 + B1*log(x) + epsilon. (You are making up the parameters.)\n",
    "Simulate some data from this model.\n",
    "Then fit two models to it:\n",
    "quadratic (second degree polynomial)\n",
    "logarithmic (log(x))\n",
    "(The second one should fit really well, since it has the same form as the underlying model!)"
   ]
  },
  {
   "cell_type": "code",
   "execution_count": 2,
   "metadata": {},
   "outputs": [],
   "source": [
    "# generate points and keep a subset of them\n",
    "n_samples = 100\n",
    "B0 = 1.5\n",
    "B1 = 5\n",
    "eps = np.random.random_sample(n_samples)  - .5\n",
    "X = np.random.random_sample(n_samples)\n",
    "# X2 = np.random.uniform(0, 5, size=n_samples)[:, np.newaxis]\n",
    "\n",
    "#random function\n",
    "y = (B0 + B1*np.log(X) + eps)"
   ]
  },
  {
   "cell_type": "code",
   "execution_count": 3,
   "metadata": {},
   "outputs": [],
   "source": [
    "X = X.reshape(-1,1)\n",
    "y = y.reshape(-1,1)"
   ]
  },
  {
   "cell_type": "code",
   "execution_count": 4,
   "metadata": {
    "scrolled": true
   },
   "outputs": [
    {
     "data": {
      "text/plain": [
       "0.83674977951653362"
      ]
     },
     "execution_count": 4,
     "metadata": {},
     "output_type": "execute_result"
    }
   ],
   "source": [
    "# fit quadratic (second degree polynomial) \n",
    "# Set the degree of our polynomial\n",
    "degree = 2\n",
    "# use make_pipeline to feed polynomialfunction into linear regression\n",
    "model = make_pipeline(PolynomialFeatures(degree), LinearRegression())\n",
    "model.fit(X,y)\n",
    "model.score(X,y)"
   ]
  },
  {
   "cell_type": "code",
   "execution_count": 5,
   "metadata": {},
   "outputs": [
    {
     "data": {
      "text/plain": [
       "0.997893770029886"
      ]
     },
     "execution_count": 5,
     "metadata": {},
     "output_type": "execute_result"
    }
   ],
   "source": [
    "#fit to log by making X a log\n",
    "# ASK - does that make sense?\n",
    "\n",
    "lr_log = LinearRegression()\n",
    "lr_log.fit(np.log(X),y)\n",
    "lr_log.score(np.log(X),y)"
   ]
  },
  {
   "cell_type": "markdown",
   "metadata": {},
   "source": [
    "#### Challenge 2\n",
    "Generate (fake) data from a model of the form B0 + B1*x + B2*x^2 + epsilon. (You are making up the parameters.)\n",
    "Split the data into a training and test set. Fit a model to your training set. Calculate mean squared error on your training set. Then calculate it on your test set.(You could use sklearn.metrics.mean_squared_error.)"
   ]
  },
  {
   "cell_type": "code",
   "execution_count": 54,
   "metadata": {},
   "outputs": [],
   "source": [
    "# generate points and keep a subset of them\n",
    "n_samples = 100\n",
    "B0 = np.random.uniform(0.1,10)\n",
    "B1 = np.random.uniform(0.1,10)\n",
    "B2 = np.random.uniform(0.1,10)\n",
    "eps = np.random.normal(scale=.8, size=n_samples)[:, np.newaxis] - .2"
   ]
  },
  {
   "cell_type": "code",
   "execution_count": 55,
   "metadata": {},
   "outputs": [],
   "source": [
    "X2 = np.linspace(0, 10, 100)[:, np.newaxis]\n",
    "y2 = B0 + B1*X2 + B2*X2**2 + eps"
   ]
  },
  {
   "cell_type": "code",
   "execution_count": 56,
   "metadata": {},
   "outputs": [],
   "source": [
    "X2_train, X2_test, y2_train, y2_test = train_test_split(X2, y2, test_size=0.3)"
   ]
  },
  {
   "cell_type": "code",
   "execution_count": 57,
   "metadata": {},
   "outputs": [
    {
     "data": {
      "text/plain": [
       "0.99993224645634138"
      ]
     },
     "execution_count": 57,
     "metadata": {},
     "output_type": "execute_result"
    }
   ],
   "source": [
    "# fit quadratic (second degree polynomial) \n",
    "# Set the degree of our polynomial\n",
    "degree = 2\n",
    "# use make_pipeline to feed polynomialfunction into linear regression\n",
    "# Fit a model to your training set.\n",
    "model2 = make_pipeline(PolynomialFeatures(degree), LinearRegression())\n",
    "model2.fit(X2_train,y2_train)\n",
    "model2.score(X2_test,y2_test)\n"
   ]
  },
  {
   "cell_type": "code",
   "execution_count": 58,
   "metadata": {},
   "outputs": [],
   "source": [
    "model2.predict(X2_train);"
   ]
  },
  {
   "cell_type": "code",
   "execution_count": 59,
   "metadata": {},
   "outputs": [
    {
     "data": {
      "text/plain": [
       "0.49227875731514237"
      ]
     },
     "execution_count": 59,
     "metadata": {},
     "output_type": "execute_result"
    }
   ],
   "source": [
    "# Calculate mean squared error on your training set. \n",
    "mean_squared_error(y2_train, model2.predict(X2_train))"
   ]
  },
  {
   "cell_type": "code",
   "execution_count": 60,
   "metadata": {},
   "outputs": [
    {
     "data": {
      "text/plain": [
       "0.61717883182068356"
      ]
     },
     "execution_count": 60,
     "metadata": {},
     "output_type": "execute_result"
    }
   ],
   "source": [
    "#  Then calculate it on your test set.(You could use sklearn.metrics.mean_squared_error.)\n",
    "mean_squared_error(y2_test, model2.predict(X2_test))"
   ]
  },
  {
   "cell_type": "markdown",
   "metadata": {},
   "source": [
    "#### Challenge 3\n",
    "For the data from two (above), try polynomial fits from 0th (just constant) to 7th order (highest term x^7). Over the x axis of model degree (8 points), plot:  \n",
    "*  training error\n",
    "*  test error\n",
    "*  R squared\n",
    "*  AIC"
   ]
  },
  {
   "cell_type": "code",
   "execution_count": 61,
   "metadata": {},
   "outputs": [
    {
     "data": {
      "text/plain": [
       "[<matplotlib.lines.Line2D at 0x1c14ad8f98>]"
      ]
     },
     "execution_count": 61,
     "metadata": {},
     "output_type": "execute_result"
    },
    {
     "data": {
      "image/png": "[encoded data removed]",
      "text/plain": [
       "<matplotlib.figure.Figure at 0x1c148c6f60>"
      ]
     },
     "metadata": {},
     "output_type": "display_data"
    }
   ],
   "source": [
    "training_error = []\n",
    "test_error = []\n",
    "r2 = []\n",
    "AIC = []\n",
    "\n",
    "for i in range(8):\n",
    "    model3 = make_pipeline(PolynomialFeatures(i), LinearRegression())\n",
    "    model3.fit(X2_train,y2_train)\n",
    "    training_error.append(mean_squared_error(X2_train, y2_train))\n",
    "    test_error.append(mean_squared_error(X2_test,y2_test))\n",
    "    r2.append(model3.score(X2_test,y2_test))\n",
    "    AIC.append(sum(y2_test - model3.predict(X2_test))**2)\n",
    "#plots\n",
    "plt.figure(figsize = (8,6))\n",
    "plt.plot(range(8), training_error, 'g', label = 'training MSE')\n",
    "plt.plot(range(8), test_error, 'r', label = 'test MSE')\n",
    "plt.plot(range(8), r2, 'b', label = 'r2')\n",
    "plt.plot(range(8), AIC, 'orange', label = 'AIC')\n",
    "\n"
   ]
  },
  {
   "cell_type": "markdown",
   "metadata": {},
   "source": [
    "#### Challenge 4\n",
    "For the data from two (above), fit a model to only the first 5 of your data points (m=5). Then to first 10 (m=10). Then to first 15 (m=15). In this manner, keep fitting until you fit your entire training set. For each step, calculate the training error and the test error. Plot both (in the same plot) over m. This is called a learning curve"
   ]
  },
  {
   "cell_type": "code",
   "execution_count": 106,
   "metadata": {},
   "outputs": [],
   "source": [
    "error_train = []\n",
    "error_test = []\n",
    "\n",
    "# Set the degree of our polynomial\n",
    "degree = 2\n",
    "# use make_pipeline to feed polynomialfunction into linear regression\n",
    "# Fit a model to your training set.\n",
    "\n",
    "for i in range(4,len(X2_train),5):\n",
    "    model3 = make_pipeline(PolynomialFeatures(degree), LinearRegression())\n",
    "    model3.fit(X2_train[0:i],y2_train[0:i])\n",
    "    model3.score(X2_test,y2_test)\n",
    "\n",
    "#  Then calculate it on your test set.(You could use sklearn.metrics.mean_squared_error.)\n",
    "    error_train.append(mean_squared_error(y2_train[0:i], model3.predict(X2_train[0:i])))\n",
    "    error_test.append(mean_squared_error(y2_test, model3.predict(X2_test)))\n",
    "\n"
   ]
  },
  {
   "cell_type": "code",
   "execution_count": 125,
   "metadata": {},
   "outputs": [
    {
     "data": {
      "text/plain": [
       "<matplotlib.legend.Legend at 0x1c15794c50>"
      ]
     },
     "execution_count": 125,
     "metadata": {},
     "output_type": "execute_result"
    },
    {
     "data": {
      "image/png": "[encoded data removed]",
      "text/plain": [
       "<matplotlib.figure.Figure at 0x1c1568e5f8>"
      ]
     },
     "metadata": {},
     "output_type": "display_data"
    }
   ],
   "source": [
    "fig1, ax1 = plt.subplots(figsize = (10,5))\n",
    "ax1.set_title('Learning Curve')\n",
    "ax1.set_xlabel('Number of Training Data Points Used (M)')\n",
    "ax1.set_ylabel('Error')\n",
    "ax1.plot(range(4,len(X2_train), 5), error_train, label = 'error train')\n",
    "ax1.plot(range(4,len(X2_train), 5), error_test, label = 'error test')\n",
    "ax1.legend()"
   ]
  },
  {
   "cell_type": "code",
   "execution_count": null,
   "metadata": {},
   "outputs": [],
   "source": []
  }
 ],
 "metadata": {
  "kernelspec": {
   "display_name": "Python 3",
   "language": "python",
   "name": "python3"
  },
  "language_info": {
   "codemirror_mode": {
    "name": "ipython",
    "version": 3
   },
   "file_extension": ".py",
   "mimetype": "text/x-python",
   "name": "python",
   "nbconvert_exporter": "python",
   "pygments_lexer": "ipython3",
   "version": "3.6.4"
  }
 },
 "nbformat": 4,
 "nbformat_minor": 2
}
