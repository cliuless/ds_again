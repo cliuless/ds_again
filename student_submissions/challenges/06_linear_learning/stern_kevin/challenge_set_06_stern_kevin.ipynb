{
 "cells": [
  {
   "cell_type": "markdown",
   "metadata": {},
   "source": [
    "## Challenge Set 6"
   ]
  },
  {
   "cell_type": "code",
   "execution_count": 52,
   "metadata": {
    "ExecuteTime": {
     "end_time": "2018-02-02T23:48:59.264438Z",
     "start_time": "2018-02-02T23:48:59.241597Z"
    }
   },
   "outputs": [],
   "source": [
    "##imports\n",
    "\n",
    "import pandas as pd\n",
    "pd.set_option('display.max_colwidth', 1000)\n",
    "import numpy as np\n",
    "import matplotlib.pyplot as plt\n",
    "import pickle\n",
    "import statsmodels.api as sm\n",
    "import statsmodels.formula.api as smf\n",
    "import patsy\n",
    "import seaborn as sns\n",
    "import scipy.stats as stats\n",
    "from sklearn.cross_validation import train_test_split\n",
    "%matplotlib inline\n",
    "import warnings\n",
    "warnings.filterwarnings(\"ignore\")\n",
    "from sklearn.linear_model import LinearRegression\n",
    "from sklearn.preprocessing import PolynomialFeatures\n",
    "from sklearn.pipeline import make_pipeline\n",
    "from sklearn.metrics import mean_squared_error\n",
    "from sklearn.metrics import r2_score"
   ]
  },
  {
   "cell_type": "markdown",
   "metadata": {},
   "source": [
    "# Linear Regression and Learning Curve challenges\n",
    "### Challenge 1\n",
    "Generate (fake) data that is linearly related to log(x).\n",
    "\n",
    "You are making this model up. It is of the form B0 + B1*log(x) + epsilon. (You are making up the parameters.)\n",
    "\n",
    "Simulate some data from this model.\n",
    "\n",
    "Then fit two models to it:\n",
    "\n",
    "quadratic (second degree polynomial)\n",
    "logarithmic (log(x))\n",
    "(The second one should fit really well, since it has the same form as the underlying model!)\n"
   ]
  },
  {
   "cell_type": "code",
   "execution_count": 15,
   "metadata": {
    "ExecuteTime": {
     "end_time": "2018-02-02T23:22:00.099563Z",
     "start_time": "2018-02-02T23:22:00.094791Z"
    }
   },
   "outputs": [],
   "source": [
    "X = np.random.uniform(0, 1, size=100)[:, np.newaxis]"
   ]
  },
  {
   "cell_type": "code",
   "execution_count": 16,
   "metadata": {
    "ExecuteTime": {
     "end_time": "2018-02-02T23:22:00.259538Z",
     "start_time": "2018-02-02T23:22:00.255610Z"
    }
   },
   "outputs": [],
   "source": [
    "df = 7 + 2.5*np.log(X) + np.random.normal(scale=0.3, size=100)[:, np.newaxis]"
   ]
  },
  {
   "cell_type": "code",
   "execution_count": 17,
   "metadata": {
    "ExecuteTime": {
     "end_time": "2018-02-02T23:22:00.626320Z",
     "start_time": "2018-02-02T23:22:00.620991Z"
    }
   },
   "outputs": [
    {
     "data": {
      "text/plain": [
       "(100, 1)"
      ]
     },
     "execution_count": 17,
     "metadata": {},
     "output_type": "execute_result"
    }
   ],
   "source": [
    "df.shape"
   ]
  },
  {
   "cell_type": "code",
   "execution_count": 25,
   "metadata": {
    "ExecuteTime": {
     "end_time": "2018-02-02T23:29:35.138178Z",
     "start_time": "2018-02-02T23:29:35.128587Z"
    }
   },
   "outputs": [],
   "source": [
    "est1 = make_pipeline(PolynomialFeatures(2), LinearRegression())\n",
    "est1.fit(X, df);\n",
    "preds1 = est1.predict(X)"
   ]
  },
  {
   "cell_type": "code",
   "execution_count": 27,
   "metadata": {
    "ExecuteTime": {
     "end_time": "2018-02-02T23:30:08.186841Z",
     "start_time": "2018-02-02T23:30:08.182027Z"
    }
   },
   "outputs": [],
   "source": [
    "est2 = LinearRegression()\n",
    "est2.fit(np.log(X), df)\n",
    "preds2 = est2.predict(np.log(X))"
   ]
  },
  {
   "cell_type": "code",
   "execution_count": 28,
   "metadata": {
    "ExecuteTime": {
     "end_time": "2018-02-02T23:30:26.010586Z",
     "start_time": "2018-02-02T23:30:25.732598Z"
    }
   },
   "outputs": [
    {
     "data": {
      "text/plain": [
       "<matplotlib.collections.PathCollection at 0x10c58a668>"
      ]
     },
     "execution_count": 28,
     "metadata": {},
     "output_type": "execute_result"
    },
    {
     "data": {
      "image/png": "[encoded data removed]",
      "text/plain": [
       "<matplotlib.figure.Figure at 0x10c5368d0>"
      ]
     },
     "metadata": {},
     "output_type": "display_data"
    }
   ],
   "source": [
    "plt.scatter(preds1,df)"
   ]
  },
  {
   "cell_type": "code",
   "execution_count": 32,
   "metadata": {
    "ExecuteTime": {
     "end_time": "2018-02-02T23:31:51.042234Z",
     "start_time": "2018-02-02T23:31:50.824061Z"
    }
   },
   "outputs": [
    {
     "data": {
      "text/plain": [
       "<matplotlib.collections.PathCollection at 0x10ca62128>"
      ]
     },
     "execution_count": 32,
     "metadata": {},
     "output_type": "execute_result"
    },
    {
     "data": {
      "image/png": "[encoded data removed]",
      "text/plain": [
       "<matplotlib.figure.Figure at 0x10c9c8b00>"
      ]
     },
     "metadata": {},
     "output_type": "display_data"
    }
   ],
   "source": [
    "plt.scatter(preds2,df)\n"
   ]
  },
  {
   "cell_type": "markdown",
   "metadata": {},
   "source": [
    "### Challenge 2\n",
    "Generate (fake) data from a model of the form B0 + B1*x + B2*x^2 + epsilon. (You are making up the parameters.)\n",
    "\n",
    "Split the data into a training and test set.\n",
    "\n",
    "Fit a model to your training set. Calculate mean squared error on your training set. Then calculate it on your test set.\n",
    "\n",
    "(You could use sklearn.metrics.mean_squared_error.)\n"
   ]
  },
  {
   "cell_type": "code",
   "execution_count": 33,
   "metadata": {
    "ExecuteTime": {
     "end_time": "2018-02-02T23:32:31.588318Z",
     "start_time": "2018-02-02T23:32:31.583287Z"
    }
   },
   "outputs": [],
   "source": [
    "X = np.random.uniform(0, 1, size=100)[:, np.newaxis]\n"
   ]
  },
  {
   "cell_type": "code",
   "execution_count": 37,
   "metadata": {
    "ExecuteTime": {
     "end_time": "2018-02-02T23:33:23.475901Z",
     "start_time": "2018-02-02T23:33:23.472476Z"
    }
   },
   "outputs": [],
   "source": [
    "d2 = 7 + 2.5*X + 3*(X**2) + np.random.normal(scale=0.3, size=100)[:, np.newaxis]"
   ]
  },
  {
   "cell_type": "code",
   "execution_count": 43,
   "metadata": {
    "ExecuteTime": {
     "end_time": "2018-02-02T23:38:53.624721Z",
     "start_time": "2018-02-02T23:38:53.621067Z"
    }
   },
   "outputs": [],
   "source": [
    "X_train, X_test, y_train, y_test = train_test_split(X,d2, test_size = 0.3)"
   ]
  },
  {
   "cell_type": "code",
   "execution_count": 47,
   "metadata": {
    "ExecuteTime": {
     "end_time": "2018-02-02T23:39:04.994236Z",
     "start_time": "2018-02-02T23:39:04.989379Z"
    }
   },
   "outputs": [],
   "source": [
    "est3 = make_pipeline(PolynomialFeatures(2), LinearRegression())\n",
    "est3.fit(X_train, y_train);"
   ]
  },
  {
   "cell_type": "code",
   "execution_count": 45,
   "metadata": {
    "ExecuteTime": {
     "end_time": "2018-02-02T23:38:55.172807Z",
     "start_time": "2018-02-02T23:38:55.167617Z"
    }
   },
   "outputs": [],
   "source": [
    "train_error = mean_squared_error(y_train, est3.predict(X_train))\n",
    "test_error = mean_squared_error(y_test, est3.predict(X_test))"
   ]
  },
  {
   "cell_type": "code",
   "execution_count": 48,
   "metadata": {
    "ExecuteTime": {
     "end_time": "2018-02-02T23:39:12.617530Z",
     "start_time": "2018-02-02T23:39:12.613181Z"
    }
   },
   "outputs": [
    {
     "name": "stdout",
     "output_type": "stream",
     "text": [
      "0.0700963662484\n",
      "0.0745342925656\n"
     ]
    }
   ],
   "source": [
    "print(train_error)\n",
    "print(test_error)"
   ]
  },
  {
   "cell_type": "markdown",
   "metadata": {},
   "source": [
    "### Challenge 3\n",
    "For the data from two (above), try polynomial fits from 0th (just constant) to 7th order (highest term x^7). Over the x axis of model degree (8 points), plot:\n",
    "\n",
    "- training error\n",
    "- test error\n",
    "- R squared\n",
    "- AIC"
   ]
  },
  {
   "cell_type": "code",
   "execution_count": 54,
   "metadata": {
    "ExecuteTime": {
     "end_time": "2018-02-02T23:49:14.303110Z",
     "start_time": "2018-02-02T23:49:13.994886Z"
    }
   },
   "outputs": [
    {
     "data": {
      "text/plain": [
       "<matplotlib.legend.Legend at 0x10cb9e710>"
      ]
     },
     "execution_count": 54,
     "metadata": {},
     "output_type": "execute_result"
    },
    {
     "data": {
      "image/png": "[encoded data removed]",
      "text/plain": [
       "<matplotlib.figure.Figure at 0x10cb64a20>"
      ]
     },
     "metadata": {},
     "output_type": "display_data"
    }
   ],
   "source": [
    "# Step through degrees from 0 to 7 and store the training and test (generalization) error.\n",
    "# create array of zeros,\n",
    "train_error = np.empty(8)\n",
    "test_error = np.empty(8)\n",
    "r_sq = np.empty(8)\n",
    "AIC = np.empty(8)\n",
    "for degree in range(8):\n",
    "    est = make_pipeline(PolynomialFeatures(degree), LinearRegression())\n",
    "    est.fit(X_train, y_train)\n",
    "    train_error[degree] = mean_squared_error(y_train, est.predict(X_train))\n",
    "    test_error[degree] = mean_squared_error(y_test, est.predict(X_test))\n",
    "    r_sq[degree] = r2_score(y_test, est.predict(X_test))\n",
    "    #AIC[degree] = (y_test, est.predict(X_test))\n",
    "\n",
    "# Plot the training, test errors, rsquared, and AIC against degree\n",
    "plt.figure(figsize=(8,6))\n",
    "plt.plot(np.arange(8), train_error, color='green', label='train')\n",
    "plt.plot(np.arange(8), test_error, color='red', label='test')\n",
    "plt.plot(np.arange(8), r_sq, color='blue', label='r_sq')\n",
    "#plt.plot(np.arange(8), AIC, color='black', label='AIC')\n",
    "plt.ylim((0.0, 1e0))\n",
    "plt.ylabel('scores')\n",
    "plt.xlabel('degree')\n",
    "plt.legend(loc='upper left')"
   ]
  },
  {
   "cell_type": "markdown",
   "metadata": {},
   "source": [
    "### Challenge 4\n",
    "For the data from two (above), fit a model to only the first 5 of your data points (m=5). Then to first 10 (m=10). Then to first 15 (m=15). In this manner, keep fitting until you fit your entire training set. For each step, calculate the training error and the test error. Plot both (in the same plot) over m. This is called a learning curve."
   ]
  },
  {
   "cell_type": "code",
   "execution_count": 90,
   "metadata": {
    "ExecuteTime": {
     "end_time": "2018-02-03T00:07:21.704211Z",
     "start_time": "2018-02-03T00:07:21.653429Z"
    }
   },
   "outputs": [],
   "source": [
    "train_error = np.empty(len(X)//5)\n",
    "test_error = np.empty(len(d2)//5)\n",
    "for i in range(5, len(X), 5):\n",
    "    X_train = X[:i, :]\n",
    "    X_test = X[i:, :]\n",
    "    y_train = d2[:i,:]\n",
    "    y_test = d2[i:, :]\n",
    "    est.fit(X_train, y_train)\n",
    "    train_error[i//5] = mean_squared_error(y_train, est.predict(X_train))\n",
    "    test_error[i//5] = mean_squared_error(y_test, est.predict(X_test))"
   ]
  },
  {
   "cell_type": "code",
   "execution_count": 97,
   "metadata": {
    "ExecuteTime": {
     "end_time": "2018-02-03T00:08:12.381497Z",
     "start_time": "2018-02-03T00:08:12.118981Z"
    }
   },
   "outputs": [
    {
     "data": {
      "text/plain": [
       "<matplotlib.legend.Legend at 0x10e3c2128>"
      ]
     },
     "execution_count": 97,
     "metadata": {},
     "output_type": "execute_result"
    },
    {
     "data": {
      "image/png": "[encoded data removed]",
      "text/plain": [
       "<matplotlib.figure.Figure at 0x10e0c9048>"
      ]
     },
     "metadata": {},
     "output_type": "display_data"
    }
   ],
   "source": [
    "plt.figure(figsize=(8,6))\n",
    "plt.plot(np.arange(20), train_error, color='green', label='train')\n",
    "plt.plot(np.arange(20), test_error, color='red', label='test')\n",
    "plt.ylim((0.0, 5e0))\n",
    "plt.ylabel('scores')\n",
    "plt.xlabel('number of data cuts')\n",
    "plt.legend(loc='upper left')"
   ]
  },
  {
   "cell_type": "code",
   "execution_count": null,
   "metadata": {},
   "outputs": [],
   "source": []
  }
 ],
 "metadata": {
  "kernelspec": {
   "display_name": "Python 3",
   "language": "python",
   "name": "python3"
  },
  "language_info": {
   "codemirror_mode": {
    "name": "ipython",
    "version": 3
   },
   "file_extension": ".py",
   "mimetype": "text/x-python",
   "name": "python",
   "nbconvert_exporter": "python",
   "pygments_lexer": "ipython3",
   "version": "3.5.1"
  },
  "varInspector": {
   "cols": {
    "lenName": 16,
    "lenType": 16,
    "lenVar": 40
   },
   "kernels_config": {
    "python": {
     "delete_cmd_postfix": "",
     "delete_cmd_prefix": "del ",
     "library": "var_list.py",
     "varRefreshCmd": "print(var_dic_list())"
    },
    "r": {
     "delete_cmd_postfix": ") ",
     "delete_cmd_prefix": "rm(",
     "library": "var_list.r",
     "varRefreshCmd": "cat(var_dic_list()) "
    }
   },
   "types_to_exclude": [
    "module",
    "function",
    "builtin_function_or_method",
    "instance",
    "_Feature"
   ],
   "window_display": false
  }
 },
 "nbformat": 4,
 "nbformat_minor": 2
}
