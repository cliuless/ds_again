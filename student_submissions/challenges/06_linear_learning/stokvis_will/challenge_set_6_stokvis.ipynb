{
 "cells": [
  {
   "cell_type": "markdown",
   "metadata": {},
   "source": [
    "Topic:        Challenge Set 6\n",
    "\n",
    "Subject:      Linear Learning\n",
    "\n",
    "Date:         01/28/2018\n",
    "\n",
    "Name:         Will Stokvis\n",
    "\n",
    "Other Names: Brad Solomon, Matias, Brad Davies"
   ]
  },
  {
   "cell_type": "markdown",
   "metadata": {},
   "source": [
    "### Challenge 1\n",
    "Generate (fake) data that is linearly related to log(x).\n",
    "\n",
    "You are making this model up. It is of the form B0 + B1*log(x) + epsilon. (You are making up the parameters.)\n",
    "\n",
    "Simulate some data from this model.\n",
    "\n",
    "Then fit two models to it:\n",
    "\n",
    "* quadratic (second degree polynomial)\n",
    "* logarithmic (log(x))\n",
    "\n",
    "(The second one should fit really well, since it has the same form as the underlying model!)"
   ]
  },
  {
   "cell_type": "code",
   "execution_count": 1,
   "metadata": {},
   "outputs": [
    {
     "name": "stderr",
     "output_type": "stream",
     "text": [
      "/Users/williamstokvis/anaconda3/lib/python3.6/site-packages/statsmodels/compat/pandas.py:56: FutureWarning: The pandas.core.datetools module is deprecated and will be removed in a future version. Please use the pandas.tseries module instead.\n",
      "  from pandas.core import datetools\n"
     ]
    }
   ],
   "source": [
    "import pandas as pd\n",
    "import numpy as np\n",
    "import statsmodels.api as sm\n",
    "import statsmodels.formula.api as smf\n",
    "import patsy\n",
    "import seaborn as sns\n",
    "import matplotlib.pyplot as plt\n",
    "from sklearn.linear_model import LinearRegression\n",
    "from sklearn.linear_model import RidgeCV\n",
    "\n",
    "%matplotlib inline"
   ]
  },
  {
   "cell_type": "code",
   "execution_count": 2,
   "metadata": {
    "collapsed": true
   },
   "outputs": [],
   "source": [
    "np.random.seed(5)"
   ]
  },
  {
   "cell_type": "code",
   "execution_count": 3,
   "metadata": {
    "collapsed": true
   },
   "outputs": [],
   "source": [
    "b0, b1 = 1.,5.\n",
    "x = np.abs(np.random.normal(loc=0, scale=40, size=20000))\n",
    "y = b0 + b1 * np.log(x) + np.random.randn(x.size)"
   ]
  },
  {
   "cell_type": "code",
   "execution_count": 4,
   "metadata": {},
   "outputs": [
    {
     "data": {
      "image/png": "[encoded data removed]",
      "text/plain": [
       "<matplotlib.figure.Figure at 0x1c10f3bda0>"
      ]
     },
     "metadata": {},
     "output_type": "display_data"
    }
   ],
   "source": [
    "plt.scatter(x,y, marker = 'o')\n",
    "plt.title('Log Function', fontsize = 14)\n",
    "plt.xlabel('X Values')\n",
    "plt.ylabel('Y Values');"
   ]
  },
  {
   "cell_type": "code",
   "execution_count": 5,
   "metadata": {
    "collapsed": true
   },
   "outputs": [],
   "source": [
    "from statsmodels.tools import add_constant\n",
    "from statsmodels.regression.linear_model import OLS"
   ]
  },
  {
   "cell_type": "markdown",
   "metadata": {},
   "source": [
    "##### Quadratic"
   ]
  },
  {
   "cell_type": "code",
   "execution_count": 6,
   "metadata": {},
   "outputs": [
    {
     "data": {
      "text/html": [
       "<table class=\"simpletable\">\n",
       "<caption>OLS Regression Results</caption>\n",
       "<tr>\n",
       "  <th>Dep. Variable:</th>            <td>y</td>        <th>  R-squared:         </th> <td>   0.801</td> \n",
       "</tr>\n",
       "<tr>\n",
       "  <th>Model:</th>                   <td>OLS</td>       <th>  Adj. R-squared:    </th> <td>   0.801</td> \n",
       "</tr>\n",
       "<tr>\n",
       "  <th>Method:</th>             <td>Least Squares</td>  <th>  F-statistic:       </th> <td>4.029e+04</td>\n",
       "</tr>\n",
       "<tr>\n",
       "  <th>Date:</th>             <td>Mon, 29 Jan 2018</td> <th>  Prob (F-statistic):</th>  <td>  0.00</td>  \n",
       "</tr>\n",
       "<tr>\n",
       "  <th>Time:</th>                 <td>18:06:31</td>     <th>  Log-Likelihood:    </th> <td> -46925.</td> \n",
       "</tr>\n",
       "<tr>\n",
       "  <th>No. Observations:</th>      <td> 20000</td>      <th>  AIC:               </th> <td>9.386e+04</td>\n",
       "</tr>\n",
       "<tr>\n",
       "  <th>Df Residuals:</th>          <td> 19997</td>      <th>  BIC:               </th> <td>9.388e+04</td>\n",
       "</tr>\n",
       "<tr>\n",
       "  <th>Df Model:</th>              <td>     2</td>      <th>                     </th>     <td> </td>    \n",
       "</tr>\n",
       "<tr>\n",
       "  <th>Covariance Type:</th>      <td>nonrobust</td>    <th>                     </th>     <td> </td>    \n",
       "</tr>\n",
       "</table>\n",
       "<table class=\"simpletable\">\n",
       "<tr>\n",
       "    <td></td>       <th>coef</th>     <th>std err</th>      <th>t</th>      <th>P>|t|</th>  <th>[0.025</th>    <th>0.975]</th>  \n",
       "</tr>\n",
       "<tr>\n",
       "  <th>const</th> <td>    6.8722</td> <td>    0.040</td> <td>  169.918</td> <td> 0.000</td> <td>    6.793</td> <td>    6.951</td>\n",
       "</tr>\n",
       "<tr>\n",
       "  <th>x1</th>    <td>    0.4328</td> <td>    0.002</td> <td>  203.119</td> <td> 0.000</td> <td>    0.429</td> <td>    0.437</td>\n",
       "</tr>\n",
       "<tr>\n",
       "  <th>x2</th>    <td>   -0.0028</td> <td> 2.28e-05</td> <td> -121.376</td> <td> 0.000</td> <td>   -0.003</td> <td>   -0.003</td>\n",
       "</tr>\n",
       "</table>\n",
       "<table class=\"simpletable\">\n",
       "<tr>\n",
       "  <th>Omnibus:</th>       <td>16769.915</td> <th>  Durbin-Watson:     </th>  <td>   2.014</td>  \n",
       "</tr>\n",
       "<tr>\n",
       "  <th>Prob(Omnibus):</th>  <td> 0.000</td>   <th>  Jarque-Bera (JB):  </th> <td>1043466.039</td>\n",
       "</tr>\n",
       "<tr>\n",
       "  <th>Skew:</th>           <td>-3.660</td>   <th>  Prob(JB):          </th>  <td>    0.00</td>  \n",
       "</tr>\n",
       "<tr>\n",
       "  <th>Kurtosis:</th>       <td>37.621</td>   <th>  Cond. No.          </th>  <td>6.27e+03</td>  \n",
       "</tr>\n",
       "</table>"
      ],
      "text/plain": [
       "<class 'statsmodels.iolib.summary.Summary'>\n",
       "\"\"\"\n",
       "                            OLS Regression Results                            \n",
       "==============================================================================\n",
       "Dep. Variable:                      y   R-squared:                       0.801\n",
       "Model:                            OLS   Adj. R-squared:                  0.801\n",
       "Method:                 Least Squares   F-statistic:                 4.029e+04\n",
       "Date:                Mon, 29 Jan 2018   Prob (F-statistic):               0.00\n",
       "Time:                        18:06:31   Log-Likelihood:                -46925.\n",
       "No. Observations:               20000   AIC:                         9.386e+04\n",
       "Df Residuals:                   19997   BIC:                         9.388e+04\n",
       "Df Model:                           2                                         \n",
       "Covariance Type:            nonrobust                                         \n",
       "==============================================================================\n",
       "                 coef    std err          t      P>|t|      [0.025      0.975]\n",
       "------------------------------------------------------------------------------\n",
       "const          6.8722      0.040    169.918      0.000       6.793       6.951\n",
       "x1             0.4328      0.002    203.119      0.000       0.429       0.437\n",
       "x2            -0.0028   2.28e-05   -121.376      0.000      -0.003      -0.003\n",
       "==============================================================================\n",
       "Omnibus:                    16769.915   Durbin-Watson:                   2.014\n",
       "Prob(Omnibus):                  0.000   Jarque-Bera (JB):          1043466.039\n",
       "Skew:                          -3.660   Prob(JB):                         0.00\n",
       "Kurtosis:                      37.621   Cond. No.                     6.27e+03\n",
       "==============================================================================\n",
       "\n",
       "Warnings:\n",
       "[1] Standard Errors assume that the covariance matrix of the errors is correctly specified.\n",
       "[2] The condition number is large, 6.27e+03. This might indicate that there are\n",
       "strong multicollinearity or other numerical problems.\n",
       "\"\"\""
      ]
     },
     "execution_count": 6,
     "metadata": {},
     "output_type": "execute_result"
    }
   ],
   "source": [
    "quad = add_constant(np.stack((x, x**2),axis =1))\n",
    "model = OLS(endog=y, exog=quad)\n",
    "model = model.fit()\n",
    "model.summary()"
   ]
  },
  {
   "cell_type": "markdown",
   "metadata": {},
   "source": [
    "##### Log"
   ]
  },
  {
   "cell_type": "code",
   "execution_count": 7,
   "metadata": {},
   "outputs": [
    {
     "data": {
      "text/html": [
       "<table class=\"simpletable\">\n",
       "<caption>OLS Regression Results</caption>\n",
       "<tr>\n",
       "  <th>Dep. Variable:</th>            <td>y</td>        <th>  R-squared:         </th> <td>   0.969</td> \n",
       "</tr>\n",
       "<tr>\n",
       "  <th>Model:</th>                   <td>OLS</td>       <th>  Adj. R-squared:    </th> <td>   0.969</td> \n",
       "</tr>\n",
       "<tr>\n",
       "  <th>Method:</th>             <td>Least Squares</td>  <th>  F-statistic:       </th> <td>3.109e+05</td>\n",
       "</tr>\n",
       "<tr>\n",
       "  <th>Date:</th>             <td>Mon, 29 Jan 2018</td> <th>  Prob (F-statistic):</th>  <td>  0.00</td>  \n",
       "</tr>\n",
       "<tr>\n",
       "  <th>Time:</th>                 <td>18:06:47</td>     <th>  Log-Likelihood:    </th> <td> -28392.</td> \n",
       "</tr>\n",
       "<tr>\n",
       "  <th>No. Observations:</th>      <td> 20000</td>      <th>  AIC:               </th> <td>5.679e+04</td>\n",
       "</tr>\n",
       "<tr>\n",
       "  <th>Df Residuals:</th>          <td> 19997</td>      <th>  BIC:               </th> <td>5.681e+04</td>\n",
       "</tr>\n",
       "<tr>\n",
       "  <th>Df Model:</th>              <td>     2</td>      <th>                     </th>     <td> </td>    \n",
       "</tr>\n",
       "<tr>\n",
       "  <th>Covariance Type:</th>      <td>nonrobust</td>    <th>                     </th>     <td> </td>    \n",
       "</tr>\n",
       "</table>\n",
       "<table class=\"simpletable\">\n",
       "<tr>\n",
       "    <td></td>       <th>coef</th>     <th>std err</th>      <th>t</th>      <th>P>|t|</th>  <th>[0.025</th>    <th>0.975]</th>  \n",
       "</tr>\n",
       "<tr>\n",
       "  <th>const</th> <td>    0.9641</td> <td>    0.024</td> <td>   40.684</td> <td> 0.000</td> <td>    0.918</td> <td>    1.011</td>\n",
       "</tr>\n",
       "<tr>\n",
       "  <th>x1</th>    <td>   -0.0004</td> <td>    0.001</td> <td>   -0.696</td> <td> 0.487</td> <td>   -0.001</td> <td>    0.001</td>\n",
       "</tr>\n",
       "<tr>\n",
       "  <th>x2</th>    <td>    5.0147</td> <td>    0.011</td> <td>  449.013</td> <td> 0.000</td> <td>    4.993</td> <td>    5.037</td>\n",
       "</tr>\n",
       "</table>\n",
       "<table class=\"simpletable\">\n",
       "<tr>\n",
       "  <th>Omnibus:</th>       <td> 3.140</td> <th>  Durbin-Watson:     </th> <td>   1.990</td>\n",
       "</tr>\n",
       "<tr>\n",
       "  <th>Prob(Omnibus):</th> <td> 0.208</td> <th>  Jarque-Bera (JB):  </th> <td>   3.124</td>\n",
       "</tr>\n",
       "<tr>\n",
       "  <th>Skew:</th>          <td> 0.020</td> <th>  Prob(JB):          </th> <td>   0.210</td>\n",
       "</tr>\n",
       "<tr>\n",
       "  <th>Kurtosis:</th>      <td> 2.954</td> <th>  Cond. No.          </th> <td>    146.</td>\n",
       "</tr>\n",
       "</table>"
      ],
      "text/plain": [
       "<class 'statsmodels.iolib.summary.Summary'>\n",
       "\"\"\"\n",
       "                            OLS Regression Results                            \n",
       "==============================================================================\n",
       "Dep. Variable:                      y   R-squared:                       0.969\n",
       "Model:                            OLS   Adj. R-squared:                  0.969\n",
       "Method:                 Least Squares   F-statistic:                 3.109e+05\n",
       "Date:                Mon, 29 Jan 2018   Prob (F-statistic):               0.00\n",
       "Time:                        18:06:47   Log-Likelihood:                -28392.\n",
       "No. Observations:               20000   AIC:                         5.679e+04\n",
       "Df Residuals:                   19997   BIC:                         5.681e+04\n",
       "Df Model:                           2                                         \n",
       "Covariance Type:            nonrobust                                         \n",
       "==============================================================================\n",
       "                 coef    std err          t      P>|t|      [0.025      0.975]\n",
       "------------------------------------------------------------------------------\n",
       "const          0.9641      0.024     40.684      0.000       0.918       1.011\n",
       "x1            -0.0004      0.001     -0.696      0.487      -0.001       0.001\n",
       "x2             5.0147      0.011    449.013      0.000       4.993       5.037\n",
       "==============================================================================\n",
       "Omnibus:                        3.140   Durbin-Watson:                   1.990\n",
       "Prob(Omnibus):                  0.208   Jarque-Bera (JB):                3.124\n",
       "Skew:                           0.020   Prob(JB):                        0.210\n",
       "Kurtosis:                       2.954   Cond. No.                         146.\n",
       "==============================================================================\n",
       "\n",
       "Warnings:\n",
       "[1] Standard Errors assume that the covariance matrix of the errors is correctly specified.\n",
       "\"\"\""
      ]
     },
     "execution_count": 7,
     "metadata": {},
     "output_type": "execute_result"
    }
   ],
   "source": [
    "logX = add_constant(np.stack((x, np.log(x)), axis=1))\n",
    "model = OLS(endog=y,exog=logX)\n",
    "model = model.fit()\n",
    "model.summary()"
   ]
  },
  {
   "cell_type": "markdown",
   "metadata": {},
   "source": [
    "### Challenge 2\n",
    "Generate (fake) data from a model of the form B0 + B1*x + B2*x^2 + epsilon. (You are making up the parameters.)\n",
    "\n",
    "Split the data into a training and test set.\n",
    "\n",
    "Fit a model to your training set. Calculate mean squared error on your training set. Then calculate it on your test set.\n",
    "\n",
    "(You could use sklearn.metrics.mean_squared_error.)"
   ]
  },
  {
   "cell_type": "code",
   "execution_count": 8,
   "metadata": {
    "collapsed": true
   },
   "outputs": [],
   "source": [
    "b0, b1, b2 = 20., 10., 5.\n",
    "y1 = b0 + b1*x + b2*x**2 + np.random.randn(x.size)"
   ]
  },
  {
   "cell_type": "code",
   "execution_count": 9,
   "metadata": {
    "collapsed": true
   },
   "outputs": [],
   "source": [
    "from sklearn.model_selection import train_test_split\n",
    "from sklearn.preprocessing import PolynomialFeatures\n",
    "from sklearn.metrics import mean_squared_error"
   ]
  },
  {
   "cell_type": "code",
   "execution_count": 10,
   "metadata": {},
   "outputs": [
    {
     "data": {
      "image/png": "[encoded data removed]",
      "text/plain": [
       "<matplotlib.figure.Figure at 0x1c198b9c18>"
      ]
     },
     "metadata": {},
     "output_type": "display_data"
    }
   ],
   "source": [
    "plt.scatter(x,y1, marker = 'o')\n",
    "plt.title('Quad Function', fontsize = 14)\n",
    "plt.xlabel('X Values')\n",
    "plt.ylabel('Y Values');"
   ]
  },
  {
   "cell_type": "code",
   "execution_count": 11,
   "metadata": {},
   "outputs": [
    {
     "data": {
      "text/html": [
       "<table class=\"simpletable\">\n",
       "<caption>OLS Regression Results</caption>\n",
       "<tr>\n",
       "  <th>Dep. Variable:</th>            <td>y</td>        <th>  R-squared:         </th> <td>   0.859</td> \n",
       "</tr>\n",
       "<tr>\n",
       "  <th>Model:</th>                   <td>OLS</td>       <th>  Adj. R-squared:    </th> <td>   0.859</td> \n",
       "</tr>\n",
       "<tr>\n",
       "  <th>Method:</th>             <td>Least Squares</td>  <th>  F-statistic:       </th> <td>9.109e+04</td>\n",
       "</tr>\n",
       "<tr>\n",
       "  <th>Date:</th>             <td>Mon, 29 Jan 2018</td> <th>  Prob (F-statistic):</th>  <td>  0.00</td>  \n",
       "</tr>\n",
       "<tr>\n",
       "  <th>Time:</th>                 <td>18:07:16</td>     <th>  Log-Likelihood:    </th> <td> -61939.</td> \n",
       "</tr>\n",
       "<tr>\n",
       "  <th>No. Observations:</th>      <td> 15000</td>      <th>  AIC:               </th> <td>1.239e+05</td>\n",
       "</tr>\n",
       "<tr>\n",
       "  <th>Df Residuals:</th>          <td> 14999</td>      <th>  BIC:               </th> <td>1.239e+05</td>\n",
       "</tr>\n",
       "<tr>\n",
       "  <th>Df Model:</th>              <td>     1</td>      <th>                     </th>     <td> </td>    \n",
       "</tr>\n",
       "<tr>\n",
       "  <th>Covariance Type:</th>      <td>nonrobust</td>    <th>                     </th>     <td> </td>    \n",
       "</tr>\n",
       "</table>\n",
       "<table class=\"simpletable\">\n",
       "<tr>\n",
       "   <td></td>     <th>coef</th>     <th>std err</th>      <th>t</th>      <th>P>|t|</th>  <th>[0.025</th>    <th>0.975]</th>  \n",
       "</tr>\n",
       "<tr>\n",
       "  <th>x1</th> <td>    0.0026</td> <td> 8.64e-06</td> <td>  301.809</td> <td> 0.000</td> <td>    0.003</td> <td>    0.003</td>\n",
       "</tr>\n",
       "</table>\n",
       "<table class=\"simpletable\">\n",
       "<tr>\n",
       "  <th>Omnibus:</th>       <td>14239.878</td> <th>  Durbin-Watson:     </th>  <td>   1.077</td> \n",
       "</tr>\n",
       "<tr>\n",
       "  <th>Prob(Omnibus):</th>  <td> 0.000</td>   <th>  Jarque-Bera (JB):  </th> <td>762507.845</td>\n",
       "</tr>\n",
       "<tr>\n",
       "  <th>Skew:</th>           <td>-4.574</td>   <th>  Prob(JB):          </th>  <td>    0.00</td> \n",
       "</tr>\n",
       "<tr>\n",
       "  <th>Kurtosis:</th>       <td>36.709</td>   <th>  Cond. No.          </th>  <td>    1.00</td> \n",
       "</tr>\n",
       "</table>"
      ],
      "text/plain": [
       "<class 'statsmodels.iolib.summary.Summary'>\n",
       "\"\"\"\n",
       "                            OLS Regression Results                            \n",
       "==============================================================================\n",
       "Dep. Variable:                      y   R-squared:                       0.859\n",
       "Model:                            OLS   Adj. R-squared:                  0.859\n",
       "Method:                 Least Squares   F-statistic:                 9.109e+04\n",
       "Date:                Mon, 29 Jan 2018   Prob (F-statistic):               0.00\n",
       "Time:                        18:07:16   Log-Likelihood:                -61939.\n",
       "No. Observations:               15000   AIC:                         1.239e+05\n",
       "Df Residuals:                   14999   BIC:                         1.239e+05\n",
       "Df Model:                           1                                         \n",
       "Covariance Type:            nonrobust                                         \n",
       "==============================================================================\n",
       "                 coef    std err          t      P>|t|      [0.025      0.975]\n",
       "------------------------------------------------------------------------------\n",
       "x1             0.0026   8.64e-06    301.809      0.000       0.003       0.003\n",
       "==============================================================================\n",
       "Omnibus:                    14239.878   Durbin-Watson:                   1.077\n",
       "Prob(Omnibus):                  0.000   Jarque-Bera (JB):           762507.845\n",
       "Skew:                          -4.574   Prob(JB):                         0.00\n",
       "Kurtosis:                      36.709   Cond. No.                         1.00\n",
       "==============================================================================\n",
       "\n",
       "Warnings:\n",
       "[1] Standard Errors assume that the covariance matrix of the errors is correctly specified.\n",
       "\"\"\""
      ]
     },
     "execution_count": 11,
     "metadata": {},
     "output_type": "execute_result"
    }
   ],
   "source": [
    "X_train, X_test, Y_train, Y_test = train_test_split(x,y1)\n",
    "model = OLS(X_train, Y_train).fit()\n",
    "model.summary()"
   ]
  },
  {
   "cell_type": "code",
   "execution_count": 12,
   "metadata": {
    "collapsed": true
   },
   "outputs": [],
   "source": [
    "train_mse = mean_squared_error(Y_train, model.predict(X_train))\n",
    "test_mse = mean_squared_error(Y_test, model.predict(X_test))"
   ]
  },
  {
   "cell_type": "code",
   "execution_count": 13,
   "metadata": {
    "scrolled": true
   },
   "outputs": [
    {
     "name": "stdout",
     "output_type": "stream",
     "text": [
      "202008571.25 203438455.703\n"
     ]
    }
   ],
   "source": [
    "print(train_mse, test_mse)"
   ]
  },
  {
   "cell_type": "markdown",
   "metadata": {},
   "source": [
    "### Challenge 3\n",
    "For the data from two (above), try polynomial fits from 0th (just constant) to 7th order (highest term x^7). Over the x axis of model degree (8 points), plot:\n",
    "\n",
    "training error\n",
    "test error\n",
    "R squared\n",
    "AIC"
   ]
  },
  {
   "cell_type": "code",
   "execution_count": 14,
   "metadata": {},
   "outputs": [
    {
     "data": {
      "image/png": "[encoded data removed]",
      "text/plain": [
       "<matplotlib.figure.Figure at 0x1c19e79f28>"
      ]
     },
     "metadata": {},
     "output_type": "display_data"
    }
   ],
   "source": [
    "from sklearn.metrics import mean_squared_error, r2_score\n",
    "\n",
    "degrees = []\n",
    "train_mses = []\n",
    "test_mses = []\n",
    "test_r2s = []\n",
    "aics = []\n",
    "\n",
    "for deg in range(0,8):\n",
    "    poly = PolynomialFeatures(deg)\n",
    "    if x.ndim == 1:\n",
    "        x = x[:, None]\n",
    "    xpoly = poly.fit_transform(x)\n",
    "    X_train, X_test, y_train, y_test = train_test_split(xpoly, y1)\n",
    "\n",
    "    model = OLS(y_train, X_train).fit()\n",
    "    train_mse = mean_squared_error(y_train, model.predict(X_train))\n",
    "    test_mse = mean_squared_error(y_test, model.predict(X_test))\n",
    "    \n",
    "    aics.append(model.aic)\n",
    "    test_r2s.append(r2_score(y_test, model.predict(X_test)))\n",
    "    test_mses.append(test_mse)\n",
    "    train_mses.append(train_mse)\n",
    "    degrees.append(deg)\n",
    "\n",
    "    \n",
    "    \n",
    "degree_fit_results = pd.DataFrame(list(zip(degrees, train_mses, test_mses, test_r2s, aics)), columns=['degree','train_error','test_error','test_r2','aic']).set_index('degree')\n",
    "degree_fit_results.plot.bar(subplots=True, layout=(2,2), figsize=(16,8),legend=False);"
   ]
  },
  {
   "cell_type": "code",
   "execution_count": null,
   "metadata": {
    "collapsed": true
   },
   "outputs": [],
   "source": []
  }
 ],
 "metadata": {
  "kernelspec": {
   "display_name": "Python 3",
   "language": "python",
   "name": "python3"
  },
  "language_info": {
   "codemirror_mode": {
    "name": "ipython",
    "version": 3
   },
   "file_extension": ".py",
   "mimetype": "text/x-python",
   "name": "python",
   "nbconvert_exporter": "python",
   "pygments_lexer": "ipython3",
   "version": "3.6.3"
  }
 },
 "nbformat": 4,
 "nbformat_minor": 2
}
