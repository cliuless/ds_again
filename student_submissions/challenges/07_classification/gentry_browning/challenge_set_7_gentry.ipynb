{
 "cells": [
  {
   "cell_type": "markdown",
   "metadata": {},
   "source": [
    "Topic:        Challenge Set 7\n",
    "\n",
    "Subject:      Classification\n",
    "\n",
    "Date:         02/05/2018\n",
    "\n",
    "Name:         Browning Gentry"
   ]
  },
  {
   "cell_type": "code",
   "execution_count": 1,
   "metadata": {
    "ExecuteTime": {
     "end_time": "2018-02-03T15:32:50.596169Z",
     "start_time": "2018-02-03T15:32:47.173289Z"
    },
    "collapsed": true
   },
   "outputs": [],
   "source": [
    "import pandas as pd\n",
    "import numpy as np\n",
    "import matplotlib.pyplot as plt\n",
    "import seaborn as sns\n",
    "\n",
    "%matplotlib inline"
   ]
  },
  {
   "cell_type": "markdown",
   "metadata": {},
   "source": [
    "# Challenge 1\n",
    "* Import Dataframe/Headers\n",
    "* Replace Y/N with 0/1\n",
    "* Impute values for ?"
   ]
  },
  {
   "cell_type": "code",
   "execution_count": 33,
   "metadata": {
    "ExecuteTime": {
     "end_time": "2018-02-03T15:49:57.423504Z",
     "start_time": "2018-02-03T15:49:57.416738Z"
    },
    "collapsed": true
   },
   "outputs": [],
   "source": [
    "columns = ['Class Name', \n",
    "            'handicapped-infants', \n",
    "            'water-project-cost-sharing', \n",
    "            'adoption-of-the-budget-resolution',\n",
    "            'physician-fee-freeze',\n",
    "            'el-salvador-aid',\n",
    "            'religious-groups-in-schools',\n",
    "            'anti-satellite-test-ban',\n",
    "            'aid-to-nicaraguan-contras',\n",
    "            'mx-missile',\n",
    "            'immigration',\n",
    "            'synfuels-corporation-cutback',\n",
    "            'education-spending',\n",
    "            'superfund-right-to-sue',\n",
    "            'crime',\n",
    "            'duty-free-exports',\n",
    "            'export-administration-act-south-africa']"
   ]
  },
  {
   "cell_type": "code",
   "execution_count": 34,
   "metadata": {
    "ExecuteTime": {
     "end_time": "2018-02-03T15:49:58.403720Z",
     "start_time": "2018-02-03T15:49:57.790601Z"
    },
    "collapsed": true
   },
   "outputs": [],
   "source": [
    "df = pd.read_csv(\"https://archive.ics.uci.edu/ml/machine-learning-databases/voting-records/house-votes-84.data\",\n",
    "                header=None,\n",
    "                names = columns)"
   ]
  },
  {
   "cell_type": "code",
   "execution_count": 38,
   "metadata": {
    "ExecuteTime": {
     "end_time": "2018-02-03T15:50:27.345189Z",
     "start_time": "2018-02-03T15:50:27.270199Z"
    },
    "collapsed": true
   },
   "outputs": [],
   "source": [
    "df = df.replace('y',1)\n",
    "df = df.replace('n',0)\n",
    "\n",
    "total = len(df)\n",
    "\n",
    "for col in df.columns:\n",
    "    per_yes = df[col].value_counts()[0]/total\n",
    "    if per_yes > .5:\n",
    "        df[col] = df[col].replace('?',1)\n",
    "    else:\n",
    "        df[col] = df[col].replace('?',0)"
   ]
  },
  {
   "cell_type": "markdown",
   "metadata": {},
   "source": [
    "# Challenge 2\n",
    "* Split data into train/test"
   ]
  },
  {
   "cell_type": "code",
   "execution_count": 46,
   "metadata": {
    "ExecuteTime": {
     "end_time": "2018-02-03T16:09:40.045670Z",
     "start_time": "2018-02-03T16:09:40.036432Z"
    },
    "collapsed": true
   },
   "outputs": [],
   "source": [
    "from sklearn.cross_validation import train_test_split\n",
    "y = df.iloc[:,0]\n",
    "X = df.iloc[:,1:]\n",
    "X_train, X_test, y_train, y_test = train_test_split(X,y, test_size = .3, random_state = 4444)"
   ]
  },
  {
   "cell_type": "markdown",
   "metadata": {
    "ExecuteTime": {
     "end_time": "2018-02-03T16:09:43.416345Z",
     "start_time": "2018-02-03T16:09:43.408846Z"
    }
   },
   "source": [
    "# Challenge 3\n",
    "* KNN to predict party\n",
    "* Try Nearest neighbors 1 to 20\n",
    "* Report best score & nearest neighbors values"
   ]
  },
  {
   "cell_type": "code",
   "execution_count": 153,
   "metadata": {
    "ExecuteTime": {
     "end_time": "2018-02-03T17:04:03.994333Z",
     "start_time": "2018-02-03T17:04:03.413920Z"
    }
   },
   "outputs": [
    {
     "name": "stdout",
     "output_type": "stream",
     "text": [
      "Best KNN Accuracy: 0.923664122137\n",
      "Best NN value: 13\n"
     ]
    },
    {
     "data": {
      "image/png": "[encoded data removed]",
      "text/plain": [
       "<matplotlib.figure.Figure at 0x10fc3e588>"
      ]
     },
     "metadata": {},
     "output_type": "display_data"
    }
   ],
   "source": [
    "from sklearn.metrics import accuracy_score\n",
    "score = []\n",
    "nn = []\n",
    "for i in range(1,21):\n",
    "    knn = KNeighborsClassifier(n_neighbors = i)\n",
    "    knn.fit(X_train, y_train)\n",
    "    score.append(accuracy_score(y_test, knn.predict(X_test)))\n",
    "    nn.append(i)\n",
    "\n",
    "plt.plot(nn, score)\n",
    "plt.title('KNN Accuracy by Nearest Neighbors')\n",
    "plt.ylabel('Accuracy')\n",
    "plt.xlabel('Nearest Neighbors');\n",
    "print('Best KNN Accuracy: ' + str(max(score)))\n",
    "print('Best NN value: ' + str(nn[score.index(max(score))]))\n"
   ]
  },
  {
   "cell_type": "markdown",
   "metadata": {},
   "source": [
    "# Challenge 4\n",
    "* Logistic Regression to predict party"
   ]
  },
  {
   "cell_type": "code",
   "execution_count": 160,
   "metadata": {
    "ExecuteTime": {
     "end_time": "2018-02-03T17:12:16.106963Z",
     "start_time": "2018-02-03T17:12:16.055514Z"
    }
   },
   "outputs": [
    {
     "name": "stdout",
     "output_type": "stream",
     "text": [
      "LogReg Accuracy: 0.946564885496\n"
     ]
    }
   ],
   "source": [
    "from sklearn.linear_model import LogisticRegression\n",
    "lr = LogisticRegression()\n",
    "lr.fit(X_train, y_train)\n",
    "lr_score = (accuracy_score(y_test, lr.predict(X_test)))\n",
    "\n",
    "print('LogReg Accuracy: ' + str(lr_score))"
   ]
  },
  {
   "cell_type": "markdown",
   "metadata": {},
   "source": [
    "# Challenge 5\n",
    "* Plotting Republicans vs Democrats\n",
    "* Predicting all values as democrats and checking accuracy\n",
    "* Predicting all values as republican and checking accuracy"
   ]
  },
  {
   "cell_type": "code",
   "execution_count": 113,
   "metadata": {
    "ExecuteTime": {
     "end_time": "2018-02-03T16:38:10.683166Z",
     "start_time": "2018-02-03T16:38:09.992564Z"
    }
   },
   "outputs": [
    {
     "name": "stderr",
     "output_type": "stream",
     "text": [
      "/Users/bgentry/anaconda/lib/python3.6/site-packages/seaborn/categorical.py:1428: FutureWarning: remove_na is deprecated and is a private function. Do not use.\n",
      "  stat_data = remove_na(group_data)\n"
     ]
    },
    {
     "data": {
      "image/png": "[encoded data removed]",
      "text/plain": [
       "<matplotlib.figure.Figure at 0x11eccaf28>"
      ]
     },
     "metadata": {},
     "output_type": "display_data"
    }
   ],
   "source": [
    "sns.barplot(y.unique(), y.value_counts().tolist())\n",
    "plt.title('Congressmen per Party')\n",
    "plt.ylabel('Congressmen')\n",
    "plt.xlabel('Party');"
   ]
  },
  {
   "cell_type": "code",
   "execution_count": 114,
   "metadata": {
    "ExecuteTime": {
     "end_time": "2018-02-03T16:42:02.611299Z",
     "start_time": "2018-02-03T16:42:02.581316Z"
    },
    "collapsed": true
   },
   "outputs": [],
   "source": [
    "def pred_dem(vals):\n",
    "    output = []\n",
    "    for i in range(len(vals)):\n",
    "        output.append('democrat')\n",
    "    return output"
   ]
  },
  {
   "cell_type": "code",
   "execution_count": 117,
   "metadata": {
    "ExecuteTime": {
     "end_time": "2018-02-03T16:43:10.938786Z",
     "start_time": "2018-02-03T16:43:10.932364Z"
    },
    "collapsed": true
   },
   "outputs": [],
   "source": [
    "def pred_rep(vals):\n",
    "    output = []\n",
    "    for i in range(len(vals)):\n",
    "        output.append('republican')\n",
    "    return output"
   ]
  },
  {
   "cell_type": "code",
   "execution_count": 121,
   "metadata": {
    "ExecuteTime": {
     "end_time": "2018-02-03T16:45:05.274562Z",
     "start_time": "2018-02-03T16:45:05.246874Z"
    }
   },
   "outputs": [
    {
     "name": "stdout",
     "output_type": "stream",
     "text": [
      "All Dem Accruacy: 0.587786259542\n",
      "All Rep Accruacy: 0.412213740458\n"
     ]
    }
   ],
   "source": [
    "dem_acc = accuracy_score(y_test, pred_dem(X_test))\n",
    "rep_acc = accuracy_score(y_test, pred_rep(X_test))\n",
    "print('All Dem Accruacy: ' + str(dem_acc))\n",
    "print('All Rep Accruacy: ' + str(rep_acc))"
   ]
  },
  {
   "cell_type": "markdown",
   "metadata": {},
   "source": [
    "# Challenge 6\n",
    "* Plot Accuracy Score Comparison"
   ]
  },
  {
   "cell_type": "code",
   "execution_count": 147,
   "metadata": {
    "ExecuteTime": {
     "end_time": "2018-02-03T16:56:44.898675Z",
     "start_time": "2018-02-03T16:56:44.194376Z"
    }
   },
   "outputs": [
    {
     "data": {
      "image/png": "[encoded data removed]",
      "text/plain": [
       "<matplotlib.figure.Figure at 0x11f0d9e48>"
      ]
     },
     "metadata": {},
     "output_type": "display_data"
    }
   ],
   "source": [
    "fig, ax = plt.subplots(figsize = (10,5))\n",
    "\n",
    "ax.set_title('Model Accuracy Scores')\n",
    "ax.set_xlabel('Nearest Neighbors')\n",
    "ax.set_ylabel('Accruacy Score')\n",
    "ax.plot(nn, score, label = 'KNN')\n",
    "ax.plot(nn, [lr_score for i in nn], label = 'LogReg')\n",
    "ax.plot(nn, [dem_acc for i in nn], label = 'Democrat Guess')\n",
    "ax.plot(nn, [rep_acc for i in nn], label = 'Republican Guess')\n",
    "ax.set_ylim(0,1)\n",
    "ax.set_xlim(1,20)\n",
    "ax.set_xticks(nn)\n",
    "plt.legend();"
   ]
  },
  {
   "cell_type": "markdown",
   "metadata": {},
   "source": [
    "# Challenge 7\n",
    "* Learning Curve for LogReg\n",
    "* Learning Curve for KNN"
   ]
  },
  {
   "cell_type": "code",
   "execution_count": 154,
   "metadata": {
    "ExecuteTime": {
     "end_time": "2018-02-03T17:04:48.002744Z",
     "start_time": "2018-02-03T17:04:47.503524Z"
    }
   },
   "outputs": [
    {
     "data": {
      "image/png": "[encoded data removed]",
      "text/plain": [
       "<matplotlib.figure.Figure at 0x11de24358>"
      ]
     },
     "metadata": {},
     "output_type": "display_data"
    }
   ],
   "source": [
    "from sklearn.learning_curve import learning_curve\n",
    "m, train_error, test_error = learning_curve(LogisticRegression(), X, y)\n",
    "train_cv_err = np.mean(train_error, axis=1)\n",
    "test_cv_err = np.mean(test_error, axis=1)\n",
    "\n",
    "plt.plot(m, train_cv_err)\n",
    "plt.title('LogReg Learning Curve')\n",
    "plt.ylabel('Score')\n",
    "plt.xlabel('Samples');"
   ]
  },
  {
   "cell_type": "code",
   "execution_count": 159,
   "metadata": {
    "ExecuteTime": {
     "end_time": "2018-02-03T17:06:02.603449Z",
     "start_time": "2018-02-03T17:06:02.191557Z"
    }
   },
   "outputs": [
    {
     "data": {
      "image/png": "[encoded data removed]",
      "text/plain": [
       "<matplotlib.figure.Figure at 0x11eaac080>"
      ]
     },
     "metadata": {},
     "output_type": "display_data"
    }
   ],
   "source": [
    "m, train_error, test_error = learning_curve(KNeighborsClassifier(n_neighbors = 13), X, y)\n",
    "train_cv_err = np.mean(train_error, axis=1)\n",
    "test_cv_err = np.mean(test_error, axis=1)\n",
    "\n",
    "plt.plot(m, train_cv_err)\n",
    "plt.title('KNN Learning Curve - NN=13')\n",
    "plt.ylabel('Score')\n",
    "plt.xlabel('Samples');"
   ]
  },
  {
   "cell_type": "markdown",
   "metadata": {},
   "source": [
    "# Challenge 8\n",
    "* Gaussian NB\n",
    "* SVM\n",
    "* Decision Tree\n",
    "* Random Forest"
   ]
  },
  {
   "cell_type": "code",
   "execution_count": 167,
   "metadata": {
    "ExecuteTime": {
     "end_time": "2018-02-03T17:20:03.913505Z",
     "start_time": "2018-02-03T17:20:03.864122Z"
    }
   },
   "outputs": [
    {
     "name": "stdout",
     "output_type": "stream",
     "text": [
      "GaussianNB Accuracy: 0.93893129771\n",
      "SVC Accuracy: 0.946564885496\n",
      "Decision Tree Accuracy: 0.931297709924\n",
      "Random Forest Accuracy: 0.954198473282\n"
     ]
    }
   ],
   "source": [
    "from sklearn.naive_bayes import GaussianNB\n",
    "nb = GaussianNB()\n",
    "nb.fit(X_train, y_train)\n",
    "nb_score = (accuracy_score(y_test, nb.predict(X_test)))\n",
    "print('GaussianNB Accuracy: ' + str(nb_score))\n",
    "\n",
    "from sklearn.svm import SVC\n",
    "svc = SVC()\n",
    "svc.fit(X_train, y_train)\n",
    "svc_score = (accuracy_score(y_test, svc.predict(X_test)))\n",
    "print('SVC Accuracy: ' + str(svc_score))\n",
    "\n",
    "from sklearn.tree import DecisionTreeClassifier\n",
    "dtc = DecisionTreeClassifier()\n",
    "dtc.fit(X_train, y_train)\n",
    "dtc_score = (accuracy_score(y_test, dtc.predict(X_test)))\n",
    "print('Decision Tree Accuracy: ' + str(dtc_score))\n",
    "\n",
    "from sklearn.ensemble import RandomForestClassifier\n",
    "rf = RandomForestClassifier()\n",
    "rf.fit(X_train, y_train)\n",
    "rf_score = (accuracy_score(y_test, rf.predict(X_test)))\n",
    "print('Random Forest Accuracy: ' + str(rf_score))\n"
   ]
  },
  {
   "cell_type": "markdown",
   "metadata": {},
   "source": [
    "# Challenge 9"
   ]
  },
  {
   "cell_type": "code",
   "execution_count": 171,
   "metadata": {
    "ExecuteTime": {
     "end_time": "2018-02-03T17:23:47.768856Z",
     "start_time": "2018-02-03T17:23:47.586087Z"
    }
   },
   "outputs": [
    {
     "name": "stdout",
     "output_type": "stream",
     "text": [
      "KNN CV Score: 0.91724137931\n",
      "LogReg CV Score: 0.96091954023\n",
      "GaussianNB CV Score: 0.942528735632\n",
      "SVC CV Score: 0.95632183908\n",
      "Decision Tree CV Score: 0.944827586207\n",
      "Random Forest CV Score: 0.963218390805\n"
     ]
    }
   ],
   "source": [
    "from sklearn.cross_validation import cross_val_score\n",
    "knn_cv = np.mean(cross_val_score(knn, X, y))\n",
    "print('KNN CV Score: ' + str(knn_cv))\n",
    "\n",
    "lr_cv = np.mean(cross_val_score(lr, X, y))\n",
    "print('LogReg CV Score: ' + str(lr_cv))\n",
    "\n",
    "nb_cv = np.mean(cross_val_score(nb, X, y))\n",
    "print('GaussianNB CV Score: ' + str(nb_cv))\n",
    "\n",
    "svc_cv = np.mean(cross_val_score(svc, X, y))\n",
    "print('SVC CV Score: ' + str(svc_cv))\n",
    "\n",
    "dtc_cv = np.mean(cross_val_score(dtc, X, y))\n",
    "print('Decision Tree CV Score: ' + str(dtc_cv))\n",
    "\n",
    "rf_cv = np.mean(cross_val_score(rf, X, y))\n",
    "print('Random Forest CV Score: ' + str(rf_cv))\n"
   ]
  },
  {
   "cell_type": "markdown",
   "metadata": {},
   "source": [
    "# Challenge 10\n",
    "* Predict Handicapped Infants Vote based on other votes"
   ]
  },
  {
   "cell_type": "code",
   "execution_count": 172,
   "metadata": {
    "ExecuteTime": {
     "end_time": "2018-02-03T17:32:14.214074Z",
     "start_time": "2018-02-03T17:32:14.133408Z"
    }
   },
   "outputs": [
    {
     "name": "stdout",
     "output_type": "stream",
     "text": [
      "LogReg CV Score: 0.687093458598\n"
     ]
    }
   ],
   "source": [
    "y = df.iloc[:,1]\n",
    "X = df.iloc[:,2:]\n",
    "X_train, X_test, y_train, y_test = train_test_split(X,y, test_size = .3, random_state = 4444)\n",
    "\n",
    "lr = LogisticRegression()\n",
    "lr.fit(X_train,y_train)\n",
    "lr_cv = np.mean(cross_val_score(lr, X, y))\n",
    "print('LogReg CV Score: ' + str(lr_cv))\n"
   ]
  },
  {
   "cell_type": "markdown",
   "metadata": {},
   "source": [
    "# Challenge 11\n",
    "* Movie Dataset\n",
    "* Bar Graph of each Rating\n",
    "* KNN/LogReg Prediction Accuracies\n",
    "* Stupid Predictor Accuracy\n",
    "* Comparison\n",
    "* LogReg Coefficients"
   ]
  },
  {
   "cell_type": "code",
   "execution_count": 224,
   "metadata": {
    "ExecuteTime": {
     "end_time": "2018-02-03T17:49:26.143868Z",
     "start_time": "2018-02-03T17:49:26.099053Z"
    },
    "collapsed": true
   },
   "outputs": [],
   "source": [
    "df = pd.read_csv('2013_movies.csv')\n",
    "del df['Title']\n",
    "from datetime import datetime\n",
    "df['ReleaseDate'] = df.apply(lambda x: (datetime.now() \n",
    "                                        - datetime.strptime(x['ReleaseDate'],'%Y-%m-%d %H:%M:%S'))\n",
    "                                         .total_seconds(),\n",
    "                             axis=1)\n",
    "df = pd.get_dummies(df, columns = ['Director'], drop_first=True)\n",
    "df.dropna(inplace=True)"
   ]
  },
  {
   "cell_type": "code",
   "execution_count": 225,
   "metadata": {
    "ExecuteTime": {
     "end_time": "2018-02-03T17:49:31.686509Z",
     "start_time": "2018-02-03T17:49:31.677332Z"
    },
    "collapsed": true
   },
   "outputs": [],
   "source": [
    "mid = df['Rating']\n",
    "df.drop(labels=['Rating'], axis=1,inplace = True)\n",
    "df.insert(0, 'Rating', mid)"
   ]
  },
  {
   "cell_type": "code",
   "execution_count": 231,
   "metadata": {
    "ExecuteTime": {
     "end_time": "2018-02-03T17:51:52.679688Z",
     "start_time": "2018-02-03T17:51:52.408853Z"
    }
   },
   "outputs": [
    {
     "name": "stderr",
     "output_type": "stream",
     "text": [
      "/Users/bgentry/anaconda/lib/python3.6/site-packages/seaborn/categorical.py:1428: FutureWarning: remove_na is deprecated and is a private function. Do not use.\n",
      "  stat_data = remove_na(group_data)\n"
     ]
    },
    {
     "data": {
      "image/png": "[encoded data removed]",
      "text/plain": [
       "<matplotlib.figure.Figure at 0x11ee40748>"
      ]
     },
     "metadata": {},
     "output_type": "display_data"
    }
   ],
   "source": [
    "sns.barplot(df.Rating.unique(), df.Rating.value_counts().tolist())\n",
    "plt.title('Observations of Each Rating ')\n",
    "plt.ylabel('Observations')\n",
    "plt.xlabel('Rating');"
   ]
  },
  {
   "cell_type": "code",
   "execution_count": 230,
   "metadata": {
    "ExecuteTime": {
     "end_time": "2018-02-03T17:51:35.273918Z",
     "start_time": "2018-02-03T17:51:34.846526Z"
    }
   },
   "outputs": [
    {
     "name": "stdout",
     "output_type": "stream",
     "text": [
      "Best KNN Accuracy: 0.481481481481\n",
      "Best NN value: 14\n"
     ]
    },
    {
     "data": {
      "image/png": "[encoded data removed]",
      "text/plain": [
       "<matplotlib.figure.Figure at 0x11f1e29b0>"
      ]
     },
     "metadata": {},
     "output_type": "display_data"
    }
   ],
   "source": [
    "y = df.iloc[:,0]\n",
    "X = df.iloc[:,1:]\n",
    "X_train, X_test, y_train, y_test = train_test_split(X,y, test_size = .3, random_state = 4444)\n",
    "\n",
    "score = []\n",
    "nn = []\n",
    "for i in range(1,21):\n",
    "    knn = KNeighborsClassifier(n_neighbors = i)\n",
    "    knn.fit(X_train, y_train)\n",
    "    score.append(accuracy_score(y_test, knn.predict(X_test)))\n",
    "    nn.append(i)\n",
    "\n",
    "plt.plot(nn, score)\n",
    "plt.title('KNN Accuracy by Nearest Neighbors')\n",
    "plt.ylabel('Accuracy')\n",
    "plt.xlabel('Nearest Neighbors');\n",
    "print('Best KNN Accuracy: ' + str(max(score)))\n",
    "print('Best NN value: ' + str(nn[score.index(max(score))]))"
   ]
  },
  {
   "cell_type": "code",
   "execution_count": 228,
   "metadata": {
    "ExecuteTime": {
     "end_time": "2018-02-03T17:50:02.072196Z",
     "start_time": "2018-02-03T17:50:02.053774Z"
    }
   },
   "outputs": [
    {
     "name": "stdout",
     "output_type": "stream",
     "text": [
      "LogReg Accuracy: 0.407407407407\n"
     ]
    }
   ],
   "source": [
    "lr = LogisticRegression()\n",
    "lr.fit(X_train, y_train)\n",
    "lr_score = (accuracy_score(y_test, lr.predict(X_test)))\n",
    "\n",
    "print('LogReg Accuracy: ' + str(lr_score))"
   ]
  },
  {
   "cell_type": "code",
   "execution_count": 232,
   "metadata": {
    "ExecuteTime": {
     "end_time": "2018-02-03T17:52:38.321648Z",
     "start_time": "2018-02-03T17:52:38.310767Z"
    }
   },
   "outputs": [
    {
     "name": "stdout",
     "output_type": "stream",
     "text": [
      "All Dem Accruacy: 0.444444444444\n"
     ]
    }
   ],
   "source": [
    "def pred_pg13(vals):\n",
    "    output = []\n",
    "    for i in range(len(vals)):\n",
    "        output.append('PG-13')\n",
    "    return output\n",
    "\n",
    "pg13_acc = accuracy_score(y_test, pred_pg13(X_test))\n",
    "print('All Dem Accruacy: ' + str(pg13_acc))"
   ]
  },
  {
   "cell_type": "markdown",
   "metadata": {},
   "source": [
    "### Comparison\n",
    "KNN and LogReg do not do significantly better than the dumb predictor - LogReg Actually does worse"
   ]
  },
  {
   "cell_type": "code",
   "execution_count": 239,
   "metadata": {
    "ExecuteTime": {
     "end_time": "2018-02-03T18:04:21.283317Z",
     "start_time": "2018-02-03T18:04:21.258425Z"
    }
   },
   "outputs": [
    {
     "data": {
      "text/html": [
       "<div>\n",
       "<style scoped>\n",
       "    .dataframe tbody tr th:only-of-type {\n",
       "        vertical-align: middle;\n",
       "    }\n",
       "\n",
       "    .dataframe tbody tr th {\n",
       "        vertical-align: top;\n",
       "    }\n",
       "\n",
       "    .dataframe thead th {\n",
       "        text-align: right;\n",
       "    }\n",
       "</style>\n",
       "<table border=\"1\" class=\"dataframe\">\n",
       "  <thead>\n",
       "    <tr style=\"text-align: right;\">\n",
       "      <th></th>\n",
       "      <th>Class_1_Coeff</th>\n",
       "      <th>Class_2_Coeff</th>\n",
       "      <th>Class_3_Coeff</th>\n",
       "      <th>Feature</th>\n",
       "    </tr>\n",
       "  </thead>\n",
       "  <tbody>\n",
       "    <tr>\n",
       "      <th>0</th>\n",
       "      <td>0.280221</td>\n",
       "      <td>0.313612</td>\n",
       "      <td>-0.602139</td>\n",
       "      <td>Budget</td>\n",
       "    </tr>\n",
       "    <tr>\n",
       "      <th>1</th>\n",
       "      <td>0.152754</td>\n",
       "      <td>-0.049058</td>\n",
       "      <td>-0.088233</td>\n",
       "      <td>DomesticTotalGross</td>\n",
       "    </tr>\n",
       "    <tr>\n",
       "      <th>2</th>\n",
       "      <td>-0.814219</td>\n",
       "      <td>0.776641</td>\n",
       "      <td>-0.031694</td>\n",
       "      <td>Runtime</td>\n",
       "    </tr>\n",
       "    <tr>\n",
       "      <th>3</th>\n",
       "      <td>-0.297977</td>\n",
       "      <td>-0.026128</td>\n",
       "      <td>0.193079</td>\n",
       "      <td>ReleaseDate</td>\n",
       "    </tr>\n",
       "    <tr>\n",
       "      <th>4</th>\n",
       "      <td>-0.219930</td>\n",
       "      <td>0.289203</td>\n",
       "      <td>-0.114775</td>\n",
       "      <td>Director_Alan Taylor</td>\n",
       "    </tr>\n",
       "  </tbody>\n",
       "</table>\n",
       "</div>"
      ],
      "text/plain": [
       "   Class_1_Coeff  Class_2_Coeff  Class_3_Coeff               Feature\n",
       "0       0.280221       0.313612      -0.602139                Budget\n",
       "1       0.152754      -0.049058      -0.088233    DomesticTotalGross\n",
       "2      -0.814219       0.776641      -0.031694               Runtime\n",
       "3      -0.297977      -0.026128       0.193079           ReleaseDate\n",
       "4      -0.219930       0.289203      -0.114775  Director_Alan Taylor"
      ]
     },
     "execution_count": 239,
     "metadata": {},
     "output_type": "execute_result"
    }
   ],
   "source": [
    "from sklearn.preprocessing import StandardScaler\n",
    "\n",
    "scalerX = StandardScaler().fit(X_train)\n",
    "X_train = scalerX.transform(X_train)\n",
    "X_test = scalerX.transform(X_test)\n",
    "\n",
    "lr = LogisticRegression()\n",
    "lr.fit(X_train, y_train)\n",
    "\n",
    "\n",
    "d = {'Feature': X.columns,\n",
    "     'Class_1_Coeff': lr.coef_[0],\n",
    "     'Class_2_Coeff': lr.coef_[1],\n",
    "     'Class_3_Coeff': lr.coef_[2]}\n",
    "df_imp = pd.DataFrame(data=d)\n",
    "df_imp.head()"
   ]
  },
  {
   "cell_type": "markdown",
   "metadata": {},
   "source": [
    "# Challenge 12\n"
   ]
  },
  {
   "cell_type": "code",
   "execution_count": 241,
   "metadata": {
    "ExecuteTime": {
     "end_time": "2018-02-03T18:06:27.701840Z",
     "start_time": "2018-02-03T18:06:27.092532Z"
    },
    "collapsed": true
   },
   "outputs": [],
   "source": [
    "columns = ['Age','Op_Year', 'Pos_Nodes', 'Survival']\n",
    "df = pd.read_csv('https://archive.ics.uci.edu/ml/machine-learning-databases/haberman/haberman.data',\n",
    "                 header=None,\n",
    "                 names = columns)"
   ]
  },
  {
   "cell_type": "code",
   "execution_count": 243,
   "metadata": {
    "ExecuteTime": {
     "end_time": "2018-02-03T18:06:58.660772Z",
     "start_time": "2018-02-03T18:06:58.646466Z"
    },
    "collapsed": true
   },
   "outputs": [],
   "source": [
    "mid = df['Survival']\n",
    "df.drop(labels=['Survival'], axis=1,inplace = True)\n",
    "df.insert(0, 'Survival', mid)"
   ]
  },
  {
   "cell_type": "code",
   "execution_count": 252,
   "metadata": {
    "ExecuteTime": {
     "end_time": "2018-02-03T18:14:37.837458Z",
     "start_time": "2018-02-03T18:14:37.811346Z"
    }
   },
   "outputs": [
    {
     "name": "stdout",
     "output_type": "stream",
     "text": [
      "All Patients:\n",
      "Age mean = 52.45751633986928\n",
      "Age standard deviation 10.78578520363183\n",
      "\n",
      "Patients 5 Years+ Survival:\n",
      "Age mean = 52.01777777777778\n",
      "Age standard deviation 10.98765547510051\n",
      "\n",
      "atients <5 Years Survival:\n",
      "Age mean = 53.67901234567901\n",
      "Age standard deviation 10.10418219303131\n",
      "\n"
     ]
    }
   ],
   "source": [
    "def stats_(dataframe, column):\n",
    "    print (column + ' mean = ' + str(np.mean(dataframe[column]))) \n",
    "    print (column + ' standard deviation ' + str(np.std(dataframe[column])))\n",
    "\n",
    "print('All Patients:')\n",
    "stats_(df, 'Age')\n",
    "print()\n",
    "print('Patients 5 Years+ Survival:')\n",
    "stats_(df[df.Survival == 1], 'Age')\n",
    "print()\n",
    "print('atients <5 Years Survival:')\n",
    "stats_(df[df.Survival == 2], 'Age')\n",
    "print()\n"
   ]
  },
  {
   "cell_type": "code",
   "execution_count": 279,
   "metadata": {
    "ExecuteTime": {
     "end_time": "2018-02-03T18:21:42.849963Z",
     "start_time": "2018-02-03T18:21:42.188642Z"
    },
    "run_control": {
     "marked": false
    }
   },
   "outputs": [
    {
     "data": {
      "image/png": "[encoded data removed]",
      "text/plain": [
       "<matplotlib.figure.Figure at 0x11f2fca58>"
      ]
     },
     "metadata": {},
     "output_type": "display_data"
    }
   ],
   "source": [
    "fig, ax = plt.subplots(1,2, figsize=(10,5))\n",
    "df.Age.hist(ax=ax[0])\n",
    "ax[0].set_title('Histogram of Ages')\n",
    "df.Pos_Nodes.hist(ax = ax[1])\n",
    "ax[1].set_title('Histogram of Positive Nodes');"
   ]
  },
  {
   "cell_type": "code",
   "execution_count": 280,
   "metadata": {
    "ExecuteTime": {
     "end_time": "2018-02-03T18:21:59.555659Z",
     "start_time": "2018-02-03T18:21:59.549225Z"
    }
   },
   "outputs": [
    {
     "name": "stdout",
     "output_type": "stream",
     "text": [
      "First Year of Surgery: 1958\n",
      "Most Recent Year of Surgery: 1969\n"
     ]
    }
   ],
   "source": [
    "print('First Year of Surgery: ' + str(19) + str(min(df.Op_Year)))\n",
    "print('Most Recent Year of Surgery: ' + str(19) + str(max(df.Op_Year)))"
   ]
  },
  {
   "cell_type": "code",
   "execution_count": 281,
   "metadata": {
    "ExecuteTime": {
     "end_time": "2018-02-03T18:22:33.144074Z",
     "start_time": "2018-02-03T18:22:33.048923Z"
    }
   },
   "outputs": [
    {
     "name": "stdout",
     "output_type": "stream",
     "text": [
      "LogReg Accuracy: 0.815217391304\n"
     ]
    }
   ],
   "source": [
    "y = df.iloc[:,0]\n",
    "X = df.iloc[:,1:]\n",
    "X_train, X_test, y_train, y_test = train_test_split(X,y, test_size = .3, random_state = 4444)\n",
    "lr = LogisticRegression()\n",
    "lr.fit(X_train, y_train)\n",
    "lr_score = (accuracy_score(y_test, lr.predict(X_test)))\n",
    "\n",
    "print('LogReg Accuracy: ' + str(lr_score))"
   ]
  },
  {
   "cell_type": "code",
   "execution_count": 282,
   "metadata": {
    "ExecuteTime": {
     "end_time": "2018-02-03T18:23:06.523711Z",
     "start_time": "2018-02-03T18:23:06.480922Z"
    }
   },
   "outputs": [
    {
     "data": {
      "text/html": [
       "<div>\n",
       "<style scoped>\n",
       "    .dataframe tbody tr th:only-of-type {\n",
       "        vertical-align: middle;\n",
       "    }\n",
       "\n",
       "    .dataframe tbody tr th {\n",
       "        vertical-align: top;\n",
       "    }\n",
       "\n",
       "    .dataframe thead th {\n",
       "        text-align: right;\n",
       "    }\n",
       "</style>\n",
       "<table border=\"1\" class=\"dataframe\">\n",
       "  <thead>\n",
       "    <tr style=\"text-align: right;\">\n",
       "      <th></th>\n",
       "      <th>Coeff</th>\n",
       "      <th>Feature</th>\n",
       "    </tr>\n",
       "  </thead>\n",
       "  <tbody>\n",
       "    <tr>\n",
       "      <th>0</th>\n",
       "      <td>0.174679</td>\n",
       "      <td>Age</td>\n",
       "    </tr>\n",
       "    <tr>\n",
       "      <th>1</th>\n",
       "      <td>0.020448</td>\n",
       "      <td>Op_Year</td>\n",
       "    </tr>\n",
       "    <tr>\n",
       "      <th>2</th>\n",
       "      <td>0.558925</td>\n",
       "      <td>Pos_Nodes</td>\n",
       "    </tr>\n",
       "  </tbody>\n",
       "</table>\n",
       "</div>"
      ],
      "text/plain": [
       "      Coeff    Feature\n",
       "0  0.174679        Age\n",
       "1  0.020448    Op_Year\n",
       "2  0.558925  Pos_Nodes"
      ]
     },
     "execution_count": 282,
     "metadata": {},
     "output_type": "execute_result"
    }
   ],
   "source": [
    "scalerX = StandardScaler().fit(X_train)\n",
    "X_train = scalerX.transform(X_train)\n",
    "X_test = scalerX.transform(X_test)\n",
    "\n",
    "lr = LogisticRegression()\n",
    "lr.fit(X_train, y_train)\n",
    "\n",
    "\n",
    "d = {'Feature': X.columns,\n",
    "     'Coeff': lr.coef_[0],}\n",
    "df_imp = pd.DataFrame(data=d)\n",
    "df_imp.head()"
   ]
  },
  {
   "cell_type": "code",
   "execution_count": 283,
   "metadata": {
    "ExecuteTime": {
     "end_time": "2018-02-03T18:23:30.070124Z",
     "start_time": "2018-02-03T18:23:29.604891Z"
    }
   },
   "outputs": [
    {
     "data": {
      "image/png": "[encoded data removed]",
      "text/plain": [
       "<matplotlib.figure.Figure at 0x11e99e128>"
      ]
     },
     "metadata": {},
     "output_type": "display_data"
    }
   ],
   "source": [
    "from sklearn.learning_curve import learning_curve\n",
    "m, train_error, test_error = learning_curve(LogisticRegression(), X, y)\n",
    "train_cv_err = np.mean(train_error, axis=1)\n",
    "test_cv_err = np.mean(test_error, axis=1)\n",
    "\n",
    "plt.plot(m, train_cv_err)\n",
    "plt.title('LogReg Learning Curve')\n",
    "plt.ylabel('Score')\n",
    "plt.xlabel('Samples');"
   ]
  }
 ],
 "metadata": {
  "kernelspec": {
   "display_name": "Python 3",
   "language": "python",
   "name": "python3"
  },
  "language_info": {
   "codemirror_mode": {
    "name": "ipython",
    "version": 3
   },
   "file_extension": ".py",
   "mimetype": "text/x-python",
   "name": "python",
   "nbconvert_exporter": "python",
   "pygments_lexer": "ipython3",
   "version": "3.6.4"
  }
 },
 "nbformat": 4,
 "nbformat_minor": 2
}
