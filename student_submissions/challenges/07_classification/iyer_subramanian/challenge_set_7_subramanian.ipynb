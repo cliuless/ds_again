{
 "cells": [
  {
   "cell_type": "markdown",
   "metadata": {},
   "source": [
    "### Topic: Challenge Set 7\n",
    "### Subject: House Voting Data, Movies, and Cancer Survival\n",
    "### Date: 02/04/2018\n",
    "### Name: Subramanian Iyer\n",
    "### Worked With: Worked Individually"
   ]
  },
  {
   "cell_type": "markdown",
   "metadata": {},
   "source": [
    "### **Challenge Number 1**"
   ]
  },
  {
   "cell_type": "code",
   "execution_count": 1,
   "metadata": {},
   "outputs": [
    {
     "data": {
      "text/html": [
       "<div>\n",
       "<style>\n",
       "    .dataframe thead tr:only-child th {\n",
       "        text-align: right;\n",
       "    }\n",
       "\n",
       "    .dataframe thead th {\n",
       "        text-align: left;\n",
       "    }\n",
       "\n",
       "    .dataframe tbody tr th {\n",
       "        vertical-align: top;\n",
       "    }\n",
       "</style>\n",
       "<table border=\"1\" class=\"dataframe\">\n",
       "  <thead>\n",
       "    <tr style=\"text-align: right;\">\n",
       "      <th></th>\n",
       "      <th>Party</th>\n",
       "      <th>v1</th>\n",
       "      <th>v2</th>\n",
       "      <th>v3</th>\n",
       "      <th>v4</th>\n",
       "      <th>v5</th>\n",
       "      <th>v6</th>\n",
       "      <th>v7</th>\n",
       "      <th>v8</th>\n",
       "      <th>v9</th>\n",
       "      <th>v10</th>\n",
       "      <th>v11</th>\n",
       "      <th>v12</th>\n",
       "      <th>v13</th>\n",
       "      <th>v14</th>\n",
       "      <th>v15</th>\n",
       "      <th>v16</th>\n",
       "    </tr>\n",
       "  </thead>\n",
       "  <tbody>\n",
       "    <tr>\n",
       "      <th>0</th>\n",
       "      <td>republican</td>\n",
       "      <td>0.00000</td>\n",
       "      <td>1.0</td>\n",
       "      <td>0.0</td>\n",
       "      <td>1.000000</td>\n",
       "      <td>1.000000</td>\n",
       "      <td>1.0</td>\n",
       "      <td>0.0</td>\n",
       "      <td>0.0</td>\n",
       "      <td>0.0</td>\n",
       "      <td>1.0</td>\n",
       "      <td>0.362319</td>\n",
       "      <td>1.000000</td>\n",
       "      <td>1.0</td>\n",
       "      <td>1.0</td>\n",
       "      <td>0.0</td>\n",
       "      <td>1.000000</td>\n",
       "    </tr>\n",
       "    <tr>\n",
       "      <th>1</th>\n",
       "      <td>republican</td>\n",
       "      <td>0.00000</td>\n",
       "      <td>1.0</td>\n",
       "      <td>0.0</td>\n",
       "      <td>1.000000</td>\n",
       "      <td>1.000000</td>\n",
       "      <td>1.0</td>\n",
       "      <td>0.0</td>\n",
       "      <td>0.0</td>\n",
       "      <td>0.0</td>\n",
       "      <td>0.0</td>\n",
       "      <td>0.000000</td>\n",
       "      <td>1.000000</td>\n",
       "      <td>1.0</td>\n",
       "      <td>1.0</td>\n",
       "      <td>0.0</td>\n",
       "      <td>0.812689</td>\n",
       "    </tr>\n",
       "    <tr>\n",
       "      <th>2</th>\n",
       "      <td>democrat</td>\n",
       "      <td>0.44208</td>\n",
       "      <td>1.0</td>\n",
       "      <td>1.0</td>\n",
       "      <td>0.417453</td>\n",
       "      <td>1.000000</td>\n",
       "      <td>1.0</td>\n",
       "      <td>0.0</td>\n",
       "      <td>0.0</td>\n",
       "      <td>0.0</td>\n",
       "      <td>0.0</td>\n",
       "      <td>1.000000</td>\n",
       "      <td>0.000000</td>\n",
       "      <td>1.0</td>\n",
       "      <td>1.0</td>\n",
       "      <td>0.0</td>\n",
       "      <td>0.000000</td>\n",
       "    </tr>\n",
       "    <tr>\n",
       "      <th>3</th>\n",
       "      <td>democrat</td>\n",
       "      <td>0.00000</td>\n",
       "      <td>1.0</td>\n",
       "      <td>1.0</td>\n",
       "      <td>0.000000</td>\n",
       "      <td>0.504762</td>\n",
       "      <td>1.0</td>\n",
       "      <td>0.0</td>\n",
       "      <td>0.0</td>\n",
       "      <td>0.0</td>\n",
       "      <td>0.0</td>\n",
       "      <td>1.000000</td>\n",
       "      <td>0.000000</td>\n",
       "      <td>1.0</td>\n",
       "      <td>0.0</td>\n",
       "      <td>0.0</td>\n",
       "      <td>1.000000</td>\n",
       "    </tr>\n",
       "    <tr>\n",
       "      <th>4</th>\n",
       "      <td>democrat</td>\n",
       "      <td>1.00000</td>\n",
       "      <td>1.0</td>\n",
       "      <td>1.0</td>\n",
       "      <td>0.000000</td>\n",
       "      <td>1.000000</td>\n",
       "      <td>1.0</td>\n",
       "      <td>0.0</td>\n",
       "      <td>0.0</td>\n",
       "      <td>0.0</td>\n",
       "      <td>0.0</td>\n",
       "      <td>1.000000</td>\n",
       "      <td>0.423267</td>\n",
       "      <td>1.0</td>\n",
       "      <td>1.0</td>\n",
       "      <td>1.0</td>\n",
       "      <td>1.000000</td>\n",
       "    </tr>\n",
       "  </tbody>\n",
       "</table>\n",
       "</div>"
      ],
      "text/plain": [
       "        Party       v1   v2   v3        v4        v5   v6   v7   v8   v9  v10  \\\n",
       "0  republican  0.00000  1.0  0.0  1.000000  1.000000  1.0  0.0  0.0  0.0  1.0   \n",
       "1  republican  0.00000  1.0  0.0  1.000000  1.000000  1.0  0.0  0.0  0.0  0.0   \n",
       "2    democrat  0.44208  1.0  1.0  0.417453  1.000000  1.0  0.0  0.0  0.0  0.0   \n",
       "3    democrat  0.00000  1.0  1.0  0.000000  0.504762  1.0  0.0  0.0  0.0  0.0   \n",
       "4    democrat  1.00000  1.0  1.0  0.000000  1.000000  1.0  0.0  0.0  0.0  0.0   \n",
       "\n",
       "        v11       v12  v13  v14  v15       v16  \n",
       "0  0.362319  1.000000  1.0  1.0  0.0  1.000000  \n",
       "1  0.000000  1.000000  1.0  1.0  0.0  0.812689  \n",
       "2  1.000000  0.000000  1.0  1.0  0.0  0.000000  \n",
       "3  1.000000  0.000000  1.0  0.0  0.0  1.000000  \n",
       "4  1.000000  0.423267  1.0  1.0  1.0  1.000000  "
      ]
     },
     "execution_count": 1,
     "metadata": {},
     "output_type": "execute_result"
    }
   ],
   "source": [
    "import pandas as pd\n",
    "import numpy as np\n",
    "import warnings\n",
    "warnings.filterwarnings('ignore')\n",
    "url = \"https://archive.ics.uci.edu/ml/machine-learning-databases/voting-records/house-votes-84.data\"\n",
    "df = pd.read_csv(url, header = None, names = ['Party'] + ['v'+str(i) for i in range(1,17)])\n",
    "def numify(i):\n",
    "    if i =='y':\n",
    "        return 1\n",
    "    elif i =='n':\n",
    "        return 0\n",
    "    else:\n",
    "        return np.nan\n",
    "for i in range(1,17):\n",
    "    df['v'+str(i)] = [numify(j) for j in df['v'+str(i)]]\n",
    "df.fillna(df.mean(), inplace = True)\n",
    "df.head()"
   ]
  },
  {
   "cell_type": "markdown",
   "metadata": {},
   "source": [
    "### **Challenge Number 2**"
   ]
  },
  {
   "cell_type": "code",
   "execution_count": 2,
   "metadata": {},
   "outputs": [
    {
     "name": "stderr",
     "output_type": "stream",
     "text": [
      "/Users/subramanianiyer/anaconda2/envs/mypython3/lib/python3.6/site-packages/sklearn/cross_validation.py:41: DeprecationWarning: This module was deprecated in version 0.18 in favor of the model_selection module into which all the refactored classes and functions are moved. Also note that the interface of the new CV iterators are different from that of this module. This module will be removed in 0.20.\n",
      "  \"This module will be removed in 0.20.\", DeprecationWarning)\n"
     ]
    }
   ],
   "source": [
    "from sklearn.cross_validation import train_test_split\n",
    "y = df['Party']\n",
    "X = df[['v' + str(i) for i in range(1,17)]]\n",
    "X_train, X_test, y_train, y_test = train_test_split(X, y, test_size = .30, random_state = 4444)"
   ]
  },
  {
   "cell_type": "markdown",
   "metadata": {},
   "source": [
    "### **Challenge Number 3**"
   ]
  },
  {
   "cell_type": "code",
   "execution_count": 3,
   "metadata": {},
   "outputs": [
    {
     "name": "stdout",
     "output_type": "stream",
     "text": [
      "[array([ 6,  9, 10])]\n",
      "0.931297709924\n",
      "[ 0.90076336  0.89312977  0.90076336  0.90076336  0.91603053  0.93129771\n",
      "  0.91603053  0.92366412  0.93129771  0.93129771  0.92366412  0.92366412\n",
      "  0.92366412  0.92366412  0.92366412  0.92366412  0.92366412  0.91603053\n",
      "  0.91603053  0.91603053]\n"
     ]
    }
   ],
   "source": [
    "from sklearn.neighbors import KNeighborsClassifier\n",
    "from sklearn.metrics import accuracy_score\n",
    "acc = []\n",
    "for i in range(20):\n",
    "    knn = KNeighborsClassifier(n_neighbors = i+1)\n",
    "    knn.fit(X_train, y_train)\n",
    "    y_pred = knn.predict(X_test)\n",
    "    acc.append(accuracy_score(y_test, y_pred))\n",
    "acc = np.array(acc)\n",
    "print([x + 1 for x in np.where(acc==acc.max())])\n",
    "print(acc.max())\n",
    "print(acc)"
   ]
  },
  {
   "cell_type": "markdown",
   "metadata": {},
   "source": [
    "K values of 6, 9, and 10 give the highest accuracy for this test/train split."
   ]
  },
  {
   "cell_type": "markdown",
   "metadata": {},
   "source": [
    "### **Challenge Number 4**"
   ]
  },
  {
   "cell_type": "code",
   "execution_count": 4,
   "metadata": {},
   "outputs": [
    {
     "name": "stdout",
     "output_type": "stream",
     "text": [
      "0.93893129771\n"
     ]
    }
   ],
   "source": [
    "from sklearn.linear_model import LogisticRegression\n",
    "lr = LogisticRegression(random_state=4444)\n",
    "lr.fit(X_train, y_train)\n",
    "y_pred = lr.predict(X_test)\n",
    "print(accuracy_score(y_test, y_pred))"
   ]
  },
  {
   "cell_type": "markdown",
   "metadata": {},
   "source": [
    "### **Challenge Number 5**"
   ]
  },
  {
   "cell_type": "code",
   "execution_count": 5,
   "metadata": {},
   "outputs": [
    {
     "name": "stdout",
     "output_type": "stream",
     "text": [
      "267\n",
      "168\n"
     ]
    },
    {
     "data": {
      "image/png": "[encoded data removed]",
      "text/plain": [
       "<matplotlib.figure.Figure at 0x1a1581f080>"
      ]
     },
     "metadata": {},
     "output_type": "display_data"
    }
   ],
   "source": [
    "import matplotlib.pyplot as plt\n",
    "%matplotlib inline\n",
    "print(len(df[df.Party=='democrat']))\n",
    "print(len(df[df.Party=='republican']))\n",
    "dems = len(df[df.Party=='democrat'])\n",
    "reps = len(df[df.Party=='republican'])\n",
    "plt.bar([1,2],height = [dems,reps],tick_label = ['Democrats', 'Republicans'], color = ['blue', 'red'])\n",
    "plt.title('Party Distribution in the 1984 House')\n",
    "plt.xlabel('Party')\n",
    "plt.ylabel('Count')\n",
    "def demPred(y):\n",
    "    return ['democrat']*len(y)\n",
    "def repPred(y):\n",
    "    return ['republican']*len(y)"
   ]
  },
  {
   "cell_type": "code",
   "execution_count": 6,
   "metadata": {},
   "outputs": [
    {
     "name": "stdout",
     "output_type": "stream",
     "text": [
      "0.587786259542\n",
      "0.412213740458\n"
     ]
    }
   ],
   "source": [
    "print(accuracy_score(y_test, demPred(X_test)))\n",
    "print(accuracy_score(y_test, repPred(X_test)))"
   ]
  },
  {
   "cell_type": "markdown",
   "metadata": {},
   "source": [
    "There are 267 democrats and 168 republicans."
   ]
  },
  {
   "cell_type": "markdown",
   "metadata": {},
   "source": [
    "### **Challenge Number 6**"
   ]
  },
  {
   "cell_type": "code",
   "execution_count": 7,
   "metadata": {},
   "outputs": [
    {
     "data": {
      "image/png": "[encoded data removed]",
      "text/plain": [
       "<matplotlib.figure.Figure at 0x1a10862d68>"
      ]
     },
     "metadata": {},
     "output_type": "display_data"
    }
   ],
   "source": [
    "plt.plot(range(1,21), acc, label = 'KNN', color = 'blue')\n",
    "plt.plot(range(1,21), [accuracy_score(y_test, y_pred)]*20, label = 'LR', color = 'black')\n",
    "plt.title('Accuracy vs K')\n",
    "plt.xlabel('K')\n",
    "plt.ylabel('Accuracy')\n",
    "plt.xticks(np.arange(21))\n",
    "plt.grid()\n",
    "plt.legend(bbox_to_anchor=(1.05, 1), loc=2, borderaxespad=0.);"
   ]
  },
  {
   "cell_type": "code",
   "execution_count": 8,
   "metadata": {},
   "outputs": [
    {
     "data": {
      "image/png": "[encoded data removed]",
      "text/plain": [
       "<matplotlib.figure.Figure at 0x109a8bc50>"
      ]
     },
     "metadata": {},
     "output_type": "display_data"
    }
   ],
   "source": [
    "plt.plot(range(1,21), [accuracy_score(y_test, demPred(X_test))]*20, label = 'Predict Democrat', color = 'green')\n",
    "plt.plot(range(1,21), [accuracy_score(y_test, repPred(X_test))]*20, label = 'Predict Republican', color = 'red')\n",
    "plt.title('Accuracy vs K')\n",
    "plt.xlabel('K')\n",
    "plt.ylabel('Accuracy')\n",
    "plt.legend(bbox_to_anchor=(1.05, 1), loc=2, borderaxespad=0.);"
   ]
  },
  {
   "cell_type": "markdown",
   "metadata": {},
   "source": [
    "### **Challenge Number 7**"
   ]
  },
  {
   "cell_type": "code",
   "execution_count": 9,
   "metadata": {},
   "outputs": [
    {
     "data": {
      "text/plain": [
       "Text(0.5,1,'LR learning Curve')"
      ]
     },
     "execution_count": 9,
     "metadata": {},
     "output_type": "execute_result"
    },
    {
     "data": {
      "image/png": "[encoded data removed]",
      "text/plain": [
       "<matplotlib.figure.Figure at 0x109a8bb00>"
      ]
     },
     "metadata": {},
     "output_type": "display_data"
    }
   ],
   "source": [
    "from sklearn.model_selection import learning_curve\n",
    "sizes = range(11,int(len(df)*(.8)))\n",
    "mLR, trainScoresLR, testScoresLR = learning_curve(LogisticRegression(random_state=4444), X, y, train_sizes = sizes, cv = 5)\n",
    "trainScoresLR = np.mean(trainScoresLR, axis=1)\n",
    "testScoresLR = np.mean(testScoresLR, axis=1)\n",
    "\n",
    "mKNN6, trainScoresKNN6, testScoresKNN6 = learning_curve(KNeighborsClassifier(n_neighbors = 6), X, y, train_sizes = sizes, cv = 5)\n",
    "trainScoresKNN6 = np.mean(trainScoresKNN6, axis=1)\n",
    "testScoresKNN6 = np.mean(testScoresKNN6, axis=1)\n",
    "\n",
    "mKNN9, trainScoresKNN9, testScoresKNN9 = learning_curve(KNeighborsClassifier(n_neighbors = 9), X, y, train_sizes = sizes, cv = 5)\n",
    "trainScoresKNN9 = np.mean(trainScoresKNN9, axis=1)\n",
    "testScoresKNN9 = np.mean(testScoresKNN9, axis=1)\n",
    "\n",
    "mKNN10, trainScoresKNN10, testScoresKNN10 = learning_curve(KNeighborsClassifier(n_neighbors = 10), X, y, train_sizes = sizes, cv = 5)\n",
    "trainScoresKNN10 = np.mean(trainScoresKNN10, axis=1)\n",
    "testScoresKNN10 = np.mean(testScoresKNN10, axis=1)\n",
    "\n",
    "plt.plot(sizes, trainScoresLR, color='green', label='LR Train Scores')\n",
    "plt.plot(sizes, testScoresLR, color='red', label='LR Test Scores')\n",
    "plt.ylabel('Accuracy Scores')\n",
    "plt.xlabel('Training Set Size')\n",
    "plt.legend(loc='lower right')\n",
    "plt.title('LR learning Curve')"
   ]
  },
  {
   "cell_type": "code",
   "execution_count": 10,
   "metadata": {},
   "outputs": [
    {
     "data": {
      "text/plain": [
       "Text(0.5,1,'KNN (K=6) learning Curve')"
      ]
     },
     "execution_count": 10,
     "metadata": {},
     "output_type": "execute_result"
    },
    {
     "data": {
      "image/png": "[encoded data removed]",
      "text/plain": [
       "<matplotlib.figure.Figure at 0x1a194edb38>"
      ]
     },
     "metadata": {},
     "output_type": "display_data"
    }
   ],
   "source": [
    "plt.plot(sizes, trainScoresKNN6, color='green', label='KNN Train Scores (k=6)')\n",
    "plt.plot(sizes, testScoresKNN6, color='red', label='KNN Test Scores(k=6)')\n",
    "plt.ylabel('Accuracy Scores')\n",
    "plt.xlabel('Training Set Size')\n",
    "plt.legend(loc='lower right')\n",
    "plt.title('KNN (K=6) learning Curve')"
   ]
  },
  {
   "cell_type": "code",
   "execution_count": 11,
   "metadata": {},
   "outputs": [
    {
     "data": {
      "text/plain": [
       "Text(0.5,1,'KNN (K=9) learning Curve')"
      ]
     },
     "execution_count": 11,
     "metadata": {},
     "output_type": "execute_result"
    },
    {
     "data": {
      "image/png": "[encoded data removed]",
      "text/plain": [
       "<matplotlib.figure.Figure at 0x1a195e1e10>"
      ]
     },
     "metadata": {},
     "output_type": "display_data"
    }
   ],
   "source": [
    "plt.plot(sizes, trainScoresKNN9, color='green', label='KNN Train Scores (k=9)')\n",
    "plt.plot(sizes, testScoresKNN9, color='red', label='KNN Test Scores(k=9)')\n",
    "plt.ylabel('Accuracy Scores')\n",
    "plt.xlabel('Training Set Size')\n",
    "plt.legend(loc='lower right')\n",
    "plt.title('KNN (K=9) learning Curve')"
   ]
  },
  {
   "cell_type": "code",
   "execution_count": 12,
   "metadata": {},
   "outputs": [
    {
     "data": {
      "text/plain": [
       "Text(0.5,1,'KNN (K=10) learning Curve')"
      ]
     },
     "execution_count": 12,
     "metadata": {},
     "output_type": "execute_result"
    },
    {
     "data": {
      "image/png": "[encoded data removed]",
      "text/plain": [
       "<matplotlib.figure.Figure at 0x1a108672e8>"
      ]
     },
     "metadata": {},
     "output_type": "display_data"
    }
   ],
   "source": [
    "plt.plot(sizes, trainScoresKNN10, color='green', label='KNN Train Scores (k=10)')\n",
    "plt.plot(sizes, testScoresKNN10, color='red', label='KNN Test Scores(k=10)')\n",
    "plt.ylabel('Accuracy Scores')\n",
    "plt.xlabel('Training Set Size')\n",
    "plt.legend(loc='lower right')\n",
    "plt.title('KNN (K=10) learning Curve')"
   ]
  },
  {
   "cell_type": "markdown",
   "metadata": {},
   "source": [
    "### **Challenge Number 8**"
   ]
  },
  {
   "cell_type": "code",
   "execution_count": 13,
   "metadata": {},
   "outputs": [
    {
     "name": "stdout",
     "output_type": "stream",
     "text": [
      "0.93893129771\n"
     ]
    }
   ],
   "source": [
    "from sklearn.naive_bayes import GaussianNB\n",
    "gnb = GaussianNB()\n",
    "gnb.fit(X_train, y_train)\n",
    "y_pred = gnb.predict(X_test)\n",
    "print(accuracy_score(y_test, y_pred))"
   ]
  },
  {
   "cell_type": "code",
   "execution_count": 14,
   "metadata": {},
   "outputs": [
    {
     "name": "stdout",
     "output_type": "stream",
     "text": [
      "0.954198473282\n"
     ]
    }
   ],
   "source": [
    "from sklearn.svm import SVC\n",
    "sv = SVC(random_state = 4444)\n",
    "sv.fit(X_train, y_train)\n",
    "y_pred = sv.predict(X_test)\n",
    "print(accuracy_score(y_test, y_pred))"
   ]
  },
  {
   "cell_type": "code",
   "execution_count": 15,
   "metadata": {},
   "outputs": [
    {
     "name": "stdout",
     "output_type": "stream",
     "text": [
      "0.93893129771\n"
     ]
    }
   ],
   "source": [
    "from sklearn.tree import DecisionTreeClassifier\n",
    "DTC = DecisionTreeClassifier(random_state = 4444)\n",
    "DTC.fit(X_train, y_train)\n",
    "y_pred = DTC.predict(X_test)\n",
    "print(accuracy_score(y_test, y_pred))"
   ]
  },
  {
   "cell_type": "code",
   "execution_count": 16,
   "metadata": {},
   "outputs": [
    {
     "name": "stdout",
     "output_type": "stream",
     "text": [
      "0.954198473282\n"
     ]
    }
   ],
   "source": [
    "from sklearn.ensemble import RandomForestClassifier\n",
    "RF = RandomForestClassifier(random_state = 4444)\n",
    "RF.fit(X_train, y_train)\n",
    "y_pred = RF.predict(X_test)\n",
    "print(accuracy_score(y_test, y_pred))"
   ]
  },
  {
   "cell_type": "markdown",
   "metadata": {},
   "source": [
    "### **Challenge Number 9**"
   ]
  },
  {
   "cell_type": "code",
   "execution_count": 17,
   "metadata": {},
   "outputs": [
    {
     "name": "stdout",
     "output_type": "stream",
     "text": [
      "KNN (K = 1): 0.933088503317\n",
      "KNN (K = 2): 0.94239022138\n",
      "KNN (K = 3): 0.933405020534\n",
      "KNN (K = 4): 0.942522660446\n",
      "KNN (K = 5): 0.93332604311\n",
      "KNN (K = 6): 0.93332604311\n",
      "KNN (K = 7): 0.928833442687\n",
      "KNN (K = 8): 0.931053315837\n",
      "KNN (K = 9): 0.924182279896\n",
      "KNN (K = 10): 0.928727734441\n",
      "KNN (K = 11): 0.928780588564\n",
      "KNN (K = 12): 0.924182279896\n",
      "KNN (K = 13): 0.924182279896\n",
      "KNN (K = 14): 0.921856698501\n",
      "KNN (K = 15): 0.924182279896\n",
      "KNN (K = 16): 0.926455007169\n",
      "KNN (K = 17): 0.924208403198\n",
      "KNN (K = 18): 0.926481130471\n",
      "KNN (K = 19): 0.921935675925\n",
      "KNN (K = 20): 0.921935675925\n",
      "LR: 0.958483997959\n",
      "GNB: 0.940144224928\n",
      "SVC: 0.953965274234\n",
      "DTC: 0.935439600496\n",
      "RF: 0.960783456052\n"
     ]
    }
   ],
   "source": [
    "from sklearn.cross_validation import cross_val_score\n",
    "for i in range(1,21):\n",
    "    print('KNN' + ' (K = ' + str(i) + '): ', end = '')\n",
    "    print(np.mean(cross_val_score(KNeighborsClassifier(n_neighbors = i), X, y, cv = 5)))\n",
    "print('LR: ', end = '')\n",
    "print(np.mean(cross_val_score(LogisticRegression(random_state=4444), X, y, cv = 5)))\n",
    "print('GNB: ', end = '')\n",
    "print(np.mean(cross_val_score(GaussianNB(), X, y, cv=5)))\n",
    "print('SVC: ', end = '')\n",
    "print(np.mean(cross_val_score(SVC(random_state=4444), X, y, cv=5)))\n",
    "print('DTC: ', end = '')\n",
    "print(np.mean(cross_val_score(DecisionTreeClassifier(random_state = 4444), X, y, cv=5)))\n",
    "print('RF: ', end = '')\n",
    "print(np.mean(cross_val_score(RandomForestClassifier(random_state = 4444), X, y, cv=5)))"
   ]
  },
  {
   "cell_type": "markdown",
   "metadata": {},
   "source": [
    "### **Challenge Number 10**"
   ]
  },
  {
   "cell_type": "code",
   "execution_count": 18,
   "metadata": {},
   "outputs": [
    {
     "data": {
      "text/html": [
       "<div>\n",
       "<style>\n",
       "    .dataframe thead tr:only-child th {\n",
       "        text-align: right;\n",
       "    }\n",
       "\n",
       "    .dataframe thead th {\n",
       "        text-align: left;\n",
       "    }\n",
       "\n",
       "    .dataframe tbody tr th {\n",
       "        vertical-align: top;\n",
       "    }\n",
       "</style>\n",
       "<table border=\"1\" class=\"dataframe\">\n",
       "  <thead>\n",
       "    <tr style=\"text-align: right;\">\n",
       "      <th></th>\n",
       "      <th>Party</th>\n",
       "      <th>v1</th>\n",
       "      <th>v2</th>\n",
       "      <th>v3</th>\n",
       "      <th>v4</th>\n",
       "      <th>v5</th>\n",
       "      <th>v6</th>\n",
       "      <th>v7</th>\n",
       "      <th>v8</th>\n",
       "      <th>v9</th>\n",
       "      <th>v10</th>\n",
       "      <th>v11</th>\n",
       "      <th>v12</th>\n",
       "      <th>v13</th>\n",
       "      <th>v14</th>\n",
       "      <th>v15</th>\n",
       "      <th>v16</th>\n",
       "    </tr>\n",
       "  </thead>\n",
       "  <tbody>\n",
       "    <tr>\n",
       "      <th>0</th>\n",
       "      <td>republican</td>\n",
       "      <td>0.0</td>\n",
       "      <td>1.0</td>\n",
       "      <td>0.0</td>\n",
       "      <td>1.0</td>\n",
       "      <td>1.0</td>\n",
       "      <td>1.0</td>\n",
       "      <td>0.0</td>\n",
       "      <td>0.0</td>\n",
       "      <td>0.0</td>\n",
       "      <td>1.0</td>\n",
       "      <td>0.0</td>\n",
       "      <td>1.0</td>\n",
       "      <td>1.0</td>\n",
       "      <td>1.0</td>\n",
       "      <td>0.0</td>\n",
       "      <td>1.0</td>\n",
       "    </tr>\n",
       "    <tr>\n",
       "      <th>1</th>\n",
       "      <td>republican</td>\n",
       "      <td>0.0</td>\n",
       "      <td>1.0</td>\n",
       "      <td>0.0</td>\n",
       "      <td>1.0</td>\n",
       "      <td>1.0</td>\n",
       "      <td>1.0</td>\n",
       "      <td>0.0</td>\n",
       "      <td>0.0</td>\n",
       "      <td>0.0</td>\n",
       "      <td>0.0</td>\n",
       "      <td>0.0</td>\n",
       "      <td>1.0</td>\n",
       "      <td>1.0</td>\n",
       "      <td>1.0</td>\n",
       "      <td>0.0</td>\n",
       "      <td>1.0</td>\n",
       "    </tr>\n",
       "    <tr>\n",
       "      <th>2</th>\n",
       "      <td>democrat</td>\n",
       "      <td>0.0</td>\n",
       "      <td>1.0</td>\n",
       "      <td>1.0</td>\n",
       "      <td>0.0</td>\n",
       "      <td>1.0</td>\n",
       "      <td>1.0</td>\n",
       "      <td>0.0</td>\n",
       "      <td>0.0</td>\n",
       "      <td>0.0</td>\n",
       "      <td>0.0</td>\n",
       "      <td>1.0</td>\n",
       "      <td>0.0</td>\n",
       "      <td>1.0</td>\n",
       "      <td>1.0</td>\n",
       "      <td>0.0</td>\n",
       "      <td>0.0</td>\n",
       "    </tr>\n",
       "    <tr>\n",
       "      <th>3</th>\n",
       "      <td>democrat</td>\n",
       "      <td>0.0</td>\n",
       "      <td>1.0</td>\n",
       "      <td>1.0</td>\n",
       "      <td>0.0</td>\n",
       "      <td>1.0</td>\n",
       "      <td>1.0</td>\n",
       "      <td>0.0</td>\n",
       "      <td>0.0</td>\n",
       "      <td>0.0</td>\n",
       "      <td>0.0</td>\n",
       "      <td>1.0</td>\n",
       "      <td>0.0</td>\n",
       "      <td>1.0</td>\n",
       "      <td>0.0</td>\n",
       "      <td>0.0</td>\n",
       "      <td>1.0</td>\n",
       "    </tr>\n",
       "    <tr>\n",
       "      <th>4</th>\n",
       "      <td>democrat</td>\n",
       "      <td>1.0</td>\n",
       "      <td>1.0</td>\n",
       "      <td>1.0</td>\n",
       "      <td>0.0</td>\n",
       "      <td>1.0</td>\n",
       "      <td>1.0</td>\n",
       "      <td>0.0</td>\n",
       "      <td>0.0</td>\n",
       "      <td>0.0</td>\n",
       "      <td>0.0</td>\n",
       "      <td>1.0</td>\n",
       "      <td>0.0</td>\n",
       "      <td>1.0</td>\n",
       "      <td>1.0</td>\n",
       "      <td>1.0</td>\n",
       "      <td>1.0</td>\n",
       "    </tr>\n",
       "  </tbody>\n",
       "</table>\n",
       "</div>"
      ],
      "text/plain": [
       "        Party   v1   v2   v3   v4   v5   v6   v7   v8   v9  v10  v11  v12  \\\n",
       "0  republican  0.0  1.0  0.0  1.0  1.0  1.0  0.0  0.0  0.0  1.0  0.0  1.0   \n",
       "1  republican  0.0  1.0  0.0  1.0  1.0  1.0  0.0  0.0  0.0  0.0  0.0  1.0   \n",
       "2    democrat  0.0  1.0  1.0  0.0  1.0  1.0  0.0  0.0  0.0  0.0  1.0  0.0   \n",
       "3    democrat  0.0  1.0  1.0  0.0  1.0  1.0  0.0  0.0  0.0  0.0  1.0  0.0   \n",
       "4    democrat  1.0  1.0  1.0  0.0  1.0  1.0  0.0  0.0  0.0  0.0  1.0  0.0   \n",
       "\n",
       "   v13  v14  v15  v16  \n",
       "0  1.0  1.0  0.0  1.0  \n",
       "1  1.0  1.0  0.0  1.0  \n",
       "2  1.0  1.0  0.0  0.0  \n",
       "3  1.0  0.0  0.0  1.0  \n",
       "4  1.0  1.0  1.0  1.0  "
      ]
     },
     "execution_count": 18,
     "metadata": {},
     "output_type": "execute_result"
    }
   ],
   "source": [
    "df1 = pd.read_csv(url, header = None, names = ['Party'] + ['v'+str(i) for i in range(1,17)])\n",
    "def numify(i):\n",
    "    if i =='y':\n",
    "        return 1\n",
    "    elif i =='n':\n",
    "        return 0\n",
    "    else:\n",
    "        return np.nan\n",
    "for i in range(1,17):\n",
    "    df1['v'+str(i)] = [numify(j) for j in df1['v'+str(i)]]\n",
    "    df1['v'+str(i)] = df1['v' + str(i)].fillna(df1['v'+str(i)].mode()[0])\n",
    "df1.head()"
   ]
  },
  {
   "cell_type": "code",
   "execution_count": 19,
   "metadata": {},
   "outputs": [
    {
     "name": "stdout",
     "output_type": "stream",
     "text": [
      "0.671755725191\n",
      "LR CV Score: 0.666525114821\n"
     ]
    }
   ],
   "source": [
    "y1 = df1['v1']\n",
    "X1 = df1[['v' + str(i) for i in range(2,17)]]\n",
    "X1_train, X1_test, y1_train, y1_test = train_test_split(X1, y1, test_size = .30, random_state = 4444)\n",
    "lr1 = LogisticRegression(random_state=4444)\n",
    "lr1.fit(X1_train, y1_train)\n",
    "y1_pred = lr1.predict(X1_test)\n",
    "print(accuracy_score(y1_test, y1_pred))\n",
    "print('LR CV Score: ', end = '')\n",
    "print(np.mean(cross_val_score(LogisticRegression(random_state=4444), X1, y1, cv = 5)))"
   ]
  },
  {
   "cell_type": "markdown",
   "metadata": {},
   "source": [
    "### **Challenge Number 11**"
   ]
  },
  {
   "cell_type": "code",
   "execution_count": 20,
   "metadata": {},
   "outputs": [
    {
     "data": {
      "text/html": [
       "<div>\n",
       "<style>\n",
       "    .dataframe thead tr:only-child th {\n",
       "        text-align: right;\n",
       "    }\n",
       "\n",
       "    .dataframe thead th {\n",
       "        text-align: left;\n",
       "    }\n",
       "\n",
       "    .dataframe tbody tr th {\n",
       "        vertical-align: top;\n",
       "    }\n",
       "</style>\n",
       "<table border=\"1\" class=\"dataframe\">\n",
       "  <thead>\n",
       "    <tr style=\"text-align: right;\">\n",
       "      <th></th>\n",
       "      <th>Title</th>\n",
       "      <th>Budget</th>\n",
       "      <th>DomesticTotalGross</th>\n",
       "      <th>Director</th>\n",
       "      <th>Rating</th>\n",
       "      <th>Runtime</th>\n",
       "      <th>ReleaseDate</th>\n",
       "    </tr>\n",
       "  </thead>\n",
       "  <tbody>\n",
       "    <tr>\n",
       "      <th>0</th>\n",
       "      <td>The Hunger Games: Catching Fire</td>\n",
       "      <td>130000000.0</td>\n",
       "      <td>424668047</td>\n",
       "      <td>Francis Lawrence</td>\n",
       "      <td>PG-13</td>\n",
       "      <td>146</td>\n",
       "      <td>2013-11-22 00:00:00</td>\n",
       "    </tr>\n",
       "    <tr>\n",
       "      <th>1</th>\n",
       "      <td>Iron Man 3</td>\n",
       "      <td>200000000.0</td>\n",
       "      <td>409013994</td>\n",
       "      <td>Shane Black</td>\n",
       "      <td>PG-13</td>\n",
       "      <td>129</td>\n",
       "      <td>2013-05-03 00:00:00</td>\n",
       "    </tr>\n",
       "    <tr>\n",
       "      <th>2</th>\n",
       "      <td>Frozen</td>\n",
       "      <td>150000000.0</td>\n",
       "      <td>400738009</td>\n",
       "      <td>Chris BuckJennifer Lee</td>\n",
       "      <td>PG</td>\n",
       "      <td>108</td>\n",
       "      <td>2013-11-22 00:00:00</td>\n",
       "    </tr>\n",
       "    <tr>\n",
       "      <th>3</th>\n",
       "      <td>Despicable Me 2</td>\n",
       "      <td>76000000.0</td>\n",
       "      <td>368061265</td>\n",
       "      <td>Pierre CoffinChris Renaud</td>\n",
       "      <td>PG</td>\n",
       "      <td>98</td>\n",
       "      <td>2013-07-03 00:00:00</td>\n",
       "    </tr>\n",
       "    <tr>\n",
       "      <th>4</th>\n",
       "      <td>Man of Steel</td>\n",
       "      <td>225000000.0</td>\n",
       "      <td>291045518</td>\n",
       "      <td>Zack Snyder</td>\n",
       "      <td>PG-13</td>\n",
       "      <td>143</td>\n",
       "      <td>2013-06-14 00:00:00</td>\n",
       "    </tr>\n",
       "  </tbody>\n",
       "</table>\n",
       "</div>"
      ],
      "text/plain": [
       "                             Title       Budget  DomesticTotalGross  \\\n",
       "0  The Hunger Games: Catching Fire  130000000.0           424668047   \n",
       "1                       Iron Man 3  200000000.0           409013994   \n",
       "2                           Frozen  150000000.0           400738009   \n",
       "3                  Despicable Me 2   76000000.0           368061265   \n",
       "4                     Man of Steel  225000000.0           291045518   \n",
       "\n",
       "                    Director Rating  Runtime          ReleaseDate  \n",
       "0           Francis Lawrence  PG-13      146  2013-11-22 00:00:00  \n",
       "1                Shane Black  PG-13      129  2013-05-03 00:00:00  \n",
       "2     Chris BuckJennifer Lee     PG      108  2013-11-22 00:00:00  \n",
       "3  Pierre CoffinChris Renaud     PG       98  2013-07-03 00:00:00  \n",
       "4                Zack Snyder  PG-13      143  2013-06-14 00:00:00  "
      ]
     },
     "execution_count": 20,
     "metadata": {},
     "output_type": "execute_result"
    }
   ],
   "source": [
    "df2 = pd.read_csv('2013_movies.csv')\n",
    "df2.head()"
   ]
  },
  {
   "cell_type": "code",
   "execution_count": 21,
   "metadata": {},
   "outputs": [
    {
     "name": "stdout",
     "output_type": "stream",
     "text": [
      "['PG-13' 'PG' 'G' 'R']\n"
     ]
    }
   ],
   "source": [
    "print(df2['Rating'].unique())"
   ]
  },
  {
   "cell_type": "code",
   "execution_count": 22,
   "metadata": {
    "collapsed": true
   },
   "outputs": [],
   "source": [
    "df2.dropna(inplace=True)"
   ]
  },
  {
   "cell_type": "code",
   "execution_count": 23,
   "metadata": {},
   "outputs": [
    {
     "data": {
      "text/plain": [
       "Text(0,0.5,'Count')"
      ]
     },
     "execution_count": 23,
     "metadata": {},
     "output_type": "execute_result"
    },
    {
     "data": {
      "image/png": "[encoded data removed]",
      "text/plain": [
       "<matplotlib.figure.Figure at 0x1a199d0390>"
      ]
     },
     "metadata": {},
     "output_type": "display_data"
    }
   ],
   "source": [
    "h = []\n",
    "for i in df2['Rating'].unique():\n",
    "    h.append(len(df2[df2['Rating']==i]))\n",
    "plt.bar(range(1,len(h)+1),height = h,tick_label = df2['Rating'].unique())\n",
    "plt.title('Distribution by Rating')\n",
    "plt.xlabel('Rating')\n",
    "plt.ylabel('Count')"
   ]
  },
  {
   "cell_type": "code",
   "execution_count": 24,
   "metadata": {
    "collapsed": true
   },
   "outputs": [],
   "source": [
    "del df2['ReleaseDate']\n",
    "del df2['Director']\n",
    "del df2['Title']\n",
    "df2['Budget'] = (df2.Budget - min(df2.Budget))/(max(df2.Budget)-min(df2.Budget))\n",
    "df2['DomesticTotalGross'] = (df2.DomesticTotalGross - min(df2.DomesticTotalGross))/(max(df2.DomesticTotalGross)-min(df2.DomesticTotalGross))\n",
    "df2['Runtime'] = (df2.Runtime - min(df2.Runtime))/(max(df2.Runtime)-min(df2.Runtime))\n",
    "y2 = df2['Rating']\n",
    "X2 = df2[[v for v in df2.columns.values if v != 'Rating']]"
   ]
  },
  {
   "cell_type": "code",
   "execution_count": 25,
   "metadata": {},
   "outputs": [
    {
     "name": "stdout",
     "output_type": "stream",
     "text": [
      "[array([4])]\n",
      "0.62962962963\n",
      "[ 0.51851852  0.48148148  0.55555556  0.62962963  0.55555556  0.59259259\n",
      "  0.48148148  0.51851852  0.55555556  0.44444444  0.48148148  0.48148148\n",
      "  0.44444444  0.44444444  0.44444444  0.44444444  0.44444444  0.44444444\n",
      "  0.44444444  0.48148148]\n"
     ]
    }
   ],
   "source": [
    "X2_train, X2_test, y2_train, y2_test = train_test_split(X2, y2, test_size = .30, random_state = 4444)\n",
    "acc = []\n",
    "for i in range(20):\n",
    "    knn = KNeighborsClassifier(n_neighbors = i+1)\n",
    "    knn.fit(X2_train, y2_train)\n",
    "    y2_pred = knn.predict(X2_test)\n",
    "    acc.append(accuracy_score(y2_test, y2_pred))\n",
    "acc = np.array(acc)\n",
    "print([x + 1 for x in np.where(acc==acc.max())])\n",
    "print(acc.max())\n",
    "print(acc)"
   ]
  },
  {
   "cell_type": "code",
   "execution_count": 26,
   "metadata": {},
   "outputs": [
    {
     "name": "stdout",
     "output_type": "stream",
     "text": [
      "0.481481481481\n"
     ]
    }
   ],
   "source": [
    "lr2 = LogisticRegression(random_state=4444)\n",
    "lr2.fit(X2_train, y2_train)\n",
    "y2_pred = lr2.predict(X2_test)\n",
    "print(accuracy_score(y2_test, y2_pred))"
   ]
  },
  {
   "cell_type": "code",
   "execution_count": 27,
   "metadata": {},
   "outputs": [
    {
     "name": "stdout",
     "output_type": "stream",
     "text": [
      "0.407407407407\n"
     ]
    }
   ],
   "source": [
    "def stupPred(x):\n",
    "    return ['PG-13']*len(x)\n",
    "print(accuracy_score(y2_test, stupPred(X2_test)))"
   ]
  },
  {
   "cell_type": "code",
   "execution_count": 28,
   "metadata": {},
   "outputs": [
    {
     "name": "stdout",
     "output_type": "stream",
     "text": [
      "[[-0.15424741  0.2826913  -1.25885433]\n",
      " [ 1.79713906  0.07769138  0.43807268]\n",
      " [-2.07865552 -0.56160271  0.28786404]]\n",
      "[-1.21026262 -0.75823828  0.10664113]\n"
     ]
    }
   ],
   "source": [
    "print(lr2.coef_)\n",
    "print(lr2.intercept_)"
   ]
  },
  {
   "cell_type": "markdown",
   "metadata": {},
   "source": [
    "KNN (K=4) beats the baseline by 0.22222222259 accuracy. LR beats the baseline by 0.07407407407 accuracy.  The coefficients indicate that a high budget and, to a lesser extent, a longer runtime, is indicative of a PG-13 movie. A shorter runtime is indicative of a PG movie, while a low budget is indicative of an R movie."
   ]
  },
  {
   "cell_type": "markdown",
   "metadata": {},
   "source": [
    "### **Challenge Number 12**"
   ]
  },
  {
   "cell_type": "code",
   "execution_count": 29,
   "metadata": {
    "collapsed": true
   },
   "outputs": [],
   "source": [
    "url = 'https://archive.ics.uci.edu/ml/machine-learning-databases/haberman/haberman.data'\n",
    "df3 = pd.read_csv(url, header = None, names = ['Age','Year','Nodes','Status'])"
   ]
  },
  {
   "cell_type": "code",
   "execution_count": 30,
   "metadata": {},
   "outputs": [
    {
     "name": "stdout",
     "output_type": "stream",
     "text": [
      "52.45751633986928\n",
      "10.78578520363183\n"
     ]
    }
   ],
   "source": [
    "print(np.mean(df3['Age']))\n",
    "print(np.std(df3['Age']))"
   ]
  },
  {
   "cell_type": "code",
   "execution_count": 31,
   "metadata": {},
   "outputs": [
    {
     "name": "stdout",
     "output_type": "stream",
     "text": [
      "52.01777777777778\n",
      "10.98765547510051\n"
     ]
    }
   ],
   "source": [
    "print(np.mean(df3[df3.Status==1]['Age']))\n",
    "print(np.std(df3[df3.Status==1]['Age']))"
   ]
  },
  {
   "cell_type": "code",
   "execution_count": 32,
   "metadata": {},
   "outputs": [
    {
     "name": "stdout",
     "output_type": "stream",
     "text": [
      "53.67901234567901\n",
      "10.10418219303131\n"
     ]
    }
   ],
   "source": [
    "print(np.mean(df3[df3.Status==2]['Age']))\n",
    "print(np.std(df3[df3.Status==2]['Age']))"
   ]
  },
  {
   "cell_type": "code",
   "execution_count": 33,
   "metadata": {},
   "outputs": [
    {
     "data": {
      "image/png": "[encoded data removed]",
      "text/plain": [
       "<matplotlib.figure.Figure at 0x1a199dad30>"
      ]
     },
     "metadata": {},
     "output_type": "display_data"
    }
   ],
   "source": [
    "f, ax = plt.subplots(1,2)\n",
    "ax[0].hist(df3.Age)\n",
    "ax[0].set_title('Histogram of Age')\n",
    "ax[0].set_xlabel('Age')\n",
    "ax[0].set_ylabel('Frequency')\n",
    "ax[1].hist(df3.Nodes)\n",
    "ax[1].set_title('Histogram of Nodes')\n",
    "ax[1].set_xlabel('Nodes')\n",
    "ax[1].set_ylabel('Frequency');"
   ]
  },
  {
   "cell_type": "code",
   "execution_count": 34,
   "metadata": {},
   "outputs": [
    {
     "name": "stdout",
     "output_type": "stream",
     "text": [
      "1958\n",
      "1969\n"
     ]
    }
   ],
   "source": [
    "print('19'+str(min(df3.Year)))\n",
    "print('19'+str(max(df3.Year)))"
   ]
  },
  {
   "cell_type": "code",
   "execution_count": 35,
   "metadata": {},
   "outputs": [
    {
     "name": "stdout",
     "output_type": "stream",
     "text": [
      "0.804347826087\n"
     ]
    }
   ],
   "source": [
    "W = df3[['Age', 'Year', 'Nodes']]\n",
    "z = df3['Status']\n",
    "W_train, W_test, z_train, z_test = train_test_split(W, z, test_size = .30, random_state = 4444)\n",
    "WminAge = min(W_train['Age'])\n",
    "WmaxAge = max(W_train['Age'])\n",
    "WminYear = min(W_train['Year'])\n",
    "WmaxYear = max(W_train['Year'])\n",
    "WminNodes = min(W_train['Nodes'])\n",
    "WmaxNodes = max(W_train['Nodes'])\n",
    "W_train['Age'] = [(x-WminAge)/(WmaxAge-WminAge) for x in W_train['Age']]\n",
    "W_train['Year'] = [(x-WminYear)/(WmaxYear-WminYear) for x in W_train['Year']]\n",
    "W_train['Nodes'] = [(x-WminNodes)/(WmaxNodes-WminNodes) for x in W_train['Nodes']]\n",
    "W_test['Age'] = [(x-WminAge)/(WmaxAge-WminAge) for x in W_test['Age']]\n",
    "W_test['Year'] = [(x-WminYear)/(WmaxYear-WminYear) for x in W_test['Year']]\n",
    "W_test['Nodes'] = [(x-WminNodes)/(WmaxNodes-WminNodes) for x in W_test['Nodes']]\n",
    "lr = LogisticRegression(random_state=4444)\n",
    "lr.fit(W_train, z_train)\n",
    "z_pred = lr.predict(W_test)\n",
    "print(accuracy_score(z_test, z_pred))"
   ]
  },
  {
   "cell_type": "code",
   "execution_count": 36,
   "metadata": {},
   "outputs": [
    {
     "name": "stdout",
     "output_type": "stream",
     "text": [
      "[[ 0.3324903  -0.02887519  1.81837138]]\n"
     ]
    }
   ],
   "source": [
    "print(lr.coef_)"
   ]
  },
  {
   "cell_type": "code",
   "execution_count": 37,
   "metadata": {},
   "outputs": [
    {
     "data": {
      "text/plain": [
       "Text(0.5,1,'LR learning Curve')"
      ]
     },
     "execution_count": 37,
     "metadata": {},
     "output_type": "execute_result"
    },
    {
     "data": {
      "image/png": "[encoded data removed]",
      "text/plain": [
       "<matplotlib.figure.Figure at 0x1a19d77898>"
      ]
     },
     "metadata": {},
     "output_type": "display_data"
    }
   ],
   "source": [
    "sizes = range(5,int(len(df)*(.8)))\n",
    "mLR, trainScoresLR, testScoresLR = learning_curve(LogisticRegression(random_state=4444), X, y, train_sizes = sizes, cv = 5)\n",
    "trainScoresLR = np.mean(trainScoresLR, axis=1)\n",
    "testScoresLR = np.mean(testScoresLR, axis=1)\n",
    "plt.plot(sizes, trainScoresLR, color='green', label='LR Train Scores')\n",
    "plt.plot(sizes, testScoresLR, color='red', label='LR Test Scores')\n",
    "plt.ylabel('Accuracy Scores')\n",
    "plt.xlabel('Training Set Size')\n",
    "plt.legend(loc='lower right')\n",
    "plt.title('LR learning Curve')"
   ]
  },
  {
   "cell_type": "markdown",
   "metadata": {},
   "source": [
    "A higher age and more nodes is indicative of not surviving to the 5 year mark, while a more recent year is indicative of surviving to the 5 year mark."
   ]
  },
  {
   "cell_type": "code",
   "execution_count": null,
   "metadata": {
    "collapsed": true
   },
   "outputs": [],
   "source": []
  }
 ],
 "metadata": {
  "kernelspec": {
   "display_name": "Python 3",
   "language": "python",
   "name": "python3"
  },
  "language_info": {
   "codemirror_mode": {
    "name": "ipython",
    "version": 3
   },
   "file_extension": ".py",
   "mimetype": "text/x-python",
   "name": "python",
   "nbconvert_exporter": "python",
   "pygments_lexer": "ipython3",
   "version": "3.6.3"
  }
 },
 "nbformat": 4,
 "nbformat_minor": 2
}
