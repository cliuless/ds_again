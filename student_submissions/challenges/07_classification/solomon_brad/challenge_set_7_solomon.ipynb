{
 "cells": [
  {
   "cell_type": "markdown",
   "metadata": {},
   "source": [
    "```\n",
    "Topic:        Challenge Set 7\n",
    "Subject:      Classification\n",
    "Date:         02/03/2018\n",
    "Name:         Brad Solomon\n",
    "Worked with:  None\n",
    "```"
   ]
  },
  {
   "cell_type": "code",
   "execution_count": 1,
   "metadata": {},
   "outputs": [],
   "source": [
    "TEST_SIZE = 0.3\n",
    "RANDOM_STATE = 444"
   ]
  },
  {
   "cell_type": "markdown",
   "metadata": {},
   "source": [
    "# Challenge 1"
   ]
  },
  {
   "cell_type": "markdown",
   "metadata": {},
   "source": [
    "<font color=\"blue\">\n",
    "Load the data into a pandas dataframe. Replace 'y's with 1s, 'n's with 0s. <br><br>\n",
    "\n",
    "Now, almost every representative has a ?. This represents the absence of a vote (they were absent or some other similar reason). If we dropped all the rows that had a ?, we would throw out most of our data. Instead, we will replace ? with the best guess in the Bayesian sense: in the absence of any other information, we will say that the probability of the representative saying YES is the ratio of others that said YES over the whole votes. <br><br>\n",
    "\n",
    "So, convert each ? to this probability (when yes=1 and no=0, this is the mean of the column)\n",
    "</font>"
   ]
  },
  {
   "cell_type": "markdown",
   "metadata": {},
   "source": [
    "Attribute information:\n",
    "\n",
    "```\n",
    "7. Attribute Information:\n",
    "   1. Class Name: 2 (democrat, republican)\n",
    "   2. handicapped-infants: 2 (y,n)\n",
    "   3. water-project-cost-sharing: 2 (y,n)\n",
    "   4. adoption-of-the-budget-resolution: 2 (y,n)\n",
    "   5. physician-fee-freeze: 2 (y,n)\n",
    "   6. el-salvador-aid: 2 (y,n)\n",
    "   7. religious-groups-in-schools: 2 (y,n)\n",
    "   8. anti-satellite-test-ban: 2 (y,n)\n",
    "   9. aid-to-nicaraguan-contras: 2 (y,n)\n",
    "  10. mx-missile: 2 (y,n)\n",
    "  11. immigration: 2 (y,n)\n",
    "  12. synfuels-corporation-cutback: 2 (y,n)\n",
    "  13. education-spending: 2 (y,n)\n",
    "  14. superfund-right-to-sue: 2 (y,n)\n",
    "  15. crime: 2 (y,n)\n",
    "  16. duty-free-exports: 2 (y,n)\n",
    "  17. export-administration-act-south-africa: 2 (y,n)\n",
    "```"
   ]
  },
  {
   "cell_type": "code",
   "execution_count": 2,
   "metadata": {},
   "outputs": [],
   "source": [
    "import numpy as np\n",
    "import pandas as pd\n",
    "\n",
    "path = 'https://archive.ics.uci.edu/ml/machine-learning-databases/voting-records/house-votes-84.data'\n",
    "names = ['party', 'hcap_infants', 'water_project', 'budget_res', 'fee_freeze', 'el_salvador',\n",
    "         'relig_grps', 'sat_test', 'contras', 'missile', 'immigration', 'synfuels', 'educ',\n",
    "         'superfund', 'crime', 'duty_free', 'south_africa']\n",
    "\n",
    "df = pd.read_csv(path, header=None, names=names)"
   ]
  },
  {
   "cell_type": "code",
   "execution_count": 3,
   "metadata": {
    "scrolled": true
   },
   "outputs": [
    {
     "data": {
      "text/html": [
       "<div>\n",
       "<style scoped>\n",
       "    .dataframe tbody tr th:only-of-type {\n",
       "        vertical-align: middle;\n",
       "    }\n",
       "\n",
       "    .dataframe tbody tr th {\n",
       "        vertical-align: top;\n",
       "    }\n",
       "\n",
       "    .dataframe thead th {\n",
       "        text-align: right;\n",
       "    }\n",
       "</style>\n",
       "<table border=\"1\" class=\"dataframe\">\n",
       "  <thead>\n",
       "    <tr style=\"text-align: right;\">\n",
       "      <th></th>\n",
       "      <th>party</th>\n",
       "      <th>hcap_infants</th>\n",
       "      <th>water_project</th>\n",
       "      <th>budget_res</th>\n",
       "      <th>fee_freeze</th>\n",
       "      <th>el_salvador</th>\n",
       "      <th>relig_grps</th>\n",
       "      <th>sat_test</th>\n",
       "      <th>contras</th>\n",
       "      <th>missile</th>\n",
       "      <th>immigration</th>\n",
       "      <th>synfuels</th>\n",
       "      <th>educ</th>\n",
       "      <th>superfund</th>\n",
       "      <th>crime</th>\n",
       "      <th>duty_free</th>\n",
       "      <th>south_africa</th>\n",
       "    </tr>\n",
       "  </thead>\n",
       "  <tbody>\n",
       "    <tr>\n",
       "      <th>0</th>\n",
       "      <td>0</td>\n",
       "      <td>0.0</td>\n",
       "      <td>1.0</td>\n",
       "      <td>0.0</td>\n",
       "      <td>1.0</td>\n",
       "      <td>1.0</td>\n",
       "      <td>1.0</td>\n",
       "      <td>0.0</td>\n",
       "      <td>0.0</td>\n",
       "      <td>0.0</td>\n",
       "      <td>1.0</td>\n",
       "      <td>NaN</td>\n",
       "      <td>1.0</td>\n",
       "      <td>1.0</td>\n",
       "      <td>1.0</td>\n",
       "      <td>0.0</td>\n",
       "      <td>1.0</td>\n",
       "    </tr>\n",
       "    <tr>\n",
       "      <th>1</th>\n",
       "      <td>0</td>\n",
       "      <td>0.0</td>\n",
       "      <td>1.0</td>\n",
       "      <td>0.0</td>\n",
       "      <td>1.0</td>\n",
       "      <td>1.0</td>\n",
       "      <td>1.0</td>\n",
       "      <td>0.0</td>\n",
       "      <td>0.0</td>\n",
       "      <td>0.0</td>\n",
       "      <td>0.0</td>\n",
       "      <td>0.0</td>\n",
       "      <td>1.0</td>\n",
       "      <td>1.0</td>\n",
       "      <td>1.0</td>\n",
       "      <td>0.0</td>\n",
       "      <td>NaN</td>\n",
       "    </tr>\n",
       "    <tr>\n",
       "      <th>2</th>\n",
       "      <td>1</td>\n",
       "      <td>NaN</td>\n",
       "      <td>1.0</td>\n",
       "      <td>1.0</td>\n",
       "      <td>NaN</td>\n",
       "      <td>1.0</td>\n",
       "      <td>1.0</td>\n",
       "      <td>0.0</td>\n",
       "      <td>0.0</td>\n",
       "      <td>0.0</td>\n",
       "      <td>0.0</td>\n",
       "      <td>1.0</td>\n",
       "      <td>0.0</td>\n",
       "      <td>1.0</td>\n",
       "      <td>1.0</td>\n",
       "      <td>0.0</td>\n",
       "      <td>0.0</td>\n",
       "    </tr>\n",
       "  </tbody>\n",
       "</table>\n",
       "</div>"
      ],
      "text/plain": [
       "   party  hcap_infants  water_project  budget_res  fee_freeze  el_salvador  relig_grps  sat_test  contras  missile  immigration  synfuels  educ  superfund  crime  duty_free  south_africa\n",
       "0      0           0.0            1.0         0.0         1.0          1.0         1.0       0.0      0.0      0.0          1.0       NaN   1.0        1.0    1.0        0.0           1.0\n",
       "1      0           0.0            1.0         0.0         1.0          1.0         1.0       0.0      0.0      0.0          0.0       0.0   1.0        1.0    1.0        0.0           NaN\n",
       "2      1           NaN            1.0         1.0         NaN          1.0         1.0       0.0      0.0      0.0          0.0       1.0   0.0        1.0    1.0        0.0           0.0"
      ]
     },
     "execution_count": 3,
     "metadata": {},
     "output_type": "execute_result"
    }
   ],
   "source": [
    "mapping = dict(y=1, n=0, democrat=1, republican=0)\n",
    "df = df.applymap(lambda x: mapping.get(x, np.nan)).astype({'party': np.uint8})\n",
    "df.head(3)"
   ]
  },
  {
   "cell_type": "code",
   "execution_count": 4,
   "metadata": {},
   "outputs": [
    {
     "data": {
      "text/html": [
       "<div>\n",
       "<style scoped>\n",
       "    .dataframe tbody tr th:only-of-type {\n",
       "        vertical-align: middle;\n",
       "    }\n",
       "\n",
       "    .dataframe tbody tr th {\n",
       "        vertical-align: top;\n",
       "    }\n",
       "\n",
       "    .dataframe thead th {\n",
       "        text-align: right;\n",
       "    }\n",
       "</style>\n",
       "<table border=\"1\" class=\"dataframe\">\n",
       "  <thead>\n",
       "    <tr style=\"text-align: right;\">\n",
       "      <th></th>\n",
       "      <th>party</th>\n",
       "      <th>hcap_infants</th>\n",
       "      <th>water_project</th>\n",
       "      <th>budget_res</th>\n",
       "      <th>fee_freeze</th>\n",
       "      <th>el_salvador</th>\n",
       "      <th>relig_grps</th>\n",
       "      <th>sat_test</th>\n",
       "      <th>contras</th>\n",
       "      <th>missile</th>\n",
       "      <th>immigration</th>\n",
       "      <th>synfuels</th>\n",
       "      <th>educ</th>\n",
       "      <th>superfund</th>\n",
       "      <th>crime</th>\n",
       "      <th>duty_free</th>\n",
       "      <th>south_africa</th>\n",
       "    </tr>\n",
       "  </thead>\n",
       "  <tbody>\n",
       "    <tr>\n",
       "      <th>0</th>\n",
       "      <td>0</td>\n",
       "      <td>0.0000</td>\n",
       "      <td>1.0</td>\n",
       "      <td>0.0</td>\n",
       "      <td>1.0000</td>\n",
       "      <td>1.0</td>\n",
       "      <td>1.0</td>\n",
       "      <td>0.0</td>\n",
       "      <td>0.0</td>\n",
       "      <td>0.0</td>\n",
       "      <td>1.0</td>\n",
       "      <td>0.3623</td>\n",
       "      <td>1.0</td>\n",
       "      <td>1.0</td>\n",
       "      <td>1.0</td>\n",
       "      <td>0.0</td>\n",
       "      <td>1.0000</td>\n",
       "    </tr>\n",
       "    <tr>\n",
       "      <th>1</th>\n",
       "      <td>0</td>\n",
       "      <td>0.0000</td>\n",
       "      <td>1.0</td>\n",
       "      <td>0.0</td>\n",
       "      <td>1.0000</td>\n",
       "      <td>1.0</td>\n",
       "      <td>1.0</td>\n",
       "      <td>0.0</td>\n",
       "      <td>0.0</td>\n",
       "      <td>0.0</td>\n",
       "      <td>0.0</td>\n",
       "      <td>0.0000</td>\n",
       "      <td>1.0</td>\n",
       "      <td>1.0</td>\n",
       "      <td>1.0</td>\n",
       "      <td>0.0</td>\n",
       "      <td>0.8127</td>\n",
       "    </tr>\n",
       "    <tr>\n",
       "      <th>2</th>\n",
       "      <td>1</td>\n",
       "      <td>0.4421</td>\n",
       "      <td>1.0</td>\n",
       "      <td>1.0</td>\n",
       "      <td>0.4175</td>\n",
       "      <td>1.0</td>\n",
       "      <td>1.0</td>\n",
       "      <td>0.0</td>\n",
       "      <td>0.0</td>\n",
       "      <td>0.0</td>\n",
       "      <td>0.0</td>\n",
       "      <td>1.0000</td>\n",
       "      <td>0.0</td>\n",
       "      <td>1.0</td>\n",
       "      <td>1.0</td>\n",
       "      <td>0.0</td>\n",
       "      <td>0.0000</td>\n",
       "    </tr>\n",
       "  </tbody>\n",
       "</table>\n",
       "</div>"
      ],
      "text/plain": [
       "   party  hcap_infants  water_project  budget_res  fee_freeze  el_salvador  relig_grps  sat_test  contras  missile  immigration  synfuels  educ  superfund  crime  duty_free  south_africa\n",
       "0      0        0.0000            1.0         0.0      1.0000          1.0         1.0       0.0      0.0      0.0          1.0    0.3623   1.0        1.0    1.0        0.0        1.0000\n",
       "1      0        0.0000            1.0         0.0      1.0000          1.0         1.0       0.0      0.0      0.0          0.0    0.0000   1.0        1.0    1.0        0.0        0.8127\n",
       "2      1        0.4421            1.0         1.0      0.4175          1.0         1.0       0.0      0.0      0.0          0.0    1.0000   0.0        1.0    1.0        0.0        0.0000"
      ]
     },
     "execution_count": 4,
     "metadata": {},
     "output_type": "execute_result"
    }
   ],
   "source": [
    "df.fillna(df.mean(), inplace=True)\n",
    "df.head(3)"
   ]
  },
  {
   "cell_type": "markdown",
   "metadata": {},
   "source": [
    "# Challenge 2"
   ]
  },
  {
   "cell_type": "markdown",
   "metadata": {},
   "source": [
    "<font color=\"blue\">\n",
    "Split the data into a test and training set.\n",
    "</font>"
   ]
  },
  {
   "cell_type": "code",
   "execution_count": 5,
   "metadata": {},
   "outputs": [],
   "source": [
    "y = df.pop('party')"
   ]
  },
  {
   "cell_type": "code",
   "execution_count": 6,
   "metadata": {},
   "outputs": [],
   "source": [
    "from sklearn.model_selection import train_test_split\n",
    "\n",
    "X_train, X_test, y_train, y_test = train_test_split(\n",
    "    df, y, test_size=TEST_SIZE, random_state=RANDOM_STATE, stratify=y)"
   ]
  },
  {
   "cell_type": "markdown",
   "metadata": {},
   "source": [
    "# Challenge 3"
   ]
  },
  {
   "cell_type": "markdown",
   "metadata": {},
   "source": [
    "<font color=\"blue\">\n",
    "Using scikit.learn's KNN algorithm, train a model that predicts the party (Republican/Democratic). <br><br>\n",
    "    \n",
    "Try it with a lot of different k values (number of neighbors), from 1 to 20, and on the test set calculate the accuracy (number of correct predictions / number of all predictions) for each k.\n",
    "</font>"
   ]
  },
  {
   "cell_type": "markdown",
   "metadata": {},
   "source": [
    "The statistically sound approach here would be to use cross-validation while holding out a final test set to avoid overfitting.\n",
    "\n",
    "Note: `sklearn.metrics.accuracy_score` is the default scorer for `KNeighborsClassifier`."
   ]
  },
  {
   "cell_type": "code",
   "execution_count": 7,
   "metadata": {},
   "outputs": [
    {
     "name": "stdout",
     "output_type": "stream",
     "text": [
      "Highest cross-validation accuracy: 0.928\n",
      "Test set score: 0.954\n",
      "Optimal neighbors: 5\n"
     ]
    }
   ],
   "source": [
    "from sklearn.model_selection import GridSearchCV\n",
    "from sklearn.neighbors import KNeighborsClassifier\n",
    "from sklearn.pipeline import Pipeline\n",
    "from sklearn.preprocessing import StandardScaler\n",
    "\n",
    "neighbors = {'knn__n_neighbors': np.arange(1, 21, dtype=int)}\n",
    "pipe = Pipeline([('scaler', StandardScaler()), ('knn', KNeighborsClassifier())])\n",
    "\n",
    "grid = GridSearchCV(pipe, param_grid=neighbors, cv=4, return_train_score=True)\n",
    "grid.fit(X_train, y_train)\n",
    "\n",
    "print('Highest cross-validation accuracy: {:0.3f}'.format(grid.best_score_))\n",
    "print('Test set score: {:0.3f}'.format(grid.score(X_test, y_test)))\n",
    "print('Optimal neighbors: {}'.format(grid.best_params_['knn__n_neighbors']))"
   ]
  },
  {
   "cell_type": "code",
   "execution_count": 8,
   "metadata": {},
   "outputs": [
    {
     "data": {
      "image/png": "[encoded data removed]",
      "text/plain": [
       "<matplotlib.figure.Figure at 0x1a15ad8d30>"
      ]
     },
     "metadata": {},
     "output_type": "display_data"
    }
   ],
   "source": [
    "import matplotlib.pyplot as plt\n",
    "from matplotlib.ticker import MaxNLocator\n",
    "\n",
    "%matplotlib inline\n",
    "\n",
    "fig, ax = plt.subplots(figsize=(14, 6))\n",
    "ax.plot(neighbors['knn__n_neighbors'], grid.cv_results_['mean_train_score'],\n",
    "        neighbors['knn__n_neighbors'], grid.cv_results_['mean_test_score'])\n",
    "ax.legend(('mean train score', 'mean validation score'))\n",
    "ax.set_title('Model accuracy as function of n_neighbors')\n",
    "ax.set_ylabel('Accuracy (score)')\n",
    "ax.set_xlabel('Number of neighbors')\n",
    "ax.xaxis.set_major_locator(MaxNLocator(integer=True));"
   ]
  },
  {
   "cell_type": "markdown",
   "metadata": {},
   "source": [
    "So, it appears here that although we \"optimized\" at 3 neighbors, there's really very little differentiation in score as the number of neighbors increases or decreases.\n",
    "\n",
    "One note is that **this plot of model complexity is \"horizontally flipped\" **versus a normal complexity graph, because **using small `n_neighbors` creates a more complex model.**"
   ]
  },
  {
   "cell_type": "markdown",
   "metadata": {},
   "source": [
    "# Challenge 4"
   ]
  },
  {
   "cell_type": "markdown",
   "metadata": {},
   "source": [
    "<font color=\"blue\">\n",
    "Make a similar model but with `LogisticRegression` instead, calculate test accuracy.\n",
    "</font>"
   ]
  },
  {
   "cell_type": "code",
   "execution_count": 9,
   "metadata": {},
   "outputs": [
    {
     "name": "stdout",
     "output_type": "stream",
     "text": [
      "Highest cross-validation accuracy: 0.951\n",
      "Test set score: 0.985\n",
      "Optimal regularization strength: 0.56\n"
     ]
    }
   ],
   "source": [
    "from sklearn.linear_model import LogisticRegression\n",
    "\n",
    "c = {'logit__C': np.arange(.01, 2.02, .05)}\n",
    "pipe = Pipeline([('scaler', StandardScaler()),\n",
    "                 ('logit', LogisticRegression(max_iter=1000, random_state=RANDOM_STATE))])\n",
    "\n",
    "grid = GridSearchCV(pipe, param_grid=c, cv=4, return_train_score=True)\n",
    "grid.fit(X_train, y_train)\n",
    "\n",
    "print('Highest cross-validation accuracy: {:0.3f}'.format(grid.best_score_))\n",
    "print('Test set score: {:0.3f}'.format(grid.score(X_test, y_test)))\n",
    "print('Optimal regularization strength: {}'.format(grid.best_params_['logit__C']))"
   ]
  },
  {
   "cell_type": "code",
   "execution_count": 10,
   "metadata": {},
   "outputs": [
    {
     "data": {
      "image/png": "[encoded data removed]",
      "text/plain": [
       "<matplotlib.figure.Figure at 0x1a1e578908>"
      ]
     },
     "metadata": {},
     "output_type": "display_data"
    }
   ],
   "source": [
    "fig, ax = plt.subplots(figsize=(14, 6))\n",
    "ax.plot(c['logit__C'], grid.cv_results_['mean_train_score'],\n",
    "        c['logit__C'], grid.cv_results_['mean_test_score'])\n",
    "ax.legend(('mean train score', 'mean validation score'))\n",
    "ax.set_title('Model accuracy as function of regularization parameter)')\n",
    "ax.set_ylabel('Accuracy (score)')\n",
    "ax.set_xlabel('Parameter (C: inverse of regularization strength)');"
   ]
  },
  {
   "cell_type": "markdown",
   "metadata": {},
   "source": [
    "In this case, logistic regression appears to be slighly superior to KNN classification, with the test score rising non-negligibly."
   ]
  },
  {
   "cell_type": "markdown",
   "metadata": {},
   "source": [
    "# Challenge 5"
   ]
  },
  {
   "cell_type": "markdown",
   "metadata": {},
   "source": [
    "<font color=\"blue\">\n",
    "Make a bar graph of democrats and republicans. How many of each are there?\n",
    "</font>"
   ]
  },
  {
   "cell_type": "code",
   "execution_count": 11,
   "metadata": {
    "scrolled": true
   },
   "outputs": [
    {
     "data": {
      "image/png": "[encoded data removed]",
      "text/plain": [
       "<matplotlib.figure.Figure at 0x1a1e578a20>"
      ]
     },
     "metadata": {},
     "output_type": "display_data"
    }
   ],
   "source": [
    "vc = y.map({v:k for k, v in mapping.items()}).value_counts()\n",
    "fig, ax = plt.subplots()\n",
    "ax.bar(vc.index, vc)\n",
    "ax.set_title('Count of Republicans v. Democrats')\n",
    "ax.set_ylabel('Count')\n",
    "ax.set_xlabel('Party')\n",
    "for i, v in enumerate(vc.values):\n",
    "    ax.text(i, v + 3, str(v), color='blue', fontweight='bold')"
   ]
  },
  {
   "cell_type": "markdown",
   "metadata": {},
   "source": [
    "<font color=\"blue\">\n",
    "Make a very simple predictor that predicts 'democrat' for every incoming example. <br><br>\n",
    "\n",
    "Just make a function that takes in an X --an array or matrix with input examples--, and returns an array of the same length as X, where each value is 'democrat'. For example, if X is three rows, your function should return ['democrat','democrat','democrat']. Make a y_predicted vector using this and measure its accuracy.\n",
    "\n",
    "Do the same with predicting 'republican' all the time and measure its accuracy. <br><br>\n",
    "</font>"
   ]
  },
  {
   "cell_type": "markdown",
   "metadata": {},
   "source": [
    "In addition to the below, another way we could predict \"all Democrat\" would be a KNN algorithm where `n_neighbors` is equal to the number of training samples.  This is the extreme case of a low-complexity model that would predict the most frequent `y` in the training set."
   ]
  },
  {
   "cell_type": "code",
   "execution_count": 12,
   "metadata": {},
   "outputs": [],
   "source": [
    "# democrat --> 1\n",
    "# republican --> 0\n",
    "\n",
    "def _predictor(x, party):\n",
    "    x = np.asarray(x)\n",
    "    return np.full(len(x), party, dtype=np.uint8)\n",
    "\n",
    "def barry_obamafy(x):\n",
    "    return _predictor(x=x, party=1)\n",
    "\n",
    "def mitch_mcconnify(x):\n",
    "    return _predictor(x=x, party=0)"
   ]
  },
  {
   "cell_type": "code",
   "execution_count": 13,
   "metadata": {},
   "outputs": [],
   "source": [
    "from sklearn.metrics import accuracy_score"
   ]
  },
  {
   "cell_type": "code",
   "execution_count": 14,
   "metadata": {},
   "outputs": [],
   "source": [
    "score1 = accuracy_score(y_true=y, y_pred=barry_obamafy(df))  # the full train + test X matrix"
   ]
  },
  {
   "cell_type": "code",
   "execution_count": 15,
   "metadata": {},
   "outputs": [],
   "source": [
    "score2 = accuracy_score(y_true=y, y_pred=mitch_mcconnify(df))  # the full train + test X matrix"
   ]
  },
  {
   "cell_type": "code",
   "execution_count": 16,
   "metadata": {},
   "outputs": [
    {
     "name": "stdout",
     "output_type": "stream",
     "text": [
      "Accuracy scores:\n",
      "Obamifier: 0.614\n",
      "McConnifier: 0.386\n",
      "Total: 1.0\n"
     ]
    }
   ],
   "source": [
    "print('Accuracy scores:')\n",
    "print('Obamifier: {:0.3f}'.format(score1))\n",
    "print('McConnifier: {:0.3f}'.format(score2))\n",
    "print('Total:', score1 + score2)"
   ]
  },
  {
   "cell_type": "markdown",
   "metadata": {},
   "source": [
    "These scores represent the **proportion of each part in the data set**:"
   ]
  },
  {
   "cell_type": "code",
   "execution_count": 17,
   "metadata": {},
   "outputs": [
    {
     "data": {
      "text/plain": [
       "democrat      0.6138\n",
       "republican    0.3862\n",
       "Name: party, dtype: float64"
      ]
     },
     "execution_count": 17,
     "metadata": {},
     "output_type": "execute_result"
    }
   ],
   "source": [
    "vc / vc.sum()"
   ]
  },
  {
   "cell_type": "markdown",
   "metadata": {},
   "source": [
    "# Challenge 6"
   ]
  },
  {
   "cell_type": "markdown",
   "metadata": {},
   "source": [
    "<font color=\"blue\">\n",
    "Plot the accuracies as a function of k. Since k only matters for KNN, your logistic regression accuracy, 'democrat' predictor accuracy and 'republican' predictor accuracy will stay the same over all k, so each of these three will be a horizontal line. But the KNN accuracy will change with k.\n",
    "</font>"
   ]
  },
  {
   "cell_type": "markdown",
   "metadata": {},
   "source": [
    "Please see the chart from [Challenge 3](#Challenge-3)."
   ]
  },
  {
   "cell_type": "markdown",
   "metadata": {},
   "source": [
    "# Challenge 7"
   ]
  },
  {
   "cell_type": "markdown",
   "metadata": {},
   "source": [
    "<font color=\"blue\">\n",
    "Plot a learning curve for the logistic regression model, using the `learning_curve` function from sklearn. <br><br>\n",
    "    \n",
    "This will give you the m, training errors and testing errors. All you need to do is plot them. You don't even need to give it separate training/test sets. It will do crossvalidation all by itself. Easy, isn't it? : ) Remember, since it does cross-validation, it doesn't have a single training error or test error per m value. Instead, it has one for each fold (separate partition) of the cross validation. A good idea is to take the mean of these errors from different folds. This gives you a meaningful single number per m. What I mean is that doing something like:\n",
    "\n",
    "\n",
    "Before plotting m vs train_cv_err and m vs test_cv_err, where train_err and test_err are the vectors returned by the learning curve function. The np.mean(...., axis=1) means take the mean along axis 1 (axis 1 is the columns axis-- for each row, you have a bunch of columns, each corresponding to a cross validation fold, you are averaging these columns for each row).  <br><br>\n",
    "</font>"
   ]
  },
  {
   "cell_type": "code",
   "execution_count": 18,
   "metadata": {},
   "outputs": [],
   "source": [
    "from sklearn.model_selection import learning_curve"
   ]
  },
  {
   "cell_type": "code",
   "execution_count": 19,
   "metadata": {},
   "outputs": [],
   "source": [
    "# estimator : object type that implements the “fit” and “predict” methods\n",
    "\n",
    "pipe = Pipeline([('scaler', StandardScaler()),\n",
    "                 ('logit', LogisticRegression(max_iter=1000, random_state=RANDOM_STATE))])"
   ]
  },
  {
   "cell_type": "code",
   "execution_count": 20,
   "metadata": {},
   "outputs": [],
   "source": [
    "def plot_learning_curve(estimator, title, X, y, ylim=None, cv=None,\n",
    "                        train_sizes=np.linspace(.1, 1.0, 5),\n",
    "                        figsize=(12, 6)):\n",
    "    # SOURCE:\n",
    "    # http://scikit-learn.org/stable/auto_examples/model_selection/\n",
    "    # plot_learning_curve.html#sphx-glr-auto-examples-model-selection-plot-learning-curve-py\n",
    "    plt.figure(figsize=figsize)\n",
    "    plt.title(title)\n",
    "    if ylim is not None:\n",
    "        plt.ylim(*ylim)\n",
    "    plt.xlabel(\"Training examples (n)\")\n",
    "    plt.ylabel(\"Score\")\n",
    "    train_sizes, train_scores, test_scores = learning_curve(\n",
    "        estimator, X, y, cv=cv, train_sizes=train_sizes,\n",
    "        random_state=RANDOM_STATE)\n",
    "    train_scores_mean = np.mean(train_scores, axis=1)\n",
    "    train_scores_std = np.std(train_scores, axis=1)\n",
    "    test_scores_mean = np.mean(test_scores, axis=1)\n",
    "    test_scores_std = np.std(test_scores, axis=1)\n",
    "\n",
    "    plt.fill_between(train_sizes, train_scores_mean - train_scores_std,\n",
    "                     train_scores_mean + train_scores_std, alpha=0.1,\n",
    "                     color=\"r\")\n",
    "    plt.fill_between(train_sizes, test_scores_mean - test_scores_std,\n",
    "                     test_scores_mean + test_scores_std, alpha=0.1, color=\"g\")\n",
    "    plt.plot(train_sizes, train_scores_mean, 'o-', color=\"r\",\n",
    "             label=\"Training score\")\n",
    "    plt.plot(train_sizes, test_scores_mean, 'o-', color=\"g\",\n",
    "             label=\"Cross-validation score\")\n",
    "\n",
    "    plt.legend(loc=\"best\")\n",
    "    return plt"
   ]
  },
  {
   "cell_type": "code",
   "execution_count": 21,
   "metadata": {},
   "outputs": [
    {
     "data": {
      "image/png": "[encoded data removed]",
      "text/plain": [
       "<matplotlib.figure.Figure at 0x1a1e8d03c8>"
      ]
     },
     "metadata": {},
     "output_type": "display_data"
    }
   ],
   "source": [
    "title = \"Learning Curves: Logistic Regression\"\n",
    "plot_learning_curve(estimator=pipe, title=title, X=df, y=y, ylim=(0.8, 1.01), cv=4)\n",
    "plt.show()"
   ]
  },
  {
   "cell_type": "markdown",
   "metadata": {},
   "source": [
    "<font color=\"blue\">\n",
    "Draw the learning curve for KNN with the best k value as well.\n",
    "</font>"
   ]
  },
  {
   "cell_type": "code",
   "execution_count": 22,
   "metadata": {},
   "outputs": [],
   "source": [
    "neighbors = {'knn__n_neighbors': np.arange(1, 21, dtype=int)}\n",
    "pipe = Pipeline([('scaler', StandardScaler()), ('knn', KNeighborsClassifier())])\n",
    "\n",
    "grid = GridSearchCV(pipe, param_grid=neighbors, cv=4, return_train_score=True)\n",
    "grid.fit(X_train, y_train)\n",
    "\n",
    "n = grid.best_params_['knn__n_neighbors']"
   ]
  },
  {
   "cell_type": "code",
   "execution_count": 23,
   "metadata": {},
   "outputs": [
    {
     "data": {
      "image/png": "[encoded data removed]",
      "text/plain": [
       "<matplotlib.figure.Figure at 0x1a1e8e1ac8>"
      ]
     },
     "metadata": {},
     "output_type": "display_data"
    }
   ],
   "source": [
    "pipe = Pipeline([('scaler', StandardScaler()),\n",
    "                 ('knn', KNeighborsClassifier(n_neighbors=n))])\n",
    "title = \"Learning Curves: K-Nearest Neighbors\"\n",
    "plot_learning_curve(estimator=pipe, title=title, X=df, y=y, ylim=(0.8, 1.01), cv=4)\n",
    "plt.show()"
   ]
  },
  {
   "cell_type": "markdown",
   "metadata": {},
   "source": [
    "# Challenge 8"
   ]
  },
  {
   "cell_type": "markdown",
   "metadata": {},
   "source": [
    "<font color=\"blue\">\n",
    "This is a preview of many other classification algorithms that we will go over. scikit-learn has the same interface for all of these, so you can use them exactly the same way as you did LogisticRegression and KNeighborsClassifier. Use each of these to classify your data and print the test accuracy of each:\n",
    "    \n",
    "<ul>\n",
    "  <li>`sklearn.naive_bayes.GaussianNB`</li>\n",
    "  <li>`sklearn.svm.SVC`</li>\n",
    "  <li>`sklearn.tree.DecisionTreeClassifier`</li>\n",
    "  <li>`sklearn.ensemble.RandomForestClassifier`</li>\n",
    "</ul>"
   ]
  },
  {
   "cell_type": "code",
   "execution_count": 24,
   "metadata": {},
   "outputs": [],
   "source": [
    "from sklearn.ensemble import RandomForestClassifier\n",
    "from sklearn.naive_bayes import GaussianNB\n",
    "from sklearn.svm import SVC\n",
    "from sklearn.tree import DecisionTreeClassifier"
   ]
  },
  {
   "cell_type": "code",
   "execution_count": 47,
   "metadata": {},
   "outputs": [],
   "source": [
    "logspace = np.logspace(-3, 2, 6)  # 10**i for i in range(-3, 3)\n",
    "features = np.arange(1, df.shape[1] // 2)\n",
    "\n",
    "pipe = Pipeline([('preprocessing', StandardScaler()), ('clf', SVC())])\n",
    "\n",
    "param_grid = [\n",
    "    {'clf': [SVC()], 'preprocessing': [StandardScaler(), None],\n",
    "     'clf__gamma': logspace,\n",
    "     'clf__C': logspace},\n",
    "    {'clf': [RandomForestClassifier(n_estimators=1000, n_jobs=-1)],\n",
    "     'preprocessing': [None], 'clf__max_features': features},\n",
    "    {'clf': [DecisionTreeClassifier()],\n",
    "     'preprocessing': [None], 'clf__max_features': features}\n",
    "    # No parameters to optimize for within GaussianNB\n",
    "    ]"
   ]
  },
  {
   "cell_type": "code",
   "execution_count": 48,
   "metadata": {},
   "outputs": [],
   "source": [
    "grid = GridSearchCV(pipe, param_grid, cv=4)\n",
    "grid.fit(X_train, y_train);"
   ]
  },
  {
   "cell_type": "code",
   "execution_count": 52,
   "metadata": {
    "scrolled": true
   },
   "outputs": [
    {
     "name": "stdout",
     "output_type": "stream",
     "text": [
      "Optimal params:\n",
      "SVC(C=10.0, cache_size=200, class_weight=None, coef0=0.0,\n",
      "  decision_function_shape='ovr', degree=3, gamma=0.01, kernel='rbf',\n",
      "  max_iter=-1, probability=False, random_state=None, shrinking=True,\n",
      "  tol=0.001, verbose=False)\n",
      "\n",
      "Highest cross-validation score: 0.954\n",
      "Test-set score: 0.977\n"
     ]
    }
   ],
   "source": [
    "print('Optimal params:\\n{}\\n'.format(grid.best_params_['clf']))\n",
    "print('Highest cross-validation score: {:0.3f}'.format(grid.best_score_))\n",
    "print('Test-set score: {:0.3f}'.format(grid.score(X_test, y_test)))"
   ]
  },
  {
   "cell_type": "markdown",
   "metadata": {},
   "source": [
    "As shown above, the best model of the 3 (excluding GaussianNB) is SCV with parameters `C=10.` and `gamma=0.01`, leading to a test score aroud 0.98.\n",
    "\n",
    "Lastly, let's also try GaussianNB.  We excluded it from the grid search because we don't really have any parameters over which to search."
   ]
  },
  {
   "cell_type": "code",
   "execution_count": 54,
   "metadata": {},
   "outputs": [
    {
     "name": "stdout",
     "output_type": "stream",
     "text": [
      "Gaussian Naive Bayes test score: 0.962\n"
     ]
    }
   ],
   "source": [
    "pipe = Pipeline([('scaler', StandardScaler()), ('clf', GaussianNB())])\n",
    "pipe.fit(X_train, y_train)\n",
    "print('Gaussian Naive Bayes test score: {:0.3f}'.format(pipe.score(X_test, y_test)))"
   ]
  },
  {
   "cell_type": "markdown",
   "metadata": {},
   "source": [
    "This score is also fairly high, but does not top the `SVC` fitting."
   ]
  },
  {
   "cell_type": "markdown",
   "metadata": {},
   "source": [
    "# Challenge 9"
   ]
  },
  {
   "cell_type": "markdown",
   "metadata": {},
   "source": [
    "<font color=\"blue\">\n",
    "Use `sklearn.cross_validation.cross_val_score` to calculate the cross validation score of each of the classifiers you tried before.\n",
    "</font>"
   ]
  },
  {
   "cell_type": "markdown",
   "metadata": {},
   "source": [
    "Please see [Challenge 8](#Challenge-8), where cross-validation is used within `GridSearchCV`."
   ]
  },
  {
   "cell_type": "markdown",
   "metadata": {},
   "source": [
    "# Challenge 10"
   ]
  },
  {
   "cell_type": "markdown",
   "metadata": {},
   "source": [
    "<font color=\"blue\">\n",
    "Instead of 'democrat' or 'republican', can you predict the vote of a representative based on their other votes? <br><br>\n",
    "\n",
    "Reload the data from scratch. Convert y-->1, n-->0.\n",
    "</font>"
   ]
  },
  {
   "cell_type": "code",
   "execution_count": 104,
   "metadata": {},
   "outputs": [],
   "source": [
    "df = pd.read_csv(path, header=None, names=names).applymap(\n",
    "    lambda x: mapping.get(x, np.nan)).astype({'party': np.uint8})"
   ]
  },
  {
   "cell_type": "code",
   "execution_count": 79,
   "metadata": {},
   "outputs": [
    {
     "data": {
      "text/html": [
       "<div>\n",
       "<style scoped>\n",
       "    .dataframe tbody tr th:only-of-type {\n",
       "        vertical-align: middle;\n",
       "    }\n",
       "\n",
       "    .dataframe tbody tr th {\n",
       "        vertical-align: top;\n",
       "    }\n",
       "\n",
       "    .dataframe thead th {\n",
       "        text-align: right;\n",
       "    }\n",
       "</style>\n",
       "<table border=\"1\" class=\"dataframe\">\n",
       "  <thead>\n",
       "    <tr style=\"text-align: right;\">\n",
       "      <th></th>\n",
       "      <th>party</th>\n",
       "      <th>hcap_infants</th>\n",
       "      <th>water_project</th>\n",
       "      <th>budget_res</th>\n",
       "      <th>fee_freeze</th>\n",
       "      <th>el_salvador</th>\n",
       "      <th>relig_grps</th>\n",
       "      <th>sat_test</th>\n",
       "      <th>contras</th>\n",
       "      <th>missile</th>\n",
       "      <th>immigration</th>\n",
       "      <th>synfuels</th>\n",
       "      <th>educ</th>\n",
       "      <th>superfund</th>\n",
       "      <th>crime</th>\n",
       "      <th>duty_free</th>\n",
       "      <th>south_africa</th>\n",
       "    </tr>\n",
       "  </thead>\n",
       "  <tbody>\n",
       "    <tr>\n",
       "      <th>0</th>\n",
       "      <td>0</td>\n",
       "      <td>0.0</td>\n",
       "      <td>1.0</td>\n",
       "      <td>0.0</td>\n",
       "      <td>1.0</td>\n",
       "      <td>1.0</td>\n",
       "      <td>1.0</td>\n",
       "      <td>0.0</td>\n",
       "      <td>0.0</td>\n",
       "      <td>0.0</td>\n",
       "      <td>1.0</td>\n",
       "      <td>NaN</td>\n",
       "      <td>1.0</td>\n",
       "      <td>1.0</td>\n",
       "      <td>1.0</td>\n",
       "      <td>0.0</td>\n",
       "      <td>1.0</td>\n",
       "    </tr>\n",
       "    <tr>\n",
       "      <th>1</th>\n",
       "      <td>0</td>\n",
       "      <td>0.0</td>\n",
       "      <td>1.0</td>\n",
       "      <td>0.0</td>\n",
       "      <td>1.0</td>\n",
       "      <td>1.0</td>\n",
       "      <td>1.0</td>\n",
       "      <td>0.0</td>\n",
       "      <td>0.0</td>\n",
       "      <td>0.0</td>\n",
       "      <td>0.0</td>\n",
       "      <td>0.0</td>\n",
       "      <td>1.0</td>\n",
       "      <td>1.0</td>\n",
       "      <td>1.0</td>\n",
       "      <td>0.0</td>\n",
       "      <td>NaN</td>\n",
       "    </tr>\n",
       "    <tr>\n",
       "      <th>2</th>\n",
       "      <td>1</td>\n",
       "      <td>NaN</td>\n",
       "      <td>1.0</td>\n",
       "      <td>1.0</td>\n",
       "      <td>NaN</td>\n",
       "      <td>1.0</td>\n",
       "      <td>1.0</td>\n",
       "      <td>0.0</td>\n",
       "      <td>0.0</td>\n",
       "      <td>0.0</td>\n",
       "      <td>0.0</td>\n",
       "      <td>1.0</td>\n",
       "      <td>0.0</td>\n",
       "      <td>1.0</td>\n",
       "      <td>1.0</td>\n",
       "      <td>0.0</td>\n",
       "      <td>0.0</td>\n",
       "    </tr>\n",
       "  </tbody>\n",
       "</table>\n",
       "</div>"
      ],
      "text/plain": [
       "   party  hcap_infants  water_project  budget_res  fee_freeze  el_salvador  relig_grps  sat_test  contras  missile  immigration  synfuels  educ  superfund  crime  duty_free  south_africa\n",
       "0      0           0.0            1.0         0.0         1.0          1.0         1.0       0.0      0.0      0.0          1.0       NaN   1.0        1.0    1.0        0.0           1.0\n",
       "1      0           0.0            1.0         0.0         1.0          1.0         1.0       0.0      0.0      0.0          0.0       0.0   1.0        1.0    1.0        0.0           NaN\n",
       "2      1           NaN            1.0         1.0         NaN          1.0         1.0       0.0      0.0      0.0          0.0       1.0   0.0        1.0    1.0        0.0           0.0"
      ]
     },
     "execution_count": 79,
     "metadata": {},
     "output_type": "execute_result"
    }
   ],
   "source": [
    "df.head(3)"
   ]
  },
  {
   "cell_type": "markdown",
   "metadata": {},
   "source": [
    "<font color=\"blue\">\n",
    "Choose one vote. Build a classifier (logistic regression or KNN), that uses the other votes (do not use the party as a feature) to predict if the vote will be 1 or 0. <br><br>\n",
    "\n",
    "Convert each ? to the mode of the column (if a senator has not voted, make their vote 1 if most others voted 1, make it 0 if most others voted 0). <br><br>\n",
    "\n",
    "Calculate the cross validation accuracy of your classifier for predicting how each representative will vote on the issue.\n",
    "</font>"
   ]
  },
  {
   "cell_type": "markdown",
   "metadata": {},
   "source": [
    "Let's predict `religious-groups-in-schools`, presumably referring to \n",
    "\n",
    "> defeated legislation that would have made it possible for students in public high schools to meet voluntarily in free time in school for religious purposes. [[source](http://www.nytimes.com/1984/05/16/us/bill-for-religion-in-public-schools-loses-house-vote.html)]\n",
    "\n",
    "We named this feature `relig_grps` in the DataFrame.\n",
    "\n",
    "First lets make sure this feature doesn't have an inordinate amount of \"?\"s:"
   ]
  },
  {
   "cell_type": "code",
   "execution_count": 102,
   "metadata": {},
   "outputs": [],
   "source": [
    "df.fillna(df.mode().T.squeeze(), inplace=True)\n",
    "y = df.pop('relig_grps')\n",
    "df.drop('party', axis=1, inplace=True)"
   ]
  },
  {
   "cell_type": "code",
   "execution_count": 103,
   "metadata": {
    "scrolled": true
   },
   "outputs": [
    {
     "data": {
      "text/html": [
       "<div>\n",
       "<style scoped>\n",
       "    .dataframe tbody tr th:only-of-type {\n",
       "        vertical-align: middle;\n",
       "    }\n",
       "\n",
       "    .dataframe tbody tr th {\n",
       "        vertical-align: top;\n",
       "    }\n",
       "\n",
       "    .dataframe thead th {\n",
       "        text-align: right;\n",
       "    }\n",
       "</style>\n",
       "<table border=\"1\" class=\"dataframe\">\n",
       "  <thead>\n",
       "    <tr style=\"text-align: right;\">\n",
       "      <th></th>\n",
       "      <th>hcap_infants</th>\n",
       "      <th>water_project</th>\n",
       "      <th>budget_res</th>\n",
       "      <th>fee_freeze</th>\n",
       "      <th>el_salvador</th>\n",
       "      <th>sat_test</th>\n",
       "      <th>contras</th>\n",
       "      <th>missile</th>\n",
       "      <th>immigration</th>\n",
       "      <th>synfuels</th>\n",
       "      <th>educ</th>\n",
       "      <th>superfund</th>\n",
       "      <th>crime</th>\n",
       "      <th>duty_free</th>\n",
       "      <th>south_africa</th>\n",
       "    </tr>\n",
       "  </thead>\n",
       "  <tbody>\n",
       "    <tr>\n",
       "      <th>0</th>\n",
       "      <td>0.0</td>\n",
       "      <td>1.0</td>\n",
       "      <td>0.0</td>\n",
       "      <td>1.0</td>\n",
       "      <td>1.0</td>\n",
       "      <td>0.0</td>\n",
       "      <td>0.0</td>\n",
       "      <td>0.0</td>\n",
       "      <td>1.0</td>\n",
       "      <td>0.0</td>\n",
       "      <td>1.0</td>\n",
       "      <td>1.0</td>\n",
       "      <td>1.0</td>\n",
       "      <td>0.0</td>\n",
       "      <td>1.0</td>\n",
       "    </tr>\n",
       "    <tr>\n",
       "      <th>1</th>\n",
       "      <td>0.0</td>\n",
       "      <td>1.0</td>\n",
       "      <td>0.0</td>\n",
       "      <td>1.0</td>\n",
       "      <td>1.0</td>\n",
       "      <td>0.0</td>\n",
       "      <td>0.0</td>\n",
       "      <td>0.0</td>\n",
       "      <td>0.0</td>\n",
       "      <td>0.0</td>\n",
       "      <td>1.0</td>\n",
       "      <td>1.0</td>\n",
       "      <td>1.0</td>\n",
       "      <td>0.0</td>\n",
       "      <td>1.0</td>\n",
       "    </tr>\n",
       "    <tr>\n",
       "      <th>2</th>\n",
       "      <td>0.0</td>\n",
       "      <td>1.0</td>\n",
       "      <td>1.0</td>\n",
       "      <td>0.0</td>\n",
       "      <td>1.0</td>\n",
       "      <td>0.0</td>\n",
       "      <td>0.0</td>\n",
       "      <td>0.0</td>\n",
       "      <td>0.0</td>\n",
       "      <td>1.0</td>\n",
       "      <td>0.0</td>\n",
       "      <td>1.0</td>\n",
       "      <td>1.0</td>\n",
       "      <td>0.0</td>\n",
       "      <td>0.0</td>\n",
       "    </tr>\n",
       "  </tbody>\n",
       "</table>\n",
       "</div>"
      ],
      "text/plain": [
       "   hcap_infants  water_project  budget_res  fee_freeze  el_salvador  sat_test  contras  missile  immigration  synfuels  educ  superfund  crime  duty_free  south_africa\n",
       "0           0.0            1.0         0.0         1.0          1.0       0.0      0.0      0.0          1.0       0.0   1.0        1.0    1.0        0.0           1.0\n",
       "1           0.0            1.0         0.0         1.0          1.0       0.0      0.0      0.0          0.0       0.0   1.0        1.0    1.0        0.0           1.0\n",
       "2           0.0            1.0         1.0         0.0          1.0       0.0      0.0      0.0          0.0       1.0   0.0        1.0    1.0        0.0           0.0"
      ]
     },
     "execution_count": 103,
     "metadata": {},
     "output_type": "execute_result"
    }
   ],
   "source": [
    "df.head(3)"
   ]
  },
  {
   "cell_type": "markdown",
   "metadata": {},
   "source": [
    "# Challenge 11"
   ]
  },
  {
   "cell_type": "code",
   "execution_count": null,
   "metadata": {},
   "outputs": [],
   "source": []
  },
  {
   "cell_type": "markdown",
   "metadata": {},
   "source": [
    "# Challenge 12"
   ]
  },
  {
   "cell_type": "code",
   "execution_count": null,
   "metadata": {},
   "outputs": [],
   "source": []
  }
 ],
 "metadata": {
  "kernelspec": {
   "display_name": "Python 3",
   "language": "python",
   "name": "python3"
  },
  "language_info": {
   "codemirror_mode": {
    "name": "ipython",
    "version": 3
   },
   "file_extension": ".py",
   "mimetype": "text/x-python",
   "name": "python",
   "nbconvert_exporter": "python",
   "pygments_lexer": "ipython3",
   "version": "3.6.3"
  }
 },
 "nbformat": 4,
 "nbformat_minor": 2
}
