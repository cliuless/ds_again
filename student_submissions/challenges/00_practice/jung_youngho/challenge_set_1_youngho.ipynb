{
 "cells": [
  {
   "cell_type": "markdown",
   "metadata": {},
   "source": [
    "Topic:        Challenge Set 1<br>\n",
    "Subject:      Explore MTA turnstile data<br>\n",
    "Date:         01/13/2018<br>\n",
    "Name:         Youngho Jung<br>\n",
    "Worked with:  Jon, Jit, Browning<br>"
   ]
  },
  {
   "cell_type": "code",
   "execution_count": 101,
   "metadata": {
    "collapsed": true
   },
   "outputs": [],
   "source": [
    "import matplotlib.pyplot as plt\n",
    "import pandas as pd\n",
    "import numpy as np\n",
    "from copy import deepcopy \n",
    "from datetime import datetime\n",
    "%matplotlib inline\n",
    "\n",
    "# ignore warnings\n",
    "import warnings\n",
    "warnings.filterwarnings('ignore')"
   ]
  },
  {
   "cell_type": "markdown",
   "metadata": {},
   "source": [
    "**Challenge 1**"
   ]
  },
  {
   "cell_type": "code",
   "execution_count": 2,
   "metadata": {
    "collapsed": true
   },
   "outputs": [],
   "source": [
    "# extract the turnstile data\n",
    "df_mta = pd.read_csv('http://web.mta.info/developers/data/nyct/turnstile/turnstile_180113.txt')"
   ]
  },
  {
   "cell_type": "code",
   "execution_count": 4,
   "metadata": {
    "collapsed": false
   },
   "outputs": [],
   "source": [
    "# strip strings\n",
    "df_mta.columns = df_mta.columns.str.strip()\n",
    "list_mta_columns = df_mta.columns\n",
    "df_mta_str = df_mta.select_dtypes(['object'])\n",
    "df_mta[df_mta_str.columns] = df_mta_str.apply(lambda x: x.str.strip())"
   ]
  },
  {
   "cell_type": "code",
   "execution_count": 5,
   "metadata": {
    "collapsed": false,
    "scrolled": true
   },
   "outputs": [],
   "source": [
    "# make a list with pandas data\n",
    "list_mta = []\n",
    "for idx, row in df_mta.iterrows():\n",
    "    list_mta.append(row)\n"
   ]
  },
  {
   "cell_type": "code",
   "execution_count": 269,
   "metadata": {
    "collapsed": false
   },
   "outputs": [],
   "source": [
    "# convert it into dictionary\n",
    "d_mta = {}\n",
    "for l in list_mta:\n",
    "    d_mta.setdefault(tuple(l[:4]), []).append(list(l[4:]))\n",
    "#list(d_mta.items())[0]"
   ]
  },
  {
   "cell_type": "markdown",
   "metadata": {},
   "source": [
    "**Challenge 2**"
   ]
  },
  {
   "cell_type": "code",
   "execution_count": 8,
   "metadata": {
    "collapsed": false
   },
   "outputs": [
    {
     "data": {
      "text/plain": [
       "(('A002', 'R051', '02-00-00', '59 ST'),\n",
       " [[datetime.datetime(2018, 1, 6, 3, 0), 6470216],\n",
       "  [datetime.datetime(2018, 1, 6, 7, 0), 6470223],\n",
       "  [datetime.datetime(2018, 1, 6, 11, 0), 6470256],\n",
       "  [datetime.datetime(2018, 1, 6, 15, 0), 6470379],\n",
       "  [datetime.datetime(2018, 1, 6, 19, 0), 6470665],\n",
       "  [datetime.datetime(2018, 1, 6, 23, 0), 6470809],\n",
       "  [datetime.datetime(2018, 1, 7, 3, 0), 6470843],\n",
       "  [datetime.datetime(2018, 1, 7, 7, 0), 6470849],\n",
       "  [datetime.datetime(2018, 1, 7, 11, 0), 6470884],\n",
       "  [datetime.datetime(2018, 1, 7, 15, 0), 6471042],\n",
       "  [datetime.datetime(2018, 1, 7, 19, 0), 6471222],\n",
       "  [datetime.datetime(2018, 1, 7, 23, 0), 6471327],\n",
       "  [datetime.datetime(2018, 1, 8, 3, 0), 6471341],\n",
       "  [datetime.datetime(2018, 1, 8, 7, 0), 6471353],\n",
       "  [datetime.datetime(2018, 1, 8, 11, 0), 6471501],\n",
       "  [datetime.datetime(2018, 1, 8, 15, 0), 6471703],\n",
       "  [datetime.datetime(2018, 1, 8, 19, 0), 6472505],\n",
       "  [datetime.datetime(2018, 1, 8, 23, 0), 6472747],\n",
       "  [datetime.datetime(2018, 1, 9, 3, 0), 6472772],\n",
       "  [datetime.datetime(2018, 1, 9, 7, 0), 6472784],\n",
       "  [datetime.datetime(2018, 1, 9, 11, 0), 6472924],\n",
       "  [datetime.datetime(2018, 1, 9, 15, 0), 6473130],\n",
       "  [datetime.datetime(2018, 1, 9, 19, 0), 6473952],\n",
       "  [datetime.datetime(2018, 1, 9, 23, 0), 6474254],\n",
       "  [datetime.datetime(2018, 1, 10, 3, 0), 6474285],\n",
       "  [datetime.datetime(2018, 1, 10, 7, 0), 6474299],\n",
       "  [datetime.datetime(2018, 1, 10, 11, 0), 6474452],\n",
       "  [datetime.datetime(2018, 1, 10, 15, 0), 6474673],\n",
       "  [datetime.datetime(2018, 1, 10, 19, 0), 6475475],\n",
       "  [datetime.datetime(2018, 1, 10, 23, 0), 6475767],\n",
       "  [datetime.datetime(2018, 1, 11, 3, 0), 6475796],\n",
       "  [datetime.datetime(2018, 1, 11, 7, 0), 6475808],\n",
       "  [datetime.datetime(2018, 1, 11, 11, 0), 6475955],\n",
       "  [datetime.datetime(2018, 1, 11, 15, 0), 6476223],\n",
       "  [datetime.datetime(2018, 1, 11, 19, 0), 6477010],\n",
       "  [datetime.datetime(2018, 1, 11, 23, 0), 6477313],\n",
       "  [datetime.datetime(2018, 1, 12, 3, 0), 6477355],\n",
       "  [datetime.datetime(2018, 1, 12, 7, 0), 6477371],\n",
       "  [datetime.datetime(2018, 1, 12, 11, 0), 6477492],\n",
       "  [datetime.datetime(2018, 1, 12, 15, 0), 6477763],\n",
       "  [datetime.datetime(2018, 1, 12, 19, 0), 6478573],\n",
       "  [datetime.datetime(2018, 1, 12, 23, 0), 6478826]])"
      ]
     },
     "execution_count": 8,
     "metadata": {},
     "output_type": "execute_result"
    }
   ],
   "source": [
    "# make a time-series dictionary\n",
    "d_mta_ts = {}\n",
    "for key, values in d_mta.items():\n",
    "    d_mta_ts.setdefault(key, [])\n",
    "    for value in values:\n",
    "        # convert date & time to datetime format\n",
    "        dt = value[2] + \" \" + value[3]\n",
    "        d_mta_ts[key].append([datetime.strptime(dt, '%m/%d/%Y %H:%M:%S'), value[5]])\n",
    "list(d_mta_ts.items())[0]"
   ]
  },
  {
   "cell_type": "code",
   "execution_count": 21,
   "metadata": {
    "collapsed": false
   },
   "outputs": [
    {
     "data": {
      "text/plain": [
       "(('A002', 'R051', '02-00-00', '59 ST'),\n",
       " [[datetime.datetime(2018, 1, 6, 3, 0), nan],\n",
       "  [datetime.datetime(2018, 1, 6, 7, 0), 7],\n",
       "  [datetime.datetime(2018, 1, 6, 11, 0), 33],\n",
       "  [datetime.datetime(2018, 1, 6, 15, 0), 123],\n",
       "  [datetime.datetime(2018, 1, 6, 19, 0), 286],\n",
       "  [datetime.datetime(2018, 1, 6, 23, 0), 144],\n",
       "  [datetime.datetime(2018, 1, 7, 3, 0), 34],\n",
       "  [datetime.datetime(2018, 1, 7, 7, 0), 6],\n",
       "  [datetime.datetime(2018, 1, 7, 11, 0), 35],\n",
       "  [datetime.datetime(2018, 1, 7, 15, 0), 158],\n",
       "  [datetime.datetime(2018, 1, 7, 19, 0), 180],\n",
       "  [datetime.datetime(2018, 1, 7, 23, 0), 105],\n",
       "  [datetime.datetime(2018, 1, 8, 3, 0), 14],\n",
       "  [datetime.datetime(2018, 1, 8, 7, 0), 12],\n",
       "  [datetime.datetime(2018, 1, 8, 11, 0), 148],\n",
       "  [datetime.datetime(2018, 1, 8, 15, 0), 202],\n",
       "  [datetime.datetime(2018, 1, 8, 19, 0), 802],\n",
       "  [datetime.datetime(2018, 1, 8, 23, 0), 242],\n",
       "  [datetime.datetime(2018, 1, 9, 3, 0), 25],\n",
       "  [datetime.datetime(2018, 1, 9, 7, 0), 12],\n",
       "  [datetime.datetime(2018, 1, 9, 11, 0), 140],\n",
       "  [datetime.datetime(2018, 1, 9, 15, 0), 206],\n",
       "  [datetime.datetime(2018, 1, 9, 19, 0), 822],\n",
       "  [datetime.datetime(2018, 1, 9, 23, 0), 302],\n",
       "  [datetime.datetime(2018, 1, 10, 3, 0), 31],\n",
       "  [datetime.datetime(2018, 1, 10, 7, 0), 14],\n",
       "  [datetime.datetime(2018, 1, 10, 11, 0), 153],\n",
       "  [datetime.datetime(2018, 1, 10, 15, 0), 221],\n",
       "  [datetime.datetime(2018, 1, 10, 19, 0), 802],\n",
       "  [datetime.datetime(2018, 1, 10, 23, 0), 292],\n",
       "  [datetime.datetime(2018, 1, 11, 3, 0), 29],\n",
       "  [datetime.datetime(2018, 1, 11, 7, 0), 12],\n",
       "  [datetime.datetime(2018, 1, 11, 11, 0), 147],\n",
       "  [datetime.datetime(2018, 1, 11, 15, 0), 268],\n",
       "  [datetime.datetime(2018, 1, 11, 19, 0), 787],\n",
       "  [datetime.datetime(2018, 1, 11, 23, 0), 303],\n",
       "  [datetime.datetime(2018, 1, 12, 3, 0), 42],\n",
       "  [datetime.datetime(2018, 1, 12, 7, 0), 16],\n",
       "  [datetime.datetime(2018, 1, 12, 11, 0), 121],\n",
       "  [datetime.datetime(2018, 1, 12, 15, 0), 271],\n",
       "  [datetime.datetime(2018, 1, 12, 19, 0), 810],\n",
       "  [datetime.datetime(2018, 1, 12, 23, 0), 253]])"
      ]
     },
     "execution_count": 21,
     "metadata": {},
     "output_type": "execute_result"
    }
   ],
   "source": [
    "# count the traffic between each time interval\n",
    "for key, values in d_mta_ts.items():\n",
    "    # initialize a new list: new_value\n",
    "    new_value = deepcopy(values)\n",
    "    for i in range(1, len(values)):\n",
    "        new_value[i][1] = values[i][1] - values[i-1][1]\n",
    "    new_value[0][1] = np.nan\n",
    "    d_mta_ts[key] = new_value\n"
   ]
  },
  {
   "cell_type": "markdown",
   "metadata": {},
   "source": [
    "**Challenge 3**"
   ]
  },
  {
   "cell_type": "markdown",
   "metadata": {},
   "source": [
    "n is 4 in the problem"
   ]
  },
  {
   "cell_type": "code",
   "execution_count": 26,
   "metadata": {
    "collapsed": false
   },
   "outputs": [
    {
     "data": {
      "text/plain": [
       "[(('A002', 'R051', '02-00-00', '59 ST', datetime.date(2018, 1, 6)), 593),\n",
       " (('A002', 'R051', '02-00-00', '59 ST', datetime.date(2018, 1, 7)), 518),\n",
       " (('A002', 'R051', '02-00-00', '59 ST', datetime.date(2018, 1, 8)), 1420)]"
      ]
     },
     "execution_count": 26,
     "metadata": {},
     "output_type": "execute_result"
    }
   ],
   "source": [
    "# convert the previous data into daily data\n",
    "d_mta_ts_daily = {}\n",
    "for key, values in d_mta_ts.items():\n",
    "    for value in values:\n",
    "        date = value[0].date()\n",
    "        # add a key if it is not in the dictionary\n",
    "        new_key = tuple(list(key) + [date])\n",
    "        d_mta_ts_daily.setdefault(new_key, []).append(value[1])\n",
    "\n",
    "for key, values in d_mta_ts_daily.items():\n",
    "    d_mta_ts_daily[key] = int(np.nansum(values))\n",
    "\n",
    "list(d_mta_ts_daily.items())[:3]"
   ]
  },
  {
   "cell_type": "code",
   "execution_count": 27,
   "metadata": {
    "collapsed": false
   },
   "outputs": [],
   "source": [
    "# change dictionary keys\n",
    "d_mta_ts_daily2 = {}\n",
    "for key, value in d_mta_ts_daily.items():\n",
    "    new_key = tuple(list(key)[:-1])\n",
    "    d_mta_ts_daily2.setdefault(new_key, []).append([list(key)[-1], value])"
   ]
  },
  {
   "cell_type": "markdown",
   "metadata": {},
   "source": [
    "**Challenge 4**"
   ]
  },
  {
   "cell_type": "code",
   "execution_count": 28,
   "metadata": {
    "collapsed": false
   },
   "outputs": [
    {
     "data": {
      "image/png": "[encoded data removed]",
      "text/plain": [
       "<matplotlib.figure.Figure at 0x129a7abe0>"
      ]
     },
     "metadata": {},
     "output_type": "display_data"
    }
   ],
   "source": [
    "# I will plot the time series graph for ('A002', 'R051', '02-00-00', '59 ST')\n",
    "time_series = d_mta_ts_daily2[('A002', 'R051', '02-00-00', '59 ST')]\n",
    "dates, counts = [ts[0] for ts in time_series], [ts[1] for ts in time_series]\n",
    "plt.plot(dates, counts);\n",
    "plt.xticks(rotation=20);\n",
    "plt.title('59 ST Station Traffic');"
   ]
  },
  {
   "cell_type": "markdown",
   "metadata": {},
   "source": [
    "**Challenge 5** (From here, I will use pandas for practice)"
   ]
  },
  {
   "cell_type": "code",
   "execution_count": 29,
   "metadata": {
    "collapsed": false
   },
   "outputs": [],
   "source": [
    "# convert the dictionary to the pandas dataframe\n",
    "pd_mta = pd.DataFrame(list(d_mta_ts_daily.items()), columns=['key', 'TRAFFIC'])\n"
   ]
  },
  {
   "cell_type": "code",
   "execution_count": 198,
   "metadata": {
    "collapsed": false
   },
   "outputs": [],
   "source": [
    "outliers= list(pd_mta\n",
    " .sort_values('TRAFFIC', ascending=False)\n",
    " .head(2).index\n",
    ")\n",
    "pd_mta.drop(outliers, inplace=True)"
   ]
  },
  {
   "cell_type": "code",
   "execution_count": 201,
   "metadata": {
    "collapsed": false
   },
   "outputs": [],
   "source": [
    "pd_mta['C/A'] = pd_mta['key'].apply(lambda s: list(s)[0])\n",
    "pd_mta['UNIT'] = pd_mta['key'].apply(lambda s: list(s)[1])\n",
    "pd_mta['STATION'] = pd_mta['key'].apply(lambda s: list(s)[3])\n",
    "pd_mta['DATE'] = pd_mta['key'].apply(lambda s: list(s)[4])"
   ]
  },
  {
   "cell_type": "code",
   "execution_count": 202,
   "metadata": {
    "collapsed": false
   },
   "outputs": [],
   "source": [
    "pd_mta2 = pd_mta[['C/A', 'UNIT', 'STATION', 'DATE', 'TRAFFIC']].reset_index(drop=True)"
   ]
  },
  {
   "cell_type": "code",
   "execution_count": 203,
   "metadata": {
    "collapsed": false
   },
   "outputs": [
    {
     "data": {
      "text/html": [
       "<div>\n",
       "<table border=\"1\" class=\"dataframe\">\n",
       "  <thead>\n",
       "    <tr style=\"text-align: right;\">\n",
       "      <th></th>\n",
       "      <th>C/A</th>\n",
       "      <th>UNIT</th>\n",
       "      <th>STATION</th>\n",
       "      <th>DATE</th>\n",
       "      <th>TRAFFIC</th>\n",
       "    </tr>\n",
       "  </thead>\n",
       "  <tbody>\n",
       "    <tr>\n",
       "      <th>0</th>\n",
       "      <td>A002</td>\n",
       "      <td>R051</td>\n",
       "      <td>59 ST</td>\n",
       "      <td>2018-01-06</td>\n",
       "      <td>6451</td>\n",
       "    </tr>\n",
       "    <tr>\n",
       "      <th>1</th>\n",
       "      <td>A002</td>\n",
       "      <td>R051</td>\n",
       "      <td>59 ST</td>\n",
       "      <td>2018-01-07</td>\n",
       "      <td>5377</td>\n",
       "    </tr>\n",
       "    <tr>\n",
       "      <th>2</th>\n",
       "      <td>A002</td>\n",
       "      <td>R051</td>\n",
       "      <td>59 ST</td>\n",
       "      <td>2018-01-08</td>\n",
       "      <td>12765</td>\n",
       "    </tr>\n",
       "    <tr>\n",
       "      <th>3</th>\n",
       "      <td>A002</td>\n",
       "      <td>R051</td>\n",
       "      <td>59 ST</td>\n",
       "      <td>2018-01-09</td>\n",
       "      <td>13788</td>\n",
       "    </tr>\n",
       "    <tr>\n",
       "      <th>4</th>\n",
       "      <td>A002</td>\n",
       "      <td>R051</td>\n",
       "      <td>59 ST</td>\n",
       "      <td>2018-01-10</td>\n",
       "      <td>13687</td>\n",
       "    </tr>\n",
       "  </tbody>\n",
       "</table>\n",
       "</div>"
      ],
      "text/plain": [
       "    C/A  UNIT STATION        DATE  TRAFFIC\n",
       "0  A002  R051   59 ST  2018-01-06     6451\n",
       "1  A002  R051   59 ST  2018-01-07     5377\n",
       "2  A002  R051   59 ST  2018-01-08    12765\n",
       "3  A002  R051   59 ST  2018-01-09    13788\n",
       "4  A002  R051   59 ST  2018-01-10    13687"
      ]
     },
     "execution_count": 203,
     "metadata": {},
     "output_type": "execute_result"
    }
   ],
   "source": [
    "# combine traffic numbers based on C/A, UNIT, and STATION\n",
    "pd_mta3 = pd_mta2.groupby(['C/A', 'UNIT', 'STATION', 'DATE']).sum().reset_index()\n",
    "pd_mta3.head()"
   ]
  },
  {
   "cell_type": "markdown",
   "metadata": {},
   "source": [
    "**Challenge 6**"
   ]
  },
  {
   "cell_type": "code",
   "execution_count": 204,
   "metadata": {
    "collapsed": false
   },
   "outputs": [
    {
     "data": {
      "text/html": [
       "<div>\n",
       "<table border=\"1\" class=\"dataframe\">\n",
       "  <thead>\n",
       "    <tr style=\"text-align: right;\">\n",
       "      <th></th>\n",
       "      <th>DATE</th>\n",
       "      <th>TRAFFIC</th>\n",
       "    </tr>\n",
       "  </thead>\n",
       "  <tbody>\n",
       "    <tr>\n",
       "      <th>0</th>\n",
       "      <td>2018-01-06</td>\n",
       "      <td>6451</td>\n",
       "    </tr>\n",
       "    <tr>\n",
       "      <th>1</th>\n",
       "      <td>2018-01-07</td>\n",
       "      <td>5377</td>\n",
       "    </tr>\n",
       "    <tr>\n",
       "      <th>2</th>\n",
       "      <td>2018-01-08</td>\n",
       "      <td>12765</td>\n",
       "    </tr>\n",
       "    <tr>\n",
       "      <th>3</th>\n",
       "      <td>2018-01-09</td>\n",
       "      <td>13788</td>\n",
       "    </tr>\n",
       "    <tr>\n",
       "      <th>4</th>\n",
       "      <td>2018-01-10</td>\n",
       "      <td>13687</td>\n",
       "    </tr>\n",
       "    <tr>\n",
       "      <th>5</th>\n",
       "      <td>2018-01-11</td>\n",
       "      <td>13690</td>\n",
       "    </tr>\n",
       "    <tr>\n",
       "      <th>6</th>\n",
       "      <td>2018-01-12</td>\n",
       "      <td>13029</td>\n",
       "    </tr>\n",
       "  </tbody>\n",
       "</table>\n",
       "</div>"
      ],
      "text/plain": [
       "         DATE  TRAFFIC\n",
       "0  2018-01-06     6451\n",
       "1  2018-01-07     5377\n",
       "2  2018-01-08    12765\n",
       "3  2018-01-09    13788\n",
       "4  2018-01-10    13687\n",
       "5  2018-01-11    13690\n",
       "6  2018-01-12    13029"
      ]
     },
     "execution_count": 204,
     "metadata": {},
     "output_type": "execute_result"
    }
   ],
   "source": [
    "# I will plot the time series graph for ('A002', 'R051', '59 ST')\n",
    "pd_ts = pd_mta3[(pd_mta3['C/A']=='A002') & (pd_mta3['UNIT']=='R051') &\n",
    "        (pd_mta3['STATION']=='59 ST')]\n",
    "\n",
    "# print out times series\n",
    "pd_ts[['DATE', 'TRAFFIC']] "
   ]
  },
  {
   "cell_type": "markdown",
   "metadata": {},
   "source": [
    "**Challenge 7**"
   ]
  },
  {
   "cell_type": "code",
   "execution_count": 205,
   "metadata": {
    "collapsed": false,
    "scrolled": true
   },
   "outputs": [
    {
     "data": {
      "image/png": "[encoded data removed]",
      "text/plain": [
       "<matplotlib.figure.Figure at 0x152d84518>"
      ]
     },
     "metadata": {},
     "output_type": "display_data"
    }
   ],
   "source": [
    "# I will plot the graph based on the data I generated\n",
    "plt.plot(pd_ts['DATE'], pd_ts['TRAFFIC']);\n",
    "plt.xticks(rotation=20);\n",
    "plt.title('59 ST Station Traffic');"
   ]
  },
  {
   "cell_type": "markdown",
   "metadata": {},
   "source": [
    "**Challenge 8**"
   ]
  },
  {
   "cell_type": "code",
   "execution_count": 206,
   "metadata": {
    "collapsed": false
   },
   "outputs": [],
   "source": [
    "## I will collect the data for Dec 2017\n",
    "dates = ['171202', '171209', '171216', '171223', '171230']\n",
    "df_mtv_dec = pd.DataFrame(columns=df_mta.columns.str.strip())\n",
    "for d in dates:\n",
    "    url = 'http://web.mta.info/developers/data/nyct/turnstile/turnstile_' + d + '.txt'\n",
    "    df_temp = pd.read_csv(url)\n",
    "    df_temp.columns = df_mtv_dec.columns\n",
    "    df_mtv_dec = pd.concat([df_mtv_dec, df_temp])"
   ]
  },
  {
   "cell_type": "code",
   "execution_count": 114,
   "metadata": {
    "collapsed": false
   },
   "outputs": [],
   "source": [
    "# extract only necessary columns\n",
    "df_mtv_dec2 = df_mtv_dec[['C/A', 'UNIT', 'SCP', 'STATION', 'DATE', 'TIME', 'ENTRIES']]\n",
    "df_mtv_dec2['ENTRIES_PREV'] = df_mtv_dec2['ENTRIES'].shift(1)"
   ]
  },
  {
   "cell_type": "code",
   "execution_count": 116,
   "metadata": {
    "collapsed": false
   },
   "outputs": [],
   "source": [
    "# make a IS_PREV column that checks if the adjacent rows share the common SCP\n",
    "df_mtv_dec2['IS_PREV'] = df_mtv_dec2['SCP'] == df_mtv_dec2.SCP.shift(1)\n",
    "# count the traffic between the two time frames \n",
    "df_mtv_dec2['TRAFFIC'] = df_mtv_dec2.apply(lambda x: x['ENTRIES'] - x['ENTRIES_PREV'] \n",
    "                                           if x['IS_PREV'] else np.nan, axis=1)\n",
    "df_mtv_dec2['TRAFFIC'] = df_mtv_dec2['TRAFFIC'].apply(lambda s: abs(s))\n",
    "df_mtv_dec2['DATE'] = pd.to_datetime(df_mtv_dec2['DATE'])"
   ]
  },
  {
   "cell_type": "code",
   "execution_count": 215,
   "metadata": {
    "collapsed": false
   },
   "outputs": [],
   "source": [
    "# remove outliers \n",
    "outliers = list((df_mtv_dec2\n",
    " .sort_values('TRAFFIC', ascending=False)\n",
    " .head(100)\n",
    " .index\n",
    "))\n",
    "df_mtv_dec2.drop(outliers, inplace=True)"
   ]
  },
  {
   "cell_type": "code",
   "execution_count": 216,
   "metadata": {
    "collapsed": false
   },
   "outputs": [],
   "source": [
    "df_mtv_dec3 = df_mtv_dec2[['C/A', 'UNIT', 'SCP', 'STATION', 'DATE', 'TIME', 'TRAFFIC']]"
   ]
  },
  {
   "cell_type": "code",
   "execution_count": 217,
   "metadata": {
    "collapsed": true
   },
   "outputs": [],
   "source": [
    "df_mtv_dec4 = df_mtv_dec3.groupby(['C/A', 'UNIT', 'STATION', 'DATE']).sum().reset_index()\n",
    "df_mtv_dec4.head()\n",
    "# I will plot the time series graph for ('A002', 'R051', '59 ST')\n",
    "pd_ts_dec = \\\n",
    "(df_mtv_dec4[(df_mtv_dec4['C/A'] == 'A002') & (df_mtv_dec4['UNIT'] == 'R051') &\n",
    "                       (df_mtv_dec4['STATION'] == '59 ST')]\n",
    " .sort_values('DATE')\n",
    ")\n",
    "# assign the order of week for each data\n",
    "pd_ts_dec['WEEK'] = pd_ts_dec.index // 7 + 1\n",
    "pd_ts_dec['DAYS'] = pd_ts_dec.index % 7 + 1"
   ]
  },
  {
   "cell_type": "code",
   "execution_count": 219,
   "metadata": {
    "collapsed": false,
    "scrolled": true
   },
   "outputs": [
    {
     "data": {
      "image/png": "[encoded data removed]",
      "text/plain": [
       "<matplotlib.figure.Figure at 0x153ad7da0>"
      ]
     },
     "metadata": {},
     "output_type": "display_data"
    }
   ],
   "source": [
    "# plot time series for all weeks\n",
    "fig, ax = plt.subplots(nrows = 1, ncols = 1)\n",
    "fig.suptitle('Traffic by week in Dec 2017', fontsize=15)\n",
    "\n",
    "for key, grp in pd_ts_dec.groupby(['WEEK']):\n",
    "    ax.plot(grp['DAYS'], grp['TRAFFIC'], label = \"Traffic in week {:d}\".format((grp['WEEK'].iloc[0])))\n",
    "plt.legend(loc='best')    \n",
    "plt.show()"
   ]
  },
  {
   "cell_type": "markdown",
   "metadata": {},
   "source": [
    "**Challenge 9**"
   ]
  },
  {
   "cell_type": "code",
   "execution_count": 223,
   "metadata": {
    "collapsed": false
   },
   "outputs": [
    {
     "data": {
      "text/html": [
       "<div>\n",
       "<table border=\"1\" class=\"dataframe\">\n",
       "  <thead>\n",
       "    <tr style=\"text-align: right;\">\n",
       "      <th></th>\n",
       "      <th>C/A</th>\n",
       "      <th>UNIT</th>\n",
       "      <th>STATION</th>\n",
       "      <th>TRAFFIC</th>\n",
       "    </tr>\n",
       "  </thead>\n",
       "  <tbody>\n",
       "    <tr>\n",
       "      <th>450</th>\n",
       "      <td>PTH22</td>\n",
       "      <td>R540</td>\n",
       "      <td>PATH NEW WTC</td>\n",
       "      <td>1652366.0</td>\n",
       "    </tr>\n",
       "    <tr>\n",
       "      <th>559</th>\n",
       "      <td>R238</td>\n",
       "      <td>R046</td>\n",
       "      <td>GRD CNTRL-42 ST</td>\n",
       "      <td>1649062.0</td>\n",
       "    </tr>\n",
       "  </tbody>\n",
       "</table>\n",
       "</div>"
      ],
      "text/plain": [
       "       C/A  UNIT          STATION    TRAFFIC\n",
       "450  PTH22  R540     PATH NEW WTC  1652366.0\n",
       "559   R238  R046  GRD CNTRL-42 ST  1649062.0"
      ]
     },
     "execution_count": 223,
     "metadata": {},
     "output_type": "execute_result"
    }
   ],
   "source": [
    "# sum all traffic for each station in Dec 2017\n",
    "df_mtv_dec5 = df_mtv_dec3.groupby(['C/A', 'UNIT', 'STATION']).sum().reset_index()\n",
    "(df_mtv_dec5\n",
    " .sort_values('TRAFFIC', ascending=False)\n",
    ").head(2)\n",
    "\n",
    "# Top 2 busiest stations are PATH NEW WTC and GRD CNTRL-42 ST"
   ]
  },
  {
   "cell_type": "markdown",
   "metadata": {},
   "source": [
    "**Challenge 10**"
   ]
  },
  {
   "cell_type": "code",
   "execution_count": 267,
   "metadata": {
    "collapsed": false
   },
   "outputs": [
    {
     "data": {
      "image/png": "[encoded data removed]",
      "text/plain": [
       "<matplotlib.figure.Figure at 0x13f4c4eb8>"
      ]
     },
     "metadata": {},
     "output_type": "display_data"
    }
   ],
   "source": [
    "# draw a histogram\n",
    "fig, ax = plt.subplots(nrows = 1, ncols = 1)\n",
    "fig.suptitle('Traffic by week in Dec 2017', fontsize=15)\n",
    "ax.hist(df_mtv_dec5['TRAFFIC'], bins=15);\n",
    "\n",
    "ax.xaxis.set_ticks(np.arange(0, 1750001, 250000));"
   ]
  }
 ],
 "metadata": {
  "kernelspec": {
   "display_name": "Python 3",
   "language": "python",
   "name": "python3"
  },
  "language_info": {
   "codemirror_mode": {
    "name": "ipython",
    "version": 3
   },
   "file_extension": ".py",
   "mimetype": "text/x-python",
   "name": "python",
   "nbconvert_exporter": "python",
   "pygments_lexer": "ipython3",
   "version": "3.6.0"
  }
 },
 "nbformat": 4,
 "nbformat_minor": 2
}
