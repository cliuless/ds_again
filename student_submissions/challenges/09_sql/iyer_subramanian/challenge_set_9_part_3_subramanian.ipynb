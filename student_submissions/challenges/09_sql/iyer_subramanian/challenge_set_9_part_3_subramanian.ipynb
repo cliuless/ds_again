{
 "cells": [
  {
   "cell_type": "markdown",
   "metadata": {},
   "source": [
    "### Topic: Challenge Set 9\n",
    "### Subject: SQL Exercises Part 3\n",
    "### Date: 02/17/2018\n",
    "### Name: Subramanian Iyer\n",
    "### Worked With: Worked Individually"
   ]
  },
  {
   "cell_type": "code",
   "execution_count": 1,
   "metadata": {
    "collapsed": true
   },
   "outputs": [],
   "source": [
    "import sqlite3\n",
    "conn = sqlite3.connect('database.sqlite')\n",
    "c = conn.cursor()"
   ]
  },
  {
   "cell_type": "markdown",
   "metadata": {},
   "source": [
    "**Challenge Number 1**"
   ]
  },
  {
   "cell_type": "code",
   "execution_count": 13,
   "metadata": {},
   "outputs": [
    {
     "name": "stdout",
     "output_type": "stream",
     "text": [
      "('Real Madrid CF',)\n"
     ]
    }
   ],
   "source": [
    "for row in c.execute('select team_long_name from (select home_team_api_id, sum(home_team_goal) c from Match \\\n",
    "group by home_team_api_id order by c desc limit 1) a join Team on a.home_team_api_id = Team.team_api_id'):\n",
    "    print(row)"
   ]
  },
  {
   "cell_type": "markdown",
   "metadata": {},
   "source": [
    "**Challenge Number 2**"
   ]
  },
  {
   "cell_type": "code",
   "execution_count": 14,
   "metadata": {},
   "outputs": [
    {
     "name": "stdout",
     "output_type": "stream",
     "text": [
      "('FC Barcelona',)\n"
     ]
    }
   ],
   "source": [
    "for row in c.execute('select team_long_name from (select away_team_api_id, sum(away_team_goal) c from Match \\\n",
    "group by away_team_api_id order by c desc limit 1) a join Team on a.away_team_api_id = Team.team_api_id'):\n",
    "    print(row)"
   ]
  },
  {
   "cell_type": "markdown",
   "metadata": {},
   "source": [
    "**Challenge Number 3**"
   ]
  },
  {
   "cell_type": "code",
   "execution_count": 15,
   "metadata": {},
   "outputs": [
    {
     "name": "stdout",
     "output_type": "stream",
     "text": [
      "(6596,)\n"
     ]
    }
   ],
   "source": [
    "for row in c.execute('select count(*) from Match where home_team_goal=away_team_goal'):\n",
    "    print(row)"
   ]
  },
  {
   "cell_type": "markdown",
   "metadata": {},
   "source": [
    "**Challenge Number 4**"
   ]
  },
  {
   "cell_type": "code",
   "execution_count": 24,
   "metadata": {},
   "outputs": [
    {
     "name": "stdout",
     "output_type": "stream",
     "text": [
      "(15,)\n"
     ]
    }
   ],
   "source": [
    "for row in c.execute('select count(*) from (Select player_name FROM Player WHERE player_name like \"% SMITH\") a'):\n",
    "    print(row)"
   ]
  },
  {
   "cell_type": "code",
   "execution_count": 25,
   "metadata": {},
   "outputs": [
    {
     "name": "stdout",
     "output_type": "stream",
     "text": [
      "(18,)\n"
     ]
    }
   ],
   "source": [
    "for row in c.execute('select count(*) from (Select player_name FROM Player WHERE player_name like \"%smith%\") a'):\n",
    "    print(row)"
   ]
  },
  {
   "cell_type": "markdown",
   "metadata": {},
   "source": [
    "**Challenge Number 5**"
   ]
  },
  {
   "cell_type": "code",
   "execution_count": 49,
   "metadata": {},
   "outputs": [
    {
     "name": "stdout",
     "output_type": "stream",
     "text": [
      "1.0\n"
     ]
    }
   ],
   "source": [
    "extent = 0\n",
    "med = 0\n",
    "for row in c.execute('select home_team_goal from Match where home_team_goal=away_team_goal order by home_team_goal'):\n",
    "    extent +=1\n",
    "    if(extent==3297 or extent==3298):\n",
    "        med +=row[0]\n",
    "print(med/2.)"
   ]
  },
  {
   "cell_type": "markdown",
   "metadata": {},
   "source": [
    "**Challenge Number 6**"
   ]
  },
  {
   "cell_type": "code",
   "execution_count": 57,
   "metadata": {},
   "outputs": [
    {
     "name": "stdout",
     "output_type": "stream",
     "text": [
      "(44733,)\n",
      "(183978,)\n",
      "(138409,)\n",
      "24.314320190457554% of players prefer their left foot.\n",
      "75.23127765276283% of players prefer their left foot.\n",
      "99.54559784322039% of players prefer their left or right foot\n"
     ]
    }
   ],
   "source": [
    "lefts = 0\n",
    "rights = 0\n",
    "total = 0\n",
    "for row in c.execute('select count(*) from Player_Attributes where preferred_foot=\"left\"'):\n",
    "    print(row)\n",
    "    lefts = row[0]\n",
    "for row in c.execute('select count(*) from Player_Attributes'):\n",
    "    print(row)\n",
    "    total = row[0]\n",
    "for row in c.execute('select count(*) from Player_Attributes where preferred_foot=\"right\"'):\n",
    "    print(row)\n",
    "    rights = row[0]\n",
    "print(str(100*float(lefts)/float(total))+'%'+' of players prefer their left foot.')\n",
    "print(str(100*float(rights)/float(total))+'%'+' of players prefer their left foot.')\n",
    "print(str(100*float(lefts+rights)/float(total))+'%'+' of players prefer their left or right foot')"
   ]
  },
  {
   "cell_type": "code",
   "execution_count": 59,
   "metadata": {},
   "outputs": [
    {
     "name": "stdout",
     "output_type": "stream",
     "text": [
      "(0,)\n"
     ]
    }
   ],
   "source": [
    "for row in c.execute('select count(*) from (select * from Player_Attributes where preferred_foot!=\"left\") a where a.preferred_foot!=\"right\"'):\n",
    "    print(row)"
   ]
  },
  {
   "cell_type": "markdown",
   "metadata": {},
   "source": [
    "That's odd, there should be some values that are neither left nor right."
   ]
  },
  {
   "cell_type": "code",
   "execution_count": 61,
   "metadata": {},
   "outputs": [
    {
     "name": "stdout",
     "output_type": "stream",
     "text": [
      "{None, 'left', 'right'}\n"
     ]
    }
   ],
   "source": [
    "feet = []\n",
    "for row in c.execute('select preferred_foot from Player_Attributes'):\n",
    "    feet.append(row[0])\n",
    "print(set(feet))"
   ]
  },
  {
   "cell_type": "markdown",
   "metadata": {},
   "source": [
    "Ah ok, null values are weird."
   ]
  },
  {
   "cell_type": "code",
   "execution_count": 63,
   "metadata": {},
   "outputs": [
    {
     "name": "stdout",
     "output_type": "stream",
     "text": [
      "(836,)\n"
     ]
    }
   ],
   "source": [
    "for row in c.execute('select count(*) from Player_Attributes where preferred_foot is null'):\n",
    "    print(row)"
   ]
  },
  {
   "cell_type": "code",
   "execution_count": 64,
   "metadata": {},
   "outputs": [
    {
     "name": "stdout",
     "output_type": "stream",
     "text": [
      "183978\n"
     ]
    }
   ],
   "source": [
    "print(44733+138409+836)"
   ]
  },
  {
   "cell_type": "markdown",
   "metadata": {},
   "source": [
    "Takeaway: beware of null values."
   ]
  }
 ],
 "metadata": {
  "kernelspec": {
   "display_name": "Python 3",
   "language": "python",
   "name": "python3"
  },
  "language_info": {
   "codemirror_mode": {
    "name": "ipython",
    "version": 3
   },
   "file_extension": ".py",
   "mimetype": "text/x-python",
   "name": "python",
   "nbconvert_exporter": "python",
   "pygments_lexer": "ipython3",
   "version": "3.6.3"
  }
 },
 "nbformat": 4,
 "nbformat_minor": 2
}
