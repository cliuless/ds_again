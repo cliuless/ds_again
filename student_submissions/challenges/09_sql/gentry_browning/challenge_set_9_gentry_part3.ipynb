{
 "cells": [
  {
   "cell_type": "markdown",
   "metadata": {},
   "source": [
    "# Challenge Set 9\n",
    "## Part III: Soccer Data\n",
    "\n",
    "*Introductory - Intermediate level SQL*\n",
    "\n",
    "--\n",
    "\n",
    "Please complete this exercise using sqlite3 and Jupyter notebook.\n",
    "\n",
    "Download the [SQLite database](https://www.kaggle.com/hugomathien/soccer/downloads/soccer.zip) and load in your notebook using the sqlite3 library. "
   ]
  },
  {
   "cell_type": "code",
   "execution_count": 14,
   "metadata": {
    "ExecuteTime": {
     "end_time": "2018-02-11T18:48:06.421215Z",
     "start_time": "2018-02-11T18:48:06.415848Z"
    },
    "collapsed": true
   },
   "outputs": [],
   "source": [
    "import sqlite3\n",
    "conn = sqlite3.connect('database.sqlite')\n",
    "c = conn.cursor()"
   ]
  },
  {
   "cell_type": "markdown",
   "metadata": {},
   "source": [
    "Which team scored the most points when playing at home?  \n"
   ]
  },
  {
   "cell_type": "code",
   "execution_count": 20,
   "metadata": {
    "ExecuteTime": {
     "end_time": "2018-02-11T19:05:00.807056Z",
     "start_time": "2018-02-11T19:04:57.044772Z"
    }
   },
   "outputs": [
    {
     "name": "stdout",
     "output_type": "stream",
     "text": [
      "('Real Madrid CF',)\n"
     ]
    }
   ],
   "source": [
    "for row in c.execute('''Select team_long_name \n",
    "                        from match inner join team on home_team_api_id = team_api_id\n",
    "                        group by home_team_api_id\n",
    "                        order by sum(home_team_goal) desc\n",
    "                        limit 1'''):\n",
    "    print(row)"
   ]
  },
  {
   "cell_type": "markdown",
   "metadata": {},
   "source": [
    "Did this team also score the most points when playing away?  \n"
   ]
  },
  {
   "cell_type": "code",
   "execution_count": 21,
   "metadata": {
    "ExecuteTime": {
     "end_time": "2018-02-11T19:05:59.894437Z",
     "start_time": "2018-02-11T19:05:56.438158Z"
    }
   },
   "outputs": [
    {
     "name": "stdout",
     "output_type": "stream",
     "text": [
      "('FC Barcelona',)\n"
     ]
    }
   ],
   "source": [
    "for row in c.execute('''Select team_long_name \n",
    "                        from match inner join team on away_team_api_id = team_api_id\n",
    "                        group by away_team_api_id\n",
    "                        order by sum(away_team_goal) desc\n",
    "                        limit 1'''):\n",
    "    print(row)"
   ]
  },
  {
   "cell_type": "markdown",
   "metadata": {},
   "source": [
    "How many matches resulted in a tie?  \n"
   ]
  },
  {
   "cell_type": "code",
   "execution_count": 23,
   "metadata": {
    "ExecuteTime": {
     "end_time": "2018-02-11T19:06:56.089668Z",
     "start_time": "2018-02-11T19:06:52.553099Z"
    }
   },
   "outputs": [
    {
     "name": "stdout",
     "output_type": "stream",
     "text": [
      "(6596,)\n"
     ]
    }
   ],
   "source": [
    "for row in c.execute('''Select count(match.id)\n",
    "                        from match \n",
    "                        where home_team_goal = away_team_goal'''):\n",
    "    print(row)"
   ]
  },
  {
   "cell_type": "markdown",
   "metadata": {},
   "source": [
    "How many players have Smith for their last name? How many have 'smith' anywhere in their name?"
   ]
  },
  {
   "cell_type": "code",
   "execution_count": 39,
   "metadata": {
    "ExecuteTime": {
     "end_time": "2018-02-11T19:12:07.325943Z",
     "start_time": "2018-02-11T19:12:07.315717Z"
    }
   },
   "outputs": [
    {
     "name": "stdout",
     "output_type": "stream",
     "text": [
      "(15,)\n"
     ]
    }
   ],
   "source": [
    "for row in c.execute('''Select count(player_name)\n",
    "                        from player\n",
    "                        where substr(player_name,-5) = \"Smith\"'''):\n",
    "    print(row)"
   ]
  },
  {
   "cell_type": "code",
   "execution_count": 40,
   "metadata": {
    "ExecuteTime": {
     "end_time": "2018-02-11T19:12:10.004054Z",
     "start_time": "2018-02-11T19:12:09.987106Z"
    }
   },
   "outputs": [
    {
     "name": "stdout",
     "output_type": "stream",
     "text": [
      "(18,)\n"
     ]
    }
   ],
   "source": [
    "for row in c.execute('''Select count(player_name)\n",
    "                        from player\n",
    "                        where player_name like \"%smith%\"'''):\n",
    "    print(row)"
   ]
  },
  {
   "cell_type": "markdown",
   "metadata": {},
   "source": [
    "What was the median tie score? Use the value determined in the previous question for the number of tie games. *Hint:* PostgreSQL does not have a median function. Instead, think about the steps required to calculate a median and use the [`WITH`](https://www.postgresql.org/docs/8.4/static/queries-with.html) command to store stepwise results as a table and then operate on these results. \n"
   ]
  },
  {
   "cell_type": "code",
   "execution_count": 45,
   "metadata": {
    "ExecuteTime": {
     "end_time": "2018-02-11T19:15:24.745718Z",
     "start_time": "2018-02-11T19:15:22.585424Z"
    }
   },
   "outputs": [
    {
     "name": "stdout",
     "output_type": "stream",
     "text": [
      "(1,)\n"
     ]
    }
   ],
   "source": [
    "for row in c.execute('''select home_team_goal \n",
    "                        from\n",
    "                            (Select home_team_goal\n",
    "                            from match \n",
    "                            where home_team_goal = away_team_goal\n",
    "                            order by home_team_goal\n",
    "                            limit 6596/2)\n",
    "                        order by home_team_goal desc\n",
    "                        limit 1'''):\n",
    "    print(row)"
   ]
  },
  {
   "cell_type": "markdown",
   "metadata": {},
   "source": [
    "\n",
    "6. What percentage of players prefer their left or right foot? *Hint:* Calculate either the right or left foot, whichever is easier based on how you setup the problem."
   ]
  },
  {
   "cell_type": "code",
   "execution_count": 60,
   "metadata": {
    "ExecuteTime": {
     "end_time": "2018-02-11T19:21:40.968127Z",
     "start_time": "2018-02-11T19:21:40.826216Z"
    }
   },
   "outputs": [
    {
     "name": "stdout",
     "output_type": "stream",
     "text": [
      "Right Footed %\n",
      "75.23127765276283\n"
     ]
    }
   ],
   "source": [
    "for row in c.execute('''select right_foot*1.0/total_players*100\n",
    "                        from\n",
    "                        (Select count(id) as total_players\n",
    "                        from player_attributes),\n",
    "                        (select count(id) as right_foot\n",
    "                        from player_attributes\n",
    "                        where preferred_foot = \"right\")'''):\n",
    "    print('Right Footed %')\n",
    "    print(row[0])"
   ]
  },
  {
   "cell_type": "code",
   "execution_count": null,
   "metadata": {
    "collapsed": true
   },
   "outputs": [],
   "source": []
  }
 ],
 "metadata": {
  "kernelspec": {
   "display_name": "Python 3",
   "language": "python",
   "name": "python3"
  },
  "language_info": {
   "codemirror_mode": {
    "name": "ipython",
    "version": 3
   },
   "file_extension": ".py",
   "mimetype": "text/x-python",
   "name": "python",
   "nbconvert_exporter": "python",
   "pygments_lexer": "ipython3",
   "version": "3.6.4"
  }
 },
 "nbformat": 4,
 "nbformat_minor": 2
}
