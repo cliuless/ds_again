{
 "cells": [
  {
   "cell_type": "markdown",
   "metadata": {
    "collapsed": true
   },
   "source": [
    "##Topic: Challenge Set 1\n",
    "##Subject: Explore MTA Turnstile Data\n",
    "##Date: January 13, 2018\n",
    "##Name: Subramanian Iyer\n",
    "##Worked With: Worked independently, with exception to Challenges 1 through 3, the solutions of which were provided in Class"
   ]
  },
  {
   "cell_type": "markdown",
   "metadata": {},
   "source": [
    "#**Number 1**\n",
    " ##Solution was given in class; I have chosen to modify slightly."
   ]
  },
  {
   "cell_type": "code",
   "execution_count": 86,
   "metadata": {},
   "outputs": [
    {
     "name": "stdout",
     "output_type": "stream",
     "text": [
      "  % Total    % Received % Xferd  Average Speed   Time    Time     Time  Current\n",
      "                                 Dload  Upload   Total   Spent    Left  Speed\n",
      "100 24.6M    0 24.6M    0     0  4206k      0 --:--:--  0:00:06 --:--:-- 4245k\n",
      "  % Total    % Received % Xferd  Average Speed   Time    Time     Time  Current\n",
      "                                 Dload  Upload   Total   Spent    Left  Speed\n",
      "100 24.5M    0 24.5M    0     0  2798k      0 --:--:--  0:00:09 --:--:-- 2359k\n",
      "  % Total    % Received % Xferd  Average Speed   Time    Time     Time  Current\n",
      "                                 Dload  Upload   Total   Spent    Left  Speed\n",
      "100 24.4M    0 24.4M    0     0  2500k      0 --:--:--  0:00:10 --:--:-- 2144k\n",
      "  % Total    % Received % Xferd  Average Speed   Time    Time     Time  Current\n",
      "                                 Dload  Upload   Total   Spent    Left  Speed\n",
      "100 24.4M    0 24.4M    0     0  1923k      0 --:--:--  0:00:13 --:--:-- 2089k\n"
     ]
    }
   ],
   "source": [
    "import csv\n",
    "from datetime import datetime\n",
    "from collections import Counter\n",
    "#Download a few MTA turnstile data files:\n",
    "!curl -O http://web.mta.info/developers/data/nyct/turnstile/turnstile_170506.txt\n",
    "!curl -O http://web.mta.info/developers/data/nyct/turnstile/turnstile_170513.txt\n",
    "!curl -O http://web.mta.info/developers/data/nyct/turnstile/turnstile_170520.txt\n",
    "!curl -O http://web.mta.info/developers/data/nyct/turnstile/turnstile_170527.txt\n",
    "\n",
    "# Open up a file, use csv reader to read it:\n",
    "\n",
    "with open('turnstile_170527.txt') as f:\n",
    "    reader = csv.reader(f)\n",
    "    rows = [[cell.strip() for cell in row] for row in reader]\n",
    "assert rows.pop(0) == ['C/A', 'UNIT', 'SCP', 'STATION', 'LINENAME',\n",
    "                       'DIVISION', 'DATE', 'TIME', 'DESC', 'ENTRIES',\n",
    "                       'EXITS']\n",
    "# Make a Python Dict; key is tuple, value is list of lists\n",
    "raw_readings = {}\n",
    "for row in rows:\n",
    "    raw_readings.setdefault(tuple(row[:4]), []).append(row[4:])\n",
    "#list(raw_readings.items())[0]"
   ]
  },
  {
   "cell_type": "markdown",
   "metadata": {},
   "source": [
    "raw_readings is a solution to Challenge 1"
   ]
  },
  {
   "cell_type": "markdown",
   "metadata": {},
   "source": [
    "#**Number 2**\n",
    " ##Solution was given in class; I have chosen to modify slightly."
   ]
  },
  {
   "cell_type": "code",
   "execution_count": 87,
   "metadata": {
    "collapsed": true
   },
   "outputs": [],
   "source": [
    "# create a dict with the same keys, but the values being lists of just the point in time and the entries\n",
    "datetime_cumulative = {turnstile: [(datetime.strptime(date + time,\n",
    "                                                      '%m/%d/%Y%H:%M:%S'),\n",
    "                                    int(in_cumulative))\n",
    "                                   for _, _, date, time,\n",
    "                                       _, in_cumulative, _ in rows]\n",
    "                       for turnstile, rows in raw_readings.items()}\n",
    "\n",
    "for rows in datetime_cumulative.values():\n",
    "    assert rows == sorted(rows)\n",
    "datetime_count_times = {turnstile: [[rows[i][0], # datetime first\n",
    "                                      # delta on entries\n",
    "                                     rows[i+1][1] - rows[i][1],\n",
    "                                     # delta on datetime\n",
    "                                     rows[i+1][0] - rows[i][0]]\n",
    "                                    for i in range(len(rows) - 1)]\n",
    "                        for turnstile, rows in datetime_cumulative.items()}\n",
    "\n",
    "datetime_counts = {turnstile: [(time, count)\n",
    "                               for (time, count, _) in rows\n",
    "                               if 0 <= count <= 5000]\n",
    "                   for turnstile, rows in datetime_count_times.items()}"
   ]
  },
  {
   "cell_type": "markdown",
   "metadata": {},
   "source": [
    "datetime_counts is a solution to Challenge 2."
   ]
  },
  {
   "cell_type": "markdown",
   "metadata": {},
   "source": [
    "#**Number 3**\n",
    " ##Solution was given in class."
   ]
  },
  {
   "cell_type": "code",
   "execution_count": 88,
   "metadata": {
    "collapsed": true
   },
   "outputs": [],
   "source": [
    "#Create dict with same keys, but with values as total daily entries\n",
    "day_counts = {}\n",
    "for turnstile, rows in datetime_counts.items():\n",
    "    by_day = {}\n",
    "    for time, count in rows:\n",
    "        day = time.date()\n",
    "        by_day[day] = by_day.get(day, 0) + count\n",
    "    day_counts[turnstile] = sorted(by_day.items())"
   ]
  },
  {
   "cell_type": "markdown",
   "metadata": {},
   "source": [
    "day_counts is a solution to Challenge 3."
   ]
  },
  {
   "cell_type": "markdown",
   "metadata": {},
   "source": [
    "**Number 4**"
   ]
  },
  {
   "cell_type": "code",
   "execution_count": 89,
   "metadata": {},
   "outputs": [
    {
     "name": "stdout",
     "output_type": "stream",
     "text": [
      "('N134', 'R385', '00-00-00', 'ROCKAWAY BLVD')\n"
     ]
    },
    {
     "data": {
      "text/plain": [
       "<matplotlib.text.Text at 0x117fc5f10>"
      ]
     },
     "execution_count": 89,
     "metadata": {},
     "output_type": "execute_result"
    },
    {
     "data": {
      "image/png": "[encoded data removed]",
      "text/plain": [
       "<matplotlib.figure.Figure at 0x1166cd050>"
      ]
     },
     "metadata": {},
     "output_type": "display_data"
    }
   ],
   "source": [
    "#Plot Daily Time Series for a Turnstile\n",
    "%matplotlib inline\n",
    "import matplotlib.pyplot as plt\n",
    "stile = day_counts.keys()[0]\n",
    "dates, counts = zip(*day_counts[stile])\n",
    "print(stile)\n",
    "plt.figure(figsize=(10,3))\n",
    "plt.plot(dates,counts)\n",
    "plt.ylabel('Daily Entries')\n",
    "plt.xlabel('Date')\n",
    "plt.title('Daily Entries at (N134, R385, 00-00-00, ROCKAWAY BLVD) Turnstile')"
   ]
  },
  {
   "cell_type": "markdown",
   "metadata": {},
   "source": [
    "The generated plot is a solution to Challenge 4."
   ]
  },
  {
   "cell_type": "markdown",
   "metadata": {},
   "source": [
    " **Number 5**"
   ]
  },
  {
   "cell_type": "code",
   "execution_count": 90,
   "metadata": {
    "collapsed": true
   },
   "outputs": [],
   "source": [
    "#Combine turnstiles up to unit granularity\n",
    "from itertools import groupby\n",
    "import numpy as np\n",
    "dayCountsUnit = {}\n",
    "for turnstile, entries in day_counts.items():\n",
    "    key = [turnstile[0], turnstile[1], turnstile[3]]\n",
    "    key = tuple(key)\n",
    "    dayCountsUnit[key]= dayCountsUnit.get(key, []) + entries\n",
    "    dayCountsUnit[key] = sorted(dayCountsUnit[key])\n",
    "    dayCounts = []\n",
    "    for day, group in groupby(dayCountsUnit[key], lambda x: x[0]):\n",
    "        clist = [x[1] for x in group]\n",
    "        dayCounts.append(tuple([day, int(np.sum(np.asarray(clist)))]))\n",
    "    dayCountsUnit[key] = sorted(dayCounts)"
   ]
  },
  {
   "cell_type": "markdown",
   "metadata": {},
   "source": [
    "dayCountsUnit is a solution to Challenge 5."
   ]
  },
  {
   "cell_type": "markdown",
   "metadata": {},
   "source": [
    "**Number 6**"
   ]
  },
  {
   "cell_type": "code",
   "execution_count": 91,
   "metadata": {
    "collapsed": true
   },
   "outputs": [],
   "source": [
    "#Combine units up to station granularity\n",
    "dayCountsStation = {}\n",
    "for unit, entries in dayCountsUnit.items():\n",
    "    key = unit[2]\n",
    "    dayCountsStation[key] = dayCountsStation.get(key, []) + entries\n",
    "    dayCountsStation[key] = sorted(dayCountsStation[key])\n",
    "    dayCounts = []\n",
    "    for day, group in groupby(dayCountsStation[key], lambda x: x[0]):\n",
    "        clist = [x[1] for x in group]\n",
    "        dayCounts.append(tuple([day, int(np.sum(np.asarray(clist)))]))\n",
    "    dayCountsStation[key] = sorted(dayCounts)"
   ]
  },
  {
   "cell_type": "markdown",
   "metadata": {},
   "source": [
    "dayCountsStation is a solution to Challenge 6."
   ]
  },
  {
   "cell_type": "markdown",
   "metadata": {},
   "source": [
    "** Number 7**"
   ]
  },
  {
   "cell_type": "code",
   "execution_count": 92,
   "metadata": {},
   "outputs": [
    {
     "name": "stdout",
     "output_type": "stream",
     "text": [
      "CYPRESS AV\n",
      "(2648, 1890, 4095, 4344, 4316, 4325, 3947)\n"
     ]
    },
    {
     "data": {
      "image/png": "[encoded data removed]",
      "text/plain": [
       "<matplotlib.figure.Figure at 0x11479c1d0>"
      ]
     },
     "metadata": {},
     "output_type": "display_data"
    }
   ],
   "source": [
    "#Plot the time series for a station\n",
    "station1 = dayCountsStation.keys()[0]\n",
    "dates, counts = zip(*dayCountsStation[station1])\n",
    "print(station1)\n",
    "plt.figure(figsize=(10,3))\n",
    "plt.plot(dates,counts)\n",
    "plt.ylabel('Daily Entries')\n",
    "plt.xlabel('Date')\n",
    "plt.title('Daily Entries at CYPRESS AV subway station')\n",
    "print(counts)"
   ]
  },
  {
   "cell_type": "markdown",
   "metadata": {},
   "source": [
    "The generated plot is a solution to Challenge 7."
   ]
  },
  {
   "cell_type": "markdown",
   "metadata": {},
   "source": [
    "**Number 8**"
   ]
  },
  {
   "cell_type": "code",
   "execution_count": 93,
   "metadata": {},
   "outputs": [
    {
     "data": {
      "text/plain": [
       "<matplotlib.legend.Legend at 0x1258e54d0>"
      ]
     },
     "execution_count": 93,
     "metadata": {},
     "output_type": "execute_result"
    },
    {
     "data": {
      "image/png": "[encoded data removed]",
      "text/plain": [
       "<matplotlib.figure.Figure at 0x114d16a50>"
      ]
     },
     "metadata": {},
     "output_type": "display_data"
    }
   ],
   "source": [
    "#1) Make one list of counts for one week for one station, then another, then another, then another.\n",
    "pcounts =[]\n",
    "turnstiles = ['turnstile_170506.txt', 'turnstile_170513.txt', 'turnstile_170520.txt', 'turnstile_170527.txt']\n",
    "labs = ['Week of May 6th', 'Week of May 13th', 'Week of May 20th', 'Week of May 27th']\n",
    "for j in range(4):\n",
    "    with open(turnstiles[j]) as g:\n",
    "        reader = csv.reader(g)\n",
    "        rows = [[cell.strip() for cell in row] for row in reader]\n",
    "    assert rows.pop(0) == ['C/A', 'UNIT', 'SCP', 'STATION', 'LINENAME',\n",
    "                           'DIVISION', 'DATE', 'TIME', 'DESC', 'ENTRIES',\n",
    "                           'EXITS']\n",
    "    raw_readings = {}\n",
    "    for row in rows:\n",
    "        raw_readings.setdefault(tuple(row[:4]), []).append(row[4:])\n",
    "    datetime_cumulative = {turnstile: [(datetime.strptime(date + time,\n",
    "                                                          '%m/%d/%Y%H:%M:%S'),\n",
    "                                        int(in_cumulative))\n",
    "                                       for _, _, date, time,\n",
    "                                           _, in_cumulative, _ in rows]\n",
    "                           for turnstile, rows in raw_readings.items()}\n",
    "\n",
    "    for rows in datetime_cumulative.values():\n",
    "        rows = sorted(rows)\n",
    "    datetime_count_times = {turnstile: [[rows[i][0], # datetime first\n",
    "                                          # delta on entries\n",
    "                                         rows[i+1][1] - rows[i][1],\n",
    "                                         # delta on datetime\n",
    "                                         rows[i+1][0] - rows[i][0]]\n",
    "                                        for i in range(len(rows) - 1)]\n",
    "                            for turnstile, rows in datetime_cumulative.items()}\n",
    "\n",
    "    datetime_counts = {turnstile: [(time, count)\n",
    "                                   for (time, count, _) in rows\n",
    "                                   if 0 <= count <= 5000]\n",
    "                       for turnstile, rows in datetime_count_times.items()}\n",
    "\n",
    "    day_counts = {}\n",
    "    for turnstile, rows in datetime_counts.items():\n",
    "        by_day = {}\n",
    "        for time, count in rows:\n",
    "            day = time.date()\n",
    "            by_day[day] = by_day.get(day, 0) + count\n",
    "        day_counts[turnstile] = sorted(by_day.items())\n",
    "\n",
    "    dayCountsUnit = {}\n",
    "    for turnstile, entries in day_counts.items():\n",
    "        key = [turnstile[0], turnstile[1], turnstile[3]]\n",
    "        key = tuple(key)\n",
    "        dayCountsUnit[key]= dayCountsUnit.get(key, []) + entries\n",
    "        dayCountsUnit[key] = sorted(dayCountsUnit[key])\n",
    "        dayCounts = []\n",
    "        for day, group in groupby(dayCountsUnit[key], lambda x: x[0]):\n",
    "            clist = [x[1] for x in group]\n",
    "            dayCounts.append(tuple([day, int(np.sum(np.asarray(clist)))]))\n",
    "        dayCountsUnit[key] = sorted(dayCounts)\n",
    "    \n",
    "    dayCountsStation = {}\n",
    "    for unit, entries in dayCountsUnit.items():\n",
    "        key = unit[2]\n",
    "        dayCountsStation[key] = dayCountsStation.get(key, []) + entries\n",
    "        dayCountsStation[key] = sorted(dayCountsStation[key])\n",
    "        dayCounts = []\n",
    "        for day, group in groupby(dayCountsStation[key], lambda x: x[0]):\n",
    "            clist = [x[1] for x in group]\n",
    "            dayCounts.append(tuple([day, int(np.sum(np.asarray(clist)))]))\n",
    "        dayCountsStation[key] = sorted(dayCounts)\n",
    "    dates, counts = zip(*dayCountsStation[station1])\n",
    "    pcounts.append(counts[:])\n",
    "#2) Plot Each List\n",
    "for i in range(len(pcounts)):\n",
    "    plt.plot(pcounts[i], label = labs[i])\n",
    "plt.ylabel('Daily Entries')\n",
    "plt.xlabel('Day of the Week (0 is Saturday and 6 is Friday)')\n",
    "plt.title('Entries by Day of the week at CYPRESS AV station over a few weeks in 2017')\n",
    "plt.legend()"
   ]
  },
  {
   "cell_type": "markdown",
   "metadata": {},
   "source": [
    "The generated plot is a solution to Challenge 8."
   ]
  },
  {
   "cell_type": "markdown",
   "metadata": {},
   "source": [
    "**Number 9**"
   ]
  },
  {
   "cell_type": "code",
   "execution_count": 94,
   "metadata": {},
   "outputs": [
    {
     "name": "stdout",
     "output_type": "stream",
     "text": [
      "[('34 ST-PENN STA', 25919463), ('23 ST', 19459676), ('FULTON ST', 16633879), ('GRD CNTRL-42 ST', 11398544), ('86 ST', 9885436), ('34 ST-HERALD SQ', 8954312), ('TIMES SQ-42 ST', 8921640), ('14 ST-UNION SQ', 8643304), ('42 ST-PORT AUTH', 7161987), ('14 ST', 7127951)]\n"
     ]
    }
   ],
   "source": [
    "#1) sum total ridership over each station over several weeks\n",
    "stationRidership = {}\n",
    "turnstiles = ['turnstile_170506.txt', 'turnstile_170513.txt', 'turnstile_170520.txt', 'turnstile_170527.txt']\n",
    "for j in range(4):\n",
    "    with open(turnstiles[j]) as g:\n",
    "        reader = csv.reader(g)\n",
    "        rows = [[cell.strip() for cell in row] for row in reader]\n",
    "    assert rows.pop(0) == ['C/A', 'UNIT', 'SCP', 'STATION', 'LINENAME',\n",
    "                           'DIVISION', 'DATE', 'TIME', 'DESC', 'ENTRIES',\n",
    "                           'EXITS']\n",
    "    raw_readings = {}\n",
    "    for row in rows:\n",
    "        raw_readings.setdefault(tuple(row[:4]), []).append(row[4:])\n",
    "    datetime_cumulative = {turnstile: [(datetime.strptime(date + time,\n",
    "                                                          '%m/%d/%Y%H:%M:%S'),\n",
    "                                        int(in_cumulative))\n",
    "                                       for _, _, date, time,\n",
    "                                           _, in_cumulative, _ in rows]\n",
    "                           for turnstile, rows in raw_readings.items()}\n",
    "\n",
    "    for rows in datetime_cumulative.values():\n",
    "        rows = sorted(rows)\n",
    "    datetime_count_times = {turnstile: [[rows[i][0], # datetime first\n",
    "                                          # delta on entries\n",
    "                                         rows[i+1][1] - rows[i][1],\n",
    "                                         # delta on datetime\n",
    "                                         rows[i+1][0] - rows[i][0]]\n",
    "                                        for i in range(len(rows) - 1)]\n",
    "                            for turnstile, rows in datetime_cumulative.items()}\n",
    "\n",
    "    datetime_counts = {turnstile: [(time, count)\n",
    "                                   for (time, count, _) in rows\n",
    "                                   if 0 <= count <= 5000]\n",
    "                       for turnstile, rows in datetime_count_times.items()}\n",
    "\n",
    "    day_counts = {}\n",
    "    for turnstile, rows in datetime_counts.items():\n",
    "        by_day = {}\n",
    "        for time, count in rows:\n",
    "            day = time.date()\n",
    "            by_day[day] = by_day.get(day, 0) + count\n",
    "        day_counts[turnstile] = sorted(by_day.items())\n",
    "\n",
    "    dayCountsUnit = {}\n",
    "    for turnstile, entries in day_counts.items():\n",
    "        key = [turnstile[0], turnstile[1], turnstile[3]]\n",
    "        key = tuple(key)\n",
    "        dayCountsUnit[key]= dayCountsUnit.get(key, []) + entries\n",
    "        dayCountsUnit[key] = sorted(dayCountsUnit[key])\n",
    "        dayCounts = []\n",
    "        for day, group in groupby(dayCountsUnit[key], lambda x: x[0]):\n",
    "            clist = [x[1] for x in group]\n",
    "            dayCounts.append(tuple([day, int(np.sum(np.asarray(clist)))]))\n",
    "        dayCountsUnit[key] = sorted(dayCounts)\n",
    "    \n",
    "    dayCountsStation = {}\n",
    "    for unit, entries in dayCountsUnit.items():\n",
    "        key = unit[2]\n",
    "        dayCountsStation[key] = dayCountsStation.get(key, []) + entries\n",
    "        dayCountsStation[key] = sorted(dayCountsStation[key])\n",
    "        dayCounts = []\n",
    "        for day, group in groupby(dayCountsStation[key], lambda x: x[0]):\n",
    "            clist = [x[1] for x in group]\n",
    "            dayCounts.append(tuple([day, int(np.sum(np.asarray(clist)))]))\n",
    "        dayCountsStation[key] = sorted(dayCounts)\n",
    "        cumulator = [x[1] for x in dayCounts]\n",
    "        stationRidership[key] = stationRidership.get(key, 0) + np.sum(np.asarray(cumulator))\n",
    "srTd = [x for x in sorted(stationRidership.items(), key = lambda x: x[1], reverse = True)]\n",
    "print srTd[0:10]\n",
    "    "
   ]
  },
  {
   "cell_type": "markdown",
   "metadata": {},
   "source": [
    "srTd is a solution to Challenge 9."
   ]
  },
  {
   "cell_type": "markdown",
   "metadata": {},
   "source": [
    "**Number 10**"
   ]
  },
  {
   "cell_type": "code",
   "execution_count": 96,
   "metadata": {},
   "outputs": [
    {
     "data": {
      "text/plain": [
       "<matplotlib.text.Text at 0x128774ad0>"
      ]
     },
     "execution_count": 96,
     "metadata": {},
     "output_type": "execute_result"
    },
    {
     "data": {
      "image/png": "[encoded data removed]",
      "text/plain": [
       "<matplotlib.figure.Figure at 0x125d0fdd0>"
      ]
     },
     "metadata": {},
     "output_type": "display_data"
    }
   ],
   "source": [
    "#Make a single list of the ridership values and plot it with a histogram\n",
    "ridershipVals = [x[1] for x in srTd]\n",
    "plt.hist(ridershipVals)\n",
    "plt.xlabel('Number of Total Entries at a given station')\n",
    "plt.ylabel('Frequency')\n",
    "plt.title('Histogram of Total Entries at a given station')"
   ]
  },
  {
   "cell_type": "markdown",
   "metadata": {},
   "source": [
    "ridershipVals and the generated plot together comprise a solution to Challenge 10."
   ]
  },
  {
   "cell_type": "markdown",
   "metadata": {},
   "source": [
    "**Additional Hint**"
   ]
  },
  {
   "cell_type": "code",
   "execution_count": 97,
   "metadata": {},
   "outputs": [
    {
     "data": {
      "text/plain": [
       "<matplotlib.text.Text at 0x115fede90>"
      ]
     },
     "execution_count": 97,
     "metadata": {},
     "output_type": "execute_result"
    },
    {
     "data": {
      "image/png": "[encoded data removed]",
      "text/plain": [
       "<matplotlib.figure.Figure at 0x110d6bcd0>"
      ]
     },
     "metadata": {},
     "output_type": "display_data"
    }
   ],
   "source": [
    "#Sort total ridership counts and make a bar graph \n",
    "indices = range(len(srTd))\n",
    "plt.bar(indices, ridershipVals)\n",
    "plt.title('Total Entries at each Station')\n",
    "plt.ylabel('Total Entries')\n",
    "plt.xlabel('Index')"
   ]
  },
  {
   "cell_type": "markdown",
   "metadata": {},
   "source": [
    "The generted plot was inspired by the additional hint."
   ]
  },
  {
   "cell_type": "code",
   "execution_count": null,
   "metadata": {
    "collapsed": true
   },
   "outputs": [],
   "source": []
  }
 ],
 "metadata": {
  "kernelspec": {
   "display_name": "Python 2",
   "language": "python",
   "name": "python2"
  },
  "language_info": {
   "codemirror_mode": {
    "name": "ipython",
    "version": 2
   },
   "file_extension": ".py",
   "mimetype": "text/x-python",
   "name": "python",
   "nbconvert_exporter": "python",
   "pygments_lexer": "ipython2",
   "version": "2.7.13"
  }
 },
 "nbformat": 4,
 "nbformat_minor": 2
}
