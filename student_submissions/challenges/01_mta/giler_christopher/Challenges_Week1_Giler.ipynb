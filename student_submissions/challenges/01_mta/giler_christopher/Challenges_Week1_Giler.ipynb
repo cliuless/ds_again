{
 "cells": [
  {
   "cell_type": "code",
   "execution_count": 17,
   "metadata": {
    "collapsed": true
   },
   "outputs": [],
   "source": [
    "import matplotlib.pyplot as plt\n",
    "%matplotlib inline"
   ]
  },
  {
   "cell_type": "markdown",
   "metadata": {},
   "source": [
    "### Benson Challenges\n",
    "\n",
    "Note: Challenges can be solved using pandas or **python dictionaries**."
   ]
  },
  {
   "cell_type": "markdown",
   "metadata": {},
   "source": [
    "#### Challenge 1   \n",
    "  \n",
    "- Open up a new IPython notebook\n",
    "- Download a few MTA turnstile data files\n",
    "- Open up a file, use csv reader to read it, make a python dict where\n",
    "  there is a key for each (C/A, UNIT, SCP, STATION). These are the\n",
    "  first four columns. The value for this key should be a list of\n",
    "  lists. Each list in the list is the rest of the columns in a\n",
    "  row. For example, one key-value pair should look like\n",
    "\n",
    "\n",
    "{    ('A002','R051','02-00-00','LEXINGTON AVE'):\n",
    "[\n",
    "['NQR456', 'BMT', '01/03/2015', '03:00:00', 'REGULAR', '0004945474', '0001675324'],\n",
    "['NQR456', 'BMT', '01/03/2015', '07:00:00', 'REGULAR', '0004945478', '0001675333'],\n",
    "['NQR456', 'BMT', '01/03/2015', '11:00:00', 'REGULAR', '0004945515', '0001675364'],\n",
    "...\n",
    "]\n",
    "}"
   ]
  },
  {
   "cell_type": "code",
   "execution_count": 1,
   "metadata": {
    "collapsed": true
   },
   "outputs": [],
   "source": [
    "def create_dict(file_name):\n",
    "    import csv\n",
    "    reader = csv.DictReader(open(file_name, 'r'))\n",
    "    dict_list = []\n",
    "    for line in reader:\n",
    "        dict_list.append(line)\n",
    "    for i in range(len(dict_list)):\n",
    "        dict_list[i]['EXITS'] = dict_list[i]['EXITS                                                               ']\n",
    "        del dict_list[i]['EXITS                                                               ']\n",
    "    \n",
    "    my_dict = {}\n",
    "    for item in dict_list:\n",
    "        keys = (item['C/A'], item['UNIT'], item['SCP'], item['STATION'])\n",
    "        values = [item['LINENAME'], item['DIVISION'], item['DATE'], \n",
    "                  item['TIME'], item['DESC'], item['ENTRIES'], item['EXITS']]\n",
    "        values = [i.strip() for i in values]\n",
    "        if keys not in my_dict.keys():\n",
    "            my_dict[keys] = []\n",
    "        my_dict[keys].append(values)\n",
    "    \n",
    "    return my_dict"
   ]
  },
  {
   "cell_type": "code",
   "execution_count": 2,
   "metadata": {},
   "outputs": [
    {
     "name": "stdout",
     "output_type": "stream",
     "text": [
      "  % Total    % Received % Xferd  Average Speed   Time    Time     Time  Current\n",
      "                                 Dload  Upload   Total   Spent    Left  Speed\n",
      "100 24.0M    0 24.0M    0     0  2468k      0 --:--:--  0:00:09 --:--:-- 2390k\n"
     ]
    }
   ],
   "source": [
    "!curl -O http://web.mta.info/developers/data/nyct/turnstile/turnstile_150627.txt\n",
    "mta_data = create_dict('turnstile_150627.txt')"
   ]
  },
  {
   "cell_type": "code",
   "execution_count": 3,
   "metadata": {},
   "outputs": [
    {
     "data": {
      "text/plain": [
       "(('A002', 'R051', '02-00-00', 'LEXINGTON AVE'),\n",
       " [['NQR456',\n",
       "   'BMT',\n",
       "   '06/20/2015',\n",
       "   '00:00:00',\n",
       "   'REGULAR',\n",
       "   '0005192500',\n",
       "   '0001756572'],\n",
       "  ['NQR456',\n",
       "   'BMT',\n",
       "   '06/20/2015',\n",
       "   '04:00:00',\n",
       "   'REGULAR',\n",
       "   '0005192550',\n",
       "   '0001756580'],\n",
       "  ['NQR456',\n",
       "   'BMT',\n",
       "   '06/20/2015',\n",
       "   '08:00:00',\n",
       "   'REGULAR',\n",
       "   '0005192568',\n",
       "   '0001756609'],\n",
       "  ['NQR456',\n",
       "   'BMT',\n",
       "   '06/20/2015',\n",
       "   '12:00:00',\n",
       "   'REGULAR',\n",
       "   '0005192670',\n",
       "   '0001756706'],\n",
       "  ['NQR456',\n",
       "   'BMT',\n",
       "   '06/20/2015',\n",
       "   '16:00:00',\n",
       "   'REGULAR',\n",
       "   '0005192886',\n",
       "   '0001756776'],\n",
       "  ['NQR456',\n",
       "   'BMT',\n",
       "   '06/20/2015',\n",
       "   '20:00:00',\n",
       "   'REGULAR',\n",
       "   '0005193250',\n",
       "   '0001756837'],\n",
       "  ['NQR456',\n",
       "   'BMT',\n",
       "   '06/21/2015',\n",
       "   '00:00:00',\n",
       "   'REGULAR',\n",
       "   '0005193409',\n",
       "   '0001756875'],\n",
       "  ['NQR456',\n",
       "   'BMT',\n",
       "   '06/21/2015',\n",
       "   '04:00:00',\n",
       "   'REGULAR',\n",
       "   '0005193435',\n",
       "   '0001756882'],\n",
       "  ['NQR456',\n",
       "   'BMT',\n",
       "   '06/21/2015',\n",
       "   '08:00:00',\n",
       "   'REGULAR',\n",
       "   '0005193461',\n",
       "   '0001756900'],\n",
       "  ['NQR456',\n",
       "   'BMT',\n",
       "   '06/21/2015',\n",
       "   '12:00:00',\n",
       "   'REGULAR',\n",
       "   '0005193533',\n",
       "   '0001756954'],\n",
       "  ['NQR456',\n",
       "   'BMT',\n",
       "   '06/21/2015',\n",
       "   '16:00:00',\n",
       "   'REGULAR',\n",
       "   '0005193752',\n",
       "   '0001757011'],\n",
       "  ['NQR456',\n",
       "   'BMT',\n",
       "   '06/21/2015',\n",
       "   '20:00:00',\n",
       "   'REGULAR',\n",
       "   '0005193985',\n",
       "   '0001757055'],\n",
       "  ['NQR456',\n",
       "   'BMT',\n",
       "   '06/22/2015',\n",
       "   '00:00:00',\n",
       "   'REGULAR',\n",
       "   '0005194109',\n",
       "   '0001757100'],\n",
       "  ['NQR456',\n",
       "   'BMT',\n",
       "   '06/22/2015',\n",
       "   '04:00:00',\n",
       "   'REGULAR',\n",
       "   '0005194120',\n",
       "   '0001757103'],\n",
       "  ['NQR456',\n",
       "   'BMT',\n",
       "   '06/22/2015',\n",
       "   '08:00:00',\n",
       "   'REGULAR',\n",
       "   '0005194164',\n",
       "   '0001757212'],\n",
       "  ['NQR456',\n",
       "   'BMT',\n",
       "   '06/22/2015',\n",
       "   '12:00:00',\n",
       "   'REGULAR',\n",
       "   '0005194383',\n",
       "   '0001757477'],\n",
       "  ['NQR456',\n",
       "   'BMT',\n",
       "   '06/22/2015',\n",
       "   '16:00:00',\n",
       "   'REGULAR',\n",
       "   '0005194686',\n",
       "   '0001757554'],\n",
       "  ['NQR456',\n",
       "   'BMT',\n",
       "   '06/22/2015',\n",
       "   '20:00:00',\n",
       "   'REGULAR',\n",
       "   '0005195595',\n",
       "   '0001757631'],\n",
       "  ['NQR456',\n",
       "   'BMT',\n",
       "   '06/23/2015',\n",
       "   '00:00:00',\n",
       "   'REGULAR',\n",
       "   '0005195847',\n",
       "   '0001757663'],\n",
       "  ['NQR456',\n",
       "   'BMT',\n",
       "   '06/23/2015',\n",
       "   '04:00:00',\n",
       "   'REGULAR',\n",
       "   '0005195870',\n",
       "   '0001757663'],\n",
       "  ['NQR456',\n",
       "   'BMT',\n",
       "   '06/23/2015',\n",
       "   '07:58:11',\n",
       "   'REGULAR',\n",
       "   '0005195932',\n",
       "   '0001757756'],\n",
       "  ['NQR456',\n",
       "   'BMT',\n",
       "   '06/23/2015',\n",
       "   '08:00:00',\n",
       "   'REGULAR',\n",
       "   '0005195933',\n",
       "   '0001757761'],\n",
       "  ['NQR456',\n",
       "   'BMT',\n",
       "   '06/23/2015',\n",
       "   '12:00:00',\n",
       "   'REGULAR',\n",
       "   '0005196120',\n",
       "   '0001758077'],\n",
       "  ['NQR456',\n",
       "   'BMT',\n",
       "   '06/23/2015',\n",
       "   '16:00:00',\n",
       "   'REGULAR',\n",
       "   '0005196442',\n",
       "   '0001758151'],\n",
       "  ['NQR456',\n",
       "   'BMT',\n",
       "   '06/23/2015',\n",
       "   '20:00:00',\n",
       "   'REGULAR',\n",
       "   '0005197366',\n",
       "   '0001758231'],\n",
       "  ['NQR456',\n",
       "   'BMT',\n",
       "   '06/24/2015',\n",
       "   '00:00:00',\n",
       "   'REGULAR',\n",
       "   '0005197638',\n",
       "   '0001758259'],\n",
       "  ['NQR456',\n",
       "   'BMT',\n",
       "   '06/24/2015',\n",
       "   '04:00:00',\n",
       "   'REGULAR',\n",
       "   '0005197656',\n",
       "   '0001758260'],\n",
       "  ['NQR456',\n",
       "   'BMT',\n",
       "   '06/24/2015',\n",
       "   '08:00:00',\n",
       "   'REGULAR',\n",
       "   '0005197714',\n",
       "   '0001758354'],\n",
       "  ['NQR456',\n",
       "   'BMT',\n",
       "   '06/24/2015',\n",
       "   '12:00:00',\n",
       "   'REGULAR',\n",
       "   '0005197903',\n",
       "   '0001758608'],\n",
       "  ['NQR456',\n",
       "   'BMT',\n",
       "   '06/24/2015',\n",
       "   '16:00:00',\n",
       "   'REGULAR',\n",
       "   '0005198207',\n",
       "   '0001758672'],\n",
       "  ['NQR456',\n",
       "   'BMT',\n",
       "   '06/24/2015',\n",
       "   '20:00:00',\n",
       "   'REGULAR',\n",
       "   '0005199333',\n",
       "   '0001758727'],\n",
       "  ['NQR456',\n",
       "   'BMT',\n",
       "   '06/25/2015',\n",
       "   '00:00:00',\n",
       "   'REGULAR',\n",
       "   '0005199681',\n",
       "   '0001758760'],\n",
       "  ['NQR456',\n",
       "   'BMT',\n",
       "   '06/25/2015',\n",
       "   '04:00:00',\n",
       "   'REGULAR',\n",
       "   '0005199710',\n",
       "   '0001758761'],\n",
       "  ['NQR456',\n",
       "   'BMT',\n",
       "   '06/25/2015',\n",
       "   '08:00:00',\n",
       "   'REGULAR',\n",
       "   '0005199770',\n",
       "   '0001758854'],\n",
       "  ['NQR456',\n",
       "   'BMT',\n",
       "   '06/25/2015',\n",
       "   '12:00:00',\n",
       "   'REGULAR',\n",
       "   '0005200001',\n",
       "   '0001759148'],\n",
       "  ['NQR456',\n",
       "   'BMT',\n",
       "   '06/25/2015',\n",
       "   '16:00:00',\n",
       "   'REGULAR',\n",
       "   '0005200405',\n",
       "   '0001759186'],\n",
       "  ['NQR456',\n",
       "   'BMT',\n",
       "   '06/25/2015',\n",
       "   '20:00:00',\n",
       "   'REGULAR',\n",
       "   '0005201536',\n",
       "   '0001759257'],\n",
       "  ['NQR456',\n",
       "   'BMT',\n",
       "   '06/26/2015',\n",
       "   '00:00:00',\n",
       "   'REGULAR',\n",
       "   '0005201871',\n",
       "   '0001759284'],\n",
       "  ['NQR456',\n",
       "   'BMT',\n",
       "   '06/26/2015',\n",
       "   '04:00:00',\n",
       "   'REGULAR',\n",
       "   '0005201915',\n",
       "   '0001759293'],\n",
       "  ['NQR456',\n",
       "   'BMT',\n",
       "   '06/26/2015',\n",
       "   '08:00:00',\n",
       "   'REGULAR',\n",
       "   '0005201966',\n",
       "   '0001759401'],\n",
       "  ['NQR456',\n",
       "   'BMT',\n",
       "   '06/26/2015',\n",
       "   '12:00:00',\n",
       "   'REGULAR',\n",
       "   '0005202202',\n",
       "   '0001759703'],\n",
       "  ['NQR456',\n",
       "   'BMT',\n",
       "   '06/26/2015',\n",
       "   '16:00:00',\n",
       "   'REGULAR',\n",
       "   '0005202585',\n",
       "   '0001759783'],\n",
       "  ['NQR456',\n",
       "   'BMT',\n",
       "   '06/26/2015',\n",
       "   '20:00:00',\n",
       "   'REGULAR',\n",
       "   '0005203467',\n",
       "   '0001759854']])"
      ]
     },
     "execution_count": 3,
     "metadata": {},
     "output_type": "execute_result"
    }
   ],
   "source": [
    "list(mta_data.items())[0]"
   ]
  },
  {
   "cell_type": "markdown",
   "metadata": {},
   "source": [
    "#### Challenge 2\n",
    "\n",
    "- Let's turn this into a time series.\n",
    "\n",
    " For each key (basically the control area, unit, device address and\n",
    " station of a specific turnstile), have a list again, but let the list\n",
    " be comprised of just the point in time and the count of entries.\n",
    "\n",
    "This basically means keeping only the date, time, and entries fields\n",
    "in each list. You can convert the date and time into datetime objects\n",
    "-- That is a python class that represents a point in time. You can\n",
    "combine the date and time fields into a string and use the\n",
    "[dateutil](https://labix.org/python-dateutil) module to convert it\n",
    "into a datetime object. For an example check\n",
    "[this StackOverflow question](http://stackoverflow.com/questions/23385003/attributeerror-when-using-import-dateutil-and-dateutil-parser-parse-but-no).\n",
    "\n",
    "Your new dict should look something like\n",
    "\n",
    "{    ('A002','R051','02-00-00','LEXINGTON AVE'):\n",
    "[\n",
    "[datetime.datetime(2013, 3, 2, 3, 0), 3788],\n",
    "[datetime.datetime(2013, 3, 2, 7, 0), 2585],\n",
    "[datetime.datetime(2013, 3, 2, 12, 0), 10653],\n",
    "[datetime.datetime(2013, 3, 2, 17, 0), 11016],\n",
    "[datetime.datetime(2013, 3, 2, 23, 0), 10666],\n",
    "[datetime.datetime(2013, 3, 3, 3, 0), 10814],\n",
    "[datetime.datetime(2013, 3, 3, 7, 0), 10229],\n",
    "...\n",
    "],\n",
    "....\n",
    "}"
   ]
  },
  {
   "cell_type": "code",
   "execution_count": 4,
   "metadata": {
    "collapsed": true
   },
   "outputs": [],
   "source": [
    "def convert_datetime(my_dict):\n",
    "    import datetime as dt\n",
    "    for key in my_dict.keys():\n",
    "        for i in range(len(my_dict[key])):\n",
    "            date_str = my_dict[key][i][2] + ' ' + my_dict[key][i][3]\n",
    "            my_dict[key][i] = [dt.datetime.strptime(date_str, '%m/%d/%Y %H:%M:%S'), int(my_dict[key][i][5])]\n",
    "            \n",
    "    for rows in my_dict.values():\n",
    "        assert rows == sorted(rows)\n",
    "\n",
    "    for turnstile, rows in my_dict.items():\n",
    "        for i in range(len(rows)-1):\n",
    "            my_dict[turnstile][i] = (rows[i][0], rows[i+1][1] - rows[i][1], rows[i+1][0] - rows[i][0])\n",
    "            my_dict[turnstile][i] = my_dict[turnstile][i][:2]\n",
    "        del my_dict[turnstile][-1]\n",
    "\n",
    "            \n",
    "    return my_dict"
   ]
  },
  {
   "cell_type": "code",
   "execution_count": 5,
   "metadata": {
    "collapsed": true
   },
   "outputs": [],
   "source": [
    "mta_datetime = convert_datetime(mta_data)"
   ]
  },
  {
   "cell_type": "code",
   "execution_count": 6,
   "metadata": {
    "scrolled": true
   },
   "outputs": [
    {
     "data": {
      "text/plain": [
       "(('A002', 'R051', '02-00-00', 'LEXINGTON AVE'),\n",
       " [(datetime.datetime(2015, 6, 20, 0, 0), 50),\n",
       "  (datetime.datetime(2015, 6, 20, 4, 0), 18),\n",
       "  (datetime.datetime(2015, 6, 20, 8, 0), 102),\n",
       "  (datetime.datetime(2015, 6, 20, 12, 0), 216),\n",
       "  (datetime.datetime(2015, 6, 20, 16, 0), 364),\n",
       "  (datetime.datetime(2015, 6, 20, 20, 0), 159),\n",
       "  (datetime.datetime(2015, 6, 21, 0, 0), 26),\n",
       "  (datetime.datetime(2015, 6, 21, 4, 0), 26),\n",
       "  (datetime.datetime(2015, 6, 21, 8, 0), 72),\n",
       "  (datetime.datetime(2015, 6, 21, 12, 0), 219),\n",
       "  (datetime.datetime(2015, 6, 21, 16, 0), 233),\n",
       "  (datetime.datetime(2015, 6, 21, 20, 0), 124),\n",
       "  (datetime.datetime(2015, 6, 22, 0, 0), 11),\n",
       "  (datetime.datetime(2015, 6, 22, 4, 0), 44),\n",
       "  (datetime.datetime(2015, 6, 22, 8, 0), 219),\n",
       "  (datetime.datetime(2015, 6, 22, 12, 0), 303),\n",
       "  (datetime.datetime(2015, 6, 22, 16, 0), 909),\n",
       "  (datetime.datetime(2015, 6, 22, 20, 0), 252),\n",
       "  (datetime.datetime(2015, 6, 23, 0, 0), 23),\n",
       "  (datetime.datetime(2015, 6, 23, 4, 0), 62),\n",
       "  (datetime.datetime(2015, 6, 23, 7, 58, 11), 1),\n",
       "  (datetime.datetime(2015, 6, 23, 8, 0), 187),\n",
       "  (datetime.datetime(2015, 6, 23, 12, 0), 322),\n",
       "  (datetime.datetime(2015, 6, 23, 16, 0), 924),\n",
       "  (datetime.datetime(2015, 6, 23, 20, 0), 272),\n",
       "  (datetime.datetime(2015, 6, 24, 0, 0), 18),\n",
       "  (datetime.datetime(2015, 6, 24, 4, 0), 58),\n",
       "  (datetime.datetime(2015, 6, 24, 8, 0), 189),\n",
       "  (datetime.datetime(2015, 6, 24, 12, 0), 304),\n",
       "  (datetime.datetime(2015, 6, 24, 16, 0), 1126),\n",
       "  (datetime.datetime(2015, 6, 24, 20, 0), 348),\n",
       "  (datetime.datetime(2015, 6, 25, 0, 0), 29),\n",
       "  (datetime.datetime(2015, 6, 25, 4, 0), 60),\n",
       "  (datetime.datetime(2015, 6, 25, 8, 0), 231),\n",
       "  (datetime.datetime(2015, 6, 25, 12, 0), 404),\n",
       "  (datetime.datetime(2015, 6, 25, 16, 0), 1131),\n",
       "  (datetime.datetime(2015, 6, 25, 20, 0), 335),\n",
       "  (datetime.datetime(2015, 6, 26, 0, 0), 44),\n",
       "  (datetime.datetime(2015, 6, 26, 4, 0), 51),\n",
       "  (datetime.datetime(2015, 6, 26, 8, 0), 236),\n",
       "  (datetime.datetime(2015, 6, 26, 12, 0), 383),\n",
       "  (datetime.datetime(2015, 6, 26, 16, 0), 882)])"
      ]
     },
     "execution_count": 6,
     "metadata": {},
     "output_type": "execute_result"
    }
   ],
   "source": [
    "# Print example\n",
    "list(mta_datetime.items())[0]"
   ]
  },
  {
   "cell_type": "code",
   "execution_count": null,
   "metadata": {
    "collapsed": true
   },
   "outputs": [],
   "source": []
  },
  {
   "cell_type": "code",
   "execution_count": null,
   "metadata": {
    "collapsed": true
   },
   "outputs": [],
   "source": []
  },
  {
   "cell_type": "markdown",
   "metadata": {},
   "source": [
    "#### Challenge 3\n",
    "\n",
    "- These counts are for every n hours. (What is n?) We want total daily\n",
    "  entries.\n",
    "\n",
    "> **n = 4 hours**\n",
    "\n",
    "Now make it that we again have the same keys, but now we have a single\n",
    "value for a single day, which is the total number of passengers that\n",
    "entered through this turnstile on this day."
   ]
  },
  {
   "cell_type": "code",
   "execution_count": 7,
   "metadata": {
    "collapsed": true
   },
   "outputs": [],
   "source": [
    "def count_daily(my_dict):\n",
    "    # sort by date\n",
    "    day_counts = {}\n",
    "        \n",
    "    for turnstile, rows in my_dict.items():\n",
    "        by_day = {}\n",
    "        for (time, count) in rows:\n",
    "            day = time.date()\n",
    "            by_day[day] = by_day.get(day, 0) + count\n",
    "        day_counts[turnstile] = sorted(by_day.items())\n",
    "        \n",
    "    return day_counts"
   ]
  },
  {
   "cell_type": "code",
   "execution_count": 8,
   "metadata": {
    "collapsed": true
   },
   "outputs": [],
   "source": [
    "day_counts = count_daily(mta_datetime)"
   ]
  },
  {
   "cell_type": "code",
   "execution_count": 9,
   "metadata": {},
   "outputs": [
    {
     "data": {
      "text/plain": [
       "(('A002', 'R051', '02-00-00', 'LEXINGTON AVE'),\n",
       " [(datetime.date(2015, 6, 20), 909),\n",
       "  (datetime.date(2015, 6, 21), 700),\n",
       "  (datetime.date(2015, 6, 22), 1738),\n",
       "  (datetime.date(2015, 6, 23), 1791),\n",
       "  (datetime.date(2015, 6, 24), 2043),\n",
       "  (datetime.date(2015, 6, 25), 2190),\n",
       "  (datetime.date(2015, 6, 26), 1596)])"
      ]
     },
     "execution_count": 9,
     "metadata": {},
     "output_type": "execute_result"
    }
   ],
   "source": [
    "list(day_counts.items())[0]"
   ]
  },
  {
   "cell_type": "code",
   "execution_count": 10,
   "metadata": {},
   "outputs": [
    {
     "data": {
      "text/plain": [
       "[(datetime.date(2015, 6, 20), 271),\n",
       " (datetime.date(2015, 6, 21), 201),\n",
       " (datetime.date(2015, 6, 22), 561),\n",
       " (datetime.date(2015, 6, 23), 543),\n",
       " (datetime.date(2015, 6, 24), 555),\n",
       " (datetime.date(2015, 6, 25), 556),\n",
       " (datetime.date(2015, 6, 26), 543)]"
      ]
     },
     "execution_count": 10,
     "metadata": {},
     "output_type": "execute_result"
    }
   ],
   "source": [
    "list(day_counts['N135', 'R385', '01-03-00', 'ROCKAWAY BLVD'])"
   ]
  },
  {
   "cell_type": "markdown",
   "metadata": {},
   "source": [
    "#### Challenge 4\n",
    "\n",
    "We will plot the daily time series for a turnstile.\n",
    "\n",
    "In ipython notebook, add this to the beginning of your next cell:\n",
    "\n",
    "    %matplotlib inline\n",
    "\n",
    "This will make your matplotlib graphs integrate nicely with the\n",
    "notebook. To plot the time series, import matplotlib with\n",
    "\n",
    "    import matplotlib.pyplot as plt\n",
    "\n",
    "Take the list of [(date1, count1), (date2, count2), ...], for the\n",
    "turnstile and turn it into two lists:\n",
    "dates and counts. This should plot it:\n",
    "\n",
    "    plt.figure(figsize=(10,3))\n",
    "    plt.plot(dates,counts)"
   ]
  },
  {
   "cell_type": "code",
   "execution_count": 11,
   "metadata": {
    "collapsed": true
   },
   "outputs": [],
   "source": [
    "def plot_single_turnstile(daily_counts, turnstile_name):\n",
    "    import matplotlib.pyplot as plt\n",
    "    %matplotlib inline\n",
    "    \n",
    "    dates, counts = [], []\n",
    "    for d, c in daily_counts[turnstile_name]:\n",
    "        dates.append(d)\n",
    "        counts.append(c)\n",
    "    \n",
    "    plt.figure(figsize=(10,3))\n",
    "    plt.plot(dates, counts)"
   ]
  },
  {
   "cell_type": "code",
   "execution_count": 12,
   "metadata": {},
   "outputs": [
    {
     "data": {
      "text/plain": [
       "('A002', 'R051', '02-00-00', 'LEXINGTON AVE')"
      ]
     },
     "execution_count": 12,
     "metadata": {},
     "output_type": "execute_result"
    }
   ],
   "source": [
    "# Plot for a single turnstile\n",
    "turnstile_name = list(day_counts.items())[0][0]\n",
    "turnstile_name"
   ]
  },
  {
   "cell_type": "code",
   "execution_count": 18,
   "metadata": {},
   "outputs": [
    {
     "data": {
      "text/plain": [
       "<matplotlib.text.Text at 0x10705e2e8>"
      ]
     },
     "execution_count": 18,
     "metadata": {},
     "output_type": "execute_result"
    },
    {
     "data": {
      "image/png": "[encoded data removed]",
      "text/plain": [
       "<matplotlib.figure.Figure at 0x106a21470>"
      ]
     },
     "metadata": {},
     "output_type": "display_data"
    }
   ],
   "source": [
    "plot_single_turnstile(day_counts, turnstile_name)\n",
    "plt.title(turnstile_name)"
   ]
  },
  {
   "cell_type": "markdown",
   "metadata": {},
   "source": [
    "#### Challenge 5\n",
    "\n",
    "- So far we've been operating on a single turnstile level, let's\n",
    "  combine turnstiles in the same ControlArea/Unit/Station combo. There\n",
    "  are some ControlArea/Unit/Station groups that have a single\n",
    "  turnstile, but most have multiple turnstilea-- same value for the\n",
    "  C/A, UNIT and STATION columns, different values for the SCP column.\n",
    "\n",
    "We want to combine the numbers together -- for each\n",
    "ControlArea/UNIT/STATION combo, for each day, add the counts from each\n",
    "turnstile belonging to that combo."
   ]
  },
  {
   "cell_type": "code",
   "execution_count": 14,
   "metadata": {
    "collapsed": true
   },
   "outputs": [],
   "source": [
    "def station_combo_count(daily_counts):\n",
    "    combo_counts = {}\n",
    "    for (controlarea, unit, scp, station), rows in daily_counts.items():\n",
    "        combo_key = (controlarea, unit, station)\n",
    "        by_combo_key = combo_counts.get(combo_key, {})\n",
    "    #     print(combo_key)\n",
    "        for i in range(len(rows)):\n",
    "            time = rows[i][0]\n",
    "            count = rows[i][1]\n",
    "            by_combo_key[time] = by_combo_key.get(time, 0) + count\n",
    "            combo_counts[combo_key] = by_combo_key\n",
    "    #         combo_counts.get()\n",
    "    for key, value in combo_counts.items():\n",
    "        combo_counts[key] = sorted(value.items())\n",
    "        \n",
    "    return combo_counts"
   ]
  },
  {
   "cell_type": "code",
   "execution_count": 15,
   "metadata": {
    "collapsed": true
   },
   "outputs": [],
   "source": [
    "station_combos = station_combo_count(day_counts)"
   ]
  },
  {
   "cell_type": "code",
   "execution_count": 19,
   "metadata": {},
   "outputs": [
    {
     "data": {
      "text/plain": [
       "<matplotlib.text.Text at 0x10717cc50>"
      ]
     },
     "execution_count": 19,
     "metadata": {},
     "output_type": "execute_result"
    },
    {
     "data": {
      "image/png": "[encoded data removed]",
      "text/plain": [
       "<matplotlib.figure.Figure at 0x10076c9e8>"
      ]
     },
     "metadata": {},
     "output_type": "display_data"
    }
   ],
   "source": [
    "# Plot for a single turnstile\n",
    "combo_name = list(day_counts.items())[0][0]\n",
    "combo_name = (combo_name[:2]) + (combo_name[-1],)\n",
    "combo_name\n",
    "plot_single_turnstile(station_combos, combo_name)\n",
    "plt.title(combo_name)"
   ]
  },
  {
   "cell_type": "markdown",
   "metadata": {},
   "source": [
    "#### Challenge 6\n",
    "\n",
    "Similarly, combine everything in each station, and come up with a time\n",
    "series of `[(date1, count1),(date2,count2),...]` type of time series\n",
    "for each STATION, by adding up all the turnstiles in a station."
   ]
  },
  {
   "cell_type": "code",
   "execution_count": 20,
   "metadata": {
    "collapsed": true
   },
   "outputs": [],
   "source": [
    "def station_count(combo_counts):\n",
    "    station_counts = {}\n",
    "    for (controlarea, unit, station), rows in combo_counts.items():\n",
    "        station_key = station\n",
    "        by_station_key = station_counts.get(station_key, {})\n",
    "    #     print(combo_key)\n",
    "        for i in range(len(rows)):\n",
    "            time = rows[i][0]\n",
    "            count = rows[i][1]\n",
    "            by_station_key[time] = by_station_key.get(time, 0) + count\n",
    "            station_counts[station_key] = by_station_key\n",
    "    #         combo_counts.get()\n",
    "    for key, value in station_counts.items():\n",
    "        station_counts[key] = sorted(value.items())\n",
    "        \n",
    "    return station_counts"
   ]
  },
  {
   "cell_type": "code",
   "execution_count": 21,
   "metadata": {
    "collapsed": true
   },
   "outputs": [],
   "source": [
    "stations = station_count(station_combos)"
   ]
  },
  {
   "cell_type": "markdown",
   "metadata": {},
   "source": [
    "#### Challenge 7\n",
    "\n",
    "Plot the time series for a station."
   ]
  },
  {
   "cell_type": "code",
   "execution_count": 22,
   "metadata": {
    "collapsed": true
   },
   "outputs": [],
   "source": [
    "# Plot for a single turnstile\n",
    "station_name = list(stations.items())[0][0]\n",
    "station_name = '34 ST-PENN STA'"
   ]
  },
  {
   "cell_type": "code",
   "execution_count": 23,
   "metadata": {},
   "outputs": [
    {
     "data": {
      "text/plain": [
       "<matplotlib.text.Text at 0x107509710>"
      ]
     },
     "execution_count": 23,
     "metadata": {},
     "output_type": "execute_result"
    },
    {
     "data": {
      "image/png": "[encoded data removed]",
      "text/plain": [
       "<matplotlib.figure.Figure at 0x106feb1d0>"
      ]
     },
     "metadata": {},
     "output_type": "display_data"
    }
   ],
   "source": [
    "plot_single_turnstile(stations, station_name)\n",
    "plt.title(station_name)"
   ]
  },
  {
   "cell_type": "markdown",
   "metadata": {},
   "source": [
    "#### Challenge 8\n",
    "\n",
    "- Make one list of counts for **one** week for one station. Monday's\n",
    "count, Tuesday's count, etc. so it's a list of 7 counts.\n",
    "Make the same list for another week, and another week, and another\n",
    "week.\n",
    "`plt.plot(week_count_list)` for every `week_count_list` you created\n",
    "this way. You should get a rainbow plot of weekly commute numbers on\n",
    "top of each other."
   ]
  },
  {
   "cell_type": "code",
   "execution_count": 30,
   "metadata": {
    "collapsed": true
   },
   "outputs": [],
   "source": [
    "def plot_week(file_names, station_name):\n",
    "    import matplotlib.pyplot as plt\n",
    "    %matplotlib inline\n",
    "    \n",
    "    plt.figure(figsize=(10,3))\n",
    "    for fn in file_names:\n",
    "        print(\"Working with '\" + fn + \"'\")\n",
    "        base_dict = create_dict(fn)\n",
    "        datetime_dict = convert_datetime(base_dict)\n",
    "        day_counts = count_daily(datetime_dict)\n",
    "        station_combos = station_combo_count(day_counts)\n",
    "        stations = station_count(station_combos)\n",
    "        weekly_data = []\n",
    "        for date, item in sorted(stations[station_name]):\n",
    "            weekly_data.append(item)\n",
    "        plt.plot(weekly_data, label=fn)\n",
    "\n",
    "    plt.legend()\n",
    "    plt.title(station_name)\n",
    "    plt.show()"
   ]
  },
  {
   "cell_type": "code",
   "execution_count": 31,
   "metadata": {},
   "outputs": [],
   "source": [
    "!curl -O http://web.mta.info/developers/data/nyct/turnstile/turnstile_150704.txt\n",
    "!curl -O http://web.mta.info/developers/data/nyct/turnstile/turnstile_150711.txt\n",
    "files = ['turnstile_150627.txt', 'turnstile_150704.txt', 'turnstile_150711.txt']\n",
    "station_name = '34 ST-PENN STA'"
   ]
  },
  {
   "cell_type": "code",
   "execution_count": 32,
   "metadata": {},
   "outputs": [
    {
     "name": "stdout",
     "output_type": "stream",
     "text": [
      "Working with 'turnstile_150627.txt'\n",
      "Working with 'turnstile_150704.txt'\n",
      "Working with 'turnstile_150711.txt'\n"
     ]
    },
    {
     "data": {
      "image/png": "[encoded data removed]",
      "text/plain": [
       "<matplotlib.figure.Figure at 0x107304a58>"
      ]
     },
     "metadata": {},
     "output_type": "display_data"
    }
   ],
   "source": [
    "plot_week(files, station_name)"
   ]
  },
  {
   "cell_type": "code",
   "execution_count": null,
   "metadata": {},
   "outputs": [],
   "source": []
  },
  {
   "cell_type": "markdown",
   "metadata": {},
   "source": [
    "#### Challenge 9\n",
    "\n",
    "- Over multiple weeks, sum total ridership for each station and sort\n",
    "  them, so you can find out the stations with the highest traffic\n",
    "  during the time you investigate"
   ]
  },
  {
   "cell_type": "code",
   "execution_count": 33,
   "metadata": {},
   "outputs": [
    {
     "name": "stdout",
     "output_type": "stream",
     "text": [
      "Working with 'turnstile_150627.txt'\n",
      "Working with 'turnstile_150704.txt'\n",
      "Working with 'turnstile_150711.txt'\n"
     ]
    }
   ],
   "source": [
    "sum_total_ridership = {}\n",
    "\n",
    "for fn in files:\n",
    "    print(\"Working with '\" + fn + \"'\")\n",
    "    base_dict = create_dict(fn)\n",
    "    datetime_dict = convert_datetime(base_dict)\n",
    "    day_counts = count_daily(datetime_dict)\n",
    "    station_combos = station_combo_count(day_counts)\n",
    "    stations = station_count(station_combos)\n",
    "    for station, rows in stations.items():\n",
    "        if station in sum_total_ridership.keys():\n",
    "            sum_total_ridership[station] += sum([count for date, count in rows])\n",
    "        else:\n",
    "            sum_total_ridership[station] = sum([count for date, count in rows])"
   ]
  },
  {
   "cell_type": "code",
   "execution_count": 34,
   "metadata": {
    "collapsed": true
   },
   "outputs": [],
   "source": [
    "sum_total_ridership = sorted(sum_total_ridership.items(), key=lambda x: x[1], reverse=True)"
   ]
  },
  {
   "cell_type": "code",
   "execution_count": 35,
   "metadata": {},
   "outputs": [
    {
     "name": "stdout",
     "output_type": "stream",
     "text": [
      "[('34 ST-PENN STA', 3102337), ('42 ST-GRD CNTRL', 2671217), ('34 ST-HERALD SQ', 2071774), ('14 ST-UNION SQ', 1958353), ('42 ST-TIMES SQ', 1821131), ('42 ST-PA BUS TE', 1549506), ('96 ST', 1363345), ('CANAL ST', 1359310), ('FULTON ST', 1281180), ('125 ST', 1238391), ('CHAMBERS ST', 1182871), ('23 ST', 1134665), ('59 ST', 1112225), ('MAIN ST', 1091614), ('47-50 ST-ROCK', 974723), ('ROOSEVELT AVE', 905900), ('50 ST', 862181), ('WALL ST', 828637), ('PATH WTC', 804210), ('BARCLAYS CENTER', 739978), ('8 AVE', 738569), ('W 4 ST-WASH SQ', 736105), ('JAMAICA CENTER', 715341), ('77 ST', 707527), ('14 ST', 701697), ('PELHAM PARKWAY', 698120), ('LEXINGTON-53 ST', 683178), ('145 ST', 681134), ('CHURCH AVE', 681102), ('JAY ST-METROTEC', 676150), ('42 ST-BRYANT PK', 675981), ('28 ST', 666643), ('BOROUGH HALL/CT', 632889), ('BOWLING GREEN', 574506), ('MYRTLE AVE', 557542), ('33 ST', 545952), ('GRAND ST', 545534), ('SUTPHIN BLVD', 537109), ('68ST-HUNTER COL', 531304), ('CROWN HTS-UTICA', 506945), ('DEKALB AVE', 505049), ('161 ST-YANKEE', 501857), ('FOREST HILLS-71', 492622), ('BEDFORD AVE', 487798), ('KINGS HIGHWAY', 487721), ('WOODHAVEN BLVD', 486282), ('UNION TPK-KEW G', 466124), ('103 ST', 458049), ('49 ST-7 AVE', 442366), ('LEXINGTON AVE', 438072), ('168 ST-BROADWAY', 437991), ('FORDHAM ROAD', 437915), ('1 AVE', 436278), ('5 AVE-53 ST', 435252), ('SPRING ST', 434618), ('23 ST-5 AVE', 428449), ('STILLWELL AVE', 427500), ('BROADWAY/LAFAY', 414936), ('79 ST', 413976), ('181 ST', 410334), ('66 ST-LINCOLN', 405578), ('23 ST-6 AVE', 398133), ('NOSTRAND AVE', 397983), ('JUNCTION BLVD', 397017), ('51 ST', 388114), ('JAMAICA-179 ST', 376742), ('135 ST', 363356), ('167 ST', 356895), ('5 AVE-59 ST', 353853), ('PAVONIA/NEWPORT', 332749), ('14 ST-6 AVE', 322766), ('61 ST/WOODSIDE', 315028), ('GROVE STREET', 313766), ('90 ST-ELMHURST', 307461), ('36 ST', 306464), ('KINGSBRIDGE RD', 305256), ('FLATBUSH AVE', 304413), ('7 AVE-53 ST', 300561), (\"8 ST-B'WAY NYU\", 300459), ('DITMARS BL-31 S', 300317), (\"PRINCE ST-B'WAY\", 300104), ('ASTOR PLACE', 299320), ('BROOKLYN BRIDGE', 293093), ('63 DR-REGO PARK', 292305), ('18 AVE', 292156), ('170 ST', 292019), ('WHITEHALL ST', 291416), ('FT HAMILTON PKY', 289029), ('CHRISTOPHER ST', 287511), ('UTICA AVE', 285247), ('RECTOR ST', 285169), ('E 177 ST-PARKCH', 284942), ('149 ST-3 AVE', 281966), ('81 ST-MUSEUM', 278388), ('WORLD TRADE CTR', 278105), ('2 AVE', 277290), ('BLEECKER ST', 274139), ('STEINWAY ST', 265078), ('GRAND AV-NEWTON', 265035), ('CITY / BUS', 262909), ('BERGEN ST', 261533), ('GRAND-30 AVE', 260419), ('46 ST-BLISS ST', 259903), ('SOUTH FERRY', 259121), ('57 ST-7 AVE', 258259), ('VERNON/JACKSON', 257431), ('HALSEY ST', 257198), ('NEWARK BM BW', 256840), ('57 ST', 255377), ('METROPOLITAN AV', 254763), ('EAST BROADWAY', 254563), ('110 ST', 252679), ('116 ST-COLUMBIA', 251924), ('111 ST', 248398), ('HOUSTON ST', 247588), ('ELMHURST AVE', 246835), ('137 ST-CITY COL', 244098), ('DELANCEY ST', 241832), ('SHEEPSHEAD BAY', 241761), ('175 ST', 241643), ('AVE U', 237641), ('110 ST-CATHEDRL', 236082), ('BROADWAY-31 ST', 235030), ('BRIGHTON BEACH', 234195), ('ST. GEORGE', 233113), ('COURT SQ', 228228), ('ROCKAWAY PKY', 227970), ('HOYT ST-ASTORIA', 226593), ('28 ST-BROADWAY', 225801), ('149 ST-GR CONC', 222561), ('MARCY AVE', 220513), ('GUN HILL ROAD', 220425), ('BEDFORD PARK BL', 217126), ('FRANKLIN AVE', 215103), ('NEW LOTS AVE', 213592), ('5 AVE-BRYANT PK', 211361), ('FLUSHING AVE', 210957), ('SUTTER AVE', 210312), ('PROSPECT AVE', 208031), ('7 AV-PARK SLOPE', 203286), ('157 ST', 203162), ('QUEENSBORO PLZ', 202105), ('LORIMER ST', 196592), ('CARROLL ST', 191855), ('BURNSIDE AVE', 191535), ('NEWKIRK PLAZA', 191333), ('HUNTS POINT AVE', 188954), ('PROSPECT PARK', 186935), ('40 ST-LOWERY ST', 186565), ('NEVINS ST', 182061), ('GRAHAM AVE', 180186), ('EXCHANGE PLACE', 179603), ('33 ST/RAWSON ST', 177771), ('THIRTY ST', 177334), ('110 ST-CPN', 177245), ('TREMONT AVE', 174011), ('HOYT/SCHERMER', 173035), ('231 ST', 172126), ('QUEENS PLAZA', 171294), ('BROADWAY-ENY', 170279), ('HIGH ST', 167052), ('CORTLANDT ST', 166633), ('INWOOD-207 ST', 166597), ('14TH STREET', 166018), ('46 ST', 163215), ('7 AVE', 161739), ('9 ST', 160898), ('NASSAU AV', 159668), ('YORK ST', 159371), ('GREENPOINT AVE', 159228), ('MOSHOLU PARKWAY', 156320), ('21 ST', 155690), ('20 AVE', 155595), ('67 AVE', 153390), ('169 ST', 151274), ('SIMPSON ST', 151241), ('NORWOOD-205 ST', 151090), ('SARATOGA AVE', 148109), ('191 ST', 146685), ('18 ST', 146218), ('BEDFORD/NOSTRAN', 146207), ('TWENTY THIRD ST', 143950), ('JEFFERSON ST', 143841), ('ESSEX ST', 143570), ('WOODLAWN ROAD', 141527), ('COURT SQ-23 ST', 141196), ('EUCLID AVE', 140674), ('MORGAN AVE', 138687), ('BAY RIDGE AVE', 137675), ('HARRISON', 137472), ('NEWKIRK AVE', 137094), ('138 ST-3 AVE', 136503), ('BAY PARKWAY', 135134), ('PELHAM BAY PARK', 134534), ('CATHEDRL-110 ST', 132475), ('E 180 ST', 131153), ('LACKAWANNA', 130935), ('WASHINGTON-36 A', 130688), ('DYCKMAN ST', 130567), ('3 AVE', 129903), ('MONTROSE AVE', 129507), ('242 ST', 129430), ('53 ST', 129136), ('GRAND ARMY PLAZ', 128872), ('BAY PKY-22 AVE', 128838), ('LEFFERTS BLVD', 128181), ('NORTHERN BLVD', 127541), ('45 ST', 126201), ('E TREMONT AVE', 126003), ('DYCKMAN-200 ST', 124331), ('HOYT ST', 124123), ('WINTHROP ST', 123703), ('52 ST-LINCOLN', 121855), ('PENNSYLVANIA AV', 120465), ('GRANT AVE', 119887), ('207 ST', 118868), ('MORRISON AVE', 118510), ('CASTLE HILL AVE', 117835), ('155 ST', 117325), ('CLINTON-WASH AV', 116979), ('ELDER AVE', 115958), ('CLARK ST', 114676), ('183 ST', 113874), ('PARSONS BLVD', 113086), ('6 AVE', 111518), ('15 ST-PROSPECT', 111367), ('CORTELYOU ROAD', 111233), ('VAN SICLEN AVE', 110940), ('176 ST', 109976), ('BROOK AVE', 109200), ('METS-WILLETS PT', 108835), ('WESTCHESTER SQ', 108010), ('KINGSTON-THROOP', 107775), ('NEW UTRECHT AVE', 106002), ('MARBLE HILL-225', 105798), ('HUNTERS PT AVE', 105492), ('BAY RIDGE-95 ST', 105296), ('MYRTLE-WILLOUGH', 104844), ('CITY HALL', 104102), ('MT EDEN AVE', 103988), ('RALPH AVE', 103802), ('BROAD ST', 103540), ('PARKSIDE AVE', 101966), ('FRESH POND ROAD', 101831), ('ALLERTON AVE', 101094), ('9 AVE', 100826), ('STERLING ST', 100748), ('FRANKLIN ST', 99243), ('AVE J', 99138), ('233 ST', 97263), ('HUDSON-80 ST', 96793), ('WAKEFIELD-241', 96472), ('PARK PLACE', 95452), ('ROCKAWAY AVE', 95338), ('THIRTY THIRD ST', 93630), ('174-175 ST', 93407), ('69 ST-FISK AVE', 91860), ('FAR ROCKAWAY', 91342), ('SMITH-9 ST', 90948), ('CRESCENT ST', 90236), ('182-183 ST', 89962), ('9TH STREET', 89795), ('JAMAICA-VAN WYC', 89749), ('ROOSEVELT IS', 89626), ('KOSCIUSZKO ST', 88831), ('LAFAYETTE AVE', 88326), ('RIT-MANHATTAN', 87017), ('CLASSON AVE', 86879), ('KINGSTON AVE', 86101), ('AVE M', 85287), ('190 ST', 84781), ('71 ST', 84018), ('E 149 ST', 83179), ('JACKSON AVE', 82645), ('25 AVE', 82097), ('EASTERN PKWY', 81544), ('NEWARK HW BMEBE', 81511), ('WILSON AVE', 81293), ('NEWARK C', 79942), ('BEVERLY ROAD', 78566), ('163 ST-AMSTERDM', 78523), ('225 ST', 77326), ('ST LAWRENCE AVE', 75882), ('RIT-ROOSEVELT', 75146), ('NECK ROAD', 74183), ('DYRE AVE', 74046), ('174 ST', 73927), ('JFK JAMAICA CT1', 73758), ('FREEMAN ST', 73379), ('238 ST', 73242), ('BROADWAY', 72786), ('4 AVE', 71826), ('FOREST AVE', 71741), ('FOREST PARKWAY', 69874), ('148 ST-LENOX', 69547), ('KNICKERBOCKER', 68375), ('CYPRESS AVE', 68182), ('EAST 105 ST', 67705), ('65 ST', 67464), ('25 ST', 65788), ('W 8 ST-AQUARIUM', 65514), ('75 AVE', 64053), ('NORWOOD AVE', 63848), ('74 ST-BROADWAY', 63664), ('LONGWOOD AVE', 63287), ('NEREID AVE', 63229), ('PRESIDENT ST', 62471), ('BURKE AVE', 62312), ('ELDERTS LANE', 61840), ('219 ST', 61362), ('CLEVELAND ST', 60919), ('BOWERY', 60698), ('BEEBE-39 AVE', 60314), ('138 ST-GR CONC', 59620), ('CENTRAL AVE', 59256), ('SHEPHERD AVE', 59037), ('BAYCHESTER AVE', 58332), ('OCEAN PARKWAY', 57937), ('CHAUNCEY ST', 56773), ('LIVONIA AVE', 56640), ('AVE N', 56206), ('HEWES ST', 53678), ('JUNIUS ST', 52971), ('BUHRE AVE', 52793), ('JFK HOWARD BCH', 52597), ('BEVERLEY ROAD', 51548), ('INTERVALE-163', 50120), ('BEACH 67 ST', 49550), ('BAY 50 ST', 49263), ('AVE P', 48199), ('LIBERTY AVE', 47661), ('BRONX PARK EAST', 47271), ('AVE H', 46773), ('BEACH 60 ST', 45905), ('SENECA AVE', 45877), ('HOWARD BCH-JFK', 45820), ('DITMAS AVE', 45598), ('ALABAMA AVE', 45301), ('121 ST', 44235), ('AQUEDUCT TRACK', 39630), ('ZEREGA AVE', 39476), ('OXFORD-104 ST', 39337), ('AVE X', 37494), ('BUSHWICK AVE', 35347), ('AVE I', 34788), ('215 ST', 34253), ('MIDDLETOWN ROAD', 34230), ('MORRIS PARK', 34215), ('104 ST', 33520), ('55 ST', 33426), ('WHITLOCK AVE', 32571), ('BEACH 25 ST', 31355), ('ATLANTIC AVE', 30654), ('VAN ALSTON-21ST', 30537), ('NEPTUNE AVE', 29739), ('BEACH 90 ST', 26021), ('ROCKAWAY BLVD', 25856), ('22 AVE-BAY PKY', 25682), ('BOTANIC GARDEN', 25015), ('CYPRESS HILLS', 24969), ('AQUEDUCT-N CNDT', 22754), ('ROCKAWAY PK 116', 21024), ('BEACH 36 ST', 17172), ('BEACH 98 ST', 16284), ('E 143 ST', 16180), ('PATH WTC 2', 13395), ('TOMPKINSVILLE', 13343), ('BEACH 44 ST', 11897), ('BROAD CHANNEL', 6304), ('ORCHARD BEACH', 5355), ('NEWARK HM HE', 185)]\n"
     ]
    }
   ],
   "source": [
    "for i in range(len(sum_total_ridership)):\n",
    "    if sum_total_ridership[i][-1] < 0:\n",
    "        sum_total_ridership = sum_total_ridership[:i]\n",
    "        break\n",
    "for i in range(len(sum_total_ridership)):\n",
    "    if sum_total_ridership[i][-1] < 10000000:\n",
    "        sum_total_ridership = sum_total_ridership[(i):]\n",
    "        break\n",
    "print(sum_total_ridership)"
   ]
  },
  {
   "cell_type": "code",
   "execution_count": 47,
   "metadata": {},
   "outputs": [
    {
     "name": "stdout",
     "output_type": "stream",
     "text": [
      "Top 10 Highest Traffic Stations:\n",
      "\n",
      "Station Name         Total Traffic\n",
      "------------         -------------\n",
      "34 ST-PENN STA       3102337\n",
      "42 ST-GRD CNTRL      2671217\n",
      "34 ST-HERALD SQ      2071774\n",
      "14 ST-UNION SQ       1958353\n",
      "42 ST-TIMES SQ       1821131\n",
      "42 ST-PA BUS TE      1549506\n",
      "96 ST                1363345\n",
      "CANAL ST             1359310\n",
      "FULTON ST            1281180\n",
      "125 ST               1238391\n"
     ]
    }
   ],
   "source": [
    "print(\"Top 10 Highest Traffic Stations:\")\n",
    "print('')\n",
    "print('%-*s %s' % (20, 'Station Name', 'Total Traffic'))\n",
    "print('%-*s %s' % (20, '------------', '-------------'))\n",
    "for i in sum_total_ridership[:10]:\n",
    "    print(\"%-*s %d\" % (20, i[0], i[1]))"
   ]
  },
  {
   "cell_type": "markdown",
   "metadata": {},
   "source": [
    "#### Challenge 10\n",
    "\n",
    "- Make a single list of these total ridership values and plot it with\n",
    "\n",
    "    plt.hist(total_ridership_counts)\n",
    "\n",
    "to get an idea about the distribution of total ridership among\n",
    "different stations.\n",
    "\n",
    "This should show you that most stations have a small traffic, and the\n",
    "histogram bins for large traffic volumes have small bars.\n",
    "\n",
    "*Additional Hint*:\n",
    "\n",
    "If you want to see which stations take the meat of the traffic, you\n",
    "can sort the total ridership counts and make a `plt.bar` graph. For\n",
    "this, you want to have two lists: the indices of each bar, and the\n",
    "values. The indices can just be `0,1,2,3,...`, so you can do\n",
    "\n",
    "    indices = range(len(total_ridership_values))\n",
    "    plt.bar(indices, total_ridership_values)"
   ]
  },
  {
   "cell_type": "code",
   "execution_count": 48,
   "metadata": {
    "collapsed": true
   },
   "outputs": [],
   "source": [
    "indices = []\n",
    "total_ridership_values = []\n",
    "for (index, total_ridership) in sum_total_ridership:\n",
    "    indices.append(index)\n",
    "    total_ridership_values.append(total_ridership)"
   ]
  },
  {
   "cell_type": "code",
   "execution_count": 49,
   "metadata": {},
   "outputs": [
    {
     "data": {
      "image/png": "[encoded data removed]",
      "text/plain": [
       "<matplotlib.figure.Figure at 0x108e940b8>"
      ]
     },
     "metadata": {},
     "output_type": "display_data"
    }
   ],
   "source": [
    "import matplotlib.pyplot as plt\n",
    "%matplotlib inline \n",
    "\n",
    "plt.hist(total_ridership_values);\n",
    "plt.xticks(rotation=45);"
   ]
  },
  {
   "cell_type": "code",
   "execution_count": 50,
   "metadata": {},
   "outputs": [
    {
     "data": {
      "image/png": "[encoded data removed]",
      "text/plain": [
       "<matplotlib.figure.Figure at 0x109af3390>"
      ]
     },
     "metadata": {},
     "output_type": "display_data"
    }
   ],
   "source": [
    "plt.figure(figsize=(20,8))\n",
    "indices = range(len(total_ridership_values))\n",
    "plt.bar(indices, total_ridership_values);"
   ]
  },
  {
   "cell_type": "code",
   "execution_count": null,
   "metadata": {
    "collapsed": true
   },
   "outputs": [],
   "source": []
  }
 ],
 "metadata": {
  "kernelspec": {
   "display_name": "Python 3",
   "language": "python",
   "name": "python3"
  },
  "language_info": {
   "codemirror_mode": {
    "name": "ipython",
    "version": 3
   },
   "file_extension": ".py",
   "mimetype": "text/x-python",
   "name": "python",
   "nbconvert_exporter": "python",
   "pygments_lexer": "ipython3",
   "version": "3.6.1"
  }
 },
 "nbformat": 4,
 "nbformat_minor": 2
}
