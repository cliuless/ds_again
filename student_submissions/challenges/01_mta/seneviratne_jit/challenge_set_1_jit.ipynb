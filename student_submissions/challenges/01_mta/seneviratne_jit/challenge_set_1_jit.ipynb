{
 "cells": [
  {
   "cell_type": "code",
   "execution_count": 1,
   "metadata": {
    "collapsed": true
   },
   "outputs": [],
   "source": [
    "import numpy as np\n",
    "import matplotlib.pyplot as plt\n",
    "from collections import Counter\n",
    "from IPython.display import Image\n",
    "import csv\n",
    "from collections import defaultdict\n",
    "from datetime import datetime\n",
    "from collections import Counter\n",
    "%matplotlib inline\n",
    "import heapq\n",
    "import operator"
   ]
  },
  {
   "cell_type": "markdown",
   "metadata": {},
   "source": [
    "# Challenge 1 - Downloading and Splitting Data into Key Value Pairs"
   ]
  },
  {
   "cell_type": "code",
   "execution_count": 2,
   "metadata": {},
   "outputs": [
    {
     "name": "stdout",
     "output_type": "stream",
     "text": [
      "  % Total    % Received % Xferd  Average Speed   Time    Time     Time  Current\n",
      "                                 Dload  Upload   Total   Spent    Left  Speed\n",
      "100 25.0M    0 25.0M    0     0  2766k      0 --:--:--  0:00:09 --:--:-- 2686k\n"
     ]
    }
   ],
   "source": [
    "!curl -O http://web.mta.info/developers/data/nyct/turnstile/turnstile_180106.txt # Open data store\n",
    "\n",
    "with open('turnstile_180106.txt') as f:\n",
    "    reader = csv.reader(f)\n",
    "    rows_f = [[cell.strip() for cell in row] for row in reader]\n",
    "\n",
    "assert rows_f.pop(0) == ['C/A', 'UNIT', 'SCP', 'STATION', 'LINENAME',\n",
    "                       'DIVISION', 'DATE', 'TIME', 'DESC', 'ENTRIES',\n",
    "                       'EXITS']  \n",
    "New_Dict_f=defaultdict(list)\n",
    "\n",
    "for row in rows_f:\n",
    "    New_Dict_f[tuple(row[:4])].append(tuple(row[4:]))\n"
   ]
  },
  {
   "cell_type": "markdown",
   "metadata": {},
   "source": [
    "# Challenge 2 - Getting Time Series for Data by Four Hour Window per Turnstile"
   ]
  },
  {
   "cell_type": "code",
   "execution_count": 3,
   "metadata": {
    "collapsed": true
   },
   "outputs": [],
   "source": [
    "# Generate time series for each turnstile\n",
    "\n",
    "datetime_cum_f = defaultdict()\n",
    "\n",
    "for turnstile, rows in New_Dict_f.items():\n",
    "    datetime_cum_f[turnstile] = []\n",
    "    for _, _, date, time,_, cum_count,_ in rows:\n",
    "        datetime_cum_f[turnstile].append((datetime.strptime(date + time,'%m/%d/%Y%X'),int(cum_count)))"
   ]
  },
  {
   "cell_type": "code",
   "execution_count": 9,
   "metadata": {},
   "outputs": [
    {
     "data": {
      "text/plain": [
       "(('A002', 'R051', '02-00-00', '59 ST'),\n",
       " [(datetime.datetime(2017, 12, 30, 3, 0), 6463109),\n",
       "  (datetime.datetime(2017, 12, 30, 7, 0), 6463119),\n",
       "  (datetime.datetime(2017, 12, 30, 11, 0), 6463178),\n",
       "  (datetime.datetime(2017, 12, 30, 15, 0), 6463373),\n",
       "  (datetime.datetime(2017, 12, 30, 19, 0), 6463712),\n",
       "  (datetime.datetime(2017, 12, 30, 23, 0), 6463887),\n",
       "  (datetime.datetime(2017, 12, 31, 3, 0), 6463926),\n",
       "  (datetime.datetime(2017, 12, 31, 7, 0), 6463938),\n",
       "  (datetime.datetime(2017, 12, 31, 11, 0), 6463980),\n",
       "  (datetime.datetime(2017, 12, 31, 15, 0), 6464138),\n",
       "  (datetime.datetime(2017, 12, 31, 19, 0), 6464337),\n",
       "  (datetime.datetime(2017, 12, 31, 23, 0), 6464443),\n",
       "  (datetime.datetime(2018, 1, 1, 3, 0), 6464475),\n",
       "  (datetime.datetime(2018, 1, 1, 7, 0), 6464491),\n",
       "  (datetime.datetime(2018, 1, 1, 11, 0), 6464517),\n",
       "  (datetime.datetime(2018, 1, 1, 15, 0), 6464623),\n",
       "  (datetime.datetime(2018, 1, 1, 19, 0), 6464806),\n",
       "  (datetime.datetime(2018, 1, 1, 23, 0), 6464907),\n",
       "  (datetime.datetime(2018, 1, 2, 3, 0), 6464919),\n",
       "  (datetime.datetime(2018, 1, 2, 7, 0), 6464934),\n",
       "  (datetime.datetime(2018, 1, 2, 11, 0), 6465085),\n",
       "  (datetime.datetime(2018, 1, 2, 15, 0), 6465297),\n",
       "  (datetime.datetime(2018, 1, 2, 19, 0), 6466098),\n",
       "  (datetime.datetime(2018, 1, 2, 23, 0), 6466375),\n",
       "  (datetime.datetime(2018, 1, 3, 3, 0), 6466403),\n",
       "  (datetime.datetime(2018, 1, 3, 7, 0), 6466420),\n",
       "  (datetime.datetime(2018, 1, 3, 11, 0), 6466581),\n",
       "  (datetime.datetime(2018, 1, 3, 15, 0), 6466816),\n",
       "  (datetime.datetime(2018, 1, 3, 19, 0), 6467618),\n",
       "  (datetime.datetime(2018, 1, 3, 23, 0), 6467957),\n",
       "  (datetime.datetime(2018, 1, 4, 3, 0), 6467977),\n",
       "  (datetime.datetime(2018, 1, 4, 7, 0), 6467990),\n",
       "  (datetime.datetime(2018, 1, 4, 11, 0), 6468094),\n",
       "  (datetime.datetime(2018, 1, 4, 11, 20, 58), 6468105),\n",
       "  (datetime.datetime(2018, 1, 4, 15, 0), 6468315),\n",
       "  (datetime.datetime(2018, 1, 4, 19, 0), 6468683),\n",
       "  (datetime.datetime(2018, 1, 4, 23, 0), 6468797),\n",
       "  (datetime.datetime(2018, 1, 5, 3, 0), 6468809),\n",
       "  (datetime.datetime(2018, 1, 5, 7, 0), 6468825),\n",
       "  (datetime.datetime(2018, 1, 5, 11, 0), 6468964),\n",
       "  (datetime.datetime(2018, 1, 5, 15, 0), 6469202),\n",
       "  (datetime.datetime(2018, 1, 5, 19, 0), 6469927),\n",
       "  (datetime.datetime(2018, 1, 5, 23, 0), 6470180)])"
      ]
     },
     "execution_count": 9,
     "metadata": {},
     "output_type": "execute_result"
    }
   ],
   "source": [
    "list(datetime_cum_f.items())[0] # These numbers seem very low for week of 1/06."
   ]
  },
  {
   "cell_type": "code",
   "execution_count": 5,
   "metadata": {
    "scrolled": true
   },
   "outputs": [
    {
     "ename": "AssertionError",
     "evalue": "",
     "output_type": "error",
     "traceback": [
      "\u001b[0;31m---------------------------------------------------------------------------\u001b[0m",
      "\u001b[0;31mAssertionError\u001b[0m                            Traceback (most recent call last)",
      "\u001b[0;32m<ipython-input-5-4565c12024f7>\u001b[0m in \u001b[0;36m<module>\u001b[0;34m()\u001b[0m\n\u001b[1;32m      1\u001b[0m \u001b[0;32mfor\u001b[0m \u001b[0mrows\u001b[0m \u001b[0;32min\u001b[0m \u001b[0mdatetime_cum_f\u001b[0m\u001b[0;34m.\u001b[0m\u001b[0mvalues\u001b[0m\u001b[0;34m(\u001b[0m\u001b[0;34m)\u001b[0m\u001b[0;34m:\u001b[0m \u001b[0;31m# Test if sorted\u001b[0m\u001b[0;34m\u001b[0m\u001b[0m\n\u001b[0;32m----> 2\u001b[0;31m     \u001b[0;32massert\u001b[0m \u001b[0mrows\u001b[0m \u001b[0;34m==\u001b[0m \u001b[0msorted\u001b[0m\u001b[0;34m(\u001b[0m\u001b[0mrows\u001b[0m\u001b[0;34m)\u001b[0m\u001b[0;34m\u001b[0m\u001b[0m\n\u001b[0m",
      "\u001b[0;31mAssertionError\u001b[0m: "
     ]
    }
   ],
   "source": [
    "for rows in datetime_cum_f.values(): # Test if sorted\n",
    "    assert rows == sorted(rows)"
   ]
  },
  {
   "cell_type": "code",
   "execution_count": 10,
   "metadata": {
    "collapsed": true
   },
   "outputs": [],
   "source": [
    "for rows in datetime_cum_f.values():\n",
    "    rows.sort()"
   ]
  },
  {
   "cell_type": "code",
   "execution_count": 11,
   "metadata": {
    "collapsed": true
   },
   "outputs": [],
   "source": [
    "for rows in datetime_cum_f.values():\n",
    "    assert rows == sorted(rows)"
   ]
  },
  {
   "cell_type": "code",
   "execution_count": 12,
   "metadata": {
    "collapsed": true
   },
   "outputs": [],
   "source": [
    "#Generate time series with time delta\n",
    "\n",
    "datetime_count_times_f = {}\n",
    "\n",
    "for turnstile, rows in datetime_cum_f.items():\n",
    "    datetime_count_times_f[turnstile] = []\n",
    "    for i in range(len(rows) - 1):\n",
    "        datetime_count_times_f[turnstile].append([rows[i][0], rows[i+1][1] - rows[i][1]])"
   ]
  },
  {
   "cell_type": "code",
   "execution_count": 13,
   "metadata": {},
   "outputs": [
    {
     "data": {
      "text/plain": [
       "(('A002', 'R051', '02-00-00', '59 ST'),\n",
       " [[datetime.datetime(2017, 12, 30, 3, 0), 10],\n",
       "  [datetime.datetime(2017, 12, 30, 7, 0), 59],\n",
       "  [datetime.datetime(2017, 12, 30, 11, 0), 195],\n",
       "  [datetime.datetime(2017, 12, 30, 15, 0), 339],\n",
       "  [datetime.datetime(2017, 12, 30, 19, 0), 175],\n",
       "  [datetime.datetime(2017, 12, 30, 23, 0), 39],\n",
       "  [datetime.datetime(2017, 12, 31, 3, 0), 12],\n",
       "  [datetime.datetime(2017, 12, 31, 7, 0), 42],\n",
       "  [datetime.datetime(2017, 12, 31, 11, 0), 158],\n",
       "  [datetime.datetime(2017, 12, 31, 15, 0), 199],\n",
       "  [datetime.datetime(2017, 12, 31, 19, 0), 106],\n",
       "  [datetime.datetime(2017, 12, 31, 23, 0), 32],\n",
       "  [datetime.datetime(2018, 1, 1, 3, 0), 16],\n",
       "  [datetime.datetime(2018, 1, 1, 7, 0), 26],\n",
       "  [datetime.datetime(2018, 1, 1, 11, 0), 106],\n",
       "  [datetime.datetime(2018, 1, 1, 15, 0), 183],\n",
       "  [datetime.datetime(2018, 1, 1, 19, 0), 101],\n",
       "  [datetime.datetime(2018, 1, 1, 23, 0), 12],\n",
       "  [datetime.datetime(2018, 1, 2, 3, 0), 15],\n",
       "  [datetime.datetime(2018, 1, 2, 7, 0), 151],\n",
       "  [datetime.datetime(2018, 1, 2, 11, 0), 212],\n",
       "  [datetime.datetime(2018, 1, 2, 15, 0), 801],\n",
       "  [datetime.datetime(2018, 1, 2, 19, 0), 277],\n",
       "  [datetime.datetime(2018, 1, 2, 23, 0), 28],\n",
       "  [datetime.datetime(2018, 1, 3, 3, 0), 17],\n",
       "  [datetime.datetime(2018, 1, 3, 7, 0), 161],\n",
       "  [datetime.datetime(2018, 1, 3, 11, 0), 235],\n",
       "  [datetime.datetime(2018, 1, 3, 15, 0), 802],\n",
       "  [datetime.datetime(2018, 1, 3, 19, 0), 339],\n",
       "  [datetime.datetime(2018, 1, 3, 23, 0), 20],\n",
       "  [datetime.datetime(2018, 1, 4, 3, 0), 13],\n",
       "  [datetime.datetime(2018, 1, 4, 7, 0), 104],\n",
       "  [datetime.datetime(2018, 1, 4, 11, 0), 11],\n",
       "  [datetime.datetime(2018, 1, 4, 11, 20, 58), 210],\n",
       "  [datetime.datetime(2018, 1, 4, 15, 0), 368],\n",
       "  [datetime.datetime(2018, 1, 4, 19, 0), 114],\n",
       "  [datetime.datetime(2018, 1, 4, 23, 0), 12],\n",
       "  [datetime.datetime(2018, 1, 5, 3, 0), 16],\n",
       "  [datetime.datetime(2018, 1, 5, 7, 0), 139],\n",
       "  [datetime.datetime(2018, 1, 5, 11, 0), 238],\n",
       "  [datetime.datetime(2018, 1, 5, 15, 0), 725],\n",
       "  [datetime.datetime(2018, 1, 5, 19, 0), 253]])"
      ]
     },
     "execution_count": 13,
     "metadata": {},
     "output_type": "execute_result"
    }
   ],
   "source": [
    "list(datetime_count_times_f.items())[0] # Running test to check if it is formatted correctly"
   ]
  },
  {
   "cell_type": "code",
   "execution_count": 14,
   "metadata": {},
   "outputs": [
    {
     "data": {
      "text/plain": [
       "([48783827,\n",
       "  8126343,\n",
       "  4846985,\n",
       "  3938074,\n",
       "  3934520,\n",
       "  1310720,\n",
       "  77777,\n",
       "  76588,\n",
       "  3215,\n",
       "  3143,\n",
       "  2877,\n",
       "  2757,\n",
       "  2754,\n",
       "  2748,\n",
       "  2747,\n",
       "  2733,\n",
       "  2725,\n",
       "  2721,\n",
       "  2669,\n",
       "  2655,\n",
       "  2636,\n",
       "  2608,\n",
       "  2601,\n",
       "  2576,\n",
       "  2563,\n",
       "  2528,\n",
       "  2507,\n",
       "  2486,\n",
       "  2484,\n",
       "  2468,\n",
       "  2445,\n",
       "  2444,\n",
       "  2441,\n",
       "  2439,\n",
       "  2424,\n",
       "  2413,\n",
       "  2388,\n",
       "  2343,\n",
       "  2322,\n",
       "  2305,\n",
       "  2290,\n",
       "  2278,\n",
       "  2265,\n",
       "  2261,\n",
       "  2259,\n",
       "  2238,\n",
       "  2233,\n",
       "  2202,\n",
       "  2199,\n",
       "  2189,\n",
       "  2170,\n",
       "  2164,\n",
       "  2164,\n",
       "  2162,\n",
       "  2155,\n",
       "  2140,\n",
       "  2136,\n",
       "  2125,\n",
       "  2105,\n",
       "  2102,\n",
       "  2085,\n",
       "  2083,\n",
       "  2080,\n",
       "  2076,\n",
       "  2067,\n",
       "  2050,\n",
       "  2048,\n",
       "  2047,\n",
       "  2046,\n",
       "  2028,\n",
       "  2027,\n",
       "  2025,\n",
       "  2025,\n",
       "  2020,\n",
       "  2014,\n",
       "  2013,\n",
       "  1994,\n",
       "  1993,\n",
       "  1990,\n",
       "  1989,\n",
       "  1980,\n",
       "  1972,\n",
       "  1971,\n",
       "  1962,\n",
       "  1961,\n",
       "  1958,\n",
       "  1952,\n",
       "  1943,\n",
       "  1939,\n",
       "  1939,\n",
       "  1928,\n",
       "  1922,\n",
       "  1920,\n",
       "  1919,\n",
       "  1918,\n",
       "  1918,\n",
       "  1917,\n",
       "  1916,\n",
       "  1909,\n",
       "  1909],\n",
       " [-48783215,\n",
       "  -8126327,\n",
       "  -4846819,\n",
       "  -3937942,\n",
       "  -3934204,\n",
       "  -1697601,\n",
       "  -1310720,\n",
       "  -541390,\n",
       "  -293218,\n",
       "  -146073,\n",
       "  -139732,\n",
       "  -132601,\n",
       "  -86947,\n",
       "  -77679,\n",
       "  -76400,\n",
       "  -33443,\n",
       "  -25654,\n",
       "  -24504,\n",
       "  -18931,\n",
       "  -14364,\n",
       "  -5821,\n",
       "  -3437,\n",
       "  -2657,\n",
       "  -2430,\n",
       "  -2197,\n",
       "  -2166,\n",
       "  -2156,\n",
       "  -2120,\n",
       "  -2114,\n",
       "  -2069,\n",
       "  -2041,\n",
       "  -2006,\n",
       "  -1989,\n",
       "  -1987,\n",
       "  -1957,\n",
       "  -1956,\n",
       "  -1919,\n",
       "  -1883,\n",
       "  -1774,\n",
       "  -1691,\n",
       "  -1608,\n",
       "  -1601,\n",
       "  -1594,\n",
       "  -1520,\n",
       "  -1505,\n",
       "  -1473,\n",
       "  -1452,\n",
       "  -1440,\n",
       "  -1431,\n",
       "  -1417,\n",
       "  -1408,\n",
       "  -1363,\n",
       "  -1345,\n",
       "  -1340,\n",
       "  -1275,\n",
       "  -1274,\n",
       "  -1272,\n",
       "  -1269,\n",
       "  -1268,\n",
       "  -1264,\n",
       "  -1263,\n",
       "  -1250,\n",
       "  -1246,\n",
       "  -1242,\n",
       "  -1222,\n",
       "  -1209,\n",
       "  -1182,\n",
       "  -1166,\n",
       "  -1166,\n",
       "  -1166,\n",
       "  -1163,\n",
       "  -1160,\n",
       "  -1142,\n",
       "  -1134,\n",
       "  -1119,\n",
       "  -1112,\n",
       "  -1104,\n",
       "  -1101,\n",
       "  -1096,\n",
       "  -1081,\n",
       "  -1078,\n",
       "  -1071,\n",
       "  -1053,\n",
       "  -1052,\n",
       "  -1041,\n",
       "  -1035,\n",
       "  -1035,\n",
       "  -1030,\n",
       "  -1022,\n",
       "  -1014,\n",
       "  -1009,\n",
       "  -961,\n",
       "  -955,\n",
       "  -953,\n",
       "  -944,\n",
       "  -937,\n",
       "  -926,\n",
       "  -925,\n",
       "  -923,\n",
       "  -922])"
      ]
     },
     "execution_count": 14,
     "metadata": {},
     "output_type": "execute_result"
    }
   ],
   "source": [
    "test_list_f = []\n",
    "for k,v in datetime_count_times_f.items():\n",
    "    for i in v:\n",
    "        test_list_f.append(i[1])\n",
    "\n",
    "heapq.nlargest(100, test_list_f), heapq.nsmallest(100,test_list_f) # Running Test to look for errant data"
   ]
  },
  {
   "cell_type": "code",
   "execution_count": 16,
   "metadata": {
    "collapsed": true
   },
   "outputs": [],
   "source": [
    "f_rev = {k: [x for x in v if 0 <= x[1] <= 13000] for k, v in datetime_count_times_f.items()} # Filter out errant values"
   ]
  },
  {
   "cell_type": "code",
   "execution_count": 18,
   "metadata": {},
   "outputs": [
    {
     "data": {
      "text/plain": [
       "[(datetime.date(2017, 12, 30), 817),\n",
       " (datetime.date(2017, 12, 31), 549),\n",
       " (datetime.date(2018, 1, 1), 444),\n",
       " (datetime.date(2018, 1, 2), 1484),\n",
       " (datetime.date(2018, 1, 3), 1574),\n",
       " (datetime.date(2018, 1, 4), 832),\n",
       " (datetime.date(2018, 1, 5), 1371)]"
      ]
     },
     "execution_count": 18,
     "metadata": {},
     "output_type": "execute_result"
    }
   ],
   "source": [
    "day_counts_f = {}\n",
    "for turnstile, rows in f_rev.items():\n",
    "    by_day = defaultdict(int)\n",
    "    for time, count in rows:\n",
    "        day = time.date()\n",
    "        by_day[day] +=count\n",
    "    day_counts_f[turnstile] = sorted(by_day.items())\n",
    "    \n",
    "\n",
    "day_counts_f[('A002', 'R051', '02-00-00', '59 ST')] # pull sample to check if formatted correctly"
   ]
  },
  {
   "cell_type": "markdown",
   "metadata": {},
   "source": [
    "# Challenge 4 - Plotting Data for Dates and Counts for a Given Turnstile"
   ]
  },
  {
   "cell_type": "code",
   "execution_count": 19,
   "metadata": {},
   "outputs": [
    {
     "data": {
      "text/plain": [
       "(['12/30/2017',\n",
       "  '12/31/2017',\n",
       "  '01/01/2018',\n",
       "  '01/02/2018',\n",
       "  '01/03/2018',\n",
       "  '01/04/2018',\n",
       "  '01/05/2018'],\n",
       " [817, 549, 444, 1484, 1574, 832, 1371])"
      ]
     },
     "execution_count": 19,
     "metadata": {},
     "output_type": "execute_result"
    }
   ],
   "source": [
    "list_1_f = []\n",
    "list_2_f = []\n",
    "\n",
    "for i in day_counts_f[('A002', 'R051', '02-00-00', '59 ST')]:\n",
    "    list_1_f.append(str(i[0].strftime('%m/%d/%Y')))\n",
    "    list_2_f.append(int(i[1]))\n",
    "\n",
    "list_1_f, list_2_f   "
   ]
  },
  {
   "cell_type": "code",
   "execution_count": 20,
   "metadata": {},
   "outputs": [
    {
     "data": {
      "text/plain": [
       "<matplotlib.text.Text at 0x121df73c8>"
      ]
     },
     "execution_count": 20,
     "metadata": {},
     "output_type": "execute_result"
    },
    {
     "data": {
      "image/png": "[encoded data removed]",
      "text/plain": [
       "<matplotlib.figure.Figure at 0x11e6ded30>"
      ]
     },
     "metadata": {},
     "output_type": "display_data"
    }
   ],
   "source": [
    "plt.figure(figsize = (10,5))\n",
    "# plt.bar([x for x in list_1_f],[x for x in list_2_f])\n",
    "plt.bar(range(len(list_2_f)), list_2_f);\n",
    "plt.xticks(range(len(list_2_f)),['Mon', 'Tue', 'Wed', 'Thu', 'Fri', 'Sat', 'Sun'])\n",
    "plt.xlabel('Date')\n",
    "plt.ylabel('Ridership Count')\n",
    "plt.title('Ridership at the 59th ST Station for Week of 1/06')"
   ]
  },
  {
   "cell_type": "markdown",
   "metadata": {},
   "source": [
    "# Challenge 5 - Weekly Aggregate for a ControlArea/Unit/Station Combination"
   ]
  },
  {
   "cell_type": "code",
   "execution_count": 27,
   "metadata": {},
   "outputs": [
    {
     "data": {
      "text/plain": [
       "[(('A002', 'R051', '59 ST'), 6961),\n",
       " (('A006', 'R079', '5 AV/59 ST'), 9821),\n",
       " (('A007', 'R079', '5 AV/59 ST'), 11101),\n",
       " (('A010', 'R080', '57 ST-7 AV'), 21868),\n",
       " (('A011', 'R080', '57 ST-7 AV'), 13263),\n",
       " (('A013', 'R081', '49 ST'), 0),\n",
       " (('A014', 'R081', '49 ST'), 75),\n",
       " (('A015', 'R081', '49 ST'), 4749),\n",
       " (('A016', 'R081', '49 ST'), 573),\n",
       " (('A021', 'R032', 'TIMES SQ-42 ST'), 8698),\n",
       " (('A022', 'R022', '34 ST-HERALD SQ'), 7570),\n",
       " (('A025', 'R023', '34 ST-HERALD SQ'), 4773),\n",
       " (('A027', 'R082', '28 ST'), 6105),\n",
       " (('A029', 'R082', '28 ST'), 8375),\n",
       " (('A030', 'R083', '23 ST'), 7483),\n",
       " (('A031', 'R083', '23 ST'), 6145),\n",
       " (('A033', 'R170', '14 ST-UNION SQ'), 9448),\n",
       " (('A034', 'R170', '14 ST-UNION SQ'), 6869),\n",
       " (('A035', 'R170', '14 ST-UNION SQ'), 14818),\n",
       " (('A037', 'R170', '14 ST-UNION SQ'), 21306)]"
      ]
     },
     "execution_count": 27,
     "metadata": {},
     "output_type": "execute_result"
    }
   ],
   "source": [
    "from datetime import timedelta\n",
    "\n",
    "SCP_Week_Count_f = defaultdict()\n",
    "\n",
    "for k,v in day_counts_f.items():\n",
    "    SCP_Week_Count_f[k[0],k[1],k[3]] = 0\n",
    "    for i in v:\n",
    "        SCP_Week_Count_f[k[0],k[1],k[3]] += i[1]\n",
    "        \n",
    "list(SCP_Week_Count_f.items())[:20]"
   ]
  },
  {
   "cell_type": "markdown",
   "metadata": {},
   "source": [
    "# Challenge 5 - Daily Aggregate for a ControlArea/Unit/Station Combination"
   ]
  },
  {
   "cell_type": "code",
   "execution_count": 29,
   "metadata": {},
   "outputs": [
    {
     "data": {
      "text/plain": [
       "[(('A002', 'R051', '59 ST'),\n",
       "  [(datetime.date(2017, 12, 30), 740),\n",
       "   (datetime.date(2017, 12, 31), 522),\n",
       "   (datetime.date(2018, 1, 1), 416),\n",
       "   (datetime.date(2018, 1, 2), 1434),\n",
       "   (datetime.date(2018, 1, 3), 1552),\n",
       "   (datetime.date(2018, 1, 4), 992),\n",
       "   (datetime.date(2018, 1, 5), 1305)]),\n",
       " (('A006', 'R079', '5 AV/59 ST'),\n",
       "  [(datetime.date(2017, 12, 30), 1234),\n",
       "   (datetime.date(2017, 12, 31), 755),\n",
       "   (datetime.date(2018, 1, 1), 571),\n",
       "   (datetime.date(2018, 1, 2), 1920),\n",
       "   (datetime.date(2018, 1, 3), 2141),\n",
       "   (datetime.date(2018, 1, 4), 1421),\n",
       "   (datetime.date(2018, 1, 5), 1779)]),\n",
       " (('A007', 'R079', '5 AV/59 ST'),\n",
       "  [(datetime.date(2017, 12, 30), 1900),\n",
       "   (datetime.date(2017, 12, 31), 1955),\n",
       "   (datetime.date(2018, 1, 1), 1247),\n",
       "   (datetime.date(2018, 1, 2), 1685),\n",
       "   (datetime.date(2018, 1, 3), 1695),\n",
       "   (datetime.date(2018, 1, 4), 1213),\n",
       "   (datetime.date(2018, 1, 5), 1406)]),\n",
       " (('A010', 'R080', '57 ST-7 AV'),\n",
       "  [(datetime.date(2017, 12, 30), 3100),\n",
       "   (datetime.date(2017, 12, 31), 1592),\n",
       "   (datetime.date(2018, 1, 1), 1938),\n",
       "   (datetime.date(2018, 1, 2), 3955),\n",
       "   (datetime.date(2018, 1, 3), 4695),\n",
       "   (datetime.date(2018, 1, 4), 3090),\n",
       "   (datetime.date(2018, 1, 5), 3498)]),\n",
       " (('A011', 'R080', '57 ST-7 AV'),\n",
       "  [(datetime.date(2017, 12, 30), 1350),\n",
       "   (datetime.date(2017, 12, 31), 947),\n",
       "   (datetime.date(2018, 1, 1), 363),\n",
       "   (datetime.date(2018, 1, 2), 2734),\n",
       "   (datetime.date(2018, 1, 3), 3120),\n",
       "   (datetime.date(2018, 1, 4), 2183),\n",
       "   (datetime.date(2018, 1, 5), 2566)])]"
      ]
     },
     "execution_count": 29,
     "metadata": {},
     "output_type": "execute_result"
    }
   ],
   "source": [
    "SCP_Day_Count_f = defaultdict()\n",
    "\n",
    "for k,v in day_counts_f.items():\n",
    "    SCP_Day_Count_f[k[0],k[1],k[3]] = []\n",
    "    for i in v:\n",
    "        SCP_Day_Count_f[k[0],k[1],k[3]].append(i)\n",
    "        \n",
    "list(SCP_Day_Count_f.items())[:5]"
   ]
  },
  {
   "cell_type": "markdown",
   "metadata": {},
   "source": [
    "# Challenge 6 - Time Series for Each Station"
   ]
  },
  {
   "cell_type": "code",
   "execution_count": 30,
   "metadata": {},
   "outputs": [
    {
     "data": {
      "text/plain": [
       "[('59 ST',\n",
       "  [(datetime.date(2017, 12, 30), 44),\n",
       "   (datetime.date(2017, 12, 31), 37),\n",
       "   (datetime.date(2018, 1, 1), 27),\n",
       "   (datetime.date(2018, 1, 2), 155),\n",
       "   (datetime.date(2018, 1, 3), 185),\n",
       "   (datetime.date(2018, 1, 4), 77),\n",
       "   (datetime.date(2018, 1, 5), 130)]),\n",
       " ('5 AV/59 ST',\n",
       "  [(datetime.date(2017, 12, 30), 1900),\n",
       "   (datetime.date(2017, 12, 31), 1955),\n",
       "   (datetime.date(2018, 1, 1), 1247),\n",
       "   (datetime.date(2018, 1, 2), 1685),\n",
       "   (datetime.date(2018, 1, 3), 1695),\n",
       "   (datetime.date(2018, 1, 4), 1213),\n",
       "   (datetime.date(2018, 1, 5), 1406)]),\n",
       " ('57 ST-7 AV',\n",
       "  [(datetime.date(2017, 12, 30), 1350),\n",
       "   (datetime.date(2017, 12, 31), 947),\n",
       "   (datetime.date(2018, 1, 1), 363),\n",
       "   (datetime.date(2018, 1, 2), 2734),\n",
       "   (datetime.date(2018, 1, 3), 3120),\n",
       "   (datetime.date(2018, 1, 4), 2183),\n",
       "   (datetime.date(2018, 1, 5), 2566)]),\n",
       " ('49 ST',\n",
       "  [(datetime.date(2017, 12, 30), 125),\n",
       "   (datetime.date(2017, 12, 31), 15),\n",
       "   (datetime.date(2018, 1, 1), 87),\n",
       "   (datetime.date(2018, 1, 2), 125),\n",
       "   (datetime.date(2018, 1, 3), 80),\n",
       "   (datetime.date(2018, 1, 4), 67),\n",
       "   (datetime.date(2018, 1, 5), 74)]),\n",
       " ('TIMES SQ-42 ST',\n",
       "  [(datetime.date(2017, 12, 30), 2372),\n",
       "   (datetime.date(2017, 12, 31), 511),\n",
       "   (datetime.date(2018, 1, 1), 0),\n",
       "   (datetime.date(2018, 1, 2), 0),\n",
       "   (datetime.date(2018, 1, 3), 77),\n",
       "   (datetime.date(2018, 1, 4), 1707),\n",
       "   (datetime.date(2018, 1, 5), 1992)])]"
      ]
     },
     "execution_count": 30,
     "metadata": {},
     "output_type": "execute_result"
    }
   ],
   "source": [
    "SCP_Station_Count_f = defaultdict()\n",
    "\n",
    "for k,v in day_counts_f.items():\n",
    "    SCP_Station_Count_f[k[3]] = []\n",
    "    for i in v:\n",
    "        SCP_Station_Count_f[k[3]].append(tuple(i))\n",
    "\n",
    "list(SCP_Station_Count_f.items())[:5]"
   ]
  },
  {
   "cell_type": "markdown",
   "metadata": {},
   "source": [
    "# Challenge 7 - Plottng Above Time Series"
   ]
  },
  {
   "cell_type": "code",
   "execution_count": 31,
   "metadata": {},
   "outputs": [
    {
     "data": {
      "text/plain": [
       "<Container object of 7 artists>"
      ]
     },
     "execution_count": 31,
     "metadata": {},
     "output_type": "execute_result"
    },
    {
     "data": {
      "image/png": "[encoded data removed]",
      "text/plain": [
       "<matplotlib.figure.Figure at 0x1220e8198>"
      ]
     },
     "metadata": {},
     "output_type": "display_data"
    }
   ],
   "source": [
    "plt.figure(figsize = (10,5))\n",
    "plt.bar([x for x,y in SCP_Station_Count_f['1 AV']],[y for x,y in SCP_Station_Count_f['1 AV']])         "
   ]
  },
  {
   "cell_type": "markdown",
   "metadata": {},
   "source": [
    "# Challege 8 - Weekday Counts for Multiple Weeks "
   ]
  },
  {
   "cell_type": "code",
   "execution_count": 32,
   "metadata": {},
   "outputs": [
    {
     "name": "stdout",
     "output_type": "stream",
     "text": [
      "  % Total    % Received % Xferd  Average Speed   Time    Time     Time  Current\n",
      "                                 Dload  Upload   Total   Spent    Left  Speed\n",
      "100 25.1M    0 25.1M    0     0  2954k      0 --:--:--  0:00:08 --:--:-- 1619k\n",
      "  % Total    % Received % Xferd  Average Speed   Time    Time     Time  Current\n",
      "                                 Dload  Upload   Total   Spent    Left  Speed\n",
      "100 24.6M    0 24.6M    0     0  1958k      0 --:--:--  0:00:12 --:--:-- 1042k\n",
      "  % Total    % Received % Xferd  Average Speed   Time    Time     Time  Current\n",
      "                                 Dload  Upload   Total   Spent    Left  Speed\n",
      "100 24.9M    0 24.9M    0     0  1644k      0 --:--:--  0:00:15 --:--:-- 1889k\n"
     ]
    }
   ],
   "source": [
    "# Download data for three additional weeks\n",
    "\n",
    "!curl -O http://web.mta.info/developers/data/nyct/turnstile/turnstile_180113.txt\n",
    "!curl -O http://web.mta.info/developers/data/nyct/turnstile/turnstile_171230.txt\n",
    "!curl -O http://web.mta.info/developers/data/nyct/turnstile/turnstile_171223.txt\n",
    "\n",
    "with open('turnstile_180113.txt') as g, open('turnstile_171230.txt')as h, open('turnstile_171223.txt') as i :\n",
    "    reader_g, reader_h, reader_i = csv.reader(g),csv.reader(h), csv.reader(i)\n",
    "    rows_g = [[cell.strip() for cell in row] for row in reader_g]\n",
    "    rows_h = [[cell.strip() for cell in row] for row in reader_h]\n",
    "    rows_i = [[cell.strip() for cell in row] for row in reader_i]"
   ]
  },
  {
   "cell_type": "code",
   "execution_count": 33,
   "metadata": {},
   "outputs": [
    {
     "data": {
      "text/plain": [
       "(['C/A',\n",
       "  'UNIT',\n",
       "  'SCP',\n",
       "  'STATION',\n",
       "  'LINENAME',\n",
       "  'DIVISION',\n",
       "  'DATE',\n",
       "  'TIME',\n",
       "  'DESC',\n",
       "  'ENTRIES',\n",
       "  'EXITS'],\n",
       " ['C/A',\n",
       "  'UNIT',\n",
       "  'SCP',\n",
       "  'STATION',\n",
       "  'LINENAME',\n",
       "  'DIVISION',\n",
       "  'DATE',\n",
       "  'TIME',\n",
       "  'DESC',\n",
       "  'ENTRIES',\n",
       "  'EXITS'],\n",
       " ['C/A',\n",
       "  'UNIT',\n",
       "  'SCP',\n",
       "  'STATION',\n",
       "  'LINENAME',\n",
       "  'DIVISION',\n",
       "  'DATE',\n",
       "  'TIME',\n",
       "  'DESC',\n",
       "  'ENTRIES',\n",
       "  'EXITS'])"
      ]
     },
     "execution_count": 33,
     "metadata": {},
     "output_type": "execute_result"
    }
   ],
   "source": [
    "rows_g.pop(0),rows_h.pop(0),rows_i.pop(0) # Check if header rows have been removed"
   ]
  },
  {
   "cell_type": "code",
   "execution_count": 34,
   "metadata": {
    "collapsed": true
   },
   "outputs": [],
   "source": [
    "New_Dict_g=defaultdict(list)\n",
    "New_Dict_h=defaultdict(list)\n",
    "New_Dict_i=defaultdict(list)\n",
    "\n",
    "datetime_cum_g = defaultdict()\n",
    "datetime_cum_h = defaultdict()\n",
    "datetime_cum_i = defaultdict()\n",
    "\n",
    "# Split data into key value pairs for each turnstile\n",
    "\n",
    "for row in rows_g:\n",
    "    New_Dict_g[tuple(row[3:4])[0]].append(tuple(row[4:]))\n",
    "\n",
    "for row in rows_h:\n",
    "    New_Dict_h[tuple(row[3:4])[0]].append(tuple(row[4:]))\n",
    "    \n",
    "for row in rows_i:\n",
    "    New_Dict_i[tuple(row[3:4])[0]].append(tuple(row[4:]))\n",
    "\n",
    "\n",
    "# Create time series for each week\n",
    "    \n",
    "for station, rows in New_Dict_g.items():\n",
    "    datetime_cum_g[station] = []\n",
    "    for _, _, date, time,_, cum_count,_ in rows:\n",
    "        datetime_cum_g[station].append((datetime.strptime(date + time,'%m/%d/%Y%X'),int(cum_count)))\n",
    "\n",
    "for station, rows in New_Dict_h.items():\n",
    "    datetime_cum_h[station] = []\n",
    "    for _, _, date, time,_, cum_count,_ in rows:\n",
    "        datetime_cum_h[station].append((datetime.strptime(date + time,'%m/%d/%Y%X'),int(cum_count)))\n",
    "\n",
    "for station, rows in New_Dict_i.items():\n",
    "    datetime_cum_i[station] = []\n",
    "    for _, _, date, time,_, cum_count,_ in rows:\n",
    "        datetime_cum_i[station].append((datetime.strptime(date + time,'%m/%d/%Y%X'),int(cum_count)))"
   ]
  },
  {
   "cell_type": "code",
   "execution_count": 35,
   "metadata": {
    "collapsed": true
   },
   "outputs": [],
   "source": [
    "for rows in datetime_cum_g.values():\n",
    "    rows.sort()\n",
    "    \n",
    "for rows in datetime_cum_h.values():\n",
    "    rows.sort()\n",
    "   \n",
    "for rows in datetime_cum_i.values():\n",
    "    rows.sort()"
   ]
  },
  {
   "cell_type": "code",
   "execution_count": 36,
   "metadata": {
    "collapsed": true
   },
   "outputs": [],
   "source": [
    "#Generate time series with time delta\n",
    "\n",
    "datetime_count_times_g = {}\n",
    "\n",
    "for station, rows in datetime_cum_g.items():\n",
    "    datetime_count_times_g[station] = []\n",
    "    for i in range(len(rows) - 1):\n",
    "        datetime_count_times_g[station].append([rows[i][0], rows[i+1][1] - rows[i][1]])\n",
    "        \n",
    "datetime_count_times_h = {}\n",
    "\n",
    "for station, rows in datetime_cum_h.items():\n",
    "    datetime_count_times_h[station] = []\n",
    "    for i in range(len(rows) - 1):\n",
    "        datetime_count_times_h[station].append([rows[i][0], rows[i+1][1] - rows[i][1]])\n",
    "\n",
    "datetime_count_times_i = {}\n",
    "        \n",
    "for station, rows in datetime_cum_i.items():\n",
    "    datetime_count_times_i[station] = []\n",
    "    for i in range(len(rows) - 1):\n",
    "        datetime_count_times_i[station].append([rows[i][0], rows[i+1][1] - rows[i][1]]) "
   ]
  },
  {
   "cell_type": "code",
   "execution_count": 37,
   "metadata": {},
   "outputs": [
    {
     "data": {
      "text/plain": [
       "([[datetime.datetime(2018, 1, 6, 3, 0), 0],\n",
       "  [datetime.datetime(2018, 1, 6, 3, 0), 1458],\n",
       "  [datetime.datetime(2018, 1, 6, 3, 0), 87009],\n",
       "  [datetime.datetime(2018, 1, 6, 3, 0), 88232],\n",
       "  [datetime.datetime(2018, 1, 6, 3, 0), 49746]],\n",
       " [[datetime.datetime(2017, 12, 23, 3, 0), 0],\n",
       "  [datetime.datetime(2017, 12, 23, 3, 0), 1455],\n",
       "  [datetime.datetime(2017, 12, 23, 3, 0), 85575],\n",
       "  [datetime.datetime(2017, 12, 23, 3, 0), 78001],\n",
       "  [datetime.datetime(2017, 12, 23, 3, 0), 60085]],\n",
       " [[datetime.datetime(2017, 12, 16, 3, 0), 0],\n",
       "  [datetime.datetime(2017, 12, 16, 3, 0), 1453],\n",
       "  [datetime.datetime(2017, 12, 16, 3, 0), 84583],\n",
       "  [datetime.datetime(2017, 12, 16, 3, 0), 70951],\n",
       "  [datetime.datetime(2017, 12, 16, 3, 0), 67305]])"
      ]
     },
     "execution_count": 37,
     "metadata": {},
     "output_type": "execute_result"
    }
   ],
   "source": [
    "datetime_count_times_g[('59 ST')][:5],datetime_count_times_h[('59 ST')][:5], datetime_count_times_i[('59 ST')][:5] # Testing Data"
   ]
  },
  {
   "cell_type": "code",
   "execution_count": 38,
   "metadata": {
    "collapsed": true
   },
   "outputs": [],
   "source": [
    "# Create test lists for three weeks\n",
    "\n",
    "test_list_g = []\n",
    "for k,v in datetime_count_times_g.items():\n",
    "    for i in v:\n",
    "        test_list_g.append(i[1])\n",
    "        \n",
    "test_list_h = []\n",
    "for k,v in datetime_count_times_h.items():\n",
    "    for i in v:\n",
    "        test_list_h.append(i[1])\n",
    "        \n",
    "test_list_i = []\n",
    "for k,v in datetime_count_times_h.items():\n",
    "    for i in v:\n",
    "        test_list_i.append(i[1])"
   ]
  },
  {
   "cell_type": "code",
   "execution_count": 41,
   "metadata": {},
   "outputs": [
    {
     "data": {
      "text/plain": [
       "([2103364074,\n",
       "  2103364028,\n",
       "  2008738973,\n",
       "  2008738882,\n",
       "  2008738852,\n",
       "  2008738717,\n",
       "  2008738056,\n",
       "  2008737132,\n",
       "  2008736642,\n",
       "  2008736480,\n",
       "  2008736446,\n",
       "  2008736330,\n",
       "  2008735727,\n",
       "  2008734968,\n",
       "  2008734562,\n",
       "  2008734511,\n",
       "  2008734418,\n",
       "  2008733945,\n",
       "  2008732412,\n",
       "  2008729459,\n",
       "  2008728723,\n",
       "  2008728593,\n",
       "  2008728482,\n",
       "  2008727969,\n",
       "  2008726654,\n",
       "  2008723372,\n",
       "  2008722359,\n",
       "  2008722240,\n",
       "  2008722146,\n",
       "  2008721974],\n",
       " [-2130094044,\n",
       "  -2130093980,\n",
       "  -2130093946,\n",
       "  -2130093820,\n",
       "  -2130093535,\n",
       "  -2130093063,\n",
       "  -2130093004,\n",
       "  -2130092980,\n",
       "  -2130092883,\n",
       "  -2130092658,\n",
       "  -2130092458,\n",
       "  -2130092315,\n",
       "  -2130092288,\n",
       "  -2130092139,\n",
       "  -2130091721,\n",
       "  -2130090166,\n",
       "  -2130088827,\n",
       "  -2130088594,\n",
       "  -2130088524,\n",
       "  -2130088360,\n",
       "  -2130087889,\n",
       "  -2130086484,\n",
       "  -2130085205,\n",
       "  -2130084916,\n",
       "  -2130084867,\n",
       "  -2130084615,\n",
       "  -2130084294,\n",
       "  -2130082667,\n",
       "  -2130081249,\n",
       "  -2130080967],\n",
       " [2103382046,\n",
       "  2008789664,\n",
       "  2008789472,\n",
       "  2008789421,\n",
       "  2008789180,\n",
       "  2008788364,\n",
       "  2008787402,\n",
       "  2008786841,\n",
       "  2008786688,\n",
       "  2008786643,\n",
       "  2008786447,\n",
       "  2008785677,\n",
       "  2008784838,\n",
       "  2008784619,\n",
       "  2008784508,\n",
       "  2008784489,\n",
       "  2008784370,\n",
       "  2008783961,\n",
       "  2008783695,\n",
       "  2008783552,\n",
       "  2008783518,\n",
       "  2008783476,\n",
       "  2008783245,\n",
       "  2008782197,\n",
       "  2008780779,\n",
       "  2008780187,\n",
       "  2008780065,\n",
       "  2008780006,\n",
       "  2008779665,\n",
       "  2008778373],\n",
       " [-2130120247,\n",
       "  -2130120171,\n",
       "  -2130120110,\n",
       "  -2130119886,\n",
       "  -2130119429,\n",
       "  -2130119103,\n",
       "  -2130118910,\n",
       "  -2130118850,\n",
       "  -2130118806,\n",
       "  -2130118625,\n",
       "  -2130118289,\n",
       "  -2130118080,\n",
       "  -2130117992,\n",
       "  -2130117951,\n",
       "  -2130117939,\n",
       "  -2130117870,\n",
       "  -2130117744,\n",
       "  -2130117639,\n",
       "  -2130117573,\n",
       "  -2130117562,\n",
       "  -2130117503,\n",
       "  -2130117256,\n",
       "  -2130116603,\n",
       "  -2130116107,\n",
       "  -2130115902,\n",
       "  -2130115842,\n",
       "  -2130115777,\n",
       "  -2130115439,\n",
       "  -2130114515,\n",
       "  -2130113815,\n",
       "  -2130113602,\n",
       "  -2130113543,\n",
       "  -2130113472,\n",
       "  -2130113130,\n",
       "  -2130112293,\n",
       "  -2130111593,\n",
       "  -2130111357,\n",
       "  -2130111302,\n",
       "  -2130111216,\n",
       "  -2130110831,\n",
       "  -2130110075,\n",
       "  -2130109497,\n",
       "  -2115329542,\n",
       "  -2115329228,\n",
       "  -2115328986,\n",
       "  -2115328913,\n",
       "  -2115328903,\n",
       "  -2115328872,\n",
       "  -2115328760,\n",
       "  -2115328415,\n",
       "  -2115328245,\n",
       "  -2115328164,\n",
       "  -2115328154,\n",
       "  -2115328124,\n",
       "  -2115327997,\n",
       "  -2115327622,\n",
       "  -2115327437,\n",
       "  -2115327432,\n",
       "  -2115327361,\n",
       "  -2115327356,\n",
       "  -2115327327,\n",
       "  -2115327222,\n",
       "  -2115326934,\n",
       "  -2115326784,\n",
       "  -2115326729,\n",
       "  -2115326727,\n",
       "  -2115326719,\n",
       "  -2115326668,\n",
       "  -2115326594,\n",
       "  -2115326539,\n",
       "  -2115326521,\n",
       "  -2115326517,\n",
       "  -2115326501,\n",
       "  -2115326444,\n",
       "  -2115326317,\n",
       "  -2115326246,\n",
       "  -2115326216,\n",
       "  -2115326214,\n",
       "  -2115326193,\n",
       "  -2115326146,\n",
       "  -2115326049,\n",
       "  -2115325967,\n",
       "  -2115325936,\n",
       "  -2115325933,\n",
       "  -2032581349,\n",
       "  -2032581038,\n",
       "  -2032580705,\n",
       "  -2032580259,\n",
       "  -2032580192,\n",
       "  -2032580121,\n",
       "  -2032579811,\n",
       "  -2032579482,\n",
       "  -2032579118,\n",
       "  -2032578562,\n",
       "  -2032578470,\n",
       "  -2032578401,\n",
       "  -2032578038,\n",
       "  -2032577621,\n",
       "  -2032577272,\n",
       "  -2032576644])"
      ]
     },
     "execution_count": 41,
     "metadata": {},
     "output_type": "execute_result"
    }
   ],
   "source": [
    "# Run test metrics for three weeks\n",
    "\n",
    "heapq.nlargest(30, test_list_g), heapq.nsmallest(30,test_list_g), heapq.nlargest(30,test_list_h), heapq.nsmallest(100,test_list_h)"
   ]
  },
  {
   "cell_type": "code",
   "execution_count": 42,
   "metadata": {
    "collapsed": true
   },
   "outputs": [],
   "source": [
    "# Filter out errant values\n",
    "\n",
    "g_rev = {k: [x for x in v if 0 <= x[1] <= 13000] for k, v in datetime_count_times_g.items()}\n",
    "h_rev = {k: [x for x in v if 0 <= x[1] <= 13000] for k, v in datetime_count_times_h.items()}\n",
    "i_rev = {k: [x for x in v if 0 <= x[1] <= 13000] for k, v in datetime_count_times_i.items()}"
   ]
  },
  {
   "cell_type": "code",
   "execution_count": 43,
   "metadata": {
    "collapsed": true
   },
   "outputs": [],
   "source": [
    "# Generate weekday counts for each station\n",
    "\n",
    "day_counts_f = {}\n",
    "for station, rows in SCP_Station_Count_f.items():\n",
    "    by_day_f = defaultdict(int)\n",
    "    for time, count in rows:\n",
    "        day = time.weekday()\n",
    "        by_day_f[day] += count\n",
    "    day_counts_f[station] = sorted(by_day_f.items())\n",
    "\n",
    "day_counts_g = {}\n",
    "for station, rows in g_rev.items():\n",
    "    by_day_g = defaultdict(int)\n",
    "    for time, count in rows:\n",
    "        day = time.weekday()\n",
    "        by_day_g[day] += count\n",
    "    day_counts_g[station] = sorted(by_day_g.items())\n",
    "    \n",
    "day_counts_h = {}\n",
    "for station, rows in h_rev.items():\n",
    "    by_day_h = defaultdict(int)\n",
    "    for time, count in rows:\n",
    "        day = time.weekday()\n",
    "        by_day_h[day] += count\n",
    "    day_counts_h[station] = sorted(by_day_h.items())\n",
    "    \n",
    "day_counts_i = {}\n",
    "for station, rows in i_rev.items():\n",
    "    by_day_i = defaultdict(int)\n",
    "    for time, count in rows:\n",
    "        day = time.weekday()\n",
    "        by_day_i[day] += count\n",
    "    day_counts_i[station] = sorted(by_day_i.items())"
   ]
  },
  {
   "cell_type": "code",
   "execution_count": 44,
   "metadata": {
    "scrolled": true
   },
   "outputs": [
    {
     "data": {
      "text/plain": [
       "([(0, 57082), (1, 17632), (2, 16503)],\n",
       " [(0, 85707), (1, 89441), (2, 99851)],\n",
       " [(0, 95346), (1, 93800), (2, 93730)],\n",
       " [(0, 27), (1, 155), (2, 185)])"
      ]
     },
     "execution_count": 44,
     "metadata": {},
     "output_type": "execute_result"
    }
   ],
   "source": [
    "day_counts_g['59 ST'][:3], day_counts_h['59 ST'][:3], day_counts_i['59 ST'][:3], day_counts_f['59 ST'][:3] # Test data\n",
    "\n",
    "# It seems that the data forthe '59 ST' station is erroneous for week 1/06"
   ]
  },
  {
   "cell_type": "code",
   "execution_count": 45,
   "metadata": {},
   "outputs": [
    {
     "data": {
      "image/png": "[encoded data removed]",
      "text/plain": [
       "<matplotlib.figure.Figure at 0x11e88f4e0>"
      ]
     },
     "metadata": {},
     "output_type": "display_data"
    }
   ],
   "source": [
    "# Plot the data\n",
    "\n",
    "weekdays = ['Mon','Tue','Wed', 'Thur', 'Fri','Sat','Sun']\n",
    "fig = plt.figure(figsize = (40,10));\n",
    "ax1 = fig.add_subplot(221);\n",
    "ax2 = fig.add_subplot(221);\n",
    "ax3 = fig.add_subplot(221);\n",
    "ax4 = fig.add_subplot(221);\n",
    "ax1.plot([x for x,y in day_counts_g['59 ST']],[y for x,y in day_counts_g['59 ST']], label = 'Week of 12/23');\n",
    "ax1.legend()\n",
    "ax2.plot([x for x,y in day_counts_h['59 ST']],[y for x,y in day_counts_h['59 ST']], label = 'Week of 12/30' );\n",
    "ax2.legend()\n",
    "ax3.plot([x for x,y in day_counts_f['59 ST']],[y for x,y in day_counts_f['59 ST']], label = 'Week of 1/06');\n",
    "ax3.legend()\n",
    "ax4.plot([x for x,y in day_counts_i['59 ST']],[y for x,y in day_counts_i['59 ST']], label = 'Week of 1/13');\n",
    "ax4.legend()\n",
    "plt.xticks([x for x,y in day_counts_g['59 ST']],[str(x) for x in weekdays]);\n",
    "plt.ylabel('Ridership');\n",
    "plt.title('Ridership by Number of Stations during Christmas Season');\n",
    "\n",
    "\n",
    "# Once again, data for the '59 ST' station is erroneous for week 1/06"
   ]
  },
  {
   "cell_type": "markdown",
   "metadata": {},
   "source": [
    "# Challenge 9 - Sorted and Max Station Counts for Combined Weeks "
   ]
  },
  {
   "cell_type": "code",
   "execution_count": 46,
   "metadata": {
    "collapsed": true
   },
   "outputs": [],
   "source": [
    "Consolidated_Dict = defaultdict()\n",
    "\n",
    "New_List = [day_counts_g, day_counts_h, day_counts_i]\n",
    "\n",
    "for i in New_List:\n",
    "    for k,v in i.items():\n",
    "        Consolidated_Dict[k] = 0\n",
    "        for j in v:\n",
    "            Consolidated_Dict[k] += j[1]"
   ]
  },
  {
   "cell_type": "code",
   "execution_count": 47,
   "metadata": {},
   "outputs": [
    {
     "data": {
      "text/plain": [
       "'METS-WILLETS PT'"
      ]
     },
     "execution_count": 47,
     "metadata": {},
     "output_type": "execute_result"
    }
   ],
   "source": [
    "max(Consolidated_Dict.items(), key=operator.itemgetter(1))[0]"
   ]
  },
  {
   "cell_type": "code",
   "execution_count": 51,
   "metadata": {},
   "outputs": [
    {
     "data": {
      "text/plain": [
       "[('METS-WILLETS PT', 3190387),\n",
       " ('34 ST-PENN STA', 2893427),\n",
       " ('FULTON ST', 2863526),\n",
       " ('CORTLANDT ST', 2215685),\n",
       " ('ATL AV-BARCLAY', 1955074),\n",
       " ('TIMES SQ-42 ST', 1701810),\n",
       " ('WALL ST', 1101202),\n",
       " ('34 ST-HERALD SQ', 1008735),\n",
       " ('66 ST-LINCOLN', 1001422),\n",
       " ('HOWARD BCH JFK', 967532)]"
      ]
     },
     "execution_count": 51,
     "metadata": {},
     "output_type": "execute_result"
    }
   ],
   "source": [
    "sorted_list = sorted(Consolidated_Dict.items(), key=operator.itemgetter(1), reverse = True) # Station counts sorted\n",
    "sorted_list[:10]"
   ]
  },
  {
   "cell_type": "markdown",
   "metadata": {},
   "source": [
    "# Challenge 10 - Histogram for Counts of Stations by Binned Ridership  "
   ]
  },
  {
   "cell_type": "code",
   "execution_count": 52,
   "metadata": {},
   "outputs": [
    {
     "data": {
      "image/png": "[encoded data removed]",
      "text/plain": [
       "<matplotlib.figure.Figure at 0x11e938198>"
      ]
     },
     "metadata": {},
     "output_type": "display_data"
    }
   ],
   "source": [
    "plt.figure(figsize = (20,8));\n",
    "plt.xlabel('Ridership', fontsize = 25);\n",
    "plt.ylabel('Number of Stations', fontsize = 25);\n",
    "plt.title('Ridership by Number of Stations during Christmas Season', fontsize = 30);\n",
    "plt.hist([x for x in Consolidated_Dict.values()], bins = range(0,4000000,100000));\n",
    "plt.legend(['Station Count'], fontsize = 18);"
   ]
  },
  {
   "cell_type": "code",
   "execution_count": null,
   "metadata": {
    "collapsed": true
   },
   "outputs": [],
   "source": []
  }
 ],
 "metadata": {
  "kernelspec": {
   "display_name": "Python 3",
   "language": "python",
   "name": "python3"
  },
  "language_info": {
   "codemirror_mode": {
    "name": "ipython",
    "version": 3
   },
   "file_extension": ".py",
   "mimetype": "text/x-python",
   "name": "python",
   "nbconvert_exporter": "python",
   "pygments_lexer": "ipython3",
   "version": "3.6.1"
  }
 },
 "nbformat": 4,
 "nbformat_minor": 2
}
