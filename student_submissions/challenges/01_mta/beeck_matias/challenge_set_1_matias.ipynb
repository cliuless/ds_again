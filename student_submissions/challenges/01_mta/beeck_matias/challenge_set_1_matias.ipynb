{
 "cells": [
  {
   "cell_type": "markdown",
   "metadata": {},
   "source": [
    "Topic:        Challenge Set 1\n",
    "Subject:      Explore MTA turnstile data\n",
    "Date:         01/16/2018\n",
    "Name:         Matias Beeck"
   ]
  },
  {
   "cell_type": "code",
   "execution_count": 1,
   "metadata": {
    "collapsed": true
   },
   "outputs": [],
   "source": [
    "from __future__ import division, print_function"
   ]
  },
  {
   "cell_type": "markdown",
   "metadata": {},
   "source": [
    "# MTA Data Challenges"
   ]
  },
  {
   "cell_type": "code",
   "execution_count": 2,
   "metadata": {
    "collapsed": true
   },
   "outputs": [],
   "source": [
    "import csv\n",
    "import pandas as pd\n",
    "from datetime import datetime\n",
    "from collections import Counter"
   ]
  },
  {
   "cell_type": "markdown",
   "metadata": {},
   "source": [
    "### Challenge 1"
   ]
  },
  {
   "cell_type": "markdown",
   "metadata": {},
   "source": [
    "#### Make key for each row by C/A UNIT SCP and STATION"
   ]
  },
  {
   "cell_type": "code",
   "execution_count": 3,
   "metadata": {},
   "outputs": [
    {
     "name": "stdout",
     "output_type": "stream",
     "text": [
      "  % Total    % Received % Xferd  Average Speed   Time    Time     Time  Current\n",
      "                                 Dload  Upload   Total   Spent    Left  Speed\n",
      "100 24.0M    0 24.0M    0     0  4927k      0 --:--:--  0:00:05 --:--:-- 5077k\n"
     ]
    }
   ],
   "source": [
    "!curl -O http://web.mta.info/developers/data/nyct/turnstile/turnstile_150627.txt"
   ]
  },
  {
   "cell_type": "code",
   "execution_count": 4,
   "metadata": {
    "collapsed": true
   },
   "outputs": [],
   "source": [
    "with open('turnstile_150627.txt') as f:\n",
    "    reader = csv.reader(f)\n",
    "    rows = [[cell.strip() for cell in row] for row in reader]"
   ]
  },
  {
   "cell_type": "code",
   "execution_count": 5,
   "metadata": {
    "collapsed": true
   },
   "outputs": [],
   "source": [
    "assert rows.pop(0) == ['C/A', 'UNIT', 'SCP', 'STATION', 'LINENAME',\n",
    "                       'DIVISION', 'DATE', 'TIME', 'DESC', 'ENTRIES',\n",
    "                       'EXITS']"
   ]
  },
  {
   "cell_type": "code",
   "execution_count": 6,
   "metadata": {
    "collapsed": true
   },
   "outputs": [],
   "source": [
    "new_key_dictionary = {}\n",
    "for row in rows:\n",
    "    # why does our key have a tuple ? \n",
    "    new_key_dictionary.setdefault(tuple(row[:4]), []).append(tuple(row[4:]))\n",
    "    "
   ]
  },
  {
   "cell_type": "code",
   "execution_count": 7,
   "metadata": {},
   "outputs": [],
   "source": [
    "# Another way to do the same thing .. \n",
    "\n",
    "from collections import defaultdict\n",
    "t=defaultdict(list)\n",
    "\n",
    "for row in rows:\n",
    "    t[tuple(row[:4])].append(tuple(row[4:]))"
   ]
  },
  {
   "cell_type": "markdown",
   "metadata": {},
   "source": [
    "### Challenge 2"
   ]
  },
  {
   "cell_type": "code",
   "execution_count": 8,
   "metadata": {
    "collapsed": true
   },
   "outputs": [],
   "source": [
    "# create a dict comprehension using list comprehension\n",
    "datetime_cumulative = {turnstile: [(datetime.strptime(date + time,\n",
    "                                                      '%m/%d/%Y%X'),\n",
    "                                    int(in_cumulative))\n",
    "                                   for _, _, date, time,\n",
    "                                       _, in_cumulative, _ in rows]\n",
    "                       for turnstile, rows in new_key_dictionary.items()}"
   ]
  },
  {
   "cell_type": "code",
   "execution_count": 9,
   "metadata": {
    "collapsed": true
   },
   "outputs": [],
   "source": [
    "# sort by date\n",
    "for rows in datetime_cumulative.values():\n",
    "    assert rows == sorted(rows)"
   ]
  },
  {
   "cell_type": "code",
   "execution_count": 10,
   "metadata": {
    "collapsed": true
   },
   "outputs": [],
   "source": [
    "datetime_count_times = {turnstile: [[rows[i][0], # datetime first\n",
    "                                      # delta on entries\n",
    "                                     rows[i+1][1] - rows[i][1],\n",
    "                                     # delta on datetime\n",
    "                                     rows[i+1][0] - rows[i][0]]\n",
    "                                    for i in range(len(rows) - 1)]\n",
    "                        for turnstile, rows in datetime_cumulative.items()}"
   ]
  },
  {
   "cell_type": "code",
   "execution_count": 11,
   "metadata": {},
   "outputs": [
    {
     "name": "stdout",
     "output_type": "stream",
     "text": [
      "[2428, 2443, 2444, 2447, 2448, 2455, 2456, 2459, 2473, 2474, 2487, 2492, 2514, 2521, 2536, 2548, 2552, 2554, 2558, 2567, 2569, 2579, 2602, 2612, 2621, 2622, 2630, 2630, 2644, 2656, 2670, 2671, 2692, 2728, 2731, 2757, 2765, 2804, 2844, 2848, 2920, 2926, 2926, 3488, 87577, 130932, 131711, 131792, 531430, 117440499]\n"
     ]
    }
   ],
   "source": [
    "all_counts = [count for rows in datetime_count_times.values() for _, count, _ in rows]\n",
    "all_counts.sort()\n",
    "print(all_counts[-50:])"
   ]
  },
  {
   "cell_type": "code",
   "execution_count": 12,
   "metadata": {},
   "outputs": [
    {
     "name": "stdout",
     "output_type": "stream",
     "text": [
      "[-1208464910, -8664797, -7691983, -1958436, -1283643, -531174, -131370, -131215, -130432, -87562]\n"
     ]
    }
   ],
   "source": [
    "print(all_counts[:10])"
   ]
  },
  {
   "cell_type": "code",
   "execution_count": 13,
   "metadata": {},
   "outputs": [
    {
     "name": "stdout",
     "output_type": "stream",
     "text": [
      "[(4.0, 172791), (4.2, 10460), (8.0, 189), (4.433333333333334, 161), (0.02222222222222222, 80), (0.02277777777777778, 64), (0.022500000000000003, 55), (0.02777777777777778, 26), (3.963888888888889, 24), (0.03611111111111111, 24)]\n"
     ]
    }
   ],
   "source": [
    "# Time intervals? \n",
    "\n",
    "all_times = [duration.total_seconds() / 60 / 60\n",
    "             for rows in datetime_count_times.values()\n",
    "             for _, _, duration in rows]\n",
    "print(Counter(all_times).most_common(10))"
   ]
  },
  {
   "cell_type": "code",
   "execution_count": 14,
   "metadata": {},
   "outputs": [],
   "source": [
    "datetime_counts = {turnstile: [(time, count)\n",
    "                               for (time, count, _) in rows\n",
    "                               if 0 <= count <= 5000]\n",
    "                   for turnstile, rows in datetime_count_times.items()}\n"
   ]
  },
  {
   "cell_type": "markdown",
   "metadata": {},
   "source": [
    "`datetime_counts` is a solution to Challenge 2."
   ]
  },
  {
   "cell_type": "code",
   "execution_count": 15,
   "metadata": {},
   "outputs": [
    {
     "name": "stdout",
     "output_type": "stream",
     "text": [
      "0.9941598540495402\n"
     ]
    }
   ],
   "source": [
    "all_good_counts = [count for rows in datetime_counts.values() for _, count in rows]\n",
    "print(len(all_good_counts) / len(all_counts))"
   ]
  },
  {
   "cell_type": "code",
   "execution_count": 16,
   "metadata": {},
   "outputs": [
    {
     "name": "stdout",
     "output_type": "stream",
     "text": [
      "[2848, 2920, 2926, 2926, 3488]\n"
     ]
    }
   ],
   "source": [
    "all_good_counts.sort()\n",
    "print(all_good_counts[-5:])"
   ]
  },
  {
   "cell_type": "code",
   "execution_count": 17,
   "metadata": {},
   "outputs": [
    {
     "name": "stdout",
     "output_type": "stream",
     "text": [
      "[0, 0, 0, 0, 0]\n"
     ]
    }
   ],
   "source": [
    "print(all_good_counts[:5])"
   ]
  },
  {
   "cell_type": "code",
   "execution_count": 18,
   "metadata": {},
   "outputs": [
    {
     "data": {
      "text/plain": [
       "(('A002', 'R051', '02-00-00', 'LEXINGTON AVE'),\n",
       " [(datetime.datetime(2015, 6, 20, 0, 0), 50),\n",
       "  (datetime.datetime(2015, 6, 20, 4, 0), 18),\n",
       "  (datetime.datetime(2015, 6, 20, 8, 0), 102),\n",
       "  (datetime.datetime(2015, 6, 20, 12, 0), 216),\n",
       "  (datetime.datetime(2015, 6, 20, 16, 0), 364),\n",
       "  (datetime.datetime(2015, 6, 20, 20, 0), 159),\n",
       "  (datetime.datetime(2015, 6, 21, 0, 0), 26),\n",
       "  (datetime.datetime(2015, 6, 21, 4, 0), 26),\n",
       "  (datetime.datetime(2015, 6, 21, 8, 0), 72),\n",
       "  (datetime.datetime(2015, 6, 21, 12, 0), 219),\n",
       "  (datetime.datetime(2015, 6, 21, 16, 0), 233),\n",
       "  (datetime.datetime(2015, 6, 21, 20, 0), 124),\n",
       "  (datetime.datetime(2015, 6, 22, 0, 0), 11),\n",
       "  (datetime.datetime(2015, 6, 22, 4, 0), 44),\n",
       "  (datetime.datetime(2015, 6, 22, 8, 0), 219),\n",
       "  (datetime.datetime(2015, 6, 22, 12, 0), 303),\n",
       "  (datetime.datetime(2015, 6, 22, 16, 0), 909),\n",
       "  (datetime.datetime(2015, 6, 22, 20, 0), 252),\n",
       "  (datetime.datetime(2015, 6, 23, 0, 0), 23),\n",
       "  (datetime.datetime(2015, 6, 23, 4, 0), 62),\n",
       "  (datetime.datetime(2015, 6, 23, 7, 58, 11), 1),\n",
       "  (datetime.datetime(2015, 6, 23, 8, 0), 187),\n",
       "  (datetime.datetime(2015, 6, 23, 12, 0), 322),\n",
       "  (datetime.datetime(2015, 6, 23, 16, 0), 924),\n",
       "  (datetime.datetime(2015, 6, 23, 20, 0), 272),\n",
       "  (datetime.datetime(2015, 6, 24, 0, 0), 18),\n",
       "  (datetime.datetime(2015, 6, 24, 4, 0), 58),\n",
       "  (datetime.datetime(2015, 6, 24, 8, 0), 189),\n",
       "  (datetime.datetime(2015, 6, 24, 12, 0), 304),\n",
       "  (datetime.datetime(2015, 6, 24, 16, 0), 1126),\n",
       "  (datetime.datetime(2015, 6, 24, 20, 0), 348),\n",
       "  (datetime.datetime(2015, 6, 25, 0, 0), 29),\n",
       "  (datetime.datetime(2015, 6, 25, 4, 0), 60),\n",
       "  (datetime.datetime(2015, 6, 25, 8, 0), 231),\n",
       "  (datetime.datetime(2015, 6, 25, 12, 0), 404),\n",
       "  (datetime.datetime(2015, 6, 25, 16, 0), 1131),\n",
       "  (datetime.datetime(2015, 6, 25, 20, 0), 335),\n",
       "  (datetime.datetime(2015, 6, 26, 0, 0), 44),\n",
       "  (datetime.datetime(2015, 6, 26, 4, 0), 51),\n",
       "  (datetime.datetime(2015, 6, 26, 8, 0), 236),\n",
       "  (datetime.datetime(2015, 6, 26, 12, 0), 383),\n",
       "  (datetime.datetime(2015, 6, 26, 16, 0), 882)])"
      ]
     },
     "execution_count": 18,
     "metadata": {},
     "output_type": "execute_result"
    }
   ],
   "source": [
    "list(datetime_counts.items())[0]"
   ]
  },
  {
   "cell_type": "markdown",
   "metadata": {},
   "source": [
    "### Challenge 3"
   ]
  },
  {
   "cell_type": "code",
   "execution_count": 19,
   "metadata": {},
   "outputs": [
    {
     "data": {
      "text/plain": [
       "(('A002', 'R051', '02-00-00', 'LEXINGTON AVE'),\n",
       " [(datetime.date(2015, 6, 20), 909),\n",
       "  (datetime.date(2015, 6, 21), 700),\n",
       "  (datetime.date(2015, 6, 22), 1738),\n",
       "  (datetime.date(2015, 6, 23), 1791),\n",
       "  (datetime.date(2015, 6, 24), 2043),\n",
       "  (datetime.date(2015, 6, 25), 2190),\n",
       "  (datetime.date(2015, 6, 26), 1596)])"
      ]
     },
     "execution_count": 19,
     "metadata": {},
     "output_type": "execute_result"
    }
   ],
   "source": [
    "# dictionary of dictionaries\n",
    "day_counts = {}\n",
    "for turnstile, rows in datetime_counts.items():\n",
    "    by_day = {}\n",
    "    for time, count in rows:\n",
    "        day = time.date()\n",
    "        by_day[day] = by_day.get(day, 0) + count\n",
    "    day_counts[turnstile] = sorted(by_day.items())\n",
    "    \n",
    "\n",
    "list(day_counts.items())[0]"
   ]
  },
  {
   "cell_type": "code",
   "execution_count": 20,
   "metadata": {},
   "outputs": [
    {
     "data": {
      "text/plain": [
       "[(datetime.date(2015, 6, 20), 271),\n",
       " (datetime.date(2015, 6, 21), 201),\n",
       " (datetime.date(2015, 6, 22), 561),\n",
       " (datetime.date(2015, 6, 23), 543),\n",
       " (datetime.date(2015, 6, 24), 555),\n",
       " (datetime.date(2015, 6, 25), 556),\n",
       " (datetime.date(2015, 6, 26), 543)]"
      ]
     },
     "execution_count": 20,
     "metadata": {},
     "output_type": "execute_result"
    }
   ],
   "source": [
    "# dictionary of dictionaries\n",
    "day_counts = {}\n",
    "for turnstile, rows in datetime_counts.items():\n",
    "    by_day = defaultdict(int)\n",
    "    for time, count in rows:\n",
    "        day = time.date()\n",
    "        by_day[day] +=count\n",
    "    day_counts[turnstile] = sorted(by_day.items())\n",
    "    \n",
    "\n",
    "list_rockawayblvd = list(day_counts['N135', 'R385', '01-03-00', 'ROCKAWAY BLVD'])\n",
    "list_rockawayblvd"
   ]
  },
  {
   "cell_type": "markdown",
   "metadata": {
    "collapsed": true
   },
   "source": [
    "### Challenge 4"
   ]
  },
  {
   "cell_type": "code",
   "execution_count": 21,
   "metadata": {
    "collapsed": true
   },
   "outputs": [],
   "source": [
    "import matplotlib.pyplot as plt\n",
    "%matplotlib inline\n",
    "dates = [i[0] for i in list_rockawayblvd]\n",
    "counts = [i[1] for i in list_rockawayblvd]\n"
   ]
  },
  {
   "cell_type": "code",
   "execution_count": 22,
   "metadata": {},
   "outputs": [
    {
     "data": {
      "text/plain": [
       "[<matplotlib.lines.Line2D at 0x114bc1080>]"
      ]
     },
     "execution_count": 22,
     "metadata": {},
     "output_type": "execute_result"
    },
    {
     "data": {
      "image/png": "[encoded data removed]",
      "text/plain": [
       "<matplotlib.figure.Figure at 0x114b65278>"
      ]
     },
     "metadata": {},
     "output_type": "display_data"
    }
   ],
   "source": [
    "plt.figure(figsize=(10,3))\n",
    "plt.plot(dates,counts)"
   ]
  },
  {
   "cell_type": "markdown",
   "metadata": {},
   "source": [
    "### Challenge 5"
   ]
  },
  {
   "cell_type": "code",
   "execution_count": 23,
   "metadata": {
    "collapsed": true
   },
   "outputs": [],
   "source": [
    "with open('turnstile_150627.txt') as f:\n",
    "    reader = csv.reader(f)\n",
    "    rows = [[cell.strip() for cell in row] for row in reader]\n",
    "assert rows.pop(0) == ['C/A', 'UNIT', 'SCP', 'STATION', 'LINENAME',\n",
    "                       'DIVISION', 'DATE', 'TIME', 'DESC', 'ENTRIES',\n",
    "                       'EXITS']    "
   ]
  },
  {
   "cell_type": "code",
   "execution_count": 24,
   "metadata": {},
   "outputs": [],
   "source": [
    "from collections import defaultdict\n",
    "caunitstation=defaultdict(list)\n",
    "    \n",
    "CA = []\n",
    "UNIT = []\n",
    "STATION = []\n",
    "\n",
    "for row in rows:\n",
    "    CA.append(row[0])\n",
    "    UNIT.append(row[1])\n",
    "    STATION.append(row[3])\n",
    "\n",
    "tuples_list = list(zip(CA, UNIT, STATION))\n",
    "for idx, row in enumerate(rows):\n",
    "    caunitstation[tuple(tuples_list[idx])].append(tuple(row[4:]))\n",
    "    "
   ]
  },
  {
   "cell_type": "code",
   "execution_count": 25,
   "metadata": {},
   "outputs": [],
   "source": [
    "datetime_cumulative_caunitstation = {turnstile: [(datetime.strptime(date + time,\n",
    "                                                      '%m/%d/%Y%X'),\n",
    "                                    int(in_cumulative))\n",
    "                                   for _, _, date, time,\n",
    "                                       _, in_cumulative, _ in rows]\n",
    "                       for turnstile, rows in caunitstation.items()}\n"
   ]
  },
  {
   "cell_type": "code",
   "execution_count": 26,
   "metadata": {
    "collapsed": true
   },
   "outputs": [],
   "source": [
    "datetime_caunitstation_count_times = {turnstile: [[rows[i][0], # datetime first\n",
    "                                      # delta on entries\n",
    "                                     rows[i+1][1] - rows[i][1],\n",
    "                                     # delta on datetime\n",
    "                                     rows[i+1][0] - rows[i][0]]\n",
    "                                    for i in range(len(rows) - 1)]\n",
    "                        for turnstile, rows in datetime_cumulative_caunitstation.items()}"
   ]
  },
  {
   "cell_type": "code",
   "execution_count": 27,
   "metadata": {
    "collapsed": true
   },
   "outputs": [],
   "source": [
    "for key, value in datetime_caunitstation_count_times.items():\n",
    "    for idx, arr in enumerate(value):\n",
    "        if arr[1] > 5000:\n",
    "            del value[idx]"
   ]
  },
  {
   "cell_type": "code",
   "execution_count": 28,
   "metadata": {
    "collapsed": true
   },
   "outputs": [],
   "source": [
    "all_counts = [count for rows in datetime_caunitstation_count_times.values() for _, count, _ in rows]\n",
    "all_times = [duration.total_seconds() / 60 / 60\n",
    "             for rows in datetime_caunitstation_count_times.values()\n",
    "             for _, _, duration in rows]"
   ]
  },
  {
   "cell_type": "code",
   "execution_count": 29,
   "metadata": {
    "collapsed": true
   },
   "outputs": [],
   "source": [
    "datetime_caunitstation_counts = {turnstile: [(time, count)\n",
    "                               for (time, count, _) in rows\n",
    "                               if 0 <= count <= 5000]\n",
    "                   for turnstile, rows in datetime_caunitstation_count_times.items()}\n",
    "all_good_counts = [count for rows in datetime_caunitstation_counts.values() for _, count in rows]\n"
   ]
  },
  {
   "cell_type": "code",
   "execution_count": 30,
   "metadata": {},
   "outputs": [
    {
     "data": {
      "text/plain": [
       "(('A002', 'R051', 'LEXINGTON AVE'),\n",
       " [(datetime.date(2015, 6, 20), 10606),\n",
       "  (datetime.date(2015, 6, 21), 7952),\n",
       "  (datetime.date(2015, 6, 22), 17199),\n",
       "  (datetime.date(2015, 6, 23), 18000),\n",
       "  (datetime.date(2015, 6, 24), 18585),\n",
       "  (datetime.date(2015, 6, 25), 18664),\n",
       "  (datetime.date(2015, 6, 26), 15392)])"
      ]
     },
     "execution_count": 30,
     "metadata": {},
     "output_type": "execute_result"
    }
   ],
   "source": [
    "# dictionary of dictionaries\n",
    "day_counts = {}\n",
    "for turnstile, rows in datetime_caunitstation_counts.items():\n",
    "    by_day = defaultdict(int)\n",
    "    for time, count in rows:\n",
    "        day = time.date()\n",
    "        by_day[day] +=count\n",
    "    day_counts[turnstile] = sorted(by_day.items())\n",
    "    \n",
    "list(day_counts.items())[0]    "
   ]
  },
  {
   "cell_type": "markdown",
   "metadata": {},
   "source": [
    "### Challenge 6"
   ]
  },
  {
   "cell_type": "code",
   "execution_count": 31,
   "metadata": {
    "collapsed": true
   },
   "outputs": [],
   "source": [
    "with open('turnstile_150627.txt') as f:\n",
    "    reader = csv.reader(f)\n",
    "    rows = [[cell.strip() for cell in row] for row in reader]\n",
    "assert rows.pop(0) == ['C/A', 'UNIT', 'SCP', 'STATION', 'LINENAME',\n",
    "                       'DIVISION', 'DATE', 'TIME', 'DESC', 'ENTRIES',\n",
    "                       'EXITS']    "
   ]
  },
  {
   "cell_type": "code",
   "execution_count": 32,
   "metadata": {},
   "outputs": [],
   "source": [
    "station_list=defaultdict(list)\n",
    "\n",
    "for idx, row in enumerate(rows):\n",
    "    station_list[STATION[idx]].append(tuple(row[4:]))\n",
    "    "
   ]
  },
  {
   "cell_type": "code",
   "execution_count": 33,
   "metadata": {},
   "outputs": [],
   "source": [
    "datetime_cumulative_station = {turnstile: [(datetime.strptime(date + time,\n",
    "                                                      '%m/%d/%Y%X'),\n",
    "                                    int(in_cumulative))\n",
    "                                   for _, _, date, time,\n",
    "                                       _, in_cumulative, _ in rows]\n",
    "                       for turnstile, rows in station_list.items()}\n"
   ]
  },
  {
   "cell_type": "code",
   "execution_count": 34,
   "metadata": {
    "collapsed": true
   },
   "outputs": [],
   "source": [
    "datetime_station_count_times = {turnstile: [[rows[i][0], # datetime first\n",
    "                                      # delta on entries\n",
    "                                     rows[i+1][1] - rows[i][1],\n",
    "                                     # delta on datetime\n",
    "                                     rows[i+1][0] - rows[i][0]]\n",
    "                                    for i in range(len(rows) - 1)]\n",
    "                        for turnstile, rows in datetime_cumulative_station.items()}"
   ]
  },
  {
   "cell_type": "code",
   "execution_count": 35,
   "metadata": {
    "collapsed": true
   },
   "outputs": [],
   "source": [
    "for key, value in datetime_station_count_times.items():\n",
    "    for idx, arr in enumerate(value):\n",
    "        if arr[1] > 5000:\n",
    "            del value[idx]"
   ]
  },
  {
   "cell_type": "code",
   "execution_count": 36,
   "metadata": {
    "collapsed": true
   },
   "outputs": [],
   "source": [
    "all_counts = [count for rows in datetime_station_count_times.values() for _, count, _ in rows]\n",
    "all_times = [duration.total_seconds() / 60 / 60\n",
    "             for rows in datetime_station_count_times.values()\n",
    "             for _, _, duration in rows]"
   ]
  },
  {
   "cell_type": "code",
   "execution_count": 37,
   "metadata": {
    "collapsed": true
   },
   "outputs": [],
   "source": [
    "datetime_station_counts = {turnstile: [(time, count)\n",
    "                               for (time, count, _) in rows\n",
    "                               if 0 <= count <= 5000]\n",
    "                   for turnstile, rows in datetime_station_count_times.items()}\n",
    "all_good_counts = [count for rows in datetime_station_counts.values() for _, count in rows]\n"
   ]
  },
  {
   "cell_type": "code",
   "execution_count": 38,
   "metadata": {},
   "outputs": [
    {
     "data": {
      "text/plain": [
       "[(datetime.date(2015, 6, 20), 14161),\n",
       " (datetime.date(2015, 6, 21), 10177),\n",
       " (datetime.date(2015, 6, 22), 29344),\n",
       " (datetime.date(2015, 6, 23), 31095),\n",
       " (datetime.date(2015, 6, 24), 31155),\n",
       " (datetime.date(2015, 6, 25), 31970),\n",
       " (datetime.date(2015, 6, 26), 25534)]"
      ]
     },
     "execution_count": 38,
     "metadata": {},
     "output_type": "execute_result"
    }
   ],
   "source": [
    "# dictionary of dictionaries\n",
    "day_counts_week1 = {}\n",
    "for turnstile, rows in datetime_station_counts.items():\n",
    "    by_day = defaultdict(int)\n",
    "    for time, count in rows:\n",
    "        day = time.date()\n",
    "        by_day[day] +=count\n",
    "    day_counts_week1[turnstile] = sorted(by_day.items())\n",
    "    \n",
    "lex_ave_date_list = list(day_counts_week1['LEXINGTON AVE'])\n",
    "lex_ave_date_list"
   ]
  },
  {
   "cell_type": "markdown",
   "metadata": {},
   "source": [
    "### Challenge 7"
   ]
  },
  {
   "cell_type": "code",
   "execution_count": 39,
   "metadata": {},
   "outputs": [
    {
     "data": {
      "text/plain": [
       "[<matplotlib.lines.Line2D at 0x12f130ba8>]"
      ]
     },
     "execution_count": 39,
     "metadata": {},
     "output_type": "execute_result"
    },
    {
     "data": {
      "image/png": "[encoded data removed]",
      "text/plain": [
       "<matplotlib.figure.Figure at 0x12f021eb8>"
      ]
     },
     "metadata": {},
     "output_type": "display_data"
    }
   ],
   "source": [
    "dates = [i[0] for i in lex_ave_date_list]\n",
    "counts = [i[1] for i in lex_ave_date_list]\n",
    "plt.figure(figsize=(10,3))\n",
    "plt.plot(dates,counts)"
   ]
  },
  {
   "cell_type": "markdown",
   "metadata": {},
   "source": [
    "### Challenge 8"
   ]
  },
  {
   "cell_type": "code",
   "execution_count": 40,
   "metadata": {},
   "outputs": [
    {
     "data": {
      "text/plain": [
       "[14161, 10177, 29344, 31095, 31155, 31970, 25534]"
      ]
     },
     "execution_count": 40,
     "metadata": {},
     "output_type": "execute_result"
    }
   ],
   "source": [
    "week1_count_list = [x[1] for x in lex_ave_date_list]\n",
    "week1_count_list\n"
   ]
  },
  {
   "cell_type": "code",
   "execution_count": 41,
   "metadata": {},
   "outputs": [
    {
     "name": "stdout",
     "output_type": "stream",
     "text": [
      "  % Total    % Received % Xferd  Average Speed   Time    Time     Time  Current\n",
      "                                 Dload  Upload   Total   Spent    Left  Speed\n",
      "100 23.9M    0 23.9M    0     0  1887k      0 --:--:--  0:00:13 --:--:-- 1973k\n"
     ]
    }
   ],
   "source": [
    "# Importing next week\n",
    "!curl -O http://web.mta.info/developers/data/nyct/turnstile/turnstile_150704.txt"
   ]
  },
  {
   "cell_type": "code",
   "execution_count": 42,
   "metadata": {},
   "outputs": [
    {
     "name": "stdout",
     "output_type": "stream",
     "text": [
      "  % Total    % Received % Xferd  Average Speed   Time    Time     Time  Current\n",
      "                                 Dload  Upload   Total   Spent    Left  Speed\n",
      "100 23.8M    0 23.8M    0     0  1629k      0 --:--:--  0:00:15 --:--:-- 1712k\n"
     ]
    }
   ],
   "source": [
    "# Imporitng third week\n",
    "!curl -O http://web.mta.info/developers/data/nyct/turnstile/turnstile_150711.txt"
   ]
  },
  {
   "cell_type": "code",
   "execution_count": 43,
   "metadata": {
    "collapsed": true
   },
   "outputs": [],
   "source": [
    "# Getting next week\n",
    "with open('turnstile_150704.txt') as f:\n",
    "    reader = csv.reader(f)\n",
    "    rows = [[cell.strip() for cell in row] for row in reader]\n",
    "\n",
    "assert rows.pop(0) == ['C/A', 'UNIT', 'SCP', 'STATION', 'LINENAME',\n",
    "                       'DIVISION', 'DATE', 'TIME', 'DESC', 'ENTRIES',\n",
    "                       'EXITS']\n"
   ]
  },
  {
   "cell_type": "code",
   "execution_count": 44,
   "metadata": {
    "collapsed": true
   },
   "outputs": [],
   "source": [
    "station_list=defaultdict(list)\n",
    "STATION = []\n",
    "for row in rows:\n",
    "    STATION.append(row[3])\n",
    "    \n",
    "for idx, row in enumerate(rows):\n",
    "    station_list[STATION[idx]].append(tuple(row[4:]))"
   ]
  },
  {
   "cell_type": "code",
   "execution_count": 45,
   "metadata": {
    "collapsed": true
   },
   "outputs": [],
   "source": [
    "datetime_cumulative_station = {turnstile: [(datetime.strptime(date + time,\n",
    "                                                      '%m/%d/%Y%X'),\n",
    "                                    int(in_cumulative))\n",
    "                                   for _, _, date, time,\n",
    "                                       _, in_cumulative, _ in rows]\n",
    "                       for turnstile, rows in station_list.items()}\n"
   ]
  },
  {
   "cell_type": "code",
   "execution_count": 46,
   "metadata": {
    "collapsed": true
   },
   "outputs": [],
   "source": [
    "datetime_station_count_times = {turnstile: [[rows[i][0], # datetime first\n",
    "                                      # delta on entries\n",
    "                                     rows[i+1][1] - rows[i][1],\n",
    "                                     # delta on datetime\n",
    "                                     rows[i+1][0] - rows[i][0]]\n",
    "                                    for i in range(len(rows) - 1)]\n",
    "                        for turnstile, rows in datetime_cumulative_station.items()}"
   ]
  },
  {
   "cell_type": "code",
   "execution_count": 47,
   "metadata": {
    "collapsed": true
   },
   "outputs": [],
   "source": [
    "for key, value in datetime_station_count_times.items():\n",
    "    for idx, arr in enumerate(value):\n",
    "        if arr[1] > 5000:\n",
    "            del value[idx]\n",
    "\n",
    "all_counts = [count for rows in datetime_station_count_times.values() for _, count, _ in rows]\n",
    "all_times = [duration.total_seconds() / 60 / 60\n",
    "             for rows in datetime_station_count_times.values()\n",
    "             for _, _, duration in rows]\n",
    "\n",
    "datetime_station_counts = {turnstile: [(time, count)\n",
    "                               for (time, count, _) in rows\n",
    "                               if 0 <= count <= 5000]\n",
    "                   for turnstile, rows in datetime_station_count_times.items()}\n",
    "all_good_counts = [count for rows in datetime_station_counts.values() for _, count in rows]\n"
   ]
  },
  {
   "cell_type": "code",
   "execution_count": 48,
   "metadata": {},
   "outputs": [
    {
     "data": {
      "text/plain": [
       "[(datetime.date(2015, 6, 27), 13674),\n",
       " (datetime.date(2015, 6, 28), 11333),\n",
       " (datetime.date(2015, 6, 29), 29140),\n",
       " (datetime.date(2015, 6, 30), 29753),\n",
       " (datetime.date(2015, 7, 1), 30018),\n",
       " (datetime.date(2015, 7, 2), 29678),\n",
       " (datetime.date(2015, 7, 3), 13535)]"
      ]
     },
     "execution_count": 48,
     "metadata": {},
     "output_type": "execute_result"
    }
   ],
   "source": [
    "# dictionary of dictionaries\n",
    "day_counts_week2 = {}\n",
    "for turnstile, rows in datetime_station_counts.items():\n",
    "    by_day = defaultdict(int)\n",
    "    for time, count in rows:\n",
    "        day = time.date()\n",
    "        by_day[day] +=count\n",
    "    day_counts_week2[turnstile] = sorted(by_day.items())\n",
    "    \n",
    "lex_ave_date_list = list(day_counts_week2['LEXINGTON AVE'])\n",
    "lex_ave_date_list"
   ]
  },
  {
   "cell_type": "code",
   "execution_count": 49,
   "metadata": {},
   "outputs": [
    {
     "data": {
      "text/plain": [
       "[13674, 11333, 29140, 29753, 30018, 29678, 13535]"
      ]
     },
     "execution_count": 49,
     "metadata": {},
     "output_type": "execute_result"
    }
   ],
   "source": [
    "week2_count_list = [x[1] for x in lex_ave_date_list]\n",
    "week2_count_list"
   ]
  },
  {
   "cell_type": "code",
   "execution_count": 50,
   "metadata": {
    "collapsed": true
   },
   "outputs": [],
   "source": [
    "# Week 3\n",
    "# Getting next week\n",
    "with open('turnstile_150711.txt') as f:\n",
    "    reader = csv.reader(f)\n",
    "    rows = [[cell.strip() for cell in row] for row in reader]\n",
    "\n",
    "assert rows.pop(0) == ['C/A', 'UNIT', 'SCP', 'STATION', 'LINENAME',\n",
    "                       'DIVISION', 'DATE', 'TIME', 'DESC', 'ENTRIES',\n",
    "                       'EXITS']\n"
   ]
  },
  {
   "cell_type": "code",
   "execution_count": 51,
   "metadata": {
    "collapsed": true
   },
   "outputs": [],
   "source": [
    "station_list=defaultdict(list)\n",
    "STATION = []\n",
    "for row in rows:\n",
    "    STATION.append(row[3])\n",
    "    \n",
    "for idx, row in enumerate(rows):\n",
    "    station_list[STATION[idx]].append(tuple(row[4:]))"
   ]
  },
  {
   "cell_type": "code",
   "execution_count": 52,
   "metadata": {
    "collapsed": true
   },
   "outputs": [],
   "source": [
    "datetime_cumulative_station = {turnstile: [(datetime.strptime(date + time,\n",
    "                                                      '%m/%d/%Y%X'),\n",
    "                                    int(in_cumulative))\n",
    "                                   for _, _, date, time,\n",
    "                                       _, in_cumulative, _ in rows]\n",
    "                       for turnstile, rows in station_list.items()}\n"
   ]
  },
  {
   "cell_type": "code",
   "execution_count": 53,
   "metadata": {
    "collapsed": true
   },
   "outputs": [],
   "source": [
    "datetime_station_count_times = {turnstile: [[rows[i][0], # datetime first\n",
    "                                      # delta on entries\n",
    "                                     rows[i+1][1] - rows[i][1],\n",
    "                                     # delta on datetime\n",
    "                                     rows[i+1][0] - rows[i][0]]\n",
    "                                    for i in range(len(rows) - 1)]\n",
    "                        for turnstile, rows in datetime_cumulative_station.items()}"
   ]
  },
  {
   "cell_type": "code",
   "execution_count": 54,
   "metadata": {
    "collapsed": true
   },
   "outputs": [],
   "source": [
    "for key, value in datetime_station_count_times.items():\n",
    "    for idx, arr in enumerate(value):\n",
    "        if arr[1] > 5000:\n",
    "            del value[idx]\n",
    "\n",
    "all_counts = [count for rows in datetime_station_count_times.values() for _, count, _ in rows]\n",
    "all_times = [duration.total_seconds() / 60 / 60\n",
    "             for rows in datetime_station_count_times.values()\n",
    "             for _, _, duration in rows]\n",
    "\n",
    "datetime_station_counts = {turnstile: [(time, count)\n",
    "                               for (time, count, _) in rows\n",
    "                               if 0 <= count <= 5000]\n",
    "                   for turnstile, rows in datetime_station_count_times.items()}\n",
    "all_good_counts = [count for rows in datetime_station_counts.values() for _, count in rows]\n"
   ]
  },
  {
   "cell_type": "code",
   "execution_count": 55,
   "metadata": {},
   "outputs": [
    {
     "data": {
      "text/plain": [
       "[(datetime.date(2015, 7, 4), 10873),\n",
       " (datetime.date(2015, 7, 5), 9980),\n",
       " (datetime.date(2015, 7, 6), 26368),\n",
       " (datetime.date(2015, 7, 7), 28438),\n",
       " (datetime.date(2015, 7, 8), 29491),\n",
       " (datetime.date(2015, 7, 9), 29883),\n",
       " (datetime.date(2015, 7, 10), 24311)]"
      ]
     },
     "execution_count": 55,
     "metadata": {},
     "output_type": "execute_result"
    }
   ],
   "source": [
    "# dictionary of dictionaries\n",
    "day_counts_week3 = {}\n",
    "for turnstile, rows in datetime_station_counts.items():\n",
    "    by_day = defaultdict(int)\n",
    "    for time, count in rows:\n",
    "        day = time.date()\n",
    "        by_day[day] +=count\n",
    "    day_counts_week3[turnstile] = sorted(by_day.items())\n",
    "    \n",
    "lex_ave_date_list = list(day_counts_week3['LEXINGTON AVE'])\n",
    "lex_ave_date_list"
   ]
  },
  {
   "cell_type": "code",
   "execution_count": 56,
   "metadata": {},
   "outputs": [
    {
     "data": {
      "text/plain": [
       "[10873, 9980, 26368, 28438, 29491, 29883, 24311]"
      ]
     },
     "execution_count": 56,
     "metadata": {},
     "output_type": "execute_result"
    }
   ],
   "source": [
    "week3_count_list = [x[1] for x in lex_ave_date_list]\n",
    "week3_count_list\n"
   ]
  },
  {
   "cell_type": "code",
   "execution_count": 57,
   "metadata": {},
   "outputs": [
    {
     "data": {
      "text/plain": [
       "<matplotlib.legend.Legend at 0x114b75f98>"
      ]
     },
     "execution_count": 57,
     "metadata": {},
     "output_type": "execute_result"
    },
    {
     "data": {
      "image/png": "[encoded data removed]",
      "text/plain": [
       "<matplotlib.figure.Figure at 0x12f337c88>"
      ]
     },
     "metadata": {},
     "output_type": "display_data"
    }
   ],
   "source": [
    "order = [2,3,4,5,6,0,1]\n",
    "week1_count_list = [week1_count_list[i] for i in order]\n",
    "week2_count_list = [week2_count_list[i] for i in order]\n",
    "week3_count_list = [week3_count_list[i] for i in order]\n",
    "plt.xticks([0,1,2,3,4,5,6],('Monday', 'Tuesday', 'Wednesday', 'Thursday', 'Friday', 'Saturday', 'Sunday'))\n",
    "plt.plot(week1_count_list, label=\"Week 1\")\n",
    "plt.plot(week2_count_list, label=\"Week 2\")\n",
    "plt.plot(week3_count_list, label=\"Week 3\")\n",
    "plt.title('Weekly Commute Numbers At Lexington Ave')\n",
    "plt.legend(bbox_to_anchor=(1.05, 1), loc=2, borderaxespad=0.)\n",
    "\n"
   ]
  },
  {
   "cell_type": "markdown",
   "metadata": {},
   "source": [
    "### Challenge 9"
   ]
  },
  {
   "cell_type": "code",
   "execution_count": 58,
   "metadata": {},
   "outputs": [
    {
     "data": {
      "text/plain": [
       "{'1 AVE': 150372,\n",
       " '103 ST': 161468,\n",
       " '103 ST-CORONA': 122220,\n",
       " '104 ST': 14130,\n",
       " '110 ST': 89757,\n",
       " '110 ST-CATHEDRL': 83346,\n",
       " '110 ST-CPN': 63142,\n",
       " '111 ST': 84708,\n",
       " '116 ST': 213188,\n",
       " '116 ST-COLUMBIA': 86000,\n",
       " '121 ST': 15399,\n",
       " '125 ST': 484018,\n",
       " '135 ST': 127894,\n",
       " '137 ST-CITY COL': 85403,\n",
       " '138 ST-3 AVE': 48208,\n",
       " '138 ST-GR CONC': 21280,\n",
       " '14 ST': 264096,\n",
       " '14 ST-6 AVE': 109569,\n",
       " '14 ST-UNION SQ': 684973,\n",
       " '145 ST': 235061,\n",
       " '148 ST-LENOX': 24608,\n",
       " '149 ST-3 AVE': 131569,\n",
       " '149 ST-GR CONC': 75368,\n",
       " '14TH STREET': 56485,\n",
       " '15 ST-PROSPECT': 40804,\n",
       " '155 ST': 42455,\n",
       " '157 ST': 70545,\n",
       " '161 ST-YANKEE': 201658,\n",
       " '163 ST-AMSTERDM': 27477,\n",
       " '167 ST': 124338,\n",
       " '168 ST-BROADWAY': 153903,\n",
       " '169 ST': 52835,\n",
       " '170 ST': 101465,\n",
       " '174 ST': 37386,\n",
       " '174-175 ST': 33158,\n",
       " '175 ST': 86835,\n",
       " '176 ST': 38575,\n",
       " '18 AVE': 100154,\n",
       " '18 ST': 51801,\n",
       " '181 ST': 144654,\n",
       " '182-183 ST': 31743,\n",
       " '183 ST': 39548,\n",
       " '190 ST': 30043,\n",
       " '191 ST': 51948,\n",
       " '2 AVE': 110996,\n",
       " '20 AVE': 54414,\n",
       " '207 ST': 41262,\n",
       " '21 ST': 53635,\n",
       " '215 ST': 12019,\n",
       " '219 ST': 22247,\n",
       " '22 AVE-BAY PKY': 9549,\n",
       " '225 ST': 27726,\n",
       " '23 ST': 398248,\n",
       " '23 ST-5 AVE': 153927,\n",
       " '23 ST-6 AVE': 149689,\n",
       " '231 ST': 63195,\n",
       " '233 ST': 34795,\n",
       " '238 ST': 25854,\n",
       " '242 ST': 43488,\n",
       " '25 AVE': 26744,\n",
       " '25 ST': 23201,\n",
       " '28 ST': 230486,\n",
       " '28 ST-BROADWAY': 80432,\n",
       " '3 AVE': 43957,\n",
       " '33 ST': 190214,\n",
       " '33 ST/RAWSON ST': 64760,\n",
       " '34 ST-HERALD SQ': 750931,\n",
       " '34 ST-PENN STA': 1097317,\n",
       " '36 ST': 111796,\n",
       " '4 AVE': 25239,\n",
       " '40 ST-LOWERY ST': 64576,\n",
       " '42 ST-BRYANT PK': 242657,\n",
       " '42 ST-GRD CNTRL': 936689,\n",
       " '42 ST-PA BUS TE': 591596,\n",
       " '42 ST-TIMES SQ': 644749,\n",
       " '45 ST': 43991,\n",
       " '46 ST': 57783,\n",
       " '46 ST-BLISS ST': 86728,\n",
       " '47-50 ST-ROCK': 354372,\n",
       " '49 ST-7 AVE': 156396,\n",
       " '5 AVE-53 ST': 153472,\n",
       " '5 AVE-59 ST': 126183,\n",
       " '5 AVE-BRYANT PK': 74225,\n",
       " '50 ST': 311774,\n",
       " '51 ST': 136670,\n",
       " '52 ST-LINCOLN': 41279,\n",
       " '53 ST': 44509,\n",
       " '55 ST': 11489,\n",
       " '57 ST': 88270,\n",
       " '57 ST-7 AVE': 137500,\n",
       " '59 ST': 389835,\n",
       " '59 ST-COLUMBUS': 434649,\n",
       " '6 AVE': 37202,\n",
       " '61 ST/WOODSIDE': 109328,\n",
       " '63 DR-REGO PARK': 104316,\n",
       " '65 ST': 24061,\n",
       " '66 ST-LINCOLN': 146681,\n",
       " '67 AVE': 54996,\n",
       " '68ST-HUNTER COL': 189982,\n",
       " '69 ST-FISK AVE': 30665,\n",
       " '7 AV-PARK SLOPE': 74628,\n",
       " '7 AVE': 58258,\n",
       " '7 AVE-53 ST': 104465,\n",
       " '71 ST': 25660,\n",
       " '72 ST': 322826,\n",
       " '74 ST-BROADWAY': 20742,\n",
       " '75 AVE': 22456,\n",
       " '77 ST': 251337,\n",
       " '79 ST': 143248,\n",
       " '8 AVE': 249384,\n",
       " \"8 ST-B'WAY NYU\": 105764,\n",
       " '81 ST-MUSEUM': 93442,\n",
       " '82 ST-JACKSON H': 98389,\n",
       " '86 ST': 679809,\n",
       " '9 AVE': 32391,\n",
       " '9 ST': 56790,\n",
       " '90 ST-ELMHURST': 101918,\n",
       " '96 ST': 486681,\n",
       " '9TH STREET': 30134,\n",
       " 'ALABAMA AVE': 15819,\n",
       " 'ALLERTON AVE': 36458,\n",
       " 'AQUEDUCT TRACK': 12596,\n",
       " 'AQUEDUCT-N CNDT': 7848,\n",
       " 'ASTOR PLACE': 101207,\n",
       " 'ATLANTIC AVE': 10672,\n",
       " 'AVE H': 16272,\n",
       " 'AVE I': 13077,\n",
       " 'AVE J': 34408,\n",
       " 'AVE M': 31874,\n",
       " 'AVE N': 20698,\n",
       " 'AVE P': 17239,\n",
       " 'AVE U': 83530,\n",
       " 'AVE X': 18054,\n",
       " 'BARCLAYS CENTER': 259977,\n",
       " 'BAY 50 ST': 16753,\n",
       " 'BAY PARKWAY': 43362,\n",
       " 'BAY PKY-22 AVE': 48428,\n",
       " 'BAY RIDGE AVE': 48770,\n",
       " 'BAY RIDGE-95 ST': 36717,\n",
       " 'BAYCHESTER AVE': 19209,\n",
       " 'BEACH 105 ST': 2335,\n",
       " 'BEACH 25 ST': 11112,\n",
       " 'BEACH 36 ST': 5917,\n",
       " 'BEACH 44 ST': 3996,\n",
       " 'BEACH 60 ST': 15915,\n",
       " 'BEACH 67 ST': 16421,\n",
       " 'BEACH 90 ST': 8063,\n",
       " 'BEACH 98 ST': 4904,\n",
       " 'BEDFORD AVE': 179341,\n",
       " 'BEDFORD PARK BL': 77363,\n",
       " 'BEDFORD/NOSTRAN': 51385,\n",
       " 'BEEBE-39 AVE': 20611,\n",
       " 'BERGEN ST': 95264,\n",
       " 'BEVERLEY ROAD': 17646,\n",
       " 'BEVERLY ROAD': 27238,\n",
       " 'BLEECKER ST': 94320,\n",
       " 'BOROUGH HALL/CT': 218302,\n",
       " 'BOTANIC GARDEN': 9279,\n",
       " 'BOWERY': 22459,\n",
       " 'BOWLING GREEN': 199604,\n",
       " 'BOYD-88 ST': 29132,\n",
       " 'BRIGHTON BEACH': 80578,\n",
       " 'BROAD CHANNEL': 2244,\n",
       " 'BROAD ST': 41431,\n",
       " 'BROADWAY': 25727,\n",
       " 'BROADWAY-31 ST': 80987,\n",
       " 'BROADWAY-ENY': 59121,\n",
       " 'BROADWAY/LAFAY': 153082,\n",
       " 'BRONX PARK EAST': 17308,\n",
       " 'BROOK AVE': 37934,\n",
       " 'BROOKLYN BRIDGE': 119805,\n",
       " 'BUHRE AVE': 18798,\n",
       " 'BURKE AVE': 22221,\n",
       " 'BURNSIDE AVE': 65211,\n",
       " 'BUSHWICK AVE': 12170,\n",
       " 'CANAL ST': 462056,\n",
       " 'CARROLL ST': 71946,\n",
       " 'CASTLE HILL AVE': 40653,\n",
       " 'CATHEDRL-110 ST': 46309,\n",
       " 'CENTRAL AVE': 20797,\n",
       " 'CHAMBERS ST': 413310,\n",
       " 'CHAUNCEY ST': 19945,\n",
       " 'CHRISTOPHER ST': 97195,\n",
       " 'CHURCH AVE': 235122,\n",
       " 'CITY / BUS': 94511,\n",
       " 'CITY HALL': 36885,\n",
       " 'CLARK ST': 39426,\n",
       " 'CLASSON AVE': 31230,\n",
       " 'CLEVELAND ST': 21487,\n",
       " 'CLINTON-WASH AV': 69235,\n",
       " 'CORTELYOU ROAD': 38036,\n",
       " 'CORTLANDT ST': 63472,\n",
       " 'COURT SQ': 79701,\n",
       " 'COURT SQ-23 ST': 49904,\n",
       " 'CRESCENT ST': 31318,\n",
       " 'CROWN HTS-UTICA': 169835,\n",
       " 'CYPRESS AVE': 23822,\n",
       " 'CYPRESS HILLS': 8951,\n",
       " 'DEKALB AVE': 177661,\n",
       " 'DELANCEY ST': 96714,\n",
       " 'DITMARS BL-31 S': 105547,\n",
       " 'DITMAS AVE': 25826,\n",
       " 'DYCKMAN ST': 45710,\n",
       " 'DYCKMAN-200 ST': 43812,\n",
       " 'DYRE AVE': 24272,\n",
       " 'E 143 ST': 5657,\n",
       " 'E 149 ST': 28576,\n",
       " 'E 177 ST-PARKCH': 99018,\n",
       " 'E 180 ST': 52336,\n",
       " 'E TREMONT AVE': 50433,\n",
       " 'EAST 105 ST': 23505,\n",
       " 'EAST BROADWAY': 89093,\n",
       " 'EASTERN PKWY': 31379,\n",
       " 'ELDER AVE': 39923,\n",
       " 'ELDERTS LANE': 21807,\n",
       " 'ELMHURST AVE': 86700,\n",
       " 'ESSEX ST': 58649,\n",
       " 'EUCLID AVE': 57581,\n",
       " 'EXCHANGE PLACE': 92272,\n",
       " 'FAR ROCKAWAY': 31189,\n",
       " 'FLATBUSH AVE': 115621,\n",
       " 'FLUSHING AVE': 73863,\n",
       " 'FORDHAM ROAD': 148668,\n",
       " 'FOREST AVE': 25385,\n",
       " 'FOREST HILLS-71': 176295,\n",
       " 'FOREST PARKWAY': 24469,\n",
       " 'FRANKLIN AVE': 102336,\n",
       " 'FRANKLIN ST': 34991,\n",
       " 'FREEMAN ST': 28818,\n",
       " 'FRESH POND ROAD': 35676,\n",
       " 'FT HAMILTON PKY': 104296,\n",
       " 'FULTON ST': 476280,\n",
       " 'GATES AVE': 40348,\n",
       " 'GRAHAM AVE': 63678,\n",
       " 'GRAND ARMY PLAZ': 45985,\n",
       " 'GRAND AV-NEWTON': 110134,\n",
       " 'GRAND ST': 200727,\n",
       " 'GRAND-30 AVE': 90645,\n",
       " 'GRANT AVE': 41370,\n",
       " 'GREENPOINT AVE': 55931,\n",
       " 'GREENWOOD-111': 14191,\n",
       " 'GROVE STREET': 109221,\n",
       " 'GUN HILL ROAD': 77046,\n",
       " 'HALSEY ST': 88817,\n",
       " 'HARRISON': 48836,\n",
       " 'HEWES ST': 16505,\n",
       " 'HIGH ST': 57361,\n",
       " 'HOUSTON ST': 85168,\n",
       " 'HOWARD BCH-JFK': 15350,\n",
       " 'HOYT ST': 48175,\n",
       " 'HOYT ST-ASTORIA': 78653,\n",
       " 'HOYT/SCHERMER': 60622,\n",
       " 'HUDSON-80 ST': 41616,\n",
       " 'HUNTERS PT AVE': 37426,\n",
       " 'HUNTS POINT AVE': 64503,\n",
       " 'INTERVALE-163': 19954,\n",
       " 'INWOOD-207 ST': 58496,\n",
       " 'JACKSON AVE': 32280,\n",
       " 'JAMAICA CENTER': 248632,\n",
       " 'JAMAICA-179 ST': 134646,\n",
       " 'JAMAICA-VAN WYC': 30809,\n",
       " 'JAY ST-METROTEC': 232627,\n",
       " 'JEFFERSON ST': 49128,\n",
       " 'JFK HOWARD BCH': 17216,\n",
       " 'JFK JAMAICA CT1': 51379,\n",
       " 'JOURNAL SQUARE': 125626,\n",
       " 'JUNCTION BLVD': 138535,\n",
       " 'JUNIUS ST': 20342,\n",
       " 'KINGS HIGHWAY': 172837,\n",
       " 'KINGSBRIDGE RD': 106306,\n",
       " 'KINGSTON AVE': 31581,\n",
       " 'KINGSTON-THROOP': 37307,\n",
       " 'KNICKERBOCKER': 24729,\n",
       " 'KOSCIUSZKO ST': 31350,\n",
       " 'LACKAWANNA': 46510,\n",
       " 'LAFAYETTE AVE': 30594,\n",
       " 'LEFFERTS BLVD': 39561,\n",
       " 'LEXINGTON AVE': 173436,\n",
       " 'LEXINGTON-53 ST': 256644,\n",
       " 'LIBERTY AVE': 16546,\n",
       " 'LIVONIA AVE': 19207,\n",
       " 'LONGWOOD AVE': 21454,\n",
       " 'LORIMER ST': 68545,\n",
       " 'MAIN ST': 371047,\n",
       " 'MARBLE HILL-225': 36756,\n",
       " 'MARCY AVE': 85607,\n",
       " 'METROPOLITAN AV': 89089,\n",
       " 'METS-WILLETS PT': 30273,\n",
       " 'MIDDLETOWN ROAD': 12052,\n",
       " 'MONTROSE AVE': 44956,\n",
       " 'MORGAN AVE': 47832,\n",
       " 'MORRIS PARK': 11636,\n",
       " 'MORRISON AVE': 40873,\n",
       " 'MOSHOLU PARKWAY': 51034,\n",
       " 'MT EDEN AVE': 36002,\n",
       " 'MYRTLE AVE': 194409,\n",
       " 'MYRTLE-WILLOUGH': 36275,\n",
       " 'NASSAU AV': 57171,\n",
       " 'NECK ROAD': 25976,\n",
       " 'NEPTUNE AVE': 9882,\n",
       " 'NEREID AVE': 22800,\n",
       " 'NEVINS ST': 64538,\n",
       " 'NEW LOTS AVE': 77152,\n",
       " 'NEW UTRECHT AVE': 38838,\n",
       " 'NEWARK BM BW': 86631,\n",
       " 'NEWARK C': 32120,\n",
       " 'NEWARK HM HE': 10363,\n",
       " 'NEWARK HW BMEBE': 30630,\n",
       " 'NEWKIRK AVE': 47527,\n",
       " 'NEWKIRK PLAZA': 67291,\n",
       " 'NORTHERN BLVD': 45239,\n",
       " 'NORWOOD AVE': 22326,\n",
       " 'NORWOOD-205 ST': 52133,\n",
       " 'NOSTRAND AVE': 137844,\n",
       " 'OCEAN PARKWAY': 20845,\n",
       " 'ORCHARD BEACH': 2,\n",
       " 'OXFORD-104 ST': 12283,\n",
       " 'PARK PLACE': 33456,\n",
       " 'PARKSIDE AVE': 34383,\n",
       " 'PARSONS BLVD': 39453,\n",
       " 'PATH WTC': 277123,\n",
       " 'PATH WTC 2': 4138,\n",
       " 'PAVONIA/NEWPORT': 115009,\n",
       " 'PELHAM BAY PARK': 46960,\n",
       " 'PELHAM PARKWAY': 78173,\n",
       " 'PENNSYLVANIA AV': 45527,\n",
       " 'PRESIDENT ST': 22309,\n",
       " \"PRINCE ST-B'WAY\": 106057,\n",
       " 'PROSPECT AVE': 77969,\n",
       " 'PROSPECT PARK': 65126,\n",
       " 'QUEENS PLAZA': 63231,\n",
       " 'QUEENSBORO PLZ': 70542,\n",
       " 'RALPH AVE': 35790,\n",
       " 'RECTOR ST': 88878,\n",
       " 'RIT-MANHATTAN': 32317,\n",
       " 'RIT-ROOSEVELT': 31879,\n",
       " 'ROCKAWAY AVE': 33166,\n",
       " 'ROCKAWAY BLVD': 8714,\n",
       " 'ROCKAWAY PK 116': 6686,\n",
       " 'ROCKAWAY PKY': 79519,\n",
       " 'ROOSEVELT AVE': 309736,\n",
       " 'ROOSEVELT IS': 38622,\n",
       " 'SARATOGA AVE': 55525,\n",
       " 'SENECA AVE': 16512,\n",
       " 'SHEEPSHEAD BAY': 84813,\n",
       " 'SHEPHERD AVE': 20595,\n",
       " 'SIMPSON ST': 58691,\n",
       " 'SMITH-9 ST': 31704,\n",
       " 'SOUTH FERRY': 79166,\n",
       " 'SPRING ST': 151421,\n",
       " 'ST LAWRENCE AVE': 26250,\n",
       " 'ST. GEORGE': 81411,\n",
       " 'STEINWAY ST': 93084,\n",
       " 'STERLING ST': 35171,\n",
       " 'STILLWELL AVE': 152183,\n",
       " 'SUTPHIN BLVD': 183737,\n",
       " 'SUTTER AVE': 76316,\n",
       " 'THIRTY ST': 61854,\n",
       " 'THIRTY THIRD ST': 143522,\n",
       " 'TOMPKINSVILLE': 7301,\n",
       " 'TREMONT AVE': 60216,\n",
       " 'TWENTY THIRD ST': 49716,\n",
       " 'UNION ST': 38285,\n",
       " 'UNION TPK-KEW G': 164803,\n",
       " 'UTICA AVE': 99268,\n",
       " 'VAN ALSTON-21ST': 9884,\n",
       " 'VAN SICLEN AVE': 38759,\n",
       " 'VAN WYCK BLVD': 28329,\n",
       " 'VERNON/JACKSON': 90963,\n",
       " 'W 4 ST-WASH SQ': 270482,\n",
       " 'W 8 ST-AQUARIUM': 22862,\n",
       " 'WAKEFIELD-241': 34009,\n",
       " 'WALL ST': 291263,\n",
       " 'WASHINGTON-36 A': 45326,\n",
       " 'WESTCHESTER SQ': 37886,\n",
       " 'WHITEHALL ST': 103695,\n",
       " 'WHITLOCK AVE': 10946,\n",
       " 'WILSON AVE': 28638,\n",
       " 'WINTHROP ST': 43708,\n",
       " 'WOODHAVEN BLVD': 173406,\n",
       " 'WOODLAWN ROAD': 47718,\n",
       " 'WORLD TRADE CTR': 95254,\n",
       " 'YORK ST': 55874,\n",
       " 'ZEREGA AVE': 13804}"
      ]
     },
     "execution_count": 58,
     "metadata": {},
     "output_type": "execute_result"
    }
   ],
   "source": [
    "# Week1 by stations count\n",
    "week1_stations_count = {}\n",
    "for key, value in day_counts_week1.items():\n",
    "    counts = [x[1] for x in value]\n",
    "    week1_stations_count[key] = sum(counts)\n",
    "week1_stations_count"
   ]
  },
  {
   "cell_type": "code",
   "execution_count": 59,
   "metadata": {},
   "outputs": [],
   "source": [
    "# Week2 by stations count\n",
    "week2_stations_count = {}\n",
    "for key, value in day_counts_week2.items():\n",
    "    counts = [x[1] for x in value]\n",
    "    week2_stations_count[key] = sum(counts)\n"
   ]
  },
  {
   "cell_type": "code",
   "execution_count": 60,
   "metadata": {},
   "outputs": [],
   "source": [
    "# Week3 by stations count\n",
    "week3_stations_count = {}\n",
    "for key, value in day_counts_week3.items():\n",
    "    counts = [x[1] for x in value]\n",
    "    week3_stations_count[key] = sum(counts)\n"
   ]
  },
  {
   "cell_type": "code",
   "execution_count": 61,
   "metadata": {},
   "outputs": [
    {
     "data": {
      "text/html": [
       "<div>\n",
       "<style>\n",
       "    .dataframe thead tr:only-child th {\n",
       "        text-align: right;\n",
       "    }\n",
       "\n",
       "    .dataframe thead th {\n",
       "        text-align: left;\n",
       "    }\n",
       "\n",
       "    .dataframe tbody tr th {\n",
       "        vertical-align: top;\n",
       "    }\n",
       "</style>\n",
       "<table border=\"1\" class=\"dataframe\">\n",
       "  <thead>\n",
       "    <tr style=\"text-align: right;\">\n",
       "      <th></th>\n",
       "      <th>station</th>\n",
       "      <th>counts</th>\n",
       "    </tr>\n",
       "  </thead>\n",
       "  <tbody>\n",
       "    <tr>\n",
       "      <th>67</th>\n",
       "      <td>34 ST-PENN STA</td>\n",
       "      <td>3183081</td>\n",
       "    </tr>\n",
       "    <tr>\n",
       "      <th>72</th>\n",
       "      <td>42 ST-GRD CNTRL</td>\n",
       "      <td>2671217</td>\n",
       "    </tr>\n",
       "    <tr>\n",
       "      <th>66</th>\n",
       "      <td>34 ST-HERALD SQ</td>\n",
       "      <td>2145903</td>\n",
       "    </tr>\n",
       "    <tr>\n",
       "      <th>18</th>\n",
       "      <td>14 ST-UNION SQ</td>\n",
       "      <td>1958353</td>\n",
       "    </tr>\n",
       "    <tr>\n",
       "      <th>113</th>\n",
       "      <td>86 ST</td>\n",
       "      <td>1922237</td>\n",
       "    </tr>\n",
       "    <tr>\n",
       "      <th>74</th>\n",
       "      <td>42 ST-TIMES SQ</td>\n",
       "      <td>1859587</td>\n",
       "    </tr>\n",
       "    <tr>\n",
       "      <th>73</th>\n",
       "      <td>42 ST-PA BUS TE</td>\n",
       "      <td>1742382</td>\n",
       "    </tr>\n",
       "    <tr>\n",
       "      <th>231</th>\n",
       "      <td>FULTON ST</td>\n",
       "      <td>1378181</td>\n",
       "    </tr>\n",
       "    <tr>\n",
       "      <th>117</th>\n",
       "      <td>96 ST</td>\n",
       "      <td>1371423</td>\n",
       "    </tr>\n",
       "    <tr>\n",
       "      <th>11</th>\n",
       "      <td>125 ST</td>\n",
       "      <td>1366448</td>\n",
       "    </tr>\n",
       "    <tr>\n",
       "      <th>175</th>\n",
       "      <td>CANAL ST</td>\n",
       "      <td>1360530</td>\n",
       "    </tr>\n",
       "    <tr>\n",
       "      <th>91</th>\n",
       "      <td>59 ST-COLUMBUS</td>\n",
       "      <td>1229909</td>\n",
       "    </tr>\n",
       "    <tr>\n",
       "      <th>180</th>\n",
       "      <td>CHAMBERS ST</td>\n",
       "      <td>1182916</td>\n",
       "    </tr>\n",
       "    <tr>\n",
       "      <th>52</th>\n",
       "      <td>23 ST</td>\n",
       "      <td>1135540</td>\n",
       "    </tr>\n",
       "    <tr>\n",
       "      <th>90</th>\n",
       "      <td>59 ST</td>\n",
       "      <td>1112225</td>\n",
       "    </tr>\n",
       "    <tr>\n",
       "      <th>283</th>\n",
       "      <td>MAIN ST</td>\n",
       "      <td>1091614</td>\n",
       "    </tr>\n",
       "    <tr>\n",
       "      <th>78</th>\n",
       "      <td>47-50 ST-ROCK</td>\n",
       "      <td>974725</td>\n",
       "    </tr>\n",
       "    <tr>\n",
       "      <th>104</th>\n",
       "      <td>72 ST</td>\n",
       "      <td>918886</td>\n",
       "    </tr>\n",
       "    <tr>\n",
       "      <th>340</th>\n",
       "      <td>ROOSEVELT AVE</td>\n",
       "      <td>905900</td>\n",
       "    </tr>\n",
       "    <tr>\n",
       "      <th>83</th>\n",
       "      <td>50 ST</td>\n",
       "      <td>862181</td>\n",
       "    </tr>\n",
       "    <tr>\n",
       "      <th>372</th>\n",
       "      <td>WALL ST</td>\n",
       "      <td>828637</td>\n",
       "    </tr>\n",
       "    <tr>\n",
       "      <th>320</th>\n",
       "      <td>PATH WTC</td>\n",
       "      <td>804210</td>\n",
       "    </tr>\n",
       "    <tr>\n",
       "      <th>16</th>\n",
       "      <td>14 ST</td>\n",
       "      <td>758630</td>\n",
       "    </tr>\n",
       "    <tr>\n",
       "      <th>133</th>\n",
       "      <td>BARCLAYS CENTER</td>\n",
       "      <td>739978</td>\n",
       "    </tr>\n",
       "    <tr>\n",
       "      <th>109</th>\n",
       "      <td>8 AVE</td>\n",
       "      <td>738569</td>\n",
       "    </tr>\n",
       "    <tr>\n",
       "      <th>369</th>\n",
       "      <td>W 4 ST-WASH SQ</td>\n",
       "      <td>736105</td>\n",
       "    </tr>\n",
       "    <tr>\n",
       "      <th>278</th>\n",
       "      <td>LEXINGTON-53 ST</td>\n",
       "      <td>727753</td>\n",
       "    </tr>\n",
       "    <tr>\n",
       "      <th>258</th>\n",
       "      <td>JAMAICA CENTER</td>\n",
       "      <td>715341</td>\n",
       "    </tr>\n",
       "    <tr>\n",
       "      <th>107</th>\n",
       "      <td>77 ST</td>\n",
       "      <td>707527</td>\n",
       "    </tr>\n",
       "    <tr>\n",
       "      <th>19</th>\n",
       "      <td>145 ST</td>\n",
       "      <td>681134</td>\n",
       "    </tr>\n",
       "    <tr>\n",
       "      <th>...</th>\n",
       "      <td>...</td>\n",
       "      <td>...</td>\n",
       "    </tr>\n",
       "    <tr>\n",
       "      <th>316</th>\n",
       "      <td>OXFORD-104 ST</td>\n",
       "      <td>39337</td>\n",
       "    </tr>\n",
       "    <tr>\n",
       "      <th>132</th>\n",
       "      <td>AVE X</td>\n",
       "      <td>37494</td>\n",
       "    </tr>\n",
       "    <tr>\n",
       "      <th>174</th>\n",
       "      <td>BUSHWICK AVE</td>\n",
       "      <td>35347</td>\n",
       "    </tr>\n",
       "    <tr>\n",
       "      <th>126</th>\n",
       "      <td>AVE I</td>\n",
       "      <td>34788</td>\n",
       "    </tr>\n",
       "    <tr>\n",
       "      <th>48</th>\n",
       "      <td>215 ST</td>\n",
       "      <td>34253</td>\n",
       "    </tr>\n",
       "    <tr>\n",
       "      <th>288</th>\n",
       "      <td>MIDDLETOWN ROAD</td>\n",
       "      <td>34230</td>\n",
       "    </tr>\n",
       "    <tr>\n",
       "      <th>291</th>\n",
       "      <td>MORRIS PARK</td>\n",
       "      <td>34215</td>\n",
       "    </tr>\n",
       "    <tr>\n",
       "      <th>87</th>\n",
       "      <td>55 ST</td>\n",
       "      <td>33426</td>\n",
       "    </tr>\n",
       "    <tr>\n",
       "      <th>376</th>\n",
       "      <td>WHITLOCK AVE</td>\n",
       "      <td>32571</td>\n",
       "    </tr>\n",
       "    <tr>\n",
       "      <th>141</th>\n",
       "      <td>BEACH 25 ST</td>\n",
       "      <td>31355</td>\n",
       "    </tr>\n",
       "    <tr>\n",
       "      <th>306</th>\n",
       "      <td>NEWARK HM HE</td>\n",
       "      <td>31239</td>\n",
       "    </tr>\n",
       "    <tr>\n",
       "      <th>124</th>\n",
       "      <td>ATLANTIC AVE</td>\n",
       "      <td>30654</td>\n",
       "    </tr>\n",
       "    <tr>\n",
       "      <th>365</th>\n",
       "      <td>VAN ALSTON-21ST</td>\n",
       "      <td>30537</td>\n",
       "    </tr>\n",
       "    <tr>\n",
       "      <th>299</th>\n",
       "      <td>NEPTUNE AVE</td>\n",
       "      <td>29739</td>\n",
       "    </tr>\n",
       "    <tr>\n",
       "      <th>146</th>\n",
       "      <td>BEACH 90 ST</td>\n",
       "      <td>26021</td>\n",
       "    </tr>\n",
       "    <tr>\n",
       "      <th>337</th>\n",
       "      <td>ROCKAWAY BLVD</td>\n",
       "      <td>25856</td>\n",
       "    </tr>\n",
       "    <tr>\n",
       "      <th>50</th>\n",
       "      <td>22 AVE-BAY PKY</td>\n",
       "      <td>25682</td>\n",
       "    </tr>\n",
       "    <tr>\n",
       "      <th>157</th>\n",
       "      <td>BOTANIC GARDEN</td>\n",
       "      <td>25015</td>\n",
       "    </tr>\n",
       "    <tr>\n",
       "      <th>197</th>\n",
       "      <td>CYPRESS HILLS</td>\n",
       "      <td>24969</td>\n",
       "    </tr>\n",
       "    <tr>\n",
       "      <th>122</th>\n",
       "      <td>AQUEDUCT-N CNDT</td>\n",
       "      <td>22754</td>\n",
       "    </tr>\n",
       "    <tr>\n",
       "      <th>359</th>\n",
       "      <td>TOMPKINSVILLE</td>\n",
       "      <td>21581</td>\n",
       "    </tr>\n",
       "    <tr>\n",
       "      <th>338</th>\n",
       "      <td>ROCKAWAY PK 116</td>\n",
       "      <td>21024</td>\n",
       "    </tr>\n",
       "    <tr>\n",
       "      <th>142</th>\n",
       "      <td>BEACH 36 ST</td>\n",
       "      <td>17172</td>\n",
       "    </tr>\n",
       "    <tr>\n",
       "      <th>147</th>\n",
       "      <td>BEACH 98 ST</td>\n",
       "      <td>16284</td>\n",
       "    </tr>\n",
       "    <tr>\n",
       "      <th>205</th>\n",
       "      <td>E 143 ST</td>\n",
       "      <td>16180</td>\n",
       "    </tr>\n",
       "    <tr>\n",
       "      <th>321</th>\n",
       "      <td>PATH WTC 2</td>\n",
       "      <td>13395</td>\n",
       "    </tr>\n",
       "    <tr>\n",
       "      <th>143</th>\n",
       "      <td>BEACH 44 ST</td>\n",
       "      <td>11897</td>\n",
       "    </tr>\n",
       "    <tr>\n",
       "      <th>140</th>\n",
       "      <td>BEACH 105 ST</td>\n",
       "      <td>7062</td>\n",
       "    </tr>\n",
       "    <tr>\n",
       "      <th>162</th>\n",
       "      <td>BROAD CHANNEL</td>\n",
       "      <td>6304</td>\n",
       "    </tr>\n",
       "    <tr>\n",
       "      <th>315</th>\n",
       "      <td>ORCHARD BEACH</td>\n",
       "      <td>5355</td>\n",
       "    </tr>\n",
       "  </tbody>\n",
       "</table>\n",
       "<p>384 rows × 2 columns</p>\n",
       "</div>"
      ],
      "text/plain": [
       "             station   counts\n",
       "67    34 ST-PENN STA  3183081\n",
       "72   42 ST-GRD CNTRL  2671217\n",
       "66   34 ST-HERALD SQ  2145903\n",
       "18    14 ST-UNION SQ  1958353\n",
       "113            86 ST  1922237\n",
       "74    42 ST-TIMES SQ  1859587\n",
       "73   42 ST-PA BUS TE  1742382\n",
       "231        FULTON ST  1378181\n",
       "117            96 ST  1371423\n",
       "11            125 ST  1366448\n",
       "175         CANAL ST  1360530\n",
       "91    59 ST-COLUMBUS  1229909\n",
       "180      CHAMBERS ST  1182916\n",
       "52             23 ST  1135540\n",
       "90             59 ST  1112225\n",
       "283          MAIN ST  1091614\n",
       "78     47-50 ST-ROCK   974725\n",
       "104            72 ST   918886\n",
       "340    ROOSEVELT AVE   905900\n",
       "83             50 ST   862181\n",
       "372          WALL ST   828637\n",
       "320         PATH WTC   804210\n",
       "16             14 ST   758630\n",
       "133  BARCLAYS CENTER   739978\n",
       "109            8 AVE   738569\n",
       "369   W 4 ST-WASH SQ   736105\n",
       "278  LEXINGTON-53 ST   727753\n",
       "258   JAMAICA CENTER   715341\n",
       "107            77 ST   707527\n",
       "19            145 ST   681134\n",
       "..               ...      ...\n",
       "316    OXFORD-104 ST    39337\n",
       "132            AVE X    37494\n",
       "174     BUSHWICK AVE    35347\n",
       "126            AVE I    34788\n",
       "48            215 ST    34253\n",
       "288  MIDDLETOWN ROAD    34230\n",
       "291      MORRIS PARK    34215\n",
       "87             55 ST    33426\n",
       "376     WHITLOCK AVE    32571\n",
       "141      BEACH 25 ST    31355\n",
       "306     NEWARK HM HE    31239\n",
       "124     ATLANTIC AVE    30654\n",
       "365  VAN ALSTON-21ST    30537\n",
       "299      NEPTUNE AVE    29739\n",
       "146      BEACH 90 ST    26021\n",
       "337    ROCKAWAY BLVD    25856\n",
       "50    22 AVE-BAY PKY    25682\n",
       "157   BOTANIC GARDEN    25015\n",
       "197    CYPRESS HILLS    24969\n",
       "122  AQUEDUCT-N CNDT    22754\n",
       "359    TOMPKINSVILLE    21581\n",
       "338  ROCKAWAY PK 116    21024\n",
       "142      BEACH 36 ST    17172\n",
       "147      BEACH 98 ST    16284\n",
       "205         E 143 ST    16180\n",
       "321       PATH WTC 2    13395\n",
       "143      BEACH 44 ST    11897\n",
       "140     BEACH 105 ST     7062\n",
       "162    BROAD CHANNEL     6304\n",
       "315    ORCHARD BEACH     5355\n",
       "\n",
       "[384 rows x 2 columns]"
      ]
     },
     "execution_count": 61,
     "metadata": {},
     "output_type": "execute_result"
    }
   ],
   "source": [
    "wk123_station_dict = { k: week1_stations_count.get(k, 0) + week2_stations_count.get(k, 0) + week3_stations_count.get(k, 0) for k in set(week1_stations_count) | set(week2_stations_count) | set(week3_stations_count) }\n",
    "\n",
    "series = pd.Series(wk123_station_dict, name='counts')\n",
    "series.index.name = 'station'\n",
    "stationdf = series.reset_index()\n",
    "stationdf.sort_values(by='counts', ascending = False)"
   ]
  },
  {
   "cell_type": "markdown",
   "metadata": {},
   "source": [
    "### Challenge 10"
   ]
  },
  {
   "cell_type": "code",
   "execution_count": 62,
   "metadata": {},
   "outputs": [
    {
     "data": {
      "text/plain": [
       "(array([ 304.,   46.,   17.,    6.,    4.,    2.,    3.,    0.,    1.,    1.]),\n",
       " array([    5355. ,   323127.6,   640900.2,   958672.8,  1276445.4,\n",
       "         1594218. ,  1911990.6,  2229763.2,  2547535.8,  2865308.4,\n",
       "         3183081. ]),\n",
       " <a list of 10 Patch objects>)"
      ]
     },
     "execution_count": 62,
     "metadata": {},
     "output_type": "execute_result"
    },
    {
     "data": {
      "image/png": "[encoded data removed]",
      "text/plain": [
       "<matplotlib.figure.Figure at 0x14bb50240>"
      ]
     },
     "metadata": {},
     "output_type": "display_data"
    }
   ],
   "source": [
    "plt.hist(list(stationdf['counts']))"
   ]
  },
  {
   "cell_type": "code",
   "execution_count": null,
   "metadata": {
    "collapsed": true
   },
   "outputs": [],
   "source": []
  }
 ],
 "metadata": {
  "anaconda-cloud": {},
  "kernelspec": {
   "display_name": "Python 3",
   "language": "python",
   "name": "python3"
  },
  "language_info": {
   "codemirror_mode": {
    "name": "ipython",
    "version": 3
   },
   "file_extension": ".py",
   "mimetype": "text/x-python",
   "name": "python",
   "nbconvert_exporter": "python",
   "pygments_lexer": "ipython3",
   "version": "3.6.3"
  }
 },
 "nbformat": 4,
 "nbformat_minor": 1
}
