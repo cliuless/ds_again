{
 "cells": [
  {
   "cell_type": "markdown",
   "metadata": {},
   "source": [
    "Topic:        Challenge Set 1\n",
    "\n",
    "Subject:      Explore MTA turnstile data\n",
    "\n",
    "Date:         01/16/2018\n",
    "\n",
    "Name:         Browning Gentry\n",
    "\n",
    "Worked with:  "
   ]
  },
  {
   "cell_type": "markdown",
   "metadata": {},
   "source": [
    "# Challenge 1"
   ]
  },
  {
   "cell_type": "code",
   "execution_count": 13,
   "metadata": {
    "ExecuteTime": {
     "end_time": "2018-01-16T13:51:41.026285Z",
     "start_time": "2018-01-16T13:51:38.837467Z"
    },
    "collapsed": true
   },
   "outputs": [],
   "source": [
    "import csv\n",
    "\n",
    "#!curl -O http://web.mta.info/developers/data/nyct/turnstile/turnstile_180113.txt\n",
    "\n",
    "with open('turnstile_180113.txt') as csvfile:\n",
    "    f = csv.reader(csvfile)\n",
    "    rows = [[cell.strip() for cell in row] for row in f]\n",
    "\n",
    "rows = rows[1:]"
   ]
  },
  {
   "cell_type": "code",
   "execution_count": 14,
   "metadata": {
    "ExecuteTime": {
     "end_time": "2018-01-16T13:51:41.969435Z",
     "start_time": "2018-01-16T13:51:41.029155Z"
    },
    "collapsed": true
   },
   "outputs": [],
   "source": [
    "from collections import defaultdict\n",
    "dict_mta = defaultdict(list)\n",
    "\n",
    "for line in rows:\n",
    "        dict_mta[tuple(line[:4])].append(line[4:])"
   ]
  },
  {
   "cell_type": "code",
   "execution_count": 15,
   "metadata": {
    "ExecuteTime": {
     "end_time": "2018-01-16T13:51:41.992919Z",
     "start_time": "2018-01-16T13:51:41.975003Z"
    }
   },
   "outputs": [
    {
     "data": {
      "text/plain": [
       "[['NQR456W',\n",
       "  'BMT',\n",
       "  '01/06/2018',\n",
       "  '03:00:00',\n",
       "  'REGULAR',\n",
       "  '0006470216',\n",
       "  '0002190123'],\n",
       " ['NQR456W',\n",
       "  'BMT',\n",
       "  '01/06/2018',\n",
       "  '07:00:00',\n",
       "  'REGULAR',\n",
       "  '0006470223',\n",
       "  '0002190140'],\n",
       " ['NQR456W',\n",
       "  'BMT',\n",
       "  '01/06/2018',\n",
       "  '11:00:00',\n",
       "  'REGULAR',\n",
       "  '0006470256',\n",
       "  '0002190229'],\n",
       " ['NQR456W',\n",
       "  'BMT',\n",
       "  '01/06/2018',\n",
       "  '15:00:00',\n",
       "  'REGULAR',\n",
       "  '0006470379',\n",
       "  '0002190299'],\n",
       " ['NQR456W',\n",
       "  'BMT',\n",
       "  '01/06/2018',\n",
       "  '19:00:00',\n",
       "  'REGULAR',\n",
       "  '0006470665',\n",
       "  '0002190366'],\n",
       " ['NQR456W',\n",
       "  'BMT',\n",
       "  '01/06/2018',\n",
       "  '23:00:00',\n",
       "  'REGULAR',\n",
       "  '0006470809',\n",
       "  '0002190398'],\n",
       " ['NQR456W',\n",
       "  'BMT',\n",
       "  '01/07/2018',\n",
       "  '03:00:00',\n",
       "  'REGULAR',\n",
       "  '0006470843',\n",
       "  '0002190405'],\n",
       " ['NQR456W',\n",
       "  'BMT',\n",
       "  '01/07/2018',\n",
       "  '07:00:00',\n",
       "  'REGULAR',\n",
       "  '0006470849',\n",
       "  '0002190411'],\n",
       " ['NQR456W',\n",
       "  'BMT',\n",
       "  '01/07/2018',\n",
       "  '11:00:00',\n",
       "  'REGULAR',\n",
       "  '0006470884',\n",
       "  '0002190488'],\n",
       " ['NQR456W',\n",
       "  'BMT',\n",
       "  '01/07/2018',\n",
       "  '15:00:00',\n",
       "  'REGULAR',\n",
       "  '0006471042',\n",
       "  '0002190530'],\n",
       " ['NQR456W',\n",
       "  'BMT',\n",
       "  '01/07/2018',\n",
       "  '19:00:00',\n",
       "  'REGULAR',\n",
       "  '0006471222',\n",
       "  '0002190557'],\n",
       " ['NQR456W',\n",
       "  'BMT',\n",
       "  '01/07/2018',\n",
       "  '23:00:00',\n",
       "  'REGULAR',\n",
       "  '0006471327',\n",
       "  '0002190573'],\n",
       " ['NQR456W',\n",
       "  'BMT',\n",
       "  '01/08/2018',\n",
       "  '03:00:00',\n",
       "  'REGULAR',\n",
       "  '0006471341',\n",
       "  '0002190575'],\n",
       " ['NQR456W',\n",
       "  'BMT',\n",
       "  '01/08/2018',\n",
       "  '07:00:00',\n",
       "  'REGULAR',\n",
       "  '0006471353',\n",
       "  '0002190605'],\n",
       " ['NQR456W',\n",
       "  'BMT',\n",
       "  '01/08/2018',\n",
       "  '11:00:00',\n",
       "  'REGULAR',\n",
       "  '0006471501',\n",
       "  '0002190897'],\n",
       " ['NQR456W',\n",
       "  'BMT',\n",
       "  '01/08/2018',\n",
       "  '15:00:00',\n",
       "  'REGULAR',\n",
       "  '0006471703',\n",
       "  '0002190971'],\n",
       " ['NQR456W',\n",
       "  'BMT',\n",
       "  '01/08/2018',\n",
       "  '19:00:00',\n",
       "  'REGULAR',\n",
       "  '0006472505',\n",
       "  '0002191035'],\n",
       " ['NQR456W',\n",
       "  'BMT',\n",
       "  '01/08/2018',\n",
       "  '23:00:00',\n",
       "  'REGULAR',\n",
       "  '0006472747',\n",
       "  '0002191069'],\n",
       " ['NQR456W',\n",
       "  'BMT',\n",
       "  '01/09/2018',\n",
       "  '03:00:00',\n",
       "  'REGULAR',\n",
       "  '0006472772',\n",
       "  '0002191074'],\n",
       " ['NQR456W',\n",
       "  'BMT',\n",
       "  '01/09/2018',\n",
       "  '07:00:00',\n",
       "  'REGULAR',\n",
       "  '0006472784',\n",
       "  '0002191108'],\n",
       " ['NQR456W',\n",
       "  'BMT',\n",
       "  '01/09/2018',\n",
       "  '11:00:00',\n",
       "  'REGULAR',\n",
       "  '0006472924',\n",
       "  '0002191451'],\n",
       " ['NQR456W',\n",
       "  'BMT',\n",
       "  '01/09/2018',\n",
       "  '15:00:00',\n",
       "  'REGULAR',\n",
       "  '0006473130',\n",
       "  '0002191536'],\n",
       " ['NQR456W',\n",
       "  'BMT',\n",
       "  '01/09/2018',\n",
       "  '19:00:00',\n",
       "  'REGULAR',\n",
       "  '0006473952',\n",
       "  '0002191598'],\n",
       " ['NQR456W',\n",
       "  'BMT',\n",
       "  '01/09/2018',\n",
       "  '23:00:00',\n",
       "  'REGULAR',\n",
       "  '0006474254',\n",
       "  '0002191632'],\n",
       " ['NQR456W',\n",
       "  'BMT',\n",
       "  '01/10/2018',\n",
       "  '03:00:00',\n",
       "  'REGULAR',\n",
       "  '0006474285',\n",
       "  '0002191635'],\n",
       " ['NQR456W',\n",
       "  'BMT',\n",
       "  '01/10/2018',\n",
       "  '07:00:00',\n",
       "  'REGULAR',\n",
       "  '0006474299',\n",
       "  '0002191679'],\n",
       " ['NQR456W',\n",
       "  'BMT',\n",
       "  '01/10/2018',\n",
       "  '11:00:00',\n",
       "  'REGULAR',\n",
       "  '0006474452',\n",
       "  '0002191995'],\n",
       " ['NQR456W',\n",
       "  'BMT',\n",
       "  '01/10/2018',\n",
       "  '15:00:00',\n",
       "  'REGULAR',\n",
       "  '0006474673',\n",
       "  '0002192081'],\n",
       " ['NQR456W',\n",
       "  'BMT',\n",
       "  '01/10/2018',\n",
       "  '19:00:00',\n",
       "  'REGULAR',\n",
       "  '0006475475',\n",
       "  '0002192160'],\n",
       " ['NQR456W',\n",
       "  'BMT',\n",
       "  '01/10/2018',\n",
       "  '23:00:00',\n",
       "  'REGULAR',\n",
       "  '0006475767',\n",
       "  '0002192194'],\n",
       " ['NQR456W',\n",
       "  'BMT',\n",
       "  '01/11/2018',\n",
       "  '03:00:00',\n",
       "  'REGULAR',\n",
       "  '0006475796',\n",
       "  '0002192203'],\n",
       " ['NQR456W',\n",
       "  'BMT',\n",
       "  '01/11/2018',\n",
       "  '07:00:00',\n",
       "  'REGULAR',\n",
       "  '0006475808',\n",
       "  '0002192237'],\n",
       " ['NQR456W',\n",
       "  'BMT',\n",
       "  '01/11/2018',\n",
       "  '11:00:00',\n",
       "  'REGULAR',\n",
       "  '0006475955',\n",
       "  '0002192557'],\n",
       " ['NQR456W',\n",
       "  'BMT',\n",
       "  '01/11/2018',\n",
       "  '15:00:00',\n",
       "  'REGULAR',\n",
       "  '0006476223',\n",
       "  '0002192636'],\n",
       " ['NQR456W',\n",
       "  'BMT',\n",
       "  '01/11/2018',\n",
       "  '19:00:00',\n",
       "  'REGULAR',\n",
       "  '0006477010',\n",
       "  '0002192721'],\n",
       " ['NQR456W',\n",
       "  'BMT',\n",
       "  '01/11/2018',\n",
       "  '23:00:00',\n",
       "  'REGULAR',\n",
       "  '0006477313',\n",
       "  '0002192757'],\n",
       " ['NQR456W',\n",
       "  'BMT',\n",
       "  '01/12/2018',\n",
       "  '03:00:00',\n",
       "  'REGULAR',\n",
       "  '0006477355',\n",
       "  '0002192760'],\n",
       " ['NQR456W',\n",
       "  'BMT',\n",
       "  '01/12/2018',\n",
       "  '07:00:00',\n",
       "  'REGULAR',\n",
       "  '0006477371',\n",
       "  '0002192788'],\n",
       " ['NQR456W',\n",
       "  'BMT',\n",
       "  '01/12/2018',\n",
       "  '11:00:00',\n",
       "  'REGULAR',\n",
       "  '0006477492',\n",
       "  '0002193094'],\n",
       " ['NQR456W',\n",
       "  'BMT',\n",
       "  '01/12/2018',\n",
       "  '15:00:00',\n",
       "  'REGULAR',\n",
       "  '0006477763',\n",
       "  '0002193174'],\n",
       " ['NQR456W',\n",
       "  'BMT',\n",
       "  '01/12/2018',\n",
       "  '19:00:00',\n",
       "  'REGULAR',\n",
       "  '0006478573',\n",
       "  '0002193249'],\n",
       " ['NQR456W',\n",
       "  'BMT',\n",
       "  '01/12/2018',\n",
       "  '23:00:00',\n",
       "  'REGULAR',\n",
       "  '0006478826',\n",
       "  '0002193311']]"
      ]
     },
     "execution_count": 15,
     "metadata": {},
     "output_type": "execute_result"
    }
   ],
   "source": [
    "next(iter(dict_mta.values()))"
   ]
  },
  {
   "cell_type": "markdown",
   "metadata": {},
   "source": [
    "# Challenge 2"
   ]
  },
  {
   "cell_type": "code",
   "execution_count": 16,
   "metadata": {
    "ExecuteTime": {
     "end_time": "2018-01-16T13:51:47.659585Z",
     "start_time": "2018-01-16T13:51:41.995724Z"
    },
    "collapsed": true
   },
   "outputs": [],
   "source": [
    "from datetime import datetime\n",
    "from operator import itemgetter\n",
    "\n",
    "dict_ts = defaultdict(list)\n",
    "\n",
    "for key in dict_mta:\n",
    "    for index, row in enumerate(dict_mta[key]):\n",
    "        timestamp = datetime.strptime(row[2] + \" \" + row[3], \"%m/%d/%Y %H:%M:%S\")\n",
    "        dict_ts[key].append([timestamp, int(dict_mta[key][index][5])])\n",
    "    dict_ts[key].sort(key = itemgetter(0))\n",
    "    for index, row in enumerate(dict_ts[key]):\n",
    "        if index == len(dict_ts[key])-1:\n",
    "            dict_ts[key][index][1] = 0\n",
    "        else:\n",
    "            dict_ts[key][index][1] = dict_ts[key][index+1][1] - dict_ts[key][index][1]"
   ]
  },
  {
   "cell_type": "code",
   "execution_count": 10,
   "metadata": {
    "ExecuteTime": {
     "end_time": "2018-01-16T13:51:00.503278Z",
     "start_time": "2018-01-16T13:51:00.493022Z"
    }
   },
   "outputs": [
    {
     "data": {
      "text/plain": [
       "[[datetime.datetime(2018, 1, 6, 3, 0), 7],\n",
       " [datetime.datetime(2018, 1, 6, 7, 0), 33],\n",
       " [datetime.datetime(2018, 1, 6, 11, 0), 123],\n",
       " [datetime.datetime(2018, 1, 6, 15, 0), 286],\n",
       " [datetime.datetime(2018, 1, 6, 19, 0), 144],\n",
       " [datetime.datetime(2018, 1, 6, 23, 0), 34],\n",
       " [datetime.datetime(2018, 1, 7, 3, 0), 6],\n",
       " [datetime.datetime(2018, 1, 7, 7, 0), 35],\n",
       " [datetime.datetime(2018, 1, 7, 11, 0), 158],\n",
       " [datetime.datetime(2018, 1, 7, 15, 0), 180],\n",
       " [datetime.datetime(2018, 1, 7, 19, 0), 105],\n",
       " [datetime.datetime(2018, 1, 7, 23, 0), 14],\n",
       " [datetime.datetime(2018, 1, 8, 3, 0), 12],\n",
       " [datetime.datetime(2018, 1, 8, 7, 0), 148],\n",
       " [datetime.datetime(2018, 1, 8, 11, 0), 202],\n",
       " [datetime.datetime(2018, 1, 8, 15, 0), 802],\n",
       " [datetime.datetime(2018, 1, 8, 19, 0), 242],\n",
       " [datetime.datetime(2018, 1, 8, 23, 0), 25],\n",
       " [datetime.datetime(2018, 1, 9, 3, 0), 12],\n",
       " [datetime.datetime(2018, 1, 9, 7, 0), 140],\n",
       " [datetime.datetime(2018, 1, 9, 11, 0), 206],\n",
       " [datetime.datetime(2018, 1, 9, 15, 0), 822],\n",
       " [datetime.datetime(2018, 1, 9, 19, 0), 302],\n",
       " [datetime.datetime(2018, 1, 9, 23, 0), 31],\n",
       " [datetime.datetime(2018, 1, 10, 3, 0), 14],\n",
       " [datetime.datetime(2018, 1, 10, 7, 0), 153],\n",
       " [datetime.datetime(2018, 1, 10, 11, 0), 221],\n",
       " [datetime.datetime(2018, 1, 10, 15, 0), 802],\n",
       " [datetime.datetime(2018, 1, 10, 19, 0), 292],\n",
       " [datetime.datetime(2018, 1, 10, 23, 0), 29],\n",
       " [datetime.datetime(2018, 1, 11, 3, 0), 12],\n",
       " [datetime.datetime(2018, 1, 11, 7, 0), 147],\n",
       " [datetime.datetime(2018, 1, 11, 11, 0), 268],\n",
       " [datetime.datetime(2018, 1, 11, 15, 0), 787],\n",
       " [datetime.datetime(2018, 1, 11, 19, 0), 303],\n",
       " [datetime.datetime(2018, 1, 11, 23, 0), 42],\n",
       " [datetime.datetime(2018, 1, 12, 3, 0), 16],\n",
       " [datetime.datetime(2018, 1, 12, 7, 0), 121],\n",
       " [datetime.datetime(2018, 1, 12, 11, 0), 271],\n",
       " [datetime.datetime(2018, 1, 12, 15, 0), 810],\n",
       " [datetime.datetime(2018, 1, 12, 19, 0), 253],\n",
       " [datetime.datetime(2018, 1, 12, 23, 0), 0]]"
      ]
     },
     "execution_count": 10,
     "metadata": {},
     "output_type": "execute_result"
    }
   ],
   "source": [
    "next(iter(dict_ts.values()))"
   ]
  },
  {
   "cell_type": "markdown",
   "metadata": {
    "ExecuteTime": {
     "end_time": "2018-01-14T00:30:26.957249Z",
     "start_time": "2018-01-14T00:30:26.946985Z"
    }
   },
   "source": [
    "# Challenge 3"
   ]
  },
  {
   "cell_type": "code",
   "execution_count": 17,
   "metadata": {
    "ExecuteTime": {
     "end_time": "2018-01-16T13:51:47.878379Z",
     "start_time": "2018-01-16T13:51:47.662990Z"
    }
   },
   "outputs": [
    {
     "name": "stdout",
     "output_type": "stream",
     "text": [
      "n = 6.12935587933\n"
     ]
    }
   ],
   "source": [
    "#originally made this a dictionary of lists\n",
    "import numpy as np\n",
    "\n",
    "dict_day = defaultdict(list)\n",
    "n = -1\n",
    "entry_totals = 0\n",
    "ts_list = []\n",
    "\n",
    "for key in dict_ts:\n",
    "    cur_day = dict_ts[key][0][0].date()\n",
    "    for row in dict_ts[key]:\n",
    "        if cur_day != row[0].date():\n",
    "            dict_day[key].append([cur_day, entry_totals])\n",
    "            cur_day = row[0].date()\n",
    "            ts_list.append(n)\n",
    "            n = -1\n",
    "            entry_totals = 0\n",
    "        n += 1\n",
    "        entry_totals += row[1]\n",
    "    dict_day[key].append([cur_day, entry_totals])\n",
    "            \n",
    "print('n =' , np.mean(ts_list))\n"
   ]
  },
  {
   "cell_type": "code",
   "execution_count": 18,
   "metadata": {
    "ExecuteTime": {
     "end_time": "2018-01-16T13:51:49.858996Z",
     "start_time": "2018-01-16T13:51:49.636515Z"
    }
   },
   "outputs": [
    {
     "name": "stdout",
     "output_type": "stream",
     "text": [
      "n = 6.12935587933\n"
     ]
    }
   ],
   "source": [
    "#later realized that would be hard for challenge 5, now dictionary of dictionaries\n",
    "dict_day = {}\n",
    "n = -1\n",
    "entry_totals = 0\n",
    "ts_list = []\n",
    "\n",
    "for key in dict_ts:\n",
    "    cur_day = dict_ts[key][0][0].date()\n",
    "    dict_d = defaultdict(int)\n",
    "    for row in dict_ts[key]:\n",
    "        if cur_day != row[0].date():\n",
    "            dict_d[cur_day] = entry_totals\n",
    "            cur_day = row[0].date()\n",
    "            ts_list.append(n)\n",
    "            n = -1\n",
    "            entry_totals = 0\n",
    "        n += 1\n",
    "        entry_totals += row[1]\n",
    "    dict_d[cur_day] = entry_totals\n",
    "    entry_totals = 0\n",
    "    dict_day[key] = dict_d\n",
    "\n",
    "            \n",
    "print('n =' , np.mean(ts_list))"
   ]
  },
  {
   "cell_type": "markdown",
   "metadata": {
    "ExecuteTime": {
     "end_time": "2018-01-14T01:21:12.290993Z",
     "start_time": "2018-01-14T01:21:12.286937Z"
    }
   },
   "source": [
    "# Challenge 4"
   ]
  },
  {
   "cell_type": "code",
   "execution_count": 19,
   "metadata": {
    "ExecuteTime": {
     "end_time": "2018-01-16T13:51:55.128771Z",
     "start_time": "2018-01-16T13:51:54.189824Z"
    },
    "scrolled": true
   },
   "outputs": [
    {
     "data": {
      "image/png": "[encoded data removed]",
      "text/plain": [
       "<matplotlib.figure.Figure at 0x1179cf6a0>"
      ]
     },
     "metadata": {},
     "output_type": "display_data"
    }
   ],
   "source": [
    "%matplotlib inline\n",
    "import matplotlib.pyplot as plt\n",
    "\n",
    "dates = []\n",
    "counts = []\n",
    "\n",
    "for key in dict_day[('A002','R051','02-00-00','59 ST')]:\n",
    "    dates.append(key)\n",
    "    counts.append(dict_day[('A002','R051','02-00-00','59 ST')][key])\n",
    "\n",
    "plt.figure(figsize=(10,3))\n",
    "plt.plot(dates,counts);"
   ]
  },
  {
   "cell_type": "markdown",
   "metadata": {},
   "source": [
    "# Challenge 5"
   ]
  },
  {
   "cell_type": "code",
   "execution_count": 20,
   "metadata": {
    "ExecuteTime": {
     "end_time": "2018-01-16T13:51:56.770280Z",
     "start_time": "2018-01-16T13:51:56.691769Z"
    },
    "collapsed": true
   },
   "outputs": [],
   "source": [
    "dict_group = {}\n",
    "\n",
    "for key in dict_day:\n",
    "    new_key = list(key[0:2])\n",
    "    new_key.append(key[3])\n",
    "    new_key = tuple(new_key)\n",
    "    if new_key not in dict_group:\n",
    "        dict_grp = {}\n",
    "        for day in dict_day[key]:\n",
    "            dict_grp[day] = 0\n",
    "        dict_group[new_key] = dict_grp\n",
    "    for d in dict_day[key]:\n",
    "        if d not in dict_group[new_key]:\n",
    "            dict_group[new_key][d] = 0\n",
    "        dict_group[new_key][d] += dict_day[key][d]"
   ]
  },
  {
   "cell_type": "code",
   "execution_count": 21,
   "metadata": {
    "ExecuteTime": {
     "end_time": "2018-01-16T13:52:04.068410Z",
     "start_time": "2018-01-16T13:52:04.061312Z"
    }
   },
   "outputs": [
    {
     "data": {
      "text/plain": [
       "{datetime.date(2018, 1, 6): 6855,\n",
       " datetime.date(2018, 1, 7): 5222,\n",
       " datetime.date(2018, 1, 8): 12904,\n",
       " datetime.date(2018, 1, 9): 13816,\n",
       " datetime.date(2018, 1, 10): 13692,\n",
       " datetime.date(2018, 1, 11): 13747,\n",
       " datetime.date(2018, 1, 12): 12551}"
      ]
     },
     "execution_count": 21,
     "metadata": {},
     "output_type": "execute_result"
    }
   ],
   "source": [
    "next(iter(dict_group.values()))"
   ]
  },
  {
   "cell_type": "markdown",
   "metadata": {},
   "source": [
    "# Challenge 6"
   ]
  },
  {
   "cell_type": "code",
   "execution_count": 23,
   "metadata": {
    "ExecuteTime": {
     "end_time": "2018-01-16T13:52:21.003279Z",
     "start_time": "2018-01-16T13:52:20.960932Z"
    },
    "collapsed": true
   },
   "outputs": [],
   "source": [
    "dict_station = {}\n",
    "\n",
    "for key in dict_day:\n",
    "    new_key = key[3]\n",
    "    if new_key not in dict_station:\n",
    "        dict_sta = {}\n",
    "        for day in dict_day[key]:\n",
    "            dict_sta[day] = 0\n",
    "        dict_station[new_key] = dict_sta\n",
    "    for d in dict_day[key]:\n",
    "        if d not in dict_station[new_key]:\n",
    "            dict_station[new_key][d] = 0\n",
    "        dict_station[new_key][d] += dict_day[key][d]"
   ]
  },
  {
   "cell_type": "code",
   "execution_count": 24,
   "metadata": {
    "ExecuteTime": {
     "end_time": "2018-01-16T13:52:21.273439Z",
     "start_time": "2018-01-16T13:52:21.265860Z"
    }
   },
   "outputs": [
    {
     "data": {
      "text/plain": [
       "{datetime.date(2018, 1, 6): 28367,\n",
       " datetime.date(2018, 1, 7): 21510,\n",
       " datetime.date(2018, 1, 8): 60379,\n",
       " datetime.date(2018, 1, 9): 64386,\n",
       " datetime.date(2018, 1, 10): 63552,\n",
       " datetime.date(2018, 1, 11): 64024,\n",
       " datetime.date(2018, 1, 12): 58322}"
      ]
     },
     "execution_count": 24,
     "metadata": {},
     "output_type": "execute_result"
    }
   ],
   "source": [
    "next(iter(dict_station.values()))"
   ]
  },
  {
   "cell_type": "markdown",
   "metadata": {
    "ExecuteTime": {
     "end_time": "2018-01-14T03:12:07.859588Z",
     "start_time": "2018-01-14T03:12:07.480144Z"
    }
   },
   "source": [
    "# Challenge 7"
   ]
  },
  {
   "cell_type": "code",
   "execution_count": 25,
   "metadata": {
    "ExecuteTime": {
     "end_time": "2018-01-16T13:52:26.154146Z",
     "start_time": "2018-01-16T13:52:25.862868Z"
    }
   },
   "outputs": [
    {
     "data": {
      "image/png": "[encoded data removed]",
      "text/plain": [
       "<matplotlib.figure.Figure at 0x1179afef0>"
      ]
     },
     "metadata": {},
     "output_type": "display_data"
    }
   ],
   "source": [
    "dates = []\n",
    "counts = []\n",
    "\n",
    "for key in dict_station[('59 ST')]:\n",
    "    dates.append(key)\n",
    "    counts.append(dict_station[('59 ST')][key])\n",
    "\n",
    "plt.figure(figsize=(10,3))\n",
    "plt.plot(dates,counts);"
   ]
  },
  {
   "cell_type": "markdown",
   "metadata": {
    "ExecuteTime": {
     "end_time": "2018-01-14T03:56:33.335031Z",
     "start_time": "2018-01-14T03:56:33.253963Z"
    }
   },
   "source": [
    "# Challenge 8"
   ]
  },
  {
   "cell_type": "code",
   "execution_count": 26,
   "metadata": {
    "ExecuteTime": {
     "end_time": "2018-01-16T13:52:44.309282Z",
     "start_time": "2018-01-16T13:52:34.022372Z"
    },
    "collapsed": true
   },
   "outputs": [],
   "source": [
    "import csv\n",
    "from collections import defaultdict\n",
    "from datetime import timedelta\n",
    "from datetime import datetime\n",
    "from operator import itemgetter\n",
    "import urllib.request\n",
    "\n",
    "week = 0\n",
    "date_str = '180113'\n",
    "date_date = datetime.strptime(date_str, '%y%m%d')\n",
    "main_list = []\n",
    "\n",
    "for week in range(3):\n",
    "    date_str = datetime.strftime(date_date, \"%y%m%d\")\n",
    "    url = \"http://web.mta.info/developers/data/nyct/turnstile/turnstile_\" + date_str +\".txt\"\n",
    "    #urllib.request.urlretrieve(url, 'turnstile_' + date_str + '.txt')\n",
    "    \n",
    "    with open('turnstile_' + date_str + '.txt') as csvfile:\n",
    "        f = csv.reader(csvfile)\n",
    "        rows = [[cell.strip() for cell in row] for row in f]\n",
    "    rows = rows[1:]\n",
    "    \n",
    "    \n",
    "    dict_mta = defaultdict(list)\n",
    "    main_list.append(dict_mta)\n",
    "    \n",
    "    for line in rows:\n",
    "            dict_mta[tuple(line[:4])].append(line[4:])\n",
    "            \n",
    "    date_date = datetime.strptime(date_str, '%y%m%d')\n",
    "    date_date = date_date - timedelta(days=7)\n"
   ]
  },
  {
   "cell_type": "code",
   "execution_count": 27,
   "metadata": {
    "ExecuteTime": {
     "end_time": "2018-01-16T13:53:01.533461Z",
     "start_time": "2018-01-16T13:52:44.313092Z"
    },
    "collapsed": true
   },
   "outputs": [],
   "source": [
    "for i in range(len(main_list)):\n",
    "    dict_ts = defaultdict(list)\n",
    "    for key in main_list[i]:\n",
    "        for index, row in enumerate(main_list[i][key]):\n",
    "            timestamp = datetime.strptime(row[2] + \" \" + row[3], \"%m/%d/%Y %H:%M:%S\")\n",
    "            dict_ts[key].append([timestamp, int(main_list[i][key][index][5])])\n",
    "        dict_ts[key].sort(key = itemgetter(0))\n",
    "        for index, row in enumerate(dict_ts[key]):\n",
    "            if index == len(dict_ts[key])-1:\n",
    "                dict_ts[key][index][1] = 0\n",
    "            else:\n",
    "                dict_ts[key][index][1] = dict_ts[key][index+1][1] - dict_ts[key][index][1]\n",
    "    main_list[i] = dict_ts\n",
    "    \n",
    " "
   ]
  },
  {
   "cell_type": "code",
   "execution_count": 28,
   "metadata": {
    "ExecuteTime": {
     "end_time": "2018-01-16T13:53:02.158326Z",
     "start_time": "2018-01-16T13:53:01.537236Z"
    },
    "collapsed": true
   },
   "outputs": [],
   "source": [
    "for i in range(len(main_list)):\n",
    "    dict_day = {}\n",
    "    n = -1\n",
    "    entry_totals = 0\n",
    "    ts_list = []\n",
    "\n",
    "    for key in main_list[i]:\n",
    "        cur_day = main_list[i][key][0][0].date()\n",
    "        dict_d = defaultdict(int)\n",
    "        for row in main_list[i][key]:\n",
    "            if cur_day != row[0].date():\n",
    "                dict_d[cur_day] = entry_totals\n",
    "                cur_day = row[0].date()\n",
    "                ts_list.append(n)\n",
    "                n = -1\n",
    "                entry_totals = 0\n",
    "            n += 1\n",
    "            entry_totals += row[1]\n",
    "        dict_d[cur_day] = entry_totals\n",
    "        entry_totals = 0\n",
    "        dict_day[key] = dict_d\n",
    "    main_list[i] = dict_day"
   ]
  },
  {
   "cell_type": "code",
   "execution_count": 29,
   "metadata": {
    "ExecuteTime": {
     "end_time": "2018-01-16T13:53:02.322740Z",
     "start_time": "2018-01-16T13:53:02.162614Z"
    },
    "collapsed": true
   },
   "outputs": [],
   "source": [
    "for i in range(len(main_list)):\n",
    "    dict_station = {}\n",
    "\n",
    "    for key in main_list[i]:\n",
    "        new_key = key[3]\n",
    "        if new_key not in dict_station:\n",
    "            dict_sta = {}\n",
    "            for day in main_list[i][key]:\n",
    "                dict_sta[day] = 0\n",
    "            dict_station[new_key] = dict_sta\n",
    "        for d in main_list[i][key]:\n",
    "            if d not in dict_station[new_key]:\n",
    "                dict_station[new_key][d] = 0\n",
    "            dict_station[new_key][d] += main_list[i][key][d]\n",
    "    main_list[i] = dict_station"
   ]
  },
  {
   "cell_type": "code",
   "execution_count": 30,
   "metadata": {
    "ExecuteTime": {
     "end_time": "2018-01-16T13:53:02.491976Z",
     "start_time": "2018-01-16T13:53:02.326800Z"
    },
    "collapsed": true
   },
   "outputs": [],
   "source": [
    "import copy\n",
    "list_2 = copy.deepcopy(main_list)\n",
    "\n",
    "for i in range(len(main_list)):\n",
    "    for key in main_list[i]:\n",
    "        for dt in main_list[i][key]:\n",
    "            day_name = datetime.strftime(dt, '%A')\n",
    "            list_2[i][key][day_name] = list_2[i][key].pop(dt)\n",
    "            \n",
    "day_list = ['Saturday', 'Sunday', 'Monday', 'Tuesday', 'Wednesday', 'Thursday', 'Friday']\n",
    "\n",
    "out_list = []\n",
    "\n",
    "for i in range(len(list_2)):\n",
    "    count_list = []\n",
    "    for day in day_list:\n",
    "        count_list.append(list_2[i]['UTICA AV'][day])\n",
    "    out_list.append(count_list)\n"
   ]
  },
  {
   "cell_type": "code",
   "execution_count": 31,
   "metadata": {
    "ExecuteTime": {
     "end_time": "2018-01-16T13:53:03.112624Z",
     "start_time": "2018-01-16T13:53:02.494458Z"
    }
   },
   "outputs": [
    {
     "data": {
      "image/png": "[encoded data removed]",
      "text/plain": [
       "<matplotlib.figure.Figure at 0x12d6a6940>"
      ]
     },
     "metadata": {},
     "output_type": "display_data"
    }
   ],
   "source": [
    "for i in range(len(list_2)):\n",
    "    plt.plot(out_list[i])"
   ]
  },
  {
   "cell_type": "markdown",
   "metadata": {},
   "source": [
    "# Challenge 9"
   ]
  },
  {
   "cell_type": "code",
   "execution_count": 33,
   "metadata": {
    "ExecuteTime": {
     "end_time": "2018-01-16T13:53:16.475368Z",
     "start_time": "2018-01-16T13:53:16.460729Z"
    },
    "collapsed": true
   },
   "outputs": [],
   "source": [
    "station_totals = defaultdict(int)\n",
    "\n",
    "for i in range(len(main_list)):\n",
    "    for key in main_list[i]:\n",
    "        for dt in main_list[i][key]:\n",
    "            station_totals[key] += main_list[i][key][dt]   "
   ]
  },
  {
   "cell_type": "code",
   "execution_count": 34,
   "metadata": {
    "ExecuteTime": {
     "end_time": "2018-01-16T13:53:17.086160Z",
     "start_time": "2018-01-16T13:53:17.078020Z"
    }
   },
   "outputs": [
    {
     "data": {
      "text/plain": [
       "942897"
      ]
     },
     "execution_count": 34,
     "metadata": {},
     "output_type": "execute_result"
    }
   ],
   "source": [
    "next(iter(station_totals.values()))"
   ]
  },
  {
   "cell_type": "markdown",
   "metadata": {
    "ExecuteTime": {
     "end_time": "2018-01-14T20:55:20.745017Z",
     "start_time": "2018-01-14T20:55:20.720470Z"
    }
   },
   "source": [
    "# Challenge 10"
   ]
  },
  {
   "cell_type": "code",
   "execution_count": 150,
   "metadata": {
    "ExecuteTime": {
     "end_time": "2018-01-14T20:58:56.542403Z",
     "start_time": "2018-01-14T20:58:56.535865Z"
    },
    "collapsed": true
   },
   "outputs": [],
   "source": [
    "totals_list = []\n",
    "\n",
    "for key in station_totals:\n",
    "    if station_totals[key] >=0:\n",
    "        totals_list.append(station_totals[key])"
   ]
  },
  {
   "cell_type": "code",
   "execution_count": 151,
   "metadata": {
    "ExecuteTime": {
     "end_time": "2018-01-14T20:59:00.536170Z",
     "start_time": "2018-01-14T20:59:00.090446Z"
    },
    "scrolled": true
   },
   "outputs": [
    {
     "data": {
      "image/png": "[encoded data removed]",
      "text/plain": [
       "<matplotlib.figure.Figure at 0x12676a630>"
      ]
     },
     "metadata": {},
     "output_type": "display_data"
    }
   ],
   "source": [
    "plt.hist(totals_list, bins=50);"
   ]
  },
  {
   "cell_type": "code",
   "execution_count": 157,
   "metadata": {
    "ExecuteTime": {
     "end_time": "2018-01-14T21:01:36.335466Z",
     "start_time": "2018-01-14T21:01:34.740154Z"
    }
   },
   "outputs": [
    {
     "data": {
      "text/plain": [
       "<Container object of 357 artists>"
      ]
     },
     "execution_count": 157,
     "metadata": {},
     "output_type": "execute_result"
    },
    {
     "data": {
      "image/png": "[encoded data removed]",
      "text/plain": [
       "<matplotlib.figure.Figure at 0x12e5f14e0>"
      ]
     },
     "metadata": {},
     "output_type": "display_data"
    }
   ],
   "source": [
    "indices = range(len(totals_list))\n",
    "plt.bar(indices, totals_list)"
   ]
  }
 ],
 "metadata": {
  "kernelspec": {
   "display_name": "Python 3",
   "language": "python",
   "name": "python3"
  },
  "language_info": {
   "codemirror_mode": {
    "name": "ipython",
    "version": 3
   },
   "file_extension": ".py",
   "mimetype": "text/x-python",
   "name": "python",
   "nbconvert_exporter": "python",
   "pygments_lexer": "ipython3",
   "version": "3.6.4"
  }
 },
 "nbformat": 4,
 "nbformat_minor": 2
}
