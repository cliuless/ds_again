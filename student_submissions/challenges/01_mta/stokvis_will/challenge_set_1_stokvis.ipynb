{
 "cells": [
  {
   "cell_type": "markdown",
   "metadata": {},
   "source": [
    "Topic:        Challenge Set 1 \n",
    "\n",
    "Subject:      Explore MTA turnstile data\n",
    "\n",
    "Date:         01/15/2016\n",
    "\n",
    "Name:         Will Stokvis\n"
   ]
  },
  {
   "cell_type": "markdown",
   "metadata": {},
   "source": [
    "### Challenge 1\n",
    "\n",
    "\n",
    "\n"
   ]
  },
  {
   "cell_type": "markdown",
   "metadata": {},
   "source": [
    "Open up a new IPython notebook\n",
    "Download a few MTA turnstile data files\n",
    "Open up a file, use csv reader to read it, make a python dict where there is a key for each (C/A, UNIT, SCP, STATION). These are the first four columns. The value for this key should be a list of lists. Each list in the list is the rest of the columns in a row. For example, one key-value pair should look like\n",
    "{ ('A002','R051','02-00-00','LEXINGTON AVE'): [ ['NQR456', 'BMT', '01/03/2015', '03:00:00', 'REGULAR', '0004945474', '0001675324'], ['NQR456', 'BMT', '01/03/2015', '07:00:00', 'REGULAR', '0004945478', '0001675333'], ['NQR456', 'BMT', '01/03/2015', '11:00:00', 'REGULAR', '0004945515', '0001675364'], ... ] }"
   ]
  },
  {
   "cell_type": "code",
   "execution_count": 412,
   "metadata": {
    "collapsed": true
   },
   "outputs": [],
   "source": [
    "import pandas as pd\n",
    "import seaborn as sns\n",
    "import matplotlib.pyplot as plt\n",
    "import csv\n",
    "from collections import defaultdict\n",
    "from dateutil.parser import parse\n",
    "from datetime import datetime\n",
    "import time\n",
    "%matplotlib inline"
   ]
  },
  {
   "cell_type": "code",
   "execution_count": 375,
   "metadata": {
    "collapsed": true
   },
   "outputs": [],
   "source": [
    "path =  '/Users/williamstokvis/Education/metis/Challenges/Week1-MTA/MTA_DATA_'\n",
    "file = '171230.csv'\n",
    "mta_file = defaultdict(list)\n",
    "with open(path + file, 'r') as csvfile:\n",
    "    mta_data = csv.reader(csvfile)\n",
    "    for row in mta_data:\n",
    "        ca = row[0]\n",
    "        unit = row[1]\n",
    "        scp = row[2]\n",
    "        station = row[3]\n",
    "        line = row[4]\n",
    "        division = row[5]\n",
    "        date = row[6]\n",
    "        time = row[7]\n",
    "        desc = row[8]\n",
    "        entries = row[9]\n",
    "        exits = row[10].strip()\n",
    "        keyGroup = (ca, unit, scp, station)\n",
    "        valueGroup = [line, division, date, time, desc, entries, exits]\n",
    "        mta_file[keyGroup].append(valueGroup)"
   ]
  },
  {
   "cell_type": "code",
   "execution_count": 379,
   "metadata": {},
   "outputs": [
    {
     "data": {
      "text/plain": [
       "[['NQR456W',\n",
       "  'BMT',\n",
       "  '12/23/2017',\n",
       "  '03:00:00',\n",
       "  'REGULAR',\n",
       "  '0006455840',\n",
       "  '0002184987'],\n",
       " ['NQR456W',\n",
       "  'BMT',\n",
       "  '12/23/2017',\n",
       "  '07:00:00',\n",
       "  'REGULAR',\n",
       "  '0006455856',\n",
       "  '0002184995'],\n",
       " ['NQR456W',\n",
       "  'BMT',\n",
       "  '12/23/2017',\n",
       "  '11:00:00',\n",
       "  'REGULAR',\n",
       "  '0006455899',\n",
       "  '0002185082'],\n",
       " ['NQR456W',\n",
       "  'BMT',\n",
       "  '12/23/2017',\n",
       "  '15:00:00',\n",
       "  'REGULAR',\n",
       "  '0006456038',\n",
       "  '0002185156'],\n",
       " ['NQR456W',\n",
       "  'BMT',\n",
       "  '12/23/2017',\n",
       "  '19:00:00',\n",
       "  'REGULAR',\n",
       "  '0006456327',\n",
       "  '0002185197'],\n",
       " ['NQR456W',\n",
       "  'BMT',\n",
       "  '12/23/2017',\n",
       "  '23:00:00',\n",
       "  'REGULAR',\n",
       "  '0006456484',\n",
       "  '0002185222'],\n",
       " ['NQR456W',\n",
       "  'BMT',\n",
       "  '12/24/2017',\n",
       "  '03:00:00',\n",
       "  'REGULAR',\n",
       "  '0006456525',\n",
       "  '0002185229'],\n",
       " ['NQR456W',\n",
       "  'BMT',\n",
       "  '12/24/2017',\n",
       "  '07:00:00',\n",
       "  'REGULAR',\n",
       "  '0006456535',\n",
       "  '0002185245'],\n",
       " ['NQR456W',\n",
       "  'BMT',\n",
       "  '12/24/2017',\n",
       "  '11:00:00',\n",
       "  'REGULAR',\n",
       "  '0006456582',\n",
       "  '0002185295'],\n",
       " ['NQR456W',\n",
       "  'BMT',\n",
       "  '12/24/2017',\n",
       "  '15:00:00',\n",
       "  'REGULAR',\n",
       "  '0006456748',\n",
       "  '0002185348'],\n",
       " ['NQR456W',\n",
       "  'BMT',\n",
       "  '12/24/2017',\n",
       "  '19:00:00',\n",
       "  'REGULAR',\n",
       "  '0006456991',\n",
       "  '0002185390'],\n",
       " ['NQR456W',\n",
       "  'BMT',\n",
       "  '12/24/2017',\n",
       "  '23:00:00',\n",
       "  'REGULAR',\n",
       "  '0006457068',\n",
       "  '0002185408'],\n",
       " ['NQR456W',\n",
       "  'BMT',\n",
       "  '12/25/2017',\n",
       "  '03:00:00',\n",
       "  'REGULAR',\n",
       "  '0006457090',\n",
       "  '0002185412'],\n",
       " ['NQR456W',\n",
       "  'BMT',\n",
       "  '12/25/2017',\n",
       "  '07:00:00',\n",
       "  'REGULAR',\n",
       "  '0006457093',\n",
       "  '0002185418'],\n",
       " ['NQR456W',\n",
       "  'BMT',\n",
       "  '12/25/2017',\n",
       "  '11:00:00',\n",
       "  'REGULAR',\n",
       "  '0006457113',\n",
       "  '0002185448'],\n",
       " ['NQR456W',\n",
       "  'BMT',\n",
       "  '12/25/2017',\n",
       "  '15:00:00',\n",
       "  'REGULAR',\n",
       "  '0006457172',\n",
       "  '0002185480'],\n",
       " ['NQR456W',\n",
       "  'BMT',\n",
       "  '12/25/2017',\n",
       "  '19:00:00',\n",
       "  'REGULAR',\n",
       "  '0006457247',\n",
       "  '0002185494'],\n",
       " ['NQR456W',\n",
       "  'BMT',\n",
       "  '12/25/2017',\n",
       "  '23:00:00',\n",
       "  'REGULAR',\n",
       "  '0006457304',\n",
       "  '0002185517'],\n",
       " ['NQR456W',\n",
       "  'BMT',\n",
       "  '12/26/2017',\n",
       "  '03:00:00',\n",
       "  'REGULAR',\n",
       "  '0006457318',\n",
       "  '0002185520'],\n",
       " ['NQR456W',\n",
       "  'BMT',\n",
       "  '12/26/2017',\n",
       "  '07:00:00',\n",
       "  'REGULAR',\n",
       "  '0006457325',\n",
       "  '0002185560'],\n",
       " ['NQR456W',\n",
       "  'BMT',\n",
       "  '12/26/2017',\n",
       "  '11:00:00',\n",
       "  'REGULAR',\n",
       "  '0006457390',\n",
       "  '0002185742'],\n",
       " ['NQR456W',\n",
       "  'BMT',\n",
       "  '12/26/2017',\n",
       "  '15:00:00',\n",
       "  'REGULAR',\n",
       "  '0006457640',\n",
       "  '0002185812'],\n",
       " ['NQR456W',\n",
       "  'BMT',\n",
       "  '12/26/2017',\n",
       "  '19:00:00',\n",
       "  'REGULAR',\n",
       "  '0006458342',\n",
       "  '0002185896'],\n",
       " ['NQR456W',\n",
       "  'BMT',\n",
       "  '12/26/2017',\n",
       "  '23:00:00',\n",
       "  'REGULAR',\n",
       "  '0006458617',\n",
       "  '0002185926'],\n",
       " ['NQR456W',\n",
       "  'BMT',\n",
       "  '12/27/2017',\n",
       "  '03:00:00',\n",
       "  'REGULAR',\n",
       "  '0006458643',\n",
       "  '0002185931'],\n",
       " ['NQR456W',\n",
       "  'BMT',\n",
       "  '12/27/2017',\n",
       "  '07:00:00',\n",
       "  'REGULAR',\n",
       "  '0006458651',\n",
       "  '0002185970'],\n",
       " ['NQR456W',\n",
       "  'BMT',\n",
       "  '12/27/2017',\n",
       "  '11:00:00',\n",
       "  'REGULAR',\n",
       "  '0006458764',\n",
       "  '0002186251'],\n",
       " ['NQR456W',\n",
       "  'BMT',\n",
       "  '12/27/2017',\n",
       "  '15:00:00',\n",
       "  'REGULAR',\n",
       "  '0006459035',\n",
       "  '0002186338'],\n",
       " ['NQR456W',\n",
       "  'BMT',\n",
       "  '12/27/2017',\n",
       "  '19:00:00',\n",
       "  'REGULAR',\n",
       "  '0006459792',\n",
       "  '0002186446'],\n",
       " ['NQR456W',\n",
       "  'BMT',\n",
       "  '12/27/2017',\n",
       "  '23:00:00',\n",
       "  'REGULAR',\n",
       "  '0006460108',\n",
       "  '0002186486'],\n",
       " ['NQR456W',\n",
       "  'BMT',\n",
       "  '12/28/2017',\n",
       "  '03:00:00',\n",
       "  'REGULAR',\n",
       "  '0006460136',\n",
       "  '0002186496'],\n",
       " ['NQR456W',\n",
       "  'BMT',\n",
       "  '12/28/2017',\n",
       "  '07:00:00',\n",
       "  'REGULAR',\n",
       "  '0006460145',\n",
       "  '0002186532'],\n",
       " ['NQR456W',\n",
       "  'BMT',\n",
       "  '12/28/2017',\n",
       "  '11:00:00',\n",
       "  'REGULAR',\n",
       "  '0006460231',\n",
       "  '0002186790'],\n",
       " ['NQR456W',\n",
       "  'BMT',\n",
       "  '12/28/2017',\n",
       "  '15:00:00',\n",
       "  'REGULAR',\n",
       "  '0006460458',\n",
       "  '0002186890'],\n",
       " ['NQR456W',\n",
       "  'BMT',\n",
       "  '12/28/2017',\n",
       "  '19:00:00',\n",
       "  'REGULAR',\n",
       "  '0006461244',\n",
       "  '0002186975'],\n",
       " ['NQR456W',\n",
       "  'BMT',\n",
       "  '12/28/2017',\n",
       "  '23:00:00',\n",
       "  'REGULAR',\n",
       "  '0006461523',\n",
       "  '0002187010'],\n",
       " ['NQR456W',\n",
       "  'BMT',\n",
       "  '12/29/2017',\n",
       "  '03:00:00',\n",
       "  'REGULAR',\n",
       "  '0006461561',\n",
       "  '0002187015'],\n",
       " ['NQR456W',\n",
       "  'BMT',\n",
       "  '12/29/2017',\n",
       "  '07:00:00',\n",
       "  'REGULAR',\n",
       "  '0006461574',\n",
       "  '0002187052'],\n",
       " ['NQR456W',\n",
       "  'BMT',\n",
       "  '12/29/2017',\n",
       "  '11:00:00',\n",
       "  'REGULAR',\n",
       "  '0006461679',\n",
       "  '0002187318'],\n",
       " ['NQR456W',\n",
       "  'BMT',\n",
       "  '12/29/2017',\n",
       "  '15:00:00',\n",
       "  'REGULAR',\n",
       "  '0006462043',\n",
       "  '0002187422'],\n",
       " ['NQR456W',\n",
       "  'BMT',\n",
       "  '12/29/2017',\n",
       "  '19:00:00',\n",
       "  'REGULAR',\n",
       "  '0006462758',\n",
       "  '0002187513'],\n",
       " ['NQR456W',\n",
       "  'BMT',\n",
       "  '12/29/2017',\n",
       "  '23:00:00',\n",
       "  'REGULAR',\n",
       "  '0006463058',\n",
       "  '0002187547']]"
      ]
     },
     "execution_count": 379,
     "metadata": {},
     "output_type": "execute_result"
    }
   ],
   "source": [
    "mta_file[('A002',\n",
    "              'R051',\n",
    "              '02-00-00',\n",
    "              '59 ST')]"
   ]
  },
  {
   "cell_type": "markdown",
   "metadata": {},
   "source": [
    "### Challenge 2"
   ]
  },
  {
   "cell_type": "markdown",
   "metadata": {},
   "source": [
    "Let's turn this into a time series.\n",
    "For each key (basically the control area, unit, device address and station of a specific turnstile), have a list again, but let the list be comprised of just the point in time and the count of entries.\n",
    "\n",
    "This basically means keeping only the date, time, and entries fields in each list. You can convert the date and time into datetime objects -- That is a python class that represents a point in time. You can combine the date and time fields into a string and use the dateutil module to convert it into a datetime object. For an example check this StackOverflow question.\n",
    "\n",
    "Your new dict should look something like\n",
    "\n",
    "{ ('A002','R051','02-00-00','LEXINGTON AVE'): [ [datetime.datetime(2013, 3, 2, 3, 0), 3788], [datetime.datetime(2013, 3, 2, 7, 0), 2585], [datetime.datetime(2013, 3, 2, 12, 0), 10653], [datetime.datetime(2013, 3, 2, 17, 0), 11016], [datetime.datetime(2013, 3, 2, 23, 0), 10666], [datetime.datetime(2013, 3, 3, 3, 0), 10814], [datetime.datetime(2013, 3, 3, 7, 0), 10229], ... ], .... }"
   ]
  },
  {
   "cell_type": "code",
   "execution_count": 505,
   "metadata": {},
   "outputs": [
    {
     "ename": "ValueError",
     "evalue": "invalid literal for int() with base 10: ''",
     "output_type": "error",
     "traceback": [
      "\u001b[0;31m---------------------------------------------------------------------------\u001b[0m",
      "\u001b[0;31mValueError\u001b[0m                                Traceback (most recent call last)",
      "\u001b[0;32m<ipython-input-505-8c277a3e70d8>\u001b[0m in \u001b[0;36m<module>\u001b[0;34m()\u001b[0m\n\u001b[1;32m     16\u001b[0m         \u001b[0mentries\u001b[0m \u001b[0;34m=\u001b[0m \u001b[0mrow\u001b[0m\u001b[0;34m[\u001b[0m\u001b[0;36m9\u001b[0m\u001b[0;34m]\u001b[0m\u001b[0;34m.\u001b[0m\u001b[0mlstrip\u001b[0m\u001b[0;34m(\u001b[0m\u001b[0;34m'0'\u001b[0m\u001b[0;34m)\u001b[0m\u001b[0;34m\u001b[0m\u001b[0m\n\u001b[1;32m     17\u001b[0m         \u001b[0mkeyGroup\u001b[0m \u001b[0;34m=\u001b[0m \u001b[0;34m(\u001b[0m\u001b[0mca\u001b[0m\u001b[0;34m,\u001b[0m \u001b[0munit\u001b[0m\u001b[0;34m,\u001b[0m \u001b[0mscp\u001b[0m\u001b[0;34m,\u001b[0m \u001b[0mstation\u001b[0m\u001b[0;34m)\u001b[0m\u001b[0;34m\u001b[0m\u001b[0m\n\u001b[0;32m---> 18\u001b[0;31m         \u001b[0mvalueGroup\u001b[0m \u001b[0;34m=\u001b[0m \u001b[0;34m[\u001b[0m\u001b[0mparse\u001b[0m\u001b[0;34m(\u001b[0m\u001b[0mdate\u001b[0m \u001b[0;34m+\u001b[0m \u001b[0;34m\" \"\u001b[0m \u001b[0;34m+\u001b[0m \u001b[0mtime\u001b[0m\u001b[0;34m)\u001b[0m\u001b[0;34m,\u001b[0m \u001b[0mint\u001b[0m\u001b[0;34m(\u001b[0m\u001b[0mentries\u001b[0m\u001b[0;34m)\u001b[0m\u001b[0;34m]\u001b[0m\u001b[0;34m\u001b[0m\u001b[0m\n\u001b[0m\u001b[1;32m     19\u001b[0m         \u001b[0mmta_filep2\u001b[0m\u001b[0;34m[\u001b[0m\u001b[0mkeyGroup\u001b[0m\u001b[0;34m]\u001b[0m\u001b[0;34m.\u001b[0m\u001b[0mappend\u001b[0m\u001b[0;34m(\u001b[0m\u001b[0mvalueGroup\u001b[0m\u001b[0;34m)\u001b[0m\u001b[0;34m\u001b[0m\u001b[0m\n\u001b[1;32m     20\u001b[0m         \u001b[0mmta_date_count\u001b[0m\u001b[0;34m[\u001b[0m\u001b[0mkeyGroup\u001b[0m\u001b[0;34m]\u001b[0m\u001b[0;34m.\u001b[0m\u001b[0mappend\u001b[0m\u001b[0;34m(\u001b[0m\u001b[0;34m(\u001b[0m\u001b[0mdate\u001b[0m\u001b[0;34m,\u001b[0m \u001b[0mentries\u001b[0m\u001b[0;34m)\u001b[0m\u001b[0;34m)\u001b[0m\u001b[0;34m\u001b[0m\u001b[0m\n",
      "\u001b[0;31mValueError\u001b[0m: invalid literal for int() with base 10: ''"
     ]
    }
   ],
   "source": [
    "from datetime import datetime as dt\n",
    "path =  '/Users/williamstokvis/Education/metis/Challenges/Week1-MTA/MTA_DATA_'\n",
    "file = '171230.csv'\n",
    "mta_filep2 = defaultdict(list)\n",
    "mta_date_count = defaultdict(list)\n",
    "with open(path + file, 'r') as csvfile:\n",
    "    mta_data = csv.reader(csvfile)\n",
    "    next(mta_data)\n",
    "    for row in mta_data:\n",
    "        ca = row[0]\n",
    "        unit = row[1]\n",
    "        scp = row[2]\n",
    "        station = row[3]\n",
    "        date = row[6]\n",
    "        time = row[7]\n",
    "        entries = row[9].lstrip('0')\n",
    "        keyGroup = (ca, unit, scp, station)\n",
    "        valueGroup = [parse(date + \" \" + time), entries]\n",
    "        mta_filep2[keyGroup].append(valueGroup)\n",
    "        mta_date_count[keyGroup].append((date, entries))"
   ]
  },
  {
   "cell_type": "markdown",
   "metadata": {},
   "source": [
    "### Challenge 3"
   ]
  },
  {
   "cell_type": "markdown",
   "metadata": {
    "collapsed": true
   },
   "source": [
    "These counts are for every n hours. (What is n?) We want total daily entries.\n",
    "\n",
    "Now make it that we again have the same keys, but now we have a single value for a single day, which is the total number of passengers that entered through this turnstile on this day."
   ]
  },
  {
   "cell_type": "code",
   "execution_count": 730,
   "metadata": {
    "scrolled": true
   },
   "outputs": [
    {
     "data": {
      "text/html": [
       "<div>\n",
       "<style>\n",
       "    .dataframe thead tr:only-child th {\n",
       "        text-align: right;\n",
       "    }\n",
       "\n",
       "    .dataframe thead th {\n",
       "        text-align: left;\n",
       "    }\n",
       "\n",
       "    .dataframe tbody tr th {\n",
       "        vertical-align: top;\n",
       "    }\n",
       "</style>\n",
       "<table border=\"1\" class=\"dataframe\">\n",
       "  <thead>\n",
       "    <tr style=\"text-align: right;\">\n",
       "      <th></th>\n",
       "      <th>DATE_TIME</th>\n",
       "      <th>C/A</th>\n",
       "      <th>UNIT</th>\n",
       "      <th>SCP</th>\n",
       "      <th>STATION</th>\n",
       "      <th>LINENAME</th>\n",
       "      <th>ENTRIES</th>\n",
       "      <th>EXITS</th>\n",
       "      <th>NEW_ENTRIES</th>\n",
       "    </tr>\n",
       "  </thead>\n",
       "  <tbody>\n",
       "    <tr>\n",
       "      <th>22359</th>\n",
       "      <td>2018-01-05 23:00:00</td>\n",
       "      <td>A014</td>\n",
       "      <td>R081</td>\n",
       "      <td>02-00-02</td>\n",
       "      <td>49 ST</td>\n",
       "      <td>NQRW</td>\n",
       "      <td>1185555</td>\n",
       "      <td>2288635</td>\n",
       "      <td>256.0</td>\n",
       "    </tr>\n",
       "    <tr>\n",
       "      <th>22360</th>\n",
       "      <td>2018-01-05 23:00:00</td>\n",
       "      <td>A010</td>\n",
       "      <td>R080</td>\n",
       "      <td>00-00-07</td>\n",
       "      <td>57 ST-7 AV</td>\n",
       "      <td>NQRW</td>\n",
       "      <td>28607849</td>\n",
       "      <td>5760801</td>\n",
       "      <td>791.0</td>\n",
       "    </tr>\n",
       "    <tr>\n",
       "      <th>22361</th>\n",
       "      <td>2018-01-05 23:00:00</td>\n",
       "      <td>A011</td>\n",
       "      <td>R080</td>\n",
       "      <td>01-00-00</td>\n",
       "      <td>57 ST-7 AV</td>\n",
       "      <td>NQRW</td>\n",
       "      <td>886284064</td>\n",
       "      <td>491870154</td>\n",
       "      <td>-657.0</td>\n",
       "    </tr>\n",
       "    <tr>\n",
       "      <th>22362</th>\n",
       "      <td>2018-01-05 23:00:00</td>\n",
       "      <td>A002</td>\n",
       "      <td>R051</td>\n",
       "      <td>02-03-04</td>\n",
       "      <td>59 ST</td>\n",
       "      <td>NQR456W</td>\n",
       "      <td>6564009</td>\n",
       "      <td>3479586</td>\n",
       "      <td>251.0</td>\n",
       "    </tr>\n",
       "    <tr>\n",
       "      <th>22363</th>\n",
       "      <td>2018-01-05 23:00:00</td>\n",
       "      <td>A002</td>\n",
       "      <td>R051</td>\n",
       "      <td>02-06-00</td>\n",
       "      <td>59 ST</td>\n",
       "      <td>NQR456W</td>\n",
       "      <td>7362728</td>\n",
       "      <td>156374</td>\n",
       "      <td>205.0</td>\n",
       "    </tr>\n",
       "  </tbody>\n",
       "</table>\n",
       "</div>"
      ],
      "text/plain": [
       "                DATE_TIME   C/A  UNIT       SCP     STATION LINENAME  \\\n",
       "22359 2018-01-05 23:00:00  A014  R081  02-00-02       49 ST     NQRW   \n",
       "22360 2018-01-05 23:00:00  A010  R080  00-00-07  57 ST-7 AV     NQRW   \n",
       "22361 2018-01-05 23:00:00  A011  R080  01-00-00  57 ST-7 AV     NQRW   \n",
       "22362 2018-01-05 23:00:00  A002  R051  02-03-04       59 ST  NQR456W   \n",
       "22363 2018-01-05 23:00:00  A002  R051  02-06-00       59 ST  NQR456W   \n",
       "\n",
       "         ENTRIES  \\\n",
       "22359    1185555   \n",
       "22360   28607849   \n",
       "22361  886284064   \n",
       "22362    6564009   \n",
       "22363    7362728   \n",
       "\n",
       "       EXITS                                                                 \\\n",
       "22359                                            2288635                      \n",
       "22360                                            5760801                      \n",
       "22361                                          491870154                      \n",
       "22362                                            3479586                      \n",
       "22363                                             156374                      \n",
       "\n",
       "       NEW_ENTRIES  \n",
       "22359        256.0  \n",
       "22360        791.0  \n",
       "22361       -657.0  \n",
       "22362        251.0  \n",
       "22363        205.0  "
      ]
     },
     "execution_count": 730,
     "metadata": {},
     "output_type": "execute_result"
    }
   ],
   "source": [
    "\n",
    "path_pd =  '/Users/williamstokvis/Education/metis/Challenges/Week1-MTA/MTA_DATA_'\n",
    "file_pd = ['171230', '180106']\n",
    "mta = []\n",
    "for date in file_pd:\n",
    "    df = pd.read_csv(path_pd + date + '.csv', parse_dates = [['DATE', 'TIME']], infer_datetime_format=True)\n",
    "    mta.append(df)\n",
    "mta = pd.concat(mta).sort_values('DATE_TIME').drop('DIVISION', axis=1)\n",
    "\n",
    "mta.drop('DESC', axis=1, inplace=True)\n",
    "mta.reset_index(drop = True, inplace = True)\n",
    "mta['NEW_ENTRIES'] = mta.groupby(['LINENAME', 'STATION', 'C/A', 'UNIT', 'SCP'],\n",
    "                                 sort=False)['ENTRIES'].transform(lambda s:\n",
    "                                                                  s.diff())\n",
    "mta.tail()"
   ]
  },
  {
   "cell_type": "markdown",
   "metadata": {},
   "source": [
    "### Challenge 4"
   ]
  },
  {
   "cell_type": "markdown",
   "metadata": {},
   "source": [
    "Take the list of [(date1, count1), (date2, count2), ...], for the turnstile and turn it into two lists: dates and counts. This should plot it:"
   ]
  },
  {
   "cell_type": "code",
   "execution_count": 631,
   "metadata": {
    "scrolled": true
   },
   "outputs": [
    {
     "data": {
      "image/png": "[encoded data removed]",
      "text/plain": [
       "<matplotlib.figure.Figure at 0x1a26572198>"
      ]
     },
     "metadata": {},
     "output_type": "display_data"
    }
   ],
   "source": [
    "#Attempt 1 without Pandas\n",
    "single_turnstile = mta_date_count[('A002',\n",
    "              'R051',\n",
    "              '02-00-00',\n",
    "              '59 ST')]\n",
    "dates = []\n",
    "counts = []\n",
    "for i in single_turnstile:\n",
    "    dates.append(i[0])\n",
    "    counts.append(i[1])\n",
    "\n",
    "plt.figure(figsize=(10,3))\n",
    "plt.plot(dates,counts)\n",
    "plt.xlabel('Entries')\n",
    "plt.ylabel('Date');"
   ]
  },
  {
   "cell_type": "code",
   "execution_count": 742,
   "metadata": {},
   "outputs": [
    {
     "data": {
      "image/png": "[encoded data removed]",
      "text/plain": [
       "<matplotlib.figure.Figure at 0x1a24625f28>"
      ]
     },
     "metadata": {},
     "output_type": "display_data"
    }
   ],
   "source": [
    "#Attempt 2 with Pandas\n",
    "df_single_turnstile = mta[(mta.UNIT == 'R051') & (mta['C/A'] == 'A002') & (mta.SCP == '02-00-00')\\\n",
    "   &(mta.STATION == '59 ST')].groupby(mta.DATE_TIME.dt.date)['NEW_ENTRIES'].sum()\n",
    "df_single_turnstile.plot(kind = 'line', figsize = (12,7))\n",
    "plt.ylabel('Entries')\n",
    "plt.xlabel('Date')\n",
    "plt.title('Entries to a single turnstile at 59th Street Subway Entrance');\n"
   ]
  },
  {
   "cell_type": "markdown",
   "metadata": {},
   "source": [
    "### Challenge 5 "
   ]
  },
  {
   "cell_type": "markdown",
   "metadata": {},
   "source": [
    "So far we've been operating on a single turnstile level, let's combine turnstiles in the same ControlArea/Unit/Station combo. There are some ControlArea/Unit/Station groups that have a single turnstile, but most have multiple turnstilea-- same value for the C/A, UNIT and STATION columns, different values for the SCP column.\n",
    "\n",
    "We want to combine the numbers together -- for each ControlArea/UNIT/STATION combo, for each day, add the counts from each turnstile belonging to that combo."
   ]
  },
  {
   "cell_type": "code",
   "execution_count": 735,
   "metadata": {},
   "outputs": [
    {
     "data": {
      "text/plain": [
       "C/A   UNIT  STATION  DATE_TIME \n",
       "A002  R051  59 ST    2017-12-23     6137.0\n",
       "                     2017-12-24     5369.0\n",
       "                     2017-12-25     3128.0\n",
       "                     2017-12-26    11262.0\n",
       "                     2017-12-27    13904.0\n",
       "                     2017-12-28    13617.0\n",
       "                     2017-12-29    13386.0\n",
       "                     2017-12-30     7944.0\n",
       "                     2017-12-31     5939.0\n",
       "                     2018-01-01     4961.0\n",
       "Name: NEW_ENTRIES, dtype: float64"
      ]
     },
     "execution_count": 735,
     "metadata": {},
     "output_type": "execute_result"
    }
   ],
   "source": [
    "df_grouped_turnstile = mta.groupby([ 'C/A', 'UNIT', 'STATION', mta.DATE_TIME.dt.date])['NEW_ENTRIES']\\\n",
    "    .sum()\n",
    "df_grouped_turnstile.head(10)"
   ]
  },
  {
   "cell_type": "markdown",
   "metadata": {},
   "source": [
    "### Challenge 6"
   ]
  },
  {
   "cell_type": "markdown",
   "metadata": {},
   "source": [
    "Similarly, combine everything in each station, and come up with a time series of [(date1, count1),(date2,count2),...] type of time series for each STATION, by adding up all the turnstiles in a station."
   ]
  },
  {
   "cell_type": "code",
   "execution_count": 736,
   "metadata": {},
   "outputs": [
    {
     "data": {
      "text/plain": [
       "STATION          DATE_TIME \n",
       "SHEEPSHEAD BAY   2017-12-24     5223.0\n",
       "                 2017-12-25     4128.0\n",
       "                 2017-12-26    11253.0\n",
       "                 2017-12-27    12095.0\n",
       "                 2017-12-28    11227.0\n",
       "                 2017-12-29    10738.0\n",
       "TIMES SQ-42 ST   2017-12-23     4221.0\n",
       "                 2017-12-24     3946.0\n",
       "                 2017-12-25     2888.0\n",
       "                 2017-12-26     9316.0\n",
       "                 2017-12-27    11879.0\n",
       "                 2017-12-28    11907.0\n",
       "                 2017-12-29    10588.0\n",
       "WHITEHALL S-FRY  2017-12-23     5130.0\n",
       "                 2017-12-24     6718.0\n",
       "                 2017-12-25     5773.0\n",
       "                 2017-12-26    15458.0\n",
       "                 2017-12-27    18024.0\n",
       "                 2017-12-28    18249.0\n",
       "                 2017-12-29    16784.0\n",
       "Name: NEW_ENTRIES, dtype: float64"
      ]
     },
     "execution_count": 736,
     "metadata": {},
     "output_type": "execute_result"
    }
   ],
   "source": [
    "df_station_group = mta.groupby(['STATION', mta.DATE_TIME.dt.date])['NEW_ENTRIES'].sum()\n",
    "df_station_group.tail(20)"
   ]
  },
  {
   "cell_type": "markdown",
   "metadata": {},
   "source": [
    "### Challenge 7"
   ]
  },
  {
   "cell_type": "markdown",
   "metadata": {},
   "source": [
    "Plot the time series for a station."
   ]
  },
  {
   "cell_type": "code",
   "execution_count": 743,
   "metadata": {},
   "outputs": [
    {
     "data": {
      "image/png": "[encoded data removed]",
      "text/plain": [
       "<matplotlib.figure.Figure at 0x1a250e1ef0>"
      ]
     },
     "metadata": {},
     "output_type": "display_data"
    }
   ],
   "source": [
    "mta[mta.STATION == '59 ST'].groupby(mta.DATE_TIME.dt.date)['NEW_ENTRIES']\\\n",
    "    .sum().plot(kind = 'line', figsize = (12,7));\n",
    "plt.ylabel('Entries')\n",
    "plt.xlabel('Date')\n",
    "plt.title('Entries at 59th Street Subway Entrance');"
   ]
  },
  {
   "cell_type": "markdown",
   "metadata": {
    "collapsed": true
   },
   "source": [
    "### Challenge 8"
   ]
  },
  {
   "cell_type": "markdown",
   "metadata": {
    "collapsed": true
   },
   "source": [
    "Make one list of counts for one week for one station. Monday's count, Tuesday's count, etc. so it's a list of 7 counts. Make the same list for another week, and another week, and another week. plt.plot(week_count_list) for every week_count_list you created this way. You should get a rainbow plot of weekly commute numbers on top of each other."
   ]
  },
  {
   "cell_type": "code",
   "execution_count": null,
   "metadata": {
    "collapsed": true
   },
   "outputs": [],
   "source": []
  },
  {
   "cell_type": "code",
   "execution_count": null,
   "metadata": {
    "collapsed": true
   },
   "outputs": [],
   "source": []
  },
  {
   "cell_type": "code",
   "execution_count": null,
   "metadata": {
    "collapsed": true
   },
   "outputs": [],
   "source": []
  },
  {
   "cell_type": "code",
   "execution_count": null,
   "metadata": {
    "collapsed": true
   },
   "outputs": [],
   "source": []
  }
 ],
 "metadata": {
  "kernelspec": {
   "display_name": "Python 3",
   "language": "python",
   "name": "python3"
  },
  "language_info": {
   "codemirror_mode": {
    "name": "ipython",
    "version": 3
   },
   "file_extension": ".py",
   "mimetype": "text/x-python",
   "name": "python",
   "nbconvert_exporter": "python",
   "pygments_lexer": "ipython3",
   "version": "3.6.3"
  }
 },
 "nbformat": 4,
 "nbformat_minor": 2
}
