{
 "cells": [
  {
   "cell_type": "markdown",
   "metadata": {},
   "source": [
    "Topic:        **Challenge Set 1**  \n",
    "Subject:      Explore MTA turnstile data   \n",
    "Date:         01/08/2018  \n",
    "Name:         Christine Chen  \n",
    "Worked with:  XXXXXXXXXXXXXXXX  "
   ]
  },
  {
   "cell_type": "code",
   "execution_count": 56,
   "metadata": {},
   "outputs": [
    {
     "name": "stdout",
     "output_type": "stream",
     "text": [
      "defaultdict(<class 'list'>, {('A002', 'R051', '02-00-00', '59 ST'): [['NQR456W', 'BMT', '12/30/2017', '03:00:00', 'REGULAR', '0006463109', '0002187558'], ['NQR456W', 'BMT', '12/30/2017', '07:00:00', 'REGULAR', '0006463119', '0002187567'], ['NQR456W', 'BMT', '12/30/2017', '11:00:00', 'REGULAR', '0006463178', '0002187654'], ['NQR456W', 'BMT', '12/30/2017', '15:00:00', 'REGULAR', '0006463373', '0002187736'], ['NQR456W', 'BMT', '12/30/2017', '19:00:00', 'REGULAR', '0006463712', '0002187803'], ['NQR456W', 'BMT', '12/30/2017', '23:00:00', 'REGULAR', '0006463887', '0002187833'], ['NQR456W', 'BMT', '12/31/2017', '03:00:00', 'REGULAR', '0006463926', '0002187844'], ['NQR456W', 'BMT', '12/31/2017', '07:00:00', 'REGULAR', '0006463938', '0002187856'], ['NQR456W', 'BMT', '12/31/2017', '11:00:00', 'REGULAR', '0006463980', '0002187919'], ['NQR456W', 'BMT', '12/31/2017', '15:00:00', 'REGULAR', '0006464138', '0002187969'], ['NQR456W', 'BMT', '12/31/2017', '19:00:00', 'REGULAR', '0006464337', '0002188024'], ['NQR456W', 'BMT', '12/31/2017', '23:00:00', 'REGULAR', '0006464443', '0002188049'], ['NQR456W', 'BMT', '01/01/2018', '03:00:00', 'REGULAR', '0006464475', '0002188055'], ['NQR456W', 'BMT', '01/01/2018', '07:00:00', 'REGULAR', '0006464491', '0002188064'], ['NQR456W', 'BMT', '01/01/2018', '11:00:00', 'REGULAR', '0006464517', '0002188106'], ['NQR456W', 'BMT', '01/01/2018', '15:00:00', 'REGULAR', '0006464623', '0002188146'], ['NQR456W', 'BMT', '01/01/2018', '19:00:00', 'REGULAR', '0006464806', '0002188192'], ['NQR456W', 'BMT', '01/01/2018', '23:00:00', 'REGULAR', '0006464907', '0002188209'], ['NQR456W', 'BMT', '01/02/2018', '03:00:00', 'REGULAR', '0006464919', '0002188214'], ['NQR456W', 'BMT', '01/02/2018', '07:00:00', 'REGULAR', '0006464934', '0002188247'], ['NQR456W', 'BMT', '01/02/2018', '11:00:00', 'REGULAR', '0006465085', '0002188505'], ['NQR456W', 'BMT', '01/02/2018', '15:00:00', 'REGULAR', '0006465297', '0002188572'], ['NQR456W', 'BMT', '01/02/2018', '19:00:00', 'REGULAR', '0006466098', '0002188659'], ['NQR456W', 'BMT', '01/02/2018', '23:00:00', 'REGULAR', '0006466375', '0002188704'], ['NQR456W', 'BMT', '01/03/2018', '03:00:00', 'REGULAR', '0006466403', '0002188707']]})\n"
     ]
    }
   ],
   "source": [
    "#Challenge 1\n",
    "\n",
    "import collections\n",
    "import csv\n",
    "import datetime\n",
    "import dateutil.parser\n",
    "\n",
    "#with open('../../../data/turnstile_180106.txt', 'r') as file:\n",
    "with open('../../../data/turnstileDraft.txt', 'r') as file:\n",
    "    data = csv.reader(file)\n",
    "    next(data)\n",
    "    \n",
    "    data1 = collections.defaultdict(list)\n",
    "    for row in data:\n",
    "        row[10] = row[10].strip()\n",
    "        key = tuple(row[:4])\n",
    "        value = row[4:]\n",
    "        data1[key].append(value)\n",
    "    \n",
    "    \n",
    "#############    \n",
    "#Challenge 2\n",
    "\n",
    "    #dateFormattedList = []\n",
    "    #deltaList = []\n",
    "    #count = []\n",
    "    #data2 = collections.defaultdict(list)\n",
    "    for row in data:\n",
    "    #    #key = tuple(row[:4])\n",
    "    #    date = row[6]\n",
    "    #    time = row[7]\n",
    "    #    dateAndTime = date + ' ' + time\n",
    "    #    dt = datetime.datetime.strptime(dateAndTime, '%m/%d/%Y %H:%M:%S')\n",
    "    #    dateFormattedList.append(dt)\n",
    "    #    #entries = row[9]\n",
    "    #    #entriesList.append(entries)\n",
    "\n",
    "        "
   ]
  },
  {
   "cell_type": "code",
   "execution_count": 8,
   "metadata": {},
   "outputs": [
    {
     "ename": "IndentationError",
     "evalue": "unexpected indent (<ipython-input-8-1396b9a04a96>, line 3)",
     "output_type": "error",
     "traceback": [
      "\u001b[0;36m  File \u001b[0;32m\"<ipython-input-8-1396b9a04a96>\"\u001b[0;36m, line \u001b[0;32m3\u001b[0m\n\u001b[0;31m    data2 = collections.defaultdict(list)\u001b[0m\n\u001b[0m    ^\u001b[0m\n\u001b[0;31mIndentationError\u001b[0m\u001b[0;31m:\u001b[0m unexpected indent\n"
     ]
    }
   ],
   "source": [
    "#Challenge 2\n",
    "\n",
    "    data2 = collections.defaultdict(list)\n",
    "    for row in data:\n",
    "        #key = tuple(row[:4])\n",
    "        time = row[7]\n",
    "        print(time)\n",
    "        #entries = row[9]"
   ]
  },
  {
   "cell_type": "code",
   "execution_count": null,
   "metadata": {
    "collapsed": true
   },
   "outputs": [],
   "source": []
  }
 ],
 "metadata": {
  "kernelspec": {
   "display_name": "Python 3",
   "language": "python",
   "name": "python3"
  },
  "language_info": {
   "codemirror_mode": {
    "name": "ipython",
    "version": 3
   },
   "file_extension": ".py",
   "mimetype": "text/x-python",
   "name": "python",
   "nbconvert_exporter": "python",
   "pygments_lexer": "ipython3",
   "version": "3.6.2"
  }
 },
 "nbformat": 4,
 "nbformat_minor": 2
}
