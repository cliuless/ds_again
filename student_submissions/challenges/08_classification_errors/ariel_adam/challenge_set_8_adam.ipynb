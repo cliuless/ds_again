{
 "cells": [
  {
   "cell_type": "code",
   "execution_count": 1,
   "metadata": {
    "collapsed": true
   },
   "outputs": [],
   "source": [
    "import numpy as np\n",
    "import pandas as pd\n",
    "import math\n",
    "import matplotlib.pyplot as plt\n",
    "%matplotlib inline "
   ]
  },
  {
   "cell_type": "code",
   "execution_count": 2,
   "metadata": {
    "collapsed": true
   },
   "outputs": [],
   "source": [
    "def rd2bin(a):\n",
    "    b=list(a)\n",
    "    for i in range(len(b)):\n",
    "        if b[i] == 'R': b[i]=0\n",
    "        if b[i] == 'D': b[i]=1\n",
    "    return b\n",
    "\n",
    "def avnp(l):\n",
    "    l=list(l)\n",
    "    return sum(l)/len(l)"
   ]
  },
  {
   "cell_type": "code",
   "execution_count": 3,
   "metadata": {
    "collapsed": true
   },
   "outputs": [],
   "source": [
    "testsize=0.30\n",
    "randomstate=4444"
   ]
  },
  {
   "cell_type": "code",
   "execution_count": 4,
   "metadata": {},
   "outputs": [
    {
     "data": {
      "text/html": [
       "<div>\n",
       "<style>\n",
       "    .dataframe thead tr:only-child th {\n",
       "        text-align: right;\n",
       "    }\n",
       "\n",
       "    .dataframe thead th {\n",
       "        text-align: left;\n",
       "    }\n",
       "\n",
       "    .dataframe tbody tr th {\n",
       "        vertical-align: top;\n",
       "    }\n",
       "</style>\n",
       "<table border=\"1\" class=\"dataframe\">\n",
       "  <thead>\n",
       "    <tr style=\"text-align: right;\">\n",
       "      <th></th>\n",
       "      <th>0</th>\n",
       "      <th>1</th>\n",
       "      <th>2</th>\n",
       "      <th>3</th>\n",
       "      <th>4</th>\n",
       "      <th>5</th>\n",
       "      <th>6</th>\n",
       "      <th>7</th>\n",
       "      <th>8</th>\n",
       "      <th>9</th>\n",
       "      <th>10</th>\n",
       "      <th>11</th>\n",
       "      <th>12</th>\n",
       "      <th>13</th>\n",
       "      <th>14</th>\n",
       "      <th>15</th>\n",
       "      <th>16</th>\n",
       "    </tr>\n",
       "  </thead>\n",
       "  <tbody>\n",
       "    <tr>\n",
       "      <th>0</th>\n",
       "      <td>R</td>\n",
       "      <td>0.00000</td>\n",
       "      <td>1.0</td>\n",
       "      <td>0.0</td>\n",
       "      <td>1.000000</td>\n",
       "      <td>1.000000</td>\n",
       "      <td>1.0</td>\n",
       "      <td>0.0</td>\n",
       "      <td>0.0</td>\n",
       "      <td>0.0</td>\n",
       "      <td>1.0</td>\n",
       "      <td>0.362319</td>\n",
       "      <td>1.000000</td>\n",
       "      <td>1.0</td>\n",
       "      <td>1.0</td>\n",
       "      <td>0.0</td>\n",
       "      <td>1.000000</td>\n",
       "    </tr>\n",
       "    <tr>\n",
       "      <th>1</th>\n",
       "      <td>R</td>\n",
       "      <td>0.00000</td>\n",
       "      <td>1.0</td>\n",
       "      <td>0.0</td>\n",
       "      <td>1.000000</td>\n",
       "      <td>1.000000</td>\n",
       "      <td>1.0</td>\n",
       "      <td>0.0</td>\n",
       "      <td>0.0</td>\n",
       "      <td>0.0</td>\n",
       "      <td>0.0</td>\n",
       "      <td>0.000000</td>\n",
       "      <td>1.000000</td>\n",
       "      <td>1.0</td>\n",
       "      <td>1.0</td>\n",
       "      <td>0.0</td>\n",
       "      <td>0.812689</td>\n",
       "    </tr>\n",
       "    <tr>\n",
       "      <th>2</th>\n",
       "      <td>D</td>\n",
       "      <td>0.44208</td>\n",
       "      <td>1.0</td>\n",
       "      <td>1.0</td>\n",
       "      <td>0.417453</td>\n",
       "      <td>1.000000</td>\n",
       "      <td>1.0</td>\n",
       "      <td>0.0</td>\n",
       "      <td>0.0</td>\n",
       "      <td>0.0</td>\n",
       "      <td>0.0</td>\n",
       "      <td>1.000000</td>\n",
       "      <td>0.000000</td>\n",
       "      <td>1.0</td>\n",
       "      <td>1.0</td>\n",
       "      <td>0.0</td>\n",
       "      <td>0.000000</td>\n",
       "    </tr>\n",
       "    <tr>\n",
       "      <th>3</th>\n",
       "      <td>D</td>\n",
       "      <td>0.00000</td>\n",
       "      <td>1.0</td>\n",
       "      <td>1.0</td>\n",
       "      <td>0.000000</td>\n",
       "      <td>0.504762</td>\n",
       "      <td>1.0</td>\n",
       "      <td>0.0</td>\n",
       "      <td>0.0</td>\n",
       "      <td>0.0</td>\n",
       "      <td>0.0</td>\n",
       "      <td>1.000000</td>\n",
       "      <td>0.000000</td>\n",
       "      <td>1.0</td>\n",
       "      <td>0.0</td>\n",
       "      <td>0.0</td>\n",
       "      <td>1.000000</td>\n",
       "    </tr>\n",
       "    <tr>\n",
       "      <th>4</th>\n",
       "      <td>D</td>\n",
       "      <td>1.00000</td>\n",
       "      <td>1.0</td>\n",
       "      <td>1.0</td>\n",
       "      <td>0.000000</td>\n",
       "      <td>1.000000</td>\n",
       "      <td>1.0</td>\n",
       "      <td>0.0</td>\n",
       "      <td>0.0</td>\n",
       "      <td>0.0</td>\n",
       "      <td>0.0</td>\n",
       "      <td>1.000000</td>\n",
       "      <td>0.423267</td>\n",
       "      <td>1.0</td>\n",
       "      <td>1.0</td>\n",
       "      <td>1.0</td>\n",
       "      <td>1.000000</td>\n",
       "    </tr>\n",
       "  </tbody>\n",
       "</table>\n",
       "</div>"
      ],
      "text/plain": [
       "  0        1    2    3         4         5    6    7    8    9    10  \\\n",
       "0  R  0.00000  1.0  0.0  1.000000  1.000000  1.0  0.0  0.0  0.0  1.0   \n",
       "1  R  0.00000  1.0  0.0  1.000000  1.000000  1.0  0.0  0.0  0.0  0.0   \n",
       "2  D  0.44208  1.0  1.0  0.417453  1.000000  1.0  0.0  0.0  0.0  0.0   \n",
       "3  D  0.00000  1.0  1.0  0.000000  0.504762  1.0  0.0  0.0  0.0  0.0   \n",
       "4  D  1.00000  1.0  1.0  0.000000  1.000000  1.0  0.0  0.0  0.0  0.0   \n",
       "\n",
       "         11        12   13   14   15        16  \n",
       "0  0.362319  1.000000  1.0  1.0  0.0  1.000000  \n",
       "1  0.000000  1.000000  1.0  1.0  0.0  0.812689  \n",
       "2  1.000000  0.000000  1.0  1.0  0.0  0.000000  \n",
       "3  1.000000  0.000000  1.0  0.0  0.0  1.000000  \n",
       "4  1.000000  0.423267  1.0  1.0  1.0  1.000000  "
      ]
     },
     "execution_count": 4,
     "metadata": {},
     "output_type": "execute_result"
    }
   ],
   "source": [
    "data=pd.read_csv('/Users/Adam/Downloads/house-votes-84.data',header=None)\n",
    "def yn(s): #yes i know this is sloppy\n",
    "    if s=='y': return 1\n",
    "    if s=='n': return 0\n",
    "    if s=='republican': return 'R'\n",
    "    if s=='democrat': return 'D'\n",
    "data=data.applymap(yn)\n",
    "\n",
    "for s in range(1,len(data.columns.tolist())):\n",
    "    m=data[s].sum()/data[s].count()\n",
    "    data[s].fillna(value=m,inplace=True)\n",
    "\n",
    "data.head()"
   ]
  },
  {
   "cell_type": "code",
   "execution_count": 5,
   "metadata": {},
   "outputs": [
    {
     "name": "stderr",
     "output_type": "stream",
     "text": [
      "/Users/Adam/anaconda2/lib/python2.7/site-packages/sklearn/cross_validation.py:41: DeprecationWarning: This module was deprecated in version 0.18 in favor of the model_selection module into which all the refactored classes and functions are moved. Also note that the interface of the new CV iterators are different from that of this module. This module will be removed in 0.20.\n",
      "  \"This module will be removed in 0.20.\", DeprecationWarning)\n"
     ]
    }
   ],
   "source": [
    "from sklearn.cross_validation import train_test_split\n",
    "from sklearn.metrics import accuracy_score\n",
    "from sklearn.cross_validation import cross_val_score\n",
    "from sklearn.metrics import f1_score\n",
    "from sklearn.metrics import precision_score\n",
    "from sklearn.metrics import recall_score\n",
    "from sklearn.metrics import roc_auc_score\n",
    "from sklearn.metrics import roc_curve\n",
    "from sklearn.metrics import make_scorer\n",
    "accuracy_scorer=make_scorer(accuracy_score)\n",
    "precision_scorer=make_scorer(precision_score)\n",
    "recall_scorer=make_scorer(recall_score)\n",
    "f1_scorer=make_scorer(f1_score)\n",
    "\n",
    "from sklearn.neighbors import KNeighborsClassifier\n",
    "from sklearn.linear_model import LogisticRegression\n",
    "from sklearn.naive_bayes import GaussianNB\n",
    "from sklearn.svm import SVC\n",
    "from sklearn.tree import DecisionTreeClassifier\n",
    "from sklearn.ensemble import RandomForestClassifier\n"
   ]
  },
  {
   "cell_type": "code",
   "execution_count": 6,
   "metadata": {},
   "outputs": [],
   "source": [
    "xtrain,xtest,ytrain,ytest = train_test_split(data.iloc[:,1:],data.iloc[:,0],test_size=testsize)\n",
    "X=data.iloc[:,1:]\n",
    "Y=data.iloc[:,0]"
   ]
  },
  {
   "cell_type": "markdown",
   "metadata": {},
   "source": [
    "**Challenge 1 and 2**"
   ]
  },
  {
   "cell_type": "code",
   "execution_count": 7,
   "metadata": {},
   "outputs": [
    {
     "data": {
      "text/plain": [
       "[('Accuracy', 0.95419847328244278),\n",
       " ('Precision', 1.0),\n",
       " ('Recall', 0.9178082191780822),\n",
       " ('F1', 0.95714285714285707)]"
      ]
     },
     "execution_count": 7,
     "metadata": {},
     "output_type": "execute_result"
    }
   ],
   "source": [
    "model=KNeighborsClassifier()\n",
    "model.fit(xtrain,ytrain)\n",
    "ypred=model.predict(xtest)\n",
    "\n",
    "zip(['Accuracy','Precision','Recall','F1'],[accuracy_score(ytest,ypred),\n",
    "     precision_score(ytest,ypred,pos_label='D'),\n",
    "     recall_score(ytest,ypred,pos_label='D'),\n",
    "     f1_score(ytest,ypred,pos_label='D')])"
   ]
  },
  {
   "cell_type": "code",
   "execution_count": 8,
   "metadata": {},
   "outputs": [
    {
     "data": {
      "text/plain": [
       "[('Accuracy CV', 0.93333333333333324),\n",
       " ('Precision CV', 0.96137186764574845),\n",
       " ('Recall CV', 0.92883895131086136),\n",
       " ('F1 CV', 0.94480419963178575)]"
      ]
     },
     "execution_count": 8,
     "metadata": {},
     "output_type": "execute_result"
    }
   ],
   "source": [
    "zip(['Accuracy CV','Precision CV','Recall CV','F1 CV'],\n",
    "    [avnp(cross_val_score(model,X,y=rd2bin(Y),scoring=accuracy_scorer)),\n",
    "     avnp(cross_val_score(model,X,y=rd2bin(Y),scoring=precision_scorer)),\n",
    "     avnp(cross_val_score(model,X,y=rd2bin(Y),scoring=recall_scorer)),\n",
    "     avnp(cross_val_score(model,X,y=rd2bin(Y),scoring=f1_scorer))])\n"
   ]
  },
  {
   "cell_type": "code",
   "execution_count": 9,
   "metadata": {},
   "outputs": [
    {
     "data": {
      "image/png": "[encoded data removed]",
      "text/plain": [
       "<matplotlib.figure.Figure at 0x1a1208b610>"
      ]
     },
     "metadata": {},
     "output_type": "display_data"
    }
   ],
   "source": [
    "fpr,tpr,thresh = roc_curve(rd2bin(ytest.as_matrix()),rd2bin(ypred))\n",
    "auc = roc_auc_score(rd2bin(ytest.as_matrix()),rd2bin(ypred))\n",
    "\n",
    "plt.plot(fpr,tpr)\n",
    "plt.title('ROC Curve with AUC='+str(auc));"
   ]
  },
  {
   "cell_type": "code",
   "execution_count": 10,
   "metadata": {},
   "outputs": [
    {
     "data": {
      "text/plain": [
       "[('Accuracy', 0.96183206106870234),\n",
       " ('Precision', 0.97222222222222221),\n",
       " ('Recall', 0.95890410958904104),\n",
       " ('F1', 0.96551724137931039)]"
      ]
     },
     "execution_count": 10,
     "metadata": {},
     "output_type": "execute_result"
    }
   ],
   "source": [
    "model= LogisticRegression()\n",
    "model.fit(xtrain,ytrain)\n",
    "ypred=model.predict(xtest)\n",
    "\n",
    "zip(['Accuracy','Precision','Recall','F1'],[accuracy_score(ytest,ypred),\n",
    "     precision_score(ytest,ypred,pos_label='D'),\n",
    "     recall_score(ytest,ypred,pos_label='D'),\n",
    "     f1_score(ytest,ypred,pos_label='D')])"
   ]
  },
  {
   "cell_type": "code",
   "execution_count": 11,
   "metadata": {},
   "outputs": [
    {
     "data": {
      "text/plain": [
       "[('Accuracy CV', 0.96091954022988502),\n",
       " ('Precision CV', 0.9701633310328962),\n",
       " ('Recall CV', 0.9662921348314607),\n",
       " ('F1 CV', 0.96786426422804617)]"
      ]
     },
     "execution_count": 11,
     "metadata": {},
     "output_type": "execute_result"
    }
   ],
   "source": [
    "zip(['Accuracy CV','Precision CV','Recall CV','F1 CV'],\n",
    "    [avnp(cross_val_score(model,X,y=rd2bin(Y),scoring=accuracy_scorer)),\n",
    "     avnp(cross_val_score(model,X,y=rd2bin(Y),scoring=precision_scorer)),\n",
    "     avnp(cross_val_score(model,X,y=rd2bin(Y),scoring=recall_scorer)),\n",
    "     avnp(cross_val_score(model,X,y=rd2bin(Y),scoring=f1_scorer))])"
   ]
  },
  {
   "cell_type": "code",
   "execution_count": 12,
   "metadata": {},
   "outputs": [
    {
     "data": {
      "image/png": "[encoded data removed]",
      "text/plain": [
       "<matplotlib.figure.Figure at 0x10fdc9ed0>"
      ]
     },
     "metadata": {},
     "output_type": "display_data"
    }
   ],
   "source": [
    "fpr,tpr,thresh = roc_curve(rd2bin(ytest.as_matrix()),rd2bin(ypred))\n",
    "auc = roc_auc_score(rd2bin(ytest.as_matrix()),rd2bin(ypred))\n",
    "\n",
    "plt.plot(fpr,tpr)\n",
    "plt.title('ROC Curve with AUC='+str(auc));"
   ]
  },
  {
   "cell_type": "code",
   "execution_count": 13,
   "metadata": {},
   "outputs": [
    {
     "data": {
      "text/plain": [
       "[('Accuracy', 0.96946564885496178),\n",
       " ('Precision', 0.9859154929577465),\n",
       " ('Recall', 0.95890410958904104),\n",
       " ('F1', 0.97222222222222221)]"
      ]
     },
     "execution_count": 13,
     "metadata": {},
     "output_type": "execute_result"
    }
   ],
   "source": [
    "model= GaussianNB()\n",
    "model.fit(xtrain,ytrain)\n",
    "ypred=model.predict(xtest)\n",
    "\n",
    "zip(['Accuracy','Precision','Recall','F1'],[accuracy_score(ytest,ypred),\n",
    "     precision_score(ytest,ypred,pos_label='D'),\n",
    "     recall_score(ytest,ypred,pos_label='D'),\n",
    "     f1_score(ytest,ypred,pos_label='D')])"
   ]
  },
  {
   "cell_type": "code",
   "execution_count": 14,
   "metadata": {},
   "outputs": [
    {
     "data": {
      "text/plain": [
       "[('Accuracy CV', 0.93103448275862066),\n",
       " ('Precision CV', 0.94821937653903809),\n",
       " ('Recall CV', 0.94007490636704116),\n",
       " ('F1 CV', 0.94352508197439278)]"
      ]
     },
     "execution_count": 14,
     "metadata": {},
     "output_type": "execute_result"
    }
   ],
   "source": [
    "zip(['Accuracy CV','Precision CV','Recall CV','F1 CV'],\n",
    "    [avnp(cross_val_score(model,X,y=rd2bin(Y),scoring=accuracy_scorer)),\n",
    "     avnp(cross_val_score(model,X,y=rd2bin(Y),scoring=precision_scorer)),\n",
    "     avnp(cross_val_score(model,X,y=rd2bin(Y),scoring=recall_scorer)),\n",
    "     avnp(cross_val_score(model,X,y=rd2bin(Y),scoring=f1_scorer))])"
   ]
  },
  {
   "cell_type": "code",
   "execution_count": 15,
   "metadata": {},
   "outputs": [
    {
     "data": {
      "image/png": "[encoded data removed]",
      "text/plain": [
       "<matplotlib.figure.Figure at 0x1a1a6ba510>"
      ]
     },
     "metadata": {},
     "output_type": "display_data"
    }
   ],
   "source": [
    "fpr,tpr,thresh = roc_curve(rd2bin(ytest.as_matrix()),rd2bin(ypred))\n",
    "auc = roc_auc_score(rd2bin(ytest.as_matrix()),rd2bin(ypred))\n",
    "\n",
    "plt.plot(fpr,tpr)\n",
    "plt.title('ROC Curve with AUC='+str(auc));"
   ]
  },
  {
   "cell_type": "code",
   "execution_count": 16,
   "metadata": {},
   "outputs": [
    {
     "data": {
      "text/plain": [
       "[('Accuracy', 0.98473282442748089),\n",
       " ('Precision', 0.98630136986301364),\n",
       " ('Recall', 0.98630136986301364),\n",
       " ('F1', 0.98630136986301364)]"
      ]
     },
     "execution_count": 16,
     "metadata": {},
     "output_type": "execute_result"
    }
   ],
   "source": [
    "model= SVC()\n",
    "model.fit(xtrain,ytrain)\n",
    "ypred=model.predict(xtest)\n",
    "\n",
    "zip(['Accuracy','Precision','Recall','F1'],[accuracy_score(ytest,ypred),\n",
    "     precision_score(ytest,ypred,pos_label='D'),\n",
    "     recall_score(ytest,ypred,pos_label='D'),\n",
    "     f1_score(ytest,ypred,pos_label='D')])"
   ]
  },
  {
   "cell_type": "code",
   "execution_count": 17,
   "metadata": {},
   "outputs": [
    {
     "data": {
      "text/plain": [
       "[('Accuracy CV', 0.95402298850574718),\n",
       " ('Precision CV', 0.97712324671765616),\n",
       " ('Recall CV', 0.94756554307116103),\n",
       " ('F1 CV', 0.96180398943782353)]"
      ]
     },
     "execution_count": 17,
     "metadata": {},
     "output_type": "execute_result"
    }
   ],
   "source": [
    "zip(['Accuracy CV','Precision CV','Recall CV','F1 CV'],\n",
    "    [avnp(cross_val_score(model,X,y=rd2bin(Y),scoring=accuracy_scorer)),\n",
    "     avnp(cross_val_score(model,X,y=rd2bin(Y),scoring=precision_scorer)),\n",
    "     avnp(cross_val_score(model,X,y=rd2bin(Y),scoring=recall_scorer)),\n",
    "     avnp(cross_val_score(model,X,y=rd2bin(Y),scoring=f1_scorer))])"
   ]
  },
  {
   "cell_type": "code",
   "execution_count": 18,
   "metadata": {},
   "outputs": [
    {
     "data": {
      "image/png": "[encoded data removed]",
      "text/plain": [
       "<matplotlib.figure.Figure at 0x1a12051790>"
      ]
     },
     "metadata": {},
     "output_type": "display_data"
    }
   ],
   "source": [
    "fpr,tpr,thresh = roc_curve(rd2bin(ytest.as_matrix()),rd2bin(ypred))\n",
    "auc = roc_auc_score(rd2bin(ytest.as_matrix()),rd2bin(ypred))\n",
    "\n",
    "plt.plot(fpr,tpr)\n",
    "plt.title('ROC Curve with AUC='+str(auc));"
   ]
  },
  {
   "cell_type": "code",
   "execution_count": 19,
   "metadata": {},
   "outputs": [
    {
     "data": {
      "text/plain": [
       "[('Accuracy', 0.93893129770992367),\n",
       " ('Precision', 0.92207792207792205),\n",
       " ('Recall', 0.9726027397260274),\n",
       " ('F1', 0.94666666666666666)]"
      ]
     },
     "execution_count": 19,
     "metadata": {},
     "output_type": "execute_result"
    }
   ],
   "source": [
    "model= DecisionTreeClassifier()\n",
    "model.fit(xtrain,ytrain)\n",
    "ypred=model.predict(xtest)\n",
    "\n",
    "zip(['Accuracy','Precision','Recall','F1'],[accuracy_score(ytest,ypred),\n",
    "     precision_score(ytest,ypred,pos_label='D'),\n",
    "     recall_score(ytest,ypred,pos_label='D'),\n",
    "     f1_score(ytest,ypred,pos_label='D')])"
   ]
  },
  {
   "cell_type": "code",
   "execution_count": 20,
   "metadata": {},
   "outputs": [
    {
     "data": {
      "text/plain": [
       "[('Accuracy CV', 0.94942528735632192),\n",
       " ('Precision CV', 0.97328954570333881),\n",
       " ('Recall CV', 0.95505617977528079),\n",
       " ('F1 CV', 0.95661379625046639)]"
      ]
     },
     "execution_count": 20,
     "metadata": {},
     "output_type": "execute_result"
    }
   ],
   "source": [
    "zip(['Accuracy CV','Precision CV','Recall CV','F1 CV'],\n",
    "    [avnp(cross_val_score(model,X,y=rd2bin(Y),scoring=accuracy_scorer)),\n",
    "     avnp(cross_val_score(model,X,y=rd2bin(Y),scoring=precision_scorer)),\n",
    "     avnp(cross_val_score(model,X,y=rd2bin(Y),scoring=recall_scorer)),\n",
    "     avnp(cross_val_score(model,X,y=rd2bin(Y),scoring=f1_scorer))])"
   ]
  },
  {
   "cell_type": "code",
   "execution_count": 21,
   "metadata": {},
   "outputs": [
    {
     "data": {
      "image/png": "[encoded data removed]",
      "text/plain": [
       "<matplotlib.figure.Figure at 0x10956a650>"
      ]
     },
     "metadata": {},
     "output_type": "display_data"
    }
   ],
   "source": [
    "fpr,tpr,thresh = roc_curve(rd2bin(ytest.as_matrix()),rd2bin(ypred))\n",
    "auc = roc_auc_score(rd2bin(ytest.as_matrix()),rd2bin(ypred))\n",
    "\n",
    "plt.plot(fpr,tpr)\n",
    "plt.title('ROC Curve with AUC='+str(auc));"
   ]
  },
  {
   "cell_type": "code",
   "execution_count": 22,
   "metadata": {},
   "outputs": [
    {
     "data": {
      "text/plain": [
       "[('Accuracy', 0.97709923664122134),\n",
       " ('Precision', 0.97297297297297303),\n",
       " ('Recall', 0.98630136986301364),\n",
       " ('F1', 0.97959183673469397)]"
      ]
     },
     "execution_count": 22,
     "metadata": {},
     "output_type": "execute_result"
    }
   ],
   "source": [
    "model= RandomForestClassifier()\n",
    "model.fit(xtrain,ytrain)\n",
    "ypred=model.predict(xtest)\n",
    "\n",
    "zip(['Accuracy','Precision','Recall','F1'],[accuracy_score(ytest,ypred),\n",
    "     precision_score(ytest,ypred,pos_label='D'),\n",
    "     recall_score(ytest,ypred,pos_label='D'),\n",
    "     f1_score(ytest,ypred,pos_label='D')])\n"
   ]
  },
  {
   "cell_type": "code",
   "execution_count": 23,
   "metadata": {},
   "outputs": [
    {
     "data": {
      "text/plain": [
       "[('Accuracy CV', 0.95862068965517233),\n",
       " ('Precision CV', 0.97372007837124119),\n",
       " ('Recall CV', 0.9438202247191011),\n",
       " ('F1 CV', 0.9714702548571631)]"
      ]
     },
     "execution_count": 23,
     "metadata": {},
     "output_type": "execute_result"
    }
   ],
   "source": [
    "zip(['Accuracy CV','Precision CV','Recall CV','F1 CV'],\n",
    "    [avnp(cross_val_score(model,X,y=rd2bin(Y),scoring=accuracy_scorer)),\n",
    "     avnp(cross_val_score(model,X,y=rd2bin(Y),scoring=precision_scorer)),\n",
    "     avnp(cross_val_score(model,X,y=rd2bin(Y),scoring=recall_scorer)),\n",
    "     avnp(cross_val_score(model,X,y=rd2bin(Y),scoring=f1_scorer))])\n",
    "\n"
   ]
  },
  {
   "cell_type": "code",
   "execution_count": 24,
   "metadata": {},
   "outputs": [
    {
     "data": {
      "image/png": "[encoded data removed]",
      "text/plain": [
       "<matplotlib.figure.Figure at 0x10dc43290>"
      ]
     },
     "metadata": {},
     "output_type": "display_data"
    }
   ],
   "source": [
    "fpr,tpr,thresh = roc_curve(rd2bin(ytest.as_matrix()),rd2bin(ypred))\n",
    "auc = roc_auc_score(rd2bin(ytest.as_matrix()),rd2bin(ypred))\n",
    "\n",
    "plt.plot(fpr,tpr)\n",
    "plt.title('ROC Curve with AUC='+str(auc));"
   ]
  },
  {
   "cell_type": "markdown",
   "metadata": {},
   "source": [
    "**Challenge 4**"
   ]
  },
  {
   "cell_type": "code",
   "execution_count": 25,
   "metadata": {
    "collapsed": true
   },
   "outputs": [],
   "source": [
    "mdata = pd.read_csv('data/2013_movies.csv').dropna()\n",
    "mdata['ReleaseMonth']=mdata['ReleaseDate'].str.slice(5,7).astype(int)\n",
    "X=mdata.drop(['Rating','Title','ReleaseDate','Director'],axis=1)\n",
    "Y=mdata.Rating\n",
    "xtrain,xtest,ytrain,ytest = train_test_split(X,Y,test_size=testsize)\n"
   ]
  },
  {
   "cell_type": "code",
   "execution_count": 26,
   "metadata": {},
   "outputs": [
    {
     "name": "stderr",
     "output_type": "stream",
     "text": [
      "/Users/Adam/anaconda2/lib/python2.7/site-packages/sklearn/metrics/classification.py:1135: UndefinedMetricWarning: Precision is ill-defined and being set to 0.0 due to no predicted samples.\n",
      "  'precision', 'predicted', average, warn_for)\n",
      "/Users/Adam/anaconda2/lib/python2.7/site-packages/sklearn/metrics/classification.py:1137: UndefinedMetricWarning: Recall is ill-defined and being set to 0.0 due to no true samples.\n",
      "  'recall', 'true', average, warn_for)\n"
     ]
    },
    {
     "data": {
      "text/plain": [
       "[('Precision G', 0.0),\n",
       " ('Recall G', 0.0),\n",
       " ('Precision PG', 0.5),\n",
       " ('Recall PG', 0.45833333333333331),\n",
       " ('Precision PG-13', 0.52777777777777779),\n",
       " ('Recall PG-13', 0.51767676767676762),\n",
       " ('Precision R', 0.58333333333333337),\n",
       " ('Recall R', 0.63636363636363635)]"
      ]
     },
     "execution_count": 26,
     "metadata": {},
     "output_type": "execute_result"
    }
   ],
   "source": [
    "model=KNeighborsClassifier()\n",
    "model.fit(xtrain,ytrain)\n",
    "ypred=model.predict(xtest)\n",
    "\n",
    "zip(['Precision G','Recall G','Precision PG','Recall PG','Precision PG-13','Recall PG-13','Precision R','Recall R'],\n",
    "        [precision_score(ytest,ypred,labels='G',average='macro'),\n",
    "                recall_score(ytest,ypred,labels='G',average='macro'),\n",
    "                 precision_score(ytest,ypred,labels='PG',average='macro'),\n",
    "                recall_score(ytest,ypred,labels='PG',average='macro'),\n",
    "                 precision_score(ytest,ypred,labels='PG-13',average='macro'),\n",
    "                recall_score(ytest,ypred,labels='PG-13',average='macro'),\n",
    "                 precision_score(ytest,ypred,labels='R',average='macro'),\n",
    "                recall_score(ytest,ypred,labels='R',average='macro')])\n",
    "\n",
    "## Don't know why P=R?"
   ]
  },
  {
   "cell_type": "markdown",
   "metadata": {},
   "source": [
    "**Challenge 5**"
   ]
  },
  {
   "cell_type": "code",
   "execution_count": 27,
   "metadata": {
    "collapsed": true
   },
   "outputs": [],
   "source": [
    "hdata=pd.read_csv('/Users/Adam/Downloads/haberman.data',header=None)\n",
    "hdata.columns=['age','year','nodes','survival']\n",
    "X=hdata[['age','year','nodes']]\n",
    "Y=hdata.survival\n",
    "xtrain,xtest,ytrain,ytest = train_test_split(X,Y,test_size=testsize)\n",
    "ytrain -= 1\n",
    "ytest -= 1\n",
    "\n",
    "model=LogisticRegression()\n",
    "\n",
    "model.fit(xtrain,ytrain)\n",
    "ypred=model.predict(xtest)"
   ]
  },
  {
   "cell_type": "code",
   "execution_count": 28,
   "metadata": {},
   "outputs": [
    {
     "data": {
      "image/png": "[encoded data removed]",
      "text/plain": [
       "<matplotlib.figure.Figure at 0x10c29ce50>"
      ]
     },
     "metadata": {},
     "output_type": "display_data"
    }
   ],
   "source": [
    "fpr,tpr,thresh = roc_curve(rd2bin(ytest.as_matrix()),rd2bin(ypred))\n",
    "auc = roc_auc_score(rd2bin(ytest.as_matrix()),rd2bin(ypred))\n",
    "\n",
    "plt.scatter(fpr,tpr)\n",
    "plt.title('ROC Curve with AUC='+str(auc));"
   ]
  },
  {
   "cell_type": "code",
   "execution_count": null,
   "metadata": {
    "collapsed": true
   },
   "outputs": [],
   "source": []
  }
 ],
 "metadata": {
  "kernelspec": {
   "display_name": "Python 2",
   "language": "python",
   "name": "python2"
  },
  "language_info": {
   "codemirror_mode": {
    "name": "ipython",
    "version": 2
   },
   "file_extension": ".py",
   "mimetype": "text/x-python",
   "name": "python",
   "nbconvert_exporter": "python",
   "pygments_lexer": "ipython2",
   "version": "2.7.14"
  }
 },
 "nbformat": 4,
 "nbformat_minor": 2
}
