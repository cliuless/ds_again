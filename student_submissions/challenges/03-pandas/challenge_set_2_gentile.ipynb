{
 "cells": [
  {
   "cell_type": "markdown",
   "metadata": {},
   "source": [
    "# Topic:        Challenge Set 2\n",
    "## Subject:      Explore downloaded movies from Mojo\n",
    "### Date:         01/20/2018\n",
    "### Name:         Mauro Mario Gentile\n"
   ]
  },
  {
   "cell_type": "code",
   "execution_count": 542,
   "metadata": {
    "collapsed": true
   },
   "outputs": [],
   "source": [
    "import pandas as pd\n",
    "import matplotlib.pyplot as plt\n",
    "from datetime import datetime\n",
    "import string\n",
    "import re\n",
    "import numpy as np\n",
    "%matplotlib inline"
   ]
  },
  {
   "cell_type": "code",
   "execution_count": null,
   "metadata": {
    "collapsed": true
   },
   "outputs": [],
   "source": [
    "# refer to spider.py for the script I used to scrape Mojo on Jan 19th"
   ]
  },
  {
   "cell_type": "markdown",
   "metadata": {},
   "source": [
    "## Challenge 0: load and clean the dataset"
   ]
  },
  {
   "cell_type": "code",
   "execution_count": 543,
   "metadata": {
    "collapsed": true
   },
   "outputs": [],
   "source": [
    "\n",
    "df = pd.read_json(\"mojo.json\")\n"
   ]
  },
  {
   "cell_type": "code",
   "execution_count": 544,
   "metadata": {},
   "outputs": [
    {
     "name": "stdout",
     "output_type": "stream",
     "text": [
      "<class 'pandas.core.frame.DataFrame'>\n",
      "Int64Index: 9986 entries, 0 to 9985\n",
      "Data columns (total 21 columns):\n",
      "Actor                  4913 non-null object\n",
      "Composer               2599 non-null object\n",
      "Director               3509 non-null object\n",
      "Narrator               1 non-null object\n",
      "Producer               2946 non-null object\n",
      "Writer                 2387 non-null object\n",
      "budget                 9986 non-null object\n",
      "distributor            9986 non-null object\n",
      "domestic_gross         9986 non-null object\n",
      "genres                 9986 non-null object\n",
      "international_gross    9986 non-null object\n",
      "international_movie    9986 non-null int64\n",
      "main_genre             9986 non-null object\n",
      "mpaa                   9986 non-null object\n",
      "name                   9986 non-null object\n",
      "oscar_nominations      9986 non-null object\n",
      "oscar_wins             9986 non-null object\n",
      "release_date           9986 non-null object\n",
      "run_time               9986 non-null object\n",
      "url                    9986 non-null object\n",
      "worldwide_gross        9986 non-null object\n",
      "dtypes: int64(1), object(20)\n",
      "memory usage: 1.7+ MB\n"
     ]
    }
   ],
   "source": [
    "df.info()"
   ]
  },
  {
   "cell_type": "markdown",
   "metadata": {},
   "source": [
    "### Challenge 0.1: clean the release_date field"
   ]
  },
  {
   "cell_type": "code",
   "execution_count": 545,
   "metadata": {},
   "outputs": [
    {
     "data": {
      "text/plain": [
       "17"
      ]
     },
     "execution_count": 545,
     "metadata": {},
     "output_type": "execute_result"
    }
   ],
   "source": [
    "# movies with no release date. \n",
    "# N/A (as string) from the site\n",
    "df[df['release_date']==\"N/A\"].shape[0]"
   ]
  },
  {
   "cell_type": "code",
   "execution_count": 546,
   "metadata": {
    "collapsed": true
   },
   "outputs": [],
   "source": [
    "#we can drop them since are just a few\n",
    "df= df[~(df['release_date']==\"N/A\")]"
   ]
  },
  {
   "cell_type": "code",
   "execution_count": 547,
   "metadata": {
    "collapsed": true
   },
   "outputs": [],
   "source": [
    "# release time format is not consistent throughout the DB\n",
    "# A few examples as evidence:"
   ]
  },
  {
   "cell_type": "code",
   "execution_count": 548,
   "metadata": {},
   "outputs": [
    {
     "data": {
      "text/plain": [
       "2838             1984\n",
       "9417             1991\n",
       "5419             2009\n",
       "4435    April 1, 1983\n",
       "8561    April 1, 1983\n",
       "Name: release_date, dtype: object"
      ]
     },
     "execution_count": 548,
     "metadata": {},
     "output_type": "execute_result"
    }
   ],
   "source": [
    "df[\"release_date\"].sort_values()[:5]"
   ]
  },
  {
   "cell_type": "code",
   "execution_count": 549,
   "metadata": {},
   "outputs": [
    {
     "data": {
      "text/plain": [
       "2615    Fall 2007\n",
       "2722    July 1994\n",
       "2838         1984\n",
       "4750    June 1981\n",
       "5419         2009\n",
       "9417         1991\n",
       "Name: release_date, dtype: object"
      ]
     },
     "execution_count": 549,
     "metadata": {},
     "output_type": "execute_result"
    }
   ],
   "source": [
    "df[df[df['release_date'].apply(lambda x: True if type(x) is str else False)][\"release_date\"].apply(lambda x: True if len(x)<10 else False)][\"release_date\"]"
   ]
  },
  {
   "cell_type": "code",
   "execution_count": 550,
   "metadata": {
    "collapsed": true
   },
   "outputs": [],
   "source": [
    "# let's try to extract the year as the last group in the x.split(\" \") operation\n",
    "# and the month as the first one"
   ]
  },
  {
   "cell_type": "code",
   "execution_count": 551,
   "metadata": {
    "collapsed": true
   },
   "outputs": [],
   "source": [
    "df[\"release_year\"]=df[\"release_date\"].apply(lambda x: x.split(\" \")[-1].lower())"
   ]
  },
  {
   "cell_type": "code",
   "execution_count": 552,
   "metadata": {},
   "outputs": [
    {
     "data": {
      "text/plain": [
       "2014    551\n",
       "2013    513\n",
       "2012    506\n",
       "2016    501\n",
       "2011    453\n",
       "2017    428\n",
       "2006    426\n",
       "2007    422\n",
       "2004    413\n",
       "2008    411\n",
       "2005    405\n",
       "2009    354\n",
       "2015    353\n",
       "2003    319\n",
       "2010    277\n",
       "2002    277\n",
       "1998    220\n",
       "2000    220\n",
       "2001    217\n",
       "1999    205\n",
       "1996    203\n",
       "1995    197\n",
       "1997    194\n",
       "1994    178\n",
       "1993    166\n",
       "1990    148\n",
       "1992    146\n",
       "1991    146\n",
       "1988    128\n",
       "1987    125\n",
       "1989    121\n",
       "1985    119\n",
       "1986    119\n",
       "1983     98\n",
       "1984     97\n",
       "1982     72\n",
       "1981     63\n",
       "1980     56\n",
       "1979     39\n",
       "1978     24\n",
       "1977     15\n",
       "2018     12\n",
       "1976      9\n",
       "1975      7\n",
       "1973      4\n",
       "1974      3\n",
       "1968      2\n",
       "1972      1\n",
       "1964      1\n",
       "1921      1\n",
       "1960      1\n",
       "1967      1\n",
       "1962      1\n",
       "1941      1\n",
       "Name: release_year, dtype: int64"
      ]
     },
     "execution_count": 552,
     "metadata": {},
     "output_type": "execute_result"
    }
   ],
   "source": [
    "#check\n",
    "df[\"release_year\"].value_counts()"
   ]
  },
  {
   "cell_type": "code",
   "execution_count": 553,
   "metadata": {
    "collapsed": true
   },
   "outputs": [],
   "source": [
    "#it seems correct"
   ]
  },
  {
   "cell_type": "code",
   "execution_count": null,
   "metadata": {
    "collapsed": true
   },
   "outputs": [],
   "source": []
  },
  {
   "cell_type": "code",
   "execution_count": 554,
   "metadata": {
    "collapsed": true
   },
   "outputs": [],
   "source": [
    "#let's extract the month \n",
    "df[\"release_month\"]=df[\"release_date\"].apply(lambda x: x.split(\" \")[0].lower())"
   ]
  },
  {
   "cell_type": "code",
   "execution_count": 555,
   "metadata": {},
   "outputs": [
    {
     "data": {
      "text/plain": [
       "august       968\n",
       "october      962\n",
       "september    914\n",
       "march        899\n",
       "april        876\n",
       "july         837\n",
       "june         832\n",
       "november     815\n",
       "may          790\n",
       "december     749\n",
       "february     713\n",
       "january      610\n",
       "2009           1\n",
       "1984           1\n",
       "fall           1\n",
       "1991           1\n",
       "Name: release_month, dtype: int64"
      ]
     },
     "execution_count": 555,
     "metadata": {},
     "output_type": "execute_result"
    }
   ],
   "source": [
    "df[\"release_month\"].value_counts()"
   ]
  },
  {
   "cell_type": "code",
   "execution_count": 556,
   "metadata": {
    "collapsed": true
   },
   "outputs": [],
   "source": [
    "#let's remove the bottme 4 lines which are the cinconsistent with the rest"
   ]
  },
  {
   "cell_type": "code",
   "execution_count": 557,
   "metadata": {
    "collapsed": true
   },
   "outputs": [],
   "source": [
    "errors=[\"n/a\",\"fall\",\"2009\",\"1991\",\"1984\"]\n",
    "df=df[~df[\"release_month\"].isin(errors)]"
   ]
  },
  {
   "cell_type": "code",
   "execution_count": 558,
   "metadata": {},
   "outputs": [
    {
     "data": {
      "text/plain": [
       "0   1988-06-01\n",
       "1   2013-07-01\n",
       "2   1996-12-01\n",
       "3   2017-09-01\n",
       "4   1997-04-01\n",
       "Name: date_as_DT, dtype: datetime64[ns]"
      ]
     },
     "execution_count": 558,
     "metadata": {},
     "output_type": "execute_result"
    }
   ],
   "source": [
    "# now I can build the time series\n",
    "df[\"date_as_DT\"]=df.apply(lambda row: datetime.strptime(row[\"release_month\"] + \" \"+row[\"release_year\"], '%B %Y'),axis=1)\n",
    "df[\"date_as_DT\"][0:5]"
   ]
  },
  {
   "cell_type": "code",
   "execution_count": null,
   "metadata": {
    "collapsed": true
   },
   "outputs": [],
   "source": []
  },
  {
   "cell_type": "markdown",
   "metadata": {},
   "source": [
    "### Challenge 0.2: clean the domestic gross column"
   ]
  },
  {
   "cell_type": "code",
   "execution_count": 559,
   "metadata": {},
   "outputs": [
    {
     "data": {
      "text/plain": [
       "(0, 24)"
      ]
     },
     "execution_count": 559,
     "metadata": {},
     "output_type": "execute_result"
    }
   ],
   "source": [
    "df[df[\"domestic_gross\"].isnull()].shape"
   ]
  },
  {
   "cell_type": "code",
   "execution_count": 560,
   "metadata": {},
   "outputs": [
    {
     "data": {
      "text/plain": [
       "(23, 24)"
      ]
     },
     "execution_count": 560,
     "metadata": {},
     "output_type": "execute_result"
    }
   ],
   "source": [
    "#apparently no null values. Actually there are 23:\n",
    "df[df[\"domestic_gross\"]==\"n/a\"].shape"
   ]
  },
  {
   "cell_type": "code",
   "execution_count": 561,
   "metadata": {},
   "outputs": [
    {
     "data": {
      "text/plain": [
       "n/a            23\n",
       "$1,500,000      3\n",
       "$4,630          3\n",
       "$2,377          3\n",
       "$60,655,420     3\n",
       "Name: domestic_gross, dtype: int64"
      ]
     },
     "execution_count": 561,
     "metadata": {},
     "output_type": "execute_result"
    }
   ],
   "source": [
    "df[\"domestic_gross\"].value_counts()[:5]"
   ]
  },
  {
   "cell_type": "code",
   "execution_count": 562,
   "metadata": {},
   "outputs": [
    {
     "data": {
      "text/plain": [
       "0    156452370\n",
       "1    137400141\n",
       "2    103046663\n",
       "3    327481748\n",
       "4     65885767\n",
       "Name: domestic_gross_clnd, dtype: int64"
      ]
     },
     "execution_count": 562,
     "metadata": {},
     "output_type": "execute_result"
    }
   ],
   "source": [
    "# drop the n/a and transfrom the string to numers eliminating punctaction and symbols\n",
    "df=df[df[\"domestic_gross\"]!=\"n/a\"]\n",
    "df[\"domestic_gross_clnd\"]=df[\"domestic_gross\"].apply(lambda x: int(re.sub('['+string.punctuation+']', '', x).strip()))\n",
    "df[\"domestic_gross_clnd\"][0:5]"
   ]
  },
  {
   "cell_type": "markdown",
   "metadata": {},
   "source": [
    "### Challenge 0.3: clean the run_time columns"
   ]
  },
  {
   "cell_type": "code",
   "execution_count": 563,
   "metadata": {},
   "outputs": [
    {
     "data": {
      "text/plain": [
       "(185, 25)"
      ]
     },
     "execution_count": 563,
     "metadata": {},
     "output_type": "execute_result"
    }
   ],
   "source": [
    "df[df['run_time']==\"N/A\"].shape"
   ]
  },
  {
   "cell_type": "code",
   "execution_count": 564,
   "metadata": {
    "collapsed": true
   },
   "outputs": [],
   "source": [
    "#185 values to drop. Still a negligible portion. Drop them"
   ]
  },
  {
   "cell_type": "code",
   "execution_count": 565,
   "metadata": {
    "collapsed": true
   },
   "outputs": [],
   "source": [
    "df=df[df['run_time']!=\"N/A\"]"
   ]
  },
  {
   "cell_type": "code",
   "execution_count": 566,
   "metadata": {},
   "outputs": [
    {
     "data": {
      "text/plain": [
       "0    1 hrs. 43 min.\n",
       "1    1 hrs. 52 min.\n",
       "2    1 hrs. 50 min.\n",
       "3    2 hrs. 15 min.\n",
       "4    1 hrs. 29 min.\n",
       "Name: run_time, dtype: object"
      ]
     },
     "execution_count": 566,
     "metadata": {},
     "output_type": "execute_result"
    }
   ],
   "source": [
    "df[:5]['run_time']"
   ]
  },
  {
   "cell_type": "code",
   "execution_count": 567,
   "metadata": {
    "collapsed": true
   },
   "outputs": [],
   "source": [
    "def extract_run_time(x):\n",
    "    time_reg=re.compile(\"(.*) hr.* (.*) min\", re.IGNORECASE)\n",
    "    matches = re.search(time_reg, x)\n",
    "    return(int(matches.group(1))*60+int(matches.group(2)))\n"
   ]
  },
  {
   "cell_type": "code",
   "execution_count": 568,
   "metadata": {
    "collapsed": true
   },
   "outputs": [],
   "source": [
    "df[\"run_time_clnd\"]=df['run_time'].apply(extract_run_time)"
   ]
  },
  {
   "cell_type": "code",
   "execution_count": 569,
   "metadata": {},
   "outputs": [
    {
     "data": {
      "text/plain": [
       "0    103\n",
       "1    112\n",
       "2    110\n",
       "3    135\n",
       "4     89\n",
       "Name: run_time_clnd, dtype: int64"
      ]
     },
     "execution_count": 569,
     "metadata": {},
     "output_type": "execute_result"
    }
   ],
   "source": [
    "df[\"run_time_clnd\"][0:5]"
   ]
  },
  {
   "cell_type": "markdown",
   "metadata": {},
   "source": [
    "### Challenge 0.4: clean the mpaa rating field"
   ]
  },
  {
   "cell_type": "code",
   "execution_count": 570,
   "metadata": {},
   "outputs": [
    {
     "data": {
      "text/plain": [
       "R                3325\n",
       "Unrated          2771\n",
       "PG-13            2004\n",
       "PG               1351\n",
       "G                 264\n",
       "NC-17              22\n",
       "Not Yet Rated      16\n",
       "Unknown             2\n",
       "M                   2\n",
       "Name: mpaa, dtype: int64"
      ]
     },
     "execution_count": 570,
     "metadata": {},
     "output_type": "execute_result"
    }
   ],
   "source": [
    "df[\"mpaa\"].value_counts()"
   ]
  },
  {
   "cell_type": "code",
   "execution_count": 571,
   "metadata": {
    "collapsed": true
   },
   "outputs": [],
   "source": [
    "# Let's standardize:\n",
    "# We will group Unknown, Unrated and Unrated in 1 category called Unrated\n",
    "\n",
    "# M is an old rating (until 1970), meaning\n",
    "# \"Suggested for Mature Audiences – parental discretion advised\"\n",
    "# It seems equivalent to either PG or PG-13 in current rating system. \n",
    "# It does not make big difference though, given that it is only 2 of them\n",
    "# Transform M to PG\n",
    "df['mpaa'].replace(\"M\", \"PG\", inplace=True)\n",
    "df['mpaa'].replace([\"Not Yet Rated\",\"Unknown\" ], \"Unrated\", inplace=True)"
   ]
  },
  {
   "cell_type": "code",
   "execution_count": 572,
   "metadata": {},
   "outputs": [
    {
     "data": {
      "text/plain": [
       "R          3325\n",
       "Unrated    2789\n",
       "PG-13      2004\n",
       "PG         1353\n",
       "G           264\n",
       "NC-17        22\n",
       "Name: mpaa, dtype: int64"
      ]
     },
     "execution_count": 572,
     "metadata": {},
     "output_type": "execute_result"
    }
   ],
   "source": [
    "df[\"mpaa\"].value_counts()"
   ]
  },
  {
   "cell_type": "markdown",
   "metadata": {},
   "source": [
    "### Challenge 0.5: clean the Director field"
   ]
  },
  {
   "cell_type": "code",
   "execution_count": 573,
   "metadata": {},
   "outputs": [
    {
     "data": {
      "text/plain": [
       "445"
      ]
     },
     "execution_count": 573,
     "metadata": {},
     "output_type": "execute_result"
    }
   ],
   "source": [
    "#There are both, NaN and []\n",
    "df[\"Director\"].apply(lambda x: True if x==[] else False).sum()"
   ]
  },
  {
   "cell_type": "code",
   "execution_count": 574,
   "metadata": {},
   "outputs": [
    {
     "data": {
      "text/plain": [
       "6263"
      ]
     },
     "execution_count": 574,
     "metadata": {},
     "output_type": "execute_result"
    }
   ],
   "source": [
    "df[\"Director\"].isnull().sum()"
   ]
  },
  {
   "cell_type": "code",
   "execution_count": 575,
   "metadata": {},
   "outputs": [
    {
     "data": {
      "text/plain": [
       "3049"
      ]
     },
     "execution_count": 575,
     "metadata": {},
     "output_type": "execute_result"
    }
   ],
   "source": [
    "#transform [] in nana\n",
    "df.loc[df[\"Director\"].apply(lambda x: True if x==[] else False),\"Director\"]=np.NaN\n",
    "df[\"Director\"].notnull().sum()\n",
    "# I can't drop these lines now otherwise I would have less rows\n",
    "# also in challenges where Director is not required."
   ]
  },
  {
   "cell_type": "code",
   "execution_count": 576,
   "metadata": {},
   "outputs": [],
   "source": [
    "# Transform Director from list to string, where the field is not null\n",
    "def clean_director_field(x):\n",
    "    if x==np.NaN:\n",
    "        return(np.NaN)\n",
    "    return re.sub('[^A-Za-z ]+', '', x[0]).replace('  ', ' ').strip().lower()\n",
    "\n",
    "mask=df[\"Director\"].notnull()\n",
    "df.loc[mask,\"Director\"]=df.loc[mask,\"Director\"].apply(clean_director_field)\n"
   ]
  },
  {
   "cell_type": "code",
   "execution_count": 577,
   "metadata": {},
   "outputs": [
    {
     "data": {
      "text/plain": [
       "0      robert zemeckis\n",
       "1            james wan\n",
       "2           wes craven\n",
       "3    andres muschietti\n",
       "4                  NaN\n",
       "Name: Director, dtype: object"
      ]
     },
     "execution_count": 577,
     "metadata": {},
     "output_type": "execute_result"
    }
   ],
   "source": [
    "df[\"Director\"][0:5]"
   ]
  },
  {
   "cell_type": "code",
   "execution_count": null,
   "metadata": {
    "collapsed": true
   },
   "outputs": [],
   "source": []
  },
  {
   "cell_type": "markdown",
   "metadata": {},
   "source": [
    "## Challenge 1: Plot domestic total gross over time"
   ]
  },
  {
   "cell_type": "code",
   "execution_count": 578,
   "metadata": {
    "collapsed": true
   },
   "outputs": [],
   "source": [
    "# sum all gross by month\n",
    "A=df.set_index([\"date_as_DT\"]).resample(\"M\")[\"domestic_gross_clnd\"].sum().reset_index()"
   ]
  },
  {
   "cell_type": "code",
   "execution_count": 579,
   "metadata": {},
   "outputs": [
    {
     "data": {
      "image/png": "[encoded data removed]",
      "text/plain": [
       "<matplotlib.figure.Figure at 0x112d74b70>"
      ]
     },
     "metadata": {},
     "output_type": "display_data"
    }
   ],
   "source": [
    "datenow = datetime.now()\n",
    "dstart = datetime(1969,1,1)\n",
    "\n",
    "\n",
    "plt.title(\"Total gross by month since 1969\")\n",
    "plt.plot(A[\"date_as_DT\"],A[\"domestic_gross_clnd\"])\n",
    "plt.xlim([dstart ,datenow])\n",
    "plt.xlabel(\"time\")\n",
    "plt.ylabel(\"Domestic gross (10^9 $)\")\n",
    "\n",
    "plt.show()\n"
   ]
  },
  {
   "cell_type": "markdown",
   "metadata": {},
   "source": [
    "## Challenge 2: Plot runtime vs. domestic total gross."
   ]
  },
  {
   "cell_type": "code",
   "execution_count": null,
   "metadata": {},
   "outputs": [],
   "source": []
  },
  {
   "cell_type": "code",
   "execution_count": 580,
   "metadata": {},
   "outputs": [
    {
     "data": {
      "image/png": "[encoded data removed]",
      "text/plain": [
       "<matplotlib.figure.Figure at 0x1160e1d68>"
      ]
     },
     "metadata": {},
     "output_type": "display_data"
    }
   ],
   "source": [
    "plt.title(\"Runtime vs. domestic total gross\")\n",
    "plt.xlabel(\"Run time in minutes\")\n",
    "plt.ylabel(\"Domestic gross\")\n",
    "plt.scatter(df.run_time_clnd, df.domestic_gross_clnd, alpha=0.2,s=2);\n",
    "plt.xlim([0,300]);\n"
   ]
  },
  {
   "cell_type": "markdown",
   "metadata": {},
   "source": [
    "## Challenge 3: Group your data by Rating and find the average runtime and domestic total gross at each level of Rating."
   ]
  },
  {
   "cell_type": "code",
   "execution_count": 581,
   "metadata": {},
   "outputs": [
    {
     "data": {
      "text/html": [
       "<div>\n",
       "<style>\n",
       "    .dataframe thead tr:only-child th {\n",
       "        text-align: right;\n",
       "    }\n",
       "\n",
       "    .dataframe thead th {\n",
       "        text-align: left;\n",
       "    }\n",
       "\n",
       "    .dataframe tbody tr th {\n",
       "        vertical-align: top;\n",
       "    }\n",
       "</style>\n",
       "<table border=\"1\" class=\"dataframe\">\n",
       "  <thead>\n",
       "    <tr style=\"text-align: right;\">\n",
       "      <th></th>\n",
       "      <th>domestic_gross_clnd</th>\n",
       "      <th>run_time_clnd</th>\n",
       "    </tr>\n",
       "    <tr>\n",
       "      <th>mpaa</th>\n",
       "      <th></th>\n",
       "      <th></th>\n",
       "    </tr>\n",
       "  </thead>\n",
       "  <tbody>\n",
       "    <tr>\n",
       "      <th>G</th>\n",
       "      <td>4.258338e+07</td>\n",
       "      <td>88.284091</td>\n",
       "    </tr>\n",
       "    <tr>\n",
       "      <th>NC-17</th>\n",
       "      <td>2.206383e+06</td>\n",
       "      <td>107.818182</td>\n",
       "    </tr>\n",
       "    <tr>\n",
       "      <th>PG</th>\n",
       "      <td>4.273012e+07</td>\n",
       "      <td>101.866962</td>\n",
       "    </tr>\n",
       "    <tr>\n",
       "      <th>PG-13</th>\n",
       "      <td>4.939566e+07</td>\n",
       "      <td>107.126747</td>\n",
       "    </tr>\n",
       "    <tr>\n",
       "      <th>R</th>\n",
       "      <td>1.941881e+07</td>\n",
       "      <td>105.553383</td>\n",
       "    </tr>\n",
       "    <tr>\n",
       "      <th>Unrated</th>\n",
       "      <td>3.281253e+05</td>\n",
       "      <td>104.588383</td>\n",
       "    </tr>\n",
       "  </tbody>\n",
       "</table>\n",
       "</div>"
      ],
      "text/plain": [
       "         domestic_gross_clnd  run_time_clnd\n",
       "mpaa                                       \n",
       "G               4.258338e+07      88.284091\n",
       "NC-17           2.206383e+06     107.818182\n",
       "PG              4.273012e+07     101.866962\n",
       "PG-13           4.939566e+07     107.126747\n",
       "R               1.941881e+07     105.553383\n",
       "Unrated         3.281253e+05     104.588383"
      ]
     },
     "execution_count": 581,
     "metadata": {},
     "output_type": "execute_result"
    }
   ],
   "source": [
    "df.groupby([\"mpaa\"])[\"domestic_gross_clnd\",\"run_time_clnd\"].mean()"
   ]
  },
  {
   "cell_type": "markdown",
   "metadata": {},
   "source": [
    "## Challenge 4: Make one figure with (N=the number of MPAA ratings there are) subplots, and in each plot the release date vs the domestic total gross."
   ]
  },
  {
   "cell_type": "code",
   "execution_count": 582,
   "metadata": {},
   "outputs": [
    {
     "data": {
      "image/png": "[encoded data removed]",
      "text/plain": [
       "<matplotlib.figure.Figure at 0x1155c05c0>"
      ]
     },
     "metadata": {},
     "output_type": "display_data"
    }
   ],
   "source": [
    "import seaborn as sns\n",
    "g = sns.FacetGrid(df, col='mpaa')\n",
    "plt.xlim([dstart ,datenow])\n",
    "g.map(plt.scatter, 'date_as_DT', 'domestic_gross_clnd', alpha=0.2,s=2);\n"
   ]
  },
  {
   "cell_type": "markdown",
   "metadata": {},
   "source": [
    "## Challenge 5: What director in your dataset has the highest gross per movie?"
   ]
  },
  {
   "cell_type": "code",
   "execution_count": 583,
   "metadata": {},
   "outputs": [
    {
     "data": {
      "text/plain": [
       "'joss whedon'"
      ]
     },
     "execution_count": 583,
     "metadata": {},
     "output_type": "execute_result"
    }
   ],
   "source": [
    "df.groupby([\"Director\"]).mean()[\"domestic_gross_clnd\"].sort_values(ascending=False).index[0]"
   ]
  },
  {
   "cell_type": "code",
   "execution_count": 584,
   "metadata": {},
   "outputs": [
    {
     "data": {
      "text/html": [
       "<div>\n",
       "<style>\n",
       "    .dataframe thead tr:only-child th {\n",
       "        text-align: right;\n",
       "    }\n",
       "\n",
       "    .dataframe thead th {\n",
       "        text-align: left;\n",
       "    }\n",
       "\n",
       "    .dataframe tbody tr th {\n",
       "        vertical-align: top;\n",
       "    }\n",
       "</style>\n",
       "<table border=\"1\" class=\"dataframe\">\n",
       "  <thead>\n",
       "    <tr style=\"text-align: right;\">\n",
       "      <th></th>\n",
       "      <th>Director</th>\n",
       "      <th>domestic_gross_clnd</th>\n",
       "    </tr>\n",
       "  </thead>\n",
       "  <tbody>\n",
       "    <tr>\n",
       "      <th>0</th>\n",
       "      <td>joss whedon</td>\n",
       "      <td>369292765.0</td>\n",
       "    </tr>\n",
       "    <tr>\n",
       "      <th>1</th>\n",
       "      <td>gareth edwards</td>\n",
       "      <td>366426696.5</td>\n",
       "    </tr>\n",
       "    <tr>\n",
       "      <th>2</th>\n",
       "      <td>george lucas</td>\n",
       "      <td>348298000.2</td>\n",
       "    </tr>\n",
       "    <tr>\n",
       "      <th>3</th>\n",
       "      <td>jj abrams</td>\n",
       "      <td>336840977.0</td>\n",
       "    </tr>\n",
       "    <tr>\n",
       "      <th>4</th>\n",
       "      <td>colin trevorrow</td>\n",
       "      <td>328140791.0</td>\n",
       "    </tr>\n",
       "  </tbody>\n",
       "</table>\n",
       "</div>"
      ],
      "text/plain": [
       "          Director  domestic_gross_clnd\n",
       "0      joss whedon          369292765.0\n",
       "1   gareth edwards          366426696.5\n",
       "2     george lucas          348298000.2\n",
       "3        jj abrams          336840977.0\n",
       "4  colin trevorrow          328140791.0"
      ]
     },
     "execution_count": 584,
     "metadata": {},
     "output_type": "execute_result"
    }
   ],
   "source": [
    "# could this be? See at the first 5\n",
    "df.groupby([\"Director\"]).mean()[\"domestic_gross_clnd\"].sort_values(ascending=False).reset_index()[0:5]"
   ]
  },
  {
   "cell_type": "code",
   "execution_count": 585,
   "metadata": {},
   "outputs": [
    {
     "data": {
      "text/html": [
       "<div>\n",
       "<style>\n",
       "    .dataframe thead tr:only-child th {\n",
       "        text-align: right;\n",
       "    }\n",
       "\n",
       "    .dataframe thead th {\n",
       "        text-align: left;\n",
       "    }\n",
       "\n",
       "    .dataframe tbody tr th {\n",
       "        vertical-align: top;\n",
       "    }\n",
       "</style>\n",
       "<table border=\"1\" class=\"dataframe\">\n",
       "  <thead>\n",
       "    <tr style=\"text-align: right;\">\n",
       "      <th></th>\n",
       "      <th>Director</th>\n",
       "      <th>domestic_gross_clnd</th>\n",
       "    </tr>\n",
       "  </thead>\n",
       "  <tbody>\n",
       "    <tr>\n",
       "      <th>0</th>\n",
       "      <td>steven spielberg</td>\n",
       "      <td>4136178393</td>\n",
       "    </tr>\n",
       "    <tr>\n",
       "      <th>1</th>\n",
       "      <td>michael bay</td>\n",
       "      <td>2192439992</td>\n",
       "    </tr>\n",
       "    <tr>\n",
       "      <th>2</th>\n",
       "      <td>peter jackson</td>\n",
       "      <td>2090589689</td>\n",
       "    </tr>\n",
       "    <tr>\n",
       "      <th>3</th>\n",
       "      <td>james cameron</td>\n",
       "      <td>1976037184</td>\n",
       "    </tr>\n",
       "    <tr>\n",
       "      <th>4</th>\n",
       "      <td>christopher nolan</td>\n",
       "      <td>1951768210</td>\n",
       "    </tr>\n",
       "  </tbody>\n",
       "</table>\n",
       "</div>"
      ],
      "text/plain": [
       "            Director  domestic_gross_clnd\n",
       "0   steven spielberg           4136178393\n",
       "1        michael bay           2192439992\n",
       "2      peter jackson           2090589689\n",
       "3      james cameron           1976037184\n",
       "4  christopher nolan           1951768210"
      ]
     },
     "execution_count": 585,
     "metadata": {},
     "output_type": "execute_result"
    }
   ],
   "source": [
    "# Instead of the average, let's see the top 5 director by total gross\n",
    "df.groupby([\"Director\"]).sum()[\"domestic_gross_clnd\"].sort_values(ascending=False).reset_index()[0:5]"
   ]
  },
  {
   "cell_type": "code",
   "execution_count": 586,
   "metadata": {
    "collapsed": true
   },
   "outputs": [],
   "source": [
    "# it looks correct to me"
   ]
  },
  {
   "cell_type": "markdown",
   "metadata": {},
   "source": [
    "## Challenge 6: Bin your dataset into months and make a bar graph of the mean domestic total gross by month. Error bars will represent the standard error of the mean.\n",
    "\n",
    "Title of graph should include: Mean Domestic Total Gross by Month in 2013\n",
    "\n",
    "Topic for consideration: what is the correct formula for the standard error of the mean? Examine the error bars and see if they are \"reasonable.\""
   ]
  },
  {
   "cell_type": "code",
   "execution_count": 591,
   "metadata": {},
   "outputs": [
    {
     "data": {
      "image/png": "[encoded data removed]",
      "text/plain": [
       "<matplotlib.figure.Figure at 0x116d73be0>"
      ]
     },
     "metadata": {},
     "output_type": "display_data"
    }
   ],
   "source": [
    "plt.figure(figsize=(12,8))\n",
    "df[\"release_month\"] = pd.CategoricalIndex(df.release_month, categories= [\"january\",\"february\",\"march\",\"april\",\"may\",\"june\",\"july\",\"august\",\"september\",\"october\",\"november\",\"december\"])\n",
    "sns.barplot(x=\"release_month\", y=\"domestic_gross_clnd\", data=df,color=\"orange\", ci=95);"
   ]
  },
  {
   "cell_type": "code",
   "execution_count": 597,
   "metadata": {},
   "outputs": [],
   "source": [
    "avg_march=df[df[\"release_month\"]==\"march\"][\"domestic_gross_clnd\"].mean()\n",
    "std_march=df[df[\"release_month\"]==\"march\"][\"domestic_gross_clnd\"].std()\n",
    "\n"
   ]
  },
  {
   "cell_type": "code",
   "execution_count": 598,
   "metadata": {},
   "outputs": [
    {
     "data": {
      "text/plain": [
       "885"
      ]
     },
     "execution_count": 598,
     "metadata": {},
     "output_type": "execute_result"
    }
   ],
   "source": [
    "#Number of movies released in march\n",
    "(df[\"release_month\"]==\"march\").sum()"
   ]
  },
  {
   "cell_type": "code",
   "execution_count": 599,
   "metadata": {},
   "outputs": [
    {
     "data": {
      "text/plain": [
       "20195071.334463276"
      ]
     },
     "execution_count": 599,
     "metadata": {},
     "output_type": "execute_result"
    }
   ],
   "source": [
    "#average domestic gross\n",
    "avg_march"
   ]
  },
  {
   "cell_type": "code",
   "execution_count": 600,
   "metadata": {},
   "outputs": [
    {
     "data": {
      "text/plain": [
       "-68588937.232163399"
      ]
     },
     "execution_count": 600,
     "metadata": {},
     "output_type": "execute_result"
    }
   ],
   "source": [
    "avg_march-1.96*std_march"
   ]
  },
  {
   "cell_type": "code",
   "execution_count": 601,
   "metadata": {},
   "outputs": [
    {
     "data": {
      "text/plain": [
       "108979079.90108994"
      ]
     },
     "execution_count": 601,
     "metadata": {},
     "output_type": "execute_result"
    }
   ],
   "source": [
    "avg_march+1.96*std_march"
   ]
  },
  {
   "cell_type": "code",
   "execution_count": 605,
   "metadata": {},
   "outputs": [
    {
     "data": {
      "text/plain": [
       "<matplotlib.axes._subplots.AxesSubplot at 0x116d22128>"
      ]
     },
     "execution_count": 605,
     "metadata": {},
     "output_type": "execute_result"
    },
    {
     "data": {
      "image/png": "[encoded data removed]",
      "text/plain": [
       "<matplotlib.figure.Figure at 0x116d7a860>"
      ]
     },
     "metadata": {},
     "output_type": "display_data"
    }
   ],
   "source": [
    "# while the mean correpsponds to the averag gross in march, the bar does not\n",
    "# this happens because the bar assumes that the distribution is nearly normal\n",
    "# plotting the gross in march, we can see that this is not the case\n",
    "df[df[\"release_month\"]==\"march\"][\"domestic_gross_clnd\"].hist()"
   ]
  },
  {
   "cell_type": "code",
   "execution_count": 606,
   "metadata": {},
   "outputs": [
    {
     "data": {
      "text/plain": [
       "<matplotlib.axes._subplots.AxesSubplot at 0x116dd5cf8>"
      ]
     },
     "execution_count": 606,
     "metadata": {},
     "output_type": "execute_result"
    },
    {
     "data": {
      "image/png": "[encoded data removed]",
      "text/plain": [
       "<matplotlib.figure.Figure at 0x116dc27f0>"
      ]
     },
     "metadata": {},
     "output_type": "display_data"
    }
   ],
   "source": [
    "# Let's take the log of the gross and repeat\n",
    "\n",
    "df[\"domestic_gross_clnd_log\"]=df[\"domestic_gross_clnd\"].apply(lambda x: np.log(x+1))\n",
    "df[\"domestic_gross_clnd_log\"].plot.hist()"
   ]
  },
  {
   "cell_type": "code",
   "execution_count": 609,
   "metadata": {
    "collapsed": true
   },
   "outputs": [],
   "source": [
    "# much more bell shaped, even though it is not normal"
   ]
  },
  {
   "cell_type": "code",
   "execution_count": 610,
   "metadata": {},
   "outputs": [
    {
     "data": {
      "image/png": "[encoded data removed]",
      "text/plain": [
       "<matplotlib.figure.Figure at 0x11704b748>"
      ]
     },
     "metadata": {},
     "output_type": "display_data"
    }
   ],
   "source": [
    "plt.figure(figsize=(12,8))\n",
    "df[\"release_month\"] = pd.CategoricalIndex(df.release_month, categories= [\"january\",\"february\",\"march\",\"april\",\"may\",\"june\",\"july\",\"august\",\"september\",\"october\",\"november\",\"december\"])\n",
    "sns.barplot(x=\"release_month\", y=\"domestic_gross_clnd_log\", data=df,color=\"orange\", ci=95);"
   ]
  },
  {
   "cell_type": "code",
   "execution_count": 611,
   "metadata": {
    "collapsed": true
   },
   "outputs": [],
   "source": [
    "# take the average and std for the month of march\n",
    "avg_march=df[df[\"release_month\"]==\"march\"][\"domestic_gross_clnd_log\"].mean()\n",
    "std_march=df[df[\"release_month\"]==\"march\"][\"domestic_gross_clnd_log\"].std()\n",
    "\n"
   ]
  },
  {
   "cell_type": "code",
   "execution_count": 612,
   "metadata": {},
   "outputs": [
    {
     "data": {
      "text/plain": [
       "14.004456221806709"
      ]
     },
     "execution_count": 612,
     "metadata": {},
     "output_type": "execute_result"
    }
   ],
   "source": [
    "avg_march"
   ]
  },
  {
   "cell_type": "code",
   "execution_count": 613,
   "metadata": {},
   "outputs": [
    {
     "data": {
      "text/plain": [
       "7.7543595846941269"
      ]
     },
     "execution_count": 613,
     "metadata": {},
     "output_type": "execute_result"
    }
   ],
   "source": [
    "avg_march-1.96*std_march"
   ]
  },
  {
   "cell_type": "code",
   "execution_count": 614,
   "metadata": {},
   "outputs": [
    {
     "data": {
      "text/plain": [
       "20.25455285891929"
      ]
     },
     "execution_count": 614,
     "metadata": {},
     "output_type": "execute_result"
    }
   ],
   "source": [
    "avg_march+1.96*std_march"
   ]
  },
  {
   "cell_type": "code",
   "execution_count": 615,
   "metadata": {
    "collapsed": true
   },
   "outputs": [],
   "source": [
    "# disappointing.... I thought it would more or less correspond. It does not.\n",
    "#I do not know why... "
   ]
  },
  {
   "cell_type": "code",
   "execution_count": null,
   "metadata": {
    "collapsed": true
   },
   "outputs": [],
   "source": []
  }
 ],
 "metadata": {
  "kernelspec": {
   "display_name": "Python 3",
   "language": "python",
   "name": "python3"
  },
  "language_info": {
   "codemirror_mode": {
    "name": "ipython",
    "version": 3
   },
   "file_extension": ".py",
   "mimetype": "text/x-python",
   "name": "python",
   "nbconvert_exporter": "python",
   "pygments_lexer": "ipython3",
   "version": "3.6.1"
  }
 },
 "nbformat": 4,
 "nbformat_minor": 2
}
