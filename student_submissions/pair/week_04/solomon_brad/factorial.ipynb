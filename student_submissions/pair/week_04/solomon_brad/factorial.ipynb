{
 "cells": [
  {
   "cell_type": "markdown",
   "metadata": {},
   "source": [
    "# Pair Problem #1: FACTORIAL"
   ]
  },
  {
   "cell_type": "markdown",
   "metadata": {},
   "source": [
    "The cornerstone example of recursion is computation of $n!$:"
   ]
  },
  {
   "cell_type": "code",
   "execution_count": 1,
   "metadata": {},
   "outputs": [
    {
     "data": {
      "text/plain": [
       "720"
      ]
     },
     "execution_count": 1,
     "metadata": {},
     "output_type": "execute_result"
    }
   ],
   "source": [
    "def factorial(n):\n",
    "    if n == 1:\n",
    "        return 1\n",
    "    else:\n",
    "        return n * factorial(n-1)\n",
    "factorial(6)"
   ]
  },
  {
   "cell_type": "markdown",
   "metadata": {},
   "source": [
    "Progression:\n",
    "\n",
    "```\n",
    "factorial(6)\n",
    "6 * factorial(5)\n",
    "6 * 5 * factorial(4)\n",
    "6 * 5 * 4 * factorial(3)\n",
    "6 * 5 * 4 * 3 * factorial(2)\n",
    "6 * 5 * 4 * 3 * 2 * factorial(1)\n",
    "6 * 5 * 4 * 3 * 2 * 1\n",
    "720\n",
    "```"
   ]
  },
  {
   "cell_type": "markdown",
   "metadata": {},
   "source": [
    "Here's an excerpt on this method from _Structure and Interpretation of Computer Programs_:\n",
    "\n",
    "> The substitution model reveals a shape of expansion followed by contraction, indicated by the arrow in figure 1.3. The expansion occurs as the process builds up a chain of deferred operations (in this case, a chain of multiplications). The contraction occurs as the operations are actually performed. This type of process, characterized by a _chain of deferred operations_, is called a **recursive process**. Carrying out this process requires that the interpreter keep track of the operations to be performed later on. In the computation of n!, the length of the chain of deferred multiplications, and hence the amount of information needed to keep track of it, grows linearly with n (is proportional to n), just like the number of steps. Such a process is called a **linear recursive process**."
   ]
  },
  {
   "cell_type": "markdown",
   "metadata": {},
   "source": [
    "# Pair Problem #2: FIBONACCI SERIES"
   ]
  },
  {
   "cell_type": "markdown",
   "metadata": {},
   "source": [
    "Another common pattern of computation is called **tree recursion**. As an example, consider computing\n",
    "the sequence of Fibonacci numbers, in which each number is the sum of the preceding two:\n",
    "\n",
    "> 0, 1, 1, 2, 3, 5, 8, 13, 21, ...\n",
    "\n",
    "In general, the Fibonacci numbers can be defined by the rule:\n",
    "\n",
    "$$Fib(n) =\n",
    "\\begin{cases}\n",
    "  0 & \\text{if }i = 0\\\\\n",
    "  1 & \\text{if }i = 1\\\\    \n",
    "  Fib(n-1) + Fib(n-2) & \\text{otherwise }\\\\   \n",
    "\\end{cases}\n",
    "$$"
   ]
  },
  {
   "cell_type": "code",
   "execution_count": 2,
   "metadata": {},
   "outputs": [
    {
     "data": {
      "text/plain": [
       "5"
      ]
     },
     "execution_count": 2,
     "metadata": {},
     "output_type": "execute_result"
    }
   ],
   "source": [
    "def fib(n):\n",
    "    \"\"\"Print the nth term in Fibonacci series.\"\"\"\n",
    "    if n in [0, 1]:\n",
    "        return n\n",
    "    else:\n",
    "        return fib(n - 1) + fib(n - 2)\n",
    "fib(5)"
   ]
  },
  {
   "cell_type": "markdown",
   "metadata": {},
   "source": [
    "Progression:\n",
    "\n",
    "```\n",
    "fib(5)\n",
    "fib(4) + fib(3)\n",
    "[fib(3) + fib(2)] + [fib(2) + fib(1)]\n",
    "fib(2) + fib(1) + fib(1) + fib(0) + fib(1) + fib(0) + 1\n",
    "fib(1) + fib(0) + 1 + 1 + 0 + 1 + 0 + 1\n",
    "1 + 0 + 1 + 1 + 0 + 1 + 0 + 1\n",
    "5\n",
    "```"
   ]
  },
  {
   "cell_type": "code",
   "execution_count": 3,
   "metadata": {},
   "outputs": [
    {
     "name": "stdout",
     "output_type": "stream",
     "text": [
      "0 1 1 2 3 5 8 13 21 34 "
     ]
    }
   ],
   "source": [
    "for i in range(0, 10):\n",
    "    print(fib(i), end=' ')"
   ]
  },
  {
   "cell_type": "markdown",
   "metadata": {},
   "source": [
    "The above, however, is actually not optimal:\n",
    "\n",
    "> This procedure is instructive as a prototypical tree recursion, but it is a terrible way to compute Fibonacci numbers because it does so much redundant computation. Notice in figure 1.5 that the entire computation of (fib 3) -- almost half the work -- is duplicated. In fact, it is not hard to show that the number of times the procedure will compute (fib 1) or (fib 0) (the number of leaves in the above tree, in general) is precisely Fib(n + 1). To get an idea of how bad this is, one can show that the value of Fib(n) grows exponentially with n.\n",
    "\n",
    "We can also formulate an iterative process for computing the Fibonacci numbers. The idea is to use a pair of integers a and b, initialized to Fib(1) = 1 and Fib(0) = 0, and to repeatedly apply the simultaneous transformations\n",
    "\n",
    "$$ a \\leftarrow a + b$$\n",
    "$$ b \\leftarrow a$$\n",
    "\n",
    "This method is _not_ recursion; it is an iterative process where the number of required steps is linear in _n_:"
   ]
  },
  {
   "cell_type": "code",
   "execution_count": 4,
   "metadata": {},
   "outputs": [
    {
     "name": "stdout",
     "output_type": "stream",
     "text": [
      "0 1 1 2 3 5 \n"
     ]
    }
   ],
   "source": [
    "def fib(n):\n",
    "    a, b = 0, 1\n",
    "    i = 0\n",
    "    while i <= n:\n",
    "        print(a, end=' ')\n",
    "        a, b = b, a + b\n",
    "        i += 1\n",
    "    print()\n",
    "fib(5)"
   ]
  },
  {
   "cell_type": "markdown",
   "metadata": {},
   "source": [
    "A third alternative would be to cache our repeated function calls:"
   ]
  },
  {
   "cell_type": "code",
   "execution_count": 5,
   "metadata": {},
   "outputs": [],
   "source": [
    "from functools import lru_cache\n",
    "\n",
    "def fib_recursive_nocache(n):\n",
    "    \"\"\"Print the nth term in Fibonacci series.\"\"\"\n",
    "    if n in [0, 1]:\n",
    "        return n\n",
    "    else:\n",
    "        return fib_recursive_nocache(n - 1) + fib_recursive_nocache(n - 2)\n",
    "\n",
    "@lru_cache(maxsize=None)\n",
    "def fib_recursive_cache(n):\n",
    "    \"\"\"Print the nth term in Fibonacci series.\"\"\"\n",
    "    if n in [0, 1]:\n",
    "        return n\n",
    "    else:\n",
    "        return fib_recursive_cache(n - 1) + fib_recursive_cache(n - 2)\n",
    "\n",
    "def fib_iterative(n):\n",
    "    a, b = 0, 1\n",
    "    i = 1\n",
    "    while i <= n:\n",
    "        a, b = b, a + b\n",
    "        i += 1\n",
    "    return a "
   ]
  },
  {
   "cell_type": "code",
   "execution_count": 6,
   "metadata": {
    "scrolled": true
   },
   "outputs": [],
   "source": [
    "n = 30\n",
    "assert fib_recursive_nocache(n) == fib_recursive_cache(n) == fib_iterative(n)"
   ]
  },
  {
   "cell_type": "markdown",
   "metadata": {},
   "source": [
    "# Timing"
   ]
  },
  {
   "cell_type": "markdown",
   "metadata": {},
   "source": [
    "Caching comes out fastest:"
   ]
  },
  {
   "cell_type": "code",
   "execution_count": 7,
   "metadata": {},
   "outputs": [],
   "source": [
    "from statistics import mean\n",
    "from timeit import repeat"
   ]
  },
  {
   "cell_type": "code",
   "execution_count": 8,
   "metadata": {},
   "outputs": [
    {
     "name": "stdout",
     "output_type": "stream",
     "text": [
      "fib_iterative:0.00872 ms\n",
      "fib_recursive_cache:0.00035 ms\n",
      "fib_recursive_nocache:667.45331 ms\n"
     ]
    }
   ],
   "source": [
    "for func in ('fib_iterative', 'fib_recursive_cache', 'fib_recursive_nocache'):\n",
    "    time = mean(repeat('{}(n)'.format(func), setup='from __main__ import {}; n=30'.format(func), \n",
    "                number=20))\n",
    "    print(func, ':', round(time * 100, 5), ' ms', sep='')"
   ]
  }
 ],
 "metadata": {
  "kernelspec": {
   "display_name": "Python 3",
   "language": "python",
   "name": "python3"
  },
  "language_info": {
   "codemirror_mode": {
    "name": "ipython",
    "version": 3
   },
   "file_extension": ".py",
   "mimetype": "text/x-python",
   "name": "python",
   "nbconvert_exporter": "python",
   "pygments_lexer": "ipython3",
   "version": "3.6.3"
  }
 },
 "nbformat": 4,
 "nbformat_minor": 2
}
