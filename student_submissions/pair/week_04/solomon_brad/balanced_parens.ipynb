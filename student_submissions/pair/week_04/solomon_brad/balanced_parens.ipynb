{
 "cells": [
  {
   "cell_type": "markdown",
   "metadata": {},
   "source": [
    "In programming languages, and especially in Lisps, there can be a lot of parentheses. The parentheses have to be \"balanced\" to be valid. For example, `()(())` is balanced, but `()())` is not balanced. Also, `)((())` is not balanced.\n",
    "\n",
    "Write a function that takes a string and returns True if the string's parentheses are balanced, False if they are not.\n",
    "\n",
    "Here are examples to test your function with:\n",
    "\n",
    " * `(()()()())` should return `True`\n",
    " * `(((())))` should return `True`\n",
    " * `(()((())()))` should return `True`\n",
    " * `((((((())` should return `False`\n",
    " * `()))` should return `False`\n",
    " * `(()()))(()` should return `False`"
   ]
  },
  {
   "cell_type": "code",
   "execution_count": 1,
   "metadata": {},
   "outputs": [],
   "source": [
    "parens = [\n",
    "    '(()()()())',    # True\n",
    "    '(((())))',      # True\n",
    "    '(()((())()))',  # True\n",
    "    '((((((())',  # False\n",
    "    '()))',          # False\n",
    "    '(()()))(()'     # False\n",
    "    ]"
   ]
  },
  {
   "cell_type": "markdown",
   "metadata": {},
   "source": [
    "With recursion:"
   ]
  },
  {
   "cell_type": "code",
   "execution_count": 2,
   "metadata": {},
   "outputs": [
    {
     "name": "stdout",
     "output_type": "stream",
     "text": [
      "True\n",
      "True\n",
      "True\n",
      "False\n",
      "False\n",
      "False\n"
     ]
    }
   ],
   "source": [
    "import re\n",
    "\n",
    "def is_balanced(s):\n",
    "    # Nested the \"actual\" func to avoid subbing\n",
    "    # at each recursive call\n",
    "    s = re.sub(r'[^()]', '', s)\n",
    "    def _inner(s):\n",
    "        if '()' in s:\n",
    "            return is_balanced(s.replace('()', ''))\n",
    "        else:\n",
    "            return not bool(s)\n",
    "    return _inner(s)\n",
    "    \n",
    "for p in parens:\n",
    "    print(is_balanced(p))"
   ]
  },
  {
   "cell_type": "markdown",
   "metadata": {},
   "source": [
    "Without recursion:"
   ]
  },
  {
   "cell_type": "code",
   "execution_count": 4,
   "metadata": {},
   "outputs": [
    {
     "name": "stdout",
     "output_type": "stream",
     "text": [
      "True\n",
      "True\n",
      "True\n",
      "False\n",
      "False\n",
      "False\n"
     ]
    }
   ],
   "source": [
    "def is_balanced(s):\n",
    "    s = re.sub(r'[^()]', '', s)\n",
    "    \n",
    "    container = []\n",
    "    s_ = list(s)\n",
    "    container.append(s_.pop(0))\n",
    "\n",
    "    while s_:\n",
    "        if s_[0] == '(':\n",
    "            container.append(s_.pop(0))\n",
    "        elif s_[0] == ')':\n",
    "            if not container:\n",
    "                return False\n",
    "            container = container[:-1]\n",
    "            s_.pop(0)\n",
    "    return not bool(container)\n",
    "\n",
    "for p in parens:\n",
    "    print(is_balanced(p))"
   ]
  }
 ],
 "metadata": {
  "kernelspec": {
   "display_name": "Python 3",
   "language": "python",
   "name": "python3"
  },
  "language_info": {
   "codemirror_mode": {
    "name": "ipython",
    "version": 3
   },
   "file_extension": ".py",
   "mimetype": "text/x-python",
   "name": "python",
   "nbconvert_exporter": "python",
   "pygments_lexer": "ipython3",
   "version": "3.6.3"
  }
 },
 "nbformat": 4,
 "nbformat_minor": 2
}
