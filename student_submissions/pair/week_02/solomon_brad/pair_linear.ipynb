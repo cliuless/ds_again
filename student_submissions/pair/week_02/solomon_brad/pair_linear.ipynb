{
 "cells": [
  {
   "cell_type": "markdown",
   "metadata": {},
   "source": [
    "# Pair Problem #1\n",
    "\n",
    "These problems involves first doing some math, either in your head or with pencil and paper, and only afterward verifying with Python.\n",
    "\n",
    "For each problem, there is a matrix `X` and a vector `y`. You are looking for a vector `w` so that when you take a row of `X` and multiply each element by its corresponding element of `w` and then sum the results (the dot product of the row of `X` with `w`) you get the value at the corresponding position of `y`. For example, if we have:\n",
    "\n",
    "```\n",
    "X = [[5, 3, 7],   y = [537,\n",
    "     [2, 4, 1]]        241]\n",
    "```\n",
    "\n",
    "A solution is `w = [100, 10, 1]`.\n",
    "\n",
    "For each problem, answer two things:\n",
    "\n",
    " 1. How many solutions are there? Why?\n",
    " 2. If there are any solutions, what is one?\n",
    "\n",
    "Problem A:\n",
    "\n",
    "```\n",
    "X = [[2]]        y = [8]\n",
    "```\n",
    "\n",
    "Problem B:\n",
    "\n",
    "```\n",
    "X = [[0]]        y = [8]\n",
    "```\n",
    "\n",
    "Problem C:\n",
    "\n",
    "```\n",
    "X = [[2, 4]]     y = [8]\n",
    "```\n",
    "\n",
    "Problem D:\n",
    "\n",
    "```\n",
    "X = [[2, 4],     y = [8,\n",
    "     [0, 1]]          3]\n",
    "```\n",
    "\n",
    "Problem E:\n",
    "\n",
    "```\n",
    "X = [[2, 4],     y = [8,\n",
    "     [0, 1],          3,\n",
    "     [9, 5]]          1]\n",
    "```\n",
    "\n",
    "Problem F:\n",
    "\n",
    "```\n",
    "X = [[2, 2],     y = [4,\n",
    "     [3, 3]]          6]\n",
    "```\n",
    "\n",
    "Problem G:\n",
    "\n",
    "```\n",
    "X = [[1, 1, 0],    y = [8,\n",
    "     [1, 0, 1]]         6]\n",
    "```"
   ]
  },
  {
   "cell_type": "code",
   "execution_count": 44,
   "metadata": {
    "collapsed": true
   },
   "outputs": [],
   "source": [
    "def solve(x, y):\n",
    "    x, y = np.asarray(x), np.asarray(y)\n",
    "    \"\"\"Mimics `np.linalg.solve`, but does not require X be square.\"\"\"\n",
    "    b, *_ = np.linalg.lstsq(x, y)\n",
    "    return b"
   ]
  },
  {
   "cell_type": "code",
   "execution_count": 45,
   "metadata": {},
   "outputs": [
    {
     "data": {
      "text/plain": [
       "array([ 4.])"
      ]
     },
     "execution_count": 45,
     "metadata": {},
     "output_type": "execute_result"
    }
   ],
   "source": [
    "x = [[2]]\n",
    "y = [8]\n",
    "solve(x, y)"
   ]
  },
  {
   "cell_type": "code",
   "execution_count": 46,
   "metadata": {},
   "outputs": [
    {
     "data": {
      "text/plain": [
       "array([ 0.])"
      ]
     },
     "execution_count": 46,
     "metadata": {},
     "output_type": "execute_result"
    }
   ],
   "source": [
    "x = [[0]]\n",
    "y = [8]\n",
    "solve(x, y)"
   ]
  },
  {
   "cell_type": "code",
   "execution_count": 47,
   "metadata": {},
   "outputs": [
    {
     "data": {
      "text/plain": [
       "array([ 0.8,  1.6])"
      ]
     },
     "execution_count": 47,
     "metadata": {},
     "output_type": "execute_result"
    }
   ],
   "source": [
    "x = [[2, 4]]\n",
    "y = [8]\n",
    "solve(x, y)"
   ]
  },
  {
   "cell_type": "code",
   "execution_count": 48,
   "metadata": {},
   "outputs": [
    {
     "data": {
      "text/plain": [
       "array([-2.,  3.])"
      ]
     },
     "execution_count": 48,
     "metadata": {},
     "output_type": "execute_result"
    }
   ],
   "source": [
    "x = [[2, 4],\n",
    "     [0, 1]]\n",
    "y = [8, 3]\n",
    "solve(x, y)"
   ]
  },
  {
   "cell_type": "markdown",
   "metadata": {},
   "source": [
    "# Pair Problem #2"
   ]
  },
  {
   "cell_type": "markdown",
   "metadata": {},
   "source": [
    "The data for this problem are the numbers 2, 7, 1, 5, and 10.\n",
    "\n",
    "We want to know which of the numbers from 0 to 10 (by tenths) gives the smallest result when we do the following:\n",
    "\n",
    "For each of the numbers in the data, subtract the candidate number and then square the result, then add up these numbers.\n",
    "\n",
    "For example, to test the candidate number 8.2, we do the following:\n",
    "\n",
    "```\n",
    "2 - 8.2 = -6.2\n",
    "         (-6.2)**2 = 38.44\n",
    "7 - 8.2 = -1.2\n",
    "         (-1.2)**2 = 1.44\n",
    "1 - 8.2 = -7.2\n",
    "         (-7.2)**2 = 51.84\n",
    "5 - 8.2 = -3.2\n",
    "         (-3.2)**2 = 10.24\n",
    "10 - 8.2 = 1.8\n",
    "           1.8**2  = 3.24\n",
    "\n",
    "38.44 + 1.44 + 51.84 + 10.24 + 3.24 = 105.2\n",
    "```"
   ]
  },
  {
   "cell_type": "code",
   "execution_count": 3,
   "metadata": {},
   "outputs": [
    {
     "name": "stdout",
     "output_type": "stream",
     "text": [
      "5.0\n"
     ]
    }
   ],
   "source": [
    "def minimize(data, candidate):\n",
    "    diff = data - candidate[:, None]\n",
    "    idx = np.square(diff).sum(axis=1).argmin()\n",
    "    return candidate[idx]\n",
    "\n",
    "data = np.array([2, 7, 1, 5, 10], dtype=np.float_)\n",
    "candidate = np.arange(0, 10.1, step=.1)\n",
    "\n",
    "print(minimize(data, candidate))"
   ]
  }
 ],
 "metadata": {
  "kernelspec": {
   "display_name": "Python 3",
   "language": "python",
   "name": "python3"
  },
  "language_info": {
   "codemirror_mode": {
    "name": "ipython",
    "version": 3
   },
   "file_extension": ".py",
   "mimetype": "text/x-python",
   "name": "python",
   "nbconvert_exporter": "python",
   "pygments_lexer": "ipython3",
   "version": "3.6.3"
  }
 },
 "nbformat": 4,
 "nbformat_minor": 2
}
