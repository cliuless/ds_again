{
 "cells": [
  {
   "cell_type": "markdown",
   "metadata": {},
   "source": [
    "If you're named Danny Kyung or Matthew Emes, it opens up the possibility of justifying your use of usernames such as [dank](https://github.com/dank) or [memes](https://github.com/memes).\n",
    "\n",
    "Your task is to find the longest word such that it satisfies the criteria - that is, it is a substring of the given string but not necessarily consecutively (we can call it a sparse substring). If there are multiple words of same maximum length, output all of them.\n",
    "\n",
    "You may use the the [Enable word list](http://norvig.com/ngrams/enable1.txt), or some other reasonable English word list. Every word in your output must appear in your word list.\n",
    "Formal Inputs & Outputs\n",
    "\n",
    "#### Example Inputs\n",
    "```\n",
    "Donald Knuth\n",
    "Alan Turing\n",
    "Claude Shannon\n",
    "```\n",
    "\n",
    "#### Output description\n",
    "```\n",
    "A single word, or the lengthiest word/words in case of multiple words satisfying the criteria.\n",
    "```\n",
    "\n",
    "#### Example outputs\n",
    "```\n",
    "Donut (because **Don**ald k**nut**h)\n",
    "Alanin, Anting\n",
    "Cannon\n",
    "```\n",
    "\n",
    "#### Challenge Inputs\n",
    "```\n",
    "Ada Lovelace\n",
    "Haskell Curry\n",
    "**Your own name!**\n",
    "```"
   ]
  },
  {
   "cell_type": "code",
   "execution_count": 1,
   "metadata": {
    "scrolled": true
   },
   "outputs": [],
   "source": [
    "from itertools import chain, combinations\n",
    "import re\n",
    "\n",
    "import pandas as pd\n",
    "\n",
    "url = 'http://norvig.com/ngrams/enable1.txt'\n",
    "words = set(pd.read_csv(url, header=None, squeeze=True).dropna())\n",
    "\n",
    "\n",
    "def powerset(iterable):\n",
    "    \"\"\"From itertools recipes.\"\"\"\n",
    "    # https://docs.python.org/3/library/itertools.html#itertools-recipes\n",
    "    # powerset([1,2,3]) --> () (1,) (2,) (3,) (1,2) (1,3) (2,3) (1,2,3)\n",
    "    # This is, admittedly, far from the fastest way about things\n",
    "    s = tuple(iterable)\n",
    "    return chain.from_iterable(combinations(s, r) for r in range(len(s) + 1))\n",
    "\n",
    "\n",
    "def check_substrings(phrase):\n",
    "    phrase = re.sub('[^a-z]', '', phrase.lower())\n",
    "    substrings = powerset(phrase)\n",
    "    matches = set(''.join(el) for el in substrings).intersection(words)\n",
    "    maxlength = max(map(len, matches))\n",
    "    res = tuple(match for match in matches if len(match) == maxlength)\n",
    "    return res[0] if len(res) == 1 else res\n",
    "\n",
    "inputs = [\n",
    "    'Donald Knuth',\n",
    "    'Alan Turing',\n",
    "    'Claude Shannon',\n",
    "    'Ada Lovelace',\n",
    "    'Haskell Curry',\n",
    "    'Bradley Joseph Solomon',\n",
    "    'Audrey Elizabeth Baker',\n",
    "    'Kevin Stern'\n",
    "    ]"
   ]
  },
  {
   "cell_type": "code",
   "execution_count": 2,
   "metadata": {},
   "outputs": [
    {
     "name": "stdout",
     "output_type": "stream",
     "text": [
      "1.06 s ± 17.3 ms per loop (mean ± std. dev. of 7 runs, 1 loop each)\n"
     ]
    }
   ],
   "source": [
    "def with_itertools():\n",
    "    for i in inputs:\n",
    "        check_substrings(i)\n",
    "        \n",
    "%timeit with_itertools()"
   ]
  },
  {
   "cell_type": "code",
   "execution_count": 3,
   "metadata": {},
   "outputs": [],
   "source": [
    "def substring_positions(phrase, word):\n",
    "    # Assumes phrase is lower() + ascii lowercase only\n",
    "    pos = 0\n",
    "    for w in word:\n",
    "        p = phrase[pos:].index(w) + pos\n",
    "        yield p\n",
    "        pos = p + 1\n",
    "\n",
    "def is_monotonic_incr(obj):\n",
    "    if not obj:\n",
    "        # Handle []\n",
    "        return False\n",
    "    return all(i < j for i, j in zip(obj, obj[1:]))\n",
    "\n",
    "def is_substring(phrase, word):\n",
    "    try:\n",
    "        pos = list(substring_positions(phrase, word))\n",
    "    except:\n",
    "        return False\n",
    "    return is_monotonic_incr(pos)\n",
    "\n",
    "def check_substrings(phrase):\n",
    "    phrase = re.sub('[^a-z]', '', phrase.lower())\n",
    "    matches = []\n",
    "    for w in words:\n",
    "        if is_substring(phrase, w):\n",
    "            matches.append(w)\n",
    "    maxlength = max(map(len, matches))\n",
    "    res = tuple(match for match in matches if len(match) == maxlength)\n",
    "    return res[0] if len(res) == 1 else res"
   ]
  },
  {
   "cell_type": "code",
   "execution_count": 4,
   "metadata": {},
   "outputs": [
    {
     "name": "stdout",
     "output_type": "stream",
     "text": [
      "donut\n",
      "('alanin', 'anting', 'luring')\n",
      "('cannon', 'clades')\n",
      "dolce\n",
      "('slurry', 'scurry', 'skerry')\n",
      "('bradoon', 'blossom', 'braless', 'bassoon', 'balloon', 'josephs')\n",
      "('retaker', 'diether', 'relater', 'drabber', 'aureate', 'eyelike')\n",
      "keister\n"
     ]
    }
   ],
   "source": [
    "for i in inputs:\n",
    "    print(check_substrings(i))"
   ]
  },
  {
   "cell_type": "code",
   "execution_count": 5,
   "metadata": {},
   "outputs": [
    {
     "name": "stdout",
     "output_type": "stream",
     "text": [
      "1.79 s ± 47.1 ms per loop (mean ± std. dev. of 7 runs, 1 loop each)\n"
     ]
    }
   ],
   "source": [
    "def no_itertools():\n",
    "    for i in inputs:\n",
    "        check_substrings(i)\n",
    "        \n",
    "%timeit no_itertools()"
   ]
  },
  {
   "cell_type": "code",
   "execution_count": 6,
   "metadata": {},
   "outputs": [
    {
     "name": "stdout",
     "output_type": "stream",
     "text": [
      "272 ms ± 11.1 ms per loop (mean ± std. dev. of 7 runs, 1 loop each)\n"
     ]
    }
   ],
   "source": [
    "%timeit check_substrings('Alan Turing Jean Claude Vandame')"
   ]
  }
 ],
 "metadata": {
  "kernelspec": {
   "display_name": "Python 3",
   "language": "python",
   "name": "python3"
  },
  "language_info": {
   "codemirror_mode": {
    "name": "ipython",
    "version": 3
   },
   "file_extension": ".py",
   "mimetype": "text/x-python",
   "name": "python",
   "nbconvert_exporter": "python",
   "pygments_lexer": "ipython3",
   "version": "3.6.3"
  }
 },
 "nbformat": 4,
 "nbformat_minor": 2
}
