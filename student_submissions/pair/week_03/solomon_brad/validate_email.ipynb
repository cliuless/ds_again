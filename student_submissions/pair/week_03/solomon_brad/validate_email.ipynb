{
 "cells": [
  {
   "cell_type": "markdown",
   "metadata": {},
   "source": [
    "CodeEval email validation challenge.\n",
    "\n",
    "Link: https://www.codeeval.com/browse/35/"
   ]
  },
  {
   "cell_type": "code",
   "execution_count": 1,
   "metadata": {
    "collapsed": true
   },
   "outputs": [],
   "source": [
    "import re\n",
    "\n",
    "regex = re.compile(r\"^\\\"*[a-z0-9!#$%&'*+/=?^_`{|}~-]+(?:\\.[a-z0-9!#$%&@'*+/=?^_`{|}~-]+)*\\\"*@(?:[a-z0-9](?:[a-z0-9-]*[a-z0-9])?\\.)+[a-z0-9](?:[a-z0-9-]*[a-z0-9])?$\")\n",
    "\n",
    "\n",
    "def validate_email(email):\n",
    "    return bool(regex.match(email))\n",
    "\n",
    "\n",
    "valid = [\n",
    "    'b@d.net',\n",
    "    '1@d.net',\n",
    "    'b@domain.net',\n",
    "    'bob123@alice123.com',\n",
    "    'very.common@example.com',\n",
    "    'niceandsimple@example.com',\n",
    "    'a.little.lengthy.but.fine@dept.example.com',\n",
    "    'disposable.style.email.with+156@example.com',\n",
    "    'disposable.style.email.with+symbol@example.com',\n",
    "    '\"very.unusual.@.unusual.com\"@example.com'\n",
    "    ]\n",
    "\n",
    "invalid = [\n",
    "    'hfij#kjdfvkl',\n",
    "    'Abc.example.com',\n",
    "    'this is not true',\n",
    "    '@foo.com',\n",
    "    'A@b@c@example.com',\n",
    "    'asterisk_domain@foo.*',\n",
    "    'just\"not\"right@example.com',\n",
    "    'this is\"not\\allowed@example.com',\n",
    "    'a\"b(c)d,e:f;gi[j\\k]l@example.com',\n",
    "    'this\\ still\"not\\allowed@example.com'\n",
    "]\n",
    "\n",
    "assert all(validate_email(email) for email in valid)\n",
    "assert sum(validate_email(email) for email in invalid) == 0"
   ]
  }
 ],
 "metadata": {
  "kernelspec": {
   "display_name": "Python 3",
   "language": "python",
   "name": "python3"
  },
  "language_info": {
   "codemirror_mode": {
    "name": "ipython",
    "version": 3
   },
   "file_extension": ".py",
   "mimetype": "text/x-python",
   "name": "python",
   "nbconvert_exporter": "python",
   "pygments_lexer": "ipython3",
   "version": "3.6.3"
  }
 },
 "nbformat": 4,
 "nbformat_minor": 2
}
