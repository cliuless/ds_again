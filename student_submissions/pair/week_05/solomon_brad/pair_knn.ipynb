{
 "cells": [
  {
   "cell_type": "markdown",
   "metadata": {},
   "source": [
    "Write a function that takes three arguments:\n",
    "\n",
    " * A list of lists, `X_train`, where each inner list is of length three and represents the position of a Wookiee in space, along the traditional `x`, `y`, and `z` axes.\n",
    " * A list of strings, `y`, the same length as the outer list `X_train`, where each string represents the color of a Wookiee at the corresponding position.\n",
    " * A list of lists, `X_test`, where each inner list is of length three and represents the position in space of a Wookiee of unknown color.\n",
    "\n",
    "The function should produce a list of strings, the same length as the outer list, representing for each unknown Wookiee the color of the closest known Wookiee."
   ]
  },
  {
   "cell_type": "code",
   "execution_count": 8,
   "metadata": {},
   "outputs": [],
   "source": [
    "import numpy as np\n",
    "\n",
    "def predict(X_train, y_train, X_test):\n",
    "    y_train = np.asarray(y_train)\n",
    "    idx = np.sqrt(np.sum(np.square(np.subtract(\n",
    "        X_test, X_train)), axis=1)).argmin()\n",
    "    return np.atleast_1d(y_train[idx]).tolist()"
   ]
  },
  {
   "cell_type": "code",
   "execution_count": 1,
   "metadata": {},
   "outputs": [],
   "source": [
    "X_train = [[1,   1,  1],\n",
    "           [0,   0,  0],\n",
    "           [-1, -1, -1],\n",
    "           [10, 10, 10]]\n",
    "\n",
    "y_train = ['red',\n",
    "           'white',\n",
    "           'blue',\n",
    "           'chartreuse']\n",
    "\n",
    "X_test = [[1.1, 1.1, 1.1]]"
   ]
  },
  {
   "cell_type": "code",
   "execution_count": 9,
   "metadata": {},
   "outputs": [
    {
     "data": {
      "text/plain": [
       "['red']"
      ]
     },
     "execution_count": 9,
     "metadata": {},
     "output_type": "execute_result"
    }
   ],
   "source": [
    "predict(X_train, y_train, X_test)"
   ]
  },
  {
   "cell_type": "markdown",
   "metadata": {},
   "source": [
    "Notes:\n",
    "- This solution crudely mimics KNN classification with 1 neighbor.\n",
    "- It does not handle ties.  `ndarray.argmin()` finds the occurence of the first minimum.  Using all minimums would require something like `y_train[idx == idx.min()]`"
   ]
  }
 ],
 "metadata": {
  "kernelspec": {
   "display_name": "Python 3",
   "language": "python",
   "name": "python3"
  },
  "language_info": {
   "codemirror_mode": {
    "name": "ipython",
    "version": 3
   },
   "file_extension": ".py",
   "mimetype": "text/x-python",
   "name": "python",
   "nbconvert_exporter": "python",
   "pygments_lexer": "ipython3",
   "version": "3.6.3"
  }
 },
 "nbformat": 4,
 "nbformat_minor": 2
}
