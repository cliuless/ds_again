{
 "cells": [
  {
   "cell_type": "markdown",
   "metadata": {},
   "source": [
    "Write a function that takes in a number between 1 and 100 and tries to guess it.  Based on whether a guess is larger or smaller than the input number, the code would come up with a new guess until it gets it right.\n",
    "\n",
    "```python\n",
    ">>> def guess(13)\n",
    "\"I got it right in 8 tries.\"\n",
    "```"
   ]
  },
  {
   "cell_type": "code",
   "execution_count": 1,
   "metadata": {},
   "outputs": [
    {
     "data": {
      "text/plain": [
       "'Your number is 13; I got it right in 3 tries'"
      ]
     },
     "execution_count": 1,
     "metadata": {},
     "output_type": "execute_result"
    }
   ],
   "source": [
    "def guess(n):\n",
    "    a, b = 1, 100\n",
    "    tries = 1\n",
    "    while True:\n",
    "        mid = int((b - a) / 2 + a)\n",
    "        if n < mid:\n",
    "            b = mid\n",
    "        elif n > mid:\n",
    "            a = mid\n",
    "        else:\n",
    "            return \"Your number is %s; I got it right in %s tries\" % (n, tries)\n",
    "        tries += 1\n",
    "\n",
    "guess(13)"
   ]
  },
  {
   "cell_type": "markdown",
   "metadata": {},
   "source": [
    "[Project Euler](https://projecteuler.net/) is a site with a lot of problems you can solve.\n",
    "\n",
    "The following is [Problem 8](https://projecteuler.net/problem=8):\n",
    "\n",
    "> The four adjacent digits in the 1000-digit number that have the greatest product are 9 × 9 × 8 × 9 = 5832.\n",
    "\n",
    "```\n",
    "73167176531330624919225119674426574742355349194934\n",
    "96983520312774506326239578318016984801869478851843\n",
    "85861560789112949495459501737958331952853208805511\n",
    "12540698747158523863050715693290963295227443043557\n",
    "66896648950445244523161731856403098711121722383113\n",
    "62229893423380308135336276614282806444486645238749\n",
    "30358907296290491560440772390713810515859307960866\n",
    "70172427121883998797908792274921901699720888093776\n",
    "65727333001053367881220235421809751254540594752243\n",
    "52584907711670556013604839586446706324415722155397\n",
    "53697817977846174064955149290862569321978468622482\n",
    "83972241375657056057490261407972968652414535100474\n",
    "82166370484403199890008895243450658541227588666881\n",
    "16427171479924442928230863465674813919123162824586\n",
    "17866458359124566529476545682848912883142607690042\n",
    "24219022671055626321111109370544217506941658960408\n",
    "07198403850962455444362981230987879927244284909188\n",
    "84580156166097919133875499200524063689912560717606\n",
    "05886116467109405077541002256983155200055935729725\n",
    "71636269561882670428252483600823257530420752963450\n",
    "```\n",
    "\n",
    "Find the thirteen adjacent digits in the 1000-digit number that have the greatest product. What is the value of this product?"
   ]
  },
  {
   "cell_type": "code",
   "execution_count": 5,
   "metadata": {},
   "outputs": [],
   "source": [
    "from itertools import islice\n",
    "import numpy as np\n",
    "\n",
    "def window(seq, n):\n",
    "    \"\"\"From itertools' docs recipes.\"\"\"\n",
    "    it = iter(seq)\n",
    "    result = tuple(islice(it, n))\n",
    "    if len(result) == n:\n",
    "        yield result\n",
    "    for elem in it:\n",
    "        result = result[1:] + (elem,)\n",
    "        yield result\n",
    "\n",
    "\n",
    "def max_product(numstring, ndigits):\n",
    "    blocks = window(numstring, n=ndigits)\n",
    "    combos = np.array(list(window(numstring, ndigits))).astype(np.int8)\n",
    "    return combos.prod(axis=1).max()"
   ]
  },
  {
   "cell_type": "code",
   "execution_count": 6,
   "metadata": {},
   "outputs": [],
   "source": [
    "s = ('73167176531330624919225119674426574742355349194934'\n",
    "     '96983520312774506326239578318016984801869478851843'\n",
    "     '85861560789112949495459501737958331952853208805511'\n",
    "     '12540698747158523863050715693290963295227443043557'\n",
    "     '66896648950445244523161731856403098711121722383113'\n",
    "     '62229893423380308135336276614282806444486645238749'\n",
    "     '30358907296290491560440772390713810515859307960866'\n",
    "     '70172427121883998797908792274921901699720888093776'\n",
    "     '65727333001053367881220235421809751254540594752243'\n",
    "     '52584907711670556013604839586446706324415722155397'\n",
    "     '53697817977846174064955149290862569321978468622482'\n",
    "     '83972241375657056057490261407972968652414535100474'\n",
    "     '82166370484403199890008895243450658541227588666881'\n",
    "     '16427171479924442928230863465674813919123162824586'\n",
    "     '17866458359124566529476545682848912883142607690042'\n",
    "     '24219022671055626321111109370544217506941658960408'\n",
    "     '07198403850962455444362981230987879927244284909188'\n",
    "     '84580156166097919133875499200524063689912560717606'\n",
    "     '05886116467109405077541002256983155200055935729725'\n",
    "     '71636269561882670428252483600823257530420752963450'\n",
    "     )"
   ]
  },
  {
   "cell_type": "code",
   "execution_count": 7,
   "metadata": {},
   "outputs": [
    {
     "data": {
      "text/plain": [
       "23514624000"
      ]
     },
     "execution_count": 7,
     "metadata": {},
     "output_type": "execute_result"
    }
   ],
   "source": [
    "max_product(s, 13)"
   ]
  }
 ],
 "metadata": {
  "kernelspec": {
   "display_name": "Python 3",
   "language": "python",
   "name": "python3"
  },
  "language_info": {
   "codemirror_mode": {
    "name": "ipython",
    "version": 3
   },
   "file_extension": ".py",
   "mimetype": "text/x-python",
   "name": "python",
   "nbconvert_exporter": "python",
   "pygments_lexer": "ipython3",
   "version": "3.6.3"
  }
 },
 "nbformat": 4,
 "nbformat_minor": 2
}
