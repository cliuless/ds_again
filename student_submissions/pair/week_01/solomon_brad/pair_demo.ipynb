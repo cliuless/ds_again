{
 "cells": [
  {
   "cell_type": "markdown",
   "metadata": {},
   "source": [
    "The first problem is to determine a schedule of pairings so that everyone has a pair every day, and everyone eventually pairs with everyone else.\n",
    "\n",
    "Write a function that takes a list of names and returns a list of lists of tuples representing pairs. (Assume an even number of names, all distinct.) For example:\n",
    "\n",
    "```python\n",
    ">>> pairs_for(['Andrea', 'Bob', 'Cassandra', 'Doug'])\n",
    "# [[('Bob', 'Cassandra'), ('Andrea', 'Doug')],\n",
    "#  [('Andrea', 'Bob'), ('Cassandra', 'Doug')],\n",
    "#  [('Andrea', 'Cassandra'), ('Bob', 'Doug')]]\n",
    "```"
   ]
  },
  {
   "cell_type": "code",
   "execution_count": 28,
   "metadata": {},
   "outputs": [
    {
     "data": {
      "text/plain": [
       "[[('Bob', 'Brad'), ('Cassandra', 'Andrea'), ('Stephanie', 'Doug')],\n",
       " [('Andrea', 'Doug'), ('Bob', 'Brad'), ('Stephanie', 'Cassandra')],\n",
       " [('Andrea', 'Cassandra'), ('Brad', 'Doug'), ('Stephanie', 'Bob')],\n",
       " [('Andrea', 'Bob'), ('Doug', 'Cassandra'), ('Stephanie', 'Brad')],\n",
       " [('Andrea', 'Brad'), ('Cassandra', 'Bob'), ('Doug', 'Stephanie')],\n",
       " [('Andrea', 'Stephanie'), ('Brad', 'Bob'), ('Doug', 'Cassandra')],\n",
       " [('Bob', 'Andrea'), ('Cassandra', 'Brad'), ('Stephanie', 'Doug')],\n",
       " [('Bob', 'Andrea'), ('Cassandra', 'Brad'), ('Stephanie', 'Doug')],\n",
       " [('Andrea', 'Doug'), ('Cassandra', 'Brad'), ('Stephanie', 'Bob')],\n",
       " [('Andrea', 'Bob'), ('Cassandra', 'Brad'), ('Doug', 'Stephanie')]]"
      ]
     },
     "execution_count": 28,
     "metadata": {},
     "output_type": "execute_result"
    }
   ],
   "source": [
    "from itertools import zip_longest, repeat\n",
    "import numpy as np\n",
    "\n",
    "\n",
    "def grouper(iterable, n, fillvalue=None):\n",
    "    # grouper('ABCDEFG', 3, 'x') --> ABC DEF Gxx\"\n",
    "    args = [iter(iterable)] * n\n",
    "    return zip_longest(*args, fillvalue=fillvalue)\n",
    "\n",
    "def _pairs_for(names, days=1):\n",
    "    arr = np.asarray(names)\n",
    "    for _ in repeat(None, days):\n",
    "        np.random.shuffle(names)\n",
    "        yield sorted(grouper(names, 2))\n",
    "        \n",
    "def pairs_for(names, days=1):\n",
    "    return list(_pairs_for(names=names, days=days))\n",
    "\n",
    "# Note: we're intentionally striving for quasi-random\n",
    "#     ordering from day-to-day.\n",
    "pairs_for(['Andrea', 'Bob', 'Cassandra', 'Doug', 'Brad', 'Stephanie'], days=10)"
   ]
  },
  {
   "cell_type": "markdown",
   "metadata": {},
   "source": [
    "Alternatively, \"paying attention to\" order:"
   ]
  },
  {
   "cell_type": "code",
   "execution_count": 29,
   "metadata": {},
   "outputs": [],
   "source": [
    "from itertools import combinations\n",
    "\n",
    "def pairs_for(names):\n",
    "    c = tuple(combinations(names, 2))\n",
    "    i = 0\n",
    "    allpairs = []\n",
    "    while i < len(c):\n",
    "        pair = c[i]\n",
    "        pairs = [pair] + [other for other in c[i+1:] if not set(pair).intersection(set(other))]\n",
    "        if len(pairs) > 1:\n",
    "            yield pairs\n",
    "        i += 1"
   ]
  },
  {
   "cell_type": "code",
   "execution_count": 30,
   "metadata": {},
   "outputs": [
    {
     "data": {
      "text/plain": [
       "[[('Andrea', 'Bob'), ('Cassandra', 'Doug')],\n",
       " [('Andrea', 'Cassandra'), ('Bob', 'Doug')],\n",
       " [('Andrea', 'Doug'), ('Bob', 'Cassandra')]]"
      ]
     },
     "execution_count": 30,
     "metadata": {},
     "output_type": "execute_result"
    }
   ],
   "source": [
    "list(pairs_for(['Andrea', 'Bob', 'Cassandra', 'Doug']))"
   ]
  }
 ],
 "metadata": {
  "kernelspec": {
   "display_name": "Python 3",
   "language": "python",
   "name": "python3"
  },
  "language_info": {
   "codemirror_mode": {
    "name": "ipython",
    "version": 3
   },
   "file_extension": ".py",
   "mimetype": "text/x-python",
   "name": "python",
   "nbconvert_exporter": "python",
   "pygments_lexer": "ipython3",
   "version": "3.6.3"
  }
 },
 "nbformat": 4,
 "nbformat_minor": 2
}
