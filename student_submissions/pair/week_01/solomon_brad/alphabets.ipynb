{
 "cells": [
  {
   "cell_type": "markdown",
   "metadata": {},
   "source": [
    "Given a string, write a function to reverse it. "
   ]
  },
  {
   "cell_type": "code",
   "execution_count": 1,
   "metadata": {},
   "outputs": [
    {
     "data": {
      "text/plain": [
       "'fedcba'"
      ]
     },
     "execution_count": 1,
     "metadata": {},
     "output_type": "execute_result"
    }
   ],
   "source": [
    "def reverse_string(s: str):\n",
    "    return s[::-1]\n",
    "\n",
    "reverse_string('abcdef')"
   ]
  },
  {
   "cell_type": "markdown",
   "metadata": {},
   "source": [
    "Sal's classroom has a bag of alphabet magnets. She wants to know if she can spell her friend's name using the letters in the bag. Write a function that will take a list of letters and a name and print out yes if the name can be spelled and no otherwise."
   ]
  },
  {
   "cell_type": "code",
   "execution_count": 9,
   "metadata": {},
   "outputs": [
    {
     "name": "stdout",
     "output_type": "stream",
     "text": [
      "yes\n",
      "no\n"
     ]
    }
   ],
   "source": [
    "def can_you_spell(bag, name):\n",
    "    if ''.join(sorted([i for i in bag if i in name], key=name.index)) == name:\n",
    "        print('yes')\n",
    "    else:\n",
    "        print('no')\n",
    "    \n",
    "can_you_spell(['y','n','p','g','n','l'],\"lynn\")\n",
    "can_you_spell(['y','n','p','g','l'],\"lynn\")"
   ]
  }
 ],
 "metadata": {
  "kernelspec": {
   "display_name": "Python 3",
   "language": "python",
   "name": "python3"
  },
  "language_info": {
   "codemirror_mode": {
    "name": "ipython",
    "version": 3
   },
   "file_extension": ".py",
   "mimetype": "text/x-python",
   "name": "python",
   "nbconvert_exporter": "python",
   "pygments_lexer": "ipython3",
   "version": "3.6.3"
  }
 },
 "nbformat": 4,
 "nbformat_minor": 2
}
