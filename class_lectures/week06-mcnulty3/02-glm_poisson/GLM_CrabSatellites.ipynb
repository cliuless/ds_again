{
 "cells": [
  {
   "cell_type": "markdown",
   "metadata": {},
   "source": [
    "# Poisson GLM: Horseshoe Crab Mating Example\n",
    "\n",
    "Study of nesting horseshoe crabs: each female horseshoe crab had a male crab resident in her nest. The study investigated factors affecting whether the female crab had any other males, called satellites, residing nearby, and if so, how many. The factors included the female crab's color, spine condition, weight, and carapace width.\n",
    "\n",
    "From Alan Agresti, *Categorical Data Analysis,* Second Edition, Wiley, 2002, pg. 126 (https://mathdept.iut.ac.ir/sites/mathdept.iut.ac.ir/files/AGRESTI.PDF)."
   ]
  },
  {
   "cell_type": "code",
   "execution_count": 1,
   "metadata": {},
   "outputs": [
    {
     "name": "stderr",
     "output_type": "stream",
     "text": [
      "/Users/julialintern/anaconda/envs/mypython3/lib/python3.6/site-packages/statsmodels/compat/pandas.py:56: FutureWarning: The pandas.core.datetools module is deprecated and will be removed in a future version. Please use the pandas.tseries module instead.\n",
      "  from pandas.core import datetools\n"
     ]
    }
   ],
   "source": [
    "'''\n",
    "Imports\n",
    "'''\n",
    "import numpy as np\n",
    "import pandas as pd\n",
    "import matplotlib.pyplot as plt\n",
    "import statsmodels.api as sm\n",
    "import statsmodels.formula.api as smf\n",
    "\n",
    "%matplotlib inline"
   ]
  },
  {
   "cell_type": "code",
   "execution_count": 2,
   "metadata": {},
   "outputs": [
    {
     "name": "stdout",
     "output_type": "stream",
     "text": [
      "  Color Spine  Width  Weight  Satellites\n",
      "0     2     3   28.3    3.05           8\n",
      "1     3     3   26.0    2.60           4\n",
      "2     3     3   25.6    2.15           0\n",
      "3     4     2   21.0    1.85           0\n",
      "4     2     3   29.0    3.00           1\n",
      "\n",
      "\n",
      "            Width      Weight  Satellites\n",
      "count  173.000000  173.000000  173.000000\n",
      "mean    26.298844    2.437225    2.919075\n",
      "std      2.109061    0.577255    3.148336\n",
      "min     21.000000    1.200000    0.000000\n",
      "25%     24.900000    2.000000    0.000000\n",
      "50%     26.100000    2.350000    2.000000\n",
      "75%     27.700000    2.850000    5.000000\n",
      "max     33.500000    5.200000   15.000000\n"
     ]
    }
   ],
   "source": [
    "'''\n",
    "Read in input file into Pandas dataframe. The columns have the following meaning:\n",
    "1. Color: 1 (light medium), 2 (medium), 3 (dark medium), 4 (dark)\n",
    "2. Spine condition: 1 (both good), 2 (one worn or broken), 3 (both worn or broken)\n",
    "3. Carapace width: in cm\n",
    "4. Weight: in kg\n",
    "5. Number of satellites\n",
    "'''\n",
    "df0 = pd.read_csv('CrabSatellites.ssv', sep='\\s+', header=None, names=['Color', 'Spine', 'Width', 'Weight', 'Satellites'])\n",
    "df0['Color'] = df0['Color'].astype('category')\n",
    "df0['Spine'] = df0['Spine'].astype('category')\n",
    "print (df0.head())\n",
    "print('\\n')\n",
    "print (df0.describe())"
   ]
  },
  {
   "cell_type": "code",
   "execution_count": 3,
   "metadata": {},
   "outputs": [
    {
     "name": "stdout",
     "output_type": "stream",
     "text": [
      "<class 'pandas.core.frame.DataFrame'>\n",
      "RangeIndex: 173 entries, 0 to 172\n",
      "Data columns (total 5 columns):\n",
      "Color         173 non-null category\n",
      "Spine         173 non-null category\n",
      "Width         173 non-null float64\n",
      "Weight        173 non-null float64\n",
      "Satellites    173 non-null int64\n",
      "dtypes: category(2), float64(2), int64(1)\n",
      "memory usage: 4.8 KB\n"
     ]
    }
   ],
   "source": [
    "df0.info()"
   ]
  },
  {
   "cell_type": "code",
   "execution_count": 8,
   "metadata": {},
   "outputs": [],
   "source": []
  },
  {
   "cell_type": "code",
   "execution_count": 11,
   "metadata": {},
   "outputs": [
    {
     "data": {
      "image/png": "[encoded data removed]",
      "text/plain": [
       "<matplotlib.figure.Figure at 0x11b7f6f98>"
      ]
     },
     "metadata": {},
     "output_type": "display_data"
    }
   ],
   "source": [
    "'''\n",
    "Plot number of satellites versus carapace width.\n",
    "'''\n",
    "fig, ax = plt.subplots(nrows=1, ncols=2, figsize=(14,6))\n",
    "ax[0].scatter(df0.Width, df0.Satellites, alpha=0.2)\n",
    "ax[0].set_xlabel('Carapace Width (cm)', fontsize=15)\n",
    "ax[0].set_ylabel('Number of Satellites', fontsize=15)\n",
    "\n",
    "bins = np.linspace(23.25, 29.25, 7)\n",
    "# digitize ~ Return the indices of the bins to which each value in input array belongs\n",
    "df0['bin'] = np.digitize(df0.Width, bins=bins)\n",
    "bingroups = df0.groupby('bin')\n",
    "widths = bingroups['Width'].agg(['mean', 'sem']) #  sem ~ std error of mean\n",
    "satels = bingroups['Satellites'].agg(['mean', 'sem'])\n",
    "xval = widths.iloc[:,0]\n",
    "xerr = widths.iloc[:,1]\n",
    "yval = satels.iloc[:,0]\n",
    "yerr = satels.iloc[:,1]\n",
    "ax[1].errorbar(x=xval, y=yval, yerr=yerr, xerr=xerr, linestyle='none')\n",
    "ax[1].set_xlabel('Mean Carapace Width in Bins (cm)', fontsize=15)\n",
    "ax[1].set_ylabel('Mean Number of Satellites', fontsize=15)\n",
    "\n",
    "plt.show()"
   ]
  },
  {
   "cell_type": "code",
   "execution_count": 16,
   "metadata": {},
   "outputs": [
    {
     "name": "stdout",
     "output_type": "stream",
     "text": [
      "                 Generalized Linear Model Regression Results                  \n",
      "==============================================================================\n",
      "Dep. Variable:             Satellites   No. Observations:                  173\n",
      "Model:                            GLM   Df Residuals:                      171\n",
      "Model Family:                 Poisson   Df Model:                            1\n",
      "Link Function:                    log   Scale:                             1.0\n",
      "Method:                          IRLS   Log-Likelihood:                -461.59\n",
      "Date:                Tue, 13 Feb 2018   Deviance:                       567.88\n",
      "Time:                        07:53:59   Pearson chi2:                     544.\n",
      "No. Iterations:                     5                                         \n",
      "==============================================================================\n",
      "                 coef    std err          z      P>|z|      [0.025      0.975]\n",
      "------------------------------------------------------------------------------\n",
      "Intercept     -3.3048      0.542     -6.095      0.000      -4.368      -2.242\n",
      "Width          0.1640      0.020      8.216      0.000       0.125       0.203\n",
      "==============================================================================\n"
     ]
    }
   ],
   "source": [
    "'''\n",
    "Fit a Poisson GLM model. For now we consider a single predictor, the carapace width,\n",
    "and wish to predict the number of satellites.\n",
    "The link function below uses sm.families.links.log, but one could also try sm.families.links.identity.\n",
    "'''\n",
    "formula = 'Satellites ~ Width'\n",
    "PoissonModel = smf.glm(formula=formula, data=df0, family=sm.families.Poisson(link=sm.families.links.log))\n",
    "PoissonResults = PoissonModel.fit()\n",
    "print (PoissonResults.summary())"
   ]
  },
  {
   "cell_type": "markdown",
   "metadata": {},
   "source": [
    "### Interpretation of the results:\n",
    "\n",
    "- For the log link: $\\mu = \\exp(-3.30 + 0.16*x) = 0.037*(1.18)^{x}$. If the carapace width increases by 1 cm, the estimated mean number of satellites increases by 18%.\n",
    "\n",
    "- For the identity link: $\\mu = -11.53 + 0.55*x$. If the carapace width increases by 1 cm, the estimated mean number of satellites increases by 0.55. A ~2cm increase in width is associated with an extra satellite.\n",
    "\n",
    "- Note however that the deviance of the fit is not very good: more than 500, for 171 degrees of freedom. More on this later."
   ]
  },
  {
   "cell_type": "code",
   "execution_count": 5,
   "metadata": {
    "scrolled": false
   },
   "outputs": [
    {
     "data": {
      "image/png": "[encoded data removed]",
      "text/plain": [
       "<matplotlib.figure.Figure at 0x109a630d0>"
      ]
     },
     "metadata": {},
     "output_type": "display_data"
    }
   ],
   "source": [
    "'''\n",
    "Superimpose fit results on data points.\n",
    "'''\n",
    "fig, ax = plt.subplots(nrows=1, ncols=1, figsize=(6,6))\n",
    "ax.errorbar(x=xval, y=yval, yerr=yerr, xerr=xerr, linestyle='none')\n",
    "idfit = -11.5318 + 0.5495*np.array(xval)\n",
    "logfit = np.exp(-3.3048 + 0.1640*np.array(xval))\n",
    "ax.plot(xval, idfit, label='Identity link')\n",
    "ax.plot(xval, logfit, label='Log link')\n",
    "ax.set_xlabel('Mean Carapace Width in Bins (cm)', fontsize=15)\n",
    "ax.set_ylabel('Mean Number of Satellites', fontsize=15)\n",
    "ax.legend(prop={'size': 15}, loc=\"upper left\")\n",
    "plt.show()"
   ]
  },
  {
   "cell_type": "markdown",
   "metadata": {},
   "source": [
    "- The fit looks good for both link functions. \n",
    "- As noted before however, the deviance is large. \n",
    "- The large deviance could indicate that the proposed model (Poisson) is incorrect, or that there is overdispersion. Let's check the latter first."
   ]
  },
  {
   "cell_type": "code",
   "execution_count": 6,
   "metadata": {},
   "outputs": [
    {
     "name": "stdout",
     "output_type": "stream",
     "text": [
      "     count  sum      mean        var\n",
      "bin                                 \n",
      "0       14   14  1.000000   2.769231\n",
      "1       14   20  1.428571   8.879121\n",
      "2       28   67  2.392857   6.543651\n",
      "3       39  105  2.692308  11.376518\n",
      "4       22   63  2.863636   6.885281\n",
      "5       24   93  3.875000   8.809783\n",
      "6       18   71  3.944444  16.879085\n",
      "7       14   72  5.142857   8.285714\n"
     ]
    }
   ],
   "source": [
    "'''\n",
    "Check for overdispersion.\n",
    "'''\n",
    "satels4 = bingroups['Satellites'].agg(['count', 'sum', 'mean', 'var'])\n",
    "print satels4"
   ]
  },
  {
   "cell_type": "markdown",
   "metadata": {},
   "source": [
    "Note how the variance is quite a bit larger than the mean. For Poisson counts, mean and variance should be equal. This non-Poisson behavior is called **overdispersion**. Possible causes include:\n",
    "- **Missing Features**: We only used carapace width to predict the number of satellites in our model. Maybe the number of satellites is Poisson distributed at each fixed combination of width, weigth, spine condition, color, and perhaps some other features we didn't think about. By using only one predictor out of four or more, we caused the response variable to be a mixture of Poisson populations, each with its own mean.\n",
    "- **The True Model Is Not Poisson**: Another possible model is the negative binomial, which has an extra parameter to model variability.\n",
    "\n",
    "\n",
    "One way to fix overdispersion is to try a different model, one with an additional parameter to allow modeling of variability. A good candidate for the case at hand is the negative binomial GLM. The negative binomial distribution has probability mass function:\n",
    "\n",
    "[neg binomial](https://en.wikipedia.org/wiki/Negative_binomial_distribution)\n",
    "where negative binomial distribution is the # of trials needed to get some # of successes\n",
    "\n",
    "The mean and variance of the negative binomial distribution are given by:\n",
    "\\begin{equation}\n",
    "{\\rm E}(Y) = \\mu\\quad\\textrm{ and }\\quad {\\rm Var}(Y) = \\mu + \\frac{\\mu^{2}}{k}.\n",
    "\\end{equation}\n",
    "Note that mean and variance are not in a one-to-one relationship since the variance involves the new parameter $k$. For large $k$ we recover the Poisson distribution (where variance equals mean)."
   ]
  },
  {
   "cell_type": "code",
   "execution_count": 7,
   "metadata": {},
   "outputs": [
    {
     "name": "stdout",
     "output_type": "stream",
     "text": [
      "                 Generalized Linear Model Regression Results                  \n",
      "==============================================================================\n",
      "Dep. Variable:             Satellites   No. Observations:                  173\n",
      "Model:                            GLM   Df Residuals:                      171\n",
      "Model Family:        NegativeBinomial   Df Model:                            1\n",
      "Link Function:                    log   Scale:                  0.908134006754\n",
      "Method:                          IRLS   Log-Likelihood:                -375.80\n",
      "Date:                Wed, 02 Aug 2017   Deviance:                       206.41\n",
      "Time:                        17:38:13   Pearson chi2:                     155.\n",
      "No. Iterations:                     8                                         \n",
      "==============================================================================\n",
      "                 coef    std err          z      P>|z|      [95.0% Conf. Int.]\n",
      "------------------------------------------------------------------------------\n",
      "Intercept     -4.0323      1.076     -3.749      0.000        -6.140    -1.924\n",
      "Width          0.1913      0.040      4.732      0.000         0.112     0.271\n",
      "==============================================================================\n"
     ]
    }
   ],
   "source": [
    "'''\n",
    "Fit a negative binomial GLM.\n",
    "The parameter alpha in the glm call below corresponds to 1/k in the formula for the negative\n",
    "binomial distribution.\n",
    "Try playing around with the link function (log or identity) and alpha values (from 0.1 to 2.0).\n",
    "'''\n",
    "formula = 'Satellites ~ Width'\n",
    "NegBinModel = smf.glm(formula=formula, data=df0, \n",
    "                      family=sm.families.NegativeBinomial(link=sm.families.links.log, alpha=1.0))\n",
    "NegBinResults = NegBinModel.fit()\n",
    "print NegBinResults.summary()"
   ]
  },
  {
   "cell_type": "markdown",
   "metadata": {},
   "source": [
    "The deviance is significantly better for the negative binomial model! Note that the standard errors on the coefficients have doubled compared to the results of the Poisson GLM. The coefficients themselves have changed much less."
   ]
  },
  {
   "cell_type": "code",
   "execution_count": 8,
   "metadata": {},
   "outputs": [
    {
     "name": "stdout",
     "output_type": "stream",
     "text": [
      "                 Generalized Linear Model Regression Results                  \n",
      "==============================================================================\n",
      "Dep. Variable:             Satellites   No. Observations:                  173\n",
      "Model:                            GLM   Df Residuals:                      165\n",
      "Model Family:                 Poisson   Df Model:                            7\n",
      "Link Function:                    log   Scale:                             1.0\n",
      "Method:                          IRLS   Log-Likelihood:                -452.43\n",
      "Date:                Wed, 02 Aug 2017   Deviance:                       549.56\n",
      "Time:                        17:38:29   Pearson chi2:                     534.\n",
      "No. Iterations:                     8                                         \n",
      "==============================================================================\n",
      "                 coef    std err          z      P>|z|      [95.0% Conf. Int.]\n",
      "------------------------------------------------------------------------------\n",
      "Intercept     -0.3572      0.967     -0.369      0.712        -2.253     1.538\n",
      "Color[T.2]    -0.2649      0.168     -1.576      0.115        -0.594     0.065\n",
      "Color[T.3]    -0.5137      0.195     -2.630      0.009        -0.897    -0.131\n",
      "Color[T.4]    -0.5313      0.227     -2.341      0.019        -0.976    -0.087\n",
      "Spine[T.2]    -0.1504      0.214     -0.704      0.481        -0.569     0.268\n",
      "Spine[T.3]     0.0874      0.120      0.729      0.466        -0.148     0.322\n",
      "Width          0.0165      0.049      0.337      0.736        -0.079     0.112\n",
      "Weight         0.4971      0.166      2.990      0.003         0.171     0.823\n",
      "==============================================================================\n"
     ]
    }
   ],
   "source": [
    "'''\n",
    "Fit a Poisson GLM model to all the predictors\n",
    "'''\n",
    "formula = 'Satellites ~ Color+Spine+Width+Weight'\n",
    "PoissonModel = smf.glm(formula=formula, data=df0, family=sm.families.Poisson(link=sm.families.links.log))\n",
    "PoissonResults = PoissonModel.fit()\n",
    "print PoissonResults.summary()"
   ]
  },
  {
   "cell_type": "markdown",
   "metadata": {},
   "source": [
    "Including all four predictors has not improved the deviance. In fact, the spine condition appears to be useless as predictor, and width is also useless in the presence of weight. Intuitively it is clear that width and weight must be strongly correlated. \n",
    "\n",
    "In conclusion, adding missing features has not improved this model, but changing from Poisson to negative binomial has."
   ]
  },
  {
   "cell_type": "code",
   "execution_count": null,
   "metadata": {
    "collapsed": true
   },
   "outputs": [],
   "source": []
  }
 ],
 "metadata": {
  "kernelspec": {
   "display_name": "Python 3",
   "language": "python",
   "name": "python3"
  },
  "language_info": {
   "codemirror_mode": {
    "name": "ipython",
    "version": 3
   },
   "file_extension": ".py",
   "mimetype": "text/x-python",
   "name": "python",
   "nbconvert_exporter": "python",
   "pygments_lexer": "ipython3",
   "version": "3.6.1"
  }
 },
 "nbformat": 4,
 "nbformat_minor": 2
}
