{
 "cells": [
  {
   "cell_type": "code",
   "execution_count": null,
   "metadata": {
    "collapsed": true
   },
   "outputs": [],
   "source": [
    "import flask\n",
    "import numpy as np\n",
    "import pandas as pd\n",
    "from copy import deepcopy\n",
    "\n",
    "# Initialize the app\n",
    "app = flask.Flask(__name__)\n",
    "\n",
    "@app.route(\"/\")\n",
    "def viz_page():\n",
    "    with open(\"pair_solution2.html\", 'r') as viz_file:\n",
    "        return viz_file.read()\n",
    "\n",
    "@app.route(\"/gof\", methods=[\"POST\"])\n",
    "def score():\n",
    "    \"\"\"\n",
    "    When A POST request with json data is made to this url,\n",
    "    Read the grid from the json, update and send it back\n",
    "    \"\"\"\n",
    "    data = flask.request.json\n",
    "    a = data['grid']\n",
    "    n = int(len(a)**0.5)\n",
    "    change = 0\n",
    "    b = a[:]\n",
    "    for i in range(1,n-1):\n",
    "        for j in range(1,n-1):\n",
    "            count=b[(i-1)*n+j]+b[(i+1)*n+j]+b[(i-1)*n+j-1]+b[(i+1)*n+j-1]+b[(i-1)*n+j+1]+b[(i+1)*n+j+1]+b[i*n+j-1]+b[i*n+j+1]\n",
    "            if b[i*n+j]:\n",
    "                if count<2 or count>3:\n",
    "                    a[i*n+j]=0\n",
    "                    change=1\n",
    "            else:\n",
    "                if count==3:\n",
    "                    a[i*n+j]=1\n",
    "                    change=1\n",
    "    return flask.jsonify({'grid': a, 'change': change})"
   ]
  },
  {
   "cell_type": "code",
   "execution_count": null,
   "metadata": {
    "collapsed": false
   },
   "outputs": [],
   "source": [
    "#--------- RUN WEB APP SERVER ------------#\n",
    "\n",
    "# Start the app server on port 80\n",
    "# (The default website port)\n",
    "app.run(host='0.0.0.0', port=5000)"
   ]
  },
  {
   "cell_type": "code",
   "execution_count": null,
   "metadata": {
    "collapsed": true
   },
   "outputs": [],
   "source": []
  }
 ],
 "metadata": {
  "kernelspec": {
   "display_name": "Python 2",
   "language": "python",
   "name": "python2"
  },
  "language_info": {
   "codemirror_mode": {
    "name": "ipython",
    "version": 2
   },
   "file_extension": ".py",
   "mimetype": "text/x-python",
   "name": "python",
   "nbconvert_exporter": "python",
   "pygments_lexer": "ipython2",
   "version": "2.7.13"
  }
 },
 "nbformat": 4,
 "nbformat_minor": 2
}
