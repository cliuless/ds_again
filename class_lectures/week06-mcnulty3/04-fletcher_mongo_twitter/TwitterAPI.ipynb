{
 "cells": [
  {
   "cell_type": "markdown",
   "metadata": {},
   "source": [
    "# Twitter API"
   ]
  },
  {
   "cell_type": "markdown",
   "metadata": {},
   "source": [
    "## Lecture Notes"
   ]
  },
  {
   "cell_type": "markdown",
   "metadata": {},
   "source": [
    "#####Why Twitter ?\n",
    "\n",
    "\n",
    "\"While physics and math may tell us how the universe began, they are not much use in predicting Human Behavior because there are far too many Equations to Solve\" \n",
    "    \n",
    "    -Stephan Hawking\n",
    "    "
   ]
  },
  {
   "cell_type": "markdown",
   "metadata": {},
   "source": [
    "#### Rest API vs Streaming API: \n",
    "\n",
    "\n",
    "REST:  \n",
    "    - Query user accounts using OAuth\n",
    "    - Allows you to access 'historical' tweets\n",
    "\n",
    "STREAM: \n",
    "    - Essentially long-running request (left Open) using OAuth\n",
    "    - Access realtime stream of data\n",
    "       "
   ]
  },
  {
   "cell_type": "markdown",
   "metadata": {},
   "source": [
    "#### Rest API"
   ]
  },
  {
   "cell_type": "code",
   "execution_count": 3,
   "metadata": {},
   "outputs": [],
   "source": [
    "from __future__ import print_function\n",
    "import pandas as pd"
   ]
  },
  {
   "cell_type": "code",
   "execution_count": 4,
   "metadata": {},
   "outputs": [],
   "source": [
    "# # pip install requests_oauthlib\n",
    "import requests\n",
    "from requests_oauthlib import OAuth1\n",
    "\n",
    "#OAuth ~ simple way to to publish & interact with data"
   ]
  },
  {
   "cell_type": "code",
   "execution_count": null,
   "metadata": {
    "collapsed": true
   },
   "outputs": [],
   "source": [
    "# Importing our Config\n",
    "#pip install cnfg\n"
   ]
  },
  {
   "cell_type": "markdown",
   "metadata": {},
   "source": [
    "- Create a .twitter_config file\n",
    "- Update your keys & tokens \n",
    "- Move .twitter_config to your home directory\n",
    "\n",
    "{\n",
    " \"consumer_key\": \"###############\",     \n",
    " \"consumer_secret\": \"###############\",     \n",
    " \"access_token\": \"###############\",     \n",
    " \"access_token_secret\": \"###############\",\n",
    "}"
   ]
  },
  {
   "cell_type": "code",
   "execution_count": 5,
   "metadata": {},
   "outputs": [],
   "source": [
    "import cnfg\n",
    "config = cnfg.load(\".twitter_config\")\n",
    "\n",
    "oauth = OAuth1(config[\"consumer_key\"],\n",
    "               config[\"consumer_secret\"],\n",
    "               config[\"access_token\"],\n",
    "               config[\"access_token_secret\"])"
   ]
  },
  {
   "cell_type": "code",
   "execution_count": 6,
   "metadata": {},
   "outputs": [
    {
     "name": "stdout",
     "output_type": "stream",
     "text": [
      "created_at\n",
      "id\n",
      "id_str\n",
      "text\n",
      "truncated\n",
      "entities\n",
      "source\n",
      "in_reply_to_status_id\n",
      "in_reply_to_status_id_str\n",
      "in_reply_to_user_id\n",
      "in_reply_to_user_id_str\n",
      "in_reply_to_screen_name\n",
      "user\n",
      "geo\n",
      "coordinates\n",
      "place\n",
      "contributors\n",
      "is_quote_status\n",
      "retweet_count\n",
      "favorite_count\n",
      "favorited\n",
      "retweeted\n",
      "possibly_sensitive\n",
      "lang\n"
     ]
    }
   ],
   "source": [
    "response = requests.get(\"https://api.twitter.com/1.1/statuses/user_timeline.json\",\n",
    "                        auth=oauth)\n",
    "\n",
    "tweets = response.json()\n",
    "\n",
    "for key in tweets[0].keys():\n",
    "    print(key)\n",
    "    "
   ]
  },
  {
   "cell_type": "code",
   "execution_count": 7,
   "metadata": {},
   "outputs": [
    {
     "name": "stdout",
     "output_type": "stream",
     "text": [
      "Heading to  #stratadata nyc?  Please join me for a deep dive into deep learning - the class is  filling up quickly!  https://t.co/12w8LduT85\n",
      "Heading to Strata NYC?  Looking foward to taking a deep learning dive with you!  https://t.co/EfRBjtHUkE #StrataData\n",
      "RT @NYC_TechEvents: Tomorrow is the New York Data Science Study Group meetup. It should be fun: https://t.co/P69weeJhVa\n",
      "\"Failure is not the opposite of success, it's more like a stepping stone\" - Ariana Huffington #LETSPROPEL\n",
      "Look forward to seeing everyone tonight @ our Data Science Fair fete! https://t.co/EwRDbuXZSR @creativetechwk @thisismetis\n",
      "RT @thisismetis: Excited to host an event during @creativetechwk in NYC. Join us May 17th for \"A Data Science Fair to Remember\" https://t.c…\n",
      "@BecomingDataSci @BecomingDataSci  indeed it is! ✨\n",
      "I unlocked $30 Rush tix for #HeisenbergBroadway at @MTC_NYC on @TodayTix! Tap here to get them too: https://t.co/mlGgTvfVEh #TodayTixRush\n",
      "So lucky to work with this amazing woman! https://t.co/JsUHZCeYs3\n",
      "Curious about the political bifurcation of this country?   It's all about the spin:  https://t.co/DVlOZMqgOe  @gilrefael\n",
      "excited to chat neural nets with you this wednesday!   @thisismetis https://t.co/SuG20Ab2XY\n",
      "RT @ruchowdh: Vote for @thisismetis Chief Data Scientist @debbiebere's SXSW critical thinking in STEM panel! https://t.co/AkiR4vOQkf\n",
      "For those of you in Chicago next Tuesday! \n",
      "https://t.co/ZfQMScgMgV\n",
      "@MikeJGalvin teaching about word embeddings via word2vec at MLconf @thisismetis https://t.co/fGOKPeKb5j\n",
      "We need responsible solutions on reducing gun violence.  Join us today: https://t.co/0qgznP0Vr6\n",
      "twas an honor to share a panel with these rock star machine learners @andreasmuller @jaredlander @StefanKarpinski\n",
      "such an awesome event --  so great to meet you all!  @katersully @zooeypurdy @CColwell9 @mercebent @GWWIBConference\n",
      "so thrilled to see @hmason speak last night at the women in machine learning meet-up..  what an inspiration!\n",
      "wait a sec, how have I missed this ?\n",
      "http://t.co/uGEIb7bqka\n"
     ]
    }
   ],
   "source": [
    "for tweet in tweets:\n",
    "    print(tweet['text'])"
   ]
  },
  {
   "cell_type": "code",
   "execution_count": 18,
   "metadata": {},
   "outputs": [
    {
     "name": "stdout",
     "output_type": "stream",
     "text": [
      "{'completed_in': 0.07,\n",
      " 'count': 20,\n",
      " 'max_id': 964140674324094976,\n",
      " 'max_id_str': '964140674324094976',\n",
      " 'next_results': '?max_id=964016479778820095&q=Shiffren&count=20&include_entities=1',\n",
      " 'query': 'Shiffren',\n",
      " 'refresh_url': '?since_id=964140674324094976&q=Shiffren&include_entities=1',\n",
      " 'since_id': 0,\n",
      " 'since_id_str': '0'}\n"
     ]
    }
   ],
   "source": [
    "parameters = {\"q\": \"Shiffren\", \"count\":20}\n",
    "response = requests.get(\"https://api.twitter.com/1.1/search/tweets.json\",\n",
    "                        params = parameters,\n",
    "                        auth=oauth)\n",
    "\n",
    "from pprint import pprint\n",
    "pprint(response.json()['search_metadata'])"
   ]
  },
  {
   "cell_type": "code",
   "execution_count": 19,
   "metadata": {},
   "outputs": [
    {
     "name": "stdout",
     "output_type": "stream",
     "text": [
      "PAGE 1\n",
      "964140674324094976 https://t.co/uInJ9kOTaP\n",
      "964126815039127552 Mikaela Shiffrin captures the gold medal in the giant slalom - https://t.co/rDtfwOP50r\n",
      "\n",
      "Top 100 Stories On The Web https://t.co/17W7QGUMFa\n",
      "964126815035027457 Mikaela Shiffrin captures the gold medal in the giant slalom - https://t.co/2T4nIpU1lz\n",
      "\n",
      "Top 100 Stories On The Web https://t.co/xub8mKecpd\n",
      "964113277893529600 Finally! Yes, Mikaela!! 🇺🇸🥇 https://t.co/SlELlqaY89\n",
      "964110465424117761 https://t.co/bvkjlp10lu\n",
      "964095460527898625 RT @nypost: Mikaela Shiffrin captures the gold medal in the giant slalom https://t.co/JC40KhIhV8 https://t.co/BVpCseOxyv\n",
      "964043181326135301 .@MikaelaShiffrin is an absolute machine. Perhaps the most dominant athlete in the world in her chosen disciplines.… https://t.co/9rGIumQRW3\n",
      "964028228934434816 Mikaela Shiffrin captures the gold medal in the giant slalom https://t.co/5v2jwQcXXC https://t.co/5oLSXG0Ttt\n",
      "964026861599772672 RT @nypost: Mikaela Shiffrin captures the gold medal in the giant slalom https://t.co/JC40KhIhV8 https://t.co/BVpCseOxyv\n",
      "964026547211563009 Yay Mikaela! https://t.co/03sfb1oAA6\n",
      "964025950240321536 Mikaela Shiffrin captures the gold medal in the giant slalom: https://t.co/pg9Wu55kaN\n",
      "964024178591567874 Mikaela Shiffren is Golden!!\n",
      "#GiantSlalom Congratulations 🇺🇸 #GoTeamUSA 🇺🇸 🎿 https://t.co/98twWFv1zs\n",
      "964023375336214528 RT @nypost: Mikaela Shiffrin captures the gold medal in the giant slalom https://t.co/JC40KhIhV8 https://t.co/BVpCseOxyv\n",
      "964018350203523072 RT @nypost: Mikaela Shiffrin captures the gold medal in the giant slalom https://t.co/JC40KhIhV8 https://t.co/BVpCseOxyv\n",
      "964017708856676352 https://t.co/Ufb0cGkVYR\n",
      "964017566703271938 RT @nypost: Mikaela Shiffrin captures the gold medal in the giant slalom https://t.co/JC40KhIhV8 https://t.co/BVpCseOxyv\n",
      "964017007241801728 Mikaela Shiffrin captures the gold medal in the giant slalom https://t.co/GdiLdUrKRF https://t.co/hAOv2vvhgr\n",
      "964017004763013120 Mikaela Shiffrin captures the gold medal in the giant slalom https://t.co/S1fjjo6PLV https://t.co/7CyQzWzrl5\n",
      "964016588855939072 RT @nypost: Mikaela Shiffrin captures the gold medal in the giant slalom https://t.co/JC40KhIhV8 https://t.co/BVpCseOxyv\n",
      "964016479778820096 Mikaela Shiffrin captures the gold medal in the giant slalom https://t.co/ux8bMXllPB via @nypostsports\n"
     ]
    }
   ],
   "source": [
    "tweets = response.json()['statuses']\n",
    "\n",
    "print('PAGE 1')\n",
    "for tweet in tweets:\n",
    "    print(tweet['id'], tweet['text'])"
   ]
  },
  {
   "cell_type": "code",
   "execution_count": 20,
   "metadata": {},
   "outputs": [
    {
     "name": "stdout",
     "output_type": "stream",
     "text": [
      "PAGE 2\n",
      "RT @nypost: Mikaela Shiffrin captures the gold medal in the giant slalom https://t.co/JC40KhIhV8 https://t.co/BVpCseOxyv\n",
      "RT @nypost: Mikaela Shiffrin captures the gold medal in the giant slalom https://t.co/JC40KhIhV8 https://t.co/BVpCseOxyv\n",
      "Mikaela Shiffrin captures the gold medal in the giant slalom https://t.co/JC40KhIhV8 https://t.co/BVpCseOxyv\n",
      "Trying to watch Shiffren's epic Gold Medal run online but as soon as it starts, this is all you get from the… https://t.co/CXHE8GYbNL\n",
      "Mikayla Shiffren wearing the Captain Marvel suit in her promo photo makes me love her. https://t.co/Q4JMQUrHvp\n",
      "Congratulations Mikayla Shiffren on your GOLD medal for the giant slolum !! Good luck with all of your future events !! Go USA !!\n",
      "Mikaela Shiffren is unbelievably bad ass .  Gold Medal 🥇 in the Giant Slalom .  Amazing Talent!!   #AlpineSkiing #GoTeamUSA #Pyeongchang2018\n",
      "Riesenslalom der Damen: Gold für Shiffren, Silber an Mowinckel, Brinze geht an Brignone.\n",
      "Rebenburg leider nur 4.\n",
      "#skiing #Olympia2018\n",
      "Big late night drama. Shiffren gets the gold live in women's giant slalom. Could be just the 1st in massive Winter… https://t.co/VMISq1iCOh\n",
      "Wow, good for Mikaela Shiffren #olympics\n",
      "Way to go Mikaela Shiffren!!!!!!\n",
      "Sweet Shiffren! We needed some good news on a tough day like today. Gold! #KSLOlympics\n",
      "Mikaela Shiffren in 1st place, now #Ita!\n",
      "+0.84 shiffren\n",
      "Go Shiffren!\n",
      "Life's a journey not a race.  #2018Olympics #Shiffren #slalom #Valentine’sDay #FigureSkating @NFL @NBA\n",
      "Ugh still 30 minutes away from Mikaela Shiffren I gotta go to bed so whatever I'll just find it online\n",
      "Mikaela Shiffren,,,,hello\n",
      "They said after the men's downhill Mikaela Shiffren was coming up and then it went to figure skating 🤷🏼‍♀️ #GetToTheSkiing\n",
      "@NBCOlympics how many times are you going to show same clips of Shiffren or Chen instead of actual coverage of even… https://t.co/IbdGQpSqiG\n"
     ]
    }
   ],
   "source": [
    "search_url = \"https://api.twitter.com/1.1/search/tweets.json\"\n",
    "next_page_url = search_url + response.json()['search_metadata']['next_results']\n",
    "\n",
    "response = requests.get(next_page_url, auth=oauth)\n",
    "\n",
    "print('PAGE 2')\n",
    "for tweet in response.json()['statuses']:\n",
    "    print(tweet['text'])"
   ]
  },
  {
   "cell_type": "markdown",
   "metadata": {},
   "source": [
    "#### STREAMING API ~ TWEEPY"
   ]
  },
  {
   "cell_type": "code",
   "execution_count": 21,
   "metadata": {},
   "outputs": [],
   "source": [
    "# pip install tweepy\n",
    "import tweepy\n",
    "\n",
    "auth = tweepy.OAuthHandler(config[\"consumer_key\"],\n",
    "                           config[\"consumer_secret\"])\n",
    "auth.set_access_token(config[\"access_token\"],\n",
    "                      config[\"access_token_secret\"])\n",
    "\n",
    "api=tweepy.API(auth)"
   ]
  },
  {
   "cell_type": "code",
   "execution_count": 37,
   "metadata": {},
   "outputs": [
    {
     "name": "stdout",
     "output_type": "stream",
     "text": [
      "Status(_api=<tweepy.api.API object at 0x1117598d0>, _json={'created_at': 'Thu Feb 15 15:08:41 +0000 2018', 'id': 964154502076141569, 'id_str': '964154502076141569', 'text': 'RT @DineshDSouza: Hold firm on this @realDonaldTrump even if it means sending a bunch of dreamers packing https://t.co/ncP6lI8wbw', 'truncated': False, 'entities': {'hashtags': [], 'symbols': [], 'user_mentions': [{'screen_name': 'DineshDSouza', 'name': \"Dinesh D'Souza\", 'id': 91882544, 'id_str': '91882544', 'indices': [3, 16]}, {'screen_name': 'realDonaldTrump', 'name': 'Donald J. Trump', 'id': 25073877, 'id_str': '25073877', 'indices': [36, 52]}], 'urls': [{'url': 'https://t.co/ncP6lI8wbw', 'expanded_url': 'https://twitter.com/npr/status/964116331900489728', 'display_url': 'twitter.com/npr/status/964…', 'indices': [106, 129]}]}, 'metadata': {'iso_language_code': 'en', 'result_type': 'recent'}, 'source': '<a href=\"http://twitter.com/download/android\" rel=\"nofollow\">Twitter for Android</a>', 'in_reply_to_status_id': None, 'in_reply_to_status_id_str': None, 'in_reply_to_user_id': None, 'in_reply_to_user_id_str': None, 'in_reply_to_screen_name': None, 'user': {'id': 417455568, 'id_str': '417455568', 'name': 'teacherchef', 'screen_name': 'teacherchef58', 'location': 'Louisiana', 'description': '', 'url': None, 'entities': {'description': {'urls': []}}, 'protected': False, 'followers_count': 102, 'friends_count': 111, 'listed_count': 3, 'created_at': 'Sun Nov 20 23:39:27 +0000 2011', 'favourites_count': 19037, 'utc_offset': None, 'time_zone': None, 'geo_enabled': False, 'verified': False, 'statuses_count': 25626, 'lang': 'en', 'contributors_enabled': False, 'is_translator': False, 'is_translation_enabled': False, 'profile_background_color': 'C0DEED', 'profile_background_image_url': 'http://abs.twimg.com/images/themes/theme1/bg.png', 'profile_background_image_url_https': 'https://abs.twimg.com/images/themes/theme1/bg.png', 'profile_background_tile': False, 'profile_image_url': 'http://abs.twimg.com/sticky/default_profile_images/default_profile_normal.png', 'profile_image_url_https': 'https://abs.twimg.com/sticky/default_profile_images/default_profile_normal.png', 'profile_link_color': '1DA1F2', 'profile_sidebar_border_color': 'C0DEED', 'profile_sidebar_fill_color': 'DDEEF6', 'profile_text_color': '333333', 'profile_use_background_image': True, 'has_extended_profile': False, 'default_profile': True, 'default_profile_image': True, 'following': False, 'follow_request_sent': False, 'notifications': False, 'translator_type': 'none'}, 'geo': None, 'coordinates': None, 'place': None, 'contributors': None, 'retweeted_status': {'created_at': 'Thu Feb 15 12:41:31 +0000 2018', 'id': 964117466065637378, 'id_str': '964117466065637378', 'text': 'Hold firm on this @realDonaldTrump even if it means sending a bunch of dreamers packing https://t.co/ncP6lI8wbw', 'truncated': False, 'entities': {'hashtags': [], 'symbols': [], 'user_mentions': [{'screen_name': 'realDonaldTrump', 'name': 'Donald J. Trump', 'id': 25073877, 'id_str': '25073877', 'indices': [18, 34]}], 'urls': [{'url': 'https://t.co/ncP6lI8wbw', 'expanded_url': 'https://twitter.com/npr/status/964116331900489728', 'display_url': 'twitter.com/npr/status/964…', 'indices': [88, 111]}]}, 'metadata': {'iso_language_code': 'en', 'result_type': 'recent'}, 'source': '<a href=\"http://twitter.com/download/iphone\" rel=\"nofollow\">Twitter for iPhone</a>', 'in_reply_to_status_id': None, 'in_reply_to_status_id_str': None, 'in_reply_to_user_id': None, 'in_reply_to_user_id_str': None, 'in_reply_to_screen_name': None, 'user': {'id': 91882544, 'id_str': '91882544', 'name': \"Dinesh D'Souza\", 'screen_name': 'DineshDSouza', 'location': 'United States', 'description': '🎥 filmmaker. 📚 author. 🎤 speaker. My bestselling book \"The Big Lie\" exposes the Left\\'s biggest lie yet: calling conservatives Nazis to hide their fascism.', 'url': 'https://t.co/YnF6c0toNy', 'entities': {'url': {'urls': [{'url': 'https://t.co/YnF6c0toNy', 'expanded_url': 'http://bigliebook.com', 'display_url': 'bigliebook.com', 'indices': [0, 23]}]}, 'description': {'urls': []}}, 'protected': False, 'followers_count': 789406, 'friends_count': 5380, 'listed_count': 5133, 'created_at': 'Sun Nov 22 22:32:41 +0000 2009', 'favourites_count': 655, 'utc_offset': -18000, 'time_zone': 'Eastern Time (US & Canada)', 'geo_enabled': True, 'verified': True, 'statuses_count': 27566, 'lang': 'en', 'contributors_enabled': False, 'is_translator': False, 'is_translation_enabled': False, 'profile_background_color': '252929', 'profile_background_image_url': 'http://pbs.twimg.com/profile_background_images/458722223457443840/lhErCWLq.png', 'profile_background_image_url_https': 'https://pbs.twimg.com/profile_background_images/458722223457443840/lhErCWLq.png', 'profile_background_tile': False, 'profile_image_url': 'http://pbs.twimg.com/profile_images/890967538292711424/8puyFbiI_normal.jpg', 'profile_image_url_https': 'https://pbs.twimg.com/profile_images/890967538292711424/8puyFbiI_normal.jpg', 'profile_banner_url': 'https://pbs.twimg.com/profile_banners/91882544/1516582066', 'profile_link_color': '1B95E0', 'profile_sidebar_border_color': 'FFFFFF', 'profile_sidebar_fill_color': 'DDFFCC', 'profile_text_color': '333333', 'profile_use_background_image': True, 'has_extended_profile': True, 'default_profile': False, 'default_profile_image': False, 'following': False, 'follow_request_sent': False, 'notifications': False, 'translator_type': 'none'}, 'geo': None, 'coordinates': None, 'place': None, 'contributors': None, 'is_quote_status': True, 'quoted_status_id': 964116331900489728, 'quoted_status_id_str': '964116331900489728', 'quoted_status': {'created_at': 'Thu Feb 15 12:37:00 +0000 2018', 'id': 964116331900489728, 'id_str': '964116331900489728', 'text': 'Trump said he would reject any bill that doesn\\'t address: \"A lasting solution on DACA, ending chain migration, canc… https://t.co/fCLBmsbhzA', 'truncated': True, 'entities': {'hashtags': [], 'symbols': [], 'user_mentions': [], 'urls': [{'url': 'https://t.co/fCLBmsbhzA', 'expanded_url': 'https://twitter.com/i/web/status/964116331900489728', 'display_url': 'twitter.com/i/web/status/9…', 'indices': [117, 140]}]}, 'metadata': {'iso_language_code': 'en', 'result_type': 'recent'}, 'source': '<a href=\"https://about.twitter.com/products/tweetdeck\" rel=\"nofollow\">TweetDeck</a>', 'in_reply_to_status_id': None, 'in_reply_to_status_id_str': None, 'in_reply_to_user_id': None, 'in_reply_to_user_id_str': None, 'in_reply_to_screen_name': None, 'user': {'id': 5392522, 'id_str': '5392522', 'name': 'NPR', 'screen_name': 'NPR', 'location': '', 'description': 'News. Arts & Life. Music. Everything and more from NPR.\\n\\n🕵️ Securely send us news tips: https://t.co/LPkf6Tsozm', 'url': 'http://t.co/SoL86ga4RI', 'entities': {'url': {'urls': [{'url': 'http://t.co/SoL86ga4RI', 'expanded_url': 'http://www.npr.org', 'display_url': 'npr.org', 'indices': [0, 22]}]}, 'description': {'urls': [{'url': 'https://t.co/LPkf6Tsozm', 'expanded_url': 'http://securedrop.npr.org', 'display_url': 'securedrop.npr.org', 'indices': [88, 111]}]}}, 'protected': False, 'followers_count': 7445666, 'friends_count': 72283, 'listed_count': 65285, 'created_at': 'Sun Apr 22 05:10:15 +0000 2007', 'favourites_count': 2374, 'utc_offset': -18000, 'time_zone': 'Eastern Time (US & Canada)', 'geo_enabled': False, 'verified': True, 'statuses_count': 143507, 'lang': 'en', 'contributors_enabled': False, 'is_translator': False, 'is_translation_enabled': True, 'profile_background_color': '9AE4E8', 'profile_background_image_url': 'http://pbs.twimg.com/profile_background_images/414161733/nprnews_background.jpg', 'profile_background_image_url_https': 'https://pbs.twimg.com/profile_background_images/414161733/nprnews_background.jpg', 'profile_background_tile': False, 'profile_image_url': 'http://pbs.twimg.com/profile_images/722199003845304320/s2zwEoao_normal.jpg', 'profile_image_url_https': 'https://pbs.twimg.com/profile_images/722199003845304320/s2zwEoao_normal.jpg', 'profile_banner_url': 'https://pbs.twimg.com/profile_banners/5392522/1406560384', 'profile_link_color': '0000FF', 'profile_sidebar_border_color': '87BC44', 'profile_sidebar_fill_color': 'E0FF92', 'profile_text_color': '000000', 'profile_use_background_image': True, 'has_extended_profile': True, 'default_profile': False, 'default_profile_image': False, 'following': False, 'follow_request_sent': False, 'notifications': False, 'translator_type': 'none'}, 'geo': None, 'coordinates': None, 'place': None, 'contributors': None, 'is_quote_status': False, 'retweet_count': 111, 'favorite_count': 216, 'favorited': False, 'retweeted': False, 'possibly_sensitive': False, 'lang': 'en'}, 'retweet_count': 1474, 'favorite_count': 3918, 'favorited': False, 'retweeted': False, 'possibly_sensitive': False, 'lang': 'en'}, 'is_quote_status': True, 'quoted_status_id': 964116331900489728, 'quoted_status_id_str': '964116331900489728', 'retweet_count': 1474, 'favorite_count': 0, 'favorited': False, 'retweeted': False, 'possibly_sensitive': False, 'lang': 'en'}, created_at=datetime.datetime(2018, 2, 15, 15, 8, 41), id=964154502076141569, id_str='964154502076141569', text='RT @DineshDSouza: Hold firm on this @realDonaldTrump even if it means sending a bunch of dreamers packing https://t.co/ncP6lI8wbw', truncated=False, entities={'hashtags': [], 'symbols': [], 'user_mentions': [{'screen_name': 'DineshDSouza', 'name': \"Dinesh D'Souza\", 'id': 91882544, 'id_str': '91882544', 'indices': [3, 16]}, {'screen_name': 'realDonaldTrump', 'name': 'Donald J. Trump', 'id': 25073877, 'id_str': '25073877', 'indices': [36, 52]}], 'urls': [{'url': 'https://t.co/ncP6lI8wbw', 'expanded_url': 'https://twitter.com/npr/status/964116331900489728', 'display_url': 'twitter.com/npr/status/964…', 'indices': [106, 129]}]}, metadata={'iso_language_code': 'en', 'result_type': 'recent'}, source='Twitter for Android', source_url='http://twitter.com/download/android', in_reply_to_status_id=None, in_reply_to_status_id_str=None, in_reply_to_user_id=None, in_reply_to_user_id_str=None, in_reply_to_screen_name=None, author=User(_api=<tweepy.api.API object at 0x1117598d0>, _json={'id': 417455568, 'id_str': '417455568', 'name': 'teacherchef', 'screen_name': 'teacherchef58', 'location': 'Louisiana', 'description': '', 'url': None, 'entities': {'description': {'urls': []}}, 'protected': False, 'followers_count': 102, 'friends_count': 111, 'listed_count': 3, 'created_at': 'Sun Nov 20 23:39:27 +0000 2011', 'favourites_count': 19037, 'utc_offset': None, 'time_zone': None, 'geo_enabled': False, 'verified': False, 'statuses_count': 25626, 'lang': 'en', 'contributors_enabled': False, 'is_translator': False, 'is_translation_enabled': False, 'profile_background_color': 'C0DEED', 'profile_background_image_url': 'http://abs.twimg.com/images/themes/theme1/bg.png', 'profile_background_image_url_https': 'https://abs.twimg.com/images/themes/theme1/bg.png', 'profile_background_tile': False, 'profile_image_url': 'http://abs.twimg.com/sticky/default_profile_images/default_profile_normal.png', 'profile_image_url_https': 'https://abs.twimg.com/sticky/default_profile_images/default_profile_normal.png', 'profile_link_color': '1DA1F2', 'profile_sidebar_border_color': 'C0DEED', 'profile_sidebar_fill_color': 'DDEEF6', 'profile_text_color': '333333', 'profile_use_background_image': True, 'has_extended_profile': False, 'default_profile': True, 'default_profile_image': True, 'following': False, 'follow_request_sent': False, 'notifications': False, 'translator_type': 'none'}, id=417455568, id_str='417455568', name='teacherchef', screen_name='teacherchef58', location='Louisiana', description='', url=None, entities={'description': {'urls': []}}, protected=False, followers_count=102, friends_count=111, listed_count=3, created_at=datetime.datetime(2011, 11, 20, 23, 39, 27), favourites_count=19037, utc_offset=None, time_zone=None, geo_enabled=False, verified=False, statuses_count=25626, lang='en', contributors_enabled=False, is_translator=False, is_translation_enabled=False, profile_background_color='C0DEED', profile_background_image_url='http://abs.twimg.com/images/themes/theme1/bg.png', profile_background_image_url_https='https://abs.twimg.com/images/themes/theme1/bg.png', profile_background_tile=False, profile_image_url='http://abs.twimg.com/sticky/default_profile_images/default_profile_normal.png', profile_image_url_https='https://abs.twimg.com/sticky/default_profile_images/default_profile_normal.png', profile_link_color='1DA1F2', profile_sidebar_border_color='C0DEED', profile_sidebar_fill_color='DDEEF6', profile_text_color='333333', profile_use_background_image=True, has_extended_profile=False, default_profile=True, default_profile_image=True, following=False, follow_request_sent=False, notifications=False, translator_type='none'), user=User(_api=<tweepy.api.API object at 0x1117598d0>, _json={'id': 417455568, 'id_str': '417455568', 'name': 'teacherchef', 'screen_name': 'teacherchef58', 'location': 'Louisiana', 'description': '', 'url': None, 'entities': {'description': {'urls': []}}, 'protected': False, 'followers_count': 102, 'friends_count': 111, 'listed_count': 3, 'created_at': 'Sun Nov 20 23:39:27 +0000 2011', 'favourites_count': 19037, 'utc_offset': None, 'time_zone': None, 'geo_enabled': False, 'verified': False, 'statuses_count': 25626, 'lang': 'en', 'contributors_enabled': False, 'is_translator': False, 'is_translation_enabled': False, 'profile_background_color': 'C0DEED', 'profile_background_image_url': 'http://abs.twimg.com/images/themes/theme1/bg.png', 'profile_background_image_url_https': 'https://abs.twimg.com/images/themes/theme1/bg.png', 'profile_background_tile': False, 'profile_image_url': 'http://abs.twimg.com/sticky/default_profile_images/default_profile_normal.png', 'profile_image_url_https': 'https://abs.twimg.com/sticky/default_profile_images/default_profile_normal.png', 'profile_link_color': '1DA1F2', 'profile_sidebar_border_color': 'C0DEED', 'profile_sidebar_fill_color': 'DDEEF6', 'profile_text_color': '333333', 'profile_use_background_image': True, 'has_extended_profile': False, 'default_profile': True, 'default_profile_image': True, 'following': False, 'follow_request_sent': False, 'notifications': False, 'translator_type': 'none'}, id=417455568, id_str='417455568', name='teacherchef', screen_name='teacherchef58', location='Louisiana', description='', url=None, entities={'description': {'urls': []}}, protected=False, followers_count=102, friends_count=111, listed_count=3, created_at=datetime.datetime(2011, 11, 20, 23, 39, 27), favourites_count=19037, utc_offset=None, time_zone=None, geo_enabled=False, verified=False, statuses_count=25626, lang='en', contributors_enabled=False, is_translator=False, is_translation_enabled=False, profile_background_color='C0DEED', profile_background_image_url='http://abs.twimg.com/images/themes/theme1/bg.png', profile_background_image_url_https='https://abs.twimg.com/images/themes/theme1/bg.png', profile_background_tile=False, profile_image_url='http://abs.twimg.com/sticky/default_profile_images/default_profile_normal.png', profile_image_url_https='https://abs.twimg.com/sticky/default_profile_images/default_profile_normal.png', profile_link_color='1DA1F2', profile_sidebar_border_color='C0DEED', profile_sidebar_fill_color='DDEEF6', profile_text_color='333333', profile_use_background_image=True, has_extended_profile=False, default_profile=True, default_profile_image=True, following=False, follow_request_sent=False, notifications=False, translator_type='none'), geo=None, coordinates=None, place=None, contributors=None, retweeted_status=Status(_api=<tweepy.api.API object at 0x1117598d0>, _json={'created_at': 'Thu Feb 15 12:41:31 +0000 2018', 'id': 964117466065637378, 'id_str': '964117466065637378', 'text': 'Hold firm on this @realDonaldTrump even if it means sending a bunch of dreamers packing https://t.co/ncP6lI8wbw', 'truncated': False, 'entities': {'hashtags': [], 'symbols': [], 'user_mentions': [{'screen_name': 'realDonaldTrump', 'name': 'Donald J. Trump', 'id': 25073877, 'id_str': '25073877', 'indices': [18, 34]}], 'urls': [{'url': 'https://t.co/ncP6lI8wbw', 'expanded_url': 'https://twitter.com/npr/status/964116331900489728', 'display_url': 'twitter.com/npr/status/964…', 'indices': [88, 111]}]}, 'metadata': {'iso_language_code': 'en', 'result_type': 'recent'}, 'source': '<a href=\"http://twitter.com/download/iphone\" rel=\"nofollow\">Twitter for iPhone</a>', 'in_reply_to_status_id': None, 'in_reply_to_status_id_str': None, 'in_reply_to_user_id': None, 'in_reply_to_user_id_str': None, 'in_reply_to_screen_name': None, 'user': {'id': 91882544, 'id_str': '91882544', 'name': \"Dinesh D'Souza\", 'screen_name': 'DineshDSouza', 'location': 'United States', 'description': '🎥 filmmaker. 📚 author. 🎤 speaker. My bestselling book \"The Big Lie\" exposes the Left\\'s biggest lie yet: calling conservatives Nazis to hide their fascism.', 'url': 'https://t.co/YnF6c0toNy', 'entities': {'url': {'urls': [{'url': 'https://t.co/YnF6c0toNy', 'expanded_url': 'http://bigliebook.com', 'display_url': 'bigliebook.com', 'indices': [0, 23]}]}, 'description': {'urls': []}}, 'protected': False, 'followers_count': 789406, 'friends_count': 5380, 'listed_count': 5133, 'created_at': 'Sun Nov 22 22:32:41 +0000 2009', 'favourites_count': 655, 'utc_offset': -18000, 'time_zone': 'Eastern Time (US & Canada)', 'geo_enabled': True, 'verified': True, 'statuses_count': 27566, 'lang': 'en', 'contributors_enabled': False, 'is_translator': False, 'is_translation_enabled': False, 'profile_background_color': '252929', 'profile_background_image_url': 'http://pbs.twimg.com/profile_background_images/458722223457443840/lhErCWLq.png', 'profile_background_image_url_https': 'https://pbs.twimg.com/profile_background_images/458722223457443840/lhErCWLq.png', 'profile_background_tile': False, 'profile_image_url': 'http://pbs.twimg.com/profile_images/890967538292711424/8puyFbiI_normal.jpg', 'profile_image_url_https': 'https://pbs.twimg.com/profile_images/890967538292711424/8puyFbiI_normal.jpg', 'profile_banner_url': 'https://pbs.twimg.com/profile_banners/91882544/1516582066', 'profile_link_color': '1B95E0', 'profile_sidebar_border_color': 'FFFFFF', 'profile_sidebar_fill_color': 'DDFFCC', 'profile_text_color': '333333', 'profile_use_background_image': True, 'has_extended_profile': True, 'default_profile': False, 'default_profile_image': False, 'following': False, 'follow_request_sent': False, 'notifications': False, 'translator_type': 'none'}, 'geo': None, 'coordinates': None, 'place': None, 'contributors': None, 'is_quote_status': True, 'quoted_status_id': 964116331900489728, 'quoted_status_id_str': '964116331900489728', 'quoted_status': {'created_at': 'Thu Feb 15 12:37:00 +0000 2018', 'id': 964116331900489728, 'id_str': '964116331900489728', 'text': 'Trump said he would reject any bill that doesn\\'t address: \"A lasting solution on DACA, ending chain migration, canc… https://t.co/fCLBmsbhzA', 'truncated': True, 'entities': {'hashtags': [], 'symbols': [], 'user_mentions': [], 'urls': [{'url': 'https://t.co/fCLBmsbhzA', 'expanded_url': 'https://twitter.com/i/web/status/964116331900489728', 'display_url': 'twitter.com/i/web/status/9…', 'indices': [117, 140]}]}, 'metadata': {'iso_language_code': 'en', 'result_type': 'recent'}, 'source': '<a href=\"https://about.twitter.com/products/tweetdeck\" rel=\"nofollow\">TweetDeck</a>', 'in_reply_to_status_id': None, 'in_reply_to_status_id_str': None, 'in_reply_to_user_id': None, 'in_reply_to_user_id_str': None, 'in_reply_to_screen_name': None, 'user': {'id': 5392522, 'id_str': '5392522', 'name': 'NPR', 'screen_name': 'NPR', 'location': '', 'description': 'News. Arts & Life. Music. Everything and more from NPR.\\n\\n🕵️ Securely send us news tips: https://t.co/LPkf6Tsozm', 'url': 'http://t.co/SoL86ga4RI', 'entities': {'url': {'urls': [{'url': 'http://t.co/SoL86ga4RI', 'expanded_url': 'http://www.npr.org', 'display_url': 'npr.org', 'indices': [0, 22]}]}, 'description': {'urls': [{'url': 'https://t.co/LPkf6Tsozm', 'expanded_url': 'http://securedrop.npr.org', 'display_url': 'securedrop.npr.org', 'indices': [88, 111]}]}}, 'protected': False, 'followers_count': 7445666, 'friends_count': 72283, 'listed_count': 65285, 'created_at': 'Sun Apr 22 05:10:15 +0000 2007', 'favourites_count': 2374, 'utc_offset': -18000, 'time_zone': 'Eastern Time (US & Canada)', 'geo_enabled': False, 'verified': True, 'statuses_count': 143507, 'lang': 'en', 'contributors_enabled': False, 'is_translator': False, 'is_translation_enabled': True, 'profile_background_color': '9AE4E8', 'profile_background_image_url': 'http://pbs.twimg.com/profile_background_images/414161733/nprnews_background.jpg', 'profile_background_image_url_https': 'https://pbs.twimg.com/profile_background_images/414161733/nprnews_background.jpg', 'profile_background_tile': False, 'profile_image_url': 'http://pbs.twimg.com/profile_images/722199003845304320/s2zwEoao_normal.jpg', 'profile_image_url_https': 'https://pbs.twimg.com/profile_images/722199003845304320/s2zwEoao_normal.jpg', 'profile_banner_url': 'https://pbs.twimg.com/profile_banners/5392522/1406560384', 'profile_link_color': '0000FF', 'profile_sidebar_border_color': '87BC44', 'profile_sidebar_fill_color': 'E0FF92', 'profile_text_color': '000000', 'profile_use_background_image': True, 'has_extended_profile': True, 'default_profile': False, 'default_profile_image': False, 'following': False, 'follow_request_sent': False, 'notifications': False, 'translator_type': 'none'}, 'geo': None, 'coordinates': None, 'place': None, 'contributors': None, 'is_quote_status': False, 'retweet_count': 111, 'favorite_count': 216, 'favorited': False, 'retweeted': False, 'possibly_sensitive': False, 'lang': 'en'}, 'retweet_count': 1474, 'favorite_count': 3918, 'favorited': False, 'retweeted': False, 'possibly_sensitive': False, 'lang': 'en'}, created_at=datetime.datetime(2018, 2, 15, 12, 41, 31), id=964117466065637378, id_str='964117466065637378', text='Hold firm on this @realDonaldTrump even if it means sending a bunch of dreamers packing https://t.co/ncP6lI8wbw', truncated=False, entities={'hashtags': [], 'symbols': [], 'user_mentions': [{'screen_name': 'realDonaldTrump', 'name': 'Donald J. Trump', 'id': 25073877, 'id_str': '25073877', 'indices': [18, 34]}], 'urls': [{'url': 'https://t.co/ncP6lI8wbw', 'expanded_url': 'https://twitter.com/npr/status/964116331900489728', 'display_url': 'twitter.com/npr/status/964…', 'indices': [88, 111]}]}, metadata={'iso_language_code': 'en', 'result_type': 'recent'}, source='Twitter for iPhone', source_url='http://twitter.com/download/iphone', in_reply_to_status_id=None, in_reply_to_status_id_str=None, in_reply_to_user_id=None, in_reply_to_user_id_str=None, in_reply_to_screen_name=None, author=User(_api=<tweepy.api.API object at 0x1117598d0>, _json={'id': 91882544, 'id_str': '91882544', 'name': \"Dinesh D'Souza\", 'screen_name': 'DineshDSouza', 'location': 'United States', 'description': '🎥 filmmaker. 📚 author. 🎤 speaker. My bestselling book \"The Big Lie\" exposes the Left\\'s biggest lie yet: calling conservatives Nazis to hide their fascism.', 'url': 'https://t.co/YnF6c0toNy', 'entities': {'url': {'urls': [{'url': 'https://t.co/YnF6c0toNy', 'expanded_url': 'http://bigliebook.com', 'display_url': 'bigliebook.com', 'indices': [0, 23]}]}, 'description': {'urls': []}}, 'protected': False, 'followers_count': 789406, 'friends_count': 5380, 'listed_count': 5133, 'created_at': 'Sun Nov 22 22:32:41 +0000 2009', 'favourites_count': 655, 'utc_offset': -18000, 'time_zone': 'Eastern Time (US & Canada)', 'geo_enabled': True, 'verified': True, 'statuses_count': 27566, 'lang': 'en', 'contributors_enabled': False, 'is_translator': False, 'is_translation_enabled': False, 'profile_background_color': '252929', 'profile_background_image_url': 'http://pbs.twimg.com/profile_background_images/458722223457443840/lhErCWLq.png', 'profile_background_image_url_https': 'https://pbs.twimg.com/profile_background_images/458722223457443840/lhErCWLq.png', 'profile_background_tile': False, 'profile_image_url': 'http://pbs.twimg.com/profile_images/890967538292711424/8puyFbiI_normal.jpg', 'profile_image_url_https': 'https://pbs.twimg.com/profile_images/890967538292711424/8puyFbiI_normal.jpg', 'profile_banner_url': 'https://pbs.twimg.com/profile_banners/91882544/1516582066', 'profile_link_color': '1B95E0', 'profile_sidebar_border_color': 'FFFFFF', 'profile_sidebar_fill_color': 'DDFFCC', 'profile_text_color': '333333', 'profile_use_background_image': True, 'has_extended_profile': True, 'default_profile': False, 'default_profile_image': False, 'following': False, 'follow_request_sent': False, 'notifications': False, 'translator_type': 'none'}, id=91882544, id_str='91882544', name=\"Dinesh D'Souza\", screen_name='DineshDSouza', location='United States', description='🎥 filmmaker. 📚 author. 🎤 speaker. My bestselling book \"The Big Lie\" exposes the Left\\'s biggest lie yet: calling conservatives Nazis to hide their fascism.', url='https://t.co/YnF6c0toNy', entities={'url': {'urls': [{'url': 'https://t.co/YnF6c0toNy', 'expanded_url': 'http://bigliebook.com', 'display_url': 'bigliebook.com', 'indices': [0, 23]}]}, 'description': {'urls': []}}, protected=False, followers_count=789406, friends_count=5380, listed_count=5133, created_at=datetime.datetime(2009, 11, 22, 22, 32, 41), favourites_count=655, utc_offset=-18000, time_zone='Eastern Time (US & Canada)', geo_enabled=True, verified=True, statuses_count=27566, lang='en', contributors_enabled=False, is_translator=False, is_translation_enabled=False, profile_background_color='252929', profile_background_image_url='http://pbs.twimg.com/profile_background_images/458722223457443840/lhErCWLq.png', profile_background_image_url_https='https://pbs.twimg.com/profile_background_images/458722223457443840/lhErCWLq.png', profile_background_tile=False, profile_image_url='http://pbs.twimg.com/profile_images/890967538292711424/8puyFbiI_normal.jpg', profile_image_url_https='https://pbs.twimg.com/profile_images/890967538292711424/8puyFbiI_normal.jpg', profile_banner_url='https://pbs.twimg.com/profile_banners/91882544/1516582066', profile_link_color='1B95E0', profile_sidebar_border_color='FFFFFF', profile_sidebar_fill_color='DDFFCC', profile_text_color='333333', profile_use_background_image=True, has_extended_profile=True, default_profile=False, default_profile_image=False, following=False, follow_request_sent=False, notifications=False, translator_type='none'), user=User(_api=<tweepy.api.API object at 0x1117598d0>, _json={'id': 91882544, 'id_str': '91882544', 'name': \"Dinesh D'Souza\", 'screen_name': 'DineshDSouza', 'location': 'United States', 'description': '🎥 filmmaker. 📚 author. 🎤 speaker. My bestselling book \"The Big Lie\" exposes the Left\\'s biggest lie yet: calling conservatives Nazis to hide their fascism.', 'url': 'https://t.co/YnF6c0toNy', 'entities': {'url': {'urls': [{'url': 'https://t.co/YnF6c0toNy', 'expanded_url': 'http://bigliebook.com', 'display_url': 'bigliebook.com', 'indices': [0, 23]}]}, 'description': {'urls': []}}, 'protected': False, 'followers_count': 789406, 'friends_count': 5380, 'listed_count': 5133, 'created_at': 'Sun Nov 22 22:32:41 +0000 2009', 'favourites_count': 655, 'utc_offset': -18000, 'time_zone': 'Eastern Time (US & Canada)', 'geo_enabled': True, 'verified': True, 'statuses_count': 27566, 'lang': 'en', 'contributors_enabled': False, 'is_translator': False, 'is_translation_enabled': False, 'profile_background_color': '252929', 'profile_background_image_url': 'http://pbs.twimg.com/profile_background_images/458722223457443840/lhErCWLq.png', 'profile_background_image_url_https': 'https://pbs.twimg.com/profile_background_images/458722223457443840/lhErCWLq.png', 'profile_background_tile': False, 'profile_image_url': 'http://pbs.twimg.com/profile_images/890967538292711424/8puyFbiI_normal.jpg', 'profile_image_url_https': 'https://pbs.twimg.com/profile_images/890967538292711424/8puyFbiI_normal.jpg', 'profile_banner_url': 'https://pbs.twimg.com/profile_banners/91882544/1516582066', 'profile_link_color': '1B95E0', 'profile_sidebar_border_color': 'FFFFFF', 'profile_sidebar_fill_color': 'DDFFCC', 'profile_text_color': '333333', 'profile_use_background_image': True, 'has_extended_profile': True, 'default_profile': False, 'default_profile_image': False, 'following': False, 'follow_request_sent': False, 'notifications': False, 'translator_type': 'none'}, id=91882544, id_str='91882544', name=\"Dinesh D'Souza\", screen_name='DineshDSouza', location='United States', description='🎥 filmmaker. 📚 author. 🎤 speaker. My bestselling book \"The Big Lie\" exposes the Left\\'s biggest lie yet: calling conservatives Nazis to hide their fascism.', url='https://t.co/YnF6c0toNy', entities={'url': {'urls': [{'url': 'https://t.co/YnF6c0toNy', 'expanded_url': 'http://bigliebook.com', 'display_url': 'bigliebook.com', 'indices': [0, 23]}]}, 'description': {'urls': []}}, protected=False, followers_count=789406, friends_count=5380, listed_count=5133, created_at=datetime.datetime(2009, 11, 22, 22, 32, 41), favourites_count=655, utc_offset=-18000, time_zone='Eastern Time (US & Canada)', geo_enabled=True, verified=True, statuses_count=27566, lang='en', contributors_enabled=False, is_translator=False, is_translation_enabled=False, profile_background_color='252929', profile_background_image_url='http://pbs.twimg.com/profile_background_images/458722223457443840/lhErCWLq.png', profile_background_image_url_https='https://pbs.twimg.com/profile_background_images/458722223457443840/lhErCWLq.png', profile_background_tile=False, profile_image_url='http://pbs.twimg.com/profile_images/890967538292711424/8puyFbiI_normal.jpg', profile_image_url_https='https://pbs.twimg.com/profile_images/890967538292711424/8puyFbiI_normal.jpg', profile_banner_url='https://pbs.twimg.com/profile_banners/91882544/1516582066', profile_link_color='1B95E0', profile_sidebar_border_color='FFFFFF', profile_sidebar_fill_color='DDFFCC', profile_text_color='333333', profile_use_background_image=True, has_extended_profile=True, default_profile=False, default_profile_image=False, following=False, follow_request_sent=False, notifications=False, translator_type='none'), geo=None, coordinates=None, place=None, contributors=None, is_quote_status=True, quoted_status_id=964116331900489728, quoted_status_id_str='964116331900489728', quoted_status={'created_at': 'Thu Feb 15 12:37:00 +0000 2018', 'id': 964116331900489728, 'id_str': '964116331900489728', 'text': 'Trump said he would reject any bill that doesn\\'t address: \"A lasting solution on DACA, ending chain migration, canc… https://t.co/fCLBmsbhzA', 'truncated': True, 'entities': {'hashtags': [], 'symbols': [], 'user_mentions': [], 'urls': [{'url': 'https://t.co/fCLBmsbhzA', 'expanded_url': 'https://twitter.com/i/web/status/964116331900489728', 'display_url': 'twitter.com/i/web/status/9…', 'indices': [117, 140]}]}, 'metadata': {'iso_language_code': 'en', 'result_type': 'recent'}, 'source': '<a href=\"https://about.twitter.com/products/tweetdeck\" rel=\"nofollow\">TweetDeck</a>', 'in_reply_to_status_id': None, 'in_reply_to_status_id_str': None, 'in_reply_to_user_id': None, 'in_reply_to_user_id_str': None, 'in_reply_to_screen_name': None, 'user': {'id': 5392522, 'id_str': '5392522', 'name': 'NPR', 'screen_name': 'NPR', 'location': '', 'description': 'News. Arts & Life. Music. Everything and more from NPR.\\n\\n🕵️ Securely send us news tips: https://t.co/LPkf6Tsozm', 'url': 'http://t.co/SoL86ga4RI', 'entities': {'url': {'urls': [{'url': 'http://t.co/SoL86ga4RI', 'expanded_url': 'http://www.npr.org', 'display_url': 'npr.org', 'indices': [0, 22]}]}, 'description': {'urls': [{'url': 'https://t.co/LPkf6Tsozm', 'expanded_url': 'http://securedrop.npr.org', 'display_url': 'securedrop.npr.org', 'indices': [88, 111]}]}}, 'protected': False, 'followers_count': 7445666, 'friends_count': 72283, 'listed_count': 65285, 'created_at': 'Sun Apr 22 05:10:15 +0000 2007', 'favourites_count': 2374, 'utc_offset': -18000, 'time_zone': 'Eastern Time (US & Canada)', 'geo_enabled': False, 'verified': True, 'statuses_count': 143507, 'lang': 'en', 'contributors_enabled': False, 'is_translator': False, 'is_translation_enabled': True, 'profile_background_color': '9AE4E8', 'profile_background_image_url': 'http://pbs.twimg.com/profile_background_images/414161733/nprnews_background.jpg', 'profile_background_image_url_https': 'https://pbs.twimg.com/profile_background_images/414161733/nprnews_background.jpg', 'profile_background_tile': False, 'profile_image_url': 'http://pbs.twimg.com/profile_images/722199003845304320/s2zwEoao_normal.jpg', 'profile_image_url_https': 'https://pbs.twimg.com/profile_images/722199003845304320/s2zwEoao_normal.jpg', 'profile_banner_url': 'https://pbs.twimg.com/profile_banners/5392522/1406560384', 'profile_link_color': '0000FF', 'profile_sidebar_border_color': '87BC44', 'profile_sidebar_fill_color': 'E0FF92', 'profile_text_color': '000000', 'profile_use_background_image': True, 'has_extended_profile': True, 'default_profile': False, 'default_profile_image': False, 'following': False, 'follow_request_sent': False, 'notifications': False, 'translator_type': 'none'}, 'geo': None, 'coordinates': None, 'place': None, 'contributors': None, 'is_quote_status': False, 'retweet_count': 111, 'favorite_count': 216, 'favorited': False, 'retweeted': False, 'possibly_sensitive': False, 'lang': 'en'}, retweet_count=1474, favorite_count=3918, favorited=False, retweeted=False, possibly_sensitive=False, lang='en'), is_quote_status=True, quoted_status_id=964116331900489728, quoted_status_id_str='964116331900489728', retweet_count=1474, favorite_count=0, favorited=False, retweeted=False, possibly_sensitive=False, lang='en')\n"
     ]
    }
   ],
   "source": [
    "max_tweets=1\n",
    "\n",
    "#Tweepy Cursor handles pagination .. \n",
    "\n",
    "for tweet in tweepy.Cursor(api.search,q=\"Dreamers\").items(max_tweets):\n",
    "    print(tweet)"
   ]
  },
  {
   "cell_type": "code",
   "execution_count": 38,
   "metadata": {},
   "outputs": [],
   "source": [
    "results=[]\n",
    "\n",
    "\n",
    "for tweet in tweepy.Cursor(api.search,q=\"Dreamers\").items(10):\n",
    "    results.append(tweet)"
   ]
  },
  {
   "cell_type": "markdown",
   "metadata": {},
   "source": [
    "#### Import tweets into Pandas"
   ]
  },
  {
   "cell_type": "code",
   "execution_count": 39,
   "metadata": {},
   "outputs": [],
   "source": [
    "#  import pandas as pd\n",
    "def structure_results(results):\n",
    "    id_list=[tweet.id for tweet in results]\n",
    "    data=pd.DataFrame(id_list,columns=['id'])\n",
    "    \n",
    "    data[\"text\"]= [tweet.text.encode('utf-8') for tweet in results]\n",
    "    data[\"datetime\"]=[tweet.created_at for tweet in results]\n",
    "    data[\"Location\"]=[tweet.place for tweet in results]\n",
    "    \n",
    "    return data"
   ]
  },
  {
   "cell_type": "code",
   "execution_count": 40,
   "metadata": {},
   "outputs": [
    {
     "data": {
      "text/html": [
       "<div>\n",
       "<style>\n",
       "    .dataframe thead tr:only-child th {\n",
       "        text-align: right;\n",
       "    }\n",
       "\n",
       "    .dataframe thead th {\n",
       "        text-align: left;\n",
       "    }\n",
       "\n",
       "    .dataframe tbody tr th {\n",
       "        vertical-align: top;\n",
       "    }\n",
       "</style>\n",
       "<table border=\"1\" class=\"dataframe\">\n",
       "  <thead>\n",
       "    <tr style=\"text-align: right;\">\n",
       "      <th></th>\n",
       "      <th>id</th>\n",
       "      <th>text</th>\n",
       "      <th>datetime</th>\n",
       "      <th>Location</th>\n",
       "    </tr>\n",
       "  </thead>\n",
       "  <tbody>\n",
       "    <tr>\n",
       "      <th>0</th>\n",
       "      <td>964154502076141569</td>\n",
       "      <td>b'RT @DineshDSouza: Hold firm on this @realDon...</td>\n",
       "      <td>2018-02-15 15:08:41</td>\n",
       "      <td>None</td>\n",
       "    </tr>\n",
       "    <tr>\n",
       "      <th>1</th>\n",
       "      <td>964154500113104896</td>\n",
       "      <td>b'RT @RealJamesWoods: Pelosi laughs at \\xe2\\x8...</td>\n",
       "      <td>2018-02-15 15:08:40</td>\n",
       "      <td>None</td>\n",
       "    </tr>\n",
       "    <tr>\n",
       "      <th>2</th>\n",
       "      <td>964154499232223233</td>\n",
       "      <td>b'RT @AntonioArellano: I find it odd that the ...</td>\n",
       "      <td>2018-02-15 15:08:40</td>\n",
       "      <td>None</td>\n",
       "    </tr>\n",
       "    <tr>\n",
       "      <th>3</th>\n",
       "      <td>964154493561483264</td>\n",
       "      <td>b'RT @DineshDSouza: Hold firm on this @realDon...</td>\n",
       "      <td>2018-02-15 15:08:39</td>\n",
       "      <td>None</td>\n",
       "    </tr>\n",
       "    <tr>\n",
       "      <th>4</th>\n",
       "      <td>964154483767955457</td>\n",
       "      <td>b'RT @TheDemocrats: We have a Valentine\\xe2\\x8...</td>\n",
       "      <td>2018-02-15 15:08:36</td>\n",
       "      <td>None</td>\n",
       "    </tr>\n",
       "  </tbody>\n",
       "</table>\n",
       "</div>"
      ],
      "text/plain": [
       "                   id                                               text  \\\n",
       "0  964154502076141569  b'RT @DineshDSouza: Hold firm on this @realDon...   \n",
       "1  964154500113104896  b'RT @RealJamesWoods: Pelosi laughs at \\xe2\\x8...   \n",
       "2  964154499232223233  b'RT @AntonioArellano: I find it odd that the ...   \n",
       "3  964154493561483264  b'RT @DineshDSouza: Hold firm on this @realDon...   \n",
       "4  964154483767955457  b'RT @TheDemocrats: We have a Valentine\\xe2\\x8...   \n",
       "\n",
       "             datetime Location  \n",
       "0 2018-02-15 15:08:41     None  \n",
       "1 2018-02-15 15:08:40     None  \n",
       "2 2018-02-15 15:08:40     None  \n",
       "3 2018-02-15 15:08:39     None  \n",
       "4 2018-02-15 15:08:36     None  "
      ]
     },
     "execution_count": 40,
     "metadata": {},
     "output_type": "execute_result"
    }
   ],
   "source": [
    "data=structure_results(results)\n",
    "data.head()"
   ]
  },
  {
   "cell_type": "code",
   "execution_count": null,
   "metadata": {
    "collapsed": true
   },
   "outputs": [],
   "source": []
  },
  {
   "cell_type": "markdown",
   "metadata": {},
   "source": [
    "#### Import Tweets into MongoDB\n",
    "\n",
    "Install mongo locally with brew:    \n",
    "```\n",
    "brew update    \n",
    "brew install mongodb\n",
    "```\n",
    "After downloading mongo, we want to create a place for mongo data files to live.  Run:    \n",
    "```\n",
    "sudo mkdir -p /data/db\n",
    "```\n",
    "Make sure that /data/db directory has the right permissions:\n",
    "\n",
    "```\n",
    "sudo chown `active_username` /data/db\n",
    "(enter password) \n",
    "```\n",
    "\n",
    "(username ~ is just mac username (you can double\n",
    "check this by running 'whoami' in the terminal)\n",
    "\n",
    "\n",
    "Run mongo daemon:\n",
    "```\n",
    "mongod\n",
    "```\n",
    "\n",
    "(In order to access direct mongo functionality, you can just\n",
    "run 'mongo' in a separate terminal)"
   ]
  },
  {
   "cell_type": "code",
   "execution_count": 41,
   "metadata": {},
   "outputs": [],
   "source": [
    "import json\n",
    "from pymongo import MongoClient\n",
    "\n",
    "client = MongoClient()\n",
    "db = client.immigration\n",
    "tweets = db.dreamer"
   ]
  },
  {
   "cell_type": "code",
   "execution_count": 42,
   "metadata": {},
   "outputs": [],
   "source": [
    "for tweet in results:\n",
    "    data={}\n",
    "    data['tweet']=tweet.text.encode('utf-8') \n",
    "    data['datetime']=tweet.created_at\n",
    "    tweets.insert_one(data)"
   ]
  },
  {
   "cell_type": "code",
   "execution_count": 43,
   "metadata": {},
   "outputs": [
    {
     "data": {
      "text/plain": [
       "{'_id': ObjectId('5a85a2ceecff6640613192c1'),\n",
       " 'datetime': datetime.datetime(2018, 2, 15, 15, 8, 41),\n",
       " 'tweet': b'RT @DineshDSouza: Hold firm on this @realDonaldTrump even if it means sending a bunch of dreamers packing https://t.co/ncP6lI8wbw'}"
      ]
     },
     "execution_count": 43,
     "metadata": {},
     "output_type": "execute_result"
    }
   ],
   "source": [
    "tweets.find_one()"
   ]
  },
  {
   "cell_type": "code",
   "execution_count": null,
   "metadata": {
    "collapsed": true
   },
   "outputs": [],
   "source": []
  }
 ],
 "metadata": {
  "kernelspec": {
   "display_name": "Python 3",
   "language": "python",
   "name": "python3"
  },
  "language_info": {
   "codemirror_mode": {
    "name": "ipython",
    "version": 3
   },
   "file_extension": ".py",
   "mimetype": "text/x-python",
   "name": "python",
   "nbconvert_exporter": "python",
   "pygments_lexer": "ipython3",
   "version": "3.6.1"
  }
 },
 "nbformat": 4,
 "nbformat_minor": 1
}
