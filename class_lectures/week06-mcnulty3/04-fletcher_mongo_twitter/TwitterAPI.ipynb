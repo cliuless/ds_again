{
 "cells": [
  {
   "cell_type": "markdown",
   "metadata": {},
   "source": [
    "# Twitter API"
   ]
  },
  {
   "cell_type": "markdown",
   "metadata": {},
   "source": [
    "## Lecture Notes"
   ]
  },
  {
   "cell_type": "markdown",
   "metadata": {},
   "source": [
    "#####Why Twitter ?\n",
    "\n",
    "\n",
    "\"While physics and math may tell us how the universe began, they are not much use in predicting Human Behavior because there are far too many Equations to Solve\" \n",
    "    \n",
    "    -Stephan Hawking\n",
    "    "
   ]
  },
  {
   "cell_type": "markdown",
   "metadata": {},
   "source": [
    "#### Rest API vs Streaming API: \n",
    "\n",
    "\n",
    "REST:  \n",
    "    - Query user accounts using OAuth\n",
    "    - Allows you to access 'historical' tweets\n",
    "\n",
    "STREAM: \n",
    "    - Essentially long-running request (left Open) using OAuth\n",
    "    - Access realtime stream of data\n",
    "       "
   ]
  },
  {
   "cell_type": "markdown",
   "metadata": {},
   "source": [
    "#### Rest API"
   ]
  },
  {
   "cell_type": "code",
   "execution_count": 35,
   "metadata": {
    "collapsed": false
   },
   "outputs": [],
   "source": [
    "from __future__ import print_function\n",
    "import pandas as pd"
   ]
  },
  {
   "cell_type": "code",
   "execution_count": 2,
   "metadata": {
    "collapsed": false
   },
   "outputs": [],
   "source": [
    "# # pip install requests_oauthlib\n",
    "import requests\n",
    "from requests_oauthlib import OAuth1\n",
    "\n",
    "#OAuth ~ simple way to to publish & interact with data"
   ]
  },
  {
   "cell_type": "code",
   "execution_count": 3,
   "metadata": {
    "collapsed": false
   },
   "outputs": [],
   "source": [
    "# Importing our Config\n",
    "\n",
    "#pip install cnfg\n",
    "\n",
    "import cnfg\n",
    "config = cnfg.load(\".twitter_config\")\n",
    "\n",
    "oauth = OAuth1(config[\"consumer_key\"],\n",
    "               config[\"consumer_secret\"],\n",
    "               config[\"access_token\"],\n",
    "               config[\"access_token_secret\"])"
   ]
  },
  {
   "cell_type": "code",
   "execution_count": 4,
   "metadata": {
    "collapsed": false
   },
   "outputs": [
    {
     "name": "stdout",
     "output_type": "stream",
     "text": [
      "contributors\n",
      "truncated\n",
      "text\n",
      "is_quote_status\n",
      "in_reply_to_status_id\n",
      "id\n",
      "favorite_count\n",
      "source\n",
      "retweeted\n",
      "coordinates\n",
      "entities\n",
      "in_reply_to_screen_name\n",
      "in_reply_to_user_id\n",
      "retweet_count\n",
      "id_str\n",
      "favorited\n",
      "user\n",
      "geo\n",
      "in_reply_to_user_id_str\n",
      "possibly_sensitive\n",
      "lang\n",
      "created_at\n",
      "in_reply_to_status_id_str\n",
      "place\n"
     ]
    }
   ],
   "source": [
    "response = requests.get(\"https://api.twitter.com/1.1/statuses/user_timeline.json\",\n",
    "                        auth=oauth)\n",
    "\n",
    "tweets = response.json()\n",
    "\n",
    "for key in tweets[0].keys():\n",
    "    print(key)\n",
    "    "
   ]
  },
  {
   "cell_type": "code",
   "execution_count": 5,
   "metadata": {
    "collapsed": false
   },
   "outputs": [
    {
     "name": "stdout",
     "output_type": "stream",
     "text": [
      "I unlocked $30 Rush tix for #HeisenbergBroadway at @MTC_NYC on @TodayTix! Tap here to get them too: https://t.co/mlGgTvfVEh #TodayTixRush\n",
      "So lucky to work with this amazing woman! https://t.co/JsUHZCeYs3\n",
      "Curious about the political bifurcation of this country?   It's all about the spin:  https://t.co/DVlOZMqgOe  @gilrefael\n",
      "excited to chat neural nets with you this wednesday!   @thisismetis https://t.co/SuG20Ab2XY\n",
      "RT @ruchowdh: Vote for @thisismetis Chief Data Scientist @debbiebere's SXSW critical thinking in STEM panel! https://t.co/AkiR4vOQkf\n",
      "For those of you in Chicago next Tuesday! \n",
      "https://t.co/ZfQMScgMgV\n",
      "@MikeJGalvin teaching about word embeddings via word2vec at MLconf @thisismetis https://t.co/fGOKPeKb5j\n",
      "We need responsible solutions on reducing gun violence.  Join us today: https://t.co/0qgznP0Vr6\n",
      "twas an honor to share a panel with these rock star machine learners @andreasmuller @jaredlander @StefanKarpinski\n",
      "such an awesome event --  so great to meet you all!  @katersully @zooeypurdy @CColwell9 @mercebent @GWWIBConference\n",
      "so thrilled to see @hmason speak last night at the women in machine learning meet-up..  what an inspiration!\n",
      "wait a sec, how have I missed this ?\n",
      "http://t.co/uGEIb7bqka\n"
     ]
    }
   ],
   "source": [
    "for tweet in tweets:\n",
    "    print(tweet['text'])"
   ]
  },
  {
   "cell_type": "code",
   "execution_count": 17,
   "metadata": {
    "collapsed": false
   },
   "outputs": [
    {
     "name": "stdout",
     "output_type": "stream",
     "text": [
      "{u'completed_in': 0.1,\n",
      " u'count': 20,\n",
      " u'max_id': 832291939538128897,\n",
      " u'max_id_str': u'832291939538128897',\n",
      " u'next_results': u'?max_id=832291843622760447&q=trudeau&count=20&include_entities=1',\n",
      " u'query': u'trudeau',\n",
      " u'refresh_url': u'?since_id=832291939538128897&q=trudeau&include_entities=1',\n",
      " u'since_id': 0,\n",
      " u'since_id_str': u'0'}\n"
     ]
    }
   ],
   "source": [
    "parameters = {\"q\": \"trudeau\", \"count\":20}\n",
    "response = requests.get(\"https://api.twitter.com/1.1/search/tweets.json\",\n",
    "                        params = parameters,\n",
    "                        auth=oauth)\n",
    "\n",
    "from pprint import pprint\n",
    "pprint(response.json()['search_metadata'])"
   ]
  },
  {
   "cell_type": "code",
   "execution_count": 18,
   "metadata": {
    "collapsed": false
   },
   "outputs": [
    {
     "name": "stdout",
     "output_type": "stream",
     "text": [
      "PAGE 1\n",
      "832291939538128897 Just when Justin Trudeau's speech was eulogizing the EU it segued into a warning on free trade https://t.co/HLk0Gllz1V\n",
      "832291935331184640 RT @ezralevant: Canada's \"civil liberties\" association. Lots of anti-Trump anger. Not a word against Trudeau's M103 thought crime motion. #…\n",
      "832291915324223488 RT @_neku: Everyone talking about how all these girls look at Trudeau but look at how Trudeau looks at Obama https://t.co/dzvjBZqUnb\n",
      "832291908319793152 Trudeau’s unilateral Arctic drilling ban unites Northern Premiers https://t.co/HH5psOUhI7 via @YouTube\n",
      "832291902519025665 RT @_neku: Everyone talking about how all these girls look at Trudeau but look at how Trudeau looks at Obama https://t.co/dzvjBZqUnb\n",
      "832291897586561025 RT @Attitudega: หนุ่มๆต้องระวังไม่ให้แฟนเจอนายกฯแคนาดาซะแล้ว 555 ฉายาที่คนตั้งให้คือ PM Steal Yo Girl มีภาพเป็นหลักฐานยืนยัน\n",
      "\n",
      "ที่มา: https:…\n",
      "832291896517132289 RT @_neku: Everyone talking about how all these girls look at Trudeau but look at how Trudeau looks at Obama https://t.co/dzvjBZqUnb\n",
      "832291893576888320 Urgh why is Justin Trudeau so perfect? 😀😍\n",
      "832291890812874754 RT @_neku: Everyone talking about how all these girls look at Trudeau but look at how Trudeau looks at Obama https://t.co/dzvjBZqUnb\n",
      "832291889948803077 RT @_neku: Everyone talking about how all these girls look at Trudeau but look at how Trudeau looks at Obama https://t.co/dzvjBZqUnb\n",
      "832291871229636609 RT @AMike4761: Mosques and Schools controlled by the Muslim Brotherhood in Canada. Thanks to Trudeau. https://t.co/evGg528sgb\n",
      "832291870491426816 RT @ajplus: Justin Trudeau just schooled President Trump in the most subtle way possible. https://t.co/7EVvJOwKca\n",
      "832291869036003329 RT @El_Universal_Mx: .@JustinTrudeau confiá en que el tratado de libre comercio de Canadá y UE convenza a Trump de beneficios de tratados h…\n",
      "832291868805361666 RT @JacobAWohl: Canada can have all of the Muslim refugees they want // Think #Trudeau will change his mind after rapes go up 600% ???\n",
      "832291863503663104 Trudeau hails CETA as 'blueprint' for future trade deals https://t.co/IC4ZvebIAa #breakingnews https://t.co/AnsYsGSp69\n",
      "832291862367055873 RT @SarahPalinUSA: Seriously? What next? https://t.co/B3lEXc2Hww\n",
      "832291845484974081 RT @Daily_Express: BREXIT BOOST: Justin Trudeau hints at EASY trade deal after CETA signed: https://t.co/vkYYS7stwD https://t.co/1JxO2sJZeG\n",
      "832291845258485761 RT @Daily_Express: BREXIT BOOST: Justin Trudeau hints at EASY trade deal after CETA signed: https://t.co/vkYYS7stwD https://t.co/1JxO2sJZeG\n",
      "832291843723427842 RT @ajplus: Justin Trudeau just schooled President Trump in the most subtle way possible. https://t.co/7EVvJOwKca\n",
      "832291843622760448 RT @DailyCaller: Trudeau Tells Europeans That Trump ‘Gets Things Done’ https://t.co/gHe4TtbyaO https://t.co/dbVyuBOYbd\n"
     ]
    }
   ],
   "source": [
    "tweets = response.json()['statuses']\n",
    "\n",
    "print('PAGE 1')\n",
    "for tweet in tweets:\n",
    "    print(tweet['id'], tweet['text'])"
   ]
  },
  {
   "cell_type": "code",
   "execution_count": 19,
   "metadata": {
    "collapsed": false
   },
   "outputs": [
    {
     "name": "stdout",
     "output_type": "stream",
     "text": [
      "PAGE 2\n",
      "RT @_neku: Everyone talking about how all these girls look at Trudeau but look at how Trudeau looks at Obama https://t.co/dzvjBZqUnb\n",
      "@globalnews Remember when Trudeau wanted to lower the age for anal sex? https://t.co/D2YzRmsjLm\n",
      "RT @Lrihendry: PM Trudeau and his idiot brother asked government to keep Islamic terror suspect Algerian born Mohammed Harkat in #Canada. #…\n",
      "RT @ajplus: Justin Trudeau just schooled President Trump in the most subtle way possible. https://t.co/7EVvJOwKca\n",
      "RT @_neku: Everyone talking about how all these girls look at Trudeau but look at how Trudeau looks at Obama https://t.co/dzvjBZqUnb\n",
      "RT @_neku: Everyone talking about how all these girls look at Trudeau but look at how Trudeau looks at Obama https://t.co/dzvjBZqUnb\n",
      "RT @_neku: Everyone talking about how all these girls look at Trudeau but look at how Trudeau looks at Obama https://t.co/dzvjBZqUnb\n",
      "RT @piercamillo: Viva il Ceta e viva l'eurocanadese Trudeau https://t.co/y6U8wuhSdS - Mio articolo su @Strade_Magazine\n",
      "@TheTorontoSun @MarkBonokoski How is that a question?\n",
      "1400 Years of Islam https://t.co/gwGFpe5KXd\n",
      "Justin on Islam… https://t.co/GjtQKBBvOJ\n",
      "RT @joeycomeau: sorry, but the only good trudeau is a margaret trudeau.\n",
      "\n",
      "(image by @beatonna) https://t.co/Khwo1GqoGY\n",
      "Pictures of 'swooning' Ivanka Trump and Justin Trudeau go viral https://t.co/dtI6K8Xc2P\n",
      "BREXIT BOOST: Justin Trudeau hints at EASY trade deal after CETA signed https://t.co/6ug1i4mrGJ https://t.co/duIRqrReDN\n",
      "RT @couldovfooledme: @melaniejoly should be working for Black Lives Matter...she seems to think MOST Canadians are full of hate &amp; racism..h…\n",
      "RT @JacquesBrisant: Haha, @ad noemt Canada's Justin 'Pussy' Trudeau een \"rocksterpremier\". \n",
      "Ik hoor andere muziek.. https://t.co/HQo5OOppah\n",
      "RT @RavenHUWolf: #JoeTrudeau Nation: #Trudeau, like #Merkel opens the flood gates. Muslim-invaders now starting to flood into #Canada\n",
      "https…\n",
      "RT @EGrabotskie: @ThePeoplesCube Oleg are u following any of the Soviet style government policy Trudeau is pushing in Canada for #M103 &amp; #C…\n",
      "@joshtpm someone page Joe Trudeau's office\n",
      "Trudeau en Washington y las cifras de la calma (por ahora) https://t.co/nYqGyDeC5U en @Letras_Libres https://t.co/e2c06lORkC\n",
      "CLUSTERFUCK BOOST: Justin Trudeau hints at EASY trade deal after CETA signed https://t.co/bo3ivYMW35 https://t.co/LBy428fsm4\n",
      "Trudeau Urges Deeper EU-Canadian Ties https://t.co/7SOP3ZtmHA\n"
     ]
    }
   ],
   "source": [
    "search_url = \"https://api.twitter.com/1.1/search/tweets.json\"\n",
    "next_page_url = search_url + response.json()['search_metadata']['next_results']\n",
    "\n",
    "response = requests.get(next_page_url, auth=oauth)\n",
    "\n",
    "print('PAGE 2')\n",
    "for tweet in response.json()['statuses']:\n",
    "    print(tweet['text'])"
   ]
  },
  {
   "cell_type": "markdown",
   "metadata": {
    "collapsed": false
   },
   "source": [
    "#### STREAMING API ~ TWEEPY"
   ]
  },
  {
   "cell_type": "code",
   "execution_count": 20,
   "metadata": {
    "collapsed": false
   },
   "outputs": [],
   "source": [
    "# pip install tweepy\n",
    "import tweepy\n",
    "\n",
    "auth = tweepy.OAuthHandler(config[\"consumer_key\"],\n",
    "                           config[\"consumer_secret\"])\n",
    "auth.set_access_token(config[\"access_token\"],\n",
    "                      config[\"access_token_secret\"])\n",
    "\n",
    "api=tweepy.API(auth)"
   ]
  },
  {
   "cell_type": "code",
   "execution_count": 22,
   "metadata": {
    "collapsed": false
   },
   "outputs": [
    {
     "name": "stdout",
     "output_type": "stream",
     "text": [
      "Status(contributors=None, truncated=False, text=u'RT @MrTommyCampbell: Donald Trump \"No President\\'s done so much in so little time.\"\\n\\nYou mean:\\nLies\\nIvanka promos\\nRussian deals\\nKilling \\U0001f30e\\nHi\\u2026', is_quote_status=False, in_reply_to_status_id=None, id=832293402612002820, favorite_count=0, _api=<tweepy.api.API object at 0x106331d90>, author=User(follow_request_sent=False, has_extended_profile=True, profile_use_background_image=True, _json={u'follow_request_sent': False, u'has_extended_profile': True, u'profile_use_background_image': True, u'default_profile_image': False, u'id': 3176612439, u'profile_background_image_url_https': u'https://abs.twimg.com/images/themes/theme1/bg.png', u'verified': False, u'translator_type': u'none', u'profile_text_color': u'333333', u'profile_image_url_https': u'https://pbs.twimg.com/profile_images/817492202293182466/hi3RJMdC_normal.jpg', u'profile_sidebar_fill_color': u'DDEEF6', u'entities': {u'description': {u'urls': []}}, u'followers_count': 47, u'profile_sidebar_border_color': u'C0DEED', u'id_str': u'3176612439', u'profile_background_color': u'C0DEED', u'listed_count': 2, u'is_translation_enabled': False, u'utc_offset': None, u'statuses_count': 1940, u'description': u'Hardships make or break people. ~ Margaret Mitchell', u'friends_count': 151, u'location': u'East Tennessee', u'profile_link_color': u'1DA1F2', u'profile_image_url': u'http://pbs.twimg.com/profile_images/817492202293182466/hi3RJMdC_normal.jpg', u'following': False, u'geo_enabled': True, u'profile_banner_url': u'https://pbs.twimg.com/profile_banners/3176612439/1437265389', u'profile_background_image_url': u'http://abs.twimg.com/images/themes/theme1/bg.png', u'screen_name': u'BlazerJamia', u'lang': u'en', u'profile_background_tile': False, u'favourites_count': 1841, u'name': u'@BlazerJamia', u'notifications': False, u'url': None, u'created_at': u'Fri Apr 17 13:19:04 +0000 2015', u'contributors_enabled': False, u'time_zone': None, u'protected': False, u'default_profile': True, u'is_translator': False}, time_zone=None, id=3176612439, description=u'Hardships make or break people. ~ Margaret Mitchell', _api=<tweepy.api.API object at 0x106331d90>, verified=False, profile_text_color=u'333333', profile_image_url_https=u'https://pbs.twimg.com/profile_images/817492202293182466/hi3RJMdC_normal.jpg', profile_sidebar_fill_color=u'DDEEF6', is_translator=False, geo_enabled=True, entities={u'description': {u'urls': []}}, followers_count=47, protected=False, id_str=u'3176612439', default_profile_image=False, listed_count=2, lang=u'en', utc_offset=None, statuses_count=1940, profile_background_color=u'C0DEED', friends_count=151, profile_link_color=u'1DA1F2', profile_image_url=u'http://pbs.twimg.com/profile_images/817492202293182466/hi3RJMdC_normal.jpg', notifications=False, default_profile=True, profile_background_image_url_https=u'https://abs.twimg.com/images/themes/theme1/bg.png', profile_banner_url=u'https://pbs.twimg.com/profile_banners/3176612439/1437265389', profile_background_image_url=u'http://abs.twimg.com/images/themes/theme1/bg.png', name=u'@BlazerJamia', is_translation_enabled=False, profile_background_tile=False, favourites_count=1841, screen_name=u'BlazerJamia', url=None, created_at=datetime.datetime(2015, 4, 17, 13, 19, 4), contributors_enabled=False, location=u'East Tennessee', profile_sidebar_border_color=u'C0DEED', translator_type=u'none', following=False), _json={u'contributors': None, u'truncated': False, u'text': u'RT @MrTommyCampbell: Donald Trump \"No President\\'s done so much in so little time.\"\\n\\nYou mean:\\nLies\\nIvanka promos\\nRussian deals\\nKilling \\U0001f30e\\nHi\\u2026', u'is_quote_status': False, u'in_reply_to_status_id': None, u'id': 832293402612002820, u'favorite_count': 0, u'entities': {u'symbols': [], u'user_mentions': [{u'id': 30739842, u'indices': [3, 19], u'id_str': u'30739842', u'screen_name': u'MrTommyCampbell', u'name': u'Tommy Campbell'}], u'hashtags': [], u'urls': []}, u'retweeted': False, u'coordinates': None, u'source': u'<a href=\"http://twitter.com/download/android\" rel=\"nofollow\">Twitter for Android</a>', u'in_reply_to_screen_name': None, u'in_reply_to_user_id': None, u'retweet_count': 43, u'id_str': u'832293402612002820', u'favorited': False, u'retweeted_status': {u'contributors': None, u'truncated': False, u'text': u'Donald Trump \"No President\\'s done so much in so little time.\"\\n\\nYou mean:\\nLies\\nIvanka promos\\nRussian deals\\nKilling \\U0001f30e\\nHiring pals\\nFinding Dory', u'is_quote_status': False, u'in_reply_to_status_id': None, u'id': 832290485360209920, u'favorite_count': 133, u'entities': {u'symbols': [], u'user_mentions': [], u'hashtags': [], u'urls': []}, u'retweeted': False, u'coordinates': None, u'source': u'<a href=\"http://twitter.com/download/iphone\" rel=\"nofollow\">Twitter for iPhone</a>', u'in_reply_to_screen_name': None, u'in_reply_to_user_id': None, u'retweet_count': 43, u'id_str': u'832290485360209920', u'favorited': False, u'user': {u'follow_request_sent': False, u'has_extended_profile': True, u'profile_use_background_image': True, u'default_profile_image': False, u'id': 30739842, u'profile_background_image_url_https': u'https://abs.twimg.com/images/themes/theme14/bg.gif', u'verified': True, u'translator_type': u'none', u'profile_text_color': u'333333', u'profile_image_url_https': u'https://pbs.twimg.com/profile_images/723660076368596992/fmNK3u_l_normal.jpg', u'profile_sidebar_fill_color': u'EFEFEF', u'entities': {u'url': {u'urls': [{u'url': u'https://t.co/UTuIm2JENa', u'indices': [0, 23], u'expanded_url': u'http://www.tommycampbell.ca/', u'display_url': u'tommycampbell.ca'}]}, u'description': {u'urls': [{u'url': u'https://t.co/rrfO829laC', u'indices': [134, 157], u'expanded_url': u'https://itun.es/ca/tPxoeb', u'display_url': u'itun.es/ca/tPxoeb'}]}}, u'followers_count': 33046, u'profile_sidebar_border_color': u'EEEEEE', u'id_str': u'30739842', u'profile_background_color': u'131516', u'listed_count': 585, u'is_translation_enabled': False, u'utc_offset': -28800, u'statuses_count': 47910, u'description': u\"Comic/Actor | The Dark Knight | Doctor Who | Arrow | Supernatural | Matt Hatter Chronicles|HuffPo|Foodie| My comedy album's TOP 25 on https://t.co/rrfO829laC\", u'friends_count': 4345, u'location': u'Vancouver', u'profile_link_color': u'009999', u'profile_image_url': u'http://pbs.twimg.com/profile_images/723660076368596992/fmNK3u_l_normal.jpg', u'following': False, u'geo_enabled': True, u'profile_banner_url': u'https://pbs.twimg.com/profile_banners/30739842/1484162300', u'profile_background_image_url': u'http://abs.twimg.com/images/themes/theme14/bg.gif', u'screen_name': u'MrTommyCampbell', u'lang': u'en', u'profile_background_tile': True, u'favourites_count': 122142, u'name': u'Tommy Campbell', u'notifications': False, u'url': u'https://t.co/UTuIm2JENa', u'created_at': u'Sun Apr 12 22:41:40 +0000 2009', u'contributors_enabled': False, u'time_zone': u'Pacific Time (US & Canada)', u'protected': False, u'default_profile': False, u'is_translator': False}, u'geo': None, u'in_reply_to_user_id_str': None, u'lang': u'en', u'created_at': u'Thu Feb 16 18:08:09 +0000 2017', u'in_reply_to_status_id_str': None, u'place': None, u'metadata': {u'iso_language_code': u'en', u'result_type': u'recent'}}, u'user': {u'follow_request_sent': False, u'has_extended_profile': True, u'profile_use_background_image': True, u'default_profile_image': False, u'id': 3176612439, u'profile_background_image_url_https': u'https://abs.twimg.com/images/themes/theme1/bg.png', u'verified': False, u'translator_type': u'none', u'profile_text_color': u'333333', u'profile_image_url_https': u'https://pbs.twimg.com/profile_images/817492202293182466/hi3RJMdC_normal.jpg', u'profile_sidebar_fill_color': u'DDEEF6', u'entities': {u'description': {u'urls': []}}, u'followers_count': 47, u'profile_sidebar_border_color': u'C0DEED', u'id_str': u'3176612439', u'profile_background_color': u'C0DEED', u'listed_count': 2, u'is_translation_enabled': False, u'utc_offset': None, u'statuses_count': 1940, u'description': u'Hardships make or break people. ~ Margaret Mitchell', u'friends_count': 151, u'location': u'East Tennessee', u'profile_link_color': u'1DA1F2', u'profile_image_url': u'http://pbs.twimg.com/profile_images/817492202293182466/hi3RJMdC_normal.jpg', u'following': False, u'geo_enabled': True, u'profile_banner_url': u'https://pbs.twimg.com/profile_banners/3176612439/1437265389', u'profile_background_image_url': u'http://abs.twimg.com/images/themes/theme1/bg.png', u'screen_name': u'BlazerJamia', u'lang': u'en', u'profile_background_tile': False, u'favourites_count': 1841, u'name': u'@BlazerJamia', u'notifications': False, u'url': None, u'created_at': u'Fri Apr 17 13:19:04 +0000 2015', u'contributors_enabled': False, u'time_zone': None, u'protected': False, u'default_profile': True, u'is_translator': False}, u'geo': None, u'in_reply_to_user_id_str': None, u'lang': u'en', u'created_at': u'Thu Feb 16 18:19:45 +0000 2017', u'in_reply_to_status_id_str': None, u'place': None, u'metadata': {u'iso_language_code': u'en', u'result_type': u'recent'}}, coordinates=None, entities={u'symbols': [], u'user_mentions': [{u'id': 30739842, u'indices': [3, 19], u'id_str': u'30739842', u'screen_name': u'MrTommyCampbell', u'name': u'Tommy Campbell'}], u'hashtags': [], u'urls': []}, in_reply_to_screen_name=None, id_str=u'832293402612002820', retweet_count=43, in_reply_to_user_id=None, favorited=False, retweeted_status=Status(contributors=None, truncated=False, text=u'Donald Trump \"No President\\'s done so much in so little time.\"\\n\\nYou mean:\\nLies\\nIvanka promos\\nRussian deals\\nKilling \\U0001f30e\\nHiring pals\\nFinding Dory', is_quote_status=False, in_reply_to_status_id=None, id=832290485360209920, favorite_count=133, _api=<tweepy.api.API object at 0x106331d90>, author=User(follow_request_sent=False, has_extended_profile=True, profile_use_background_image=True, _json={u'follow_request_sent': False, u'has_extended_profile': True, u'profile_use_background_image': True, u'default_profile_image': False, u'id': 30739842, u'profile_background_image_url_https': u'https://abs.twimg.com/images/themes/theme14/bg.gif', u'verified': True, u'translator_type': u'none', u'profile_text_color': u'333333', u'profile_image_url_https': u'https://pbs.twimg.com/profile_images/723660076368596992/fmNK3u_l_normal.jpg', u'profile_sidebar_fill_color': u'EFEFEF', u'entities': {u'url': {u'urls': [{u'url': u'https://t.co/UTuIm2JENa', u'indices': [0, 23], u'expanded_url': u'http://www.tommycampbell.ca/', u'display_url': u'tommycampbell.ca'}]}, u'description': {u'urls': [{u'url': u'https://t.co/rrfO829laC', u'indices': [134, 157], u'expanded_url': u'https://itun.es/ca/tPxoeb', u'display_url': u'itun.es/ca/tPxoeb'}]}}, u'followers_count': 33046, u'profile_sidebar_border_color': u'EEEEEE', u'id_str': u'30739842', u'profile_background_color': u'131516', u'listed_count': 585, u'is_translation_enabled': False, u'utc_offset': -28800, u'statuses_count': 47910, u'description': u\"Comic/Actor | The Dark Knight | Doctor Who | Arrow | Supernatural | Matt Hatter Chronicles|HuffPo|Foodie| My comedy album's TOP 25 on https://t.co/rrfO829laC\", u'friends_count': 4345, u'location': u'Vancouver', u'profile_link_color': u'009999', u'profile_image_url': u'http://pbs.twimg.com/profile_images/723660076368596992/fmNK3u_l_normal.jpg', u'following': False, u'geo_enabled': True, u'profile_banner_url': u'https://pbs.twimg.com/profile_banners/30739842/1484162300', u'profile_background_image_url': u'http://abs.twimg.com/images/themes/theme14/bg.gif', u'screen_name': u'MrTommyCampbell', u'lang': u'en', u'profile_background_tile': True, u'favourites_count': 122142, u'name': u'Tommy Campbell', u'notifications': False, u'url': u'https://t.co/UTuIm2JENa', u'created_at': u'Sun Apr 12 22:41:40 +0000 2009', u'contributors_enabled': False, u'time_zone': u'Pacific Time (US & Canada)', u'protected': False, u'default_profile': False, u'is_translator': False}, time_zone=u'Pacific Time (US & Canada)', id=30739842, description=u\"Comic/Actor | The Dark Knight | Doctor Who | Arrow | Supernatural | Matt Hatter Chronicles|HuffPo|Foodie| My comedy album's TOP 25 on https://t.co/rrfO829laC\", _api=<tweepy.api.API object at 0x106331d90>, verified=True, profile_text_color=u'333333', profile_image_url_https=u'https://pbs.twimg.com/profile_images/723660076368596992/fmNK3u_l_normal.jpg', profile_sidebar_fill_color=u'EFEFEF', is_translator=False, geo_enabled=True, entities={u'url': {u'urls': [{u'url': u'https://t.co/UTuIm2JENa', u'indices': [0, 23], u'expanded_url': u'http://www.tommycampbell.ca/', u'display_url': u'tommycampbell.ca'}]}, u'description': {u'urls': [{u'url': u'https://t.co/rrfO829laC', u'indices': [134, 157], u'expanded_url': u'https://itun.es/ca/tPxoeb', u'display_url': u'itun.es/ca/tPxoeb'}]}}, followers_count=33046, protected=False, id_str=u'30739842', default_profile_image=False, listed_count=585, lang=u'en', utc_offset=-28800, statuses_count=47910, profile_background_color=u'131516', friends_count=4345, profile_link_color=u'009999', profile_image_url=u'http://pbs.twimg.com/profile_images/723660076368596992/fmNK3u_l_normal.jpg', notifications=False, default_profile=False, profile_background_image_url_https=u'https://abs.twimg.com/images/themes/theme14/bg.gif', profile_banner_url=u'https://pbs.twimg.com/profile_banners/30739842/1484162300', profile_background_image_url=u'http://abs.twimg.com/images/themes/theme14/bg.gif', name=u'Tommy Campbell', is_translation_enabled=False, profile_background_tile=True, favourites_count=122142, screen_name=u'MrTommyCampbell', url=u'https://t.co/UTuIm2JENa', created_at=datetime.datetime(2009, 4, 12, 22, 41, 40), contributors_enabled=False, location=u'Vancouver', profile_sidebar_border_color=u'EEEEEE', translator_type=u'none', following=False), _json={u'contributors': None, u'truncated': False, u'text': u'Donald Trump \"No President\\'s done so much in so little time.\"\\n\\nYou mean:\\nLies\\nIvanka promos\\nRussian deals\\nKilling \\U0001f30e\\nHiring pals\\nFinding Dory', u'is_quote_status': False, u'in_reply_to_status_id': None, u'id': 832290485360209920, u'favorite_count': 133, u'entities': {u'symbols': [], u'user_mentions': [], u'hashtags': [], u'urls': []}, u'retweeted': False, u'coordinates': None, u'source': u'<a href=\"http://twitter.com/download/iphone\" rel=\"nofollow\">Twitter for iPhone</a>', u'in_reply_to_screen_name': None, u'in_reply_to_user_id': None, u'retweet_count': 43, u'id_str': u'832290485360209920', u'favorited': False, u'user': {u'follow_request_sent': False, u'has_extended_profile': True, u'profile_use_background_image': True, u'default_profile_image': False, u'id': 30739842, u'profile_background_image_url_https': u'https://abs.twimg.com/images/themes/theme14/bg.gif', u'verified': True, u'translator_type': u'none', u'profile_text_color': u'333333', u'profile_image_url_https': u'https://pbs.twimg.com/profile_images/723660076368596992/fmNK3u_l_normal.jpg', u'profile_sidebar_fill_color': u'EFEFEF', u'entities': {u'url': {u'urls': [{u'url': u'https://t.co/UTuIm2JENa', u'indices': [0, 23], u'expanded_url': u'http://www.tommycampbell.ca/', u'display_url': u'tommycampbell.ca'}]}, u'description': {u'urls': [{u'url': u'https://t.co/rrfO829laC', u'indices': [134, 157], u'expanded_url': u'https://itun.es/ca/tPxoeb', u'display_url': u'itun.es/ca/tPxoeb'}]}}, u'followers_count': 33046, u'profile_sidebar_border_color': u'EEEEEE', u'id_str': u'30739842', u'profile_background_color': u'131516', u'listed_count': 585, u'is_translation_enabled': False, u'utc_offset': -28800, u'statuses_count': 47910, u'description': u\"Comic/Actor | The Dark Knight | Doctor Who | Arrow | Supernatural | Matt Hatter Chronicles|HuffPo|Foodie| My comedy album's TOP 25 on https://t.co/rrfO829laC\", u'friends_count': 4345, u'location': u'Vancouver', u'profile_link_color': u'009999', u'profile_image_url': u'http://pbs.twimg.com/profile_images/723660076368596992/fmNK3u_l_normal.jpg', u'following': False, u'geo_enabled': True, u'profile_banner_url': u'https://pbs.twimg.com/profile_banners/30739842/1484162300', u'profile_background_image_url': u'http://abs.twimg.com/images/themes/theme14/bg.gif', u'screen_name': u'MrTommyCampbell', u'lang': u'en', u'profile_background_tile': True, u'favourites_count': 122142, u'name': u'Tommy Campbell', u'notifications': False, u'url': u'https://t.co/UTuIm2JENa', u'created_at': u'Sun Apr 12 22:41:40 +0000 2009', u'contributors_enabled': False, u'time_zone': u'Pacific Time (US & Canada)', u'protected': False, u'default_profile': False, u'is_translator': False}, u'geo': None, u'in_reply_to_user_id_str': None, u'lang': u'en', u'created_at': u'Thu Feb 16 18:08:09 +0000 2017', u'in_reply_to_status_id_str': None, u'place': None, u'metadata': {u'iso_language_code': u'en', u'result_type': u'recent'}}, coordinates=None, entities={u'symbols': [], u'user_mentions': [], u'hashtags': [], u'urls': []}, in_reply_to_screen_name=None, id_str=u'832290485360209920', retweet_count=43, in_reply_to_user_id=None, favorited=False, source_url=u'http://twitter.com/download/iphone', user=User(follow_request_sent=False, has_extended_profile=True, profile_use_background_image=True, _json={u'follow_request_sent': False, u'has_extended_profile': True, u'profile_use_background_image': True, u'default_profile_image': False, u'id': 30739842, u'profile_background_image_url_https': u'https://abs.twimg.com/images/themes/theme14/bg.gif', u'verified': True, u'translator_type': u'none', u'profile_text_color': u'333333', u'profile_image_url_https': u'https://pbs.twimg.com/profile_images/723660076368596992/fmNK3u_l_normal.jpg', u'profile_sidebar_fill_color': u'EFEFEF', u'entities': {u'url': {u'urls': [{u'url': u'https://t.co/UTuIm2JENa', u'indices': [0, 23], u'expanded_url': u'http://www.tommycampbell.ca/', u'display_url': u'tommycampbell.ca'}]}, u'description': {u'urls': [{u'url': u'https://t.co/rrfO829laC', u'indices': [134, 157], u'expanded_url': u'https://itun.es/ca/tPxoeb', u'display_url': u'itun.es/ca/tPxoeb'}]}}, u'followers_count': 33046, u'profile_sidebar_border_color': u'EEEEEE', u'id_str': u'30739842', u'profile_background_color': u'131516', u'listed_count': 585, u'is_translation_enabled': False, u'utc_offset': -28800, u'statuses_count': 47910, u'description': u\"Comic/Actor | The Dark Knight | Doctor Who | Arrow | Supernatural | Matt Hatter Chronicles|HuffPo|Foodie| My comedy album's TOP 25 on https://t.co/rrfO829laC\", u'friends_count': 4345, u'location': u'Vancouver', u'profile_link_color': u'009999', u'profile_image_url': u'http://pbs.twimg.com/profile_images/723660076368596992/fmNK3u_l_normal.jpg', u'following': False, u'geo_enabled': True, u'profile_banner_url': u'https://pbs.twimg.com/profile_banners/30739842/1484162300', u'profile_background_image_url': u'http://abs.twimg.com/images/themes/theme14/bg.gif', u'screen_name': u'MrTommyCampbell', u'lang': u'en', u'profile_background_tile': True, u'favourites_count': 122142, u'name': u'Tommy Campbell', u'notifications': False, u'url': u'https://t.co/UTuIm2JENa', u'created_at': u'Sun Apr 12 22:41:40 +0000 2009', u'contributors_enabled': False, u'time_zone': u'Pacific Time (US & Canada)', u'protected': False, u'default_profile': False, u'is_translator': False}, time_zone=u'Pacific Time (US & Canada)', id=30739842, description=u\"Comic/Actor | The Dark Knight | Doctor Who | Arrow | Supernatural | Matt Hatter Chronicles|HuffPo|Foodie| My comedy album's TOP 25 on https://t.co/rrfO829laC\", _api=<tweepy.api.API object at 0x106331d90>, verified=True, profile_text_color=u'333333', profile_image_url_https=u'https://pbs.twimg.com/profile_images/723660076368596992/fmNK3u_l_normal.jpg', profile_sidebar_fill_color=u'EFEFEF', is_translator=False, geo_enabled=True, entities={u'url': {u'urls': [{u'url': u'https://t.co/UTuIm2JENa', u'indices': [0, 23], u'expanded_url': u'http://www.tommycampbell.ca/', u'display_url': u'tommycampbell.ca'}]}, u'description': {u'urls': [{u'url': u'https://t.co/rrfO829laC', u'indices': [134, 157], u'expanded_url': u'https://itun.es/ca/tPxoeb', u'display_url': u'itun.es/ca/tPxoeb'}]}}, followers_count=33046, protected=False, id_str=u'30739842', default_profile_image=False, listed_count=585, lang=u'en', utc_offset=-28800, statuses_count=47910, profile_background_color=u'131516', friends_count=4345, profile_link_color=u'009999', profile_image_url=u'http://pbs.twimg.com/profile_images/723660076368596992/fmNK3u_l_normal.jpg', notifications=False, default_profile=False, profile_background_image_url_https=u'https://abs.twimg.com/images/themes/theme14/bg.gif', profile_banner_url=u'https://pbs.twimg.com/profile_banners/30739842/1484162300', profile_background_image_url=u'http://abs.twimg.com/images/themes/theme14/bg.gif', name=u'Tommy Campbell', is_translation_enabled=False, profile_background_tile=True, favourites_count=122142, screen_name=u'MrTommyCampbell', url=u'https://t.co/UTuIm2JENa', created_at=datetime.datetime(2009, 4, 12, 22, 41, 40), contributors_enabled=False, location=u'Vancouver', profile_sidebar_border_color=u'EEEEEE', translator_type=u'none', following=False), geo=None, in_reply_to_user_id_str=None, lang=u'en', created_at=datetime.datetime(2017, 2, 16, 18, 8, 9), in_reply_to_status_id_str=None, place=None, source=u'Twitter for iPhone', retweeted=False, metadata={u'iso_language_code': u'en', u'result_type': u'recent'}), source_url=u'http://twitter.com/download/android', user=User(follow_request_sent=False, has_extended_profile=True, profile_use_background_image=True, _json={u'follow_request_sent': False, u'has_extended_profile': True, u'profile_use_background_image': True, u'default_profile_image': False, u'id': 3176612439, u'profile_background_image_url_https': u'https://abs.twimg.com/images/themes/theme1/bg.png', u'verified': False, u'translator_type': u'none', u'profile_text_color': u'333333', u'profile_image_url_https': u'https://pbs.twimg.com/profile_images/817492202293182466/hi3RJMdC_normal.jpg', u'profile_sidebar_fill_color': u'DDEEF6', u'entities': {u'description': {u'urls': []}}, u'followers_count': 47, u'profile_sidebar_border_color': u'C0DEED', u'id_str': u'3176612439', u'profile_background_color': u'C0DEED', u'listed_count': 2, u'is_translation_enabled': False, u'utc_offset': None, u'statuses_count': 1940, u'description': u'Hardships make or break people. ~ Margaret Mitchell', u'friends_count': 151, u'location': u'East Tennessee', u'profile_link_color': u'1DA1F2', u'profile_image_url': u'http://pbs.twimg.com/profile_images/817492202293182466/hi3RJMdC_normal.jpg', u'following': False, u'geo_enabled': True, u'profile_banner_url': u'https://pbs.twimg.com/profile_banners/3176612439/1437265389', u'profile_background_image_url': u'http://abs.twimg.com/images/themes/theme1/bg.png', u'screen_name': u'BlazerJamia', u'lang': u'en', u'profile_background_tile': False, u'favourites_count': 1841, u'name': u'@BlazerJamia', u'notifications': False, u'url': None, u'created_at': u'Fri Apr 17 13:19:04 +0000 2015', u'contributors_enabled': False, u'time_zone': None, u'protected': False, u'default_profile': True, u'is_translator': False}, time_zone=None, id=3176612439, description=u'Hardships make or break people. ~ Margaret Mitchell', _api=<tweepy.api.API object at 0x106331d90>, verified=False, profile_text_color=u'333333', profile_image_url_https=u'https://pbs.twimg.com/profile_images/817492202293182466/hi3RJMdC_normal.jpg', profile_sidebar_fill_color=u'DDEEF6', is_translator=False, geo_enabled=True, entities={u'description': {u'urls': []}}, followers_count=47, protected=False, id_str=u'3176612439', default_profile_image=False, listed_count=2, lang=u'en', utc_offset=None, statuses_count=1940, profile_background_color=u'C0DEED', friends_count=151, profile_link_color=u'1DA1F2', profile_image_url=u'http://pbs.twimg.com/profile_images/817492202293182466/hi3RJMdC_normal.jpg', notifications=False, default_profile=True, profile_background_image_url_https=u'https://abs.twimg.com/images/themes/theme1/bg.png', profile_banner_url=u'https://pbs.twimg.com/profile_banners/3176612439/1437265389', profile_background_image_url=u'http://abs.twimg.com/images/themes/theme1/bg.png', name=u'@BlazerJamia', is_translation_enabled=False, profile_background_tile=False, favourites_count=1841, screen_name=u'BlazerJamia', url=None, created_at=datetime.datetime(2015, 4, 17, 13, 19, 4), contributors_enabled=False, location=u'East Tennessee', profile_sidebar_border_color=u'C0DEED', translator_type=u'none', following=False), geo=None, in_reply_to_user_id_str=None, lang=u'en', created_at=datetime.datetime(2017, 2, 16, 18, 19, 45), in_reply_to_status_id_str=None, place=None, source=u'Twitter for Android', retweeted=False, metadata={u'iso_language_code': u'en', u'result_type': u'recent'})\n"
     ]
    }
   ],
   "source": [
    "max_tweets=1\n",
    "\n",
    "#Tweepy Cursor handles pagination .. \n",
    "\n",
    "for tweet in tweepy.Cursor(api.search,q=\"ivanka\").items(max_tweets):\n",
    "    print(tweet)"
   ]
  },
  {
   "cell_type": "code",
   "execution_count": 23,
   "metadata": {
    "collapsed": false
   },
   "outputs": [],
   "source": [
    "results=[]\n",
    "\n",
    "\n",
    "for tweet in tweepy.Cursor(api.search,q=\"ivanka\").items(10):\n",
    "    results.append(tweet)"
   ]
  },
  {
   "cell_type": "markdown",
   "metadata": {},
   "source": [
    "#### Import tweets into Pandas"
   ]
  },
  {
   "cell_type": "code",
   "execution_count": 24,
   "metadata": {
    "collapsed": false
   },
   "outputs": [],
   "source": [
    "#  import pandas as pd\n",
    "def structure_results(results):\n",
    "    id_list=[tweet.id for tweet in results]\n",
    "    data=pd.DataFrame(id_list,columns=['id'])\n",
    "    \n",
    "    data[\"text\"]= [tweet.text.encode('utf-8') for tweet in results]\n",
    "    data[\"datetime\"]=[tweet.created_at for tweet in results]\n",
    "    data[\"Location\"]=[tweet.place for tweet in results]\n",
    "    \n",
    "    return data"
   ]
  },
  {
   "cell_type": "code",
   "execution_count": 25,
   "metadata": {
    "collapsed": false
   },
   "outputs": [
    {
     "data": {
      "text/html": [
       "<div>\n",
       "<table border=\"1\" class=\"dataframe\">\n",
       "  <thead>\n",
       "    <tr style=\"text-align: right;\">\n",
       "      <th></th>\n",
       "      <th>id</th>\n",
       "      <th>text</th>\n",
       "      <th>datetime</th>\n",
       "      <th>Location</th>\n",
       "    </tr>\n",
       "  </thead>\n",
       "  <tbody>\n",
       "    <tr>\n",
       "      <th>0</th>\n",
       "      <td>832293402612002820</td>\n",
       "      <td>RT @MrTommyCampbell: Donald Trump \"No Presiden...</td>\n",
       "      <td>2017-02-16 18:19:45</td>\n",
       "      <td>None</td>\n",
       "    </tr>\n",
       "    <tr>\n",
       "      <th>1</th>\n",
       "      <td>832293395997589504</td>\n",
       "      <td>RT @TroyCoby: Conway says Trump has her back a...</td>\n",
       "      <td>2017-02-16 18:19:43</td>\n",
       "      <td>None</td>\n",
       "    </tr>\n",
       "    <tr>\n",
       "      <th>2</th>\n",
       "      <td>832293387072131073</td>\n",
       "      <td>I guess Ivanka is going to make her fashion li...</td>\n",
       "      <td>2017-02-16 18:19:41</td>\n",
       "      <td>None</td>\n",
       "    </tr>\n",
       "    <tr>\n",
       "      <th>3</th>\n",
       "      <td>832293370278068224</td>\n",
       "      <td>RT @MaxSkyler1: @123myrodeo @POTUSTRUMP6 @real...</td>\n",
       "      <td>2017-02-16 18:19:37</td>\n",
       "      <td>None</td>\n",
       "    </tr>\n",
       "    <tr>\n",
       "      <th>4</th>\n",
       "      <td>832293366746329089</td>\n",
       "      <td>RT @BreitbartNews: Another genius move... http...</td>\n",
       "      <td>2017-02-16 18:19:36</td>\n",
       "      <td>None</td>\n",
       "    </tr>\n",
       "  </tbody>\n",
       "</table>\n",
       "</div>"
      ],
      "text/plain": [
       "                   id                                               text  \\\n",
       "0  832293402612002820  RT @MrTommyCampbell: Donald Trump \"No Presiden...   \n",
       "1  832293395997589504  RT @TroyCoby: Conway says Trump has her back a...   \n",
       "2  832293387072131073  I guess Ivanka is going to make her fashion li...   \n",
       "3  832293370278068224  RT @MaxSkyler1: @123myrodeo @POTUSTRUMP6 @real...   \n",
       "4  832293366746329089  RT @BreitbartNews: Another genius move... http...   \n",
       "\n",
       "             datetime Location  \n",
       "0 2017-02-16 18:19:45     None  \n",
       "1 2017-02-16 18:19:43     None  \n",
       "2 2017-02-16 18:19:41     None  \n",
       "3 2017-02-16 18:19:37     None  \n",
       "4 2017-02-16 18:19:36     None  "
      ]
     },
     "execution_count": 25,
     "metadata": {},
     "output_type": "execute_result"
    }
   ],
   "source": [
    "data=structure_results(results)\n",
    "data.head()"
   ]
  },
  {
   "cell_type": "markdown",
   "metadata": {},
   "source": [
    "#### Import Tweets into MongoDB\n",
    "\n",
    "Install mongo locally with brew:    \n",
    "```\n",
    "brew update    \n",
    "brew install mongodb\n",
    "```\n",
    "After downloading mongo, we want to create a place for mongo data files to live.  Run:    \n",
    "```\n",
    "sudo mkdir -p /data/db\n",
    "```\n",
    "Make sure that /data/db directory has the right permissions:\n",
    "\n",
    "```\n",
    "sudo chown `active_username` /data/db\n",
    "(enter password) \n",
    "```\n",
    "\n",
    "(username ~ is just mac username (you can double\n",
    "check this by running 'whoami' in the terminal)\n",
    "\n",
    "\n",
    "Run mongo daemon:\n",
    "```\n",
    "mongod\n",
    "```\n",
    "\n",
    "(In order to access direct mongo functionality, you can just\n",
    "run 'mongo' in a separate terminal)"
   ]
  },
  {
   "cell_type": "code",
   "execution_count": 32,
   "metadata": {
    "collapsed": false
   },
   "outputs": [],
   "source": [
    "import json\n",
    "from pymongo import MongoClient\n",
    "\n",
    "\n",
    "client = MongoClient()\n",
    "db = client.legislation\n",
    "tweets = db.news"
   ]
  },
  {
   "cell_type": "code",
   "execution_count": 33,
   "metadata": {
    "collapsed": false
   },
   "outputs": [],
   "source": [
    "for tweet in results:\n",
    "    data={}\n",
    "    data['tweet']=tweet.text.encode('utf-8') \n",
    "    data['datetime']=tweet.created_at\n",
    "    tweets.insert_one(data)"
   ]
  },
  {
   "cell_type": "code",
   "execution_count": 34,
   "metadata": {
    "collapsed": false
   },
   "outputs": [
    {
     "data": {
      "text/plain": [
       "{u'_id': ObjectId('58a5edea24b5a5ef350e7da8'),\n",
       " u'datetime': datetime.datetime(2017, 2, 16, 18, 19, 45),\n",
       " u'tweet': u'RT @MrTommyCampbell: Donald Trump \"No President\\'s done so much in so little time.\"\\n\\nYou mean:\\nLies\\nIvanka promos\\nRussian deals\\nKilling \\U0001f30e\\nHi\\u2026'}"
      ]
     },
     "execution_count": 34,
     "metadata": {},
     "output_type": "execute_result"
    }
   ],
   "source": [
    "tweets.find_one()"
   ]
  },
  {
   "cell_type": "code",
   "execution_count": null,
   "metadata": {
    "collapsed": true
   },
   "outputs": [],
   "source": []
  }
 ],
 "metadata": {
  "kernelspec": {
   "display_name": "Python 2",
   "language": "python",
   "name": "python2"
  },
  "language_info": {
   "codemirror_mode": {
    "name": "ipython",
    "version": 2
   },
   "file_extension": ".py",
   "mimetype": "text/x-python",
   "name": "python",
   "nbconvert_exporter": "python",
   "pygments_lexer": "ipython2",
   "version": "2.7.11"
  }
 },
 "nbformat": 4,
 "nbformat_minor": 0
}
