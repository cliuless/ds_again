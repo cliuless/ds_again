{
 "cells": [
  {
   "cell_type": "markdown",
   "metadata": {
    "slideshow": {
     "slide_type": "slide"
    }
   },
   "source": [
    "\n",
    "<h2><center><font color='black'>   Taking a Deep-Learning Dive with Keras </font></center></h2>\n",
    "\n",
    "<img src='imgs/Deep_Dive_Keras_1.jpg' align='middle'/>"
   ]
  },
  {
   "cell_type": "markdown",
   "metadata": {
    "slideshow": {
     "slide_type": "-"
    }
   },
   "source": [
    "<img src='imgs/neuron1.png' align='middle'/>"
   ]
  },
  {
   "cell_type": "markdown",
   "metadata": {
    "slideshow": {
     "slide_type": "slide"
    }
   },
   "source": [
    "\n",
    "<img src='imgs/linear1.png'/>\n",
    "\n",
    "[Credits: Andrej Karpathy, Conv Neural Net class ](http://cs231n.github.io/linear-classify/)\n"
   ]
  },
  {
   "cell_type": "markdown",
   "metadata": {},
   "source": [
    "<img src='imgs/linear_2_a.png'/>\n",
    "<img src='imgs/cats_a.png'/>"
   ]
  },
  {
   "cell_type": "markdown",
   "metadata": {
    "slideshow": {
     "slide_type": "slide"
    }
   },
   "source": [
    "\n",
    "\n",
    "<img src='imgs/linear2.png'/>\n",
    "\n",
    "\n",
    "$$ Softmax:   f_j(z)={{{e^{z_j}}\\above 1pt\\sum_k e^{z_k}}}$$\n",
    "\n",
    "$$ Cross Entropy:   L_i= -\\sum_j t_j log(f_j(z))$$      \n",
    "( Cross Entropy ~ Negative log probability for the right answer)\n"
   ]
  },
  {
   "cell_type": "markdown",
   "metadata": {},
   "source": [
    "<img src='imgs/linear3.png'/>"
   ]
  },
  {
   "cell_type": "markdown",
   "metadata": {},
   "source": [
    "<img src='imgs/linear4.png'/>"
   ]
  },
  {
   "cell_type": "markdown",
   "metadata": {
    "slideshow": {
     "slide_type": "slide"
    }
   },
   "source": [
    "<img src='imgs/mnist_wt.png' align='middle'/>"
   ]
  },
  {
   "cell_type": "markdown",
   "metadata": {
    "slideshow": {
     "slide_type": "slide"
    }
   },
   "source": [
    "<img src='imgs/xor.png' align='middle'/>"
   ]
  },
  {
   "cell_type": "markdown",
   "metadata": {
    "slideshow": {
     "slide_type": "slide"
    }
   },
   "source": [
    "<img src='imgs/xor2.png'/>"
   ]
  },
  {
   "cell_type": "markdown",
   "metadata": {},
   "source": [
    "<img src='imgs/convex.png'/>"
   ]
  },
  {
   "cell_type": "markdown",
   "metadata": {
    "slideshow": {
     "slide_type": "slide"
    }
   },
   "source": [
    "<img src='imgs/non_convex.png'/>"
   ]
  },
  {
   "cell_type": "markdown",
   "metadata": {
    "collapsed": true,
    "slideshow": {
     "slide_type": "slide"
    }
   },
   "source": [
    "<img src='imgs/backprop.png'/>\n",
    "Credits: [mattmazur](https://mattmazur.com/2015/03/17/a-step-by-step-backpropagation-example/)"
   ]
  },
  {
   "cell_type": "markdown",
   "metadata": {},
   "source": [
    "Let's focus on w5 how can we update this weight?\n",
    "\n",
    "$$net_{o1}= h_{1}*w_5 + h_2*w_6+b2$$  \n",
    "\n",
    "$$out_{o1}= {{1}\\above 1pt (1+e^{-net_{o1}})}$$\n",
    "\n",
    "$$E_{total}= 1/2(target-out)^2$$\n",
    "\n",
    "How do we calculate : $${dE_{total}\\above 1pt dw_5} ?$$ \n",
    "\n",
    "\n",
    "\n",
    "$${dE_{total}\\above 1pt dout_{o1}}=2*1/2(target_{o1}-out_{o1})$$\n",
    "\n",
    "$${dout_{o1}\\above 1pt dnet_{o1}}=out_{o1}*(1-out{o1})$$\n",
    "\n",
    "$${dnet_{o1}\\above 1pt dw_{5}}=h_{1}$$\n",
    "\n",
    "\n",
    "$${dE_{total}\\above 1pt dw_5} = {dE_{total}\\above 1pt dout_{o1}}{dout_{o1}\\above 1pt dnet_{o1}}{dnet_{o1}\\above 1pt dw_{5}}$$ "
   ]
  },
  {
   "cell_type": "markdown",
   "metadata": {
    "slideshow": {
     "slide_type": "slide"
    }
   },
   "source": [
    "<h1><center><font color='#F87217'> KERAS  </font></center></h1>\n",
    "\n",
    "<h4><center><font color='black'> High-Level Deep Learning Library for Theano & Tensorflow  </font></center></h4>\n",
    " \n"
   ]
  },
  {
   "cell_type": "markdown",
   "metadata": {
    "slideshow": {
     "slide_type": "subslide"
    }
   },
   "source": [
    "Keras was developed to allow for fast deep-learning prototyping through the use of: \n",
    " - user-friendliness\n",
    " - modularity\n",
    " - extensibility\n",
    " \n",
    "Keras via Theano vs Keras via Tensorflow ? \n",
    "  - Comparable performance (for now), but Tensorflow will quickly pull ahead\n",
    "  - We will start with Theano today  (launch your notebook via):\n",
    "  \n",
    " ```\n",
    " KERAS_BACKEND=theano jupyter notebook\n",
    " ```"
   ]
  },
  {
   "cell_type": "code",
   "execution_count": 1,
   "metadata": {},
   "outputs": [
    {
     "data": {
      "text/html": [
       "<style>.container { width:100% !important; }</style>"
      ],
      "text/plain": [
       "<IPython.core.display.HTML object>"
      ]
     },
     "metadata": {},
     "output_type": "display_data"
    }
   ],
   "source": [
    "from IPython.core.display import display, HTML\n",
    "display(HTML(\"<style>.container { width:100% !important; }</style>\"))"
   ]
  },
  {
   "cell_type": "code",
   "execution_count": 4,
   "metadata": {
    "collapsed": true,
    "slideshow": {
     "slide_type": "slide"
    }
   },
   "outputs": [],
   "source": [
    "import keras\n",
    "import keras.backend as K\n",
    "from keras.models import Sequential\n",
    "from keras.layers import Dense, Activation, Flatten, Input\n",
    "from keras.optimizers import SGD, RMSprop, Adam\n",
    "from keras.utils.vis_utils import model_to_dot, plot_model\n",
    "from keras.utils.np_utils import to_categorical\n",
    "\n",
    "from IPython.display import SVG\n",
    "import matplotlib.pyplot as plt\n",
    "import seaborn as sns\n",
    "%matplotlib inline\n",
    "\n",
    "import numpy as np\n",
    "import pandas as pd\n",
    "from sklearn import datasets\n",
    "from sklearn.model_selection import train_test_split\n",
    "from sklearn.preprocessing import LabelEncoder\n",
    "\n",
    "import sys"
   ]
  },
  {
   "cell_type": "code",
   "execution_count": 1,
   "metadata": {},
   "outputs": [
    {
     "name": "stderr",
     "output_type": "stream",
     "text": [
      "Using TensorFlow backend.\n"
     ]
    }
   ],
   "source": [
    "import keras\n",
    "keras.backend.set_image_data_format('channels_first')"
   ]
  },
  {
   "cell_type": "markdown",
   "metadata": {},
   "source": [
    "### Let's get some data"
   ]
  },
  {
   "cell_type": "code",
   "execution_count": 5,
   "metadata": {
    "collapsed": true,
    "slideshow": {
     "slide_type": "fragment"
    }
   },
   "outputs": [],
   "source": [
    "sns.set_style('white')\n",
    "\n",
    "iris=datasets.load_iris()\n",
    "X=iris.data\n",
    "y=iris.target\n",
    "\n",
    "data=pd.DataFrame(X)\n",
    "data['target']=y"
   ]
  },
  {
   "cell_type": "code",
   "execution_count": 6,
   "metadata": {
    "collapsed": true,
    "slideshow": {
     "slide_type": "skip"
    }
   },
   "outputs": [],
   "source": [
    "data['name']=data.target.astype('str').replace({'0':'setosa','1':'versicolor','2':'virginica'})"
   ]
  },
  {
   "cell_type": "code",
   "execution_count": 30,
   "metadata": {
    "slideshow": {
     "slide_type": "skip"
    }
   },
   "outputs": [
    {
     "data": {
      "text/plain": [
       "<matplotlib.figure.Figure at 0x12604e400>"
      ]
     },
     "metadata": {},
     "output_type": "display_data"
    },
    {
     "data": {
      "image/png": "[encoded data removed]",
      "text/plain": [
       "<matplotlib.figure.Figure at 0x126033ac8>"
      ]
     },
     "metadata": {},
     "output_type": "display_data"
    }
   ],
   "source": [
    "#ax=subplot(1,1,1)\n",
    "\n",
    "plt.figure(figsize=(10,7));\n",
    "ax=data.plot(kind='scatter',x=0,y=1,c='target',legend=False,figsize=(12,8),colormap=\"Purples_r\");\n",
    "plt.xlabel('sepal length')\n",
    "plt.ylabel('sepal width')\n",
    "plt.title('Iris Data');"
   ]
  },
  {
   "cell_type": "markdown",
   "metadata": {},
   "source": [
    "## `Keras` Models\n",
    "- The core objects in `Keras` are `Models` and `Layers`\n",
    "- `Models` set up the container for your network\n",
    "- `Layers` fill in the architecture (connections, unit types, activation functions, etc)\n",
    "- The 2 options for `Models`:\n",
    "  - `Sequential`: The basic one we'll focus on\n",
    "  - Function API: Specify complex uncommon models\n",
    "  \n",
    "### The Sequential Model\n",
    "- Allow you to stack all sorts of layers in your network\n",
    "- Canvas on which you paint your beautiful network!"
   ]
  },
  {
   "cell_type": "code",
   "execution_count": 8,
   "metadata": {
    "collapsed": true,
    "slideshow": {
     "slide_type": "slide"
    }
   },
   "outputs": [],
   "source": [
    "model=Sequential()  # Let's define our first Model.. \n",
    "model.add(Dense(units=3,input_dim=4))  # output: # classes,input: # of features\n",
    "model.add(Activation(\"softmax\"))"
   ]
  },
  {
   "cell_type": "code",
   "execution_count": 9,
   "metadata": {
    "slideshow": {
     "slide_type": "fragment"
    }
   },
   "outputs": [
    {
     "data": {
      "image/svg+xml": [
       "<svg height=\"215pt\" viewBox=\"0.00 0.00 300.56 215.00\" width=\"301pt\" xmlns=\"http://www.w3.org/2000/svg\" xmlns:xlink=\"http://www.w3.org/1999/xlink\">\n",
       "<g class=\"graph\" id=\"graph0\" transform=\"scale(1 1) rotate(0) translate(4 211)\">\n",
       "<title>G</title>\n",
       "<polygon fill=\"#ffffff\" points=\"-4,4 -4,-211 296.5557,-211 296.5557,4 -4,4\" stroke=\"transparent\"/>\n",
       "<!-- 4814854968 -->\n",
       "<g class=\"node\" id=\"node1\">\n",
       "<title>4814854968</title>\n",
       "<polygon fill=\"none\" points=\"0,-162.5 0,-206.5 292.5557,-206.5 292.5557,-162.5 0,-162.5\" stroke=\"#000000\"/>\n",
       "<text fill=\"#000000\" font-family=\"Times,serif\" font-size=\"14.00\" text-anchor=\"middle\" x=\"83.6191\" y=\"-180.3\">dense_1_input: InputLayer</text>\n",
       "<polyline fill=\"none\" points=\"167.2383,-162.5 167.2383,-206.5 \" stroke=\"#000000\"/>\n",
       "<text fill=\"#000000\" font-family=\"Times,serif\" font-size=\"14.00\" text-anchor=\"middle\" x=\"195.0728\" y=\"-191.3\">input:</text>\n",
       "<polyline fill=\"none\" points=\"167.2383,-184.5 222.9072,-184.5 \" stroke=\"#000000\"/>\n",
       "<text fill=\"#000000\" font-family=\"Times,serif\" font-size=\"14.00\" text-anchor=\"middle\" x=\"195.0728\" y=\"-169.3\">output:</text>\n",
       "<polyline fill=\"none\" points=\"222.9072,-162.5 222.9072,-206.5 \" stroke=\"#000000\"/>\n",
       "<text fill=\"#000000\" font-family=\"Times,serif\" font-size=\"14.00\" text-anchor=\"middle\" x=\"257.7314\" y=\"-191.3\">(None, 4)</text>\n",
       "<polyline fill=\"none\" points=\"222.9072,-184.5 292.5557,-184.5 \" stroke=\"#000000\"/>\n",
       "<text fill=\"#000000\" font-family=\"Times,serif\" font-size=\"14.00\" text-anchor=\"middle\" x=\"257.7314\" y=\"-169.3\">(None, 4)</text>\n",
       "</g>\n",
       "<!-- 4814855360 -->\n",
       "<g class=\"node\" id=\"node2\">\n",
       "<title>4814855360</title>\n",
       "<polygon fill=\"none\" points=\"31.4932,-81.5 31.4932,-125.5 261.0625,-125.5 261.0625,-81.5 31.4932,-81.5\" stroke=\"#000000\"/>\n",
       "<text fill=\"#000000\" font-family=\"Times,serif\" font-size=\"14.00\" text-anchor=\"middle\" x=\"83.6191\" y=\"-99.3\">dense_1: Dense</text>\n",
       "<polyline fill=\"none\" points=\"135.7451,-81.5 135.7451,-125.5 \" stroke=\"#000000\"/>\n",
       "<text fill=\"#000000\" font-family=\"Times,serif\" font-size=\"14.00\" text-anchor=\"middle\" x=\"163.5796\" y=\"-110.3\">input:</text>\n",
       "<polyline fill=\"none\" points=\"135.7451,-103.5 191.4141,-103.5 \" stroke=\"#000000\"/>\n",
       "<text fill=\"#000000\" font-family=\"Times,serif\" font-size=\"14.00\" text-anchor=\"middle\" x=\"163.5796\" y=\"-88.3\">output:</text>\n",
       "<polyline fill=\"none\" points=\"191.4141,-81.5 191.4141,-125.5 \" stroke=\"#000000\"/>\n",
       "<text fill=\"#000000\" font-family=\"Times,serif\" font-size=\"14.00\" text-anchor=\"middle\" x=\"226.2383\" y=\"-110.3\">(None, 4)</text>\n",
       "<polyline fill=\"none\" points=\"191.4141,-103.5 261.0625,-103.5 \" stroke=\"#000000\"/>\n",
       "<text fill=\"#000000\" font-family=\"Times,serif\" font-size=\"14.00\" text-anchor=\"middle\" x=\"226.2383\" y=\"-88.3\">(None, 3)</text>\n",
       "</g>\n",
       "<!-- 4814854968&#45;&gt;4814855360 -->\n",
       "<g class=\"edge\" id=\"edge1\">\n",
       "<title>4814854968-&gt;4814855360</title>\n",
       "<path d=\"M146.2778,-162.3664C146.2778,-154.1516 146.2778,-144.6579 146.2778,-135.7252\" fill=\"none\" stroke=\"#000000\"/>\n",
       "<polygon fill=\"#000000\" points=\"149.7779,-135.6068 146.2778,-125.6068 142.7779,-135.6069 149.7779,-135.6068\" stroke=\"#000000\"/>\n",
       "</g>\n",
       "<!-- 4814856088 -->\n",
       "<g class=\"node\" id=\"node3\">\n",
       "<title>4814856088</title>\n",
       "<polygon fill=\"none\" points=\"8.1587,-.5 8.1587,-44.5 284.397,-44.5 284.397,-.5 8.1587,-.5\" stroke=\"#000000\"/>\n",
       "<text fill=\"#000000\" font-family=\"Times,serif\" font-size=\"14.00\" text-anchor=\"middle\" x=\"83.6191\" y=\"-18.3\">activation_1: Activation</text>\n",
       "<polyline fill=\"none\" points=\"159.0796,-.5 159.0796,-44.5 \" stroke=\"#000000\"/>\n",
       "<text fill=\"#000000\" font-family=\"Times,serif\" font-size=\"14.00\" text-anchor=\"middle\" x=\"186.9141\" y=\"-29.3\">input:</text>\n",
       "<polyline fill=\"none\" points=\"159.0796,-22.5 214.7485,-22.5 \" stroke=\"#000000\"/>\n",
       "<text fill=\"#000000\" font-family=\"Times,serif\" font-size=\"14.00\" text-anchor=\"middle\" x=\"186.9141\" y=\"-7.3\">output:</text>\n",
       "<polyline fill=\"none\" points=\"214.7485,-.5 214.7485,-44.5 \" stroke=\"#000000\"/>\n",
       "<text fill=\"#000000\" font-family=\"Times,serif\" font-size=\"14.00\" text-anchor=\"middle\" x=\"249.5728\" y=\"-29.3\">(None, 3)</text>\n",
       "<polyline fill=\"none\" points=\"214.7485,-22.5 284.397,-22.5 \" stroke=\"#000000\"/>\n",
       "<text fill=\"#000000\" font-family=\"Times,serif\" font-size=\"14.00\" text-anchor=\"middle\" x=\"249.5728\" y=\"-7.3\">(None, 3)</text>\n",
       "</g>\n",
       "<!-- 4814855360&#45;&gt;4814856088 -->\n",
       "<g class=\"edge\" id=\"edge2\">\n",
       "<title>4814855360-&gt;4814856088</title>\n",
       "<path d=\"M146.2778,-81.3664C146.2778,-73.1516 146.2778,-63.6579 146.2778,-54.7252\" fill=\"none\" stroke=\"#000000\"/>\n",
       "<polygon fill=\"#000000\" points=\"149.7779,-54.6068 146.2778,-44.6068 142.7779,-54.6069 149.7779,-54.6068\" stroke=\"#000000\"/>\n",
       "</g>\n",
       "</g>\n",
       "</svg>"
      ],
      "text/plain": [
       "<IPython.core.display.SVG object>"
      ]
     },
     "execution_count": 9,
     "metadata": {},
     "output_type": "execute_result"
    }
   ],
   "source": [
    "SVG(model_to_dot(model,show_shapes=True).create(prog='dot',format='svg'))"
   ]
  },
  {
   "cell_type": "code",
   "execution_count": 10,
   "metadata": {},
   "outputs": [
    {
     "data": {
      "text/plain": [
       "array([[ 1.,  0.,  0.],\n",
       "       [ 1.,  0.,  0.],\n",
       "       [ 1.,  0.,  0.],\n",
       "       [ 1.,  0.,  0.],\n",
       "       [ 1.,  0.,  0.]])"
      ]
     },
     "execution_count": 10,
     "metadata": {},
     "output_type": "execute_result"
    }
   ],
   "source": [
    "# encode class values to integers ~ one hot encoder\n",
    "encoder=LabelEncoder()\n",
    "encoder.fit(y)\n",
    "enc_y=encoder.transform(y)\n",
    "one_hot_y=to_categorical(enc_y)\n",
    "one_hot_y[:5]"
   ]
  },
  {
   "cell_type": "code",
   "execution_count": 11,
   "metadata": {
    "slideshow": {
     "slide_type": "slide"
    }
   },
   "outputs": [
    {
     "name": "stdout",
     "output_type": "stream",
     "text": [
      "Train on 100 samples, validate on 50 samples\n",
      "Epoch 1/10\n",
      "100/100 [==============================] - 0s 2ms/step - loss: 5.4906 - acc: 0.3100 - val_loss: 4.9311 - val_acc: 0.3800\n",
      "Epoch 2/10\n",
      "100/100 [==============================] - 0s 216us/step - loss: 5.4033 - acc: 0.3100 - val_loss: 4.8539 - val_acc: 0.3800\n",
      "Epoch 3/10\n",
      "100/100 [==============================] - 0s 188us/step - loss: 5.3216 - acc: 0.3100 - val_loss: 4.7771 - val_acc: 0.3800\n",
      "Epoch 4/10\n",
      "100/100 [==============================] - 0s 170us/step - loss: 5.2374 - acc: 0.3100 - val_loss: 4.7025 - val_acc: 0.3800\n",
      "Epoch 5/10\n",
      "100/100 [==============================] - 0s 208us/step - loss: 5.1575 - acc: 0.3100 - val_loss: 4.6269 - val_acc: 0.3800\n",
      "Epoch 6/10\n",
      "100/100 [==============================] - 0s 176us/step - loss: 5.0791 - acc: 0.3100 - val_loss: 4.5520 - val_acc: 0.3800\n",
      "Epoch 7/10\n",
      "100/100 [==============================] - 0s 184us/step - loss: 4.9970 - acc: 0.3100 - val_loss: 4.4801 - val_acc: 0.3800\n",
      "Epoch 8/10\n",
      "100/100 [==============================] - 0s 172us/step - loss: 4.9174 - acc: 0.3100 - val_loss: 4.4087 - val_acc: 0.3800\n",
      "Epoch 9/10\n",
      "100/100 [==============================] - 0s 145us/step - loss: 4.8404 - acc: 0.3100 - val_loss: 4.3370 - val_acc: 0.3800\n",
      "Epoch 10/10\n",
      "100/100 [==============================] - 0s 226us/step - loss: 4.7639 - acc: 0.3100 - val_loss: 4.2666 - val_acc: 0.3800\n"
     ]
    },
    {
     "data": {
      "text/plain": [
       "<keras.callbacks.History at 0x1228b6e80>"
      ]
     },
     "execution_count": 11,
     "metadata": {},
     "output_type": "execute_result"
    }
   ],
   "source": [
    "np.random.seed(123)  # reproducibility \n",
    "\n",
    "X_train, X_test, y_train, y_test = train_test_split(X, one_hot_y, test_size=0.33, random_state=42)\n",
    "\n",
    "model.compile(loss='categorical_crossentropy',optimizer='adam',metrics=['accuracy'])\n",
    "model.fit(X_train,y_train,epochs=10,validation_data=(X_test,y_test),batch_size=32)"
   ]
  },
  {
   "cell_type": "markdown",
   "metadata": {
    "slideshow": {
     "slide_type": "slide"
    }
   },
   "source": [
    "###  So wait, what did we just do ?\n"
   ]
  },
  {
   "cell_type": "markdown",
   "metadata": {},
   "source": [
    "### Let's try it again..\n",
    "\n",
    "But first : let's do a quick install\n",
    "https://github.com/fchollet/hualos\n",
    "\n",
    "& run the app:\n",
    "\n",
    "```\n",
    "python api.py\n",
    "```"
   ]
  },
  {
   "cell_type": "code",
   "execution_count": 32,
   "metadata": {
    "collapsed": true,
    "slideshow": {
     "slide_type": "slide"
    }
   },
   "outputs": [],
   "source": [
    "model=Sequential()   # take two! \n",
    "model.add(Dense(units=64,input_dim=4))  # Note: we are making our network wider,\n",
    "model.add(Activation(\"relu\"))\n",
    "model.add(Dense(units=32)) # We are making our network longer :)\n",
    "model.add(Activation(\"relu\"))\n",
    "model.add(Dense(units=3))\n",
    "model.add(Activation(\"softmax\"))"
   ]
  },
  {
   "cell_type": "code",
   "execution_count": 33,
   "metadata": {
    "slideshow": {
     "slide_type": "slide"
    }
   },
   "outputs": [
    {
     "name": "stdout",
     "output_type": "stream",
     "text": [
      "Train on 100 samples, validate on 50 samples\n",
      "Epoch 1/10\n",
      "100/100 [==============================] - 1s 6ms/step - loss: 1.0566 - acc: 0.3500 - val_loss: 0.9981 - val_acc: 0.3200\n",
      "Epoch 2/10\n",
      "100/100 [==============================] - 0s 362us/step - loss: 0.9793 - acc: 0.3400 - val_loss: 0.9595 - val_acc: 0.3800\n",
      "Epoch 3/10\n",
      "100/100 [==============================] - 0s 317us/step - loss: 0.9568 - acc: 0.3800 - val_loss: 0.9170 - val_acc: 0.5400\n",
      "Epoch 4/10\n",
      "100/100 [==============================] - 0s 295us/step - loss: 0.9095 - acc: 0.5700 - val_loss: 0.8734 - val_acc: 0.7600\n",
      "Epoch 5/10\n",
      "100/100 [==============================] - 0s 333us/step - loss: 0.8782 - acc: 0.7100 - val_loss: 0.8486 - val_acc: 0.8200\n",
      "Epoch 6/10\n",
      "100/100 [==============================] - 0s 287us/step - loss: 0.8422 - acc: 0.8300 - val_loss: 0.8048 - val_acc: 0.9600\n",
      "Epoch 7/10\n",
      "100/100 [==============================] - 0s 261us/step - loss: 0.8018 - acc: 0.9600 - val_loss: 0.7560 - val_acc: 0.9800\n",
      "Epoch 8/10\n",
      "100/100 [==============================] - 0s 295us/step - loss: 0.7655 - acc: 0.9200 - val_loss: 0.7132 - val_acc: 0.8600\n",
      "Epoch 9/10\n",
      "100/100 [==============================] - 0s 327us/step - loss: 0.7365 - acc: 0.6900 - val_loss: 0.6825 - val_acc: 0.7000\n",
      "Epoch 10/10\n",
      "100/100 [==============================] - 0s 373us/step - loss: 0.7085 - acc: 0.6700 - val_loss: 0.6519 - val_acc: 0.8400\n"
     ]
    },
    {
     "data": {
      "text/plain": [
       "<keras.callbacks.History at 0x125febc50>"
      ]
     },
     "execution_count": 33,
     "metadata": {},
     "output_type": "execute_result"
    }
   ],
   "source": [
    "np.random.seed(123)\n",
    "model.compile(loss='categorical_crossentropy',optimizer='adam',metrics=['accuracy'])\n",
    "\n",
    "   \n",
    "\n",
    "model.fit(X_train,y_train,epochs=10,validation_data=(X_test,y_test),batch_size=32,callbacks=[cb_a,cb_b])"
   ]
  },
  {
   "cell_type": "markdown",
   "metadata": {
    "slideshow": {
     "slide_type": "subslide"
    }
   },
   "source": [
    "###  What can be gained by making the network wider & deeper?   \n",
    "\n",
    " -  A sufficiently wide neural net can approximate any reasonable function\n",
    " -  A deep network can be quite good at generalization\n",
    " \n",
    " <img src='imgs/VGG.png'/>"
   ]
  },
  {
   "cell_type": "markdown",
   "metadata": {},
   "source": [
    "##  Code-Along\n",
    "#### Objective: \n",
    "- Continue working with the Iris dataset, build another model that improves the accuracy further.\n",
    "- Experiment with differnt [optimizers!](https://keras.io/optimizers/)\n",
    "- Try to get > .95 accuracy."
   ]
  },
  {
   "cell_type": "markdown",
   "metadata": {},
   "source": [
    "\n",
    "## A word about optimization: \n",
    "Keras will perform parameter updates via the optimization on a batch by batch basis.\n",
    "\n",
    "**SGD**: Learning rate is constant (default setting)   \n",
    "\n",
    "- we can set decay: to develop a time-based **decay**\n",
    "\n",
    "- **Nesterov** = True\n",
    "\n",
    "- we can set **momentum:**  some fraction of the previous update is added to the current update, so that repeated updates in a particular direction compound (allows us to move faster in some direction)\n",
    "\n",
    "\n",
    "\n",
    "\n",
    "\n",
    "- **Adagrad**:  Weights that receive smaller or less frequent updates will have an increased learning rate (more frequently updated parameters will receive a smaller learning rate increase)    \n",
    "\n",
    "- **Adam (Adaptive Moment Estimation): Adagrad + Momentum **    "
   ]
  },
  {
   "cell_type": "markdown",
   "metadata": {
    "collapsed": true
   },
   "source": [
    "[all things optimizers](http://ruder.io/optimizing-gradient-descent/)"
   ]
  },
  {
   "cell_type": "markdown",
   "metadata": {
    "collapsed": true
   },
   "source": [
    "[learn from your loss functions](http://cs231n.github.io/neural-networks-3/#loss)"
   ]
  },
  {
   "cell_type": "code",
   "execution_count": null,
   "metadata": {
    "collapsed": true
   },
   "outputs": [],
   "source": []
  }
 ],
 "metadata": {
  "celltoolbar": "Raw Cell Format",
  "kernelspec": {
   "display_name": "Python 3",
   "language": "python",
   "name": "python3"
  },
  "language_info": {
   "codemirror_mode": {
    "name": "ipython",
    "version": 3
   },
   "file_extension": ".py",
   "mimetype": "text/x-python",
   "name": "python",
   "nbconvert_exporter": "python",
   "pygments_lexer": "ipython3",
   "version": "3.6.1"
  }
 },
 "nbformat": 4,
 "nbformat_minor": 2
}
