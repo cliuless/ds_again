{
 "cells": [
  {
   "cell_type": "markdown",
   "metadata": {},
   "source": [
    "To get the maximum score, we need to assign 26 to the most frequent letter, 25 to the next, etc. So what we want is the frequency count per letter. Then we can sort and assign values.\n",
    "\n",
    "First we clean the text: convert to lower case and remove everything but alphabets.\n",
    "\n",
    "Then we put the characters into a dictonary, to do the counts. We retrive the values into a list and sort it."
   ]
  },
  {
   "cell_type": "code",
   "execution_count": 3,
   "metadata": {
    "ExecuteTime": {
     "end_time": "2017-01-05T16:02:34.220648",
     "start_time": "2017-01-05T16:02:34.207857"
    },
    "collapsed": false
   },
   "outputs": [],
   "source": [
    "# Python 2 & 3 Compatibility\n",
    "from __future__ import print_function, division\n",
    "\n",
    "from collections import defaultdict\n",
    "import re\n",
    "from collections import Counter\n",
    "\n",
    "def getScore(text):\n",
    "    text = text.lower()\n",
    "    text = re.sub(\"[^a-z]\", \"\", text)\n",
    "    d = defaultdict(int)\n",
    "    for c in text:\n",
    "        d[c]+=1\n",
    "    counts = sorted([v for k,v in d.items()],reverse=True)\n",
    "    return sum([(26-i)*counts[i] for i in range(len(counts))])"
   ]
  },
  {
   "cell_type": "code",
   "execution_count": 4,
   "metadata": {
    "ExecuteTime": {
     "end_time": "2017-01-05T16:02:47.720572",
     "start_time": "2017-01-05T16:02:47.713889"
    },
    "collapsed": false
   },
   "outputs": [
    {
     "name": "stdout",
     "output_type": "stream",
     "text": [
      "754\n",
      "491\n"
     ]
    }
   ],
   "source": [
    "print(getScore('Good luck in the Facebook Hacker Cup this year!'))\n",
    "print(getScore('Ignore punctuation, please :)'))"
   ]
  },
  {
   "cell_type": "markdown",
   "metadata": {},
   "source": [
    "Instead of dealing with indices and doing (26-i), which isn't that clear, we could built a score list going backwards from 26 to 1 and zip it with the sorted frequency list. Makes for a more readable code."
   ]
  },
  {
   "cell_type": "code",
   "execution_count": 5,
   "metadata": {
    "ExecuteTime": {
     "end_time": "2017-01-05T16:03:03.030678",
     "start_time": "2017-01-05T16:03:03.019840"
    },
    "collapsed": true
   },
   "outputs": [],
   "source": [
    "def getScore(text):\n",
    "    text = text.lower()\n",
    "    text = re.sub(\"[^a-z]\", \"\", text)\n",
    "    d = defaultdict(int)\n",
    "    for c in text:\n",
    "        d[c]+=1\n",
    "    counts = sorted([v for k,v in d.items()],reverse=True)\n",
    "    scores = range(26,0,-1)\n",
    "    return sum([i*j for i,j in zip(counts,scores)])"
   ]
  },
  {
   "cell_type": "code",
   "execution_count": 6,
   "metadata": {
    "ExecuteTime": {
     "end_time": "2017-01-05T16:03:11.823772",
     "start_time": "2017-01-05T16:03:11.816177"
    },
    "collapsed": false
   },
   "outputs": [
    {
     "name": "stdout",
     "output_type": "stream",
     "text": [
      "754\n",
      "491\n"
     ]
    }
   ],
   "source": [
    "print(getScore('Good luck in the Facebook Hacker Cup this year!'))\n",
    "print(getScore('Ignore punctuation, please :)'))"
   ]
  },
  {
   "cell_type": "markdown",
   "metadata": {},
   "source": [
    "Python also has a nifty Counter that would do the dictionary building for us. And it comes with a most_common() function that will gives is the sorted frequency list that we want."
   ]
  },
  {
   "cell_type": "code",
   "execution_count": 7,
   "metadata": {
    "ExecuteTime": {
     "end_time": "2017-01-05T16:03:21.286006",
     "start_time": "2017-01-05T16:03:21.279082"
    },
    "collapsed": true
   },
   "outputs": [],
   "source": [
    "def getScore(text):\n",
    "    text = text.lower()\n",
    "    text = re.sub(\"[^a-z]\", \"\", text)\n",
    "    counts = Counter(text).most_common()\n",
    "    return sum([(26-i)*counts[i][1] for i in range(len(counts))])"
   ]
  },
  {
   "cell_type": "code",
   "execution_count": 8,
   "metadata": {
    "ExecuteTime": {
     "end_time": "2017-01-05T16:03:29.406396",
     "start_time": "2017-01-05T16:03:29.399233"
    },
    "collapsed": false
   },
   "outputs": [
    {
     "name": "stdout",
     "output_type": "stream",
     "text": [
      "754\n",
      "491\n"
     ]
    }
   ],
   "source": [
    "print(getScore('Good luck in the Facebook Hacker Cup this year!'))\n",
    "print(getScore('Ignore punctuation, please :)'))"
   ]
  }
 ],
 "metadata": {
  "anaconda-cloud": {},
  "kernelspec": {
   "display_name": "Python [conda env:scienv3]",
   "language": "python",
   "name": "conda-env-scienv3-py"
  },
  "language_info": {
   "codemirror_mode": {
    "name": "ipython",
    "version": 3
   },
   "file_extension": ".py",
   "mimetype": "text/x-python",
   "name": "python",
   "nbconvert_exporter": "python",
   "pygments_lexer": "ipython3",
   "version": "3.5.2"
  }
 },
 "nbformat": 4,
 "nbformat_minor": 0
}
