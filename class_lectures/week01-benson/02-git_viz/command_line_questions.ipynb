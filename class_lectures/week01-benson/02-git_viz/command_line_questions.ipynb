{
 "cells": [
  {
   "cell_type": "markdown",
   "metadata": {},
   "source": [
    "###  Unix Command Line Q/A "
   ]
  },
  {
   "cell_type": "markdown",
   "metadata": {},
   "source": [
    "1) Why do we need to be familiar with the Unix Command Line?"
   ]
  },
  {
   "cell_type": "markdown",
   "metadata": {},
   "source": [
    "#### A little background\n",
    "\n",
    "Unix is a reference to any computer operating systems that derives from the orginal, *unix operating system* \n",
    "from the 70s-- Including Mac os! \n",
    "\n",
    "Mac OS is a Unix-based OS\n",
    "\n",
    "Unix command line allows us to interact with our computers, -- via the shell     \n",
    "\n",
    "2) What the name of the shell you are currently working with? \n",
    "\n",
    "We will run bash shell through the terminal (the terminal is a container for bash, \n",
    "will accept input and will display output)\n",
    "\n",
    "\n",
    "\n"
   ]
  },
  {
   "cell_type": "markdown",
   "metadata": {},
   "source": [
    "##### Unix Directory Structure: \n",
    "\n",
    "Unix-based filesystems will have a (mostly) common shared directory structure.  It should look something like the following:  \n",
    "<img src=\"img/unix_fs.jpg\"/>\n",
    "3) How do we navigate to root ? "
   ]
  },
  {
   "cell_type": "markdown",
   "metadata": {},
   "source": [
    "\n",
    "#### The `bin` directory\n",
    "Contains binaries for running many of the commands that you'll type at the command line.  When you type a command, the `/bin` directory is one of the main places that the operating system will search to know what you're asking it to do.  If it finds a matching **executable** (a runnable program matching the command name given), then it will run that.\n",
    "\n",
    "#### The `etc` directory\n",
    "Various configuration files etc (:laughing:), we won't worry about this too much right now.\n",
    "\n",
    "#### The `lib` directory\n",
    "System libraries and other essentials that the system needs to run various programs under the hood.\n",
    "\n",
    "#### The `tmp` directory\n",
    "Where temporary files that may be needed during running programs will/can be stored.\n",
    "\n",
    "#### The `usr` directory\n",
    "A secondary directory for user-specific libraries and executables.  The `bin` and `lib` directories are global (for all users).  The `usr` directory will have similar such directories within it which are specific to a given user on a system.  Obviously, this is important on systems that will be shared by multiple users.\n",
    "\n",
    "#### Your home directory\n",
    "Your home directory is your home base in a Unix system.  On a Mac, your home directory is at /Users/<username>, whereas on Linux it is located at /home/<username>."
   ]
  },
  {
   "cell_type": "markdown",
   "metadata": {},
   "source": [
    "4) How do we move into our home directory?  \n",
    "\n",
    "5) How do we find the absolute path of our home directory?  \n",
    "\n",
    "6) How do I list all the files in my current directory?    \n",
    "\n",
    "7) How can I simultaneously list all files and view the permissions of the files? \n",
    "\n",
    "Note : there are two ( optionally three things that are required for running commands in the command line):\n",
    "\n",
    "- the command (ex: ls)  \n",
    "- the argument (ex: directory)   \n",
    "- optional flags: (ex: -la)   "
   ]
  },
  {
   "cell_type": "markdown",
   "metadata": {},
   "source": [
    "8) How do I learn more about a command ? \n",
    "\n",
    "9) How do I move a file? \n",
    "\n",
    "10) How do I copy a file? \n",
    "\n",
    "11) How can I view the first few lines of a file? \n",
    "\n",
    "12) How can I see where python is installed?"
   ]
  },
  {
   "cell_type": "code",
   "execution_count": null,
   "metadata": {
    "collapsed": true
   },
   "outputs": [],
   "source": []
  }
 ],
 "metadata": {
  "kernelspec": {
   "display_name": "Python 3",
   "language": "python",
   "name": "python3"
  },
  "language_info": {
   "codemirror_mode": {
    "name": "ipython",
    "version": 3
   },
   "file_extension": ".py",
   "mimetype": "text/x-python",
   "name": "python",
   "nbconvert_exporter": "python",
   "pygments_lexer": "ipython3",
   "version": "3.5.3"
  }
 },
 "nbformat": 4,
 "nbformat_minor": 2
}
