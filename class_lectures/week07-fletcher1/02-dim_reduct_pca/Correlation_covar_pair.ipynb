{
 "cells": [
  {
   "cell_type": "markdown",
   "metadata": {},
   "source": [
    "text = [\"wookie stormtrooper\",\n",
    "        \"wookie wookie wookie stormtrooper stormtrooper stormtrooper\",\n",
    "        \"harry potter\"]\n",
    "Transform this data into a bag of words representation, with simple counts. How informative is this format? How much information do you have about individual words?\n",
    "Calculate Euclidean and cosine distances between each pair of documents. How do these distances relate to your intuition for the documents' similarities?\n",
    "Calculate one minus the cosine distance between each pair of de-meaned documents, and the Pearson correlation coefficient between each pair of documents. How are they related? Is this a coincidence? Find a counterexample or prove that there isn't one.\n"
   ]
  },
  {
   "cell_type": "code",
   "execution_count": 11,
   "metadata": {
    "collapsed": true
   },
   "outputs": [],
   "source": [
    "from sklearn.feature_extraction.text import CountVectorizer\n",
    "import pandas as pd"
   ]
  },
  {
   "cell_type": "code",
   "execution_count": 12,
   "metadata": {
    "collapsed": true
   },
   "outputs": [],
   "source": [
    "text = [\"wookie stormtrooper\",\n",
    "        \"wookie wookie wookie stormtrooper stormtrooper stormtrooper\",\n",
    "        \"harry potter\"]"
   ]
  },
  {
   "cell_type": "code",
   "execution_count": 13,
   "metadata": {
    "collapsed": true
   },
   "outputs": [],
   "source": [
    "vectorizer=CountVectorizer()\n",
    "vectorizer.fit(text)\n",
    "data=vectorizer.fit_transform(text)"
   ]
  },
  {
   "cell_type": "code",
   "execution_count": 14,
   "metadata": {
    "collapsed": true
   },
   "outputs": [],
   "source": [
    "cols=vectorizer.get_feature_names()\n",
    "#cols"
   ]
  },
  {
   "cell_type": "code",
   "execution_count": 15,
   "metadata": {},
   "outputs": [
    {
     "data": {
      "text/html": [
       "<div>\n",
       "<table border=\"1\" class=\"dataframe\">\n",
       "  <thead>\n",
       "    <tr style=\"text-align: right;\">\n",
       "      <th></th>\n",
       "      <th>harry</th>\n",
       "      <th>potter</th>\n",
       "      <th>stormtrooper</th>\n",
       "      <th>wookie</th>\n",
       "    </tr>\n",
       "  </thead>\n",
       "  <tbody>\n",
       "    <tr>\n",
       "      <th>0</th>\n",
       "      <td>0</td>\n",
       "      <td>0</td>\n",
       "      <td>1</td>\n",
       "      <td>1</td>\n",
       "    </tr>\n",
       "    <tr>\n",
       "      <th>1</th>\n",
       "      <td>0</td>\n",
       "      <td>0</td>\n",
       "      <td>3</td>\n",
       "      <td>3</td>\n",
       "    </tr>\n",
       "    <tr>\n",
       "      <th>2</th>\n",
       "      <td>1</td>\n",
       "      <td>1</td>\n",
       "      <td>0</td>\n",
       "      <td>0</td>\n",
       "    </tr>\n",
       "  </tbody>\n",
       "</table>\n",
       "</div>"
      ],
      "text/plain": [
       "   harry  potter  stormtrooper  wookie\n",
       "0      0       0             1       1\n",
       "1      0       0             3       3\n",
       "2      1       1             0       0"
      ]
     },
     "execution_count": 15,
     "metadata": {},
     "output_type": "execute_result"
    }
   ],
   "source": [
    "df=pd.DataFrame(data.toarray(),columns=cols)\n",
    "df.head()"
   ]
  },
  {
   "cell_type": "code",
   "execution_count": 16,
   "metadata": {
    "collapsed": true
   },
   "outputs": [],
   "source": [
    "import numpy as np\n",
    "# Euclidean distance\n",
    "def euclidean(x1,x2):\n",
    "    data=zip(x1,x2)\n",
    "    dist=np.sqrt(sum([(d[0]-d[1])**2 for d in data]))\n",
    "    return dist"
   ]
  },
  {
   "cell_type": "code",
   "execution_count": 17,
   "metadata": {},
   "outputs": [
    {
     "data": {
      "text/html": [
       "<div>\n",
       "<table border=\"1\" class=\"dataframe\">\n",
       "  <thead>\n",
       "    <tr style=\"text-align: right;\">\n",
       "      <th></th>\n",
       "      <th>harry</th>\n",
       "      <th>potter</th>\n",
       "      <th>stormtrooper</th>\n",
       "      <th>wookie</th>\n",
       "    </tr>\n",
       "  </thead>\n",
       "  <tbody>\n",
       "    <tr>\n",
       "      <th>0</th>\n",
       "      <td>0</td>\n",
       "      <td>0</td>\n",
       "      <td>1</td>\n",
       "      <td>1</td>\n",
       "    </tr>\n",
       "    <tr>\n",
       "      <th>1</th>\n",
       "      <td>0</td>\n",
       "      <td>0</td>\n",
       "      <td>3</td>\n",
       "      <td>3</td>\n",
       "    </tr>\n",
       "    <tr>\n",
       "      <th>2</th>\n",
       "      <td>1</td>\n",
       "      <td>1</td>\n",
       "      <td>0</td>\n",
       "      <td>0</td>\n",
       "    </tr>\n",
       "  </tbody>\n",
       "</table>\n",
       "</div>"
      ],
      "text/plain": [
       "   harry  potter  stormtrooper  wookie\n",
       "0      0       0             1       1\n",
       "1      0       0             3       3\n",
       "2      1       1             0       0"
      ]
     },
     "execution_count": 17,
     "metadata": {},
     "output_type": "execute_result"
    }
   ],
   "source": [
    "df.head()"
   ]
  },
  {
   "cell_type": "code",
   "execution_count": 18,
   "metadata": {},
   "outputs": [
    {
     "name": "stdout",
     "output_type": "stream",
     "text": [
      "\n",
      "\n",
      "for row 0\n",
      "2.82842712475\n",
      "2.0\n",
      "\n",
      "\n",
      "for row 1\n",
      "2.82842712475\n",
      "4.472135955\n",
      "\n",
      "\n",
      "for row 2\n",
      "2.0\n",
      "4.472135955\n"
     ]
    }
   ],
   "source": [
    "for i in range(len(df)):\n",
    "    print('\\n')\n",
    "    print('for row %i')%i\n",
    "    for j in range(len(df)):\n",
    "        if i!=j:\n",
    "            print(euclidean(df.iloc[i],df.iloc[j]))"
   ]
  },
  {
   "cell_type": "code",
   "execution_count": 38,
   "metadata": {},
   "outputs": [
    {
     "name": "stdout",
     "output_type": "stream",
     "text": [
      "euclidean\n",
      "[[ 0.          2.82842712  2.        ]\n",
      " [ 2.82842712  0.          4.47213595]\n",
      " [ 2.          4.47213595  0.        ]]\n",
      "\n",
      "\n",
      "cosine\n",
      "[[ 0.  0.  1.]\n",
      " [ 0.  0.  1.]\n",
      " [ 1.  1.  0.]]\n"
     ]
    }
   ],
   "source": [
    "from sklearn.metrics.pairwise import pairwise_distances\n",
    "print('euclidean')\n",
    "print(pairwise_distances(df, metric='euclidean'))\n",
    "print('\\n')\n",
    "print('cosine')\n",
    "print(pairwise_distances(df, metric='cosine'))"
   ]
  },
  {
   "cell_type": "code",
   "execution_count": 39,
   "metadata": {
    "collapsed": true
   },
   "outputs": [],
   "source": [
    "# For euclidean: 'Distance' based on 'counts' (as opposed to words)"
   ]
  },
  {
   "cell_type": "code",
   "execution_count": 21,
   "metadata": {
    "collapsed": true
   },
   "outputs": [],
   "source": [
    "# Cos distance\n",
    "def cosine(x1,x2):\n",
    "    num=np.dot(x1,x2)\n",
    "    # calculate magnitude of each vector\n",
    "    den_x1=np.sqrt(np.sum([a**2 for a in x1]))\n",
    "    den_x2=np.sqrt(np.sum([b**2 for b in x2]))\n",
    "    cos=num/(den_x1*den_x2)\n",
    "    return cos"
   ]
  },
  {
   "cell_type": "code",
   "execution_count": 22,
   "metadata": {},
   "outputs": [
    {
     "data": {
      "text/html": [
       "<div>\n",
       "<table border=\"1\" class=\"dataframe\">\n",
       "  <thead>\n",
       "    <tr style=\"text-align: right;\">\n",
       "      <th></th>\n",
       "      <th>harry</th>\n",
       "      <th>potter</th>\n",
       "      <th>stormtrooper</th>\n",
       "      <th>wookie</th>\n",
       "    </tr>\n",
       "  </thead>\n",
       "  <tbody>\n",
       "    <tr>\n",
       "      <th>0</th>\n",
       "      <td>0</td>\n",
       "      <td>0</td>\n",
       "      <td>1</td>\n",
       "      <td>1</td>\n",
       "    </tr>\n",
       "    <tr>\n",
       "      <th>1</th>\n",
       "      <td>0</td>\n",
       "      <td>0</td>\n",
       "      <td>3</td>\n",
       "      <td>3</td>\n",
       "    </tr>\n",
       "    <tr>\n",
       "      <th>2</th>\n",
       "      <td>1</td>\n",
       "      <td>1</td>\n",
       "      <td>0</td>\n",
       "      <td>0</td>\n",
       "    </tr>\n",
       "  </tbody>\n",
       "</table>\n",
       "</div>"
      ],
      "text/plain": [
       "   harry  potter  stormtrooper  wookie\n",
       "0      0       0             1       1\n",
       "1      0       0             3       3\n",
       "2      1       1             0       0"
      ]
     },
     "execution_count": 22,
     "metadata": {},
     "output_type": "execute_result"
    }
   ],
   "source": [
    "df.head()"
   ]
  },
  {
   "cell_type": "code",
   "execution_count": 23,
   "metadata": {},
   "outputs": [
    {
     "name": "stdout",
     "output_type": "stream",
     "text": [
      "\n",
      "\n",
      "for row 0\n",
      "1.0\n",
      "0.0\n",
      "\n",
      "\n",
      "for row 1\n",
      "1.0\n",
      "0.0\n",
      "\n",
      "\n",
      "for row 2\n",
      "0.0\n",
      "0.0\n"
     ]
    }
   ],
   "source": [
    "for i in range(len(df)):\n",
    "    print('\\n')\n",
    "    print('for row %i')%i\n",
    "    for j in range(len(df)):\n",
    "        if i!=j:\n",
    "            print(cosine(df.iloc[i],df.iloc[j]))\n",
    "            \n",
    "# cos sim : for row 0 :  row 1 is perfectly similar and row 2 is\n",
    "# exactly different ..\n",
    "# really interested in orientation of our vector"
   ]
  },
  {
   "cell_type": "code",
   "execution_count": null,
   "metadata": {
    "collapsed": true
   },
   "outputs": [],
   "source": []
  },
  {
   "cell_type": "code",
   "execution_count": 24,
   "metadata": {
    "collapsed": true
   },
   "outputs": [],
   "source": [
    "# Cos distance\n",
    "def cosine_dist(x1,x2):\n",
    "    num=np.dot(x1,x2)\n",
    "    den_x1=np.sqrt(np.sum([a**2 for a in x1]))\n",
    "    den_x2=np.sqrt(np.sum([b**2 for b in x2]))\n",
    "    cos_dist=1- num/(den_x1*den_x2)\n",
    "    return cos_dist"
   ]
  },
  {
   "cell_type": "code",
   "execution_count": 25,
   "metadata": {},
   "outputs": [
    {
     "name": "stdout",
     "output_type": "stream",
     "text": [
      "\n",
      "\n",
      "for row 0\n",
      "0.0\n",
      "1.0\n",
      "\n",
      "\n",
      "for row 1\n",
      "0.0\n",
      "1.0\n",
      "\n",
      "\n",
      "for row 2\n",
      "1.0\n",
      "1.0\n"
     ]
    }
   ],
   "source": [
    "for i in range(len(df)):\n",
    "    print('\\n')\n",
    "    print('for row %i')%i\n",
    "    for j in range(len(df)):\n",
    "        if i!=j:\n",
    "            print(cosine_dist(df.iloc[i],df.iloc[j]))\n",
    "    "
   ]
  },
  {
   "cell_type": "code",
   "execution_count": 26,
   "metadata": {},
   "outputs": [
    {
     "data": {
      "text/plain": [
       "array([[ 0.,  0.,  1.],\n",
       "       [ 0.,  0.,  1.],\n",
       "       [ 1.,  1.,  0.]])"
      ]
     },
     "execution_count": 26,
     "metadata": {},
     "output_type": "execute_result"
    }
   ],
   "source": [
    "from sklearn.metrics.pairwise import pairwise_distances\n",
    "dist=pairwise_distances(df,metric='cosine').round(2)\n",
    "dist"
   ]
  },
  {
   "cell_type": "code",
   "execution_count": 27,
   "metadata": {},
   "outputs": [
    {
     "data": {
      "text/html": [
       "<div>\n",
       "<table border=\"1\" class=\"dataframe\">\n",
       "  <thead>\n",
       "    <tr style=\"text-align: right;\">\n",
       "      <th></th>\n",
       "      <th>harry</th>\n",
       "      <th>potter</th>\n",
       "      <th>stormtrooper</th>\n",
       "      <th>wookie</th>\n",
       "    </tr>\n",
       "  </thead>\n",
       "  <tbody>\n",
       "    <tr>\n",
       "      <th>0</th>\n",
       "      <td>0</td>\n",
       "      <td>0</td>\n",
       "      <td>1</td>\n",
       "      <td>1</td>\n",
       "    </tr>\n",
       "    <tr>\n",
       "      <th>1</th>\n",
       "      <td>0</td>\n",
       "      <td>0</td>\n",
       "      <td>3</td>\n",
       "      <td>3</td>\n",
       "    </tr>\n",
       "    <tr>\n",
       "      <th>2</th>\n",
       "      <td>1</td>\n",
       "      <td>1</td>\n",
       "      <td>0</td>\n",
       "      <td>0</td>\n",
       "    </tr>\n",
       "  </tbody>\n",
       "</table>\n",
       "</div>"
      ],
      "text/plain": [
       "   harry  potter  stormtrooper  wookie\n",
       "0      0       0             1       1\n",
       "1      0       0             3       3\n",
       "2      1       1             0       0"
      ]
     },
     "execution_count": 27,
     "metadata": {},
     "output_type": "execute_result"
    }
   ],
   "source": [
    "df.head()"
   ]
  },
  {
   "cell_type": "code",
   "execution_count": 28,
   "metadata": {},
   "outputs": [
    {
     "data": {
      "text/plain": [
       "0    0.5\n",
       "1    1.5\n",
       "2    0.5\n",
       "dtype: float64"
      ]
     },
     "execution_count": 28,
     "metadata": {},
     "output_type": "execute_result"
    }
   ],
   "source": [
    "# Pearsons\n",
    "df.mean(axis=1)"
   ]
  },
  {
   "cell_type": "code",
   "execution_count": 29,
   "metadata": {},
   "outputs": [
    {
     "data": {
      "text/html": [
       "<div>\n",
       "<table border=\"1\" class=\"dataframe\">\n",
       "  <thead>\n",
       "    <tr style=\"text-align: right;\">\n",
       "      <th></th>\n",
       "      <th>harry</th>\n",
       "      <th>potter</th>\n",
       "      <th>stormtrooper</th>\n",
       "      <th>wookie</th>\n",
       "    </tr>\n",
       "  </thead>\n",
       "  <tbody>\n",
       "    <tr>\n",
       "      <th>0</th>\n",
       "      <td>-0.5</td>\n",
       "      <td>-0.5</td>\n",
       "      <td>0.5</td>\n",
       "      <td>0.5</td>\n",
       "    </tr>\n",
       "    <tr>\n",
       "      <th>1</th>\n",
       "      <td>-1.5</td>\n",
       "      <td>-1.5</td>\n",
       "      <td>1.5</td>\n",
       "      <td>1.5</td>\n",
       "    </tr>\n",
       "    <tr>\n",
       "      <th>2</th>\n",
       "      <td>0.5</td>\n",
       "      <td>0.5</td>\n",
       "      <td>-0.5</td>\n",
       "      <td>-0.5</td>\n",
       "    </tr>\n",
       "  </tbody>\n",
       "</table>\n",
       "</div>"
      ],
      "text/plain": [
       "   harry  potter  stormtrooper  wookie\n",
       "0   -0.5    -0.5           0.5     0.5\n",
       "1   -1.5    -1.5           1.5     1.5\n",
       "2    0.5     0.5          -0.5    -0.5"
      ]
     },
     "execution_count": 29,
     "metadata": {},
     "output_type": "execute_result"
    }
   ],
   "source": [
    "centered= df.sub(df.mean(axis=1), axis=0)\n",
    "centered.head()"
   ]
  },
  {
   "cell_type": "code",
   "execution_count": 30,
   "metadata": {
    "collapsed": true
   },
   "outputs": [],
   "source": [
    "# How similar (taking into account typical row counts)"
   ]
  },
  {
   "cell_type": "code",
   "execution_count": 31,
   "metadata": {},
   "outputs": [
    {
     "name": "stdout",
     "output_type": "stream",
     "text": [
      "\n",
      "\n",
      "for row 0\n",
      "1.0\n",
      "-1.0\n",
      "\n",
      "\n",
      "for row 1\n",
      "1.0\n",
      "-1.0\n",
      "\n",
      "\n",
      "for row 2\n",
      "-1.0\n",
      "-1.0\n"
     ]
    }
   ],
   "source": [
    "# Pearsons:\n",
    "for i in range(len(df)):\n",
    "    print('\\n')\n",
    "    print('for row %i')%i\n",
    "    for j in range(len(centered)):\n",
    "        if i!=j:\n",
    "            print(cosine(centered.iloc[i],centered.iloc[j]))"
   ]
  },
  {
   "cell_type": "code",
   "execution_count": 32,
   "metadata": {},
   "outputs": [
    {
     "data": {
      "text/plain": [
       "array([[ 1.,  1., -1.],\n",
       "       [ 1.,  1., -1.],\n",
       "       [-1., -1.,  1.]])"
      ]
     },
     "execution_count": 32,
     "metadata": {},
     "output_type": "execute_result"
    }
   ],
   "source": [
    "# Check if: numpy's pearson's coefficient? \n",
    "np.corrcoef(df)"
   ]
  },
  {
   "cell_type": "markdown",
   "metadata": {},
   "source": [
    "Pair Problem #2\n",
    "\n",
    "Imagine a data matrix with three rows and two columns. Each row represents an observation, and each column represents a feature. (This is our usual convention.)\n",
    "\n",
    "Imagine subtracting out the column means.\n",
    "\n",
    "Imagine multiplying the transpose of this matrix by itself.\n",
    "\n",
    "Don't just imagine it—write this out!\n",
    "\n",
    "What familiar calculation is this? What result have you produced?"
   ]
  },
  {
   "cell_type": "code",
   "execution_count": 4,
   "metadata": {
    "collapsed": true
   },
   "outputs": [],
   "source": [
    "import pandas as pd\n",
    "import numpy as np"
   ]
  },
  {
   "cell_type": "code",
   "execution_count": 5,
   "metadata": {},
   "outputs": [
    {
     "data": {
      "text/plain": [
       "a    28.666667\n",
       "p    52.000000\n",
       "dtype: float64"
      ]
     },
     "execution_count": 5,
     "metadata": {},
     "output_type": "execute_result"
    }
   ],
   "source": [
    "data=pd.DataFrame({'a':[23,28,35],'p':[35,53,68]})\n",
    "means=np.mean(data)\n",
    "means"
   ]
  },
  {
   "cell_type": "code",
   "execution_count": 6,
   "metadata": {},
   "outputs": [
    {
     "data": {
      "text/html": [
       "<div>\n",
       "<style>\n",
       "    .dataframe thead tr:only-child th {\n",
       "        text-align: right;\n",
       "    }\n",
       "\n",
       "    .dataframe thead th {\n",
       "        text-align: left;\n",
       "    }\n",
       "\n",
       "    .dataframe tbody tr th {\n",
       "        vertical-align: top;\n",
       "    }\n",
       "</style>\n",
       "<table border=\"1\" class=\"dataframe\">\n",
       "  <thead>\n",
       "    <tr style=\"text-align: right;\">\n",
       "      <th></th>\n",
       "      <th>a</th>\n",
       "      <th>p</th>\n",
       "    </tr>\n",
       "  </thead>\n",
       "  <tbody>\n",
       "    <tr>\n",
       "      <th>0</th>\n",
       "      <td>-5.666667</td>\n",
       "      <td>-17.0</td>\n",
       "    </tr>\n",
       "    <tr>\n",
       "      <th>1</th>\n",
       "      <td>-0.666667</td>\n",
       "      <td>1.0</td>\n",
       "    </tr>\n",
       "    <tr>\n",
       "      <th>2</th>\n",
       "      <td>6.333333</td>\n",
       "      <td>16.0</td>\n",
       "    </tr>\n",
       "  </tbody>\n",
       "</table>\n",
       "</div>"
      ],
      "text/plain": [
       "          a     p\n",
       "0 -5.666667 -17.0\n",
       "1 -0.666667   1.0\n",
       "2  6.333333  16.0"
      ]
     },
     "execution_count": 6,
     "metadata": {},
     "output_type": "execute_result"
    }
   ],
   "source": [
    "zero_dt=data-means\n",
    "zero_dt.head()"
   ]
  },
  {
   "cell_type": "code",
   "execution_count": 7,
   "metadata": {},
   "outputs": [
    {
     "data": {
      "text/plain": [
       "array([[  72.66666667,  197.        ],\n",
       "       [ 197.        ,  546.        ]])"
      ]
     },
     "execution_count": 7,
     "metadata": {},
     "output_type": "execute_result"
    }
   ],
   "source": [
    "# covariance matrix\n",
    "corr=np.dot(np.transpose(zero_dt),zero_dt)\n",
    "corr"
   ]
  },
  {
   "cell_type": "code",
   "execution_count": null,
   "metadata": {
    "collapsed": true
   },
   "outputs": [],
   "source": [
    "\n",
    "\n"
   ]
  }
 ],
 "metadata": {
  "kernelspec": {
   "display_name": "Python 3",
   "language": "python",
   "name": "python3"
  },
  "language_info": {
   "codemirror_mode": {
    "name": "ipython",
    "version": 3
   },
   "file_extension": ".py",
   "mimetype": "text/x-python",
   "name": "python",
   "nbconvert_exporter": "python",
   "pygments_lexer": "ipython3",
   "version": "3.6.1"
  }
 },
 "nbformat": 4,
 "nbformat_minor": 2
}
