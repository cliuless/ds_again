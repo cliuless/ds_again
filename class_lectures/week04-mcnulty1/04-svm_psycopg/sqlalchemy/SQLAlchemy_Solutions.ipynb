{
 "cells": [
  {
   "cell_type": "markdown",
   "metadata": {},
   "source": [
    "# SQLAlchemy\n",
    "\n",
    "ExxonMobil, 11/6/2017"
   ]
  },
  {
   "cell_type": "markdown",
   "metadata": {},
   "source": [
    "#### Exercise #1: Query with Engine \n",
    "\n",
    "Using either engine.execute() or pd.read_sql_query format, query the \n",
    "player table from the soccer data to determine how many players weigh over 170 lbs.\n",
    "\n",
    "[data ref](# https://www.kaggle.com/hugomathien/soccer)"
   ]
  },
  {
   "cell_type": "code",
   "execution_count": 9,
   "metadata": {},
   "outputs": [
    {
     "name": "stdout",
     "output_type": "stream",
     "text": [
      "option 1\n",
      "     CT\n",
      "0  4706\n",
      "\n",
      "\n",
      "option 2\n",
      "(4706,)\n"
     ]
    }
   ],
   "source": [
    "# # Solutions\n",
    "\n",
    "# option 1: Query via pandas\n",
    "print('option 1')\n",
    "print(pd.read_sql_query('''SELECT count(*) as CT FROM player where\n",
    "weight  > 170 ''',engine))\n",
    "\n",
    "# option 2: Query  via engine.execute\n",
    "result=engine.execute('SELECT count(*) as CT FROM player where weight> 170')\n",
    "print('\\n')\n",
    "print('option 2')\n",
    "print(result.fetchone())\n",
    "\n",
    "\n",
    "# option 3: leverage Pandas! \n",
    "# we can also use pandas to query!\n",
    "df=pd.read_sql_query('''SELECT * FROM player ''',engine) \n",
    "query=df[df.weight>170]\n",
    "\n",
    "#print(len(query))\n",
    "\n"
   ]
  },
  {
   "cell_type": "markdown",
   "metadata": {},
   "source": [
    "#### Exercise #2  Create Table w/ MetaData:  \n"
   ]
  },
  {
   "cell_type": "code",
   "execution_count": 24,
   "metadata": {},
   "outputs": [
    {
     "data": {
      "text/plain": [
       "[{'autoincrement': 'auto',\n",
       "  'default': None,\n",
       "  'name': 'client_id',\n",
       "  'nullable': False,\n",
       "  'primary_key': 1,\n",
       "  'type': INTEGER()},\n",
       " {'autoincrement': 'auto',\n",
       "  'default': None,\n",
       "  'name': 'name',\n",
       "  'nullable': False,\n",
       "  'primary_key': 0,\n",
       "  'type': VARCHAR(length=100)},\n",
       " {'autoincrement': 'auto',\n",
       "  'default': None,\n",
       "  'name': 'address',\n",
       "  'nullable': False,\n",
       "  'primary_key': 0,\n",
       "  'type': VARCHAR(length=100)},\n",
       " {'autoincrement': 'auto',\n",
       "  'default': None,\n",
       "  'name': 'owner',\n",
       "  'nullable': True,\n",
       "  'primary_key': 0,\n",
       "  'type': INTEGER()}]"
      ]
     },
     "execution_count": 24,
     "metadata": {},
     "output_type": "execute_result"
    }
   ],
   "source": [
    "\n",
    "#solutions\n",
    "client_table=Table(\"client\",metadata,\n",
    "                   Column(\"client_id\",Integer, primary_key=True),\n",
    "                   Column(\"name\",String(100), nullable=False),\n",
    "                   Column(\"address\",String(100), nullable=False),\n",
    "                   Column(\"owner\",Integer,ForeignKey('user.id')))\n",
    "\n",
    "client_table.create(engine)\n",
    "\n",
    "inspector.get_columns('client')\n"
   ]
  },
  {
   "cell_type": "markdown",
   "metadata": {},
   "source": [
    "#### Exercise #3:  Create Classes with the ORM\n",
    "\n"
   ]
  },
  {
   "cell_type": "code",
   "execution_count": null,
   "metadata": {
    "collapsed": true
   },
   "outputs": [],
   "source": [
    "\n",
    "# solutions: \n",
    "Base = declarative_base()\n",
    "\n",
    "class User(Base):\n",
    "    __tablename__='user'\n",
    "    id = Column(Integer, primary_key=True)\n",
    "    first_name=Column(String)\n",
    "    last_name=Column(String)\n",
    "    addresses = relationship(\"Address\", backref=\"user\")\n",
    "\n",
    "\n",
    "class Address(Base):\n",
    "    __tablename__='address'\n",
    "    id = Column(Integer, primary_key=True)\n",
    "    email=Column(String(100),nullable = False) \n",
    "    user_id = Column(Integer, ForeignKey('user.id'),primary_key=True)\n",
    "   \n",
    "\n",
    "\n",
    "    "
   ]
  },
  {
   "cell_type": "code",
   "execution_count": null,
   "metadata": {
    "collapsed": true
   },
   "outputs": [],
   "source": []
  }
 ],
 "metadata": {
  "kernelspec": {
   "display_name": "Python 2",
   "language": "python",
   "name": "python2"
  },
  "language_info": {
   "codemirror_mode": {
    "name": "ipython",
    "version": 2
   },
   "file_extension": ".py",
   "mimetype": "text/x-python",
   "name": "python",
   "nbconvert_exporter": "python",
   "pygments_lexer": "ipython2",
   "version": "2.7.12"
  }
 },
 "nbformat": 4,
 "nbformat_minor": 2
}
