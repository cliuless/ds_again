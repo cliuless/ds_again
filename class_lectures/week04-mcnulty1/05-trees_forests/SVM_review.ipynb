{
 "cells": [
  {
   "cell_type": "markdown",
   "metadata": {},
   "source": [
    "Maximal Margin classifier: \n",
    "\n",
    "- Hyperplane: affine subspace of p-1. \n",
    "(2 dims: line,  3 dims: a plane) \n",
    "\n",
    "In 2 dims:    \n",
    "\n",
    "$$  \\beta_0 + \\beta_1x1 + \\beta_2x2 =0 $$   \n",
    "\n",
    "(We see that the above is just an equation for a line!)\n",
    "\n",
    "<img src='img/dec_bound.png'/>  \n",
    "\n",
    "If X ~ (X1,X2) satifies eqn 1, then X lies on the hyperplane\n",
    "\n"
   ]
  },
  {
   "cell_type": "markdown",
   "metadata": {},
   "source": [
    "If: \n",
    "$$  \\beta_0 + \\beta_1x1 + \\beta_2x2 < 0 $$ \n",
    "\n",
    "Then X lies on the left side of the hyperplane.\n",
    "\n",
    "**Think of the hyperplane as dividing our p-dimensional space into \n",
    "2 halves**  \n",
    "\n",
    "\n",
    "\n",
    "\n",
    "\n",
    "\n",
    "\n",
    "\n",
    "\n"
   ]
  },
  {
   "cell_type": "markdown",
   "metadata": {},
   "source": [
    "Of course we can extend this idea to many more dimensions:\n",
    "    $$  \\beta_0 + \\beta_1x1 + \\beta_2x2  ...  + \\beta_pxp  = ? $$ "
   ]
  },
  {
   "cell_type": "code",
   "execution_count": 3,
   "metadata": {},
   "outputs": [
    {
     "data": {
      "image/png": "[encoded data removed]",
      "text/plain": [
       "<matplotlib.figure.Figure at 0x1103a3128>"
      ]
     },
     "metadata": {},
     "output_type": "display_data"
    }
   ],
   "source": [
    "%matplotlib inline\n",
    "import numpy as np\n",
    "\n",
    "import matplotlib.pyplot as plt\n",
    "from sklearn.linear_model import LinearRegression\n",
    "\n",
    "\n",
    "# determine a line\n",
    "\n",
    "def diagnostic_plot(x, y):\n",
    "    plt.figure(figsize=(8,10))\n",
    "    \n",
    "    rgr = LinearRegression()\n",
    "    rgr.fit(x.reshape(s,1),y)\n",
    "    pred = rgr.predict(x.reshape(s,1))\n",
    "\n",
    "    plt.subplot(1, 1, 1)\n",
    "    plt.scatter(x,y)\n",
    "    plt.plot(x, pred, color='blue',linewidth=1)\n",
    "    plt.title(\"Regression fit\")\n",
    "    plt.xlabel(\"x\")\n",
    "    plt.ylabel(\"y\")\n",
    "    \n",
    "# Generate some data\n",
    "s = 30\n",
    "x = np.random.uniform(low=-5, high=5, size=s)\n",
    "\n",
    "ep = 2*np.random.randn(s)\n",
    "beta = 2\n",
    "y = beta*x + ep\n",
    "\n",
    "diagnostic_plot(x, y)"
   ]
  },
  {
   "cell_type": "markdown",
   "metadata": {},
   "source": [
    "Our goal: develop a classifier baed on the training data \n",
    "    that will correctly classify the test observation using their \n",
    "    features\n",
    "    \n",
    "Suppose it is possible to construct a hyperplane that seperates \n",
    "training observations perfectly according to class labels. \n",
    "    \n",
    "<img src='img/lin_sep.png'/>  \n",
    "\n",
    "\n",
    "if y =1 :\n",
    "$$  \\beta_0 + \\beta_1x1 + \\beta_2x2  ...  + \\beta_pxp > 0  $$\n",
    "\n",
    "if y = -1 :\n",
    "$$  \\beta_0 + \\beta_1x1 + \\beta_2x2  ...  + \\beta_pxp < 0  $$"
   ]
  },
  {
   "cell_type": "markdown",
   "metadata": {},
   "source": [
    "If our data is linear separable --> there are still an infinite # of such hyperplanes.\n",
    "\n",
    "**Maximal Margin Hyperplane**\n",
    "The Hyperplane that maximizes the distance between training examples (of opposite classes) \n",
    "\n",
    "-> Compute the perpendicular distance from each training obs to a given \n",
    "separating hyperplane\n",
    "\n",
    "* Our hope: Large margin on training  ~ large margin on the test data\n",
    "\n",
    "* Beta_0, Beta_1 .. are the coeff. of the this max margin hyperplane, \n",
    "We want to find the weight vector (w), and the beta that corresponds to \n",
    "this hyperplane (given some test data).  We can simply classify the\n",
    "test sample by what side of the hyperplane it lands on!\n",
    "\n"
   ]
  },
  {
   "cell_type": "markdown",
   "metadata": {},
   "source": [
    "<img src='img/supports.png'/> \n",
    "\n",
    "Here we have 3 support vectors (why these 3?)\n",
    "\n",
    "Note: the hyperplane is dependent on these vectors (and not the other data) .. lets come back to this thought. "
   ]
  },
  {
   "cell_type": "markdown",
   "metadata": {},
   "source": [
    "Lets solve for the hyperplane given our n training examples: \n",
    "\n",
    "$$  y_i(\\beta_0 + \\beta_1x_{i1} + \\beta_2x{i2}  ...  + \\beta_px{ip}) >= M  $$ \n",
    "\n",
    "for all i  = 1,2.. n\n",
    "\n",
    "where:\n",
    "\n",
    "\n",
    "(ensuring that we maintain some distance M from the hyperplane)    \n",
    "\n",
    "with:\n",
    "$$ w = {\\beta_1, \\beta_2,  ...  , \\beta_p}$$\n",
    "$$ x = {x1, x2  ... xp}$$\n",
    "$$b = \\beta_0$$\n",
    "\n",
    "For now let M = 1\n",
    " \n",
    "##### For our support vectors: \n",
    "\n",
    "$$ w\\cdot{{x_+}} + b = +1 $$\n",
    "$$ w\\cdot{{x_-}} + b = -1 $$\n",
    "\n",
    "\n",
    "$$ (w\\cdot{{x_+}}) -(w\\cdot{{x_-}})= 2 $$\n",
    "\n",
    "$$width =({x}_{+}-{x}_{-})\\cdot{{\\vec{w}\\above 1pt\\|w\\|}}={{2\\above 1pt\\|w\\|}}$$\n",
    "\n",
    "Find the maximum of: \n",
    "$$2\\above 1pt\\|w\\|$$\n",
    "\n",
    "**i.e. find the min. of: **\n",
    "\n",
    "$$ {{1/2*\\|w\\|^2}}$$\n",
    "\n",
    " s.t. \n",
    "$$y_i(w.x_i+b) = 1 $$ \n",
    "\n"
   ]
  },
  {
   "cell_type": "markdown",
   "metadata": {},
   "source": [
    "##### Lagrange Multipliers:\n",
    "This is constrained optimization problem, then we'll use a technique called: Lagrange Multipliers. \n",
    "Regarranging the above  inserting our Lagrange Mulipliers (alpha) we have:\n",
    "\n",
    "######  Our cost function :\n",
    "\n",
    "  $$ L=  1/2{{\\|w\\|}^2} - \\sum \\alpha_i[(y_i(\\vec{w}\\cdot{x_i} +b)-1] $$\n",
    "  \n",
    "  \n",
    "We can solve for w,b & alphas to obtain a unique maximal margin solution:\n",
    "\n",
    "$$\\vec{w} = \\sum \\alpha_i(y_i{x_i})$$\n",
    "\n",
    "dL/db:\n",
    "$$  \\sum \\alpha_i(y_i)=0$$\n",
    "\n",
    "**Note:**\n",
    "The points that lie on the edges of the margin are the support vectors."
   ]
  },
  {
   "cell_type": "markdown",
   "metadata": {},
   "source": [
    "#### The Non-seperable Case :  'Soft' Margin\n",
    "\n",
    "<img src='img/soft.png'/> \n"
   ]
  },
  {
   "cell_type": "markdown",
   "metadata": {},
   "source": [
    "**Idea**: \n",
    "- It could be beneficial to misclassify some observations on our training set, in order to perform better on test data\n",
    "\n",
    "- Allow: some observations to be on the incorrect side of the margin\n",
    "and even on the incorrect side of the hyperplane "
   ]
  },
  {
   "cell_type": "markdown",
   "metadata": {},
   "source": [
    "<img src='img/slack.png'/> \n",
    "\n",
    "** Soft Margin Loss Function **\n",
    "\n",
    "$$ L=  (1/2{{\\|w\\|}^2} + C\\sum\\zeta) - \\sum \\alpha_i[(y_i(\\vec{w}\\cdot{x_i} +b)-1 +\\zeta] - \\sum \\beta\\zeta $$ "
   ]
  },
  {
   "cell_type": "markdown",
   "metadata": {},
   "source": [
    "**Lastly: **\n",
    "\n",
    "[Scaling](http://scikit-learn.org/stable/modules/generated/sklearn.preprocessing.MinMaxScaler.html)\n"
   ]
  },
  {
   "cell_type": "code",
   "execution_count": null,
   "metadata": {
    "collapsed": true
   },
   "outputs": [],
   "source": []
  }
 ],
 "metadata": {
  "kernelspec": {
   "display_name": "Python 3",
   "language": "python",
   "name": "python3"
  },
  "language_info": {
   "codemirror_mode": {
    "name": "ipython",
    "version": 3
   },
   "file_extension": ".py",
   "mimetype": "text/x-python",
   "name": "python",
   "nbconvert_exporter": "python",
   "pygments_lexer": "ipython3",
   "version": "3.6.1"
  }
 },
 "nbformat": 4,
 "nbformat_minor": 2
}
