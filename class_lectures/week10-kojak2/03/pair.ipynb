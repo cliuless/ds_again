{
 "cells": [
  {
   "cell_type": "code",
   "execution_count": 1,
   "metadata": {
    "collapsed": false
   },
   "outputs": [],
   "source": [
    "import numpy as np"
   ]
  },
  {
   "cell_type": "code",
   "execution_count": 2,
   "metadata": {
    "collapsed": true
   },
   "outputs": [],
   "source": [
    "def myPerm(n,r):\n",
    "    if r==1:\n",
    "        return [[i] for i in range(n)]\n",
    "    l2 = []\n",
    "    for i in range(n):\n",
    "        l = myPerm(n,r-1)\n",
    "        l2.extend([[i]+e for e in l])\n",
    "    return l2"
   ]
  },
  {
   "cell_type": "code",
   "execution_count": 3,
   "metadata": {
    "collapsed": false
   },
   "outputs": [],
   "source": [
    "def minTime(c,s,e):\n",
    "    p = myPerm(len(c),len(c)-2)\n",
    "    mt = sum([sum(v) for v in c])\n",
    "    for l in p:\n",
    "        l = [s]+l+[e]\n",
    "        t = sum([c[l[i]][l[i+1]] for i in range(len(l)-1)])\n",
    "        if t<mt:\n",
    "            mt=t\n",
    "    return mt"
   ]
  },
  {
   "cell_type": "code",
   "execution_count": 4,
   "metadata": {
    "collapsed": true
   },
   "outputs": [],
   "source": [
    "c = [[0,9,1,9,9,9],[9,0,9,1,9,9],[1,9,0,9,1,9],[9,1,9,0,9,1],[9,9,1,9,0,1],[9,9,9,1,1,0]]"
   ]
  },
  {
   "cell_type": "code",
   "execution_count": 5,
   "metadata": {
    "collapsed": false
   },
   "outputs": [
    {
     "data": {
      "text/plain": [
       "5"
      ]
     },
     "execution_count": 5,
     "metadata": {},
     "output_type": "execute_result"
    }
   ],
   "source": [
    "minTime(c,0,1)"
   ]
  },
  {
   "cell_type": "code",
   "execution_count": 6,
   "metadata": {
    "collapsed": true
   },
   "outputs": [],
   "source": [
    "def myMatMultiply(mat1,mat2):\n",
    "    mat2 = np.array(mat2).transpose()\n",
    "    p = [min([a+b for a,b in zip(mat1[i],mat2[j])]) for i in range(len(mat1)) for j in range(len(mat2))]\n",
    "    return np.array(p).reshape(len(mat1),len(mat2))"
   ]
  },
  {
   "cell_type": "code",
   "execution_count": 7,
   "metadata": {
    "collapsed": true
   },
   "outputs": [],
   "source": [
    "def minTime2(c,s,e):\n",
    "    p = c\n",
    "    for i in range(len(c)-2):\n",
    "        p = myMatMultiply(p,c)\n",
    "    return p[s][e]"
   ]
  },
  {
   "cell_type": "code",
   "execution_count": 8,
   "metadata": {
    "collapsed": false
   },
   "outputs": [
    {
     "data": {
      "text/plain": [
       "5"
      ]
     },
     "execution_count": 8,
     "metadata": {},
     "output_type": "execute_result"
    }
   ],
   "source": [
    "minTime2(c,0,1)"
   ]
  }
 ],
 "metadata": {
  "kernelspec": {
   "display_name": "Python 2",
   "language": "python",
   "name": "python2"
  },
  "language_info": {
   "codemirror_mode": {
    "name": "ipython",
    "version": 2
   },
   "file_extension": ".py",
   "mimetype": "text/x-python",
   "name": "python",
   "nbconvert_exporter": "python",
   "pygments_lexer": "ipython2",
   "version": "2.7.13"
  }
 },
 "nbformat": 4,
 "nbformat_minor": 0
}
